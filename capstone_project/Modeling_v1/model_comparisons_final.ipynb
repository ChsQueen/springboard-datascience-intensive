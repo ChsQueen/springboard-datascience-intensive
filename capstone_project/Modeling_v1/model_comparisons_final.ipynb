{
 "cells": [
  {
   "cell_type": "markdown",
   "metadata": {},
   "source": [
    "# Final Comparison of Different Classification Algorithms\n",
    "\n",
    "We have already explored various algorithms and found optimum hyper parameters before. In this note book, we choose the best of the best, i.e. we load all the algorithms (with optimum hyper parameters) and compare them based on croass validated scores. As a sanity check, we also predict results on the test data using all the finalized models and plot the ROC and PR curves together. "
   ]
  },
  {
   "cell_type": "markdown",
   "metadata": {},
   "source": [
    "## Loading modules"
   ]
  },
  {
   "cell_type": "code",
   "execution_count": 1,
   "metadata": {},
   "outputs": [
    {
     "name": "stdout",
     "output_type": "stream",
     "text": [
      "Populating the interactive namespace from numpy and matplotlib\n"
     ]
    }
   ],
   "source": [
    "import pandas as pd\n",
    "import numpy as np\n",
    "% pylab inline\n",
    "import operator\n",
    "import re\n",
    "from collections import OrderedDict\n",
    "import seaborn as sns\n",
    "import pickle\n",
    "import os.path\n",
    "from matplotlib.colors import ListedColormap\n",
    "import matplotlib.colors as colors\n",
    "import matplotlib.cm as cmx\n",
    "import matplotlib.pyplot as plt\n",
    "from pylab import rcParams\n",
    "from mpl_toolkits.basemap import Basemap\n",
    "from geopy.geocoders import Nominatim\n",
    "import math\n",
    "import warnings\n",
    "from scipy import stats\n",
    "warnings.filterwarnings('ignore')"
   ]
  },
  {
   "cell_type": "markdown",
   "metadata": {},
   "source": [
    "## Setting some plot colors and parameters"
   ]
  },
  {
   "cell_type": "code",
   "execution_count": 2,
   "metadata": {
    "collapsed": true
   },
   "outputs": [],
   "source": [
    "tableau20 = [(31, 119, 180), (174, 199, 232), (255, 127, 14), (255, 187, 120),\n",
    "             (44, 160, 44), (152, 223, 138), (214, 39, 40), (255, 152, 150),\n",
    "             (148, 103, 189), (197, 176, 213), (140, 86, 75), (196, 156, 148),\n",
    "             (227, 119, 194), (247, 182, 210), (127, 127, 127), (199, 199, 199),\n",
    "             (188, 189, 34), (219, 219, 141), (23, 190, 207), (158, 218, 229)]\n",
    " \n",
    "# Scale the RGB values to the [0, 1] range, which is the format matplotlib accepts.\n",
    "for i in range(len(tableau20)):\n",
    "    r, g, b = tableau20[i]\n",
    "    tableau20[i] = (r / 255., g / 255., b / 255.)\n",
    "# Adapted from http://spartanideas.msu.edu/2014/06/28/how-to-make-beautiful-data-visualizations-in-python-with-matplotlib/\n",
    "cmap_set1 = ListedColormap(['#4daf4a', '#377eb8', '#e41a1c' ])\n",
    "\n",
    "params = {'legend.fontsize': 'x-large',\n",
    "          'figure.figsize': (15, 5),\n",
    "         'axes.labelsize': 'x-large',\n",
    "         'axes.titlesize':'x-large',\n",
    "         'xtick.labelsize':'x-large',\n",
    "         'ytick.labelsize':'x-large'}\n",
    "pylab.rcParams.update(params)\n",
    "sns.set_style('ticks')"
   ]
  },
  {
   "cell_type": "markdown",
   "metadata": {},
   "source": [
    "## Setting data frame display"
   ]
  },
  {
   "cell_type": "code",
   "execution_count": 3,
   "metadata": {
    "collapsed": true
   },
   "outputs": [],
   "source": [
    "pd.set_option('display.max_columns', None)"
   ]
  },
  {
   "cell_type": "markdown",
   "metadata": {},
   "source": [
    "## Loading models"
   ]
  },
  {
   "cell_type": "code",
   "execution_count": 4,
   "metadata": {
    "collapsed": true
   },
   "outputs": [],
   "source": [
    "LR = pickle.load( open( \"LogisticRegression_smote.pkl\", \"rb\" ) )\n",
    "GNB = pickle.load( open( \"GNBrus.pkl\", \"rb\" ) )\n",
    "RF = pickle.load( open( \"RFbal.pkl\", \"rb\" ) )\n",
    "AB = pickle.load( open( \"GBCbal.pkl\", \"rb\" ) )\n",
    "ET = pickle.load( open( \"ETbal.pkl\", \"rb\" ) )"
   ]
  },
  {
   "cell_type": "markdown",
   "metadata": {},
   "source": [
    "### Getting PR AUC (Average precision) scores from each model"
   ]
  },
  {
   "cell_type": "code",
   "execution_count": 5,
   "metadata": {
    "collapsed": true
   },
   "outputs": [],
   "source": [
    "PRAUC25 = [] # list of PR AUC \n",
    "PRAUC25_ER = [] # List of error bars on PR AUC"
   ]
  },
  {
   "cell_type": "code",
   "execution_count": 6,
   "metadata": {},
   "outputs": [
    {
     "data": {
      "text/plain": [
       "0.1551249906241764"
      ]
     },
     "execution_count": 6,
     "metadata": {},
     "output_type": "execute_result"
    }
   ],
   "source": [
    "LR.best_score_"
   ]
  },
  {
   "cell_type": "code",
   "execution_count": 7,
   "metadata": {},
   "outputs": [
    {
     "name": "stderr",
     "output_type": "stream",
     "text": [
      "//anaconda/lib/python3.6/site-packages/sklearn/model_selection/_search.py:667: DeprecationWarning: The grid_scores_ attribute was deprecated in version 0.18 in favor of the more elaborate cv_results_ attribute. The grid_scores_ attribute will not be available from 0.20\n",
      "  DeprecationWarning)\n"
     ]
    },
    {
     "data": {
      "text/plain": [
       "[mean: 0.12995, std: 0.00471, params: {'model__C': 0.001, 'model__penalty': 'l2', 'smote__k_neighbors': 5, 'smote__m_neighbors': 12},\n",
       " mean: 0.12995, std: 0.00471, params: {'model__C': 0.001, 'model__penalty': 'l2', 'smote__k_neighbors': 5, 'smote__m_neighbors': 10},\n",
       " mean: 0.12995, std: 0.00471, params: {'model__C': 0.001, 'model__penalty': 'l2', 'smote__k_neighbors': 5, 'smote__m_neighbors': 6},\n",
       " mean: 0.12977, std: 0.00472, params: {'model__C': 0.001, 'model__penalty': 'l2', 'smote__k_neighbors': 3, 'smote__m_neighbors': 12},\n",
       " mean: 0.12977, std: 0.00472, params: {'model__C': 0.001, 'model__penalty': 'l2', 'smote__k_neighbors': 3, 'smote__m_neighbors': 10},\n",
       " mean: 0.12977, std: 0.00472, params: {'model__C': 0.001, 'model__penalty': 'l2', 'smote__k_neighbors': 3, 'smote__m_neighbors': 6},\n",
       " mean: 0.12778, std: 0.00473, params: {'model__C': 0.001, 'model__penalty': 'l2', 'smote__k_neighbors': 1, 'smote__m_neighbors': 12},\n",
       " mean: 0.12778, std: 0.00473, params: {'model__C': 0.001, 'model__penalty': 'l2', 'smote__k_neighbors': 1, 'smote__m_neighbors': 10},\n",
       " mean: 0.12778, std: 0.00473, params: {'model__C': 0.001, 'model__penalty': 'l2', 'smote__k_neighbors': 1, 'smote__m_neighbors': 6},\n",
       " mean: 0.14014, std: 0.00418, params: {'model__C': 0.01, 'model__penalty': 'l2', 'smote__k_neighbors': 5, 'smote__m_neighbors': 12},\n",
       " mean: 0.14014, std: 0.00418, params: {'model__C': 0.01, 'model__penalty': 'l2', 'smote__k_neighbors': 5, 'smote__m_neighbors': 10},\n",
       " mean: 0.14014, std: 0.00418, params: {'model__C': 0.01, 'model__penalty': 'l2', 'smote__k_neighbors': 5, 'smote__m_neighbors': 6},\n",
       " mean: 0.13956, std: 0.00398, params: {'model__C': 0.01, 'model__penalty': 'l2', 'smote__k_neighbors': 3, 'smote__m_neighbors': 12},\n",
       " mean: 0.13956, std: 0.00398, params: {'model__C': 0.01, 'model__penalty': 'l2', 'smote__k_neighbors': 3, 'smote__m_neighbors': 10},\n",
       " mean: 0.13956, std: 0.00398, params: {'model__C': 0.01, 'model__penalty': 'l2', 'smote__k_neighbors': 3, 'smote__m_neighbors': 6},\n",
       " mean: 0.13634, std: 0.00373, params: {'model__C': 0.01, 'model__penalty': 'l2', 'smote__k_neighbors': 1, 'smote__m_neighbors': 12},\n",
       " mean: 0.13634, std: 0.00373, params: {'model__C': 0.01, 'model__penalty': 'l2', 'smote__k_neighbors': 1, 'smote__m_neighbors': 10},\n",
       " mean: 0.13634, std: 0.00373, params: {'model__C': 0.01, 'model__penalty': 'l2', 'smote__k_neighbors': 1, 'smote__m_neighbors': 6},\n",
       " mean: 0.14871, std: 0.00517, params: {'model__C': 0.05, 'model__penalty': 'l2', 'smote__k_neighbors': 5, 'smote__m_neighbors': 12},\n",
       " mean: 0.14871, std: 0.00517, params: {'model__C': 0.05, 'model__penalty': 'l2', 'smote__k_neighbors': 5, 'smote__m_neighbors': 10},\n",
       " mean: 0.14871, std: 0.00517, params: {'model__C': 0.05, 'model__penalty': 'l2', 'smote__k_neighbors': 5, 'smote__m_neighbors': 6},\n",
       " mean: 0.14801, std: 0.00493, params: {'model__C': 0.05, 'model__penalty': 'l2', 'smote__k_neighbors': 3, 'smote__m_neighbors': 12},\n",
       " mean: 0.14801, std: 0.00493, params: {'model__C': 0.05, 'model__penalty': 'l2', 'smote__k_neighbors': 3, 'smote__m_neighbors': 10},\n",
       " mean: 0.14801, std: 0.00493, params: {'model__C': 0.05, 'model__penalty': 'l2', 'smote__k_neighbors': 3, 'smote__m_neighbors': 6},\n",
       " mean: 0.14429, std: 0.00470, params: {'model__C': 0.05, 'model__penalty': 'l2', 'smote__k_neighbors': 1, 'smote__m_neighbors': 12},\n",
       " mean: 0.14429, std: 0.00470, params: {'model__C': 0.05, 'model__penalty': 'l2', 'smote__k_neighbors': 1, 'smote__m_neighbors': 10},\n",
       " mean: 0.14429, std: 0.00470, params: {'model__C': 0.05, 'model__penalty': 'l2', 'smote__k_neighbors': 1, 'smote__m_neighbors': 6},\n",
       " mean: 0.15160, std: 0.00534, params: {'model__C': 0.1, 'model__penalty': 'l2', 'smote__k_neighbors': 5, 'smote__m_neighbors': 12},\n",
       " mean: 0.15160, std: 0.00534, params: {'model__C': 0.1, 'model__penalty': 'l2', 'smote__k_neighbors': 5, 'smote__m_neighbors': 10},\n",
       " mean: 0.15160, std: 0.00534, params: {'model__C': 0.1, 'model__penalty': 'l2', 'smote__k_neighbors': 5, 'smote__m_neighbors': 6},\n",
       " mean: 0.15090, std: 0.00507, params: {'model__C': 0.1, 'model__penalty': 'l2', 'smote__k_neighbors': 3, 'smote__m_neighbors': 12},\n",
       " mean: 0.15090, std: 0.00507, params: {'model__C': 0.1, 'model__penalty': 'l2', 'smote__k_neighbors': 3, 'smote__m_neighbors': 10},\n",
       " mean: 0.15090, std: 0.00507, params: {'model__C': 0.1, 'model__penalty': 'l2', 'smote__k_neighbors': 3, 'smote__m_neighbors': 6},\n",
       " mean: 0.14708, std: 0.00503, params: {'model__C': 0.1, 'model__penalty': 'l2', 'smote__k_neighbors': 1, 'smote__m_neighbors': 12},\n",
       " mean: 0.14708, std: 0.00503, params: {'model__C': 0.1, 'model__penalty': 'l2', 'smote__k_neighbors': 1, 'smote__m_neighbors': 10},\n",
       " mean: 0.14708, std: 0.00503, params: {'model__C': 0.1, 'model__penalty': 'l2', 'smote__k_neighbors': 1, 'smote__m_neighbors': 6},\n",
       " mean: 0.15469, std: 0.00516, params: {'model__C': 0.5, 'model__penalty': 'l2', 'smote__k_neighbors': 5, 'smote__m_neighbors': 12},\n",
       " mean: 0.15469, std: 0.00516, params: {'model__C': 0.5, 'model__penalty': 'l2', 'smote__k_neighbors': 5, 'smote__m_neighbors': 10},\n",
       " mean: 0.15469, std: 0.00516, params: {'model__C': 0.5, 'model__penalty': 'l2', 'smote__k_neighbors': 5, 'smote__m_neighbors': 6},\n",
       " mean: 0.15406, std: 0.00487, params: {'model__C': 0.5, 'model__penalty': 'l2', 'smote__k_neighbors': 3, 'smote__m_neighbors': 12},\n",
       " mean: 0.15406, std: 0.00487, params: {'model__C': 0.5, 'model__penalty': 'l2', 'smote__k_neighbors': 3, 'smote__m_neighbors': 10},\n",
       " mean: 0.15406, std: 0.00487, params: {'model__C': 0.5, 'model__penalty': 'l2', 'smote__k_neighbors': 3, 'smote__m_neighbors': 6},\n",
       " mean: 0.15051, std: 0.00498, params: {'model__C': 0.5, 'model__penalty': 'l2', 'smote__k_neighbors': 1, 'smote__m_neighbors': 12},\n",
       " mean: 0.15051, std: 0.00498, params: {'model__C': 0.5, 'model__penalty': 'l2', 'smote__k_neighbors': 1, 'smote__m_neighbors': 10},\n",
       " mean: 0.15051, std: 0.00498, params: {'model__C': 0.5, 'model__penalty': 'l2', 'smote__k_neighbors': 1, 'smote__m_neighbors': 6},\n",
       " mean: 0.15491, std: 0.00505, params: {'model__C': 1, 'model__penalty': 'l2', 'smote__k_neighbors': 5, 'smote__m_neighbors': 12},\n",
       " mean: 0.15491, std: 0.00505, params: {'model__C': 1, 'model__penalty': 'l2', 'smote__k_neighbors': 5, 'smote__m_neighbors': 10},\n",
       " mean: 0.15491, std: 0.00505, params: {'model__C': 1, 'model__penalty': 'l2', 'smote__k_neighbors': 5, 'smote__m_neighbors': 6},\n",
       " mean: 0.15438, std: 0.00479, params: {'model__C': 1, 'model__penalty': 'l2', 'smote__k_neighbors': 3, 'smote__m_neighbors': 12},\n",
       " mean: 0.15438, std: 0.00479, params: {'model__C': 1, 'model__penalty': 'l2', 'smote__k_neighbors': 3, 'smote__m_neighbors': 10},\n",
       " mean: 0.15438, std: 0.00479, params: {'model__C': 1, 'model__penalty': 'l2', 'smote__k_neighbors': 3, 'smote__m_neighbors': 6},\n",
       " mean: 0.15102, std: 0.00495, params: {'model__C': 1, 'model__penalty': 'l2', 'smote__k_neighbors': 1, 'smote__m_neighbors': 12},\n",
       " mean: 0.15102, std: 0.00495, params: {'model__C': 1, 'model__penalty': 'l2', 'smote__k_neighbors': 1, 'smote__m_neighbors': 10},\n",
       " mean: 0.15102, std: 0.00495, params: {'model__C': 1, 'model__penalty': 'l2', 'smote__k_neighbors': 1, 'smote__m_neighbors': 6},\n",
       " mean: 0.15509, std: 0.00506, params: {'model__C': 5, 'model__penalty': 'l2', 'smote__k_neighbors': 5, 'smote__m_neighbors': 12},\n",
       " mean: 0.15509, std: 0.00506, params: {'model__C': 5, 'model__penalty': 'l2', 'smote__k_neighbors': 5, 'smote__m_neighbors': 10},\n",
       " mean: 0.15509, std: 0.00506, params: {'model__C': 5, 'model__penalty': 'l2', 'smote__k_neighbors': 5, 'smote__m_neighbors': 6},\n",
       " mean: 0.15462, std: 0.00482, params: {'model__C': 5, 'model__penalty': 'l2', 'smote__k_neighbors': 3, 'smote__m_neighbors': 12},\n",
       " mean: 0.15462, std: 0.00482, params: {'model__C': 5, 'model__penalty': 'l2', 'smote__k_neighbors': 3, 'smote__m_neighbors': 10},\n",
       " mean: 0.15462, std: 0.00482, params: {'model__C': 5, 'model__penalty': 'l2', 'smote__k_neighbors': 3, 'smote__m_neighbors': 6},\n",
       " mean: 0.15144, std: 0.00495, params: {'model__C': 5, 'model__penalty': 'l2', 'smote__k_neighbors': 1, 'smote__m_neighbors': 12},\n",
       " mean: 0.15144, std: 0.00495, params: {'model__C': 5, 'model__penalty': 'l2', 'smote__k_neighbors': 1, 'smote__m_neighbors': 10},\n",
       " mean: 0.15144, std: 0.00495, params: {'model__C': 5, 'model__penalty': 'l2', 'smote__k_neighbors': 1, 'smote__m_neighbors': 6},\n",
       " mean: 0.15512, std: 0.00506, params: {'model__C': 10, 'model__penalty': 'l2', 'smote__k_neighbors': 5, 'smote__m_neighbors': 12},\n",
       " mean: 0.15512, std: 0.00506, params: {'model__C': 10, 'model__penalty': 'l2', 'smote__k_neighbors': 5, 'smote__m_neighbors': 10},\n",
       " mean: 0.15512, std: 0.00506, params: {'model__C': 10, 'model__penalty': 'l2', 'smote__k_neighbors': 5, 'smote__m_neighbors': 6},\n",
       " mean: 0.15465, std: 0.00479, params: {'model__C': 10, 'model__penalty': 'l2', 'smote__k_neighbors': 3, 'smote__m_neighbors': 12},\n",
       " mean: 0.15465, std: 0.00479, params: {'model__C': 10, 'model__penalty': 'l2', 'smote__k_neighbors': 3, 'smote__m_neighbors': 10},\n",
       " mean: 0.15465, std: 0.00479, params: {'model__C': 10, 'model__penalty': 'l2', 'smote__k_neighbors': 3, 'smote__m_neighbors': 6},\n",
       " mean: 0.15148, std: 0.00497, params: {'model__C': 10, 'model__penalty': 'l2', 'smote__k_neighbors': 1, 'smote__m_neighbors': 12},\n",
       " mean: 0.15148, std: 0.00497, params: {'model__C': 10, 'model__penalty': 'l2', 'smote__k_neighbors': 1, 'smote__m_neighbors': 10},\n",
       " mean: 0.15148, std: 0.00497, params: {'model__C': 10, 'model__penalty': 'l2', 'smote__k_neighbors': 1, 'smote__m_neighbors': 6}]"
      ]
     },
     "execution_count": 7,
     "metadata": {},
     "output_type": "execute_result"
    }
   ],
   "source": [
    "LR.grid_scores_"
   ]
  },
  {
   "cell_type": "code",
   "execution_count": 8,
   "metadata": {
    "collapsed": true
   },
   "outputs": [],
   "source": [
    "PRAUC25.append(LR.best_score_)\n",
    "PRAUC25_ER.append(0.00506/sqrt(5)) # note that we used 5-fold cv"
   ]
  },
  {
   "cell_type": "code",
   "execution_count": 9,
   "metadata": {},
   "outputs": [
    {
     "data": {
      "text/plain": [
       "0.15750175534260644"
      ]
     },
     "execution_count": 9,
     "metadata": {},
     "output_type": "execute_result"
    }
   ],
   "source": [
    "GNB.best_score_"
   ]
  },
  {
   "cell_type": "code",
   "execution_count": 10,
   "metadata": {},
   "outputs": [
    {
     "name": "stderr",
     "output_type": "stream",
     "text": [
      "//anaconda/lib/python3.6/site-packages/sklearn/model_selection/_search.py:667: DeprecationWarning: The grid_scores_ attribute was deprecated in version 0.18 in favor of the more elaborate cv_results_ attribute. The grid_scores_ attribute will not be available from 0.20\n",
      "  DeprecationWarning)\n"
     ]
    },
    {
     "data": {
      "text/plain": [
       "[mean: 0.15750, std: 0.01162, params: {'rus__ratio': 'auto'}]"
      ]
     },
     "execution_count": 10,
     "metadata": {},
     "output_type": "execute_result"
    }
   ],
   "source": [
    "GNB.grid_scores_"
   ]
  },
  {
   "cell_type": "code",
   "execution_count": 11,
   "metadata": {
    "collapsed": true
   },
   "outputs": [],
   "source": [
    "PRAUC25.append(GNB.best_score_)\n",
    "PRAUC25_ER.append(0.01162/sqrt(5))"
   ]
  },
  {
   "cell_type": "code",
   "execution_count": 12,
   "metadata": {},
   "outputs": [
    {
     "data": {
      "text/plain": [
       "0.31499838891129767"
      ]
     },
     "execution_count": 12,
     "metadata": {},
     "output_type": "execute_result"
    }
   ],
   "source": [
    "RF.best_score_"
   ]
  },
  {
   "cell_type": "code",
   "execution_count": 13,
   "metadata": {},
   "outputs": [
    {
     "name": "stderr",
     "output_type": "stream",
     "text": [
      "//anaconda/lib/python3.6/site-packages/sklearn/model_selection/_search.py:667: DeprecationWarning: The grid_scores_ attribute was deprecated in version 0.18 in favor of the more elaborate cv_results_ attribute. The grid_scores_ attribute will not be available from 0.20\n",
      "  DeprecationWarning)\n"
     ]
    },
    {
     "data": {
      "text/plain": [
       "[mean: 0.30918, std: 0.00719, params: {'model__class_weight': 'balanced', 'model__max_features': 'sqrt', 'model__min_samples_leaf': 1, 'model__n_estimators': 100},\n",
       " mean: 0.31500, std: 0.01046, params: {'model__class_weight': 'balanced', 'model__max_features': 'sqrt', 'model__min_samples_leaf': 2, 'model__n_estimators': 100},\n",
       " mean: 0.31091, std: 0.01160, params: {'model__class_weight': 'balanced', 'model__max_features': 'sqrt', 'model__min_samples_leaf': 3, 'model__n_estimators': 100},\n",
       " mean: 0.30960, std: 0.00910, params: {'model__class_weight': 'balanced', 'model__max_features': 'sqrt', 'model__min_samples_leaf': 4, 'model__n_estimators': 100},\n",
       " mean: 0.30706, std: 0.00957, params: {'model__class_weight': 'balanced', 'model__max_features': 'sqrt', 'model__min_samples_leaf': 5, 'model__n_estimators': 100},\n",
       " mean: 0.29447, std: 0.01024, params: {'model__class_weight': 'balanced', 'model__max_features': 'sqrt', 'model__min_samples_leaf': 10, 'model__n_estimators': 100},\n",
       " mean: 0.30872, std: 0.00919, params: {'model__class_weight': 'balanced', 'model__max_features': 'log2', 'model__min_samples_leaf': 1, 'model__n_estimators': 100},\n",
       " mean: 0.30605, std: 0.00856, params: {'model__class_weight': 'balanced', 'model__max_features': 'log2', 'model__min_samples_leaf': 2, 'model__n_estimators': 100},\n",
       " mean: 0.30083, std: 0.00651, params: {'model__class_weight': 'balanced', 'model__max_features': 'log2', 'model__min_samples_leaf': 3, 'model__n_estimators': 100},\n",
       " mean: 0.29505, std: 0.01130, params: {'model__class_weight': 'balanced', 'model__max_features': 'log2', 'model__min_samples_leaf': 4, 'model__n_estimators': 100},\n",
       " mean: 0.29429, std: 0.00943, params: {'model__class_weight': 'balanced', 'model__max_features': 'log2', 'model__min_samples_leaf': 5, 'model__n_estimators': 100},\n",
       " mean: 0.27702, std: 0.00996, params: {'model__class_weight': 'balanced', 'model__max_features': 'log2', 'model__min_samples_leaf': 10, 'model__n_estimators': 100}]"
      ]
     },
     "execution_count": 13,
     "metadata": {},
     "output_type": "execute_result"
    }
   ],
   "source": [
    "RF.grid_scores_"
   ]
  },
  {
   "cell_type": "code",
   "execution_count": 14,
   "metadata": {
    "collapsed": true
   },
   "outputs": [],
   "source": [
    "PRAUC25.append(RF.best_score_)\n",
    "PRAUC25_ER.append(0.01046/sqrt(5))"
   ]
  },
  {
   "cell_type": "code",
   "execution_count": 15,
   "metadata": {},
   "outputs": [
    {
     "data": {
      "text/plain": [
       "0.30957385774839202"
      ]
     },
     "execution_count": 15,
     "metadata": {},
     "output_type": "execute_result"
    }
   ],
   "source": [
    "AB.best_score_"
   ]
  },
  {
   "cell_type": "code",
   "execution_count": 16,
   "metadata": {},
   "outputs": [
    {
     "name": "stderr",
     "output_type": "stream",
     "text": [
      "//anaconda/lib/python3.6/site-packages/sklearn/model_selection/_search.py:667: DeprecationWarning: The grid_scores_ attribute was deprecated in version 0.18 in favor of the more elaborate cv_results_ attribute. The grid_scores_ attribute will not be available from 0.20\n",
      "  DeprecationWarning)\n"
     ]
    },
    {
     "data": {
      "text/plain": [
       "[mean: 0.28138, std: 0.00930, params: {'model__learning_rate': 0.2, 'model__loss': 'exponential', 'model__max_depth': 7, 'model__max_features': 'sqrt', 'model__min_samples_leaf': 5, 'model__n_estimators': 100},\n",
       " mean: 0.28111, std: 0.00706, params: {'model__learning_rate': 0.2, 'model__loss': 'exponential', 'model__max_depth': 7, 'model__max_features': 'sqrt', 'model__min_samples_leaf': 10, 'model__n_estimators': 100},\n",
       " mean: 0.30557, std: 0.00761, params: {'model__learning_rate': 0.2, 'model__loss': 'exponential', 'model__max_depth': 10, 'model__max_features': 'sqrt', 'model__min_samples_leaf': 5, 'model__n_estimators': 100},\n",
       " mean: 0.30957, std: 0.00554, params: {'model__learning_rate': 0.2, 'model__loss': 'exponential', 'model__max_depth': 10, 'model__max_features': 'sqrt', 'model__min_samples_leaf': 10, 'model__n_estimators': 100},\n",
       " mean: 0.27972, std: 0.00861, params: {'model__learning_rate': 0.3, 'model__loss': 'exponential', 'model__max_depth': 7, 'model__max_features': 'sqrt', 'model__min_samples_leaf': 5, 'model__n_estimators': 100},\n",
       " mean: 0.28313, std: 0.00400, params: {'model__learning_rate': 0.3, 'model__loss': 'exponential', 'model__max_depth': 7, 'model__max_features': 'sqrt', 'model__min_samples_leaf': 10, 'model__n_estimators': 100},\n",
       " mean: 0.29913, std: 0.00388, params: {'model__learning_rate': 0.3, 'model__loss': 'exponential', 'model__max_depth': 10, 'model__max_features': 'sqrt', 'model__min_samples_leaf': 5, 'model__n_estimators': 100},\n",
       " mean: 0.30541, std: 0.00750, params: {'model__learning_rate': 0.3, 'model__loss': 'exponential', 'model__max_depth': 10, 'model__max_features': 'sqrt', 'model__min_samples_leaf': 10, 'model__n_estimators': 100},\n",
       " mean: 0.27583, std: 0.00405, params: {'model__learning_rate': 0.4, 'model__loss': 'exponential', 'model__max_depth': 7, 'model__max_features': 'sqrt', 'model__min_samples_leaf': 5, 'model__n_estimators': 100},\n",
       " mean: 0.27397, std: 0.00548, params: {'model__learning_rate': 0.4, 'model__loss': 'exponential', 'model__max_depth': 7, 'model__max_features': 'sqrt', 'model__min_samples_leaf': 10, 'model__n_estimators': 100},\n",
       " mean: 0.28670, std: 0.00204, params: {'model__learning_rate': 0.4, 'model__loss': 'exponential', 'model__max_depth': 10, 'model__max_features': 'sqrt', 'model__min_samples_leaf': 5, 'model__n_estimators': 100},\n",
       " mean: 0.28620, std: 0.00502, params: {'model__learning_rate': 0.4, 'model__loss': 'exponential', 'model__max_depth': 10, 'model__max_features': 'sqrt', 'model__min_samples_leaf': 10, 'model__n_estimators': 100}]"
      ]
     },
     "execution_count": 16,
     "metadata": {},
     "output_type": "execute_result"
    }
   ],
   "source": [
    "AB.grid_scores_"
   ]
  },
  {
   "cell_type": "code",
   "execution_count": 17,
   "metadata": {
    "collapsed": true
   },
   "outputs": [],
   "source": [
    "PRAUC25.append(AB.best_score_)\n",
    "PRAUC25_ER.append(0.00554/sqrt(5))"
   ]
  },
  {
   "cell_type": "code",
   "execution_count": 18,
   "metadata": {},
   "outputs": [
    {
     "data": {
      "text/plain": [
       "0.35594086315875367"
      ]
     },
     "execution_count": 18,
     "metadata": {},
     "output_type": "execute_result"
    }
   ],
   "source": [
    "ET.best_score_"
   ]
  },
  {
   "cell_type": "code",
   "execution_count": 19,
   "metadata": {},
   "outputs": [
    {
     "name": "stderr",
     "output_type": "stream",
     "text": [
      "//anaconda/lib/python3.6/site-packages/sklearn/model_selection/_search.py:667: DeprecationWarning: The grid_scores_ attribute was deprecated in version 0.18 in favor of the more elaborate cv_results_ attribute. The grid_scores_ attribute will not be available from 0.20\n",
      "  DeprecationWarning)\n"
     ]
    },
    {
     "data": {
      "text/plain": [
       "[mean: 0.35594, std: 0.01148, params: {'model__class_weight': 'balanced', 'model__max_features': 'sqrt', 'model__min_samples_leaf': 2, 'model__n_estimators': 100},\n",
       " mean: 0.35178, std: 0.01083, params: {'model__class_weight': 'balanced', 'model__max_features': 'sqrt', 'model__min_samples_leaf': 4, 'model__n_estimators': 100},\n",
       " mean: 0.34658, std: 0.00947, params: {'model__class_weight': 'balanced', 'model__max_features': 'sqrt', 'model__min_samples_leaf': 6, 'model__n_estimators': 100}]"
      ]
     },
     "execution_count": 19,
     "metadata": {},
     "output_type": "execute_result"
    }
   ],
   "source": [
    "ET.grid_scores_"
   ]
  },
  {
   "cell_type": "code",
   "execution_count": 20,
   "metadata": {
    "collapsed": true
   },
   "outputs": [],
   "source": [
    "PRAUC25.append(ET.best_score_)\n",
    "PRAUC25_ER.append(0.01148/sqrt(5))"
   ]
  },
  {
   "cell_type": "code",
   "execution_count": 78,
   "metadata": {},
   "outputs": [
    {
     "data": {
      "image/png": "[encoded data removed]",
      "text/plain": [
       "<matplotlib.figure.Figure at 0x1110d3588>"
      ]
     },
     "metadata": {},
     "output_type": "display_data"
    }
   ],
   "source": [
    "clrs = [tableau20[2], tableau20[16], tableau20[6], tableau20[8], tableau20[4]]\n",
    "fs = 24 # font size\n",
    "fig, ax = plt.subplots(figsize=(8,8))\n",
    "rects1 = ax.bar(np.arange(5), PRAUC25, width=0.55, color=clrs, yerr=PRAUC25_ER, capsize=100)\n",
    "ax.set_xlabel('Models', size = fs)\n",
    "ax.set_ylabel('PR AUC', size = fs)\n",
    "#ax.set_xticks(ind + width / 2)\n",
    "ax.set_xticklabels(('dummy', 'LR', 'GNB', 'RF', 'AB', 'ET'))\n",
    "ax.tick_params(direction='out', length=6, width=2, colors='k', labelsize=fs)\n",
    "#autolabel(rects1)\n",
    "\n",
    "plt.tight_layout()\n",
    "savefig('PRAUC25.pdf')"
   ]
  },
  {
   "cell_type": "code",
   "execution_count": 46,
   "metadata": {
    "collapsed": true
   },
   "outputs": [],
   "source": [
    "pd.DataFrame({\"PR AUC\": PRAUC25, \"PR AUC ER\": PRAUC25_ER}).to_csv(\"PRAUC25data.csv\")"
   ]
  },
  {
   "cell_type": "markdown",
   "metadata": {},
   "source": [
    "So far, we have compared the already trained models (trained using only 25% of the whole data). Lets now try to run CV on all models one more time with 75% of the whole data and using optimum hyper parameters to get unbiased estimates of the PR AUC."
   ]
  },
  {
   "cell_type": "markdown",
   "metadata": {},
   "source": [
    "## Loading the data\n",
    "\n",
    "We have acquired and merged the data in [this notebook](https://github.com/aajains/springboard-datascience-intensive/blob/master/capstone_project/DataAcquisitionMerging/data_acquisition_merging.ipynb). The merged data was also cleaned by fixing the missing values in [this notebook](https://github.com/aajains/springboard-datascience-intensive/blob/master/capstone_project/DataCleaning/data_cleaning.ipynb). A lot of features from the cleaned data was removed (or some features were selected) in [this notebook](https://github.com/aajains/springboard-datascience-intensive/blob/master/capstone_project/EDA/ExploratoryDataAnalysis_v1.ipynb). The resultant csv file is loaded below:"
   ]
  },
  {
   "cell_type": "code",
   "execution_count": 22,
   "metadata": {
    "collapsed": true
   },
   "outputs": [],
   "source": [
    "df = pd.read_csv(\"../Data/ExploredDataCleaned/FlightHistory_Weather_Jan2015-Dec2016_Top20Airports_Window60mins_ExploredCleaned.csv\")"
   ]
  },
  {
   "cell_type": "code",
   "execution_count": 23,
   "metadata": {},
   "outputs": [
    {
     "data": {
      "text/plain": [
       "(2857139, 69)"
      ]
     },
     "execution_count": 23,
     "metadata": {},
     "output_type": "execute_result"
    }
   ],
   "source": [
    "df.shape"
   ]
  },
  {
   "cell_type": "code",
   "execution_count": 24,
   "metadata": {},
   "outputs": [
    {
     "data": {
      "text/html": [
       "<div>\n",
       "<style>\n",
       "    .dataframe thead tr:only-child th {\n",
       "        text-align: right;\n",
       "    }\n",
       "\n",
       "    .dataframe thead th {\n",
       "        text-align: left;\n",
       "    }\n",
       "\n",
       "    .dataframe tbody tr th {\n",
       "        vertical-align: top;\n",
       "    }\n",
       "</style>\n",
       "<table border=\"1\" class=\"dataframe\">\n",
       "  <thead>\n",
       "    <tr style=\"text-align: right;\">\n",
       "      <th></th>\n",
       "      <th>Unnamed: 0</th>\n",
       "      <th>Month</th>\n",
       "      <th>DayofMonth</th>\n",
       "      <th>DayOfWeek</th>\n",
       "      <th>Carrier</th>\n",
       "      <th>Origin</th>\n",
       "      <th>Dest</th>\n",
       "      <th>Cancelled</th>\n",
       "      <th>Distance</th>\n",
       "      <th>Nflights_10</th>\n",
       "      <th>DepDelayMedian_10</th>\n",
       "      <th>DepDelayMax_10</th>\n",
       "      <th>ArrDelayMedian_10</th>\n",
       "      <th>ArrDelayMax_10</th>\n",
       "      <th>TaxiOutMedian_10</th>\n",
       "      <th>TaxiInMedian_10</th>\n",
       "      <th>Ncan_10</th>\n",
       "      <th>Ndiv_10</th>\n",
       "      <th>Nflights_20</th>\n",
       "      <th>DepDelayMedian_20</th>\n",
       "      <th>DepDelayMax_20</th>\n",
       "      <th>ArrDelayMedian_20</th>\n",
       "      <th>ArrDelayMax_20</th>\n",
       "      <th>TaxiOutMedian_20</th>\n",
       "      <th>TaxiInMedian_20</th>\n",
       "      <th>Ncan_20</th>\n",
       "      <th>Ndiv_20</th>\n",
       "      <th>Nflights_30</th>\n",
       "      <th>DepDelayMedian_30</th>\n",
       "      <th>DepDelayMax_30</th>\n",
       "      <th>ArrDelayMedian_30</th>\n",
       "      <th>ArrDelayMax_30</th>\n",
       "      <th>TaxiOutMedian_30</th>\n",
       "      <th>TaxiInMedian_30</th>\n",
       "      <th>Ncan_30</th>\n",
       "      <th>Ndiv_30</th>\n",
       "      <th>CRSDepHr</th>\n",
       "      <th>CRSArrHr</th>\n",
       "      <th>Temperature_Origin</th>\n",
       "      <th>DewPoint_Origin</th>\n",
       "      <th>Humidity_Origin</th>\n",
       "      <th>WindSpeed_Origin</th>\n",
       "      <th>WindDirection_Origin</th>\n",
       "      <th>Visibility_Origin</th>\n",
       "      <th>Pressure_Origin</th>\n",
       "      <th>Condition_Origin</th>\n",
       "      <th>Temperature_Dest</th>\n",
       "      <th>DewPoint_Dest</th>\n",
       "      <th>Humidity_Dest</th>\n",
       "      <th>WindSpeed_Dest</th>\n",
       "      <th>WindDirection_Dest</th>\n",
       "      <th>Visibility_Dest</th>\n",
       "      <th>Pressure_Dest</th>\n",
       "      <th>Condition_Dest</th>\n",
       "      <th>Month_Dest</th>\n",
       "      <th>DayOfMonth_Dest</th>\n",
       "      <th>DayOfWeek_Dest</th>\n",
       "      <th>TempFlight_30</th>\n",
       "      <th>TempFlight_20</th>\n",
       "      <th>TempFlight_10</th>\n",
       "      <th>AllCanceled_30</th>\n",
       "      <th>AllDiverted_30</th>\n",
       "      <th>AllCanceled_20</th>\n",
       "      <th>AllDiverted_20</th>\n",
       "      <th>AllCanDiv_20</th>\n",
       "      <th>AllCanDiv_30</th>\n",
       "      <th>AllCanceled_10</th>\n",
       "      <th>AllDiverted_10</th>\n",
       "      <th>AllCanDiv_10</th>\n",
       "    </tr>\n",
       "  </thead>\n",
       "  <tbody>\n",
       "    <tr>\n",
       "      <th>0</th>\n",
       "      <td>0</td>\n",
       "      <td>1</td>\n",
       "      <td>1</td>\n",
       "      <td>4</td>\n",
       "      <td>AA</td>\n",
       "      <td>PHX</td>\n",
       "      <td>DFW</td>\n",
       "      <td>1.0</td>\n",
       "      <td>868.0</td>\n",
       "      <td>10</td>\n",
       "      <td>-2.0</td>\n",
       "      <td>0.0</td>\n",
       "      <td>-2.5</td>\n",
       "      <td>17.0</td>\n",
       "      <td>13.0</td>\n",
       "      <td>4.0</td>\n",
       "      <td>0.0</td>\n",
       "      <td>0.0</td>\n",
       "      <td>14</td>\n",
       "      <td>-2.0</td>\n",
       "      <td>0.0</td>\n",
       "      <td>-0.5</td>\n",
       "      <td>17.0</td>\n",
       "      <td>13.0</td>\n",
       "      <td>5.0</td>\n",
       "      <td>0.0</td>\n",
       "      <td>0.0</td>\n",
       "      <td>14</td>\n",
       "      <td>-2.0</td>\n",
       "      <td>0.0</td>\n",
       "      <td>-0.5</td>\n",
       "      <td>17.0</td>\n",
       "      <td>13.0</td>\n",
       "      <td>5.0</td>\n",
       "      <td>0.0</td>\n",
       "      <td>0.0</td>\n",
       "      <td>2</td>\n",
       "      <td>5</td>\n",
       "      <td>37.0</td>\n",
       "      <td>30.0</td>\n",
       "      <td>76.0</td>\n",
       "      <td>3.5</td>\n",
       "      <td>320.0</td>\n",
       "      <td>10.0</td>\n",
       "      <td>30.04</td>\n",
       "      <td>Scattered Clouds</td>\n",
       "      <td>33.1</td>\n",
       "      <td>27.0</td>\n",
       "      <td>78.0</td>\n",
       "      <td>8.1</td>\n",
       "      <td>350.0</td>\n",
       "      <td>10.0</td>\n",
       "      <td>30.34</td>\n",
       "      <td>Light Rain</td>\n",
       "      <td>1</td>\n",
       "      <td>1</td>\n",
       "      <td>4</td>\n",
       "      <td>0</td>\n",
       "      <td>0</td>\n",
       "      <td>0</td>\n",
       "      <td>0</td>\n",
       "      <td>0</td>\n",
       "      <td>0</td>\n",
       "      <td>0</td>\n",
       "      <td>0</td>\n",
       "      <td>0</td>\n",
       "      <td>0</td>\n",
       "      <td>0</td>\n",
       "      <td>0</td>\n",
       "    </tr>\n",
       "    <tr>\n",
       "      <th>1</th>\n",
       "      <td>1</td>\n",
       "      <td>1</td>\n",
       "      <td>1</td>\n",
       "      <td>4</td>\n",
       "      <td>NK</td>\n",
       "      <td>PHX</td>\n",
       "      <td>DFW</td>\n",
       "      <td>0.0</td>\n",
       "      <td>868.0</td>\n",
       "      <td>0</td>\n",
       "      <td>0.0</td>\n",
       "      <td>0.0</td>\n",
       "      <td>0.0</td>\n",
       "      <td>0.0</td>\n",
       "      <td>0.0</td>\n",
       "      <td>0.0</td>\n",
       "      <td>0.0</td>\n",
       "      <td>0.0</td>\n",
       "      <td>0</td>\n",
       "      <td>0.0</td>\n",
       "      <td>0.0</td>\n",
       "      <td>0.0</td>\n",
       "      <td>0.0</td>\n",
       "      <td>0.0</td>\n",
       "      <td>0.0</td>\n",
       "      <td>0.0</td>\n",
       "      <td>0.0</td>\n",
       "      <td>0</td>\n",
       "      <td>0.0</td>\n",
       "      <td>0.0</td>\n",
       "      <td>0.0</td>\n",
       "      <td>0.0</td>\n",
       "      <td>0.0</td>\n",
       "      <td>0.0</td>\n",
       "      <td>0.0</td>\n",
       "      <td>0.0</td>\n",
       "      <td>1</td>\n",
       "      <td>5</td>\n",
       "      <td>37.0</td>\n",
       "      <td>30.9</td>\n",
       "      <td>79.0</td>\n",
       "      <td>4.6</td>\n",
       "      <td>300.0</td>\n",
       "      <td>10.0</td>\n",
       "      <td>30.03</td>\n",
       "      <td>Mostly Cloudy</td>\n",
       "      <td>33.1</td>\n",
       "      <td>27.0</td>\n",
       "      <td>78.0</td>\n",
       "      <td>8.1</td>\n",
       "      <td>350.0</td>\n",
       "      <td>10.0</td>\n",
       "      <td>30.34</td>\n",
       "      <td>Light Rain</td>\n",
       "      <td>1</td>\n",
       "      <td>1</td>\n",
       "      <td>4</td>\n",
       "      <td>1</td>\n",
       "      <td>1</td>\n",
       "      <td>1</td>\n",
       "      <td>0</td>\n",
       "      <td>0</td>\n",
       "      <td>0</td>\n",
       "      <td>0</td>\n",
       "      <td>0</td>\n",
       "      <td>0</td>\n",
       "      <td>0</td>\n",
       "      <td>0</td>\n",
       "      <td>0</td>\n",
       "    </tr>\n",
       "    <tr>\n",
       "      <th>2</th>\n",
       "      <td>2</td>\n",
       "      <td>1</td>\n",
       "      <td>1</td>\n",
       "      <td>4</td>\n",
       "      <td>DL</td>\n",
       "      <td>DEN</td>\n",
       "      <td>ATL</td>\n",
       "      <td>0.0</td>\n",
       "      <td>1199.0</td>\n",
       "      <td>10</td>\n",
       "      <td>3.5</td>\n",
       "      <td>48.0</td>\n",
       "      <td>-7.5</td>\n",
       "      <td>52.0</td>\n",
       "      <td>15.0</td>\n",
       "      <td>6.5</td>\n",
       "      <td>0.0</td>\n",
       "      <td>0.0</td>\n",
       "      <td>12</td>\n",
       "      <td>3.5</td>\n",
       "      <td>48.0</td>\n",
       "      <td>-7.5</td>\n",
       "      <td>52.0</td>\n",
       "      <td>14.5</td>\n",
       "      <td>6.5</td>\n",
       "      <td>0.0</td>\n",
       "      <td>0.0</td>\n",
       "      <td>12</td>\n",
       "      <td>3.5</td>\n",
       "      <td>48.0</td>\n",
       "      <td>-7.5</td>\n",
       "      <td>52.0</td>\n",
       "      <td>14.5</td>\n",
       "      <td>6.5</td>\n",
       "      <td>0.0</td>\n",
       "      <td>0.0</td>\n",
       "      <td>0</td>\n",
       "      <td>5</td>\n",
       "      <td>7.0</td>\n",
       "      <td>-8.0</td>\n",
       "      <td>51.0</td>\n",
       "      <td>15.0</td>\n",
       "      <td>170.0</td>\n",
       "      <td>10.0</td>\n",
       "      <td>30.22</td>\n",
       "      <td>Clear</td>\n",
       "      <td>33.1</td>\n",
       "      <td>26.1</td>\n",
       "      <td>75.0</td>\n",
       "      <td>3.5</td>\n",
       "      <td>310.0</td>\n",
       "      <td>10.0</td>\n",
       "      <td>30.32</td>\n",
       "      <td>Partly Cloudy</td>\n",
       "      <td>1</td>\n",
       "      <td>1</td>\n",
       "      <td>4</td>\n",
       "      <td>0</td>\n",
       "      <td>0</td>\n",
       "      <td>0</td>\n",
       "      <td>0</td>\n",
       "      <td>0</td>\n",
       "      <td>0</td>\n",
       "      <td>0</td>\n",
       "      <td>0</td>\n",
       "      <td>0</td>\n",
       "      <td>0</td>\n",
       "      <td>0</td>\n",
       "      <td>0</td>\n",
       "    </tr>\n",
       "    <tr>\n",
       "      <th>3</th>\n",
       "      <td>3</td>\n",
       "      <td>1</td>\n",
       "      <td>1</td>\n",
       "      <td>4</td>\n",
       "      <td>NK</td>\n",
       "      <td>LAS</td>\n",
       "      <td>MSP</td>\n",
       "      <td>0.0</td>\n",
       "      <td>1299.0</td>\n",
       "      <td>0</td>\n",
       "      <td>0.0</td>\n",
       "      <td>0.0</td>\n",
       "      <td>0.0</td>\n",
       "      <td>0.0</td>\n",
       "      <td>0.0</td>\n",
       "      <td>0.0</td>\n",
       "      <td>0.0</td>\n",
       "      <td>0.0</td>\n",
       "      <td>0</td>\n",
       "      <td>0.0</td>\n",
       "      <td>0.0</td>\n",
       "      <td>0.0</td>\n",
       "      <td>0.0</td>\n",
       "      <td>0.0</td>\n",
       "      <td>0.0</td>\n",
       "      <td>0.0</td>\n",
       "      <td>0.0</td>\n",
       "      <td>0</td>\n",
       "      <td>0.0</td>\n",
       "      <td>0.0</td>\n",
       "      <td>0.0</td>\n",
       "      <td>0.0</td>\n",
       "      <td>0.0</td>\n",
       "      <td>0.0</td>\n",
       "      <td>0.0</td>\n",
       "      <td>0.0</td>\n",
       "      <td>0</td>\n",
       "      <td>5</td>\n",
       "      <td>34.0</td>\n",
       "      <td>17.1</td>\n",
       "      <td>50.0</td>\n",
       "      <td>9.2</td>\n",
       "      <td>190.0</td>\n",
       "      <td>10.0</td>\n",
       "      <td>29.99</td>\n",
       "      <td>Mostly Cloudy</td>\n",
       "      <td>16.0</td>\n",
       "      <td>10.0</td>\n",
       "      <td>77.0</td>\n",
       "      <td>8.1</td>\n",
       "      <td>240.0</td>\n",
       "      <td>10.0</td>\n",
       "      <td>29.90</td>\n",
       "      <td>Overcast</td>\n",
       "      <td>1</td>\n",
       "      <td>1</td>\n",
       "      <td>4</td>\n",
       "      <td>1</td>\n",
       "      <td>1</td>\n",
       "      <td>1</td>\n",
       "      <td>0</td>\n",
       "      <td>0</td>\n",
       "      <td>0</td>\n",
       "      <td>0</td>\n",
       "      <td>0</td>\n",
       "      <td>0</td>\n",
       "      <td>0</td>\n",
       "      <td>0</td>\n",
       "      <td>0</td>\n",
       "    </tr>\n",
       "    <tr>\n",
       "      <th>4</th>\n",
       "      <td>4</td>\n",
       "      <td>1</td>\n",
       "      <td>1</td>\n",
       "      <td>4</td>\n",
       "      <td>NK</td>\n",
       "      <td>LAS</td>\n",
       "      <td>DFW</td>\n",
       "      <td>0.0</td>\n",
       "      <td>1055.0</td>\n",
       "      <td>0</td>\n",
       "      <td>0.0</td>\n",
       "      <td>0.0</td>\n",
       "      <td>0.0</td>\n",
       "      <td>0.0</td>\n",
       "      <td>0.0</td>\n",
       "      <td>0.0</td>\n",
       "      <td>0.0</td>\n",
       "      <td>0.0</td>\n",
       "      <td>0</td>\n",
       "      <td>0.0</td>\n",
       "      <td>0.0</td>\n",
       "      <td>0.0</td>\n",
       "      <td>0.0</td>\n",
       "      <td>0.0</td>\n",
       "      <td>0.0</td>\n",
       "      <td>0.0</td>\n",
       "      <td>0.0</td>\n",
       "      <td>0</td>\n",
       "      <td>0.0</td>\n",
       "      <td>0.0</td>\n",
       "      <td>0.0</td>\n",
       "      <td>0.0</td>\n",
       "      <td>0.0</td>\n",
       "      <td>0.0</td>\n",
       "      <td>0.0</td>\n",
       "      <td>0.0</td>\n",
       "      <td>1</td>\n",
       "      <td>5</td>\n",
       "      <td>32.0</td>\n",
       "      <td>17.1</td>\n",
       "      <td>54.0</td>\n",
       "      <td>10.4</td>\n",
       "      <td>190.0</td>\n",
       "      <td>10.0</td>\n",
       "      <td>30.00</td>\n",
       "      <td>Mostly Cloudy</td>\n",
       "      <td>33.1</td>\n",
       "      <td>27.0</td>\n",
       "      <td>78.0</td>\n",
       "      <td>8.1</td>\n",
       "      <td>350.0</td>\n",
       "      <td>10.0</td>\n",
       "      <td>30.34</td>\n",
       "      <td>Light Rain</td>\n",
       "      <td>1</td>\n",
       "      <td>1</td>\n",
       "      <td>4</td>\n",
       "      <td>1</td>\n",
       "      <td>1</td>\n",
       "      <td>1</td>\n",
       "      <td>0</td>\n",
       "      <td>0</td>\n",
       "      <td>0</td>\n",
       "      <td>0</td>\n",
       "      <td>0</td>\n",
       "      <td>0</td>\n",
       "      <td>0</td>\n",
       "      <td>0</td>\n",
       "      <td>0</td>\n",
       "    </tr>\n",
       "  </tbody>\n",
       "</table>\n",
       "</div>"
      ],
      "text/plain": [
       "   Unnamed: 0  Month  DayofMonth  DayOfWeek Carrier Origin Dest  Cancelled  \\\n",
       "0           0      1           1          4      AA    PHX  DFW        1.0   \n",
       "1           1      1           1          4      NK    PHX  DFW        0.0   \n",
       "2           2      1           1          4      DL    DEN  ATL        0.0   \n",
       "3           3      1           1          4      NK    LAS  MSP        0.0   \n",
       "4           4      1           1          4      NK    LAS  DFW        0.0   \n",
       "\n",
       "   Distance  Nflights_10  DepDelayMedian_10  DepDelayMax_10  \\\n",
       "0     868.0           10               -2.0             0.0   \n",
       "1     868.0            0                0.0             0.0   \n",
       "2    1199.0           10                3.5            48.0   \n",
       "3    1299.0            0                0.0             0.0   \n",
       "4    1055.0            0                0.0             0.0   \n",
       "\n",
       "   ArrDelayMedian_10  ArrDelayMax_10  TaxiOutMedian_10  TaxiInMedian_10  \\\n",
       "0               -2.5            17.0              13.0              4.0   \n",
       "1                0.0             0.0               0.0              0.0   \n",
       "2               -7.5            52.0              15.0              6.5   \n",
       "3                0.0             0.0               0.0              0.0   \n",
       "4                0.0             0.0               0.0              0.0   \n",
       "\n",
       "   Ncan_10  Ndiv_10  Nflights_20  DepDelayMedian_20  DepDelayMax_20  \\\n",
       "0      0.0      0.0           14               -2.0             0.0   \n",
       "1      0.0      0.0            0                0.0             0.0   \n",
       "2      0.0      0.0           12                3.5            48.0   \n",
       "3      0.0      0.0            0                0.0             0.0   \n",
       "4      0.0      0.0            0                0.0             0.0   \n",
       "\n",
       "   ArrDelayMedian_20  ArrDelayMax_20  TaxiOutMedian_20  TaxiInMedian_20  \\\n",
       "0               -0.5            17.0              13.0              5.0   \n",
       "1                0.0             0.0               0.0              0.0   \n",
       "2               -7.5            52.0              14.5              6.5   \n",
       "3                0.0             0.0               0.0              0.0   \n",
       "4                0.0             0.0               0.0              0.0   \n",
       "\n",
       "   Ncan_20  Ndiv_20  Nflights_30  DepDelayMedian_30  DepDelayMax_30  \\\n",
       "0      0.0      0.0           14               -2.0             0.0   \n",
       "1      0.0      0.0            0                0.0             0.0   \n",
       "2      0.0      0.0           12                3.5            48.0   \n",
       "3      0.0      0.0            0                0.0             0.0   \n",
       "4      0.0      0.0            0                0.0             0.0   \n",
       "\n",
       "   ArrDelayMedian_30  ArrDelayMax_30  TaxiOutMedian_30  TaxiInMedian_30  \\\n",
       "0               -0.5            17.0              13.0              5.0   \n",
       "1                0.0             0.0               0.0              0.0   \n",
       "2               -7.5            52.0              14.5              6.5   \n",
       "3                0.0             0.0               0.0              0.0   \n",
       "4                0.0             0.0               0.0              0.0   \n",
       "\n",
       "   Ncan_30  Ndiv_30  CRSDepHr  CRSArrHr  Temperature_Origin  DewPoint_Origin  \\\n",
       "0      0.0      0.0         2         5                37.0             30.0   \n",
       "1      0.0      0.0         1         5                37.0             30.9   \n",
       "2      0.0      0.0         0         5                 7.0             -8.0   \n",
       "3      0.0      0.0         0         5                34.0             17.1   \n",
       "4      0.0      0.0         1         5                32.0             17.1   \n",
       "\n",
       "   Humidity_Origin  WindSpeed_Origin  WindDirection_Origin  Visibility_Origin  \\\n",
       "0             76.0               3.5                 320.0               10.0   \n",
       "1             79.0               4.6                 300.0               10.0   \n",
       "2             51.0              15.0                 170.0               10.0   \n",
       "3             50.0               9.2                 190.0               10.0   \n",
       "4             54.0              10.4                 190.0               10.0   \n",
       "\n",
       "   Pressure_Origin  Condition_Origin  Temperature_Dest  DewPoint_Dest  \\\n",
       "0            30.04  Scattered Clouds              33.1           27.0   \n",
       "1            30.03     Mostly Cloudy              33.1           27.0   \n",
       "2            30.22             Clear              33.1           26.1   \n",
       "3            29.99     Mostly Cloudy              16.0           10.0   \n",
       "4            30.00     Mostly Cloudy              33.1           27.0   \n",
       "\n",
       "   Humidity_Dest  WindSpeed_Dest  WindDirection_Dest  Visibility_Dest  \\\n",
       "0           78.0             8.1               350.0             10.0   \n",
       "1           78.0             8.1               350.0             10.0   \n",
       "2           75.0             3.5               310.0             10.0   \n",
       "3           77.0             8.1               240.0             10.0   \n",
       "4           78.0             8.1               350.0             10.0   \n",
       "\n",
       "   Pressure_Dest Condition_Dest  Month_Dest  DayOfMonth_Dest  DayOfWeek_Dest  \\\n",
       "0          30.34     Light Rain           1                1               4   \n",
       "1          30.34     Light Rain           1                1               4   \n",
       "2          30.32  Partly Cloudy           1                1               4   \n",
       "3          29.90       Overcast           1                1               4   \n",
       "4          30.34     Light Rain           1                1               4   \n",
       "\n",
       "   TempFlight_30  TempFlight_20  TempFlight_10  AllCanceled_30  \\\n",
       "0              0              0              0               0   \n",
       "1              1              1              1               0   \n",
       "2              0              0              0               0   \n",
       "3              1              1              1               0   \n",
       "4              1              1              1               0   \n",
       "\n",
       "   AllDiverted_30  AllCanceled_20  AllDiverted_20  AllCanDiv_20  AllCanDiv_30  \\\n",
       "0               0               0               0             0             0   \n",
       "1               0               0               0             0             0   \n",
       "2               0               0               0             0             0   \n",
       "3               0               0               0             0             0   \n",
       "4               0               0               0             0             0   \n",
       "\n",
       "   AllCanceled_10  AllDiverted_10  AllCanDiv_10  \n",
       "0               0               0             0  \n",
       "1               0               0             0  \n",
       "2               0               0             0  \n",
       "3               0               0             0  \n",
       "4               0               0             0  "
      ]
     },
     "execution_count": 24,
     "metadata": {},
     "output_type": "execute_result"
    }
   ],
   "source": [
    "df.head()"
   ]
  },
  {
   "cell_type": "code",
   "execution_count": 25,
   "metadata": {
    "collapsed": true
   },
   "outputs": [],
   "source": [
    "df.drop([\"Unnamed: 0\"], axis=1, inplace=True)"
   ]
  },
  {
   "cell_type": "code",
   "execution_count": 26,
   "metadata": {},
   "outputs": [
    {
     "data": {
      "text/html": [
       "<div>\n",
       "<style>\n",
       "    .dataframe thead tr:only-child th {\n",
       "        text-align: right;\n",
       "    }\n",
       "\n",
       "    .dataframe thead th {\n",
       "        text-align: left;\n",
       "    }\n",
       "\n",
       "    .dataframe tbody tr th {\n",
       "        vertical-align: top;\n",
       "    }\n",
       "</style>\n",
       "<table border=\"1\" class=\"dataframe\">\n",
       "  <thead>\n",
       "    <tr style=\"text-align: right;\">\n",
       "      <th></th>\n",
       "      <th>Month</th>\n",
       "      <th>DayofMonth</th>\n",
       "      <th>DayOfWeek</th>\n",
       "      <th>Carrier</th>\n",
       "      <th>Origin</th>\n",
       "      <th>Dest</th>\n",
       "      <th>Cancelled</th>\n",
       "      <th>Distance</th>\n",
       "      <th>Nflights_10</th>\n",
       "      <th>DepDelayMedian_10</th>\n",
       "      <th>DepDelayMax_10</th>\n",
       "      <th>ArrDelayMedian_10</th>\n",
       "      <th>ArrDelayMax_10</th>\n",
       "      <th>TaxiOutMedian_10</th>\n",
       "      <th>TaxiInMedian_10</th>\n",
       "      <th>Ncan_10</th>\n",
       "      <th>Ndiv_10</th>\n",
       "      <th>Nflights_20</th>\n",
       "      <th>DepDelayMedian_20</th>\n",
       "      <th>DepDelayMax_20</th>\n",
       "      <th>ArrDelayMedian_20</th>\n",
       "      <th>ArrDelayMax_20</th>\n",
       "      <th>TaxiOutMedian_20</th>\n",
       "      <th>TaxiInMedian_20</th>\n",
       "      <th>Ncan_20</th>\n",
       "      <th>Ndiv_20</th>\n",
       "      <th>Nflights_30</th>\n",
       "      <th>DepDelayMedian_30</th>\n",
       "      <th>DepDelayMax_30</th>\n",
       "      <th>ArrDelayMedian_30</th>\n",
       "      <th>ArrDelayMax_30</th>\n",
       "      <th>TaxiOutMedian_30</th>\n",
       "      <th>TaxiInMedian_30</th>\n",
       "      <th>Ncan_30</th>\n",
       "      <th>Ndiv_30</th>\n",
       "      <th>CRSDepHr</th>\n",
       "      <th>CRSArrHr</th>\n",
       "      <th>Temperature_Origin</th>\n",
       "      <th>DewPoint_Origin</th>\n",
       "      <th>Humidity_Origin</th>\n",
       "      <th>WindSpeed_Origin</th>\n",
       "      <th>WindDirection_Origin</th>\n",
       "      <th>Visibility_Origin</th>\n",
       "      <th>Pressure_Origin</th>\n",
       "      <th>Condition_Origin</th>\n",
       "      <th>Temperature_Dest</th>\n",
       "      <th>DewPoint_Dest</th>\n",
       "      <th>Humidity_Dest</th>\n",
       "      <th>WindSpeed_Dest</th>\n",
       "      <th>WindDirection_Dest</th>\n",
       "      <th>Visibility_Dest</th>\n",
       "      <th>Pressure_Dest</th>\n",
       "      <th>Condition_Dest</th>\n",
       "      <th>Month_Dest</th>\n",
       "      <th>DayOfMonth_Dest</th>\n",
       "      <th>DayOfWeek_Dest</th>\n",
       "      <th>TempFlight_30</th>\n",
       "      <th>TempFlight_20</th>\n",
       "      <th>TempFlight_10</th>\n",
       "      <th>AllCanceled_30</th>\n",
       "      <th>AllDiverted_30</th>\n",
       "      <th>AllCanceled_20</th>\n",
       "      <th>AllDiverted_20</th>\n",
       "      <th>AllCanDiv_20</th>\n",
       "      <th>AllCanDiv_30</th>\n",
       "      <th>AllCanceled_10</th>\n",
       "      <th>AllDiverted_10</th>\n",
       "      <th>AllCanDiv_10</th>\n",
       "    </tr>\n",
       "  </thead>\n",
       "  <tbody>\n",
       "    <tr>\n",
       "      <th>0</th>\n",
       "      <td>1</td>\n",
       "      <td>1</td>\n",
       "      <td>4</td>\n",
       "      <td>AA</td>\n",
       "      <td>PHX</td>\n",
       "      <td>DFW</td>\n",
       "      <td>1.0</td>\n",
       "      <td>868.0</td>\n",
       "      <td>10</td>\n",
       "      <td>-2.0</td>\n",
       "      <td>0.0</td>\n",
       "      <td>-2.5</td>\n",
       "      <td>17.0</td>\n",
       "      <td>13.0</td>\n",
       "      <td>4.0</td>\n",
       "      <td>0.0</td>\n",
       "      <td>0.0</td>\n",
       "      <td>14</td>\n",
       "      <td>-2.0</td>\n",
       "      <td>0.0</td>\n",
       "      <td>-0.5</td>\n",
       "      <td>17.0</td>\n",
       "      <td>13.0</td>\n",
       "      <td>5.0</td>\n",
       "      <td>0.0</td>\n",
       "      <td>0.0</td>\n",
       "      <td>14</td>\n",
       "      <td>-2.0</td>\n",
       "      <td>0.0</td>\n",
       "      <td>-0.5</td>\n",
       "      <td>17.0</td>\n",
       "      <td>13.0</td>\n",
       "      <td>5.0</td>\n",
       "      <td>0.0</td>\n",
       "      <td>0.0</td>\n",
       "      <td>2</td>\n",
       "      <td>5</td>\n",
       "      <td>37.0</td>\n",
       "      <td>30.0</td>\n",
       "      <td>76.0</td>\n",
       "      <td>3.5</td>\n",
       "      <td>320.0</td>\n",
       "      <td>10.0</td>\n",
       "      <td>30.04</td>\n",
       "      <td>Scattered Clouds</td>\n",
       "      <td>33.1</td>\n",
       "      <td>27.0</td>\n",
       "      <td>78.0</td>\n",
       "      <td>8.1</td>\n",
       "      <td>350.0</td>\n",
       "      <td>10.0</td>\n",
       "      <td>30.34</td>\n",
       "      <td>Light Rain</td>\n",
       "      <td>1</td>\n",
       "      <td>1</td>\n",
       "      <td>4</td>\n",
       "      <td>0</td>\n",
       "      <td>0</td>\n",
       "      <td>0</td>\n",
       "      <td>0</td>\n",
       "      <td>0</td>\n",
       "      <td>0</td>\n",
       "      <td>0</td>\n",
       "      <td>0</td>\n",
       "      <td>0</td>\n",
       "      <td>0</td>\n",
       "      <td>0</td>\n",
       "      <td>0</td>\n",
       "    </tr>\n",
       "    <tr>\n",
       "      <th>1</th>\n",
       "      <td>1</td>\n",
       "      <td>1</td>\n",
       "      <td>4</td>\n",
       "      <td>NK</td>\n",
       "      <td>PHX</td>\n",
       "      <td>DFW</td>\n",
       "      <td>0.0</td>\n",
       "      <td>868.0</td>\n",
       "      <td>0</td>\n",
       "      <td>0.0</td>\n",
       "      <td>0.0</td>\n",
       "      <td>0.0</td>\n",
       "      <td>0.0</td>\n",
       "      <td>0.0</td>\n",
       "      <td>0.0</td>\n",
       "      <td>0.0</td>\n",
       "      <td>0.0</td>\n",
       "      <td>0</td>\n",
       "      <td>0.0</td>\n",
       "      <td>0.0</td>\n",
       "      <td>0.0</td>\n",
       "      <td>0.0</td>\n",
       "      <td>0.0</td>\n",
       "      <td>0.0</td>\n",
       "      <td>0.0</td>\n",
       "      <td>0.0</td>\n",
       "      <td>0</td>\n",
       "      <td>0.0</td>\n",
       "      <td>0.0</td>\n",
       "      <td>0.0</td>\n",
       "      <td>0.0</td>\n",
       "      <td>0.0</td>\n",
       "      <td>0.0</td>\n",
       "      <td>0.0</td>\n",
       "      <td>0.0</td>\n",
       "      <td>1</td>\n",
       "      <td>5</td>\n",
       "      <td>37.0</td>\n",
       "      <td>30.9</td>\n",
       "      <td>79.0</td>\n",
       "      <td>4.6</td>\n",
       "      <td>300.0</td>\n",
       "      <td>10.0</td>\n",
       "      <td>30.03</td>\n",
       "      <td>Mostly Cloudy</td>\n",
       "      <td>33.1</td>\n",
       "      <td>27.0</td>\n",
       "      <td>78.0</td>\n",
       "      <td>8.1</td>\n",
       "      <td>350.0</td>\n",
       "      <td>10.0</td>\n",
       "      <td>30.34</td>\n",
       "      <td>Light Rain</td>\n",
       "      <td>1</td>\n",
       "      <td>1</td>\n",
       "      <td>4</td>\n",
       "      <td>1</td>\n",
       "      <td>1</td>\n",
       "      <td>1</td>\n",
       "      <td>0</td>\n",
       "      <td>0</td>\n",
       "      <td>0</td>\n",
       "      <td>0</td>\n",
       "      <td>0</td>\n",
       "      <td>0</td>\n",
       "      <td>0</td>\n",
       "      <td>0</td>\n",
       "      <td>0</td>\n",
       "    </tr>\n",
       "    <tr>\n",
       "      <th>2</th>\n",
       "      <td>1</td>\n",
       "      <td>1</td>\n",
       "      <td>4</td>\n",
       "      <td>DL</td>\n",
       "      <td>DEN</td>\n",
       "      <td>ATL</td>\n",
       "      <td>0.0</td>\n",
       "      <td>1199.0</td>\n",
       "      <td>10</td>\n",
       "      <td>3.5</td>\n",
       "      <td>48.0</td>\n",
       "      <td>-7.5</td>\n",
       "      <td>52.0</td>\n",
       "      <td>15.0</td>\n",
       "      <td>6.5</td>\n",
       "      <td>0.0</td>\n",
       "      <td>0.0</td>\n",
       "      <td>12</td>\n",
       "      <td>3.5</td>\n",
       "      <td>48.0</td>\n",
       "      <td>-7.5</td>\n",
       "      <td>52.0</td>\n",
       "      <td>14.5</td>\n",
       "      <td>6.5</td>\n",
       "      <td>0.0</td>\n",
       "      <td>0.0</td>\n",
       "      <td>12</td>\n",
       "      <td>3.5</td>\n",
       "      <td>48.0</td>\n",
       "      <td>-7.5</td>\n",
       "      <td>52.0</td>\n",
       "      <td>14.5</td>\n",
       "      <td>6.5</td>\n",
       "      <td>0.0</td>\n",
       "      <td>0.0</td>\n",
       "      <td>0</td>\n",
       "      <td>5</td>\n",
       "      <td>7.0</td>\n",
       "      <td>-8.0</td>\n",
       "      <td>51.0</td>\n",
       "      <td>15.0</td>\n",
       "      <td>170.0</td>\n",
       "      <td>10.0</td>\n",
       "      <td>30.22</td>\n",
       "      <td>Clear</td>\n",
       "      <td>33.1</td>\n",
       "      <td>26.1</td>\n",
       "      <td>75.0</td>\n",
       "      <td>3.5</td>\n",
       "      <td>310.0</td>\n",
       "      <td>10.0</td>\n",
       "      <td>30.32</td>\n",
       "      <td>Partly Cloudy</td>\n",
       "      <td>1</td>\n",
       "      <td>1</td>\n",
       "      <td>4</td>\n",
       "      <td>0</td>\n",
       "      <td>0</td>\n",
       "      <td>0</td>\n",
       "      <td>0</td>\n",
       "      <td>0</td>\n",
       "      <td>0</td>\n",
       "      <td>0</td>\n",
       "      <td>0</td>\n",
       "      <td>0</td>\n",
       "      <td>0</td>\n",
       "      <td>0</td>\n",
       "      <td>0</td>\n",
       "    </tr>\n",
       "    <tr>\n",
       "      <th>3</th>\n",
       "      <td>1</td>\n",
       "      <td>1</td>\n",
       "      <td>4</td>\n",
       "      <td>NK</td>\n",
       "      <td>LAS</td>\n",
       "      <td>MSP</td>\n",
       "      <td>0.0</td>\n",
       "      <td>1299.0</td>\n",
       "      <td>0</td>\n",
       "      <td>0.0</td>\n",
       "      <td>0.0</td>\n",
       "      <td>0.0</td>\n",
       "      <td>0.0</td>\n",
       "      <td>0.0</td>\n",
       "      <td>0.0</td>\n",
       "      <td>0.0</td>\n",
       "      <td>0.0</td>\n",
       "      <td>0</td>\n",
       "      <td>0.0</td>\n",
       "      <td>0.0</td>\n",
       "      <td>0.0</td>\n",
       "      <td>0.0</td>\n",
       "      <td>0.0</td>\n",
       "      <td>0.0</td>\n",
       "      <td>0.0</td>\n",
       "      <td>0.0</td>\n",
       "      <td>0</td>\n",
       "      <td>0.0</td>\n",
       "      <td>0.0</td>\n",
       "      <td>0.0</td>\n",
       "      <td>0.0</td>\n",
       "      <td>0.0</td>\n",
       "      <td>0.0</td>\n",
       "      <td>0.0</td>\n",
       "      <td>0.0</td>\n",
       "      <td>0</td>\n",
       "      <td>5</td>\n",
       "      <td>34.0</td>\n",
       "      <td>17.1</td>\n",
       "      <td>50.0</td>\n",
       "      <td>9.2</td>\n",
       "      <td>190.0</td>\n",
       "      <td>10.0</td>\n",
       "      <td>29.99</td>\n",
       "      <td>Mostly Cloudy</td>\n",
       "      <td>16.0</td>\n",
       "      <td>10.0</td>\n",
       "      <td>77.0</td>\n",
       "      <td>8.1</td>\n",
       "      <td>240.0</td>\n",
       "      <td>10.0</td>\n",
       "      <td>29.90</td>\n",
       "      <td>Overcast</td>\n",
       "      <td>1</td>\n",
       "      <td>1</td>\n",
       "      <td>4</td>\n",
       "      <td>1</td>\n",
       "      <td>1</td>\n",
       "      <td>1</td>\n",
       "      <td>0</td>\n",
       "      <td>0</td>\n",
       "      <td>0</td>\n",
       "      <td>0</td>\n",
       "      <td>0</td>\n",
       "      <td>0</td>\n",
       "      <td>0</td>\n",
       "      <td>0</td>\n",
       "      <td>0</td>\n",
       "    </tr>\n",
       "    <tr>\n",
       "      <th>4</th>\n",
       "      <td>1</td>\n",
       "      <td>1</td>\n",
       "      <td>4</td>\n",
       "      <td>NK</td>\n",
       "      <td>LAS</td>\n",
       "      <td>DFW</td>\n",
       "      <td>0.0</td>\n",
       "      <td>1055.0</td>\n",
       "      <td>0</td>\n",
       "      <td>0.0</td>\n",
       "      <td>0.0</td>\n",
       "      <td>0.0</td>\n",
       "      <td>0.0</td>\n",
       "      <td>0.0</td>\n",
       "      <td>0.0</td>\n",
       "      <td>0.0</td>\n",
       "      <td>0.0</td>\n",
       "      <td>0</td>\n",
       "      <td>0.0</td>\n",
       "      <td>0.0</td>\n",
       "      <td>0.0</td>\n",
       "      <td>0.0</td>\n",
       "      <td>0.0</td>\n",
       "      <td>0.0</td>\n",
       "      <td>0.0</td>\n",
       "      <td>0.0</td>\n",
       "      <td>0</td>\n",
       "      <td>0.0</td>\n",
       "      <td>0.0</td>\n",
       "      <td>0.0</td>\n",
       "      <td>0.0</td>\n",
       "      <td>0.0</td>\n",
       "      <td>0.0</td>\n",
       "      <td>0.0</td>\n",
       "      <td>0.0</td>\n",
       "      <td>1</td>\n",
       "      <td>5</td>\n",
       "      <td>32.0</td>\n",
       "      <td>17.1</td>\n",
       "      <td>54.0</td>\n",
       "      <td>10.4</td>\n",
       "      <td>190.0</td>\n",
       "      <td>10.0</td>\n",
       "      <td>30.00</td>\n",
       "      <td>Mostly Cloudy</td>\n",
       "      <td>33.1</td>\n",
       "      <td>27.0</td>\n",
       "      <td>78.0</td>\n",
       "      <td>8.1</td>\n",
       "      <td>350.0</td>\n",
       "      <td>10.0</td>\n",
       "      <td>30.34</td>\n",
       "      <td>Light Rain</td>\n",
       "      <td>1</td>\n",
       "      <td>1</td>\n",
       "      <td>4</td>\n",
       "      <td>1</td>\n",
       "      <td>1</td>\n",
       "      <td>1</td>\n",
       "      <td>0</td>\n",
       "      <td>0</td>\n",
       "      <td>0</td>\n",
       "      <td>0</td>\n",
       "      <td>0</td>\n",
       "      <td>0</td>\n",
       "      <td>0</td>\n",
       "      <td>0</td>\n",
       "      <td>0</td>\n",
       "    </tr>\n",
       "  </tbody>\n",
       "</table>\n",
       "</div>"
      ],
      "text/plain": [
       "   Month  DayofMonth  DayOfWeek Carrier Origin Dest  Cancelled  Distance  \\\n",
       "0      1           1          4      AA    PHX  DFW        1.0     868.0   \n",
       "1      1           1          4      NK    PHX  DFW        0.0     868.0   \n",
       "2      1           1          4      DL    DEN  ATL        0.0    1199.0   \n",
       "3      1           1          4      NK    LAS  MSP        0.0    1299.0   \n",
       "4      1           1          4      NK    LAS  DFW        0.0    1055.0   \n",
       "\n",
       "   Nflights_10  DepDelayMedian_10  DepDelayMax_10  ArrDelayMedian_10  \\\n",
       "0           10               -2.0             0.0               -2.5   \n",
       "1            0                0.0             0.0                0.0   \n",
       "2           10                3.5            48.0               -7.5   \n",
       "3            0                0.0             0.0                0.0   \n",
       "4            0                0.0             0.0                0.0   \n",
       "\n",
       "   ArrDelayMax_10  TaxiOutMedian_10  TaxiInMedian_10  Ncan_10  Ndiv_10  \\\n",
       "0            17.0              13.0              4.0      0.0      0.0   \n",
       "1             0.0               0.0              0.0      0.0      0.0   \n",
       "2            52.0              15.0              6.5      0.0      0.0   \n",
       "3             0.0               0.0              0.0      0.0      0.0   \n",
       "4             0.0               0.0              0.0      0.0      0.0   \n",
       "\n",
       "   Nflights_20  DepDelayMedian_20  DepDelayMax_20  ArrDelayMedian_20  \\\n",
       "0           14               -2.0             0.0               -0.5   \n",
       "1            0                0.0             0.0                0.0   \n",
       "2           12                3.5            48.0               -7.5   \n",
       "3            0                0.0             0.0                0.0   \n",
       "4            0                0.0             0.0                0.0   \n",
       "\n",
       "   ArrDelayMax_20  TaxiOutMedian_20  TaxiInMedian_20  Ncan_20  Ndiv_20  \\\n",
       "0            17.0              13.0              5.0      0.0      0.0   \n",
       "1             0.0               0.0              0.0      0.0      0.0   \n",
       "2            52.0              14.5              6.5      0.0      0.0   \n",
       "3             0.0               0.0              0.0      0.0      0.0   \n",
       "4             0.0               0.0              0.0      0.0      0.0   \n",
       "\n",
       "   Nflights_30  DepDelayMedian_30  DepDelayMax_30  ArrDelayMedian_30  \\\n",
       "0           14               -2.0             0.0               -0.5   \n",
       "1            0                0.0             0.0                0.0   \n",
       "2           12                3.5            48.0               -7.5   \n",
       "3            0                0.0             0.0                0.0   \n",
       "4            0                0.0             0.0                0.0   \n",
       "\n",
       "   ArrDelayMax_30  TaxiOutMedian_30  TaxiInMedian_30  Ncan_30  Ndiv_30  \\\n",
       "0            17.0              13.0              5.0      0.0      0.0   \n",
       "1             0.0               0.0              0.0      0.0      0.0   \n",
       "2            52.0              14.5              6.5      0.0      0.0   \n",
       "3             0.0               0.0              0.0      0.0      0.0   \n",
       "4             0.0               0.0              0.0      0.0      0.0   \n",
       "\n",
       "   CRSDepHr  CRSArrHr  Temperature_Origin  DewPoint_Origin  Humidity_Origin  \\\n",
       "0         2         5                37.0             30.0             76.0   \n",
       "1         1         5                37.0             30.9             79.0   \n",
       "2         0         5                 7.0             -8.0             51.0   \n",
       "3         0         5                34.0             17.1             50.0   \n",
       "4         1         5                32.0             17.1             54.0   \n",
       "\n",
       "   WindSpeed_Origin  WindDirection_Origin  Visibility_Origin  Pressure_Origin  \\\n",
       "0               3.5                 320.0               10.0            30.04   \n",
       "1               4.6                 300.0               10.0            30.03   \n",
       "2              15.0                 170.0               10.0            30.22   \n",
       "3               9.2                 190.0               10.0            29.99   \n",
       "4              10.4                 190.0               10.0            30.00   \n",
       "\n",
       "   Condition_Origin  Temperature_Dest  DewPoint_Dest  Humidity_Dest  \\\n",
       "0  Scattered Clouds              33.1           27.0           78.0   \n",
       "1     Mostly Cloudy              33.1           27.0           78.0   \n",
       "2             Clear              33.1           26.1           75.0   \n",
       "3     Mostly Cloudy              16.0           10.0           77.0   \n",
       "4     Mostly Cloudy              33.1           27.0           78.0   \n",
       "\n",
       "   WindSpeed_Dest  WindDirection_Dest  Visibility_Dest  Pressure_Dest  \\\n",
       "0             8.1               350.0             10.0          30.34   \n",
       "1             8.1               350.0             10.0          30.34   \n",
       "2             3.5               310.0             10.0          30.32   \n",
       "3             8.1               240.0             10.0          29.90   \n",
       "4             8.1               350.0             10.0          30.34   \n",
       "\n",
       "  Condition_Dest  Month_Dest  DayOfMonth_Dest  DayOfWeek_Dest  TempFlight_30  \\\n",
       "0     Light Rain           1                1               4              0   \n",
       "1     Light Rain           1                1               4              1   \n",
       "2  Partly Cloudy           1                1               4              0   \n",
       "3       Overcast           1                1               4              1   \n",
       "4     Light Rain           1                1               4              1   \n",
       "\n",
       "   TempFlight_20  TempFlight_10  AllCanceled_30  AllDiverted_30  \\\n",
       "0              0              0               0               0   \n",
       "1              1              1               0               0   \n",
       "2              0              0               0               0   \n",
       "3              1              1               0               0   \n",
       "4              1              1               0               0   \n",
       "\n",
       "   AllCanceled_20  AllDiverted_20  AllCanDiv_20  AllCanDiv_30  AllCanceled_10  \\\n",
       "0               0               0             0             0               0   \n",
       "1               0               0             0             0               0   \n",
       "2               0               0             0             0               0   \n",
       "3               0               0             0             0               0   \n",
       "4               0               0             0             0               0   \n",
       "\n",
       "   AllDiverted_10  AllCanDiv_10  \n",
       "0               0             0  \n",
       "1               0             0  \n",
       "2               0             0  \n",
       "3               0             0  \n",
       "4               0             0  "
      ]
     },
     "execution_count": 26,
     "metadata": {},
     "output_type": "execute_result"
    }
   ],
   "source": [
    "df.head()"
   ]
  },
  {
   "cell_type": "code",
   "execution_count": 27,
   "metadata": {},
   "outputs": [
    {
     "data": {
      "text/plain": [
       "(2857139, 68)"
      ]
     },
     "execution_count": 27,
     "metadata": {},
     "output_type": "execute_result"
    }
   ],
   "source": [
    "df.shape"
   ]
  },
  {
   "cell_type": "markdown",
   "metadata": {},
   "source": [
    "There are some variables with numerical values and some variables with categories. For numerical variables, we do not have to worry about labelling. However, we will need to perform label encoding for the categorical variables. There are also some variables that are already in binary form, so that also does not need any labeling. Let's first identify all the numerical, categorical and binary variables."
   ]
  },
  {
   "cell_type": "code",
   "execution_count": 28,
   "metadata": {
    "collapsed": true
   },
   "outputs": [],
   "source": [
    "numvar = [\"Distance\", \"Nflights_10\", \"DepDelayMedian_10\", \"DepDelayMax_10\", \"ArrDelayMedian_10\",\n",
    "          \"ArrDelayMax_10\", \"TaxiOutMedian_10\", \"TaxiInMedian_10\", \"Ncan_10\", \"Ndiv_10\", \"Nflights_20\",\n",
    "          \"DepDelayMedian_20\", \"DepDelayMax_20\", \"ArrDelayMedian_20\", \"ArrDelayMax_20\", \"TaxiOutMedian_20\",\n",
    "          \"TaxiInMedian_20\", \"Ncan_20\", \"Ndiv_20\", \"Nflights_30\", \"DepDelayMedian_30\", \"DepDelayMax_30\", \n",
    "          \"ArrDelayMedian_30\", \"ArrDelayMax_30\", \"TaxiOutMedian_30\", \"TaxiInMedian_30\", \"Ncan_30\", \n",
    "          \"Ndiv_30\", \"Temperature_Origin\", \"DewPoint_Origin\", \"Humidity_Origin\", \"WindSpeed_Origin\", \n",
    "          \"WindDirection_Origin\", \"Visibility_Origin\", \"Pressure_Origin\", \"Temperature_Dest\", \"DewPoint_Dest\",\n",
    "          \"Humidity_Dest\", \"WindSpeed_Dest\", \"WindDirection_Dest\", \"Visibility_Dest\", \"Pressure_Dest\"]\n",
    "catvar = [\"Month\", \"DayofMonth\", \"DayOfWeek\", \"Carrier\", \"Origin\", \"Dest\", \"CRSDepHr\", \"CRSArrHr\", \n",
    "          \"Condition_Origin\", \"Condition_Dest\", \"Month_Dest\", \"DayOfMonth_Dest\", \"DayOfWeek_Dest\"]\n",
    "binvar = [\"TempFlight_30\", \"TempFlight_20\", \"TempFlight_10\", \"AllCanceled_30\", \"AllDiverted_30\", \n",
    "          \"AllCanceled_20\", \"AllDiverted_20\", \"AllCanDiv_20\", \"AllCanDiv_30\", \"AllCanceled_10\", \n",
    "          \"AllDiverted_10\", \"AllCanDiv_10\"]"
   ]
  },
  {
   "cell_type": "markdown",
   "metadata": {},
   "source": [
    "## Converting string values to numerical values in all categorical columns"
   ]
  },
  {
   "cell_type": "code",
   "execution_count": 29,
   "metadata": {
    "collapsed": true
   },
   "outputs": [],
   "source": [
    "#One-hot-encoding\n",
    "for cvar in catvar:\n",
    "    df = pd.concat([df, pd.get_dummies(df[cvar], prefix=cvar, dummy_na=False)], axis=1)\n",
    "    df.drop([cvar], axis=1, inplace=True)"
   ]
  },
  {
   "cell_type": "code",
   "execution_count": 30,
   "metadata": {},
   "outputs": [
    {
     "data": {
      "text/plain": [
       "(2857139, 331)"
      ]
     },
     "execution_count": 30,
     "metadata": {},
     "output_type": "execute_result"
    }
   ],
   "source": [
    "df.shape"
   ]
  },
  {
   "cell_type": "code",
   "execution_count": 31,
   "metadata": {
    "collapsed": true
   },
   "outputs": [],
   "source": [
    "colnames = list(df.columns[1:])"
   ]
  },
  {
   "cell_type": "markdown",
   "metadata": {},
   "source": [
    "## Creating feature matrix and target vector"
   ]
  },
  {
   "cell_type": "code",
   "execution_count": 32,
   "metadata": {
    "collapsed": true
   },
   "outputs": [],
   "source": [
    "X = df.drop([\"Cancelled\"], axis=1).values\n",
    "y = df.Cancelled.astype(int).values"
   ]
  },
  {
   "cell_type": "code",
   "execution_count": 33,
   "metadata": {},
   "outputs": [
    {
     "data": {
      "text/plain": [
       "(2857139, 330)"
      ]
     },
     "execution_count": 33,
     "metadata": {},
     "output_type": "execute_result"
    }
   ],
   "source": [
    "X.shape"
   ]
  },
  {
   "cell_type": "markdown",
   "metadata": {},
   "source": [
    "## Splitting the data into train (75%) and test (25%) sets"
   ]
  },
  {
   "cell_type": "code",
   "execution_count": 34,
   "metadata": {
    "collapsed": true
   },
   "outputs": [],
   "source": [
    "from sklearn.model_selection import StratifiedShuffleSplit\n",
    "sss1 = StratifiedShuffleSplit(n_splits=1, test_size=0.25, random_state=20)\n",
    "for train_index, test_index in sss1.split(X, y):\n",
    "    X_train, X_test = X[train_index], X[test_index]\n",
    "    y_train, y_test = y[train_index], y[test_index]"
   ]
  },
  {
   "cell_type": "code",
   "execution_count": 35,
   "metadata": {},
   "outputs": [
    {
     "data": {
      "text/plain": [
       "(2142854, 330)"
      ]
     },
     "execution_count": 35,
     "metadata": {},
     "output_type": "execute_result"
    }
   ],
   "source": [
    "X_train.shape"
   ]
  },
  {
   "cell_type": "code",
   "execution_count": 36,
   "metadata": {},
   "outputs": [
    {
     "data": {
      "text/plain": [
       "(714285, 330)"
      ]
     },
     "execution_count": 36,
     "metadata": {},
     "output_type": "execute_result"
    }
   ],
   "source": [
    "X_test.shape"
   ]
  },
  {
   "cell_type": "markdown",
   "metadata": {},
   "source": [
    "Just to make sure that stratified shuffle split led to train and test with same fraction of positive class, lets calculate the fractions."
   ]
  },
  {
   "cell_type": "code",
   "execution_count": 37,
   "metadata": {},
   "outputs": [
    {
     "data": {
      "text/plain": [
       "0.011486550180273598"
      ]
     },
     "execution_count": 37,
     "metadata": {},
     "output_type": "execute_result"
    }
   ],
   "source": [
    "sum(df.iloc[train_index].Cancelled == 1)/len(train_index)"
   ]
  },
  {
   "cell_type": "code",
   "execution_count": 38,
   "metadata": {},
   "outputs": [
    {
     "data": {
      "text/plain": [
       "0.011487011487011487"
      ]
     },
     "execution_count": 38,
     "metadata": {},
     "output_type": "execute_result"
    }
   ],
   "source": [
    "sum(df.iloc[test_index].Cancelled == 1)/len(test_index)"
   ]
  },
  {
   "cell_type": "markdown",
   "metadata": {},
   "source": [
    "They are indeed quite similar.\n",
    "\n",
    "Lets now run a 5-fold cv on all models (best ones) using the training data (which is now 75% of the whole data)"
   ]
  },
  {
   "cell_type": "code",
   "execution_count": 39,
   "metadata": {
    "collapsed": true
   },
   "outputs": [],
   "source": [
    "del df\n",
    "del X\n",
    "del y"
   ]
  },
  {
   "cell_type": "code",
   "execution_count": 40,
   "metadata": {},
   "outputs": [
    {
     "name": "stdout",
     "output_type": "stream",
     "text": [
      "Fold:  1\n",
      "Fold:  2\n",
      "Fold:  3\n",
      "Fold:  4\n",
      "Fold:  5\n",
      "Model:  1 prauc:  0.15312648216 er:  0.00294515915606\n",
      "Fold:  1\n",
      "Fold:  2\n",
      "Fold:  3\n",
      "Fold:  4\n",
      "Fold:  5\n",
      "Model:  2 prauc:  0.167642827632 er:  0.0063007030849\n",
      "Fold:  1\n",
      "Fold:  2\n",
      "Fold:  3\n",
      "Fold:  4\n",
      "Fold:  5\n",
      "Model:  3 prauc:  0.354562003441 er:  0.00389916560362\n",
      "Fold:  1\n",
      "Fold:  2\n",
      "Fold:  3\n",
      "Fold:  4\n",
      "Fold:  5\n",
      "Model:  4 prauc:  0.349295063868 er:  0.00400237922324\n",
      "Fold:  1\n",
      "Fold:  2\n",
      "Fold:  3\n",
      "Fold:  4\n",
      "Fold:  5\n",
      "Model:  5 prauc:  0.390006290212 er:  0.00416922214371\n"
     ]
    }
   ],
   "source": [
    "from sklearn.metrics import average_precision_score\n",
    "from sklearn.model_selection import StratifiedKFold\n",
    "import dill\n",
    "\n",
    "pr_auc = []\n",
    "pr_auc_er = []\n",
    "\n",
    "models = [LR, GNB, RF, AB, ET]\n",
    "\n",
    "kf = 5\n",
    "i = 1\n",
    "for model in models:\n",
    "    clf = model.best_estimator_\n",
    "    pr_auc_in = []\n",
    "    j = 1\n",
    "    # k-fold splits\n",
    "    sss2 = StratifiedKFold(n_splits=kf, random_state=20)\n",
    "    for train_index1, test_index1 in sss2.split(X_train, y_train):\n",
    "        print(\"Fold: \", j)\n",
    "        Xs_train, Xs_test = X_train[train_index1], X_train[test_index1]\n",
    "        ys_train, ys_test = y_train[train_index1], y_train[test_index1]\n",
    "        clf.fit(Xs_train, ys_train)\n",
    "        pr_auc_in.append(average_precision_score(ys_test, clf.predict_proba(Xs_test)[:,1]))\n",
    "        j = j + 1\n",
    "    \n",
    "    pr_auc.append(np.mean(pr_auc_in))\n",
    "    pr_auc_er.append(np.std(pr_auc_in)/sqrt(kf))\n",
    "    # we will do the following later\n",
    "    # # fit the model one more time with all the training data (75% of the whole data) and pickle the updated model\n",
    "    # clf.fit(X_train, y_train)\n",
    "    # pickle the clf temporarliy (based on the last fold), later on we will delete them when we have the model for the whole training data\n",
    "    dill.dump(clf, open('Model'+str(i)+'.pkl', 'wb'))\n",
    "    print(\"Model: \", i, \"prauc: \", np.mean(pr_auc_in), \"er: \", np.std(pr_auc_in)/sqrt(kf))\n",
    "    i = i + 1"
   ]
  },
  {
   "cell_type": "code",
   "execution_count": 43,
   "metadata": {},
   "outputs": [
    {
     "data": {
      "image/png": "[encoded data removed]",
      "text/plain": [
       "<matplotlib.figure.Figure at 0x1128f36d8>"
      ]
     },
     "metadata": {},
     "output_type": "display_data"
    }
   ],
   "source": [
    "clrs = [tableau20[2], tableau20[16], tableau20[6], tableau20[8], tableau20[4]]\n",
    "fs = 24 # font size\n",
    "fig, ax = plt.subplots(figsize=(8,8))\n",
    "rects1 = ax.bar(np.arange(5), pr_auc, width=0.55, color=clrs, yerr=pr_auc_er, capsize=100)\n",
    "ax.set_xlabel('Models', size = fs)\n",
    "ax.set_ylabel('PR AUC', size = fs)\n",
    "#ax.set_xticks(ind + width / 2)\n",
    "ax.set_xticklabels(('dummy', 'LR', 'GNB', 'RF', 'AB', 'ET'))\n",
    "ax.tick_params(direction='out', length=6, width=2, colors='k', labelsize=fs)\n",
    "plt.tight_layout()\n",
    "savefig('PRAUC75.pdf')"
   ]
  },
  {
   "cell_type": "code",
   "execution_count": 45,
   "metadata": {},
   "outputs": [],
   "source": [
    "pd.DataFrame({\"PR AUC\": pr_auc, \"PR AUC ER\": pr_auc_er}).to_csv(\"PRAUC75data.csv\")"
   ]
  },
  {
   "cell_type": "markdown",
   "metadata": {
    "collapsed": true
   },
   "source": [
    "Finally, training the models using all the training data (no cv), i.e. 75% of the whole data. We will then use these models as the final models. We know, by now, that ET is the best. However, we will plot ROC and PR curves for all models (trained on training data) using the test data (25% of the whole data). Lets do that now!"
   ]
  },
  {
   "cell_type": "code",
   "execution_count": 47,
   "metadata": {},
   "outputs": [
    {
     "name": "stdout",
     "output_type": "stream",
     "text": [
      "1\n",
      "2\n",
      "3\n",
      "4\n",
      "5\n"
     ]
    }
   ],
   "source": [
    "import dill\n",
    "\n",
    "models = [LR, GNB, RF, AB, ET]\n",
    "i = 1\n",
    "\n",
    "for model in models:\n",
    "    print(i)\n",
    "    clf = model.best_estimator_\n",
    "    # fit the model one more time with all the training data (75% of the whole data) and pickle the updated model\n",
    "    clf.fit(X_train, y_train)\n",
    "    dill.dump(clf, open('Model_'+str(i)+'.pkl', 'wb'))\n",
    "    i = i + 1"
   ]
  },
  {
   "cell_type": "markdown",
   "metadata": {},
   "source": [
    "Now that we have all the finalized models (trained using the training data), lets get the ROC and PR curves using the test data."
   ]
  },
  {
   "cell_type": "code",
   "execution_count": 48,
   "metadata": {
    "collapsed": true
   },
   "outputs": [],
   "source": [
    "LR_final = pickle.load( open( \"Model_1.pkl\", \"rb\" ) )\n",
    "GNB_final = pickle.load( open( \"Model_2.pkl\", \"rb\" ) )\n",
    "RF_final = pickle.load( open( \"Model_3.pkl\", \"rb\" ) )\n",
    "AB_final = pickle.load( open( \"Model_4.pkl\", \"rb\" ) )\n",
    "ET_final = pickle.load( open( \"Model_5.pkl\", \"rb\" ) )"
   ]
  },
  {
   "cell_type": "code",
   "execution_count": 68,
   "metadata": {},
   "outputs": [
    {
     "data": {
      "image/png": "[encoded data removed]",
      "text/plain": [
       "<matplotlib.figure.Figure at 0x115d66278>"
      ]
     },
     "metadata": {},
     "output_type": "display_data"
    }
   ],
   "source": [
    "from sklearn.metrics import roc_curve, auc, precision_recall_curve\n",
    "fs = 26\n",
    "fig, (ax1,ax2) = plt.subplots(1,2,figsize=(25,6))\n",
    "# ROC\n",
    "ax1 = plt.subplot(1, 2, 2)\n",
    "fpr, tpr, thresholds = roc_curve(y_test, LR_final.predict_proba(X_test)[:, 1])\n",
    "ax1.plot(fpr, tpr, lw=1, label='LR', color=tableau20[2], linewidth=3)\n",
    "fpr1, tpr1, thresholds1 = roc_curve(y_test, GNB_final.predict_proba(X_test)[:, 1])\n",
    "ax1.plot(fpr1, tpr1, lw=1, label='GNB', color=tableau20[16], linewidth=3)\n",
    "fpr2, tpr2, thresholds2 = roc_curve(y_test, RF_final.predict_proba(X_test)[:, 1])\n",
    "ax1.plot(fpr2, tpr2, lw=1, label='RF', color=tableau20[6], linewidth=3)\n",
    "fpr3, tpr3, thresholds3 = roc_curve(y_test, AB_final.predict_proba(X_test)[:, 1])\n",
    "ax1.plot(fpr3, tpr3, lw=1, label='AB', color=tableau20[8], linewidth=3)\n",
    "fpr4, tpr4, thresholds4 = roc_curve(y_test, ET_final.predict_proba(X_test)[:, 1])\n",
    "ax1.plot(fpr4, tpr4, lw=1, label='ET', color=tableau20[4], linewidth=3)\n",
    "ax1.set_xlim([-0.02, 1.02])\n",
    "ax1.set_ylim([-0.02, 1.02])\n",
    "ax1.set_xlabel('False Positive Rate', size=fs)\n",
    "ax1.set_ylabel('True Positive Rate', size=fs)\n",
    "ax1.set_title('Receiver Operating Characteristic Curve', size=fs)\n",
    "ax1.tick_params(direction='out', length=6, width=2, colors='k', labelsize=fs)\n",
    "ax1.legend(loc=\"lower right\", fontsize=fs)\n",
    "    \n",
    "#PR\n",
    "ax2 = plt.subplot(1, 2, 1)\n",
    "prec, recall, thresholds = precision_recall_curve(y_test, LR_final.predict_proba(X_test)[:, 1])\n",
    "ax2.plot(recall, prec, lw=1, label='LR', color=tableau20[2], linewidth=3)    \n",
    "prec1, recall1, thresholds1 = precision_recall_curve(y_test, GNB_final.predict_proba(X_test)[:, 1])\n",
    "ax2.plot(recall1, prec1, lw=1, label='GNB', color=tableau20[16], linewidth=3)\n",
    "prec2, recall2, thresholds2 = precision_recall_curve(y_test, RF_final.predict_proba(X_test)[:, 1])\n",
    "ax2.plot(recall2, prec2, lw=1, label='RF', color=tableau20[6], linewidth=3)\n",
    "prec3, recall3, thresholds3 = precision_recall_curve(y_test, AB_final.predict_proba(X_test)[:, 1])\n",
    "ax2.plot(recall3, prec3, lw=1, label='AB', color=tableau20[8], linewidth=3)\n",
    "prec4, recall4, thresholds4 = precision_recall_curve(y_test, ET_final.predict_proba(X_test)[:, 1])\n",
    "ax2.plot(recall4, prec4, lw=1, label='ET', color=tableau20[4], linewidth=3)    \n",
    "ax2.set_xlim([-0.02, 1.02])\n",
    "ax2.set_ylim([-0.02, 1.02])\n",
    "ax2.set_xlabel('Recall', size=fs)\n",
    "ax2.set_ylabel('Precision', size=fs)\n",
    "ax2.set_title('Precision Recall Curve', size=fs)\n",
    "ax2.tick_params(direction='out', length=6, width=2, colors='k', labelsize=fs)\n",
    "ax2.legend(loc=\"top right\", fontsize=fs)\n",
    "    \n",
    "plt.tight_layout()\n",
    "savefig('AllModels_ROC_PR_plots.pdf')"
   ]
  },
  {
   "cell_type": "markdown",
   "metadata": {},
   "source": [
    "Lets also plot bar charts for PR AUC and ROC AUC for all models based on test data."
   ]
  },
  {
   "cell_type": "code",
   "execution_count": 54,
   "metadata": {
    "collapsed": true
   },
   "outputs": [],
   "source": [
    "prauc_final = []\n",
    "prauc_final.append(average_precision_score(y_test, LR_final.predict_proba(X_test)[:, 1]))\n",
    "prauc_final.append(average_precision_score(y_test, GNB_final.predict_proba(X_test)[:, 1]))\n",
    "prauc_final.append(average_precision_score(y_test, RF_final.predict_proba(X_test)[:, 1]))\n",
    "prauc_final.append(average_precision_score(y_test, AB_final.predict_proba(X_test)[:, 1]))\n",
    "prauc_final.append(average_precision_score(y_test, ET_final.predict_proba(X_test)[:, 1]))"
   ]
  },
  {
   "cell_type": "code",
   "execution_count": 55,
   "metadata": {
    "collapsed": true
   },
   "outputs": [],
   "source": [
    "rocauc_final = []\n",
    "fpr, tpr, thresholds = roc_curve(y_test, LR_final.predict_proba(X_test)[:, 1])\n",
    "rocauc_final.append(auc(fpr, tpr))\n",
    "fpr, tpr, thresholds = roc_curve(y_test, GNB_final.predict_proba(X_test)[:, 1])\n",
    "rocauc_final.append(auc(fpr, tpr))\n",
    "fpr, tpr, thresholds = roc_curve(y_test, RF_final.predict_proba(X_test)[:, 1])\n",
    "rocauc_final.append(auc(fpr, tpr))\n",
    "fpr, tpr, thresholds = roc_curve(y_test, AB_final.predict_proba(X_test)[:, 1])\n",
    "rocauc_final.append(auc(fpr, tpr))\n",
    "fpr, tpr, thresholds = roc_curve(y_test, ET_final.predict_proba(X_test)[:, 1])\n",
    "rocauc_final.append(auc(fpr, tpr))"
   ]
  },
  {
   "cell_type": "code",
   "execution_count": 67,
   "metadata": {},
   "outputs": [
    {
     "data": {
      "image/png": "[encoded data removed]",
      "text/plain": [
       "<matplotlib.figure.Figure at 0x1113b4278>"
      ]
     },
     "metadata": {},
     "output_type": "display_data"
    }
   ],
   "source": [
    "clrs = [tableau20[2], tableau20[16], tableau20[6], tableau20[8], tableau20[4]]\n",
    "fs = 26\n",
    "fig, (ax1,ax2) = plt.subplots(1,2,figsize=(25,6))\n",
    "# ROC\n",
    "ax3 = plt.subplot(1, 2, 2)\n",
    "ax3.bar(np.arange(5), rocauc_final, width=0.5, color=clrs, capsize=100)\n",
    "ax3.set_xlabel('Models', size = fs)\n",
    "ax3.set_ylabel('ROC AUC', size = fs)\n",
    "ax3.set_xticklabels(('dummy', 'LR', 'GNB', 'RF', 'AB', 'ET'))\n",
    "ax3.tick_params(direction='out', length=6, width=2, colors='k', labelsize=fs)\n",
    "    \n",
    "#PR\n",
    "ax4 = plt.subplot(1, 2, 1)\n",
    "ax4.bar(np.arange(5), prauc_final, width=0.5, color=clrs, capsize=100)\n",
    "ax4.set_xlabel('Models', size = fs)\n",
    "ax4.set_ylabel('PR AUC', size = fs)\n",
    "ax4.set_xticklabels(('dummy', 'LR', 'GNB', 'RF', 'AB', 'ET'))\n",
    "ax4.tick_params(direction='out', length=6, width=2, colors='k', labelsize=fs)\n",
    "    \n",
    "plt.tight_layout()\n",
    "savefig('AllModels_ROC_PR_AUC.pdf')"
   ]
  },
  {
   "cell_type": "code",
   "execution_count": 58,
   "metadata": {},
   "outputs": [
    {
     "data": {
      "text/plain": [
       "[0.8367817002504786,\n",
       " 0.77971678567823477,\n",
       " 0.86482799015442846,\n",
       " 0.8921821000063106,\n",
       " 0.89603832388946114]"
      ]
     },
     "execution_count": 58,
     "metadata": {},
     "output_type": "execute_result"
    }
   ],
   "source": [
    "rocauc_final"
   ]
  },
  {
   "cell_type": "code",
   "execution_count": 59,
   "metadata": {},
   "outputs": [
    {
     "data": {
      "text/plain": [
       "[0.15266586333509141,\n",
       " 0.16071312129696935,\n",
       " 0.37387798097587632,\n",
       " 0.3642083368223622,\n",
       " 0.40286271583323607]"
      ]
     },
     "execution_count": 59,
     "metadata": {},
     "output_type": "execute_result"
    }
   ],
   "source": [
    "prauc_final"
   ]
  },
  {
   "cell_type": "code",
   "execution_count": null,
   "metadata": {
    "collapsed": true
   },
   "outputs": [],
   "source": []
  }
 ],
 "metadata": {
  "kernelspec": {
   "display_name": "Python 3",
   "language": "python",
   "name": "python3"
  },
  "language_info": {
   "codemirror_mode": {
    "name": "ipython",
    "version": 3
   },
   "file_extension": ".py",
   "mimetype": "text/x-python",
   "name": "python",
   "nbconvert_exporter": "python",
   "pygments_lexer": "ipython3",
   "version": "3.6.1"
  }
 },
 "nbformat": 4,
 "nbformat_minor": 2
}
