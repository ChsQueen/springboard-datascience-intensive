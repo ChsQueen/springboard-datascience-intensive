{
 "cells": [
  {
   "cell_type": "markdown",
   "metadata": {},
   "source": [
    "# Comparison of Different Classification Algorithms: Using undersampled test data"
   ]
  },
  {
   "cell_type": "markdown",
   "metadata": {},
   "source": [
    "## Loading modules"
   ]
  },
  {
   "cell_type": "code",
   "execution_count": 1,
   "metadata": {},
   "outputs": [
    {
     "name": "stdout",
     "output_type": "stream",
     "text": [
      "Populating the interactive namespace from numpy and matplotlib\n"
     ]
    }
   ],
   "source": [
    "import pandas as pd\n",
    "import numpy as np\n",
    "% pylab inline\n",
    "import operator\n",
    "import re\n",
    "from collections import OrderedDict\n",
    "import seaborn as sns\n",
    "import pickle\n",
    "import os.path\n",
    "from matplotlib.colors import ListedColormap\n",
    "import matplotlib.colors as colors\n",
    "import matplotlib.cm as cmx\n",
    "import matplotlib.pyplot as plt\n",
    "from pylab import rcParams\n",
    "from mpl_toolkits.basemap import Basemap\n",
    "from geopy.geocoders import Nominatim\n",
    "import math\n",
    "import warnings\n",
    "from scipy import stats\n",
    "warnings.filterwarnings('ignore')"
   ]
  },
  {
   "cell_type": "markdown",
   "metadata": {},
   "source": [
    "## Setting some plot colors and parameters"
   ]
  },
  {
   "cell_type": "code",
   "execution_count": 2,
   "metadata": {
    "collapsed": true
   },
   "outputs": [],
   "source": [
    "tableau20 = [(31, 119, 180), (174, 199, 232), (255, 127, 14), (255, 187, 120),\n",
    "             (44, 160, 44), (152, 223, 138), (214, 39, 40), (255, 152, 150),\n",
    "             (148, 103, 189), (197, 176, 213), (140, 86, 75), (196, 156, 148),\n",
    "             (227, 119, 194), (247, 182, 210), (127, 127, 127), (199, 199, 199),\n",
    "             (188, 189, 34), (219, 219, 141), (23, 190, 207), (158, 218, 229)]\n",
    " \n",
    "# Scale the RGB values to the [0, 1] range, which is the format matplotlib accepts.\n",
    "for i in range(len(tableau20)):\n",
    "    r, g, b = tableau20[i]\n",
    "    tableau20[i] = (r / 255., g / 255., b / 255.)\n",
    "# Adapted from http://spartanideas.msu.edu/2014/06/28/how-to-make-beautiful-data-visualizations-in-python-with-matplotlib/\n",
    "cmap_set1 = ListedColormap(['#4daf4a', '#377eb8', '#e41a1c' ])\n",
    "\n",
    "params = {'legend.fontsize': 'x-large',\n",
    "          'figure.figsize': (15, 5),\n",
    "         'axes.labelsize': 'x-large',\n",
    "         'axes.titlesize':'x-large',\n",
    "         'xtick.labelsize':'x-large',\n",
    "         'ytick.labelsize':'x-large'}\n",
    "pylab.rcParams.update(params)\n",
    "sns.set_style('ticks')"
   ]
  },
  {
   "cell_type": "markdown",
   "metadata": {},
   "source": [
    "## Setting data frame display"
   ]
  },
  {
   "cell_type": "code",
   "execution_count": 3,
   "metadata": {
    "collapsed": true
   },
   "outputs": [],
   "source": [
    "pd.set_option('display.max_columns', None)"
   ]
  },
  {
   "cell_type": "markdown",
   "metadata": {},
   "source": [
    "## Loading the data\n",
    "\n",
    "We have acquired and merged the data in [this notebook](https://github.com/aajains/springboard-datascience-intensive/blob/master/capstone_project/DataAcquisitionMerging/data_acquisition_merging.ipynb). The merged data was also cleaned by fixing the missing values in [this notebook](https://github.com/aajains/springboard-datascience-intensive/blob/master/capstone_project/DataCleaning/data_cleaning.ipynb). A lot of features from the cleaned data was removed (or some features were selected) in [this notebook](https://github.com/aajains/springboard-datascience-intensive/blob/master/capstone_project/EDA/ExploratoryDataAnalysis_v1.ipynb). The resultant csv file is loaded below:"
   ]
  },
  {
   "cell_type": "code",
   "execution_count": 4,
   "metadata": {
    "collapsed": true
   },
   "outputs": [],
   "source": [
    "df = pd.read_csv(\"../Data/ExploredDataCleaned/FlightHistory_Weather_Jan2015-Dec2016_Top20Airports_Window60mins_ExploredCleaned.csv\")"
   ]
  },
  {
   "cell_type": "code",
   "execution_count": 5,
   "metadata": {},
   "outputs": [
    {
     "data": {
      "text/plain": [
       "(2857139, 69)"
      ]
     },
     "execution_count": 5,
     "metadata": {},
     "output_type": "execute_result"
    }
   ],
   "source": [
    "df.shape"
   ]
  },
  {
   "cell_type": "code",
   "execution_count": 6,
   "metadata": {},
   "outputs": [
    {
     "data": {
      "text/html": [
       "<div>\n",
       "<style>\n",
       "    .dataframe thead tr:only-child th {\n",
       "        text-align: right;\n",
       "    }\n",
       "\n",
       "    .dataframe thead th {\n",
       "        text-align: left;\n",
       "    }\n",
       "\n",
       "    .dataframe tbody tr th {\n",
       "        vertical-align: top;\n",
       "    }\n",
       "</style>\n",
       "<table border=\"1\" class=\"dataframe\">\n",
       "  <thead>\n",
       "    <tr style=\"text-align: right;\">\n",
       "      <th></th>\n",
       "      <th>Unnamed: 0</th>\n",
       "      <th>Month</th>\n",
       "      <th>DayofMonth</th>\n",
       "      <th>DayOfWeek</th>\n",
       "      <th>Carrier</th>\n",
       "      <th>Origin</th>\n",
       "      <th>Dest</th>\n",
       "      <th>Cancelled</th>\n",
       "      <th>Distance</th>\n",
       "      <th>Nflights_10</th>\n",
       "      <th>DepDelayMedian_10</th>\n",
       "      <th>DepDelayMax_10</th>\n",
       "      <th>ArrDelayMedian_10</th>\n",
       "      <th>ArrDelayMax_10</th>\n",
       "      <th>TaxiOutMedian_10</th>\n",
       "      <th>TaxiInMedian_10</th>\n",
       "      <th>Ncan_10</th>\n",
       "      <th>Ndiv_10</th>\n",
       "      <th>Nflights_20</th>\n",
       "      <th>DepDelayMedian_20</th>\n",
       "      <th>DepDelayMax_20</th>\n",
       "      <th>ArrDelayMedian_20</th>\n",
       "      <th>ArrDelayMax_20</th>\n",
       "      <th>TaxiOutMedian_20</th>\n",
       "      <th>TaxiInMedian_20</th>\n",
       "      <th>Ncan_20</th>\n",
       "      <th>Ndiv_20</th>\n",
       "      <th>Nflights_30</th>\n",
       "      <th>DepDelayMedian_30</th>\n",
       "      <th>DepDelayMax_30</th>\n",
       "      <th>ArrDelayMedian_30</th>\n",
       "      <th>ArrDelayMax_30</th>\n",
       "      <th>TaxiOutMedian_30</th>\n",
       "      <th>TaxiInMedian_30</th>\n",
       "      <th>Ncan_30</th>\n",
       "      <th>Ndiv_30</th>\n",
       "      <th>CRSDepHr</th>\n",
       "      <th>CRSArrHr</th>\n",
       "      <th>Temperature_Origin</th>\n",
       "      <th>DewPoint_Origin</th>\n",
       "      <th>Humidity_Origin</th>\n",
       "      <th>WindSpeed_Origin</th>\n",
       "      <th>WindDirection_Origin</th>\n",
       "      <th>Visibility_Origin</th>\n",
       "      <th>Pressure_Origin</th>\n",
       "      <th>Condition_Origin</th>\n",
       "      <th>Temperature_Dest</th>\n",
       "      <th>DewPoint_Dest</th>\n",
       "      <th>Humidity_Dest</th>\n",
       "      <th>WindSpeed_Dest</th>\n",
       "      <th>WindDirection_Dest</th>\n",
       "      <th>Visibility_Dest</th>\n",
       "      <th>Pressure_Dest</th>\n",
       "      <th>Condition_Dest</th>\n",
       "      <th>Month_Dest</th>\n",
       "      <th>DayOfMonth_Dest</th>\n",
       "      <th>DayOfWeek_Dest</th>\n",
       "      <th>TempFlight_30</th>\n",
       "      <th>TempFlight_20</th>\n",
       "      <th>TempFlight_10</th>\n",
       "      <th>AllCanceled_30</th>\n",
       "      <th>AllDiverted_30</th>\n",
       "      <th>AllCanceled_20</th>\n",
       "      <th>AllDiverted_20</th>\n",
       "      <th>AllCanDiv_20</th>\n",
       "      <th>AllCanDiv_30</th>\n",
       "      <th>AllCanceled_10</th>\n",
       "      <th>AllDiverted_10</th>\n",
       "      <th>AllCanDiv_10</th>\n",
       "    </tr>\n",
       "  </thead>\n",
       "  <tbody>\n",
       "    <tr>\n",
       "      <th>0</th>\n",
       "      <td>0</td>\n",
       "      <td>1</td>\n",
       "      <td>1</td>\n",
       "      <td>4</td>\n",
       "      <td>AA</td>\n",
       "      <td>PHX</td>\n",
       "      <td>DFW</td>\n",
       "      <td>1.0</td>\n",
       "      <td>868.0</td>\n",
       "      <td>10</td>\n",
       "      <td>-2.0</td>\n",
       "      <td>0.0</td>\n",
       "      <td>-2.5</td>\n",
       "      <td>17.0</td>\n",
       "      <td>13.0</td>\n",
       "      <td>4.0</td>\n",
       "      <td>0.0</td>\n",
       "      <td>0.0</td>\n",
       "      <td>14</td>\n",
       "      <td>-2.0</td>\n",
       "      <td>0.0</td>\n",
       "      <td>-0.5</td>\n",
       "      <td>17.0</td>\n",
       "      <td>13.0</td>\n",
       "      <td>5.0</td>\n",
       "      <td>0.0</td>\n",
       "      <td>0.0</td>\n",
       "      <td>14</td>\n",
       "      <td>-2.0</td>\n",
       "      <td>0.0</td>\n",
       "      <td>-0.5</td>\n",
       "      <td>17.0</td>\n",
       "      <td>13.0</td>\n",
       "      <td>5.0</td>\n",
       "      <td>0.0</td>\n",
       "      <td>0.0</td>\n",
       "      <td>2</td>\n",
       "      <td>5</td>\n",
       "      <td>37.0</td>\n",
       "      <td>30.0</td>\n",
       "      <td>76.0</td>\n",
       "      <td>3.5</td>\n",
       "      <td>320.0</td>\n",
       "      <td>10.0</td>\n",
       "      <td>30.04</td>\n",
       "      <td>Scattered Clouds</td>\n",
       "      <td>33.1</td>\n",
       "      <td>27.0</td>\n",
       "      <td>78.0</td>\n",
       "      <td>8.1</td>\n",
       "      <td>350.0</td>\n",
       "      <td>10.0</td>\n",
       "      <td>30.34</td>\n",
       "      <td>Light Rain</td>\n",
       "      <td>1</td>\n",
       "      <td>1</td>\n",
       "      <td>4</td>\n",
       "      <td>0</td>\n",
       "      <td>0</td>\n",
       "      <td>0</td>\n",
       "      <td>0</td>\n",
       "      <td>0</td>\n",
       "      <td>0</td>\n",
       "      <td>0</td>\n",
       "      <td>0</td>\n",
       "      <td>0</td>\n",
       "      <td>0</td>\n",
       "      <td>0</td>\n",
       "      <td>0</td>\n",
       "    </tr>\n",
       "    <tr>\n",
       "      <th>1</th>\n",
       "      <td>1</td>\n",
       "      <td>1</td>\n",
       "      <td>1</td>\n",
       "      <td>4</td>\n",
       "      <td>NK</td>\n",
       "      <td>PHX</td>\n",
       "      <td>DFW</td>\n",
       "      <td>0.0</td>\n",
       "      <td>868.0</td>\n",
       "      <td>0</td>\n",
       "      <td>0.0</td>\n",
       "      <td>0.0</td>\n",
       "      <td>0.0</td>\n",
       "      <td>0.0</td>\n",
       "      <td>0.0</td>\n",
       "      <td>0.0</td>\n",
       "      <td>0.0</td>\n",
       "      <td>0.0</td>\n",
       "      <td>0</td>\n",
       "      <td>0.0</td>\n",
       "      <td>0.0</td>\n",
       "      <td>0.0</td>\n",
       "      <td>0.0</td>\n",
       "      <td>0.0</td>\n",
       "      <td>0.0</td>\n",
       "      <td>0.0</td>\n",
       "      <td>0.0</td>\n",
       "      <td>0</td>\n",
       "      <td>0.0</td>\n",
       "      <td>0.0</td>\n",
       "      <td>0.0</td>\n",
       "      <td>0.0</td>\n",
       "      <td>0.0</td>\n",
       "      <td>0.0</td>\n",
       "      <td>0.0</td>\n",
       "      <td>0.0</td>\n",
       "      <td>1</td>\n",
       "      <td>5</td>\n",
       "      <td>37.0</td>\n",
       "      <td>30.9</td>\n",
       "      <td>79.0</td>\n",
       "      <td>4.6</td>\n",
       "      <td>300.0</td>\n",
       "      <td>10.0</td>\n",
       "      <td>30.03</td>\n",
       "      <td>Mostly Cloudy</td>\n",
       "      <td>33.1</td>\n",
       "      <td>27.0</td>\n",
       "      <td>78.0</td>\n",
       "      <td>8.1</td>\n",
       "      <td>350.0</td>\n",
       "      <td>10.0</td>\n",
       "      <td>30.34</td>\n",
       "      <td>Light Rain</td>\n",
       "      <td>1</td>\n",
       "      <td>1</td>\n",
       "      <td>4</td>\n",
       "      <td>1</td>\n",
       "      <td>1</td>\n",
       "      <td>1</td>\n",
       "      <td>0</td>\n",
       "      <td>0</td>\n",
       "      <td>0</td>\n",
       "      <td>0</td>\n",
       "      <td>0</td>\n",
       "      <td>0</td>\n",
       "      <td>0</td>\n",
       "      <td>0</td>\n",
       "      <td>0</td>\n",
       "    </tr>\n",
       "    <tr>\n",
       "      <th>2</th>\n",
       "      <td>2</td>\n",
       "      <td>1</td>\n",
       "      <td>1</td>\n",
       "      <td>4</td>\n",
       "      <td>DL</td>\n",
       "      <td>DEN</td>\n",
       "      <td>ATL</td>\n",
       "      <td>0.0</td>\n",
       "      <td>1199.0</td>\n",
       "      <td>10</td>\n",
       "      <td>3.5</td>\n",
       "      <td>48.0</td>\n",
       "      <td>-7.5</td>\n",
       "      <td>52.0</td>\n",
       "      <td>15.0</td>\n",
       "      <td>6.5</td>\n",
       "      <td>0.0</td>\n",
       "      <td>0.0</td>\n",
       "      <td>12</td>\n",
       "      <td>3.5</td>\n",
       "      <td>48.0</td>\n",
       "      <td>-7.5</td>\n",
       "      <td>52.0</td>\n",
       "      <td>14.5</td>\n",
       "      <td>6.5</td>\n",
       "      <td>0.0</td>\n",
       "      <td>0.0</td>\n",
       "      <td>12</td>\n",
       "      <td>3.5</td>\n",
       "      <td>48.0</td>\n",
       "      <td>-7.5</td>\n",
       "      <td>52.0</td>\n",
       "      <td>14.5</td>\n",
       "      <td>6.5</td>\n",
       "      <td>0.0</td>\n",
       "      <td>0.0</td>\n",
       "      <td>0</td>\n",
       "      <td>5</td>\n",
       "      <td>7.0</td>\n",
       "      <td>-8.0</td>\n",
       "      <td>51.0</td>\n",
       "      <td>15.0</td>\n",
       "      <td>170.0</td>\n",
       "      <td>10.0</td>\n",
       "      <td>30.22</td>\n",
       "      <td>Clear</td>\n",
       "      <td>33.1</td>\n",
       "      <td>26.1</td>\n",
       "      <td>75.0</td>\n",
       "      <td>3.5</td>\n",
       "      <td>310.0</td>\n",
       "      <td>10.0</td>\n",
       "      <td>30.32</td>\n",
       "      <td>Partly Cloudy</td>\n",
       "      <td>1</td>\n",
       "      <td>1</td>\n",
       "      <td>4</td>\n",
       "      <td>0</td>\n",
       "      <td>0</td>\n",
       "      <td>0</td>\n",
       "      <td>0</td>\n",
       "      <td>0</td>\n",
       "      <td>0</td>\n",
       "      <td>0</td>\n",
       "      <td>0</td>\n",
       "      <td>0</td>\n",
       "      <td>0</td>\n",
       "      <td>0</td>\n",
       "      <td>0</td>\n",
       "    </tr>\n",
       "    <tr>\n",
       "      <th>3</th>\n",
       "      <td>3</td>\n",
       "      <td>1</td>\n",
       "      <td>1</td>\n",
       "      <td>4</td>\n",
       "      <td>NK</td>\n",
       "      <td>LAS</td>\n",
       "      <td>MSP</td>\n",
       "      <td>0.0</td>\n",
       "      <td>1299.0</td>\n",
       "      <td>0</td>\n",
       "      <td>0.0</td>\n",
       "      <td>0.0</td>\n",
       "      <td>0.0</td>\n",
       "      <td>0.0</td>\n",
       "      <td>0.0</td>\n",
       "      <td>0.0</td>\n",
       "      <td>0.0</td>\n",
       "      <td>0.0</td>\n",
       "      <td>0</td>\n",
       "      <td>0.0</td>\n",
       "      <td>0.0</td>\n",
       "      <td>0.0</td>\n",
       "      <td>0.0</td>\n",
       "      <td>0.0</td>\n",
       "      <td>0.0</td>\n",
       "      <td>0.0</td>\n",
       "      <td>0.0</td>\n",
       "      <td>0</td>\n",
       "      <td>0.0</td>\n",
       "      <td>0.0</td>\n",
       "      <td>0.0</td>\n",
       "      <td>0.0</td>\n",
       "      <td>0.0</td>\n",
       "      <td>0.0</td>\n",
       "      <td>0.0</td>\n",
       "      <td>0.0</td>\n",
       "      <td>0</td>\n",
       "      <td>5</td>\n",
       "      <td>34.0</td>\n",
       "      <td>17.1</td>\n",
       "      <td>50.0</td>\n",
       "      <td>9.2</td>\n",
       "      <td>190.0</td>\n",
       "      <td>10.0</td>\n",
       "      <td>29.99</td>\n",
       "      <td>Mostly Cloudy</td>\n",
       "      <td>16.0</td>\n",
       "      <td>10.0</td>\n",
       "      <td>77.0</td>\n",
       "      <td>8.1</td>\n",
       "      <td>240.0</td>\n",
       "      <td>10.0</td>\n",
       "      <td>29.90</td>\n",
       "      <td>Overcast</td>\n",
       "      <td>1</td>\n",
       "      <td>1</td>\n",
       "      <td>4</td>\n",
       "      <td>1</td>\n",
       "      <td>1</td>\n",
       "      <td>1</td>\n",
       "      <td>0</td>\n",
       "      <td>0</td>\n",
       "      <td>0</td>\n",
       "      <td>0</td>\n",
       "      <td>0</td>\n",
       "      <td>0</td>\n",
       "      <td>0</td>\n",
       "      <td>0</td>\n",
       "      <td>0</td>\n",
       "    </tr>\n",
       "    <tr>\n",
       "      <th>4</th>\n",
       "      <td>4</td>\n",
       "      <td>1</td>\n",
       "      <td>1</td>\n",
       "      <td>4</td>\n",
       "      <td>NK</td>\n",
       "      <td>LAS</td>\n",
       "      <td>DFW</td>\n",
       "      <td>0.0</td>\n",
       "      <td>1055.0</td>\n",
       "      <td>0</td>\n",
       "      <td>0.0</td>\n",
       "      <td>0.0</td>\n",
       "      <td>0.0</td>\n",
       "      <td>0.0</td>\n",
       "      <td>0.0</td>\n",
       "      <td>0.0</td>\n",
       "      <td>0.0</td>\n",
       "      <td>0.0</td>\n",
       "      <td>0</td>\n",
       "      <td>0.0</td>\n",
       "      <td>0.0</td>\n",
       "      <td>0.0</td>\n",
       "      <td>0.0</td>\n",
       "      <td>0.0</td>\n",
       "      <td>0.0</td>\n",
       "      <td>0.0</td>\n",
       "      <td>0.0</td>\n",
       "      <td>0</td>\n",
       "      <td>0.0</td>\n",
       "      <td>0.0</td>\n",
       "      <td>0.0</td>\n",
       "      <td>0.0</td>\n",
       "      <td>0.0</td>\n",
       "      <td>0.0</td>\n",
       "      <td>0.0</td>\n",
       "      <td>0.0</td>\n",
       "      <td>1</td>\n",
       "      <td>5</td>\n",
       "      <td>32.0</td>\n",
       "      <td>17.1</td>\n",
       "      <td>54.0</td>\n",
       "      <td>10.4</td>\n",
       "      <td>190.0</td>\n",
       "      <td>10.0</td>\n",
       "      <td>30.00</td>\n",
       "      <td>Mostly Cloudy</td>\n",
       "      <td>33.1</td>\n",
       "      <td>27.0</td>\n",
       "      <td>78.0</td>\n",
       "      <td>8.1</td>\n",
       "      <td>350.0</td>\n",
       "      <td>10.0</td>\n",
       "      <td>30.34</td>\n",
       "      <td>Light Rain</td>\n",
       "      <td>1</td>\n",
       "      <td>1</td>\n",
       "      <td>4</td>\n",
       "      <td>1</td>\n",
       "      <td>1</td>\n",
       "      <td>1</td>\n",
       "      <td>0</td>\n",
       "      <td>0</td>\n",
       "      <td>0</td>\n",
       "      <td>0</td>\n",
       "      <td>0</td>\n",
       "      <td>0</td>\n",
       "      <td>0</td>\n",
       "      <td>0</td>\n",
       "      <td>0</td>\n",
       "    </tr>\n",
       "  </tbody>\n",
       "</table>\n",
       "</div>"
      ],
      "text/plain": [
       "   Unnamed: 0  Month  DayofMonth  DayOfWeek Carrier Origin Dest  Cancelled  \\\n",
       "0           0      1           1          4      AA    PHX  DFW        1.0   \n",
       "1           1      1           1          4      NK    PHX  DFW        0.0   \n",
       "2           2      1           1          4      DL    DEN  ATL        0.0   \n",
       "3           3      1           1          4      NK    LAS  MSP        0.0   \n",
       "4           4      1           1          4      NK    LAS  DFW        0.0   \n",
       "\n",
       "   Distance  Nflights_10  DepDelayMedian_10  DepDelayMax_10  \\\n",
       "0     868.0           10               -2.0             0.0   \n",
       "1     868.0            0                0.0             0.0   \n",
       "2    1199.0           10                3.5            48.0   \n",
       "3    1299.0            0                0.0             0.0   \n",
       "4    1055.0            0                0.0             0.0   \n",
       "\n",
       "   ArrDelayMedian_10  ArrDelayMax_10  TaxiOutMedian_10  TaxiInMedian_10  \\\n",
       "0               -2.5            17.0              13.0              4.0   \n",
       "1                0.0             0.0               0.0              0.0   \n",
       "2               -7.5            52.0              15.0              6.5   \n",
       "3                0.0             0.0               0.0              0.0   \n",
       "4                0.0             0.0               0.0              0.0   \n",
       "\n",
       "   Ncan_10  Ndiv_10  Nflights_20  DepDelayMedian_20  DepDelayMax_20  \\\n",
       "0      0.0      0.0           14               -2.0             0.0   \n",
       "1      0.0      0.0            0                0.0             0.0   \n",
       "2      0.0      0.0           12                3.5            48.0   \n",
       "3      0.0      0.0            0                0.0             0.0   \n",
       "4      0.0      0.0            0                0.0             0.0   \n",
       "\n",
       "   ArrDelayMedian_20  ArrDelayMax_20  TaxiOutMedian_20  TaxiInMedian_20  \\\n",
       "0               -0.5            17.0              13.0              5.0   \n",
       "1                0.0             0.0               0.0              0.0   \n",
       "2               -7.5            52.0              14.5              6.5   \n",
       "3                0.0             0.0               0.0              0.0   \n",
       "4                0.0             0.0               0.0              0.0   \n",
       "\n",
       "   Ncan_20  Ndiv_20  Nflights_30  DepDelayMedian_30  DepDelayMax_30  \\\n",
       "0      0.0      0.0           14               -2.0             0.0   \n",
       "1      0.0      0.0            0                0.0             0.0   \n",
       "2      0.0      0.0           12                3.5            48.0   \n",
       "3      0.0      0.0            0                0.0             0.0   \n",
       "4      0.0      0.0            0                0.0             0.0   \n",
       "\n",
       "   ArrDelayMedian_30  ArrDelayMax_30  TaxiOutMedian_30  TaxiInMedian_30  \\\n",
       "0               -0.5            17.0              13.0              5.0   \n",
       "1                0.0             0.0               0.0              0.0   \n",
       "2               -7.5            52.0              14.5              6.5   \n",
       "3                0.0             0.0               0.0              0.0   \n",
       "4                0.0             0.0               0.0              0.0   \n",
       "\n",
       "   Ncan_30  Ndiv_30  CRSDepHr  CRSArrHr  Temperature_Origin  DewPoint_Origin  \\\n",
       "0      0.0      0.0         2         5                37.0             30.0   \n",
       "1      0.0      0.0         1         5                37.0             30.9   \n",
       "2      0.0      0.0         0         5                 7.0             -8.0   \n",
       "3      0.0      0.0         0         5                34.0             17.1   \n",
       "4      0.0      0.0         1         5                32.0             17.1   \n",
       "\n",
       "   Humidity_Origin  WindSpeed_Origin  WindDirection_Origin  Visibility_Origin  \\\n",
       "0             76.0               3.5                 320.0               10.0   \n",
       "1             79.0               4.6                 300.0               10.0   \n",
       "2             51.0              15.0                 170.0               10.0   \n",
       "3             50.0               9.2                 190.0               10.0   \n",
       "4             54.0              10.4                 190.0               10.0   \n",
       "\n",
       "   Pressure_Origin  Condition_Origin  Temperature_Dest  DewPoint_Dest  \\\n",
       "0            30.04  Scattered Clouds              33.1           27.0   \n",
       "1            30.03     Mostly Cloudy              33.1           27.0   \n",
       "2            30.22             Clear              33.1           26.1   \n",
       "3            29.99     Mostly Cloudy              16.0           10.0   \n",
       "4            30.00     Mostly Cloudy              33.1           27.0   \n",
       "\n",
       "   Humidity_Dest  WindSpeed_Dest  WindDirection_Dest  Visibility_Dest  \\\n",
       "0           78.0             8.1               350.0             10.0   \n",
       "1           78.0             8.1               350.0             10.0   \n",
       "2           75.0             3.5               310.0             10.0   \n",
       "3           77.0             8.1               240.0             10.0   \n",
       "4           78.0             8.1               350.0             10.0   \n",
       "\n",
       "   Pressure_Dest Condition_Dest  Month_Dest  DayOfMonth_Dest  DayOfWeek_Dest  \\\n",
       "0          30.34     Light Rain           1                1               4   \n",
       "1          30.34     Light Rain           1                1               4   \n",
       "2          30.32  Partly Cloudy           1                1               4   \n",
       "3          29.90       Overcast           1                1               4   \n",
       "4          30.34     Light Rain           1                1               4   \n",
       "\n",
       "   TempFlight_30  TempFlight_20  TempFlight_10  AllCanceled_30  \\\n",
       "0              0              0              0               0   \n",
       "1              1              1              1               0   \n",
       "2              0              0              0               0   \n",
       "3              1              1              1               0   \n",
       "4              1              1              1               0   \n",
       "\n",
       "   AllDiverted_30  AllCanceled_20  AllDiverted_20  AllCanDiv_20  AllCanDiv_30  \\\n",
       "0               0               0               0             0             0   \n",
       "1               0               0               0             0             0   \n",
       "2               0               0               0             0             0   \n",
       "3               0               0               0             0             0   \n",
       "4               0               0               0             0             0   \n",
       "\n",
       "   AllCanceled_10  AllDiverted_10  AllCanDiv_10  \n",
       "0               0               0             0  \n",
       "1               0               0             0  \n",
       "2               0               0             0  \n",
       "3               0               0             0  \n",
       "4               0               0             0  "
      ]
     },
     "execution_count": 6,
     "metadata": {},
     "output_type": "execute_result"
    }
   ],
   "source": [
    "df.head()"
   ]
  },
  {
   "cell_type": "code",
   "execution_count": 7,
   "metadata": {
    "collapsed": true
   },
   "outputs": [],
   "source": [
    "df.drop([\"Unnamed: 0\"], axis=1, inplace=True)"
   ]
  },
  {
   "cell_type": "code",
   "execution_count": 8,
   "metadata": {},
   "outputs": [
    {
     "data": {
      "text/html": [
       "<div>\n",
       "<style>\n",
       "    .dataframe thead tr:only-child th {\n",
       "        text-align: right;\n",
       "    }\n",
       "\n",
       "    .dataframe thead th {\n",
       "        text-align: left;\n",
       "    }\n",
       "\n",
       "    .dataframe tbody tr th {\n",
       "        vertical-align: top;\n",
       "    }\n",
       "</style>\n",
       "<table border=\"1\" class=\"dataframe\">\n",
       "  <thead>\n",
       "    <tr style=\"text-align: right;\">\n",
       "      <th></th>\n",
       "      <th>Month</th>\n",
       "      <th>DayofMonth</th>\n",
       "      <th>DayOfWeek</th>\n",
       "      <th>Carrier</th>\n",
       "      <th>Origin</th>\n",
       "      <th>Dest</th>\n",
       "      <th>Cancelled</th>\n",
       "      <th>Distance</th>\n",
       "      <th>Nflights_10</th>\n",
       "      <th>DepDelayMedian_10</th>\n",
       "      <th>DepDelayMax_10</th>\n",
       "      <th>ArrDelayMedian_10</th>\n",
       "      <th>ArrDelayMax_10</th>\n",
       "      <th>TaxiOutMedian_10</th>\n",
       "      <th>TaxiInMedian_10</th>\n",
       "      <th>Ncan_10</th>\n",
       "      <th>Ndiv_10</th>\n",
       "      <th>Nflights_20</th>\n",
       "      <th>DepDelayMedian_20</th>\n",
       "      <th>DepDelayMax_20</th>\n",
       "      <th>ArrDelayMedian_20</th>\n",
       "      <th>ArrDelayMax_20</th>\n",
       "      <th>TaxiOutMedian_20</th>\n",
       "      <th>TaxiInMedian_20</th>\n",
       "      <th>Ncan_20</th>\n",
       "      <th>Ndiv_20</th>\n",
       "      <th>Nflights_30</th>\n",
       "      <th>DepDelayMedian_30</th>\n",
       "      <th>DepDelayMax_30</th>\n",
       "      <th>ArrDelayMedian_30</th>\n",
       "      <th>ArrDelayMax_30</th>\n",
       "      <th>TaxiOutMedian_30</th>\n",
       "      <th>TaxiInMedian_30</th>\n",
       "      <th>Ncan_30</th>\n",
       "      <th>Ndiv_30</th>\n",
       "      <th>CRSDepHr</th>\n",
       "      <th>CRSArrHr</th>\n",
       "      <th>Temperature_Origin</th>\n",
       "      <th>DewPoint_Origin</th>\n",
       "      <th>Humidity_Origin</th>\n",
       "      <th>WindSpeed_Origin</th>\n",
       "      <th>WindDirection_Origin</th>\n",
       "      <th>Visibility_Origin</th>\n",
       "      <th>Pressure_Origin</th>\n",
       "      <th>Condition_Origin</th>\n",
       "      <th>Temperature_Dest</th>\n",
       "      <th>DewPoint_Dest</th>\n",
       "      <th>Humidity_Dest</th>\n",
       "      <th>WindSpeed_Dest</th>\n",
       "      <th>WindDirection_Dest</th>\n",
       "      <th>Visibility_Dest</th>\n",
       "      <th>Pressure_Dest</th>\n",
       "      <th>Condition_Dest</th>\n",
       "      <th>Month_Dest</th>\n",
       "      <th>DayOfMonth_Dest</th>\n",
       "      <th>DayOfWeek_Dest</th>\n",
       "      <th>TempFlight_30</th>\n",
       "      <th>TempFlight_20</th>\n",
       "      <th>TempFlight_10</th>\n",
       "      <th>AllCanceled_30</th>\n",
       "      <th>AllDiverted_30</th>\n",
       "      <th>AllCanceled_20</th>\n",
       "      <th>AllDiverted_20</th>\n",
       "      <th>AllCanDiv_20</th>\n",
       "      <th>AllCanDiv_30</th>\n",
       "      <th>AllCanceled_10</th>\n",
       "      <th>AllDiverted_10</th>\n",
       "      <th>AllCanDiv_10</th>\n",
       "    </tr>\n",
       "  </thead>\n",
       "  <tbody>\n",
       "    <tr>\n",
       "      <th>0</th>\n",
       "      <td>1</td>\n",
       "      <td>1</td>\n",
       "      <td>4</td>\n",
       "      <td>AA</td>\n",
       "      <td>PHX</td>\n",
       "      <td>DFW</td>\n",
       "      <td>1.0</td>\n",
       "      <td>868.0</td>\n",
       "      <td>10</td>\n",
       "      <td>-2.0</td>\n",
       "      <td>0.0</td>\n",
       "      <td>-2.5</td>\n",
       "      <td>17.0</td>\n",
       "      <td>13.0</td>\n",
       "      <td>4.0</td>\n",
       "      <td>0.0</td>\n",
       "      <td>0.0</td>\n",
       "      <td>14</td>\n",
       "      <td>-2.0</td>\n",
       "      <td>0.0</td>\n",
       "      <td>-0.5</td>\n",
       "      <td>17.0</td>\n",
       "      <td>13.0</td>\n",
       "      <td>5.0</td>\n",
       "      <td>0.0</td>\n",
       "      <td>0.0</td>\n",
       "      <td>14</td>\n",
       "      <td>-2.0</td>\n",
       "      <td>0.0</td>\n",
       "      <td>-0.5</td>\n",
       "      <td>17.0</td>\n",
       "      <td>13.0</td>\n",
       "      <td>5.0</td>\n",
       "      <td>0.0</td>\n",
       "      <td>0.0</td>\n",
       "      <td>2</td>\n",
       "      <td>5</td>\n",
       "      <td>37.0</td>\n",
       "      <td>30.0</td>\n",
       "      <td>76.0</td>\n",
       "      <td>3.5</td>\n",
       "      <td>320.0</td>\n",
       "      <td>10.0</td>\n",
       "      <td>30.04</td>\n",
       "      <td>Scattered Clouds</td>\n",
       "      <td>33.1</td>\n",
       "      <td>27.0</td>\n",
       "      <td>78.0</td>\n",
       "      <td>8.1</td>\n",
       "      <td>350.0</td>\n",
       "      <td>10.0</td>\n",
       "      <td>30.34</td>\n",
       "      <td>Light Rain</td>\n",
       "      <td>1</td>\n",
       "      <td>1</td>\n",
       "      <td>4</td>\n",
       "      <td>0</td>\n",
       "      <td>0</td>\n",
       "      <td>0</td>\n",
       "      <td>0</td>\n",
       "      <td>0</td>\n",
       "      <td>0</td>\n",
       "      <td>0</td>\n",
       "      <td>0</td>\n",
       "      <td>0</td>\n",
       "      <td>0</td>\n",
       "      <td>0</td>\n",
       "      <td>0</td>\n",
       "    </tr>\n",
       "    <tr>\n",
       "      <th>1</th>\n",
       "      <td>1</td>\n",
       "      <td>1</td>\n",
       "      <td>4</td>\n",
       "      <td>NK</td>\n",
       "      <td>PHX</td>\n",
       "      <td>DFW</td>\n",
       "      <td>0.0</td>\n",
       "      <td>868.0</td>\n",
       "      <td>0</td>\n",
       "      <td>0.0</td>\n",
       "      <td>0.0</td>\n",
       "      <td>0.0</td>\n",
       "      <td>0.0</td>\n",
       "      <td>0.0</td>\n",
       "      <td>0.0</td>\n",
       "      <td>0.0</td>\n",
       "      <td>0.0</td>\n",
       "      <td>0</td>\n",
       "      <td>0.0</td>\n",
       "      <td>0.0</td>\n",
       "      <td>0.0</td>\n",
       "      <td>0.0</td>\n",
       "      <td>0.0</td>\n",
       "      <td>0.0</td>\n",
       "      <td>0.0</td>\n",
       "      <td>0.0</td>\n",
       "      <td>0</td>\n",
       "      <td>0.0</td>\n",
       "      <td>0.0</td>\n",
       "      <td>0.0</td>\n",
       "      <td>0.0</td>\n",
       "      <td>0.0</td>\n",
       "      <td>0.0</td>\n",
       "      <td>0.0</td>\n",
       "      <td>0.0</td>\n",
       "      <td>1</td>\n",
       "      <td>5</td>\n",
       "      <td>37.0</td>\n",
       "      <td>30.9</td>\n",
       "      <td>79.0</td>\n",
       "      <td>4.6</td>\n",
       "      <td>300.0</td>\n",
       "      <td>10.0</td>\n",
       "      <td>30.03</td>\n",
       "      <td>Mostly Cloudy</td>\n",
       "      <td>33.1</td>\n",
       "      <td>27.0</td>\n",
       "      <td>78.0</td>\n",
       "      <td>8.1</td>\n",
       "      <td>350.0</td>\n",
       "      <td>10.0</td>\n",
       "      <td>30.34</td>\n",
       "      <td>Light Rain</td>\n",
       "      <td>1</td>\n",
       "      <td>1</td>\n",
       "      <td>4</td>\n",
       "      <td>1</td>\n",
       "      <td>1</td>\n",
       "      <td>1</td>\n",
       "      <td>0</td>\n",
       "      <td>0</td>\n",
       "      <td>0</td>\n",
       "      <td>0</td>\n",
       "      <td>0</td>\n",
       "      <td>0</td>\n",
       "      <td>0</td>\n",
       "      <td>0</td>\n",
       "      <td>0</td>\n",
       "    </tr>\n",
       "    <tr>\n",
       "      <th>2</th>\n",
       "      <td>1</td>\n",
       "      <td>1</td>\n",
       "      <td>4</td>\n",
       "      <td>DL</td>\n",
       "      <td>DEN</td>\n",
       "      <td>ATL</td>\n",
       "      <td>0.0</td>\n",
       "      <td>1199.0</td>\n",
       "      <td>10</td>\n",
       "      <td>3.5</td>\n",
       "      <td>48.0</td>\n",
       "      <td>-7.5</td>\n",
       "      <td>52.0</td>\n",
       "      <td>15.0</td>\n",
       "      <td>6.5</td>\n",
       "      <td>0.0</td>\n",
       "      <td>0.0</td>\n",
       "      <td>12</td>\n",
       "      <td>3.5</td>\n",
       "      <td>48.0</td>\n",
       "      <td>-7.5</td>\n",
       "      <td>52.0</td>\n",
       "      <td>14.5</td>\n",
       "      <td>6.5</td>\n",
       "      <td>0.0</td>\n",
       "      <td>0.0</td>\n",
       "      <td>12</td>\n",
       "      <td>3.5</td>\n",
       "      <td>48.0</td>\n",
       "      <td>-7.5</td>\n",
       "      <td>52.0</td>\n",
       "      <td>14.5</td>\n",
       "      <td>6.5</td>\n",
       "      <td>0.0</td>\n",
       "      <td>0.0</td>\n",
       "      <td>0</td>\n",
       "      <td>5</td>\n",
       "      <td>7.0</td>\n",
       "      <td>-8.0</td>\n",
       "      <td>51.0</td>\n",
       "      <td>15.0</td>\n",
       "      <td>170.0</td>\n",
       "      <td>10.0</td>\n",
       "      <td>30.22</td>\n",
       "      <td>Clear</td>\n",
       "      <td>33.1</td>\n",
       "      <td>26.1</td>\n",
       "      <td>75.0</td>\n",
       "      <td>3.5</td>\n",
       "      <td>310.0</td>\n",
       "      <td>10.0</td>\n",
       "      <td>30.32</td>\n",
       "      <td>Partly Cloudy</td>\n",
       "      <td>1</td>\n",
       "      <td>1</td>\n",
       "      <td>4</td>\n",
       "      <td>0</td>\n",
       "      <td>0</td>\n",
       "      <td>0</td>\n",
       "      <td>0</td>\n",
       "      <td>0</td>\n",
       "      <td>0</td>\n",
       "      <td>0</td>\n",
       "      <td>0</td>\n",
       "      <td>0</td>\n",
       "      <td>0</td>\n",
       "      <td>0</td>\n",
       "      <td>0</td>\n",
       "    </tr>\n",
       "    <tr>\n",
       "      <th>3</th>\n",
       "      <td>1</td>\n",
       "      <td>1</td>\n",
       "      <td>4</td>\n",
       "      <td>NK</td>\n",
       "      <td>LAS</td>\n",
       "      <td>MSP</td>\n",
       "      <td>0.0</td>\n",
       "      <td>1299.0</td>\n",
       "      <td>0</td>\n",
       "      <td>0.0</td>\n",
       "      <td>0.0</td>\n",
       "      <td>0.0</td>\n",
       "      <td>0.0</td>\n",
       "      <td>0.0</td>\n",
       "      <td>0.0</td>\n",
       "      <td>0.0</td>\n",
       "      <td>0.0</td>\n",
       "      <td>0</td>\n",
       "      <td>0.0</td>\n",
       "      <td>0.0</td>\n",
       "      <td>0.0</td>\n",
       "      <td>0.0</td>\n",
       "      <td>0.0</td>\n",
       "      <td>0.0</td>\n",
       "      <td>0.0</td>\n",
       "      <td>0.0</td>\n",
       "      <td>0</td>\n",
       "      <td>0.0</td>\n",
       "      <td>0.0</td>\n",
       "      <td>0.0</td>\n",
       "      <td>0.0</td>\n",
       "      <td>0.0</td>\n",
       "      <td>0.0</td>\n",
       "      <td>0.0</td>\n",
       "      <td>0.0</td>\n",
       "      <td>0</td>\n",
       "      <td>5</td>\n",
       "      <td>34.0</td>\n",
       "      <td>17.1</td>\n",
       "      <td>50.0</td>\n",
       "      <td>9.2</td>\n",
       "      <td>190.0</td>\n",
       "      <td>10.0</td>\n",
       "      <td>29.99</td>\n",
       "      <td>Mostly Cloudy</td>\n",
       "      <td>16.0</td>\n",
       "      <td>10.0</td>\n",
       "      <td>77.0</td>\n",
       "      <td>8.1</td>\n",
       "      <td>240.0</td>\n",
       "      <td>10.0</td>\n",
       "      <td>29.90</td>\n",
       "      <td>Overcast</td>\n",
       "      <td>1</td>\n",
       "      <td>1</td>\n",
       "      <td>4</td>\n",
       "      <td>1</td>\n",
       "      <td>1</td>\n",
       "      <td>1</td>\n",
       "      <td>0</td>\n",
       "      <td>0</td>\n",
       "      <td>0</td>\n",
       "      <td>0</td>\n",
       "      <td>0</td>\n",
       "      <td>0</td>\n",
       "      <td>0</td>\n",
       "      <td>0</td>\n",
       "      <td>0</td>\n",
       "    </tr>\n",
       "    <tr>\n",
       "      <th>4</th>\n",
       "      <td>1</td>\n",
       "      <td>1</td>\n",
       "      <td>4</td>\n",
       "      <td>NK</td>\n",
       "      <td>LAS</td>\n",
       "      <td>DFW</td>\n",
       "      <td>0.0</td>\n",
       "      <td>1055.0</td>\n",
       "      <td>0</td>\n",
       "      <td>0.0</td>\n",
       "      <td>0.0</td>\n",
       "      <td>0.0</td>\n",
       "      <td>0.0</td>\n",
       "      <td>0.0</td>\n",
       "      <td>0.0</td>\n",
       "      <td>0.0</td>\n",
       "      <td>0.0</td>\n",
       "      <td>0</td>\n",
       "      <td>0.0</td>\n",
       "      <td>0.0</td>\n",
       "      <td>0.0</td>\n",
       "      <td>0.0</td>\n",
       "      <td>0.0</td>\n",
       "      <td>0.0</td>\n",
       "      <td>0.0</td>\n",
       "      <td>0.0</td>\n",
       "      <td>0</td>\n",
       "      <td>0.0</td>\n",
       "      <td>0.0</td>\n",
       "      <td>0.0</td>\n",
       "      <td>0.0</td>\n",
       "      <td>0.0</td>\n",
       "      <td>0.0</td>\n",
       "      <td>0.0</td>\n",
       "      <td>0.0</td>\n",
       "      <td>1</td>\n",
       "      <td>5</td>\n",
       "      <td>32.0</td>\n",
       "      <td>17.1</td>\n",
       "      <td>54.0</td>\n",
       "      <td>10.4</td>\n",
       "      <td>190.0</td>\n",
       "      <td>10.0</td>\n",
       "      <td>30.00</td>\n",
       "      <td>Mostly Cloudy</td>\n",
       "      <td>33.1</td>\n",
       "      <td>27.0</td>\n",
       "      <td>78.0</td>\n",
       "      <td>8.1</td>\n",
       "      <td>350.0</td>\n",
       "      <td>10.0</td>\n",
       "      <td>30.34</td>\n",
       "      <td>Light Rain</td>\n",
       "      <td>1</td>\n",
       "      <td>1</td>\n",
       "      <td>4</td>\n",
       "      <td>1</td>\n",
       "      <td>1</td>\n",
       "      <td>1</td>\n",
       "      <td>0</td>\n",
       "      <td>0</td>\n",
       "      <td>0</td>\n",
       "      <td>0</td>\n",
       "      <td>0</td>\n",
       "      <td>0</td>\n",
       "      <td>0</td>\n",
       "      <td>0</td>\n",
       "      <td>0</td>\n",
       "    </tr>\n",
       "  </tbody>\n",
       "</table>\n",
       "</div>"
      ],
      "text/plain": [
       "   Month  DayofMonth  DayOfWeek Carrier Origin Dest  Cancelled  Distance  \\\n",
       "0      1           1          4      AA    PHX  DFW        1.0     868.0   \n",
       "1      1           1          4      NK    PHX  DFW        0.0     868.0   \n",
       "2      1           1          4      DL    DEN  ATL        0.0    1199.0   \n",
       "3      1           1          4      NK    LAS  MSP        0.0    1299.0   \n",
       "4      1           1          4      NK    LAS  DFW        0.0    1055.0   \n",
       "\n",
       "   Nflights_10  DepDelayMedian_10  DepDelayMax_10  ArrDelayMedian_10  \\\n",
       "0           10               -2.0             0.0               -2.5   \n",
       "1            0                0.0             0.0                0.0   \n",
       "2           10                3.5            48.0               -7.5   \n",
       "3            0                0.0             0.0                0.0   \n",
       "4            0                0.0             0.0                0.0   \n",
       "\n",
       "   ArrDelayMax_10  TaxiOutMedian_10  TaxiInMedian_10  Ncan_10  Ndiv_10  \\\n",
       "0            17.0              13.0              4.0      0.0      0.0   \n",
       "1             0.0               0.0              0.0      0.0      0.0   \n",
       "2            52.0              15.0              6.5      0.0      0.0   \n",
       "3             0.0               0.0              0.0      0.0      0.0   \n",
       "4             0.0               0.0              0.0      0.0      0.0   \n",
       "\n",
       "   Nflights_20  DepDelayMedian_20  DepDelayMax_20  ArrDelayMedian_20  \\\n",
       "0           14               -2.0             0.0               -0.5   \n",
       "1            0                0.0             0.0                0.0   \n",
       "2           12                3.5            48.0               -7.5   \n",
       "3            0                0.0             0.0                0.0   \n",
       "4            0                0.0             0.0                0.0   \n",
       "\n",
       "   ArrDelayMax_20  TaxiOutMedian_20  TaxiInMedian_20  Ncan_20  Ndiv_20  \\\n",
       "0            17.0              13.0              5.0      0.0      0.0   \n",
       "1             0.0               0.0              0.0      0.0      0.0   \n",
       "2            52.0              14.5              6.5      0.0      0.0   \n",
       "3             0.0               0.0              0.0      0.0      0.0   \n",
       "4             0.0               0.0              0.0      0.0      0.0   \n",
       "\n",
       "   Nflights_30  DepDelayMedian_30  DepDelayMax_30  ArrDelayMedian_30  \\\n",
       "0           14               -2.0             0.0               -0.5   \n",
       "1            0                0.0             0.0                0.0   \n",
       "2           12                3.5            48.0               -7.5   \n",
       "3            0                0.0             0.0                0.0   \n",
       "4            0                0.0             0.0                0.0   \n",
       "\n",
       "   ArrDelayMax_30  TaxiOutMedian_30  TaxiInMedian_30  Ncan_30  Ndiv_30  \\\n",
       "0            17.0              13.0              5.0      0.0      0.0   \n",
       "1             0.0               0.0              0.0      0.0      0.0   \n",
       "2            52.0              14.5              6.5      0.0      0.0   \n",
       "3             0.0               0.0              0.0      0.0      0.0   \n",
       "4             0.0               0.0              0.0      0.0      0.0   \n",
       "\n",
       "   CRSDepHr  CRSArrHr  Temperature_Origin  DewPoint_Origin  Humidity_Origin  \\\n",
       "0         2         5                37.0             30.0             76.0   \n",
       "1         1         5                37.0             30.9             79.0   \n",
       "2         0         5                 7.0             -8.0             51.0   \n",
       "3         0         5                34.0             17.1             50.0   \n",
       "4         1         5                32.0             17.1             54.0   \n",
       "\n",
       "   WindSpeed_Origin  WindDirection_Origin  Visibility_Origin  Pressure_Origin  \\\n",
       "0               3.5                 320.0               10.0            30.04   \n",
       "1               4.6                 300.0               10.0            30.03   \n",
       "2              15.0                 170.0               10.0            30.22   \n",
       "3               9.2                 190.0               10.0            29.99   \n",
       "4              10.4                 190.0               10.0            30.00   \n",
       "\n",
       "   Condition_Origin  Temperature_Dest  DewPoint_Dest  Humidity_Dest  \\\n",
       "0  Scattered Clouds              33.1           27.0           78.0   \n",
       "1     Mostly Cloudy              33.1           27.0           78.0   \n",
       "2             Clear              33.1           26.1           75.0   \n",
       "3     Mostly Cloudy              16.0           10.0           77.0   \n",
       "4     Mostly Cloudy              33.1           27.0           78.0   \n",
       "\n",
       "   WindSpeed_Dest  WindDirection_Dest  Visibility_Dest  Pressure_Dest  \\\n",
       "0             8.1               350.0             10.0          30.34   \n",
       "1             8.1               350.0             10.0          30.34   \n",
       "2             3.5               310.0             10.0          30.32   \n",
       "3             8.1               240.0             10.0          29.90   \n",
       "4             8.1               350.0             10.0          30.34   \n",
       "\n",
       "  Condition_Dest  Month_Dest  DayOfMonth_Dest  DayOfWeek_Dest  TempFlight_30  \\\n",
       "0     Light Rain           1                1               4              0   \n",
       "1     Light Rain           1                1               4              1   \n",
       "2  Partly Cloudy           1                1               4              0   \n",
       "3       Overcast           1                1               4              1   \n",
       "4     Light Rain           1                1               4              1   \n",
       "\n",
       "   TempFlight_20  TempFlight_10  AllCanceled_30  AllDiverted_30  \\\n",
       "0              0              0               0               0   \n",
       "1              1              1               0               0   \n",
       "2              0              0               0               0   \n",
       "3              1              1               0               0   \n",
       "4              1              1               0               0   \n",
       "\n",
       "   AllCanceled_20  AllDiverted_20  AllCanDiv_20  AllCanDiv_30  AllCanceled_10  \\\n",
       "0               0               0             0             0               0   \n",
       "1               0               0             0             0               0   \n",
       "2               0               0             0             0               0   \n",
       "3               0               0             0             0               0   \n",
       "4               0               0             0             0               0   \n",
       "\n",
       "   AllDiverted_10  AllCanDiv_10  \n",
       "0               0             0  \n",
       "1               0             0  \n",
       "2               0             0  \n",
       "3               0             0  \n",
       "4               0             0  "
      ]
     },
     "execution_count": 8,
     "metadata": {},
     "output_type": "execute_result"
    }
   ],
   "source": [
    "df.head()"
   ]
  },
  {
   "cell_type": "code",
   "execution_count": 9,
   "metadata": {},
   "outputs": [
    {
     "data": {
      "text/plain": [
       "(2857139, 68)"
      ]
     },
     "execution_count": 9,
     "metadata": {},
     "output_type": "execute_result"
    }
   ],
   "source": [
    "df.shape"
   ]
  },
  {
   "cell_type": "markdown",
   "metadata": {},
   "source": [
    "There are some variables with numerical values and some variables with categories. For numerical variables, we do not have to worry about labelling. However, we will need to perform label encoding for the categorical variables. There are also some variables that are already in binary form, so that also does not need any labeling. Let's first identify all the numerical, categorical and binary variables."
   ]
  },
  {
   "cell_type": "code",
   "execution_count": 10,
   "metadata": {
    "collapsed": true
   },
   "outputs": [],
   "source": [
    "numvar = [\"Distance\", \"Nflights_10\", \"DepDelayMedian_10\", \"DepDelayMax_10\", \"ArrDelayMedian_10\",\n",
    "          \"ArrDelayMax_10\", \"TaxiOutMedian_10\", \"TaxiInMedian_10\", \"Ncan_10\", \"Ndiv_10\", \"Nflights_20\",\n",
    "          \"DepDelayMedian_20\", \"DepDelayMax_20\", \"ArrDelayMedian_20\", \"ArrDelayMax_20\", \"TaxiOutMedian_20\",\n",
    "          \"TaxiInMedian_20\", \"Ncan_20\", \"Ndiv_20\", \"Nflights_30\", \"DepDelayMedian_30\", \"DepDelayMax_30\", \n",
    "          \"ArrDelayMedian_30\", \"ArrDelayMax_30\", \"TaxiOutMedian_30\", \"TaxiInMedian_30\", \"Ncan_30\", \n",
    "          \"Ndiv_30\", \"Temperature_Origin\", \"DewPoint_Origin\", \"Humidity_Origin\", \"WindSpeed_Origin\", \n",
    "          \"WindDirection_Origin\", \"Visibility_Origin\", \"Pressure_Origin\", \"Temperature_Dest\", \"DewPoint_Dest\",\n",
    "          \"Humidity_Dest\", \"WindSpeed_Dest\", \"WindDirection_Dest\", \"Visibility_Dest\", \"Pressure_Dest\"]\n",
    "catvar = [\"Month\", \"DayofMonth\", \"DayOfWeek\", \"Carrier\", \"Origin\", \"Dest\", \"CRSDepHr\", \"CRSArrHr\", \n",
    "          \"Condition_Origin\", \"Condition_Dest\", \"Month_Dest\", \"DayOfMonth_Dest\", \"DayOfWeek_Dest\"]\n",
    "binvar = [\"TempFlight_30\", \"TempFlight_20\", \"TempFlight_10\", \"AllCanceled_30\", \"AllDiverted_30\", \n",
    "          \"AllCanceled_20\", \"AllDiverted_20\", \"AllCanDiv_20\", \"AllCanDiv_30\", \"AllCanceled_10\", \n",
    "          \"AllDiverted_10\", \"AllCanDiv_10\"]"
   ]
  },
  {
   "cell_type": "markdown",
   "metadata": {},
   "source": [
    "## Converting string values to numerical values in all categorical columns"
   ]
  },
  {
   "cell_type": "code",
   "execution_count": 11,
   "metadata": {
    "collapsed": true
   },
   "outputs": [],
   "source": [
    "from sklearn.preprocessing import LabelEncoder\n",
    "lbl_enc = LabelEncoder()\n",
    "tmp = df[catvar].apply(lbl_enc.fit_transform) "
   ]
  },
  {
   "cell_type": "code",
   "execution_count": 12,
   "metadata": {
    "collapsed": true
   },
   "outputs": [],
   "source": [
    "df.drop(catvar, axis=1, inplace=True)\n",
    "df = pd.concat([df, tmp], axis=1)"
   ]
  },
  {
   "cell_type": "code",
   "execution_count": 13,
   "metadata": {},
   "outputs": [
    {
     "data": {
      "text/plain": [
       "(2857139, 68)"
      ]
     },
     "execution_count": 13,
     "metadata": {},
     "output_type": "execute_result"
    }
   ],
   "source": [
    "df.shape"
   ]
  },
  {
   "cell_type": "code",
   "execution_count": 14,
   "metadata": {
    "collapsed": true
   },
   "outputs": [],
   "source": [
    "colnames = list(df.columns[1:])"
   ]
  },
  {
   "cell_type": "markdown",
   "metadata": {},
   "source": [
    "## Creating feature matrix and target vector"
   ]
  },
  {
   "cell_type": "code",
   "execution_count": 15,
   "metadata": {
    "collapsed": true
   },
   "outputs": [],
   "source": [
    "X = df.drop([\"Cancelled\"], axis=1).values\n",
    "y = df.Cancelled.astype(int).values"
   ]
  },
  {
   "cell_type": "code",
   "execution_count": 16,
   "metadata": {},
   "outputs": [
    {
     "data": {
      "text/plain": [
       "(2857139, 67)"
      ]
     },
     "execution_count": 16,
     "metadata": {},
     "output_type": "execute_result"
    }
   ],
   "source": [
    "X.shape"
   ]
  },
  {
   "cell_type": "markdown",
   "metadata": {},
   "source": [
    "## Splitting the data into train (50%) and test (50%) sets"
   ]
  },
  {
   "cell_type": "code",
   "execution_count": 17,
   "metadata": {
    "collapsed": true
   },
   "outputs": [],
   "source": [
    "from sklearn.model_selection import StratifiedShuffleSplit\n",
    "sss1 = StratifiedShuffleSplit(n_splits=1, test_size=0.5, random_state=20)\n",
    "for train_index, test_index in sss1.split(X, y):\n",
    "    X_train, X_test = X[train_index], X[test_index]\n",
    "    y_train, y_test = y[train_index], y[test_index]"
   ]
  },
  {
   "cell_type": "code",
   "execution_count": 18,
   "metadata": {},
   "outputs": [
    {
     "data": {
      "text/plain": [
       "(1428569, 67)"
      ]
     },
     "execution_count": 18,
     "metadata": {},
     "output_type": "execute_result"
    }
   ],
   "source": [
    "X_train.shape"
   ]
  },
  {
   "cell_type": "code",
   "execution_count": 19,
   "metadata": {},
   "outputs": [
    {
     "data": {
      "text/plain": [
       "(1428570, 67)"
      ]
     },
     "execution_count": 19,
     "metadata": {},
     "output_type": "execute_result"
    }
   ],
   "source": [
    "X_test.shape"
   ]
  },
  {
   "cell_type": "markdown",
   "metadata": {},
   "source": [
    "Just to make sure that stratified shuffle split led to train and test with same fraction of positive class, lets calculate the fractions."
   ]
  },
  {
   "cell_type": "code",
   "execution_count": 20,
   "metadata": {},
   "outputs": [
    {
     "data": {
      "text/plain": [
       "0.011486319526743196"
      ]
     },
     "execution_count": 20,
     "metadata": {},
     "output_type": "execute_result"
    }
   ],
   "source": [
    "sum(df.iloc[train_index].Cancelled == 1)/len(train_index)"
   ]
  },
  {
   "cell_type": "code",
   "execution_count": 21,
   "metadata": {},
   "outputs": [
    {
     "data": {
      "text/plain": [
       "0.011487011487011487"
      ]
     },
     "execution_count": 21,
     "metadata": {},
     "output_type": "execute_result"
    }
   ],
   "source": [
    "sum(df.iloc[test_index].Cancelled == 1)/len(test_index)"
   ]
  },
  {
   "cell_type": "markdown",
   "metadata": {},
   "source": [
    "They are indeed quite similar."
   ]
  },
  {
   "cell_type": "code",
   "execution_count": 25,
   "metadata": {
    "collapsed": true
   },
   "outputs": [],
   "source": [
    "ind1 = np.where(y_test == 1) # index of class 1\n",
    "ind0 = np.where(y_test == 0) # index of class 0\n",
    "ind = np.sort(np.concatenate([ind1[0], np.random.choice(ind0[0], len(ind1[0]), replace=False)]))\n",
    "# Final test data\n",
    "X_testu = X_test[ind]\n",
    "y_testu = y_test[ind]"
   ]
  },
  {
   "cell_type": "markdown",
   "metadata": {},
   "source": [
    "# Logistic Regression"
   ]
  },
  {
   "cell_type": "code",
   "execution_count": 26,
   "metadata": {
    "collapsed": true
   },
   "outputs": [],
   "source": [
    "LR = pickle.load( open( \"LogisticRegression.pkl\", \"rb\" ) )"
   ]
  },
  {
   "cell_type": "code",
   "execution_count": 28,
   "metadata": {
    "collapsed": true
   },
   "outputs": [],
   "source": [
    "y_pred_test_prob = LR.steps[-1][1].predict_proba(X_testu)\n",
    "y_pred_test = LR.steps[-1][1].predict(X_testu)"
   ]
  },
  {
   "cell_type": "code",
   "execution_count": 35,
   "metadata": {},
   "outputs": [
    {
     "name": "stdout",
     "output_type": "stream",
     "text": [
      "Brier:  0.5\n",
      "LogLoss:  0.69314718056\n",
      "PR AUC:  0.75\n",
      "ROC AUC:  0.5\n"
     ]
    }
   ],
   "source": [
    "print(\"Brier: \", metrics.brier_score_loss(y_testu, y_pred_test))\n",
    "print(\"LogLoss: \", metrics.log_loss(y_testu, y_pred_test_prob))\n",
    "print(\"PR AUC: \", metrics.average_precision_score(y_testu, y_pred_test_prob[:, 1]))\n",
    "fpr, tpr, thresholds = roc_curve(y_testu, y_pred_test_prob[:, 1])\n",
    "print(\"ROC AUC: \", auc(fpr, tpr))"
   ]
  },
  {
   "cell_type": "code",
   "execution_count": 30,
   "metadata": {
    "collapsed": true
   },
   "outputs": [],
   "source": [
    "del X\n",
    "del X_test\n",
    "del X_train\n",
    "del X_testu"
   ]
  },
  {
   "cell_type": "markdown",
   "metadata": {},
   "source": [
    "# Gaussian Naive Bayes"
   ]
  },
  {
   "cell_type": "code",
   "execution_count": 36,
   "metadata": {
    "collapsed": true
   },
   "outputs": [],
   "source": [
    "GNB = pickle.load( open( \"GaussianNB.pkl\", \"rb\" ) )\n",
    "df1 = df.drop([\"Month_Dest\", \"DayOfMonth_Dest\", \"DayOfWeek_Dest\", \"Nflights_10\", \"Nflights_20\", \n",
    "         \"ArrDelayMax_30\", \"ArrDelayMax_20\", \"ArrDelayMax_10\", \"TaxiInMedian_20\", \"TaxiOutMedian_20\"], \n",
    "        axis=1, inplace=False)\n",
    "X1 = df1.drop([\"Cancelled\"], axis=1).values\n",
    "y1 = df1.Cancelled.astype(int).values\n",
    "\n",
    "sss1 = StratifiedShuffleSplit(n_splits=1, test_size=0.5, random_state=20)\n",
    "for train_index1, test_index1 in sss1.split(X1, y1):\n",
    "    X_train1, X_test1 = X1[train_index1], X1[test_index1]\n",
    "    y_train1, y_test1 = y1[train_index1], y1[test_index1]"
   ]
  },
  {
   "cell_type": "code",
   "execution_count": 37,
   "metadata": {
    "collapsed": true
   },
   "outputs": [],
   "source": [
    "ind1 = np.where(y_test1 == 1) # index of class 1\n",
    "ind0 = np.where(y_test1 == 0) # index of class 0\n",
    "ind = np.sort(np.concatenate([ind1[0], np.random.choice(ind0[0], len(ind1[0]), replace=False)]))\n",
    "# Final test data\n",
    "X_testu1 = X_test1[ind]\n",
    "y_testu1 = y_test1[ind]"
   ]
  },
  {
   "cell_type": "code",
   "execution_count": 38,
   "metadata": {
    "collapsed": true
   },
   "outputs": [],
   "source": [
    "y_pred_test_prob1 = GNB.steps[-1][1].predict_proba(X_testu1)\n",
    "y_pred_test1 = GNB.steps[-1][1].predict(X_testu1)"
   ]
  },
  {
   "cell_type": "code",
   "execution_count": 39,
   "metadata": {},
   "outputs": [
    {
     "name": "stdout",
     "output_type": "stream",
     "text": [
      "Brier:  0.319012797075\n",
      "LogLoss:  2.41901250815\n",
      "PR AUC:  0.753533989755\n",
      "ROC AUC:  0.764151024498\n"
     ]
    }
   ],
   "source": [
    "print(\"Brier: \", metrics.brier_score_loss(y_testu1, y_pred_test1))\n",
    "print(\"LogLoss: \", metrics.log_loss(y_testu1, y_pred_test_prob1))\n",
    "print(\"PR AUC: \", metrics.average_precision_score(y_testu1, y_pred_test_prob1[:, 1]))\n",
    "fpr, tpr, thresholds = roc_curve(y_testu1, y_pred_test_prob1[:, 1])\n",
    "print(\"ROC AUC: \", auc(fpr, tpr))"
   ]
  },
  {
   "cell_type": "code",
   "execution_count": 40,
   "metadata": {
    "collapsed": true
   },
   "outputs": [],
   "source": [
    "del df1\n",
    "del X1\n",
    "del train_index1\n",
    "del test_index1\n",
    "del X_train1\n",
    "del X_test1"
   ]
  },
  {
   "cell_type": "code",
   "execution_count": 41,
   "metadata": {
    "collapsed": true
   },
   "outputs": [],
   "source": [
    "del X_testu1"
   ]
  },
  {
   "cell_type": "markdown",
   "metadata": {},
   "source": [
    "# Random Forest"
   ]
  },
  {
   "cell_type": "code",
   "execution_count": 42,
   "metadata": {
    "collapsed": true
   },
   "outputs": [],
   "source": [
    "RF = pickle.load( open( \"RandomForest.pkl\", \"rb\" ) )"
   ]
  },
  {
   "cell_type": "code",
   "execution_count": 43,
   "metadata": {
    "collapsed": true
   },
   "outputs": [],
   "source": [
    "df2 = df.drop([\"Nflights_10\", \"Ndiv_30\", \"Ndiv_20\", \"Ndiv_10\", \"AllCanceled_10\", \"AllCanceled_30\", \"AllCanceled_20\",\n",
    "             \"TempFlight_10\", \"TempFlight_30\", \"TempFlight_20\", \"AllDiverted_10\", \"AllCanDiv_10\", \"AllDiverted_30\", \n",
    "             \"AllDiverted_20\", \"AllCanDiv_20\", \"AllCanDiv_30\"], axis=1, inplace=False)\n",
    "X2 = df2.drop([\"Cancelled\"], axis=1).values\n",
    "y2 = df2.Cancelled.astype(int).values\n",
    "sss2 = StratifiedShuffleSplit(n_splits=1, test_size=0.5, random_state=10)\n",
    "for train_index2, test_index2 in sss2.split(X2, y2):\n",
    "    X_train2, X_test2 = X2[train_index2], X2[test_index2]\n",
    "    y_train2, y_test2 = y2[train_index2], y2[test_index2]"
   ]
  },
  {
   "cell_type": "code",
   "execution_count": 44,
   "metadata": {
    "collapsed": true
   },
   "outputs": [],
   "source": [
    "ind1 = np.where(y_test2 == 1) # index of class 1\n",
    "ind0 = np.where(y_test2 == 0) # index of class 0\n",
    "ind = np.sort(np.concatenate([ind1[0], np.random.choice(ind0[0], len(ind1[0]), replace=False)]))\n",
    "# Final test data\n",
    "X_testu2 = X_test2[ind]\n",
    "y_testu2 = y_test2[ind]"
   ]
  },
  {
   "cell_type": "code",
   "execution_count": 45,
   "metadata": {
    "collapsed": true
   },
   "outputs": [],
   "source": [
    "y_pred_test_prob2 = RF.predict_proba(X_testu2)\n",
    "y_pred_test2 = RF.predict(X_testu2)"
   ]
  },
  {
   "cell_type": "code",
   "execution_count": 46,
   "metadata": {},
   "outputs": [
    {
     "name": "stdout",
     "output_type": "stream",
     "text": [
      "Brier:  0.39113345521\n",
      "LogLoss:  2.55769338192\n",
      "PR AUC:  0.875790111822\n",
      "ROC AUC:  0.84386577424\n"
     ]
    }
   ],
   "source": [
    "print(\"Brier: \", metrics.brier_score_loss(y_testu2, y_pred_test2))\n",
    "print(\"LogLoss: \", metrics.log_loss(y_testu2, y_pred_test_prob2))\n",
    "print(\"PR AUC: \", metrics.average_precision_score(y_testu2, y_pred_test_prob2[:, 1]))\n",
    "fpr, tpr, thresholds = roc_curve(y_testu2, y_pred_test_prob2[:, 1])\n",
    "print(\"ROC AUC: \", auc(fpr, tpr))"
   ]
  },
  {
   "cell_type": "code",
   "execution_count": 47,
   "metadata": {
    "collapsed": true
   },
   "outputs": [],
   "source": [
    "del df2\n",
    "del X2\n",
    "del y2\n",
    "del X_test2\n",
    "del X_train2\n",
    "del X_testu2"
   ]
  },
  {
   "cell_type": "markdown",
   "metadata": {},
   "source": [
    "# Gradient Boosting"
   ]
  },
  {
   "cell_type": "code",
   "execution_count": 48,
   "metadata": {
    "collapsed": true
   },
   "outputs": [],
   "source": [
    "GBC = pickle.load( open( \"GradientBoostingClassifier.pkl\", \"rb\" ) )"
   ]
  },
  {
   "cell_type": "code",
   "execution_count": 49,
   "metadata": {
    "collapsed": true
   },
   "outputs": [],
   "source": [
    "df3 = df.drop([\"WindSpeed_Dest\", \"Pressure_Dest\", \"DepDelayMax_10\", \"Pressure_Origin\", \"ArrDelayMedian_30\", \"CRSDepHr\",\n",
    "             \"DepDelayMax_30\", \"ArrDelayMedian_20\", \"DepDelayMedian_10\", \"ArrDelayMax_10\", \"Nflights_10\", \n",
    "             \"TaxiInMedian_30\", \"ArrDelayMedian_10\", \"Nflights_30\", \"TaxiInMedian_20\", \"ArrDelayMax_30\", \n",
    "             \"DepDelayMax_20\", \"DepDelayMedian_20\", \"CRSArrHr\", \"DepDelayMedian_30\", \"ArrDelayMax_20\", \n",
    "             \"TaxiInMedian_10\", \"TaxiOutMedian_20\", \"TaxiOutMedian_30\", \"TaxiOutMedian_10\", \"Nflights_20\", \"Ndiv_30\",\n",
    "             \"Ndiv_20\", \"Ndiv_10\", \"AllCanceled_10\", \"AllCanceled_20\", \"AllCanceled_30\", \"TempFlight_20\", \n",
    "             \"TempFlight_10\", \"TempFlight_30\", \"AllCanDiv_30\", \"AllDiverted_30\", \"AllDiverted_10\", \"AllDiverted_20\",\n",
    "             \"AllCanDiv_20\", \"AllCanDiv_10\"], axis=1, inplace=False)\n",
    "X3 = df3.drop([\"Cancelled\"], axis=1).values\n",
    "y3 = df3.Cancelled.astype(int).values\n",
    "sss3 = StratifiedShuffleSplit(n_splits=1, test_size=0.5, random_state=10)\n",
    "for train_index3, test_index3 in sss3.split(X3, y3):\n",
    "    X_train3, X_test3 = X3[train_index3], X3[test_index3]\n",
    "    y_train3, y_test3 = y3[train_index3], y3[test_index3]"
   ]
  },
  {
   "cell_type": "code",
   "execution_count": 50,
   "metadata": {
    "collapsed": true
   },
   "outputs": [],
   "source": [
    "ind1 = np.where(y_test3 == 1) # index of class 1\n",
    "ind0 = np.where(y_test3 == 0) # index of class 0\n",
    "ind = np.sort(np.concatenate([ind1[0], np.random.choice(ind0[0], len(ind1[0]), replace=False)]))\n",
    "# Final test data\n",
    "X_testu3 = X_test3[ind]\n",
    "y_testu3 = y_test3[ind]"
   ]
  },
  {
   "cell_type": "code",
   "execution_count": 51,
   "metadata": {
    "collapsed": true
   },
   "outputs": [],
   "source": [
    "y_pred_test_prob3 = GBC.steps[-1][1].predict_proba(X_testu3)\n",
    "y_pred_test3 = GBC.steps[-1][1].predict(X_testu3)"
   ]
  },
  {
   "cell_type": "code",
   "execution_count": 52,
   "metadata": {},
   "outputs": [
    {
     "name": "stdout",
     "output_type": "stream",
     "text": [
      "Brier:  0.392656916514\n",
      "LogLoss:  5.68696169691\n",
      "PR AUC:  0.889934886103\n",
      "ROC AUC:  0.86851508106\n"
     ]
    }
   ],
   "source": [
    "print(\"Brier: \", metrics.brier_score_loss(y_testu3, y_pred_test3))\n",
    "print(\"LogLoss: \", metrics.log_loss(y_testu3, y_pred_test_prob3))\n",
    "print(\"PR AUC: \", metrics.average_precision_score(y_testu3, y_pred_test_prob3[:, 1]))\n",
    "fpr, tpr, thresholds = roc_curve(y_testu3, y_pred_test_prob3[:, 1])\n",
    "print(\"ROC AUC: \", auc(fpr, tpr))"
   ]
  },
  {
   "cell_type": "code",
   "execution_count": 53,
   "metadata": {
    "collapsed": true
   },
   "outputs": [],
   "source": [
    "del df3\n",
    "del X3\n",
    "del X_train3\n",
    "del X_test3\n",
    "del X_testu3"
   ]
  },
  {
   "cell_type": "markdown",
   "metadata": {},
   "source": [
    "# Extremely Randomized Trees"
   ]
  },
  {
   "cell_type": "code",
   "execution_count": 54,
   "metadata": {
    "collapsed": true
   },
   "outputs": [],
   "source": [
    "ET = pickle.load( open( \"ExtraTree.pkl\", \"rb\" ) )"
   ]
  },
  {
   "cell_type": "code",
   "execution_count": 55,
   "metadata": {
    "collapsed": true
   },
   "outputs": [],
   "source": [
    "df4 = df.drop([\"ArrDelayMax_10\", \"DepDelayMax_10\", \"TaxiOutMedian_30\", \"TaxiOutMedian_20\", \"ArrDelayMax_20\", \n",
    "             \"ArrDelayMedian_10\", \"TaxiInMedian_30\", \"ArrDelayMedian_30\", \"DepDelayMax_20\", \"TaxiOutMedian_10\",\n",
    "             \"TaxiInMedian_20\", \"ArrDelayMax_30\", \"ArrDelayMedian_20\", \"Nflights_30\", \"DepDelayMax_30\", \n",
    "             \"TaxiInMedian_10\", \"Nflights_20\", \"DepDelayMedian_30\", \"Nflights_10\", \"DepDelayMedian_20\", \n",
    "             \"DepDelayMedian_10\", \"Ndiv_30\", \"Ndiv_20\", \"Ndiv_10\", \"AllCanceled_10\", \"AllCanceled_20\", \n",
    "             \"AllCanceled_30\", \"TempFlight_10\", \"TempFlight_20\", \"TempFlight_30\", \"AllCanDiv_10\", \"AllCanDiv_30\",\n",
    "             \"AllDiverted_30\", \"AllDiverted_20\", \"AllCanDiv_20\", \"AllDiverted_10\"], axis=1, inplace=False)\n",
    "catvar = [\"Month\", \"DayofMonth\", \"DayOfWeek\", \"Carrier\", \"Origin\", \"Dest\", \"CRSDepHr\", \"CRSArrHr\", \n",
    "          \"Condition_Origin\", \"Condition_Dest\", \"Month_Dest\", \"DayOfMonth_Dest\", \"DayOfWeek_Dest\"]\n",
    "#OHE\n",
    "for cvar in catvar:\n",
    "    df4 = pd.concat([df4, pd.get_dummies(df4[cvar], prefix=cvar, dummy_na=False)], axis=1)\n",
    "    df4.drop([cvar], axis=1, inplace=True)\n",
    "X4 = df4.drop([\"Cancelled\"], axis=1).values\n",
    "y4 = df4.Cancelled.astype(int).values\n",
    "sss4 = StratifiedShuffleSplit(n_splits=1, test_size=0.5, random_state=10)\n",
    "for train_index4, test_index4 in sss4.split(X4, y4):\n",
    "    X_train4, X_test4 = X4[train_index4], X4[test_index4]\n",
    "    y_train4, y_test4 = y4[train_index4], y4[test_index4]"
   ]
  },
  {
   "cell_type": "code",
   "execution_count": 56,
   "metadata": {
    "collapsed": true
   },
   "outputs": [],
   "source": [
    "ind1 = np.where(y_test4 == 1) # index of class 1\n",
    "ind0 = np.where(y_test4 == 0) # index of class 0\n",
    "ind = np.sort(np.concatenate([ind1[0], np.random.choice(ind0[0], len(ind1[0]), replace=False)]))\n",
    "# Final test data\n",
    "X_testu4 = X_test4[ind]\n",
    "y_testu4 = y_test4[ind]"
   ]
  },
  {
   "cell_type": "code",
   "execution_count": 57,
   "metadata": {
    "collapsed": true
   },
   "outputs": [],
   "source": [
    "y_pred_test_prob4 = ET.predict_proba(X_testu4)\n",
    "y_pred_test4 = ET.predict(X_testu4)"
   ]
  },
  {
   "cell_type": "code",
   "execution_count": 58,
   "metadata": {},
   "outputs": [
    {
     "name": "stdout",
     "output_type": "stream",
     "text": [
      "Brier:  0.304996953077\n",
      "LogLoss:  1.08857970067\n",
      "PR AUC:  0.911951209572\n",
      "ROC AUC:  0.894468207099\n"
     ]
    }
   ],
   "source": [
    "print(\"Brier: \", metrics.brier_score_loss(y_testu4, y_pred_test4))\n",
    "print(\"LogLoss: \", metrics.log_loss(y_testu4, y_pred_test_prob4))\n",
    "print(\"PR AUC: \", metrics.average_precision_score(y_testu4, y_pred_test_prob4[:, 1]))\n",
    "fpr, tpr, thresholds = roc_curve(y_testu4, y_pred_test_prob4[:, 1])\n",
    "print(\"ROC AUC: \", auc(fpr, tpr))"
   ]
  },
  {
   "cell_type": "code",
   "execution_count": 59,
   "metadata": {
    "collapsed": true
   },
   "outputs": [],
   "source": [
    "del df4\n",
    "del X4\n",
    "del X_train4\n",
    "del X_test4\n",
    "del X_testu4"
   ]
  },
  {
   "cell_type": "markdown",
   "metadata": {
    "collapsed": true
   },
   "source": [
    "# Plotting ROC and PR curves for all models together"
   ]
  },
  {
   "cell_type": "code",
   "execution_count": 60,
   "metadata": {},
   "outputs": [
    {
     "data": {
      "image/png": "[encoded data removed]",
      "text/plain": [
       "<matplotlib.figure.Figure at 0x144e58908>"
      ]
     },
     "metadata": {},
     "output_type": "display_data"
    }
   ],
   "source": [
    "fs = 26\n",
    "fig, (ax1,ax2) = plt.subplots(1,2,figsize=(15,6))\n",
    "# ROC\n",
    "ax1 = plt.subplot(1, 2, 1)\n",
    "fpr, tpr, thresholds = roc_curve(y_testu, y_pred_test_prob[:, 1])\n",
    "ax1.plot(fpr, tpr, lw=1, label='LR', color=tableau20[2], linewidth=3)\n",
    "fpr1, tpr1, thresholds1 = roc_curve(y_testu1, y_pred_test_prob1[:, 1])\n",
    "ax1.plot(fpr1, tpr1, lw=1, label='GNB', color=tableau20[16], linewidth=3)\n",
    "fpr2, tpr2, thresholds2 = roc_curve(y_testu2, y_pred_test_prob2[:, 1])\n",
    "ax1.plot(fpr2, tpr2, lw=1, label='RF', color=tableau20[6], linewidth=3)\n",
    "fpr3, tpr3, thresholds3 = roc_curve(y_testu3, y_pred_test_prob3[:, 1])\n",
    "ax1.plot(fpr3, tpr3, lw=1, label='GB', color=tableau20[8], linewidth=3)\n",
    "fpr4, tpr4, thresholds4 = roc_curve(y_testu4, y_pred_test_prob4[:, 1])\n",
    "ax1.plot(fpr4, tpr4, lw=1, label='ET', color=tableau20[4], linewidth=3)\n",
    "ax1.set_xlim([-0.02, 1.02])\n",
    "ax1.set_ylim([-0.02, 1.02])\n",
    "ax1.set_xlabel('False Positive Rate', size=fs)\n",
    "ax1.set_ylabel('True Positive Rate', size=fs)\n",
    "ax1.set_title('Receiver Operating Characteristic Curve', size=fs)\n",
    "ax1.tick_params(direction='out', length=6, width=2, colors='k', labelsize=fs)\n",
    "ax1.legend(loc=\"lower right\", fontsize=fs)\n",
    "    \n",
    "#PR\n",
    "ax2 = plt.subplot(1, 2, 2)\n",
    "prec, recall, thresholds = precision_recall_curve(y_testu, y_pred_test_prob[:, 1])\n",
    "ax2.plot(recall, prec, lw=1, label='LR', color=tableau20[2], linewidth=3)    \n",
    "prec1, recall1, thresholds1 = precision_recall_curve(y_testu1, y_pred_test_prob1[:, 1])\n",
    "ax2.plot(recall1, prec1, lw=1, label='GNB', color=tableau20[16], linewidth=3)\n",
    "prec2, recall2, thresholds2 = precision_recall_curve(y_testu2, y_pred_test_prob2[:, 1])\n",
    "ax2.plot(recall2, prec2, lw=1, label='RF', color=tableau20[6], linewidth=3)\n",
    "prec3, recall3, thresholds3 = precision_recall_curve(y_testu3, y_pred_test_prob3[:, 1])\n",
    "ax2.plot(recall3, prec3, lw=1, label='GB', color=tableau20[8], linewidth=3)\n",
    "prec4, recall4, thresholds4 = precision_recall_curve(y_testu4, y_pred_test_prob4[:, 1])\n",
    "ax2.plot(recall4, prec4, lw=1, label='ET', color=tableau20[4], linewidth=3)    \n",
    "ax2.set_xlim([-0.02, 1.02])\n",
    "ax2.set_ylim([-0.02, 1.02])\n",
    "ax2.set_xlabel('Recall', size=fs)\n",
    "ax2.set_ylabel('Precision', size=fs)\n",
    "ax2.set_title('Precision Recall Curve', size=fs)\n",
    "ax2.tick_params(direction='out', length=6, width=2, colors='k', labelsize=fs)\n",
    "ax2.legend(loc=\"top right\", fontsize=fs)\n",
    "    \n",
    "plt.tight_layout()\n",
    "savefig('../Report/UndersampledTestDataAllModels_ROC_PR_plots.pdf')"
   ]
  },
  {
   "cell_type": "code",
   "execution_count": null,
   "metadata": {
    "collapsed": true
   },
   "outputs": [],
   "source": []
  },
  {
   "cell_type": "code",
   "execution_count": null,
   "metadata": {
    "collapsed": true
   },
   "outputs": [],
   "source": []
  },
  {
   "cell_type": "code",
   "execution_count": null,
   "metadata": {
    "collapsed": true
   },
   "outputs": [],
   "source": []
  },
  {
   "cell_type": "code",
   "execution_count": null,
   "metadata": {
    "collapsed": true
   },
   "outputs": [],
   "source": []
  },
  {
   "cell_type": "code",
   "execution_count": null,
   "metadata": {
    "collapsed": true
   },
   "outputs": [],
   "source": []
  },
  {
   "cell_type": "code",
   "execution_count": null,
   "metadata": {
    "collapsed": true
   },
   "outputs": [],
   "source": []
  },
  {
   "cell_type": "code",
   "execution_count": null,
   "metadata": {
    "collapsed": true
   },
   "outputs": [],
   "source": []
  },
  {
   "cell_type": "code",
   "execution_count": null,
   "metadata": {
    "collapsed": true
   },
   "outputs": [],
   "source": []
  },
  {
   "cell_type": "code",
   "execution_count": null,
   "metadata": {
    "collapsed": true
   },
   "outputs": [],
   "source": []
  },
  {
   "cell_type": "code",
   "execution_count": null,
   "metadata": {
    "collapsed": true
   },
   "outputs": [],
   "source": []
  },
  {
   "cell_type": "code",
   "execution_count": null,
   "metadata": {
    "collapsed": true
   },
   "outputs": [],
   "source": []
  },
  {
   "cell_type": "code",
   "execution_count": null,
   "metadata": {
    "collapsed": true
   },
   "outputs": [],
   "source": []
  },
  {
   "cell_type": "markdown",
   "metadata": {},
   "source": [
    "## Function to plot ROC and PR curves"
   ]
  },
  {
   "cell_type": "code",
   "execution_count": 22,
   "metadata": {
    "collapsed": true
   },
   "outputs": [],
   "source": [
    "from sklearn import metrics\n",
    "from sklearn.metrics import roc_curve, auc, precision_recall_curve, cohen_kappa_score\n",
    "def plots(model, X_test, y_test, outputfile):\n",
    "    \"\"\" This function plots the ROC and PR curves for a given classifier and test data.\n",
    "    \n",
    "    Parameters\n",
    "    ----------\n",
    "    model (dtype: sklearn.model_selection._search.GridSearchCV) : The classifier model\n",
    "    \"\"\"\n",
    "    y_pred_test_prob = model.predict_proba(X_test)\n",
    "    fs = 26\n",
    "    fig, (ax1,ax2) = plt.subplots(1,2,figsize=(15,6))\n",
    "    \n",
    "    # ROC\n",
    "    ax1 = plt.subplot(1, 2, 1)\n",
    "    fpr, tpr, thresholds = roc_curve(y_test, y_pred_test_prob[:, 1])\n",
    "    roc_auc = auc(fpr, tpr)\n",
    "    ax1.plot(fpr, tpr, lw=1, label='ROC AUC = %0.2f' % (roc_auc), color=tableau20[4], linewidth=3)    \n",
    "    ax1.set_xlim([-0.02, 1.02])\n",
    "    ax1.set_ylim([-0.02, 1.02])\n",
    "    ax1.set_xlabel('False Positive Rate', size=fs)\n",
    "    ax1.set_ylabel('True Positive Rate', size=fs)\n",
    "    ax1.set_title('Receiver Operating Characteristic Curve', size=fs)\n",
    "    ax1.tick_params(direction='out', length=6, width=2, colors='k', labelsize=fs)\n",
    "    ax1.legend(loc=\"lower right\", fontsize=fs)\n",
    "    \n",
    "    #PR\n",
    "    ax2 = plt.subplot(1, 2, 2)\n",
    "    prec, recall, thresholds = precision_recall_curve(y_test, y_pred_test_prob[:, 1])\n",
    "    ax2.plot(recall, prec, lw=1, label='PR AUC = %0.2f' % \n",
    "             (metrics.average_precision_score(y_test, y_pred_test_prob[:, 1])), color=tableau20[8], linewidth=3)    \n",
    "    ax2.set_xlim([-0.02, 1.02])\n",
    "    ax2.set_ylim([-0.02, 1.02])\n",
    "    ax2.set_xlabel('Recall', size=fs)\n",
    "    ax2.set_ylabel('Precision', size=fs)\n",
    "    ax2.set_title('Precision Recall Curve', size=fs)\n",
    "    ax2.tick_params(direction='out', length=6, width=2, colors='k', labelsize=fs)\n",
    "    ax2.legend(loc=\"top right\", fontsize=fs)\n",
    "    \n",
    "    plt.tight_layout()\n",
    "    savefig(outputfile)"
   ]
  },
  {
   "cell_type": "code",
   "execution_count": 23,
   "metadata": {
    "collapsed": true
   },
   "outputs": [],
   "source": [
    "from sklearn import metrics\n",
    "from sklearn.metrics import roc_curve, auc, precision_recall_curve, cohen_kappa_score\n",
    "def result(model, X_train, y_train, X_test, y_test, train_result, clf_name):\n",
    "    \"\"\" This function calculates different metrics to show the model's performance on both training and test data.\n",
    "    This functoin also shows the confusion matrix, and plots the ROC and PR curves.\n",
    "    \n",
    "    Parameters\n",
    "    ----------\n",
    "    model (dtype: sklearn.model_selection._search.GridSearchCV) : The classifier model\n",
    "    train_result (dtype: boolean): If YES, calculate results for train data\n",
    "    clf_name (dtype: str): Name of the classifier\n",
    "    \"\"\"\n",
    "    if train_result:\n",
    "        y_pred_train = model.predict(X_train) # class prediction\n",
    "        y_pred_train_prob = model.predict_proba(X_train) # probability of each class prediction\n",
    "        print(\"#####################\")\n",
    "        print(\"Train data\")\n",
    "        print(\"#####################\")\n",
    "        print(\"F1: \", metrics.f1_score(y_train, y_pred_train))\n",
    "        print(\"Cohen Kappa: \", metrics.cohen_kappa_score(y_train, y_pred_train))\n",
    "        print(\"Brier: \", metrics.brier_score_loss(y_train, y_pred_train))\n",
    "        print(\"LogLoss: \", metrics.log_loss(y_train, y_pred_train_prob))\n",
    "        print(metrics.classification_report(y_train, y_pred_train))\n",
    "        print(metrics.confusion_matrix(y_train, y_pred_train))\n",
    "    else:\n",
    "        pass\n",
    "    \n",
    "    y_pred_test = model.predict(X_test)\n",
    "    y_pred_test_prob = model.predict_proba(X_test)\n",
    "    print(\"#####################\")\n",
    "    print(\"Test data\")\n",
    "    print(\"#####################\")\n",
    "    print(\"F1: \", metrics.f1_score(y_test, y_pred_test))\n",
    "    print(\"Cohen Kappa: \", metrics.cohen_kappa_score(y_test, y_pred_test))\n",
    "    print(\"Brier: \", metrics.brier_score_loss(y_test, y_pred_test))\n",
    "    print(\"LogLoss: \", metrics.log_loss(y_test, y_pred_test_prob))\n",
    "    print(metrics.classification_report(y_test, y_pred_test))\n",
    "    conf_matrix = metrics.confusion_matrix(y_test, y_pred_test)\n",
    "    \n",
    "    # Displaying the confusion matrix\n",
    "    fig, ax = plt.subplots(figsize=(8, 8))\n",
    "    ax.matshow(conf_matrix, cmap=plt.cm.Oranges, alpha=0.3)\n",
    "    for i in range(conf_matrix.shape[0]):\n",
    "        for j in range(conf_matrix.shape[1]):\n",
    "            ax.text(x=j, y=i, s=conf_matrix[i, j], va='center', ha='center', fontsize=24)\n",
    "\n",
    "    plt.title('Confusion Matrix for %s' % clf_name, size=20)\n",
    "    plt.xlabel('Predicted label', size=20)\n",
    "    plt.ylabel('True label', size=20)\n",
    "    ax.tick_params('x', labelsize = 20)\n",
    "    ax.tick_params('y', labelsize = 20)\n",
    "    plt.tight_layout()\n",
    "    \n",
    "    # ROC curve\n",
    "    fig1, ax1 = plt.subplots(figsize=(8, 8))\n",
    "    fpr, tpr, thresholds = roc_curve(y_test, y_pred_test_prob[:, 1])\n",
    "    roc_auc = auc(fpr, tpr)\n",
    "    plt.plot(fpr, tpr, lw=1, label='Model Performance (area = %0.2f)' % (roc_auc))\n",
    "    plt.plot([0, 1], \n",
    "             [0, 1], \n",
    "             '--', \n",
    "             color=(0.6, 0.6, 0.6), \n",
    "             label='Luck')\n",
    "    \n",
    "    plt.plot([0, 0, 1], \n",
    "             [0, 1, 1], \n",
    "             lw=2,\n",
    "             linestyle=':',\n",
    "             color='black',\n",
    "             label='Perfect Performance')\n",
    "        \n",
    "    plt.xlim([-0.02, 1.02])\n",
    "    plt.ylim([-0.02, 1.02])\n",
    "    plt.xlabel('False Positive Rate', size=20)\n",
    "    plt.ylabel('True Positive Rate', size=20)\n",
    "    plt.title('Receiver Operating Characteristic for %s' % clf_name, size=20)\n",
    "    plt.xticks(size = 20)\n",
    "    plt.yticks(size = 20)\n",
    "    plt.legend(loc=\"lower right\", fontsize=18)\n",
    "    \n",
    "    # PR curve\n",
    "    fig2, ax2 = plt.subplots(figsize=(8, 8))\n",
    "    prec, recall, thresholds = precision_recall_curve(y_test, y_pred_test_prob[:, 1])\n",
    "    #pr_auc = auc(prec, recall)\n",
    "    plt.plot(recall, prec, lw=1, label='Model Performance (area = %0.2f)' % \n",
    "             (metrics.average_precision_score(y_test, y_pred_test_prob[:, 1])))    \n",
    "    plt.xlim([-0.02, 1.02])\n",
    "    plt.ylim([-0.02, 1.02])\n",
    "    plt.xlabel('Recall', size=20)\n",
    "    plt.ylabel('Precision', size=20)\n",
    "    plt.title('PR Curve for %s' % clf_name, size=20)\n",
    "    plt.xticks(size = 20)\n",
    "    plt.yticks(size = 20)\n",
    "    plt.legend(loc=\"top right\", fontsize=18)"
   ]
  },
  {
   "cell_type": "code",
   "execution_count": null,
   "metadata": {
    "collapsed": true
   },
   "outputs": [],
   "source": []
  }
 ],
 "metadata": {
  "kernelspec": {
   "display_name": "Python 3",
   "language": "python",
   "name": "python3"
  },
  "language_info": {
   "codemirror_mode": {
    "name": "ipython",
    "version": 3
   },
   "file_extension": ".py",
   "mimetype": "text/x-python",
   "name": "python",
   "nbconvert_exporter": "python",
   "pygments_lexer": "ipython3",
   "version": "3.6.1"
  }
 },
 "nbformat": 4,
 "nbformat_minor": 2
}
