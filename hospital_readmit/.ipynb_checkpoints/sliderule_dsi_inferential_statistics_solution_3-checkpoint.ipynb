{
 "cells": [
  {
   "cell_type": "markdown",
   "metadata": {},
   "source": [
    "# Hospital Readmissions Data Analysis and Recommendations for Reduction\n",
    "\n",
    "### Background\n",
    "In October 2012, the US government's Center for Medicare and Medicaid Services (CMS) began reducing Medicare payments for Inpatient Prospective Payment System hospitals with excess readmissions. Excess readmissions are measured by a ratio, by dividing a hospital’s number of “predicted” 30-day readmissions for heart attack, heart failure, and pneumonia by the number that would be “expected,” based on an average hospital with similar patients. A ratio greater than 1 indicates excess readmissions.\n",
    "\n",
    "### Exercise Directions\n",
    "\n",
    "In this exercise, you will:\n",
    "+ critique a preliminary analysis of readmissions data and recommendations (provided below) for reducing the readmissions rate\n",
    "+ construct a statistically sound analysis and make recommendations of your own \n",
    "\n",
    "More instructions provided below. Include your work **in this notebook and submit to your Github account**. \n",
    "\n",
    "### Resources\n",
    "+ Data source: https://data.medicare.gov/Hospital-Compare/Hospital-Readmission-Reduction/9n3s-kdb3\n",
    "+ More information: http://www.cms.gov/Medicare/medicare-fee-for-service-payment/acuteinpatientPPS/readmissions-reduction-program.html\n",
    "+ Markdown syntax: http://nestacms.com/docs/creating-content/markdown-cheat-sheet\n",
    "****"
   ]
  },
  {
   "cell_type": "code",
   "execution_count": 53,
   "metadata": {
    "collapsed": false
   },
   "outputs": [],
   "source": [
    "%matplotlib inline\n",
    "\n",
    "import pandas as pd\n",
    "import numpy as np\n",
    "import matplotlib.pyplot as plt\n",
    "import bokeh.plotting as bkp\n",
    "from mpl_toolkits.axes_grid1 import make_axes_locatable\n",
    "from scipy import stats"
   ]
  },
  {
   "cell_type": "code",
   "execution_count": 54,
   "metadata": {
    "collapsed": false
   },
   "outputs": [],
   "source": [
    "# read in readmissions data provided\n",
    "hospital_read_df = pd.read_csv('data/cms_hospital_readmissions.csv')"
   ]
  },
  {
   "cell_type": "markdown",
   "metadata": {},
   "source": [
    "****\n",
    "## Preliminary Analysis"
   ]
  },
  {
   "cell_type": "code",
   "execution_count": 55,
   "metadata": {
    "collapsed": false
   },
   "outputs": [
    {
     "name": "stderr",
     "output_type": "stream",
     "text": [
      "//anaconda/lib/python3.6/site-packages/pandas/core/indexing.py:477: SettingWithCopyWarning: \n",
      "A value is trying to be set on a copy of a slice from a DataFrame.\n",
      "Try using .loc[row_indexer,col_indexer] = value instead\n",
      "\n",
      "See the caveats in the documentation: http://pandas.pydata.org/pandas-docs/stable/indexing.html#indexing-view-versus-copy\n",
      "  self.obj[item] = s\n"
     ]
    }
   ],
   "source": [
    "# deal with missing and inconvenient portions of data \n",
    "clean_hospital_read_df = hospital_read_df[hospital_read_df['Number of Discharges'] != 'Not Available']\n",
    "clean_hospital_read_df.loc[:, 'Number of Discharges'] = clean_hospital_read_df['Number of Discharges'].astype(int)\n",
    "clean_hospital_read_df = clean_hospital_read_df.sort_values('Number of Discharges')"
   ]
  },
  {
   "cell_type": "code",
   "execution_count": 56,
   "metadata": {
    "collapsed": false
   },
   "outputs": [
    {
     "data": {
      "text/html": [
       "<div>\n",
       "<table border=\"1\" class=\"dataframe\">\n",
       "  <thead>\n",
       "    <tr style=\"text-align: right;\">\n",
       "      <th></th>\n",
       "      <th>Hospital Name</th>\n",
       "      <th>Provider Number</th>\n",
       "      <th>State</th>\n",
       "      <th>Measure Name</th>\n",
       "      <th>Number of Discharges</th>\n",
       "      <th>Footnote</th>\n",
       "      <th>Excess Readmission Ratio</th>\n",
       "      <th>Predicted Readmission Rate</th>\n",
       "      <th>Expected Readmission Rate</th>\n",
       "      <th>Number of Readmissions</th>\n",
       "      <th>Start Date</th>\n",
       "      <th>End Date</th>\n",
       "    </tr>\n",
       "  </thead>\n",
       "  <tbody>\n",
       "    <tr>\n",
       "      <th>16857</th>\n",
       "      <td>THREE RIVERS MEDICAL CENTER</td>\n",
       "      <td>180128</td>\n",
       "      <td>KY</td>\n",
       "      <td>READM-30-HIP-KNEE-HRRP</td>\n",
       "      <td>0</td>\n",
       "      <td>7.0</td>\n",
       "      <td>NaN</td>\n",
       "      <td>NaN</td>\n",
       "      <td>NaN</td>\n",
       "      <td>NaN</td>\n",
       "      <td>07/01/2010</td>\n",
       "      <td>06/30/2013</td>\n",
       "    </tr>\n",
       "    <tr>\n",
       "      <th>14582</th>\n",
       "      <td>SELLS INDIAN HEALTH SERVICE HOSPITAL</td>\n",
       "      <td>30074</td>\n",
       "      <td>AZ</td>\n",
       "      <td>READM-30-COPD-HRRP</td>\n",
       "      <td>0</td>\n",
       "      <td>7.0</td>\n",
       "      <td>NaN</td>\n",
       "      <td>NaN</td>\n",
       "      <td>NaN</td>\n",
       "      <td>NaN</td>\n",
       "      <td>07/01/2010</td>\n",
       "      <td>06/30/2013</td>\n",
       "    </tr>\n",
       "    <tr>\n",
       "      <th>15606</th>\n",
       "      <td>PHS INDIAN HOSPITAL AT PINE RIDGE</td>\n",
       "      <td>430081</td>\n",
       "      <td>SD</td>\n",
       "      <td>READM-30-AMI-HRRP</td>\n",
       "      <td>0</td>\n",
       "      <td>7.0</td>\n",
       "      <td>NaN</td>\n",
       "      <td>NaN</td>\n",
       "      <td>NaN</td>\n",
       "      <td>NaN</td>\n",
       "      <td>07/01/2010</td>\n",
       "      <td>06/30/2013</td>\n",
       "    </tr>\n",
       "    <tr>\n",
       "      <th>15615</th>\n",
       "      <td>FLORIDA STATE HOSPITAL UNIT 31 MED</td>\n",
       "      <td>100298</td>\n",
       "      <td>FL</td>\n",
       "      <td>READM-30-COPD-HRRP</td>\n",
       "      <td>0</td>\n",
       "      <td>7.0</td>\n",
       "      <td>NaN</td>\n",
       "      <td>NaN</td>\n",
       "      <td>NaN</td>\n",
       "      <td>NaN</td>\n",
       "      <td>07/01/2010</td>\n",
       "      <td>06/30/2013</td>\n",
       "    </tr>\n",
       "    <tr>\n",
       "      <th>14551</th>\n",
       "      <td>GREENE COUNTY HOSPITAL</td>\n",
       "      <td>10051</td>\n",
       "      <td>AL</td>\n",
       "      <td>READM-30-AMI-HRRP</td>\n",
       "      <td>0</td>\n",
       "      <td>7.0</td>\n",
       "      <td>NaN</td>\n",
       "      <td>NaN</td>\n",
       "      <td>NaN</td>\n",
       "      <td>NaN</td>\n",
       "      <td>07/01/2010</td>\n",
       "      <td>06/30/2013</td>\n",
       "    </tr>\n",
       "    <tr>\n",
       "      <th>15625</th>\n",
       "      <td>FAIRVIEW DEVELOPMENTAL CENTER</td>\n",
       "      <td>50548</td>\n",
       "      <td>CA</td>\n",
       "      <td>READM-30-HF-HRRP</td>\n",
       "      <td>0</td>\n",
       "      <td>7.0</td>\n",
       "      <td>NaN</td>\n",
       "      <td>NaN</td>\n",
       "      <td>NaN</td>\n",
       "      <td>NaN</td>\n",
       "      <td>07/01/2010</td>\n",
       "      <td>06/30/2013</td>\n",
       "    </tr>\n",
       "    <tr>\n",
       "      <th>15642</th>\n",
       "      <td>WAGONER COMMUNITY HOSPITAL</td>\n",
       "      <td>370166</td>\n",
       "      <td>OK</td>\n",
       "      <td>READM-30-AMI-HRRP</td>\n",
       "      <td>0</td>\n",
       "      <td>7.0</td>\n",
       "      <td>NaN</td>\n",
       "      <td>NaN</td>\n",
       "      <td>NaN</td>\n",
       "      <td>NaN</td>\n",
       "      <td>07/01/2010</td>\n",
       "      <td>06/30/2013</td>\n",
       "    </tr>\n",
       "    <tr>\n",
       "      <th>15648</th>\n",
       "      <td>ST LUKE'S HOSPITAL AT THE VINTAGE</td>\n",
       "      <td>670075</td>\n",
       "      <td>TX</td>\n",
       "      <td>READM-30-HIP-KNEE-HRRP</td>\n",
       "      <td>0</td>\n",
       "      <td>7.0</td>\n",
       "      <td>NaN</td>\n",
       "      <td>NaN</td>\n",
       "      <td>NaN</td>\n",
       "      <td>NaN</td>\n",
       "      <td>07/01/2010</td>\n",
       "      <td>06/30/2013</td>\n",
       "    </tr>\n",
       "    <tr>\n",
       "      <th>15652</th>\n",
       "      <td>SOUTH TEXAS SURGICAL HOSPITAL</td>\n",
       "      <td>670061</td>\n",
       "      <td>TX</td>\n",
       "      <td>READM-30-COPD-HRRP</td>\n",
       "      <td>0</td>\n",
       "      <td>7.0</td>\n",
       "      <td>NaN</td>\n",
       "      <td>NaN</td>\n",
       "      <td>NaN</td>\n",
       "      <td>NaN</td>\n",
       "      <td>07/01/2010</td>\n",
       "      <td>06/30/2013</td>\n",
       "    </tr>\n",
       "    <tr>\n",
       "      <th>15396</th>\n",
       "      <td>GEORGE L MEE MEMORIAL HOSPITAL</td>\n",
       "      <td>50189</td>\n",
       "      <td>CA</td>\n",
       "      <td>READM-30-AMI-HRRP</td>\n",
       "      <td>0</td>\n",
       "      <td>7.0</td>\n",
       "      <td>NaN</td>\n",
       "      <td>NaN</td>\n",
       "      <td>NaN</td>\n",
       "      <td>NaN</td>\n",
       "      <td>07/01/2010</td>\n",
       "      <td>06/30/2013</td>\n",
       "    </tr>\n",
       "    <tr>\n",
       "      <th>14515</th>\n",
       "      <td>JOHN H STROGER JR HOSPITAL</td>\n",
       "      <td>140124</td>\n",
       "      <td>IL</td>\n",
       "      <td>READM-30-HIP-KNEE-HRRP</td>\n",
       "      <td>0</td>\n",
       "      <td>7.0</td>\n",
       "      <td>NaN</td>\n",
       "      <td>NaN</td>\n",
       "      <td>NaN</td>\n",
       "      <td>NaN</td>\n",
       "      <td>07/01/2010</td>\n",
       "      <td>06/30/2013</td>\n",
       "    </tr>\n",
       "    <tr>\n",
       "      <th>15682</th>\n",
       "      <td>ONECORE HEALTH</td>\n",
       "      <td>370220</td>\n",
       "      <td>OK</td>\n",
       "      <td>READM-30-COPD-HRRP</td>\n",
       "      <td>0</td>\n",
       "      <td>7.0</td>\n",
       "      <td>NaN</td>\n",
       "      <td>NaN</td>\n",
       "      <td>NaN</td>\n",
       "      <td>NaN</td>\n",
       "      <td>07/01/2010</td>\n",
       "      <td>06/30/2013</td>\n",
       "    </tr>\n",
       "    <tr>\n",
       "      <th>14436</th>\n",
       "      <td>BROADLAWNS MEDICAL CENTER</td>\n",
       "      <td>160101</td>\n",
       "      <td>IA</td>\n",
       "      <td>READM-30-AMI-HRRP</td>\n",
       "      <td>0</td>\n",
       "      <td>7.0</td>\n",
       "      <td>NaN</td>\n",
       "      <td>NaN</td>\n",
       "      <td>NaN</td>\n",
       "      <td>NaN</td>\n",
       "      <td>07/01/2010</td>\n",
       "      <td>06/30/2013</td>\n",
       "    </tr>\n",
       "    <tr>\n",
       "      <th>15697</th>\n",
       "      <td>ST VINCENT FISHERS HOSPITAL INC</td>\n",
       "      <td>150181</td>\n",
       "      <td>IN</td>\n",
       "      <td>READM-30-HF-HRRP</td>\n",
       "      <td>0</td>\n",
       "      <td>7.0</td>\n",
       "      <td>NaN</td>\n",
       "      <td>NaN</td>\n",
       "      <td>NaN</td>\n",
       "      <td>NaN</td>\n",
       "      <td>07/01/2010</td>\n",
       "      <td>06/30/2013</td>\n",
       "    </tr>\n",
       "    <tr>\n",
       "      <th>14428</th>\n",
       "      <td>ST BERNARD HOSPITAL</td>\n",
       "      <td>140103</td>\n",
       "      <td>IL</td>\n",
       "      <td>READM-30-HIP-KNEE-HRRP</td>\n",
       "      <td>0</td>\n",
       "      <td>7.0</td>\n",
       "      <td>NaN</td>\n",
       "      <td>NaN</td>\n",
       "      <td>NaN</td>\n",
       "      <td>NaN</td>\n",
       "      <td>07/01/2010</td>\n",
       "      <td>06/30/2013</td>\n",
       "    </tr>\n",
       "    <tr>\n",
       "      <th>15703</th>\n",
       "      <td>HEREFORD REGIONAL MEDICAL CENTER</td>\n",
       "      <td>450155</td>\n",
       "      <td>TX</td>\n",
       "      <td>READM-30-AMI-HRRP</td>\n",
       "      <td>0</td>\n",
       "      <td>7.0</td>\n",
       "      <td>NaN</td>\n",
       "      <td>NaN</td>\n",
       "      <td>NaN</td>\n",
       "      <td>NaN</td>\n",
       "      <td>07/01/2010</td>\n",
       "      <td>06/30/2013</td>\n",
       "    </tr>\n",
       "    <tr>\n",
       "      <th>15765</th>\n",
       "      <td>SOUTHERN SURGICAL HOSPITAL</td>\n",
       "      <td>190270</td>\n",
       "      <td>LA</td>\n",
       "      <td>READM-30-COPD-HRRP</td>\n",
       "      <td>0</td>\n",
       "      <td>7.0</td>\n",
       "      <td>NaN</td>\n",
       "      <td>NaN</td>\n",
       "      <td>NaN</td>\n",
       "      <td>NaN</td>\n",
       "      <td>07/01/2010</td>\n",
       "      <td>06/30/2013</td>\n",
       "    </tr>\n",
       "    <tr>\n",
       "      <th>14418</th>\n",
       "      <td>ROCKCASTLE COUNTY HOSPITAL, INC</td>\n",
       "      <td>180115</td>\n",
       "      <td>KY</td>\n",
       "      <td>READM-30-AMI-HRRP</td>\n",
       "      <td>0</td>\n",
       "      <td>7.0</td>\n",
       "      <td>NaN</td>\n",
       "      <td>NaN</td>\n",
       "      <td>NaN</td>\n",
       "      <td>NaN</td>\n",
       "      <td>07/01/2010</td>\n",
       "      <td>06/30/2013</td>\n",
       "    </tr>\n",
       "    <tr>\n",
       "      <th>14393</th>\n",
       "      <td>PHYSICIANS MEDICAL CENTER</td>\n",
       "      <td>190241</td>\n",
       "      <td>LA</td>\n",
       "      <td>READM-30-AMI-HRRP</td>\n",
       "      <td>0</td>\n",
       "      <td>7.0</td>\n",
       "      <td>NaN</td>\n",
       "      <td>NaN</td>\n",
       "      <td>NaN</td>\n",
       "      <td>NaN</td>\n",
       "      <td>07/01/2010</td>\n",
       "      <td>06/30/2013</td>\n",
       "    </tr>\n",
       "    <tr>\n",
       "      <th>15679</th>\n",
       "      <td>MOUNTAIN VIEW REGIONAL HOSPITAL</td>\n",
       "      <td>530033</td>\n",
       "      <td>WY</td>\n",
       "      <td>READM-30-AMI-HRRP</td>\n",
       "      <td>0</td>\n",
       "      <td>7.0</td>\n",
       "      <td>NaN</td>\n",
       "      <td>NaN</td>\n",
       "      <td>NaN</td>\n",
       "      <td>NaN</td>\n",
       "      <td>07/01/2010</td>\n",
       "      <td>06/30/2013</td>\n",
       "    </tr>\n",
       "    <tr>\n",
       "      <th>14825</th>\n",
       "      <td>SAN CARLOS INDIAN HOSPITAL</td>\n",
       "      <td>30077</td>\n",
       "      <td>AZ</td>\n",
       "      <td>READM-30-PN-HRRP</td>\n",
       "      <td>0</td>\n",
       "      <td>7.0</td>\n",
       "      <td>NaN</td>\n",
       "      <td>NaN</td>\n",
       "      <td>NaN</td>\n",
       "      <td>NaN</td>\n",
       "      <td>07/01/2010</td>\n",
       "      <td>06/30/2013</td>\n",
       "    </tr>\n",
       "    <tr>\n",
       "      <th>14618</th>\n",
       "      <td>SOUTHERN SURGICAL HOSPITAL</td>\n",
       "      <td>190270</td>\n",
       "      <td>LA</td>\n",
       "      <td>READM-30-PN-HRRP</td>\n",
       "      <td>0</td>\n",
       "      <td>7.0</td>\n",
       "      <td>NaN</td>\n",
       "      <td>NaN</td>\n",
       "      <td>NaN</td>\n",
       "      <td>NaN</td>\n",
       "      <td>07/01/2010</td>\n",
       "      <td>06/30/2013</td>\n",
       "    </tr>\n",
       "    <tr>\n",
       "      <th>15288</th>\n",
       "      <td>LORETTO HOSPITAL</td>\n",
       "      <td>140083</td>\n",
       "      <td>IL</td>\n",
       "      <td>READM-30-HIP-KNEE-HRRP</td>\n",
       "      <td>0</td>\n",
       "      <td>7.0</td>\n",
       "      <td>NaN</td>\n",
       "      <td>NaN</td>\n",
       "      <td>NaN</td>\n",
       "      <td>NaN</td>\n",
       "      <td>07/01/2010</td>\n",
       "      <td>06/30/2013</td>\n",
       "    </tr>\n",
       "    <tr>\n",
       "      <th>14877</th>\n",
       "      <td>NOVANT HEALTH PRESBYTERIAN MEDICAL CENTER</td>\n",
       "      <td>340053</td>\n",
       "      <td>NC</td>\n",
       "      <td>READM-30-HIP-KNEE-HRRP</td>\n",
       "      <td>0</td>\n",
       "      <td>7.0</td>\n",
       "      <td>NaN</td>\n",
       "      <td>NaN</td>\n",
       "      <td>NaN</td>\n",
       "      <td>NaN</td>\n",
       "      <td>07/01/2010</td>\n",
       "      <td>06/30/2013</td>\n",
       "    </tr>\n",
       "    <tr>\n",
       "      <th>14896</th>\n",
       "      <td>EPIC MEDICAL CENTER</td>\n",
       "      <td>370169</td>\n",
       "      <td>OK</td>\n",
       "      <td>READM-30-AMI-HRRP</td>\n",
       "      <td>0</td>\n",
       "      <td>7.0</td>\n",
       "      <td>NaN</td>\n",
       "      <td>NaN</td>\n",
       "      <td>NaN</td>\n",
       "      <td>NaN</td>\n",
       "      <td>07/01/2010</td>\n",
       "      <td>06/30/2013</td>\n",
       "    </tr>\n",
       "    <tr>\n",
       "      <th>14949</th>\n",
       "      <td>PORTERVILLE DEVELOPMENTAL CENTER</td>\n",
       "      <td>50546</td>\n",
       "      <td>CA</td>\n",
       "      <td>READM-30-COPD-HRRP</td>\n",
       "      <td>0</td>\n",
       "      <td>7.0</td>\n",
       "      <td>NaN</td>\n",
       "      <td>NaN</td>\n",
       "      <td>NaN</td>\n",
       "      <td>NaN</td>\n",
       "      <td>07/01/2010</td>\n",
       "      <td>06/30/2013</td>\n",
       "    </tr>\n",
       "    <tr>\n",
       "      <th>14799</th>\n",
       "      <td>HARLEM HOSPITAL CENTER</td>\n",
       "      <td>330240</td>\n",
       "      <td>NY</td>\n",
       "      <td>READM-30-HIP-KNEE-HRRP</td>\n",
       "      <td>0</td>\n",
       "      <td>7.0</td>\n",
       "      <td>NaN</td>\n",
       "      <td>NaN</td>\n",
       "      <td>NaN</td>\n",
       "      <td>NaN</td>\n",
       "      <td>07/01/2010</td>\n",
       "      <td>06/30/2013</td>\n",
       "    </tr>\n",
       "    <tr>\n",
       "      <th>14989</th>\n",
       "      <td>FOREST HEALTH MEDICAL CENTER</td>\n",
       "      <td>230144</td>\n",
       "      <td>MI</td>\n",
       "      <td>READM-30-PN-HRRP</td>\n",
       "      <td>0</td>\n",
       "      <td>7.0</td>\n",
       "      <td>NaN</td>\n",
       "      <td>NaN</td>\n",
       "      <td>NaN</td>\n",
       "      <td>NaN</td>\n",
       "      <td>07/01/2010</td>\n",
       "      <td>06/30/2013</td>\n",
       "    </tr>\n",
       "    <tr>\n",
       "      <th>14764</th>\n",
       "      <td>MONTCLAIR HOSPITAL MEDICAL CENTER</td>\n",
       "      <td>50758</td>\n",
       "      <td>CA</td>\n",
       "      <td>READM-30-HIP-KNEE-HRRP</td>\n",
       "      <td>0</td>\n",
       "      <td>7.0</td>\n",
       "      <td>NaN</td>\n",
       "      <td>NaN</td>\n",
       "      <td>NaN</td>\n",
       "      <td>NaN</td>\n",
       "      <td>07/01/2010</td>\n",
       "      <td>06/30/2013</td>\n",
       "    </tr>\n",
       "    <tr>\n",
       "      <th>15069</th>\n",
       "      <td>CANCER TREATMENT CENTERS OF AMERICA</td>\n",
       "      <td>390312</td>\n",
       "      <td>PA</td>\n",
       "      <td>READM-30-AMI-HRRP</td>\n",
       "      <td>0</td>\n",
       "      <td>7.0</td>\n",
       "      <td>NaN</td>\n",
       "      <td>NaN</td>\n",
       "      <td>NaN</td>\n",
       "      <td>NaN</td>\n",
       "      <td>07/01/2010</td>\n",
       "      <td>06/30/2013</td>\n",
       "    </tr>\n",
       "    <tr>\n",
       "      <th>...</th>\n",
       "      <td>...</td>\n",
       "      <td>...</td>\n",
       "      <td>...</td>\n",
       "      <td>...</td>\n",
       "      <td>...</td>\n",
       "      <td>...</td>\n",
       "      <td>...</td>\n",
       "      <td>...</td>\n",
       "      <td>...</td>\n",
       "      <td>...</td>\n",
       "      <td>...</td>\n",
       "      <td>...</td>\n",
       "    </tr>\n",
       "    <tr>\n",
       "      <th>7147</th>\n",
       "      <td>MORRISTOWN MEDICAL CENTER</td>\n",
       "      <td>310015</td>\n",
       "      <td>NJ</td>\n",
       "      <td>READM-30-HIP-KNEE-HRRP</td>\n",
       "      <td>2042</td>\n",
       "      <td>NaN</td>\n",
       "      <td>0.9935</td>\n",
       "      <td>5.1</td>\n",
       "      <td>5.1</td>\n",
       "      <td>104.0</td>\n",
       "      <td>07/01/2010</td>\n",
       "      <td>06/30/2013</td>\n",
       "    </tr>\n",
       "    <tr>\n",
       "      <th>897</th>\n",
       "      <td>VALLEY HOSPITAL</td>\n",
       "      <td>310012</td>\n",
       "      <td>NJ</td>\n",
       "      <td>READM-30-HF-HRRP</td>\n",
       "      <td>2060</td>\n",
       "      <td>NaN</td>\n",
       "      <td>1.1358</td>\n",
       "      <td>25.5</td>\n",
       "      <td>22.5</td>\n",
       "      <td>533.0</td>\n",
       "      <td>07/01/2010</td>\n",
       "      <td>06/30/2013</td>\n",
       "    </tr>\n",
       "    <tr>\n",
       "      <th>13326</th>\n",
       "      <td>SWEDISH MEDICAL CENTER</td>\n",
       "      <td>500027</td>\n",
       "      <td>WA</td>\n",
       "      <td>READM-30-HIP-KNEE-HRRP</td>\n",
       "      <td>2089</td>\n",
       "      <td>NaN</td>\n",
       "      <td>0.8384</td>\n",
       "      <td>3.7</td>\n",
       "      <td>4.5</td>\n",
       "      <td>75.0</td>\n",
       "      <td>07/01/2010</td>\n",
       "      <td>06/30/2013</td>\n",
       "    </tr>\n",
       "    <tr>\n",
       "      <th>7872</th>\n",
       "      <td>ST FRANCIS HOSPITAL &amp; MEDICAL CENTER</td>\n",
       "      <td>70002</td>\n",
       "      <td>CT</td>\n",
       "      <td>READM-30-HIP-KNEE-HRRP</td>\n",
       "      <td>2106</td>\n",
       "      <td>NaN</td>\n",
       "      <td>0.9839</td>\n",
       "      <td>5.0</td>\n",
       "      <td>5.0</td>\n",
       "      <td>104.0</td>\n",
       "      <td>07/01/2010</td>\n",
       "      <td>06/30/2013</td>\n",
       "    </tr>\n",
       "    <tr>\n",
       "      <th>9444</th>\n",
       "      <td>EVANSTON HOSPITAL</td>\n",
       "      <td>140010</td>\n",
       "      <td>IL</td>\n",
       "      <td>READM-30-HF-HRRP</td>\n",
       "      <td>2112</td>\n",
       "      <td>NaN</td>\n",
       "      <td>0.9627</td>\n",
       "      <td>21.2</td>\n",
       "      <td>22.0</td>\n",
       "      <td>446.0</td>\n",
       "      <td>07/01/2010</td>\n",
       "      <td>06/30/2013</td>\n",
       "    </tr>\n",
       "    <tr>\n",
       "      <th>13723</th>\n",
       "      <td>PROVIDENCE SAINT JOHN'S HEALTH CENTER</td>\n",
       "      <td>50290</td>\n",
       "      <td>CA</td>\n",
       "      <td>READM-30-HIP-KNEE-HRRP</td>\n",
       "      <td>2189</td>\n",
       "      <td>NaN</td>\n",
       "      <td>0.6350</td>\n",
       "      <td>3.2</td>\n",
       "      <td>5.1</td>\n",
       "      <td>63.0</td>\n",
       "      <td>07/01/2010</td>\n",
       "      <td>06/30/2013</td>\n",
       "    </tr>\n",
       "    <tr>\n",
       "      <th>1605</th>\n",
       "      <td>COMMUNITY MEDICAL CENTER</td>\n",
       "      <td>310041</td>\n",
       "      <td>NJ</td>\n",
       "      <td>READM-30-HF-HRRP</td>\n",
       "      <td>2190</td>\n",
       "      <td>NaN</td>\n",
       "      <td>1.0991</td>\n",
       "      <td>26.6</td>\n",
       "      <td>24.2</td>\n",
       "      <td>588.0</td>\n",
       "      <td>07/01/2010</td>\n",
       "      <td>06/30/2013</td>\n",
       "    </tr>\n",
       "    <tr>\n",
       "      <th>12910</th>\n",
       "      <td>BAPTIST HEALTH LOUISVILLE</td>\n",
       "      <td>180130</td>\n",
       "      <td>KY</td>\n",
       "      <td>READM-30-HIP-KNEE-HRRP</td>\n",
       "      <td>2196</td>\n",
       "      <td>NaN</td>\n",
       "      <td>0.8747</td>\n",
       "      <td>4.3</td>\n",
       "      <td>4.9</td>\n",
       "      <td>92.0</td>\n",
       "      <td>07/01/2010</td>\n",
       "      <td>06/30/2013</td>\n",
       "    </tr>\n",
       "    <tr>\n",
       "      <th>2758</th>\n",
       "      <td>LEE MEMORIAL HOSPITAL</td>\n",
       "      <td>100012</td>\n",
       "      <td>FL</td>\n",
       "      <td>READM-30-HIP-KNEE-HRRP</td>\n",
       "      <td>2198</td>\n",
       "      <td>NaN</td>\n",
       "      <td>1.0663</td>\n",
       "      <td>5.5</td>\n",
       "      <td>5.2</td>\n",
       "      <td>122.0</td>\n",
       "      <td>07/01/2010</td>\n",
       "      <td>06/30/2013</td>\n",
       "    </tr>\n",
       "    <tr>\n",
       "      <th>7934</th>\n",
       "      <td>CAROLINAS MEDICAL  CENTER-PINEVILLE</td>\n",
       "      <td>340098</td>\n",
       "      <td>NC</td>\n",
       "      <td>READM-30-HIP-KNEE-HRRP</td>\n",
       "      <td>2209</td>\n",
       "      <td>NaN</td>\n",
       "      <td>0.9831</td>\n",
       "      <td>4.4</td>\n",
       "      <td>4.5</td>\n",
       "      <td>97.0</td>\n",
       "      <td>07/01/2010</td>\n",
       "      <td>06/30/2013</td>\n",
       "    </tr>\n",
       "    <tr>\n",
       "      <th>1352</th>\n",
       "      <td>SOUTHCOAST HOSPITAL GROUP, INC</td>\n",
       "      <td>220074</td>\n",
       "      <td>MA</td>\n",
       "      <td>READM-30-HF-HRRP</td>\n",
       "      <td>2278</td>\n",
       "      <td>NaN</td>\n",
       "      <td>1.1099</td>\n",
       "      <td>24.9</td>\n",
       "      <td>22.5</td>\n",
       "      <td>574.0</td>\n",
       "      <td>07/01/2010</td>\n",
       "      <td>06/30/2013</td>\n",
       "    </tr>\n",
       "    <tr>\n",
       "      <th>3042</th>\n",
       "      <td>BEAUMONT HOSPITAL, ROYAL OAK</td>\n",
       "      <td>230130</td>\n",
       "      <td>MI</td>\n",
       "      <td>READM-30-HF-HRRP</td>\n",
       "      <td>2314</td>\n",
       "      <td>NaN</td>\n",
       "      <td>1.0605</td>\n",
       "      <td>25.6</td>\n",
       "      <td>24.1</td>\n",
       "      <td>596.0</td>\n",
       "      <td>07/01/2010</td>\n",
       "      <td>06/30/2013</td>\n",
       "    </tr>\n",
       "    <tr>\n",
       "      <th>1448</th>\n",
       "      <td>NEW HANOVER REGIONAL MEDICAL CENTER</td>\n",
       "      <td>340141</td>\n",
       "      <td>NC</td>\n",
       "      <td>READM-30-HIP-KNEE-HRRP</td>\n",
       "      <td>2318</td>\n",
       "      <td>NaN</td>\n",
       "      <td>1.1055</td>\n",
       "      <td>5.5</td>\n",
       "      <td>5.0</td>\n",
       "      <td>129.0</td>\n",
       "      <td>07/01/2010</td>\n",
       "      <td>06/30/2013</td>\n",
       "    </tr>\n",
       "    <tr>\n",
       "      <th>2846</th>\n",
       "      <td>CHRISTIANA CARE HEALTH SERVICES, INC.</td>\n",
       "      <td>80001</td>\n",
       "      <td>DE</td>\n",
       "      <td>READM-30-HIP-KNEE-HRRP</td>\n",
       "      <td>2341</td>\n",
       "      <td>NaN</td>\n",
       "      <td>1.0647</td>\n",
       "      <td>5.5</td>\n",
       "      <td>5.1</td>\n",
       "      <td>129.0</td>\n",
       "      <td>07/01/2010</td>\n",
       "      <td>06/30/2013</td>\n",
       "    </tr>\n",
       "    <tr>\n",
       "      <th>8249</th>\n",
       "      <td>METHODIST HOSPITAL</td>\n",
       "      <td>450388</td>\n",
       "      <td>TX</td>\n",
       "      <td>READM-30-HF-HRRP</td>\n",
       "      <td>2353</td>\n",
       "      <td>NaN</td>\n",
       "      <td>0.9788</td>\n",
       "      <td>22.0</td>\n",
       "      <td>22.5</td>\n",
       "      <td>516.0</td>\n",
       "      <td>07/01/2010</td>\n",
       "      <td>06/30/2013</td>\n",
       "    </tr>\n",
       "    <tr>\n",
       "      <th>3202</th>\n",
       "      <td>METHODIST HEALTHCARE MEMPHIS HOSPITALS</td>\n",
       "      <td>440049</td>\n",
       "      <td>TN</td>\n",
       "      <td>READM-30-HF-HRRP</td>\n",
       "      <td>2388</td>\n",
       "      <td>NaN</td>\n",
       "      <td>1.0571</td>\n",
       "      <td>23.5</td>\n",
       "      <td>22.2</td>\n",
       "      <td>564.0</td>\n",
       "      <td>07/01/2010</td>\n",
       "      <td>06/30/2013</td>\n",
       "    </tr>\n",
       "    <tr>\n",
       "      <th>13730</th>\n",
       "      <td>HOAG ORTHOPEDIC INSTITUTE</td>\n",
       "      <td>50769</td>\n",
       "      <td>CA</td>\n",
       "      <td>READM-30-HIP-KNEE-HRRP</td>\n",
       "      <td>2393</td>\n",
       "      <td>NaN</td>\n",
       "      <td>0.5495</td>\n",
       "      <td>2.7</td>\n",
       "      <td>4.9</td>\n",
       "      <td>54.0</td>\n",
       "      <td>07/01/2010</td>\n",
       "      <td>06/30/2013</td>\n",
       "    </tr>\n",
       "    <tr>\n",
       "      <th>2440</th>\n",
       "      <td>FLORIDA HOSPITAL</td>\n",
       "      <td>100007</td>\n",
       "      <td>FL</td>\n",
       "      <td>READM-30-PN-HRRP</td>\n",
       "      <td>2430</td>\n",
       "      <td>NaN</td>\n",
       "      <td>1.0738</td>\n",
       "      <td>18.6</td>\n",
       "      <td>17.3</td>\n",
       "      <td>456.0</td>\n",
       "      <td>07/01/2010</td>\n",
       "      <td>06/30/2013</td>\n",
       "    </tr>\n",
       "    <tr>\n",
       "      <th>11545</th>\n",
       "      <td>MCBRIDE CLINIC ORTHOPEDIC HOSPITAL,  L L C</td>\n",
       "      <td>370222</td>\n",
       "      <td>OK</td>\n",
       "      <td>READM-30-HIP-KNEE-HRRP</td>\n",
       "      <td>2469</td>\n",
       "      <td>NaN</td>\n",
       "      <td>0.9248</td>\n",
       "      <td>4.5</td>\n",
       "      <td>4.9</td>\n",
       "      <td>110.0</td>\n",
       "      <td>07/01/2010</td>\n",
       "      <td>06/30/2013</td>\n",
       "    </tr>\n",
       "    <tr>\n",
       "      <th>1805</th>\n",
       "      <td>NEW YORK-PRESBYTERIAN HOSPITAL</td>\n",
       "      <td>330101</td>\n",
       "      <td>NY</td>\n",
       "      <td>READM-30-HF-HRRP</td>\n",
       "      <td>2476</td>\n",
       "      <td>NaN</td>\n",
       "      <td>1.0925</td>\n",
       "      <td>24.8</td>\n",
       "      <td>22.7</td>\n",
       "      <td>619.0</td>\n",
       "      <td>07/01/2010</td>\n",
       "      <td>06/30/2013</td>\n",
       "    </tr>\n",
       "    <tr>\n",
       "      <th>8818</th>\n",
       "      <td>CHRISTIANA CARE HEALTH SERVICES, INC.</td>\n",
       "      <td>80001</td>\n",
       "      <td>DE</td>\n",
       "      <td>READM-30-HF-HRRP</td>\n",
       "      <td>2509</td>\n",
       "      <td>NaN</td>\n",
       "      <td>0.9712</td>\n",
       "      <td>21.8</td>\n",
       "      <td>22.5</td>\n",
       "      <td>546.0</td>\n",
       "      <td>07/01/2010</td>\n",
       "      <td>06/30/2013</td>\n",
       "    </tr>\n",
       "    <tr>\n",
       "      <th>572</th>\n",
       "      <td>SOUTHCOAST HOSPITAL GROUP, INC</td>\n",
       "      <td>220074</td>\n",
       "      <td>MA</td>\n",
       "      <td>READM-30-COPD-HRRP</td>\n",
       "      <td>2565</td>\n",
       "      <td>NaN</td>\n",
       "      <td>1.1637</td>\n",
       "      <td>23.7</td>\n",
       "      <td>20.4</td>\n",
       "      <td>619.0</td>\n",
       "      <td>07/01/2010</td>\n",
       "      <td>06/30/2013</td>\n",
       "    </tr>\n",
       "    <tr>\n",
       "      <th>136</th>\n",
       "      <td>BEAUMONT HOSPITAL, ROYAL OAK</td>\n",
       "      <td>230130</td>\n",
       "      <td>MI</td>\n",
       "      <td>READM-30-HIP-KNEE-HRRP</td>\n",
       "      <td>2581</td>\n",
       "      <td>NaN</td>\n",
       "      <td>1.2577</td>\n",
       "      <td>7.5</td>\n",
       "      <td>5.9</td>\n",
       "      <td>197.0</td>\n",
       "      <td>07/01/2010</td>\n",
       "      <td>06/30/2013</td>\n",
       "    </tr>\n",
       "    <tr>\n",
       "      <th>1698</th>\n",
       "      <td>FLORIDA HOSPITAL</td>\n",
       "      <td>100007</td>\n",
       "      <td>FL</td>\n",
       "      <td>READM-30-HIP-KNEE-HRRP</td>\n",
       "      <td>2596</td>\n",
       "      <td>NaN</td>\n",
       "      <td>1.0962</td>\n",
       "      <td>5.6</td>\n",
       "      <td>5.1</td>\n",
       "      <td>147.0</td>\n",
       "      <td>07/01/2010</td>\n",
       "      <td>06/30/2013</td>\n",
       "    </tr>\n",
       "    <tr>\n",
       "      <th>1242</th>\n",
       "      <td>FLORIDA HOSPITAL</td>\n",
       "      <td>100007</td>\n",
       "      <td>FL</td>\n",
       "      <td>READM-30-COPD-HRRP</td>\n",
       "      <td>2705</td>\n",
       "      <td>NaN</td>\n",
       "      <td>1.1148</td>\n",
       "      <td>22.0</td>\n",
       "      <td>19.7</td>\n",
       "      <td>603.0</td>\n",
       "      <td>07/01/2010</td>\n",
       "      <td>06/30/2013</td>\n",
       "    </tr>\n",
       "    <tr>\n",
       "      <th>8126</th>\n",
       "      <td>NAPLES COMMUNITY HOSPITAL</td>\n",
       "      <td>100018</td>\n",
       "      <td>FL</td>\n",
       "      <td>READM-30-HIP-KNEE-HRRP</td>\n",
       "      <td>2716</td>\n",
       "      <td>NaN</td>\n",
       "      <td>0.9804</td>\n",
       "      <td>5.2</td>\n",
       "      <td>5.3</td>\n",
       "      <td>141.0</td>\n",
       "      <td>07/01/2010</td>\n",
       "      <td>06/30/2013</td>\n",
       "    </tr>\n",
       "    <tr>\n",
       "      <th>6643</th>\n",
       "      <td>COMMUNITY MEDICAL CENTER</td>\n",
       "      <td>310041</td>\n",
       "      <td>NJ</td>\n",
       "      <td>READM-30-COPD-HRRP</td>\n",
       "      <td>2740</td>\n",
       "      <td>NaN</td>\n",
       "      <td>1.0003</td>\n",
       "      <td>22.7</td>\n",
       "      <td>22.7</td>\n",
       "      <td>623.0</td>\n",
       "      <td>07/01/2010</td>\n",
       "      <td>06/30/2013</td>\n",
       "    </tr>\n",
       "    <tr>\n",
       "      <th>1892</th>\n",
       "      <td>FLORIDA HOSPITAL</td>\n",
       "      <td>100007</td>\n",
       "      <td>FL</td>\n",
       "      <td>READM-30-HF-HRRP</td>\n",
       "      <td>3570</td>\n",
       "      <td>NaN</td>\n",
       "      <td>1.0896</td>\n",
       "      <td>24.5</td>\n",
       "      <td>22.5</td>\n",
       "      <td>879.0</td>\n",
       "      <td>07/01/2010</td>\n",
       "      <td>06/30/2013</td>\n",
       "    </tr>\n",
       "    <tr>\n",
       "      <th>13615</th>\n",
       "      <td>NEW ENGLAND BAPTIST HOSPITAL</td>\n",
       "      <td>220088</td>\n",
       "      <td>MA</td>\n",
       "      <td>READM-30-HIP-KNEE-HRRP</td>\n",
       "      <td>3980</td>\n",
       "      <td>NaN</td>\n",
       "      <td>0.7682</td>\n",
       "      <td>3.7</td>\n",
       "      <td>4.8</td>\n",
       "      <td>142.0</td>\n",
       "      <td>07/01/2010</td>\n",
       "      <td>06/30/2013</td>\n",
       "    </tr>\n",
       "    <tr>\n",
       "      <th>13666</th>\n",
       "      <td>HOSPITAL FOR SPECIAL SURGERY</td>\n",
       "      <td>330270</td>\n",
       "      <td>NY</td>\n",
       "      <td>READM-30-HIP-KNEE-HRRP</td>\n",
       "      <td>6793</td>\n",
       "      <td>NaN</td>\n",
       "      <td>0.7379</td>\n",
       "      <td>3.9</td>\n",
       "      <td>5.3</td>\n",
       "      <td>258.0</td>\n",
       "      <td>07/01/2010</td>\n",
       "      <td>06/30/2013</td>\n",
       "    </tr>\n",
       "  </tbody>\n",
       "</table>\n",
       "<p>11578 rows × 12 columns</p>\n",
       "</div>"
      ],
      "text/plain": [
       "                                    Hospital Name  Provider Number State  \\\n",
       "16857                 THREE RIVERS MEDICAL CENTER           180128    KY   \n",
       "14582        SELLS INDIAN HEALTH SERVICE HOSPITAL            30074    AZ   \n",
       "15606           PHS INDIAN HOSPITAL AT PINE RIDGE           430081    SD   \n",
       "15615          FLORIDA STATE HOSPITAL UNIT 31 MED           100298    FL   \n",
       "14551                      GREENE COUNTY HOSPITAL            10051    AL   \n",
       "15625               FAIRVIEW DEVELOPMENTAL CENTER            50548    CA   \n",
       "15642                  WAGONER COMMUNITY HOSPITAL           370166    OK   \n",
       "15648           ST LUKE'S HOSPITAL AT THE VINTAGE           670075    TX   \n",
       "15652               SOUTH TEXAS SURGICAL HOSPITAL           670061    TX   \n",
       "15396              GEORGE L MEE MEMORIAL HOSPITAL            50189    CA   \n",
       "14515                  JOHN H STROGER JR HOSPITAL           140124    IL   \n",
       "15682                              ONECORE HEALTH           370220    OK   \n",
       "14436                   BROADLAWNS MEDICAL CENTER           160101    IA   \n",
       "15697             ST VINCENT FISHERS HOSPITAL INC           150181    IN   \n",
       "14428                         ST BERNARD HOSPITAL           140103    IL   \n",
       "15703            HEREFORD REGIONAL MEDICAL CENTER           450155    TX   \n",
       "15765                  SOUTHERN SURGICAL HOSPITAL           190270    LA   \n",
       "14418             ROCKCASTLE COUNTY HOSPITAL, INC           180115    KY   \n",
       "14393                   PHYSICIANS MEDICAL CENTER           190241    LA   \n",
       "15679             MOUNTAIN VIEW REGIONAL HOSPITAL           530033    WY   \n",
       "14825                  SAN CARLOS INDIAN HOSPITAL            30077    AZ   \n",
       "14618                  SOUTHERN SURGICAL HOSPITAL           190270    LA   \n",
       "15288                            LORETTO HOSPITAL           140083    IL   \n",
       "14877   NOVANT HEALTH PRESBYTERIAN MEDICAL CENTER           340053    NC   \n",
       "14896                         EPIC MEDICAL CENTER           370169    OK   \n",
       "14949            PORTERVILLE DEVELOPMENTAL CENTER            50546    CA   \n",
       "14799                      HARLEM HOSPITAL CENTER           330240    NY   \n",
       "14989                FOREST HEALTH MEDICAL CENTER           230144    MI   \n",
       "14764           MONTCLAIR HOSPITAL MEDICAL CENTER            50758    CA   \n",
       "15069         CANCER TREATMENT CENTERS OF AMERICA           390312    PA   \n",
       "...                                           ...              ...   ...   \n",
       "7147                    MORRISTOWN MEDICAL CENTER           310015    NJ   \n",
       "897                               VALLEY HOSPITAL           310012    NJ   \n",
       "13326                      SWEDISH MEDICAL CENTER           500027    WA   \n",
       "7872         ST FRANCIS HOSPITAL & MEDICAL CENTER            70002    CT   \n",
       "9444                            EVANSTON HOSPITAL           140010    IL   \n",
       "13723       PROVIDENCE SAINT JOHN'S HEALTH CENTER            50290    CA   \n",
       "1605                     COMMUNITY MEDICAL CENTER           310041    NJ   \n",
       "12910                   BAPTIST HEALTH LOUISVILLE           180130    KY   \n",
       "2758                        LEE MEMORIAL HOSPITAL           100012    FL   \n",
       "7934          CAROLINAS MEDICAL  CENTER-PINEVILLE           340098    NC   \n",
       "1352               SOUTHCOAST HOSPITAL GROUP, INC           220074    MA   \n",
       "3042                 BEAUMONT HOSPITAL, ROYAL OAK           230130    MI   \n",
       "1448          NEW HANOVER REGIONAL MEDICAL CENTER           340141    NC   \n",
       "2846        CHRISTIANA CARE HEALTH SERVICES, INC.            80001    DE   \n",
       "8249                           METHODIST HOSPITAL           450388    TX   \n",
       "3202       METHODIST HEALTHCARE MEMPHIS HOSPITALS           440049    TN   \n",
       "13730                   HOAG ORTHOPEDIC INSTITUTE            50769    CA   \n",
       "2440                             FLORIDA HOSPITAL           100007    FL   \n",
       "11545  MCBRIDE CLINIC ORTHOPEDIC HOSPITAL,  L L C           370222    OK   \n",
       "1805               NEW YORK-PRESBYTERIAN HOSPITAL           330101    NY   \n",
       "8818        CHRISTIANA CARE HEALTH SERVICES, INC.            80001    DE   \n",
       "572                SOUTHCOAST HOSPITAL GROUP, INC           220074    MA   \n",
       "136                  BEAUMONT HOSPITAL, ROYAL OAK           230130    MI   \n",
       "1698                             FLORIDA HOSPITAL           100007    FL   \n",
       "1242                             FLORIDA HOSPITAL           100007    FL   \n",
       "8126                    NAPLES COMMUNITY HOSPITAL           100018    FL   \n",
       "6643                     COMMUNITY MEDICAL CENTER           310041    NJ   \n",
       "1892                             FLORIDA HOSPITAL           100007    FL   \n",
       "13615                NEW ENGLAND BAPTIST HOSPITAL           220088    MA   \n",
       "13666                HOSPITAL FOR SPECIAL SURGERY           330270    NY   \n",
       "\n",
       "                 Measure Name  Number of Discharges  Footnote  \\\n",
       "16857  READM-30-HIP-KNEE-HRRP                     0       7.0   \n",
       "14582      READM-30-COPD-HRRP                     0       7.0   \n",
       "15606       READM-30-AMI-HRRP                     0       7.0   \n",
       "15615      READM-30-COPD-HRRP                     0       7.0   \n",
       "14551       READM-30-AMI-HRRP                     0       7.0   \n",
       "15625        READM-30-HF-HRRP                     0       7.0   \n",
       "15642       READM-30-AMI-HRRP                     0       7.0   \n",
       "15648  READM-30-HIP-KNEE-HRRP                     0       7.0   \n",
       "15652      READM-30-COPD-HRRP                     0       7.0   \n",
       "15396       READM-30-AMI-HRRP                     0       7.0   \n",
       "14515  READM-30-HIP-KNEE-HRRP                     0       7.0   \n",
       "15682      READM-30-COPD-HRRP                     0       7.0   \n",
       "14436       READM-30-AMI-HRRP                     0       7.0   \n",
       "15697        READM-30-HF-HRRP                     0       7.0   \n",
       "14428  READM-30-HIP-KNEE-HRRP                     0       7.0   \n",
       "15703       READM-30-AMI-HRRP                     0       7.0   \n",
       "15765      READM-30-COPD-HRRP                     0       7.0   \n",
       "14418       READM-30-AMI-HRRP                     0       7.0   \n",
       "14393       READM-30-AMI-HRRP                     0       7.0   \n",
       "15679       READM-30-AMI-HRRP                     0       7.0   \n",
       "14825        READM-30-PN-HRRP                     0       7.0   \n",
       "14618        READM-30-PN-HRRP                     0       7.0   \n",
       "15288  READM-30-HIP-KNEE-HRRP                     0       7.0   \n",
       "14877  READM-30-HIP-KNEE-HRRP                     0       7.0   \n",
       "14896       READM-30-AMI-HRRP                     0       7.0   \n",
       "14949      READM-30-COPD-HRRP                     0       7.0   \n",
       "14799  READM-30-HIP-KNEE-HRRP                     0       7.0   \n",
       "14989        READM-30-PN-HRRP                     0       7.0   \n",
       "14764  READM-30-HIP-KNEE-HRRP                     0       7.0   \n",
       "15069       READM-30-AMI-HRRP                     0       7.0   \n",
       "...                       ...                   ...       ...   \n",
       "7147   READM-30-HIP-KNEE-HRRP                  2042       NaN   \n",
       "897          READM-30-HF-HRRP                  2060       NaN   \n",
       "13326  READM-30-HIP-KNEE-HRRP                  2089       NaN   \n",
       "7872   READM-30-HIP-KNEE-HRRP                  2106       NaN   \n",
       "9444         READM-30-HF-HRRP                  2112       NaN   \n",
       "13723  READM-30-HIP-KNEE-HRRP                  2189       NaN   \n",
       "1605         READM-30-HF-HRRP                  2190       NaN   \n",
       "12910  READM-30-HIP-KNEE-HRRP                  2196       NaN   \n",
       "2758   READM-30-HIP-KNEE-HRRP                  2198       NaN   \n",
       "7934   READM-30-HIP-KNEE-HRRP                  2209       NaN   \n",
       "1352         READM-30-HF-HRRP                  2278       NaN   \n",
       "3042         READM-30-HF-HRRP                  2314       NaN   \n",
       "1448   READM-30-HIP-KNEE-HRRP                  2318       NaN   \n",
       "2846   READM-30-HIP-KNEE-HRRP                  2341       NaN   \n",
       "8249         READM-30-HF-HRRP                  2353       NaN   \n",
       "3202         READM-30-HF-HRRP                  2388       NaN   \n",
       "13730  READM-30-HIP-KNEE-HRRP                  2393       NaN   \n",
       "2440         READM-30-PN-HRRP                  2430       NaN   \n",
       "11545  READM-30-HIP-KNEE-HRRP                  2469       NaN   \n",
       "1805         READM-30-HF-HRRP                  2476       NaN   \n",
       "8818         READM-30-HF-HRRP                  2509       NaN   \n",
       "572        READM-30-COPD-HRRP                  2565       NaN   \n",
       "136    READM-30-HIP-KNEE-HRRP                  2581       NaN   \n",
       "1698   READM-30-HIP-KNEE-HRRP                  2596       NaN   \n",
       "1242       READM-30-COPD-HRRP                  2705       NaN   \n",
       "8126   READM-30-HIP-KNEE-HRRP                  2716       NaN   \n",
       "6643       READM-30-COPD-HRRP                  2740       NaN   \n",
       "1892         READM-30-HF-HRRP                  3570       NaN   \n",
       "13615  READM-30-HIP-KNEE-HRRP                  3980       NaN   \n",
       "13666  READM-30-HIP-KNEE-HRRP                  6793       NaN   \n",
       "\n",
       "       Excess Readmission Ratio  Predicted Readmission Rate  \\\n",
       "16857                       NaN                         NaN   \n",
       "14582                       NaN                         NaN   \n",
       "15606                       NaN                         NaN   \n",
       "15615                       NaN                         NaN   \n",
       "14551                       NaN                         NaN   \n",
       "15625                       NaN                         NaN   \n",
       "15642                       NaN                         NaN   \n",
       "15648                       NaN                         NaN   \n",
       "15652                       NaN                         NaN   \n",
       "15396                       NaN                         NaN   \n",
       "14515                       NaN                         NaN   \n",
       "15682                       NaN                         NaN   \n",
       "14436                       NaN                         NaN   \n",
       "15697                       NaN                         NaN   \n",
       "14428                       NaN                         NaN   \n",
       "15703                       NaN                         NaN   \n",
       "15765                       NaN                         NaN   \n",
       "14418                       NaN                         NaN   \n",
       "14393                       NaN                         NaN   \n",
       "15679                       NaN                         NaN   \n",
       "14825                       NaN                         NaN   \n",
       "14618                       NaN                         NaN   \n",
       "15288                       NaN                         NaN   \n",
       "14877                       NaN                         NaN   \n",
       "14896                       NaN                         NaN   \n",
       "14949                       NaN                         NaN   \n",
       "14799                       NaN                         NaN   \n",
       "14989                       NaN                         NaN   \n",
       "14764                       NaN                         NaN   \n",
       "15069                       NaN                         NaN   \n",
       "...                         ...                         ...   \n",
       "7147                     0.9935                         5.1   \n",
       "897                      1.1358                        25.5   \n",
       "13326                    0.8384                         3.7   \n",
       "7872                     0.9839                         5.0   \n",
       "9444                     0.9627                        21.2   \n",
       "13723                    0.6350                         3.2   \n",
       "1605                     1.0991                        26.6   \n",
       "12910                    0.8747                         4.3   \n",
       "2758                     1.0663                         5.5   \n",
       "7934                     0.9831                         4.4   \n",
       "1352                     1.1099                        24.9   \n",
       "3042                     1.0605                        25.6   \n",
       "1448                     1.1055                         5.5   \n",
       "2846                     1.0647                         5.5   \n",
       "8249                     0.9788                        22.0   \n",
       "3202                     1.0571                        23.5   \n",
       "13730                    0.5495                         2.7   \n",
       "2440                     1.0738                        18.6   \n",
       "11545                    0.9248                         4.5   \n",
       "1805                     1.0925                        24.8   \n",
       "8818                     0.9712                        21.8   \n",
       "572                      1.1637                        23.7   \n",
       "136                      1.2577                         7.5   \n",
       "1698                     1.0962                         5.6   \n",
       "1242                     1.1148                        22.0   \n",
       "8126                     0.9804                         5.2   \n",
       "6643                     1.0003                        22.7   \n",
       "1892                     1.0896                        24.5   \n",
       "13615                    0.7682                         3.7   \n",
       "13666                    0.7379                         3.9   \n",
       "\n",
       "       Expected Readmission Rate  Number of Readmissions  Start Date  \\\n",
       "16857                        NaN                     NaN  07/01/2010   \n",
       "14582                        NaN                     NaN  07/01/2010   \n",
       "15606                        NaN                     NaN  07/01/2010   \n",
       "15615                        NaN                     NaN  07/01/2010   \n",
       "14551                        NaN                     NaN  07/01/2010   \n",
       "15625                        NaN                     NaN  07/01/2010   \n",
       "15642                        NaN                     NaN  07/01/2010   \n",
       "15648                        NaN                     NaN  07/01/2010   \n",
       "15652                        NaN                     NaN  07/01/2010   \n",
       "15396                        NaN                     NaN  07/01/2010   \n",
       "14515                        NaN                     NaN  07/01/2010   \n",
       "15682                        NaN                     NaN  07/01/2010   \n",
       "14436                        NaN                     NaN  07/01/2010   \n",
       "15697                        NaN                     NaN  07/01/2010   \n",
       "14428                        NaN                     NaN  07/01/2010   \n",
       "15703                        NaN                     NaN  07/01/2010   \n",
       "15765                        NaN                     NaN  07/01/2010   \n",
       "14418                        NaN                     NaN  07/01/2010   \n",
       "14393                        NaN                     NaN  07/01/2010   \n",
       "15679                        NaN                     NaN  07/01/2010   \n",
       "14825                        NaN                     NaN  07/01/2010   \n",
       "14618                        NaN                     NaN  07/01/2010   \n",
       "15288                        NaN                     NaN  07/01/2010   \n",
       "14877                        NaN                     NaN  07/01/2010   \n",
       "14896                        NaN                     NaN  07/01/2010   \n",
       "14949                        NaN                     NaN  07/01/2010   \n",
       "14799                        NaN                     NaN  07/01/2010   \n",
       "14989                        NaN                     NaN  07/01/2010   \n",
       "14764                        NaN                     NaN  07/01/2010   \n",
       "15069                        NaN                     NaN  07/01/2010   \n",
       "...                          ...                     ...         ...   \n",
       "7147                         5.1                   104.0  07/01/2010   \n",
       "897                         22.5                   533.0  07/01/2010   \n",
       "13326                        4.5                    75.0  07/01/2010   \n",
       "7872                         5.0                   104.0  07/01/2010   \n",
       "9444                        22.0                   446.0  07/01/2010   \n",
       "13723                        5.1                    63.0  07/01/2010   \n",
       "1605                        24.2                   588.0  07/01/2010   \n",
       "12910                        4.9                    92.0  07/01/2010   \n",
       "2758                         5.2                   122.0  07/01/2010   \n",
       "7934                         4.5                    97.0  07/01/2010   \n",
       "1352                        22.5                   574.0  07/01/2010   \n",
       "3042                        24.1                   596.0  07/01/2010   \n",
       "1448                         5.0                   129.0  07/01/2010   \n",
       "2846                         5.1                   129.0  07/01/2010   \n",
       "8249                        22.5                   516.0  07/01/2010   \n",
       "3202                        22.2                   564.0  07/01/2010   \n",
       "13730                        4.9                    54.0  07/01/2010   \n",
       "2440                        17.3                   456.0  07/01/2010   \n",
       "11545                        4.9                   110.0  07/01/2010   \n",
       "1805                        22.7                   619.0  07/01/2010   \n",
       "8818                        22.5                   546.0  07/01/2010   \n",
       "572                         20.4                   619.0  07/01/2010   \n",
       "136                          5.9                   197.0  07/01/2010   \n",
       "1698                         5.1                   147.0  07/01/2010   \n",
       "1242                        19.7                   603.0  07/01/2010   \n",
       "8126                         5.3                   141.0  07/01/2010   \n",
       "6643                        22.7                   623.0  07/01/2010   \n",
       "1892                        22.5                   879.0  07/01/2010   \n",
       "13615                        4.8                   142.0  07/01/2010   \n",
       "13666                        5.3                   258.0  07/01/2010   \n",
       "\n",
       "         End Date  \n",
       "16857  06/30/2013  \n",
       "14582  06/30/2013  \n",
       "15606  06/30/2013  \n",
       "15615  06/30/2013  \n",
       "14551  06/30/2013  \n",
       "15625  06/30/2013  \n",
       "15642  06/30/2013  \n",
       "15648  06/30/2013  \n",
       "15652  06/30/2013  \n",
       "15396  06/30/2013  \n",
       "14515  06/30/2013  \n",
       "15682  06/30/2013  \n",
       "14436  06/30/2013  \n",
       "15697  06/30/2013  \n",
       "14428  06/30/2013  \n",
       "15703  06/30/2013  \n",
       "15765  06/30/2013  \n",
       "14418  06/30/2013  \n",
       "14393  06/30/2013  \n",
       "15679  06/30/2013  \n",
       "14825  06/30/2013  \n",
       "14618  06/30/2013  \n",
       "15288  06/30/2013  \n",
       "14877  06/30/2013  \n",
       "14896  06/30/2013  \n",
       "14949  06/30/2013  \n",
       "14799  06/30/2013  \n",
       "14989  06/30/2013  \n",
       "14764  06/30/2013  \n",
       "15069  06/30/2013  \n",
       "...           ...  \n",
       "7147   06/30/2013  \n",
       "897    06/30/2013  \n",
       "13326  06/30/2013  \n",
       "7872   06/30/2013  \n",
       "9444   06/30/2013  \n",
       "13723  06/30/2013  \n",
       "1605   06/30/2013  \n",
       "12910  06/30/2013  \n",
       "2758   06/30/2013  \n",
       "7934   06/30/2013  \n",
       "1352   06/30/2013  \n",
       "3042   06/30/2013  \n",
       "1448   06/30/2013  \n",
       "2846   06/30/2013  \n",
       "8249   06/30/2013  \n",
       "3202   06/30/2013  \n",
       "13730  06/30/2013  \n",
       "2440   06/30/2013  \n",
       "11545  06/30/2013  \n",
       "1805   06/30/2013  \n",
       "8818   06/30/2013  \n",
       "572    06/30/2013  \n",
       "136    06/30/2013  \n",
       "1698   06/30/2013  \n",
       "1242   06/30/2013  \n",
       "8126   06/30/2013  \n",
       "6643   06/30/2013  \n",
       "1892   06/30/2013  \n",
       "13615  06/30/2013  \n",
       "13666  06/30/2013  \n",
       "\n",
       "[11578 rows x 12 columns]"
      ]
     },
     "execution_count": 56,
     "metadata": {},
     "output_type": "execute_result"
    }
   ],
   "source": [
    "clean_hospital_read_df"
   ]
  },
  {
   "cell_type": "code",
   "execution_count": 57,
   "metadata": {
    "collapsed": false
   },
   "outputs": [
    {
     "data": {
      "text/plain": [
       "(11578, 12)"
      ]
     },
     "execution_count": 57,
     "metadata": {},
     "output_type": "execute_result"
    }
   ],
   "source": [
    "clean_hospital_read_df.shape"
   ]
  },
  {
   "cell_type": "code",
   "execution_count": 58,
   "metadata": {
    "collapsed": false
   },
   "outputs": [
    {
     "data": {
      "image/png": "[encoded data removed]",
      "text/plain": [
       "<matplotlib.figure.Figure at 0x120898d68>"
      ]
     },
     "metadata": {},
     "output_type": "display_data"
    }
   ],
   "source": [
    "# generate a scatterplot for number of discharges vs. excess rate of readmissions\n",
    "# lists work better with matplotlib scatterplot function\n",
    "x = [a for a in clean_hospital_read_df['Number of Discharges'][81:-3]]\n",
    "y = list(clean_hospital_read_df['Excess Readmission Ratio'][81:-3])\n",
    "\n",
    "fig, ax = plt.subplots(figsize=(8,5))\n",
    "ax.scatter(x, y,alpha=0.2)\n",
    "\n",
    "ax.fill_between([0,350], 1.15, 2, facecolor='red', alpha = .15, interpolate=True)\n",
    "ax.fill_between([800,2500], .5, .95, facecolor='green', alpha = .15, interpolate=True)\n",
    "\n",
    "ax.set_xlim([0, max(x)])\n",
    "ax.set_xlabel('Number of discharges', fontsize=12)\n",
    "ax.set_ylabel('Excess rate of readmissions', fontsize=12)\n",
    "ax.set_title('Scatterplot of number of discharges vs. excess rate of readmissions', fontsize=14)\n",
    "\n",
    "ax.grid(True)\n",
    "fig.tight_layout()"
   ]
  },
  {
   "cell_type": "markdown",
   "metadata": {},
   "source": [
    "****\n",
    "\n",
    "## Preliminary Report\n",
    "\n",
    "Read the following results/report. While you are reading it, think about if the conclusions are correct, incorrect, misleading or unfounded. Think about what you would change or what additional analyses you would perform.\n",
    "\n",
    "**A. Initial observations based on the plot above**\n",
    "+ Overall, rate of readmissions is trending down with increasing number of discharges\n",
    "+ With lower number of discharges, there is a greater incidence of excess rate of readmissions (area shaded red)\n",
    "+ With higher number of discharges, there is a greater incidence of lower rates of readmissions (area shaded green) \n",
    "\n",
    "**B. Statistics**\n",
    "+ In hospitals/facilities with number of discharges < 100, mean excess readmission rate is 1.023 and 63% have excess readmission rate greater than 1 \n",
    "+ In hospitals/facilities with number of discharges > 1000, mean excess readmission rate is 0.978 and 44% have excess readmission rate greater than 1 \n",
    "\n",
    "**C. Conclusions**\n",
    "+ There is a significant correlation between hospital capacity (number of discharges) and readmission rates. \n",
    "+ Smaller hospitals/facilities may be lacking necessary resources to ensure quality care and prevent complications that lead to readmissions.\n",
    "\n",
    "**D. Regulatory policy recommendations**\n",
    "+ Hospitals/facilties with small capacity (< 300) should be required to demonstrate upgraded resource allocation for quality care to continue operation.\n",
    "+ Directives and incentives should be provided for consolidation of hospitals and facilities to have a smaller number of them with higher capacity and number of discharges."
   ]
  },
  {
   "cell_type": "markdown",
   "metadata": {},
   "source": [
    "****\n",
    "<div class=\"span5 alert alert-info\">\n",
    "### Exercise\n",
    "\n",
    "Include your work on the following **in this notebook and submit to your Github account**. \n",
    "\n",
    "A. Do you agree with the above analysis and recommendations? Why or why not?\n",
    "   \n",
    "B. Provide support for your arguments and your own recommendations with a statistically sound analysis:\n",
    "\n",
    "   1. Setup an appropriate hypothesis test.\n",
    "   2. Compute and report the observed significance value (or p-value).\n",
    "   3. Report statistical significance for $\\alpha$ = .01. \n",
    "   4. Discuss statistical significance and practical significance. Do they differ here? How does this change your recommendation to the client?\n",
    "   5. Look at the scatterplot above. \n",
    "      - What are the advantages and disadvantages of using this plot to convey information?\n",
    "      - Construct another plot that conveys the same information in a more direct manner.\n",
    "\n",
    "\n",
    "\n",
    "You can compose in notebook cells using Markdown: \n",
    "+ In the control panel at the top, choose Cell > Cell Type > Markdown\n",
    "+ Markdown syntax: http://nestacms.com/docs/creating-content/markdown-cheat-sheet\n",
    "</div>\n",
    "****"
   ]
  },
  {
   "cell_type": "code",
   "execution_count": 59,
   "metadata": {
    "collapsed": false
   },
   "outputs": [
    {
     "data": {
      "text/plain": [
       "0.84729659699429949"
      ]
     },
     "execution_count": 59,
     "metadata": {},
     "output_type": "execute_result"
    }
   ],
   "source": [
    "sum((clean_hospital_read_df[\"Number of Discharges\"] > 100) & (clean_hospital_read_df[\"Number of Discharges\"] < 1000))/len(clean_hospital_read_df)"
   ]
  },
  {
   "cell_type": "code",
   "execution_count": 60,
   "metadata": {
    "collapsed": true
   },
   "outputs": [],
   "source": [
    "# Your turn"
   ]
  },
  {
   "cell_type": "markdown",
   "metadata": {
    "collapsed": true
   },
   "source": [
    "A. Do you agree with the above analysis and recommendations? Why or why not?"
   ]
  },
  {
   "cell_type": "markdown",
   "metadata": {},
   "source": [
    "I do not agree with the analysis above, and following are the reasons:\n",
    "\n",
    "1. Except for what seems like two outliers (ratio > 1.7), there is no trend for the rate of readmissions as a function of number of discharges. The red and green shades highlighted in the figure are biased. For lower values of $x$, there are many $y$ that have high values but not highlighted in red. Similarly, for higher values of $x$, there are many higher $y$ values that are not shaded in green.\n",
    "\n",
    "2. In terms of statisitcs shown, the analysis is done by considering number of discharges less than 100 and greater than 1000. Though the statistical analysis suggests that the hospitals with smaller number of discharges have higher readmission rates, the analysis cannot be trusted because significant fraction of data points (84.7$\\%$) lie when the number of discharges are between about 100 and 1000. Therefore, any analysis done outside this range does not represent the whole data. In other words, the statistical analysis is based on only 15.3$\\%$ data.\n",
    "\n",
    "\n",
    "The conclusions and the recommendations cannot be agreed without further analysis. It is possible that there is a trend between the number of discharges and the readmission ratio but we need to test this using the data. Any recommnedations about either giving more incentives to hospitals with higher discharges, and making hospitals with lower capacity demonstrate upgraded resources cannot be taken seriously. Moreover, the term \"capacity\" is used in the recommendation which has not been observed in the data set. Assuming it is same (or highly correlated with number of discharges), it is not clear why the number \"300\" is picked up. This number did not appear in the analysis.  "
   ]
  },
  {
   "cell_type": "markdown",
   "metadata": {},
   "source": [
    "B. Provide support for your arguments and your own recommendations with a statistically sound analysis:"
   ]
  },
  {
   "cell_type": "markdown",
   "metadata": {},
   "source": [
    "Let's first shade the colors differently so that the range used in the statistical analysis is clear:"
   ]
  },
  {
   "cell_type": "code",
   "execution_count": 61,
   "metadata": {
    "collapsed": false
   },
   "outputs": [
    {
     "data": {
      "image/png": "[encoded data removed]",
      "text/plain": [
       "<matplotlib.figure.Figure at 0x121778780>"
      ]
     },
     "metadata": {},
     "output_type": "display_data"
    }
   ],
   "source": [
    "x = [a for a in clean_hospital_read_df['Number of Discharges'][81:]]\n",
    "y = list(clean_hospital_read_df['Excess Readmission Ratio'][81:])\n",
    "\n",
    "fig, ax = plt.subplots(figsize=(15,8))\n",
    "ax.scatter(x, y,alpha=0.2)\n",
    "\n",
    "ax.fill_between([0,100], 0.5, 2, facecolor='purple', alpha = .25, interpolate=True)\n",
    "ax.fill_between([100,1000], 0.5, 2, facecolor='orange', alpha = .25, interpolate=True)\n",
    "ax.fill_between([1000,7000], .5, 2, facecolor='purple', alpha = .25, interpolate=True)\n",
    "\n",
    "#ax.set_xlim([0, max(x)])\n",
    "ax.set_xlabel('Number of discharges', fontsize=12)\n",
    "ax.set_ylabel('Excess rate of readmissions', fontsize=12)\n",
    "ax.set_title('Scatterplot of number of discharges vs. excess rate of readmissions', fontsize=14)\n",
    "\n",
    "ax.grid(True)\n",
    "fig.tight_layout()"
   ]
  },
  {
   "cell_type": "markdown",
   "metadata": {},
   "source": [
    "The data points shaded in purple represent only 15.3$\\%$ data, whereas the orange patch shows the left out data in the statistical analysis. Note that in the original analysis the last three points were ignored (probably due to very large x values), we included them in the above plot. To show, more clearly, how much fraction of data points is covered in a given range of the number of dischrges, we plot the cumulative distribution of the number of discharges."
   ]
  },
  {
   "cell_type": "code",
   "execution_count": 62,
   "metadata": {
    "collapsed": false
   },
   "outputs": [
    {
     "data": {
      "text/plain": [
       "6793"
      ]
     },
     "execution_count": 62,
     "metadata": {},
     "output_type": "execute_result"
    }
   ],
   "source": [
    "clean_hospital_read_df[\"Number of Discharges\"].max()"
   ]
  },
  {
   "cell_type": "code",
   "execution_count": 63,
   "metadata": {
    "collapsed": false
   },
   "outputs": [
    {
     "data": {
      "image/png": "[encoded data removed]",
      "text/plain": [
       "<matplotlib.figure.Figure at 0x12168cac8>"
      ]
     },
     "metadata": {},
     "output_type": "display_data"
    }
   ],
   "source": [
    "x1 = np.arange(0, 6800, 20)\n",
    "y1 = [sum(clean_hospital_read_df[\"Number of Discharges\"] < xi)/len(clean_hospital_read_df) for xi in x1]\n",
    "\n",
    "fig, ax = plt.subplots(figsize=(15,8))\n",
    "ax.scatter(x1, y1)\n",
    "ax.fill_between([100,1000], 0, 1, facecolor='orange', alpha = .25, interpolate=True)\n",
    "#ax.fill_between([1000,2800], .5, 1.6, facecolor='green', alpha = .15, interpolate=True)\n",
    "\n",
    "#ax.set_xlim([0, max(x)])\n",
    "ax.set_xlabel('Number of discharges', fontsize=12)\n",
    "ax.set_ylabel('Cumulative fraction of data points', fontsize=12)\n",
    "\n",
    "ax.grid(True)\n",
    "fig.tight_layout()"
   ]
  },
  {
   "cell_type": "markdown",
   "metadata": {},
   "source": [
    "Clearly, there is a significant amount of data when the number of discharges are between 100 and 1000 (shaded in orange), which was ignored in the statistical analysis. \n",
    "\n",
    "\n",
    "Lets now check if the results obtained from the original analysis are correct. Since the results have mean values, lets fix the missing values first."
   ]
  },
  {
   "cell_type": "code",
   "execution_count": 64,
   "metadata": {
    "collapsed": false
   },
   "outputs": [
    {
     "data": {
      "text/plain": [
       "81"
      ]
     },
     "execution_count": 64,
     "metadata": {},
     "output_type": "execute_result"
    }
   ],
   "source": [
    "# number of missing values in \"Excess Readmission Ratio\"\n",
    "sum(pd.isnull(clean_hospital_read_df[\"Excess Readmission Ratio\"]))"
   ]
  },
  {
   "cell_type": "code",
   "execution_count": 65,
   "metadata": {
    "collapsed": false
   },
   "outputs": [
    {
     "data": {
      "text/plain": [
       "0"
      ]
     },
     "execution_count": 65,
     "metadata": {},
     "output_type": "execute_result"
    }
   ],
   "source": [
    "# number of missing values in \"Number of Discharges\"\n",
    "sum(pd.isnull(clean_hospital_read_df[\"Number of Discharges\"]))"
   ]
  },
  {
   "cell_type": "markdown",
   "metadata": {},
   "source": [
    "When do we get missing values in \"Excess Readmission Ratio\"? Is it when \"Number of Discharges\" = 0?"
   ]
  },
  {
   "cell_type": "code",
   "execution_count": 67,
   "metadata": {
    "collapsed": false
   },
   "outputs": [
    {
     "data": {
      "text/plain": [
       "81"
      ]
     },
     "execution_count": 67,
     "metadata": {},
     "output_type": "execute_result"
    }
   ],
   "source": [
    "sum(clean_hospital_read_df[\"Number of Discharges\"][pd.isnull(clean_hospital_read_df[\"Excess Readmission Ratio\"])] == 0)"
   ]
  },
  {
   "cell_type": "markdown",
   "metadata": {},
   "source": [
    "Yes, that is the case. So, lets remove these 81 rows and create a new data frame."
   ]
  },
  {
   "cell_type": "code",
   "execution_count": 69,
   "metadata": {
    "collapsed": false
   },
   "outputs": [
    {
     "data": {
      "text/plain": [
       "(11497, 12)"
      ]
     },
     "execution_count": 69,
     "metadata": {},
     "output_type": "execute_result"
    }
   ],
   "source": [
    "df = clean_hospital_read_df[pd.notnull(clean_hospital_read_df[\"Excess Readmission Ratio\"])]\n",
    "df.shape"
   ]
  },
  {
   "cell_type": "markdown",
   "metadata": {},
   "source": [
    "Lets now verify some numbers that were reported in the original analysis.\n",
    "\n",
    "1. In hospitals/facilities with number of discharges < 100, mean excess readmission rate is 1.023 and 63% have excess readmission rate greater than 1\n",
    "\n",
    "2. In hospitals/facilities with number of discharges > 1000, mean excess readmission rate is 0.978 and 44% have excess readmission rate greater than 1"
   ]
  },
  {
   "cell_type": "code",
   "execution_count": 72,
   "metadata": {
    "collapsed": false
   },
   "outputs": [],
   "source": [
    "df_lessthan_100 = df[df[\"Number of Discharges\"] < 100]"
   ]
  },
  {
   "cell_type": "code",
   "execution_count": 73,
   "metadata": {
    "collapsed": false
   },
   "outputs": [
    {
     "data": {
      "text/plain": [
       "1.0226183501683506"
      ]
     },
     "execution_count": 73,
     "metadata": {},
     "output_type": "execute_result"
    }
   ],
   "source": [
    "df_lessthan_100[\"Excess Readmission Ratio\"].mean()"
   ]
  },
  {
   "cell_type": "code",
   "execution_count": 74,
   "metadata": {
    "collapsed": false
   },
   "outputs": [
    {
     "data": {
      "text/plain": [
       "0.63215488215488214"
      ]
     },
     "execution_count": 74,
     "metadata": {},
     "output_type": "execute_result"
    }
   ],
   "source": [
    "sum(df_lessthan_100[\"Excess Readmission Ratio\"] > 1)/len(df_lessthan_100)"
   ]
  },
  {
   "cell_type": "code",
   "execution_count": 75,
   "metadata": {
    "collapsed": true
   },
   "outputs": [],
   "source": [
    "df_greaterthan_1000 = df[df[\"Number of Discharges\"] > 1000]"
   ]
  },
  {
   "cell_type": "code",
   "execution_count": 76,
   "metadata": {
    "collapsed": false
   },
   "outputs": [
    {
     "data": {
      "text/plain": [
       "0.9783354211663071"
      ]
     },
     "execution_count": 76,
     "metadata": {},
     "output_type": "execute_result"
    }
   ],
   "source": [
    "df_greaterthan_1000[\"Excess Readmission Ratio\"].mean()"
   ]
  },
  {
   "cell_type": "code",
   "execution_count": 77,
   "metadata": {
    "collapsed": false
   },
   "outputs": [
    {
     "data": {
      "text/plain": [
       "0.44492440604751621"
      ]
     },
     "execution_count": 77,
     "metadata": {},
     "output_type": "execute_result"
    }
   ],
   "source": [
    "sum(df_greaterthan_1000[\"Excess Readmission Ratio\"] > 1)/len(df_greaterthan_1000)"
   ]
  },
  {
   "cell_type": "markdown",
   "metadata": {},
   "source": [
    "Okay, the results reported in the original analysis are correct. However, we do not think the conclusions about the trends are correct. We are going to test this conclusion now."
   ]
  },
  {
   "cell_type": "markdown",
   "metadata": {},
   "source": [
    "Overall, we think that there is no trend and so we test this using Peasrson's R. \n",
    "\n",
    "\n",
    "$H_0$: number of discharges has no influence on the readmission ratio\n",
    "\n",
    "\n",
    "$H_a$: number of discharges influences the readmission ratio"
   ]
  },
  {
   "cell_type": "markdown",
   "metadata": {},
   "source": [
    "If we want to use Pearson's R then, we have to first make sure that both variables are normally distributed."
   ]
  },
  {
   "cell_type": "code",
   "execution_count": 78,
   "metadata": {
    "collapsed": false
   },
   "outputs": [
    {
     "data": {
      "image/png": "[encoded data removed]",
      "text/plain": [
       "<matplotlib.figure.Figure at 0x1218ffc88>"
      ]
     },
     "metadata": {},
     "output_type": "display_data"
    }
   ],
   "source": [
    "p1 = plt.hist(df[\"Excess Readmission Ratio\"], 500)"
   ]
  },
  {
   "cell_type": "code",
   "execution_count": 79,
   "metadata": {
    "collapsed": false,
    "scrolled": true
   },
   "outputs": [
    {
     "data": {
      "image/png": "[encoded data removed]",
      "text/plain": [
       "<matplotlib.figure.Figure at 0x11c54fe48>"
      ]
     },
     "metadata": {},
     "output_type": "display_data"
    }
   ],
   "source": [
    "p1 = plt.hist(df[\"Number of Discharges\"], 500)"
   ]
  },
  {
   "cell_type": "markdown",
   "metadata": {},
   "source": [
    "The number of discharge variable is not normally distributed. We can try to do a logarithmic transforamtion and see if that helps."
   ]
  },
  {
   "cell_type": "code",
   "execution_count": 80,
   "metadata": {
    "collapsed": false
   },
   "outputs": [
    {
     "data": {
      "image/png": "[encoded data removed]",
      "text/plain": [
       "<matplotlib.figure.Figure at 0x11c28f4a8>"
      ]
     },
     "metadata": {},
     "output_type": "display_data"
    }
   ],
   "source": [
    "p1 = plt.hist(np.log(df[\"Number of Discharges\"]), 500)"
   ]
  },
  {
   "cell_type": "markdown",
   "metadata": {},
   "source": [
    "The log of the number of discharges seems normally distributed, so we can now calculate Pearson's r and associated p-value."
   ]
  },
  {
   "cell_type": "code",
   "execution_count": 81,
   "metadata": {
    "collapsed": false
   },
   "outputs": [
    {
     "data": {
      "text/plain": [
       "(-0.097669784804671478, 8.9627846050289107e-26)"
      ]
     },
     "execution_count": 81,
     "metadata": {},
     "output_type": "execute_result"
    }
   ],
   "source": [
    "stats.pearsonr(np.log(df[\"Number of Discharges\"]), df[\"Excess Readmission Ratio\"])"
   ]
  },
  {
   "cell_type": "markdown",
   "metadata": {},
   "source": [
    "There is a very weak negative correlation between the two variables. This correlation is statistically significant as p-value is almost 0. We can calculate the confidence interval around the r value and check if the interval has only negative values. This will assert the fact that we do have negative correlation, weak though."
   ]
  },
  {
   "cell_type": "code",
   "execution_count": 83,
   "metadata": {
    "collapsed": false
   },
   "outputs": [
    {
     "data": {
      "text/plain": [
       "LinregressResult(slope=-0.011714312665784279, intercept=1.0732691866644413, rvalue=-0.097669784804671464, pvalue=8.9627846049724985e-26, stderr=0.0011133217610828237)"
      ]
     },
     "execution_count": 83,
     "metadata": {},
     "output_type": "execute_result"
    }
   ],
   "source": [
    "stats.linregress(np.log(df[\"Number of Discharges\"]), df[\"Excess Readmission Ratio\"])"
   ]
  },
  {
   "cell_type": "code",
   "execution_count": 84,
   "metadata": {
    "collapsed": true
   },
   "outputs": [],
   "source": [
    "slope = -0.011714312665784279\n",
    "stderr = 0.0011133217610828237"
   ]
  },
  {
   "cell_type": "markdown",
   "metadata": {},
   "source": [
    "If we want 99% confidence interval and assume a z distribution, the confidence interval will be:"
   ]
  },
  {
   "cell_type": "code",
   "execution_count": 85,
   "metadata": {
    "collapsed": true
   },
   "outputs": [],
   "source": [
    "ci1 = slope - (2.8*stderr)\n",
    "ci2 = slope + (2.8*stderr)"
   ]
  },
  {
   "cell_type": "code",
   "execution_count": 86,
   "metadata": {
    "collapsed": false
   },
   "outputs": [
    {
     "name": "stdout",
     "output_type": "stream",
     "text": [
      "99% confidence interval:  -0.014831613596816185 - -0.008597011734752373\n"
     ]
    }
   ],
   "source": [
    "print(\"99% confidence interval: \", ci1, \"-\", ci2)"
   ]
  },
  {
   "cell_type": "markdown",
   "metadata": {},
   "source": [
    "The confidence interval has only negative values so we do have negative correlation."
   ]
  },
  {
   "cell_type": "markdown",
   "metadata": {},
   "source": [
    "However, in terms of practicality, we do not think the correlation is strong enough to make serious recommendations. So, we can say that the correlation is ***statistically significant*** but ***practically not significant***.\n",
    "\n",
    "Since we saw the log of number of discharge gave normal distribution, lets replot the scatter with x axis as log scale."
   ]
  },
  {
   "cell_type": "code",
   "execution_count": 87,
   "metadata": {
    "collapsed": false
   },
   "outputs": [
    {
     "data": {
      "image/png": "[encoded data removed]",
      "text/plain": [
       "<matplotlib.figure.Figure at 0x1219c9f28>"
      ]
     },
     "metadata": {},
     "output_type": "display_data"
    }
   ],
   "source": [
    "fig, ax = plt.subplots(figsize=(8,5))\n",
    "ax.scatter(np.log(x), y,alpha=0.2)\n",
    "\n",
    "#ax.set_xlim([0, max(x)])\n",
    "ax.set_xlabel('log(Number of discharges)', fontsize=12)\n",
    "ax.set_ylabel('Excess rate of readmissions', fontsize=12)\n",
    "ax.set_title('Scatterplot of log of number of discharges vs. excess rate of readmissions', fontsize=14)\n",
    "\n",
    "ax.grid(True)\n",
    "fig.tight_layout()"
   ]
  },
  {
   "cell_type": "markdown",
   "metadata": {},
   "source": [
    "By looking at the plot, we can definitely say that the correlation is practically not significant."
   ]
  },
  {
   "cell_type": "markdown",
   "metadata": {},
   "source": [
    "The original analysis also recommends that hospitals/facilties with small capacity (< 300) should be required to demonstrate upgraded resource allocation for quality care to continue operation. We can see if there is any significant difference between the readmission rates for two groups: (i) group with small capacity (< 300), and (ii) group with large capacity (>= 300). Lets first create two data frames for these two groups."
   ]
  },
  {
   "cell_type": "code",
   "execution_count": 89,
   "metadata": {
    "collapsed": false
   },
   "outputs": [],
   "source": [
    "df1 = df[df[\"Number of Discharges\"] < 300]\n",
    "df2= df[df[\"Number of Discharges\"] >= 300]"
   ]
  },
  {
   "cell_type": "code",
   "execution_count": 91,
   "metadata": {
    "collapsed": false
   },
   "outputs": [
    {
     "name": "stdout",
     "output_type": "stream",
     "text": [
      "Means of readdmision rates in two groups:  1.0142382121807445 0.9998708480237513\n"
     ]
    }
   ],
   "source": [
    "# means\n",
    "m1 = df1[\"Excess Readmission Ratio\"].mean()\n",
    "m2 = df2[\"Excess Readmission Ratio\"].mean()\n",
    "print(\"Means of readdmision rates in two groups: \", m1, m2)"
   ]
  },
  {
   "cell_type": "markdown",
   "metadata": {},
   "source": [
    "Whats the effect size here? And is that significant?"
   ]
  },
  {
   "cell_type": "code",
   "execution_count": 93,
   "metadata": {
    "collapsed": false
   },
   "outputs": [
    {
     "name": "stdout",
     "output_type": "stream",
     "text": [
      "Effect size:  0.014367364156993245\n"
     ]
    }
   ],
   "source": [
    "print(\"Effect size: \", abs(m1-m2))"
   ]
  },
  {
   "cell_type": "markdown",
   "metadata": {},
   "source": [
    "We are going to perform two sample difference hypothesis test. Lets calculate the standard deviations (SD) of both groups. Our null hypothesis would be that there is no difference between the means. And the alternate hypothesis would be that there is a siginificant difference."
   ]
  },
  {
   "cell_type": "code",
   "execution_count": 96,
   "metadata": {
    "collapsed": false
   },
   "outputs": [
    {
     "name": "stdout",
     "output_type": "stream",
     "text": [
      "SD of both groups:  0.08247820844558373 0.101118258486653\n"
     ]
    }
   ],
   "source": [
    "std1 = df1[\"Excess Readmission Ratio\"].std()\n",
    "std2 = df2[\"Excess Readmission Ratio\"].std()\n",
    "print(\"SD of both groups: \", std1, std2)"
   ]
  },
  {
   "cell_type": "markdown",
   "metadata": {},
   "source": [
    "We do not know the population SD, so the sample SD can be taken as estimate for population SDs, provided we have enough sample points."
   ]
  },
  {
   "cell_type": "code",
   "execution_count": 97,
   "metadata": {
    "collapsed": false
   },
   "outputs": [
    {
     "name": "stdout",
     "output_type": "stream",
     "text": [
      "Sample points in both groups:  6108 5389\n"
     ]
    }
   ],
   "source": [
    "print(\"Sample points in both groups: \", len(df1), len(df2))"
   ]
  },
  {
   "cell_type": "markdown",
   "metadata": {},
   "source": [
    "We have enough sample points. So the population SDs are std1 and std2. We now calculate the standard error of mean for both groups:"
   ]
  },
  {
   "cell_type": "code",
   "execution_count": 98,
   "metadata": {
    "collapsed": false
   },
   "outputs": [
    {
     "name": "stdout",
     "output_type": "stream",
     "text": [
      "Std errors are:  0.00105533345199 0.00137744887778\n"
     ]
    }
   ],
   "source": [
    "stderr1 = std1/np.sqrt(len(df1))\n",
    "stderr2 = std2/np.sqrt(len(df2))\n",
    "print(\"Std errors are: \", stderr1, stderr2)"
   ]
  },
  {
   "cell_type": "markdown",
   "metadata": {},
   "source": [
    "We can calculate pooled variance and hence the std err to get p-value. But lets rather use stats.ttest_ind() function."
   ]
  },
  {
   "cell_type": "code",
   "execution_count": 99,
   "metadata": {
    "collapsed": false
   },
   "outputs": [
    {
     "data": {
      "text/plain": [
       "Ttest_indResult(statistic=8.2797063680112473, pvalue=1.3862099593114599e-16)"
      ]
     },
     "execution_count": 99,
     "metadata": {},
     "output_type": "execute_result"
    }
   ],
   "source": [
    "stats.ttest_ind(df1[\"Excess Readmission Ratio\"], df2[\"Excess Readmission Ratio\"], equal_var=False)"
   ]
  },
  {
   "cell_type": "markdown",
   "metadata": {},
   "source": [
    "The t-statistic is pretty high OR the probability that the difference in means is 0 is very low. In other words,  the probability that we see the difference in means \"by chance\" is pretty low. We reject the null in favor of the alternate hypothesis that there is a significant difference between the two groups. \n",
    "\n",
    "\n",
    "Again, statistically what the original analysis recommends is correct. However, why only 300 as cutoff? We can try another cutoff, say 700 and do the above analysis again:"
   ]
  },
  {
   "cell_type": "code",
   "execution_count": 100,
   "metadata": {
    "collapsed": false
   },
   "outputs": [
    {
     "data": {
      "text/plain": [
       "Ttest_indResult(statistic=6.1290206655562338, pvalue=1.1390663713046161e-09)"
      ]
     },
     "execution_count": 100,
     "metadata": {},
     "output_type": "execute_result"
    }
   ],
   "source": [
    "df1 = df[df[\"Number of Discharges\"] < 700]\n",
    "df2= df[df[\"Number of Discharges\"] >= 700]\n",
    "stats.ttest_ind(df1[\"Excess Readmission Ratio\"], df2[\"Excess Readmission Ratio\"], equal_var=False)"
   ]
  },
  {
   "cell_type": "markdown",
   "metadata": {},
   "source": [
    "We again reject the null. So, though the results from original analysis is statistically siginificant, it is practically not significant. One can chhose any value of cutoff. The correct study would focus on changing this cutoff and seeing how cutoff affects the effect size (which is statistically significant). The cutoff for which we will see the highest effect size (statistically significant) will be the one which should be used to make similar recommendation as was made in the original analysis. Lets try to understand the effect of cutoff."
   ]
  },
  {
   "cell_type": "code",
   "execution_count": 144,
   "metadata": {
    "collapsed": true
   },
   "outputs": [],
   "source": [
    "# function to calculate both effect size and associated p-value\n",
    "def effect_size(cutoff):\n",
    "    df1 = df[df[\"Number of Discharges\"] < cutoff]\n",
    "    df2= df[df[\"Number of Discharges\"] >= cutoff]\n",
    "    m1 = df1[\"Excess Readmission Ratio\"].mean()\n",
    "    m2 = df2[\"Excess Readmission Ratio\"].mean()\n",
    "    test = stats.ttest_ind(df1[\"Excess Readmission Ratio\"], df2[\"Excess Readmission Ratio\"], equal_var=False)\n",
    "    return(abs(m1-m2), test[1])"
   ]
  },
  {
   "cell_type": "code",
   "execution_count": 145,
   "metadata": {
    "collapsed": false
   },
   "outputs": [
    {
     "name": "stderr",
     "output_type": "stream",
     "text": [
      "//anaconda/lib/python3.6/site-packages/numpy/core/_methods.py:82: RuntimeWarning: Degrees of freedom <= 0 for slice\n",
      "  warnings.warn(\"Degrees of freedom <= 0 for slice\", RuntimeWarning)\n",
      "//anaconda/lib/python3.6/site-packages/numpy/core/_methods.py:116: RuntimeWarning: invalid value encountered in double_scalars\n",
      "  ret = ret.dtype.type(ret / rcount)\n"
     ]
    }
   ],
   "source": [
    "# creating an array for cutoff values\n",
    "cutoffArray = np.arange(30, 6800, 20)\n",
    "# calculating differences in means (effect size), and associated p-values\n",
    "result = [effect_size(cutoff) for cutoff in cutoffArray]"
   ]
  },
  {
   "cell_type": "code",
   "execution_count": 147,
   "metadata": {
    "collapsed": false
   },
   "outputs": [],
   "source": [
    "# creating a data frame for plotting and analysis\n",
    "dfr = pd.DataFrame(result, columns=[\"EffectSize\", \"P-value\"])\n",
    "dfr[\"CutOff\"] = cutoffArray"
   ]
  },
  {
   "cell_type": "code",
   "execution_count": 151,
   "metadata": {
    "collapsed": false
   },
   "outputs": [
    {
     "data": {
      "image/png": "[encoded data removed]",
      "text/plain": [
       "<matplotlib.figure.Figure at 0x120f8f828>"
      ]
     },
     "metadata": {},
     "output_type": "display_data"
    }
   ],
   "source": [
    "fig, ax1 = plt.subplots(figsize=(12,8))\n",
    "\n",
    "ax2 = ax1.twinx()\n",
    "ax1.plot(dfr.CutOff, dfr.EffectSize, 'g-')\n",
    "ax2.plot(dfr.CutOff, dfr[\"P-value\"], 'b-')\n",
    "\n",
    "ax1.set_xlabel('CutOff')\n",
    "ax1.set_ylabel('Difference in means', color='g')\n",
    "ax2.set_ylabel('P-value', color='b')\n",
    "\n",
    "ax1.set_xlim([0, 7000])\n",
    "ax2.set_xlim([0, 7000])\n",
    "\n",
    "plt.plot((0, 7000), (0.01, 0.01), 'k--')\n",
    "plt.plot((1800, 1800), (0.0, 1), 'r--')\n",
    "\n",
    "plt.show()"
   ]
  },
  {
   "cell_type": "markdown",
   "metadata": {},
   "source": [
    "We have plotted the differences in means as function of cutoff on the left axis (green). We also show the p-values on the right axis (blue). The horizontal dashed black line shows the significance level $\\alpha = 0.01$. The effect size gets larger and larger and levels off at around cutoff = 4000 but that difference in means is statistically not significant as shown by larger p-values. The p-values starts to increase rapidly after around cutoff=1800, which is indicated by a vertical red dashed line. There are two cutoff points that suggest best results: (i) the very first data point, i.e. cutoff = 30, and (ii) cutoff = 1800. Based on the analysis done above, cutoff = 30 looks best but further analysis might be required to confirm this."
   ]
  },
  {
   "cell_type": "code",
   "execution_count": null,
   "metadata": {
    "collapsed": true
   },
   "outputs": [],
   "source": []
  }
 ],
 "metadata": {
  "anaconda-cloud": {},
  "kernelspec": {
   "display_name": "Python 3",
   "language": "python",
   "name": "python3"
  },
  "language_info": {
   "codemirror_mode": {
    "name": "ipython",
    "version": 3
   },
   "file_extension": ".py",
   "mimetype": "text/x-python",
   "name": "python",
   "nbconvert_exporter": "python",
   "pygments_lexer": "ipython3",
   "version": "3.6.0"
  }
 },
 "nbformat": 4,
 "nbformat_minor": 0
}
