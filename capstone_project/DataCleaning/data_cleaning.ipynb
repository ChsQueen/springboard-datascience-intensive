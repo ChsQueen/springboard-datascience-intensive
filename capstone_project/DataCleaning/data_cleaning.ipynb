{
 "cells": [
  {
   "cell_type": "markdown",
   "metadata": {},
   "source": [
    "# Data Cleaning\n",
    "\n",
    "\n",
    "In this notebook, we go thorugh all the columns and fix missing values, get rid of some unwanted columns, and also add new columns with meaningful values. "
   ]
  },
  {
   "cell_type": "markdown",
   "metadata": {},
   "source": [
    "## Loading modules"
   ]
  },
  {
   "cell_type": "code",
   "execution_count": 1,
   "metadata": {
    "collapsed": false
   },
   "outputs": [
    {
     "name": "stdout",
     "output_type": "stream",
     "text": [
      "Populating the interactive namespace from numpy and matplotlib\n"
     ]
    }
   ],
   "source": [
    "import pandas as pd\n",
    "import numpy as np\n",
    "% pylab inline\n",
    "import operator\n",
    "import re\n",
    "from collections import OrderedDict\n",
    "import seaborn as sns\n",
    "import pickle\n",
    "import os.path\n",
    "from matplotlib.colors import ListedColormap\n",
    "import matplotlib.colors as colors\n",
    "import matplotlib.cm as cmx\n",
    "import matplotlib.pyplot as plt\n",
    "from mpl_toolkits.basemap import Basemap\n",
    "from geopy.geocoders import Nominatim\n",
    "import math\n",
    "import warnings\n",
    "warnings.filterwarnings('ignore')"
   ]
  },
  {
   "cell_type": "markdown",
   "metadata": {},
   "source": [
    "## Setting some plot colors and parameters"
   ]
  },
  {
   "cell_type": "code",
   "execution_count": 2,
   "metadata": {
    "collapsed": true
   },
   "outputs": [],
   "source": [
    "tableau20 = [(31, 119, 180), (174, 199, 232), (255, 127, 14), (255, 187, 120),\n",
    "             (44, 160, 44), (152, 223, 138), (214, 39, 40), (255, 152, 150),\n",
    "             (148, 103, 189), (197, 176, 213), (140, 86, 75), (196, 156, 148),\n",
    "             (227, 119, 194), (247, 182, 210), (127, 127, 127), (199, 199, 199),\n",
    "             (188, 189, 34), (219, 219, 141), (23, 190, 207), (158, 218, 229)]\n",
    " \n",
    "# Scale the RGB values to the [0, 1] range, which is the format matplotlib accepts.\n",
    "for i in range(len(tableau20)):\n",
    "    r, g, b = tableau20[i]\n",
    "    tableau20[i] = (r / 255., g / 255., b / 255.)\n",
    "# Adapted from http://spartanideas.msu.edu/2014/06/28/how-to-make-beautiful-data-visualizations-in-python-with-matplotlib/\n",
    "cmap_set1 = ListedColormap(['#4daf4a', '#377eb8', '#e41a1c' ])\n",
    "\n",
    "params = {'legend.fontsize': 'x-large',\n",
    "          'figure.figsize': (15, 5),\n",
    "         'axes.labelsize': 'x-large',\n",
    "         'axes.titlesize':'x-large',\n",
    "         'xtick.labelsize':'x-large',\n",
    "         'ytick.labelsize':'x-large'}\n",
    "pylab.rcParams.update(params)\n",
    "sns.set_style('ticks')"
   ]
  },
  {
   "cell_type": "markdown",
   "metadata": {},
   "source": [
    "## Setting data frame display"
   ]
  },
  {
   "cell_type": "code",
   "execution_count": 3,
   "metadata": {
    "collapsed": true
   },
   "outputs": [],
   "source": [
    "pd.set_option('display.max_columns', None)"
   ]
  },
  {
   "cell_type": "markdown",
   "metadata": {},
   "source": [
    "## Loading the data\n",
    "\n",
    "We already acquired the flight data from the [Bureau of Transportation Statisitcs](https://www.transtats.bts.gov/DL_SelectFields.asp?Table_ID=236&DB_Short_Name=On-Time), and engineered some interesting features about flight's historical performance. The flight data with historical information was then merged with [weather datasets](https://www.wunderground.com/weather/api) at top 20 US airports. Details about the data acquisition and merging can be found in this notebook: /springboard-datascience-intensive/capstone_project/DataAcquisitionMerging/data_acquisition_merging.ipynb.\n",
    "\n",
    "So, after running that python notebook (data_acquisition_merging.ipynb), we get the following csv file, which we can load for EDA now.   "
   ]
  },
  {
   "cell_type": "code",
   "execution_count": 4,
   "metadata": {
    "collapsed": false
   },
   "outputs": [],
   "source": [
    "df = pd.read_csv(\"../Data/MergedData/FlightHistory_Weather_Jan2015-Dec2016_Top20Airports.csv\")"
   ]
  },
  {
   "cell_type": "code",
   "execution_count": 5,
   "metadata": {
    "collapsed": false
   },
   "outputs": [
    {
     "data": {
      "text/plain": [
       "(2857139, 150)"
      ]
     },
     "execution_count": 5,
     "metadata": {},
     "output_type": "execute_result"
    }
   ],
   "source": [
    "df.shape"
   ]
  },
  {
   "cell_type": "code",
   "execution_count": 6,
   "metadata": {
    "collapsed": false
   },
   "outputs": [
    {
     "data": {
      "text/html": [
       "<div>\n",
       "<table border=\"1\" class=\"dataframe\">\n",
       "  <thead>\n",
       "    <tr style=\"text-align: right;\">\n",
       "      <th></th>\n",
       "      <th>Unnamed: 0</th>\n",
       "      <th>Year</th>\n",
       "      <th>Quarter</th>\n",
       "      <th>Month</th>\n",
       "      <th>DayofMonth</th>\n",
       "      <th>DayOfWeek</th>\n",
       "      <th>FlightDate</th>\n",
       "      <th>UniqueCarrier</th>\n",
       "      <th>AirlineID</th>\n",
       "      <th>Carrier</th>\n",
       "      <th>TailNum</th>\n",
       "      <th>FlightNum</th>\n",
       "      <th>OriginAirportID</th>\n",
       "      <th>OriginAirportSeqID</th>\n",
       "      <th>OriginCityMarketID</th>\n",
       "      <th>Origin</th>\n",
       "      <th>OriginCityName</th>\n",
       "      <th>OriginState</th>\n",
       "      <th>OriginStateFips</th>\n",
       "      <th>OriginStateName</th>\n",
       "      <th>OriginWac</th>\n",
       "      <th>DestAirportID</th>\n",
       "      <th>DestAirportSeqID</th>\n",
       "      <th>DestCityMarketID</th>\n",
       "      <th>Dest</th>\n",
       "      <th>DestCityName</th>\n",
       "      <th>DestState</th>\n",
       "      <th>DestStateFips</th>\n",
       "      <th>DestStateName</th>\n",
       "      <th>DestWac</th>\n",
       "      <th>CRSDepTime</th>\n",
       "      <th>DepTime</th>\n",
       "      <th>DepDelay</th>\n",
       "      <th>DepDelayMinutes</th>\n",
       "      <th>DepDel15</th>\n",
       "      <th>DepartureDelayGroups</th>\n",
       "      <th>DepTimeBlk</th>\n",
       "      <th>TaxiOut</th>\n",
       "      <th>WheelsOff</th>\n",
       "      <th>WheelsOn</th>\n",
       "      <th>TaxiIn</th>\n",
       "      <th>CRSArrTime</th>\n",
       "      <th>ArrTime</th>\n",
       "      <th>ArrDelay</th>\n",
       "      <th>ArrDelayMinutes</th>\n",
       "      <th>ArrDel15</th>\n",
       "      <th>ArrivalDelayGroups</th>\n",
       "      <th>ArrTimeBlk</th>\n",
       "      <th>Cancelled</th>\n",
       "      <th>CancellationCode</th>\n",
       "      <th>Diverted</th>\n",
       "      <th>CRSElapsedTime</th>\n",
       "      <th>ActualElapsedTime</th>\n",
       "      <th>AirTime</th>\n",
       "      <th>Flights</th>\n",
       "      <th>Distance</th>\n",
       "      <th>DistanceGroup</th>\n",
       "      <th>CarrierDelay</th>\n",
       "      <th>WeatherDelay</th>\n",
       "      <th>NASDelay</th>\n",
       "      <th>SecurityDelay</th>\n",
       "      <th>LateAircraftDelay</th>\n",
       "      <th>FirstDepTime</th>\n",
       "      <th>TotalAddGTime</th>\n",
       "      <th>LongestAddGTime</th>\n",
       "      <th>DivAirportLandings</th>\n",
       "      <th>DivReachedDest</th>\n",
       "      <th>Nflights_10</th>\n",
       "      <th>DepDelayMedian_10</th>\n",
       "      <th>DepDelayMax_10</th>\n",
       "      <th>ArrDelayMedian_10</th>\n",
       "      <th>ArrDelayMax_10</th>\n",
       "      <th>TaxiOutMedian_10</th>\n",
       "      <th>TaxiInMedian_10</th>\n",
       "      <th>Ncan_10</th>\n",
       "      <th>Ndiv_10</th>\n",
       "      <th>Nflights_20</th>\n",
       "      <th>DepDelayMedian_20</th>\n",
       "      <th>DepDelayMax_20</th>\n",
       "      <th>ArrDelayMedian_20</th>\n",
       "      <th>ArrDelayMax_20</th>\n",
       "      <th>TaxiOutMedian_20</th>\n",
       "      <th>TaxiInMedian_20</th>\n",
       "      <th>Ncan_20</th>\n",
       "      <th>Ndiv_20</th>\n",
       "      <th>Nflights_30</th>\n",
       "      <th>DepDelayMedian_30</th>\n",
       "      <th>DepDelayMax_30</th>\n",
       "      <th>ArrDelayMedian_30</th>\n",
       "      <th>ArrDelayMax_30</th>\n",
       "      <th>TaxiOutMedian_30</th>\n",
       "      <th>TaxiInMedian_30</th>\n",
       "      <th>Ncan_30</th>\n",
       "      <th>Ndiv_30</th>\n",
       "      <th>FlightDateAtDest</th>\n",
       "      <th>CRSDepHr</th>\n",
       "      <th>CRSArrHr</th>\n",
       "      <th>Hour_Origin</th>\n",
       "      <th>Minute_Origin</th>\n",
       "      <th>TimeZone_Origin</th>\n",
       "      <th>Temperature_Origin</th>\n",
       "      <th>DewPoint_Origin</th>\n",
       "      <th>Humidity_Origin</th>\n",
       "      <th>WindSpeed_Origin</th>\n",
       "      <th>WindGust_Origin</th>\n",
       "      <th>WindDirection_Origin</th>\n",
       "      <th>Visibility_Origin</th>\n",
       "      <th>Pressure_Origin</th>\n",
       "      <th>WindChill_Origin</th>\n",
       "      <th>HeatIndex_Origin</th>\n",
       "      <th>Precipitation_Origin</th>\n",
       "      <th>Condition_Origin</th>\n",
       "      <th>Fog_Origin</th>\n",
       "      <th>Rain_Origin</th>\n",
       "      <th>Snow_Origin</th>\n",
       "      <th>Hail_Origin</th>\n",
       "      <th>Thunder_Origin</th>\n",
       "      <th>Tornado_Origin</th>\n",
       "      <th>Date_Origin</th>\n",
       "      <th>State_Origin</th>\n",
       "      <th>Airport_Origin</th>\n",
       "      <th>Hour_Dest</th>\n",
       "      <th>Minute_Dest</th>\n",
       "      <th>TimeZone_Dest</th>\n",
       "      <th>Temperature_Dest</th>\n",
       "      <th>DewPoint_Dest</th>\n",
       "      <th>Humidity_Dest</th>\n",
       "      <th>WindSpeed_Dest</th>\n",
       "      <th>WindGust_Dest</th>\n",
       "      <th>WindDirection_Dest</th>\n",
       "      <th>Visibility_Dest</th>\n",
       "      <th>Pressure_Dest</th>\n",
       "      <th>WindChill_Dest</th>\n",
       "      <th>HeatIndex_Dest</th>\n",
       "      <th>Precipitation_Dest</th>\n",
       "      <th>Condition_Dest</th>\n",
       "      <th>Fog_Dest</th>\n",
       "      <th>Rain_Dest</th>\n",
       "      <th>Snow_Dest</th>\n",
       "      <th>Hail_Dest</th>\n",
       "      <th>Thunder_Dest</th>\n",
       "      <th>Tornado_Dest</th>\n",
       "      <th>Date_Dest</th>\n",
       "      <th>State_Dest</th>\n",
       "      <th>Airport_Dest</th>\n",
       "      <th>Year_Dest</th>\n",
       "      <th>Quarter_Dest</th>\n",
       "      <th>Month_Dest</th>\n",
       "      <th>DayOfMonth_Dest</th>\n",
       "      <th>DayOfWeek_Dest</th>\n",
       "    </tr>\n",
       "  </thead>\n",
       "  <tbody>\n",
       "    <tr>\n",
       "      <th>0</th>\n",
       "      <td>0</td>\n",
       "      <td>2015</td>\n",
       "      <td>1</td>\n",
       "      <td>1</td>\n",
       "      <td>1</td>\n",
       "      <td>4</td>\n",
       "      <td>2015-01-01</td>\n",
       "      <td>AA</td>\n",
       "      <td>19805</td>\n",
       "      <td>AA</td>\n",
       "      <td>N787AA</td>\n",
       "      <td>1</td>\n",
       "      <td>12478</td>\n",
       "      <td>1247802</td>\n",
       "      <td>31703</td>\n",
       "      <td>JFK</td>\n",
       "      <td>New York, NY</td>\n",
       "      <td>NY</td>\n",
       "      <td>36</td>\n",
       "      <td>New York</td>\n",
       "      <td>22</td>\n",
       "      <td>12892</td>\n",
       "      <td>1289203</td>\n",
       "      <td>32575</td>\n",
       "      <td>LAX</td>\n",
       "      <td>Los Angeles, CA</td>\n",
       "      <td>CA</td>\n",
       "      <td>6</td>\n",
       "      <td>California</td>\n",
       "      <td>91</td>\n",
       "      <td>900</td>\n",
       "      <td>855.0</td>\n",
       "      <td>-5.0</td>\n",
       "      <td>0.0</td>\n",
       "      <td>0.0</td>\n",
       "      <td>-1.0</td>\n",
       "      <td>0900-0959</td>\n",
       "      <td>17.0</td>\n",
       "      <td>912.0</td>\n",
       "      <td>1230.0</td>\n",
       "      <td>7.0</td>\n",
       "      <td>1230</td>\n",
       "      <td>1237.0</td>\n",
       "      <td>7.0</td>\n",
       "      <td>7.0</td>\n",
       "      <td>0.0</td>\n",
       "      <td>0.0</td>\n",
       "      <td>1200-1259</td>\n",
       "      <td>0.0</td>\n",
       "      <td>NaN</td>\n",
       "      <td>0.0</td>\n",
       "      <td>390.0</td>\n",
       "      <td>402.0</td>\n",
       "      <td>378.0</td>\n",
       "      <td>1.0</td>\n",
       "      <td>2475.0</td>\n",
       "      <td>10</td>\n",
       "      <td>NaN</td>\n",
       "      <td>NaN</td>\n",
       "      <td>NaN</td>\n",
       "      <td>NaN</td>\n",
       "      <td>NaN</td>\n",
       "      <td>NaN</td>\n",
       "      <td>NaN</td>\n",
       "      <td>NaN</td>\n",
       "      <td>0</td>\n",
       "      <td>NaN</td>\n",
       "      <td>37</td>\n",
       "      <td>-3.0</td>\n",
       "      <td>180.0</td>\n",
       "      <td>1.0</td>\n",
       "      <td>190.0</td>\n",
       "      <td>24.0</td>\n",
       "      <td>9.0</td>\n",
       "      <td>0.0</td>\n",
       "      <td>0.0</td>\n",
       "      <td>85</td>\n",
       "      <td>-4.0</td>\n",
       "      <td>180.0</td>\n",
       "      <td>-9.0</td>\n",
       "      <td>190.0</td>\n",
       "      <td>22.0</td>\n",
       "      <td>10.0</td>\n",
       "      <td>0.0</td>\n",
       "      <td>0.0</td>\n",
       "      <td>135</td>\n",
       "      <td>-4.0</td>\n",
       "      <td>180.0</td>\n",
       "      <td>-8.0</td>\n",
       "      <td>190.0</td>\n",
       "      <td>22.0</td>\n",
       "      <td>10.0</td>\n",
       "      <td>0.0</td>\n",
       "      <td>0.0</td>\n",
       "      <td>2015-01-01</td>\n",
       "      <td>9</td>\n",
       "      <td>12</td>\n",
       "      <td>9.0</td>\n",
       "      <td>51.0</td>\n",
       "      <td>America/New_York</td>\n",
       "      <td>33.1</td>\n",
       "      <td>5.0</td>\n",
       "      <td>31.0</td>\n",
       "      <td>17.3</td>\n",
       "      <td>NaN</td>\n",
       "      <td>270.0</td>\n",
       "      <td>10.0</td>\n",
       "      <td>30.21</td>\n",
       "      <td>22.2</td>\n",
       "      <td>NaN</td>\n",
       "      <td>NaN</td>\n",
       "      <td>Scattered Clouds</td>\n",
       "      <td>0.0</td>\n",
       "      <td>0.0</td>\n",
       "      <td>0.0</td>\n",
       "      <td>0.0</td>\n",
       "      <td>0.0</td>\n",
       "      <td>0.0</td>\n",
       "      <td>2015-01-01</td>\n",
       "      <td>NY</td>\n",
       "      <td>JFK</td>\n",
       "      <td>12.0</td>\n",
       "      <td>53.0</td>\n",
       "      <td>America/Los_Angeles</td>\n",
       "      <td>55.0</td>\n",
       "      <td>35.1</td>\n",
       "      <td>47.0</td>\n",
       "      <td>4.6</td>\n",
       "      <td>NaN</td>\n",
       "      <td>0.0</td>\n",
       "      <td>10.0</td>\n",
       "      <td>30.12</td>\n",
       "      <td>NaN</td>\n",
       "      <td>NaN</td>\n",
       "      <td>NaN</td>\n",
       "      <td>Clear</td>\n",
       "      <td>0.0</td>\n",
       "      <td>0.0</td>\n",
       "      <td>0.0</td>\n",
       "      <td>0.0</td>\n",
       "      <td>0.0</td>\n",
       "      <td>0.0</td>\n",
       "      <td>2015-01-01</td>\n",
       "      <td>CA</td>\n",
       "      <td>LAX</td>\n",
       "      <td>2015</td>\n",
       "      <td>1</td>\n",
       "      <td>1</td>\n",
       "      <td>1</td>\n",
       "      <td>3</td>\n",
       "    </tr>\n",
       "    <tr>\n",
       "      <th>1</th>\n",
       "      <td>1</td>\n",
       "      <td>2015</td>\n",
       "      <td>1</td>\n",
       "      <td>1</td>\n",
       "      <td>2</td>\n",
       "      <td>5</td>\n",
       "      <td>2015-01-02</td>\n",
       "      <td>AA</td>\n",
       "      <td>19805</td>\n",
       "      <td>AA</td>\n",
       "      <td>N795AA</td>\n",
       "      <td>1</td>\n",
       "      <td>12478</td>\n",
       "      <td>1247802</td>\n",
       "      <td>31703</td>\n",
       "      <td>JFK</td>\n",
       "      <td>New York, NY</td>\n",
       "      <td>NY</td>\n",
       "      <td>36</td>\n",
       "      <td>New York</td>\n",
       "      <td>22</td>\n",
       "      <td>12892</td>\n",
       "      <td>1289203</td>\n",
       "      <td>32575</td>\n",
       "      <td>LAX</td>\n",
       "      <td>Los Angeles, CA</td>\n",
       "      <td>CA</td>\n",
       "      <td>6</td>\n",
       "      <td>California</td>\n",
       "      <td>91</td>\n",
       "      <td>900</td>\n",
       "      <td>850.0</td>\n",
       "      <td>-10.0</td>\n",
       "      <td>0.0</td>\n",
       "      <td>0.0</td>\n",
       "      <td>-1.0</td>\n",
       "      <td>0900-0959</td>\n",
       "      <td>15.0</td>\n",
       "      <td>905.0</td>\n",
       "      <td>1202.0</td>\n",
       "      <td>9.0</td>\n",
       "      <td>1230</td>\n",
       "      <td>1211.0</td>\n",
       "      <td>-19.0</td>\n",
       "      <td>0.0</td>\n",
       "      <td>0.0</td>\n",
       "      <td>-2.0</td>\n",
       "      <td>1200-1259</td>\n",
       "      <td>0.0</td>\n",
       "      <td>NaN</td>\n",
       "      <td>0.0</td>\n",
       "      <td>390.0</td>\n",
       "      <td>381.0</td>\n",
       "      <td>357.0</td>\n",
       "      <td>1.0</td>\n",
       "      <td>2475.0</td>\n",
       "      <td>10</td>\n",
       "      <td>NaN</td>\n",
       "      <td>NaN</td>\n",
       "      <td>NaN</td>\n",
       "      <td>NaN</td>\n",
       "      <td>NaN</td>\n",
       "      <td>NaN</td>\n",
       "      <td>NaN</td>\n",
       "      <td>NaN</td>\n",
       "      <td>0</td>\n",
       "      <td>NaN</td>\n",
       "      <td>37</td>\n",
       "      <td>-3.0</td>\n",
       "      <td>180.0</td>\n",
       "      <td>4.0</td>\n",
       "      <td>190.0</td>\n",
       "      <td>23.0</td>\n",
       "      <td>9.0</td>\n",
       "      <td>0.0</td>\n",
       "      <td>0.0</td>\n",
       "      <td>84</td>\n",
       "      <td>-4.0</td>\n",
       "      <td>180.0</td>\n",
       "      <td>-6.5</td>\n",
       "      <td>190.0</td>\n",
       "      <td>22.0</td>\n",
       "      <td>9.0</td>\n",
       "      <td>0.0</td>\n",
       "      <td>0.0</td>\n",
       "      <td>134</td>\n",
       "      <td>-4.0</td>\n",
       "      <td>180.0</td>\n",
       "      <td>-8.5</td>\n",
       "      <td>190.0</td>\n",
       "      <td>22.0</td>\n",
       "      <td>10.0</td>\n",
       "      <td>0.0</td>\n",
       "      <td>0.0</td>\n",
       "      <td>2015-01-02</td>\n",
       "      <td>9</td>\n",
       "      <td>12</td>\n",
       "      <td>9.0</td>\n",
       "      <td>51.0</td>\n",
       "      <td>America/New_York</td>\n",
       "      <td>41.0</td>\n",
       "      <td>18.0</td>\n",
       "      <td>40.0</td>\n",
       "      <td>20.7</td>\n",
       "      <td>NaN</td>\n",
       "      <td>260.0</td>\n",
       "      <td>10.0</td>\n",
       "      <td>30.24</td>\n",
       "      <td>31.6</td>\n",
       "      <td>NaN</td>\n",
       "      <td>NaN</td>\n",
       "      <td>Mostly Cloudy</td>\n",
       "      <td>0.0</td>\n",
       "      <td>0.0</td>\n",
       "      <td>0.0</td>\n",
       "      <td>0.0</td>\n",
       "      <td>0.0</td>\n",
       "      <td>0.0</td>\n",
       "      <td>2015-01-02</td>\n",
       "      <td>NY</td>\n",
       "      <td>JFK</td>\n",
       "      <td>12.0</td>\n",
       "      <td>53.0</td>\n",
       "      <td>America/Los_Angeles</td>\n",
       "      <td>55.0</td>\n",
       "      <td>42.1</td>\n",
       "      <td>62.0</td>\n",
       "      <td>6.9</td>\n",
       "      <td>NaN</td>\n",
       "      <td>260.0</td>\n",
       "      <td>10.0</td>\n",
       "      <td>30.09</td>\n",
       "      <td>NaN</td>\n",
       "      <td>NaN</td>\n",
       "      <td>NaN</td>\n",
       "      <td>Scattered Clouds</td>\n",
       "      <td>0.0</td>\n",
       "      <td>0.0</td>\n",
       "      <td>0.0</td>\n",
       "      <td>0.0</td>\n",
       "      <td>0.0</td>\n",
       "      <td>0.0</td>\n",
       "      <td>2015-01-02</td>\n",
       "      <td>CA</td>\n",
       "      <td>LAX</td>\n",
       "      <td>2015</td>\n",
       "      <td>1</td>\n",
       "      <td>1</td>\n",
       "      <td>2</td>\n",
       "      <td>4</td>\n",
       "    </tr>\n",
       "    <tr>\n",
       "      <th>2</th>\n",
       "      <td>2</td>\n",
       "      <td>2015</td>\n",
       "      <td>1</td>\n",
       "      <td>1</td>\n",
       "      <td>3</td>\n",
       "      <td>6</td>\n",
       "      <td>2015-01-03</td>\n",
       "      <td>AA</td>\n",
       "      <td>19805</td>\n",
       "      <td>AA</td>\n",
       "      <td>N788AA</td>\n",
       "      <td>1</td>\n",
       "      <td>12478</td>\n",
       "      <td>1247802</td>\n",
       "      <td>31703</td>\n",
       "      <td>JFK</td>\n",
       "      <td>New York, NY</td>\n",
       "      <td>NY</td>\n",
       "      <td>36</td>\n",
       "      <td>New York</td>\n",
       "      <td>22</td>\n",
       "      <td>12892</td>\n",
       "      <td>1289203</td>\n",
       "      <td>32575</td>\n",
       "      <td>LAX</td>\n",
       "      <td>Los Angeles, CA</td>\n",
       "      <td>CA</td>\n",
       "      <td>6</td>\n",
       "      <td>California</td>\n",
       "      <td>91</td>\n",
       "      <td>900</td>\n",
       "      <td>853.0</td>\n",
       "      <td>-7.0</td>\n",
       "      <td>0.0</td>\n",
       "      <td>0.0</td>\n",
       "      <td>-1.0</td>\n",
       "      <td>0900-0959</td>\n",
       "      <td>15.0</td>\n",
       "      <td>908.0</td>\n",
       "      <td>1138.0</td>\n",
       "      <td>13.0</td>\n",
       "      <td>1230</td>\n",
       "      <td>1151.0</td>\n",
       "      <td>-39.0</td>\n",
       "      <td>0.0</td>\n",
       "      <td>0.0</td>\n",
       "      <td>-2.0</td>\n",
       "      <td>1200-1259</td>\n",
       "      <td>0.0</td>\n",
       "      <td>NaN</td>\n",
       "      <td>0.0</td>\n",
       "      <td>390.0</td>\n",
       "      <td>358.0</td>\n",
       "      <td>330.0</td>\n",
       "      <td>1.0</td>\n",
       "      <td>2475.0</td>\n",
       "      <td>10</td>\n",
       "      <td>NaN</td>\n",
       "      <td>NaN</td>\n",
       "      <td>NaN</td>\n",
       "      <td>NaN</td>\n",
       "      <td>NaN</td>\n",
       "      <td>NaN</td>\n",
       "      <td>NaN</td>\n",
       "      <td>NaN</td>\n",
       "      <td>0</td>\n",
       "      <td>NaN</td>\n",
       "      <td>38</td>\n",
       "      <td>-3.5</td>\n",
       "      <td>180.0</td>\n",
       "      <td>5.5</td>\n",
       "      <td>190.0</td>\n",
       "      <td>23.0</td>\n",
       "      <td>9.0</td>\n",
       "      <td>0.0</td>\n",
       "      <td>0.0</td>\n",
       "      <td>84</td>\n",
       "      <td>-4.0</td>\n",
       "      <td>180.0</td>\n",
       "      <td>-5.0</td>\n",
       "      <td>190.0</td>\n",
       "      <td>22.0</td>\n",
       "      <td>9.0</td>\n",
       "      <td>0.0</td>\n",
       "      <td>0.0</td>\n",
       "      <td>134</td>\n",
       "      <td>-4.0</td>\n",
       "      <td>180.0</td>\n",
       "      <td>-9.5</td>\n",
       "      <td>190.0</td>\n",
       "      <td>22.0</td>\n",
       "      <td>10.0</td>\n",
       "      <td>0.0</td>\n",
       "      <td>0.0</td>\n",
       "      <td>2015-01-03</td>\n",
       "      <td>9</td>\n",
       "      <td>12</td>\n",
       "      <td>9.0</td>\n",
       "      <td>51.0</td>\n",
       "      <td>America/New_York</td>\n",
       "      <td>37.0</td>\n",
       "      <td>19.0</td>\n",
       "      <td>48.0</td>\n",
       "      <td>10.4</td>\n",
       "      <td>NaN</td>\n",
       "      <td>70.0</td>\n",
       "      <td>10.0</td>\n",
       "      <td>30.60</td>\n",
       "      <td>29.8</td>\n",
       "      <td>NaN</td>\n",
       "      <td>NaN</td>\n",
       "      <td>Mostly Cloudy</td>\n",
       "      <td>0.0</td>\n",
       "      <td>0.0</td>\n",
       "      <td>0.0</td>\n",
       "      <td>0.0</td>\n",
       "      <td>0.0</td>\n",
       "      <td>0.0</td>\n",
       "      <td>2015-01-03</td>\n",
       "      <td>NY</td>\n",
       "      <td>JFK</td>\n",
       "      <td>12.0</td>\n",
       "      <td>53.0</td>\n",
       "      <td>America/Los_Angeles</td>\n",
       "      <td>57.9</td>\n",
       "      <td>42.1</td>\n",
       "      <td>56.0</td>\n",
       "      <td>8.1</td>\n",
       "      <td>NaN</td>\n",
       "      <td>260.0</td>\n",
       "      <td>10.0</td>\n",
       "      <td>30.22</td>\n",
       "      <td>NaN</td>\n",
       "      <td>NaN</td>\n",
       "      <td>NaN</td>\n",
       "      <td>Scattered Clouds</td>\n",
       "      <td>0.0</td>\n",
       "      <td>0.0</td>\n",
       "      <td>0.0</td>\n",
       "      <td>0.0</td>\n",
       "      <td>0.0</td>\n",
       "      <td>0.0</td>\n",
       "      <td>2015-01-03</td>\n",
       "      <td>CA</td>\n",
       "      <td>LAX</td>\n",
       "      <td>2015</td>\n",
       "      <td>1</td>\n",
       "      <td>1</td>\n",
       "      <td>3</td>\n",
       "      <td>5</td>\n",
       "    </tr>\n",
       "    <tr>\n",
       "      <th>3</th>\n",
       "      <td>3</td>\n",
       "      <td>2015</td>\n",
       "      <td>1</td>\n",
       "      <td>1</td>\n",
       "      <td>4</td>\n",
       "      <td>7</td>\n",
       "      <td>2015-01-04</td>\n",
       "      <td>AA</td>\n",
       "      <td>19805</td>\n",
       "      <td>AA</td>\n",
       "      <td>N791AA</td>\n",
       "      <td>1</td>\n",
       "      <td>12478</td>\n",
       "      <td>1247802</td>\n",
       "      <td>31703</td>\n",
       "      <td>JFK</td>\n",
       "      <td>New York, NY</td>\n",
       "      <td>NY</td>\n",
       "      <td>36</td>\n",
       "      <td>New York</td>\n",
       "      <td>22</td>\n",
       "      <td>12892</td>\n",
       "      <td>1289203</td>\n",
       "      <td>32575</td>\n",
       "      <td>LAX</td>\n",
       "      <td>Los Angeles, CA</td>\n",
       "      <td>CA</td>\n",
       "      <td>6</td>\n",
       "      <td>California</td>\n",
       "      <td>91</td>\n",
       "      <td>900</td>\n",
       "      <td>853.0</td>\n",
       "      <td>-7.0</td>\n",
       "      <td>0.0</td>\n",
       "      <td>0.0</td>\n",
       "      <td>-1.0</td>\n",
       "      <td>0900-0959</td>\n",
       "      <td>14.0</td>\n",
       "      <td>907.0</td>\n",
       "      <td>1159.0</td>\n",
       "      <td>19.0</td>\n",
       "      <td>1230</td>\n",
       "      <td>1218.0</td>\n",
       "      <td>-12.0</td>\n",
       "      <td>0.0</td>\n",
       "      <td>0.0</td>\n",
       "      <td>-1.0</td>\n",
       "      <td>1200-1259</td>\n",
       "      <td>0.0</td>\n",
       "      <td>NaN</td>\n",
       "      <td>0.0</td>\n",
       "      <td>390.0</td>\n",
       "      <td>385.0</td>\n",
       "      <td>352.0</td>\n",
       "      <td>1.0</td>\n",
       "      <td>2475.0</td>\n",
       "      <td>10</td>\n",
       "      <td>NaN</td>\n",
       "      <td>NaN</td>\n",
       "      <td>NaN</td>\n",
       "      <td>NaN</td>\n",
       "      <td>NaN</td>\n",
       "      <td>NaN</td>\n",
       "      <td>NaN</td>\n",
       "      <td>NaN</td>\n",
       "      <td>0</td>\n",
       "      <td>NaN</td>\n",
       "      <td>40</td>\n",
       "      <td>-3.0</td>\n",
       "      <td>180.0</td>\n",
       "      <td>5.5</td>\n",
       "      <td>190.0</td>\n",
       "      <td>22.0</td>\n",
       "      <td>9.0</td>\n",
       "      <td>0.0</td>\n",
       "      <td>0.0</td>\n",
       "      <td>84</td>\n",
       "      <td>-3.5</td>\n",
       "      <td>180.0</td>\n",
       "      <td>-4.5</td>\n",
       "      <td>190.0</td>\n",
       "      <td>22.0</td>\n",
       "      <td>9.5</td>\n",
       "      <td>0.0</td>\n",
       "      <td>0.0</td>\n",
       "      <td>134</td>\n",
       "      <td>-4.0</td>\n",
       "      <td>180.0</td>\n",
       "      <td>-10.0</td>\n",
       "      <td>190.0</td>\n",
       "      <td>22.0</td>\n",
       "      <td>10.0</td>\n",
       "      <td>0.0</td>\n",
       "      <td>0.0</td>\n",
       "      <td>2015-01-04</td>\n",
       "      <td>9</td>\n",
       "      <td>12</td>\n",
       "      <td>9.0</td>\n",
       "      <td>51.0</td>\n",
       "      <td>America/New_York</td>\n",
       "      <td>46.9</td>\n",
       "      <td>45.0</td>\n",
       "      <td>93.0</td>\n",
       "      <td>11.5</td>\n",
       "      <td>NaN</td>\n",
       "      <td>200.0</td>\n",
       "      <td>10.0</td>\n",
       "      <td>29.91</td>\n",
       "      <td>NaN</td>\n",
       "      <td>NaN</td>\n",
       "      <td>0.0</td>\n",
       "      <td>Overcast</td>\n",
       "      <td>0.0</td>\n",
       "      <td>0.0</td>\n",
       "      <td>0.0</td>\n",
       "      <td>0.0</td>\n",
       "      <td>0.0</td>\n",
       "      <td>0.0</td>\n",
       "      <td>2015-01-04</td>\n",
       "      <td>NY</td>\n",
       "      <td>JFK</td>\n",
       "      <td>12.0</td>\n",
       "      <td>53.0</td>\n",
       "      <td>America/Los_Angeles</td>\n",
       "      <td>61.0</td>\n",
       "      <td>45.0</td>\n",
       "      <td>56.0</td>\n",
       "      <td>6.9</td>\n",
       "      <td>NaN</td>\n",
       "      <td>270.0</td>\n",
       "      <td>10.0</td>\n",
       "      <td>30.27</td>\n",
       "      <td>NaN</td>\n",
       "      <td>NaN</td>\n",
       "      <td>NaN</td>\n",
       "      <td>Scattered Clouds</td>\n",
       "      <td>0.0</td>\n",
       "      <td>0.0</td>\n",
       "      <td>0.0</td>\n",
       "      <td>0.0</td>\n",
       "      <td>0.0</td>\n",
       "      <td>0.0</td>\n",
       "      <td>2015-01-04</td>\n",
       "      <td>CA</td>\n",
       "      <td>LAX</td>\n",
       "      <td>2015</td>\n",
       "      <td>1</td>\n",
       "      <td>1</td>\n",
       "      <td>4</td>\n",
       "      <td>6</td>\n",
       "    </tr>\n",
       "    <tr>\n",
       "      <th>4</th>\n",
       "      <td>4</td>\n",
       "      <td>2015</td>\n",
       "      <td>1</td>\n",
       "      <td>1</td>\n",
       "      <td>5</td>\n",
       "      <td>1</td>\n",
       "      <td>2015-01-05</td>\n",
       "      <td>AA</td>\n",
       "      <td>19805</td>\n",
       "      <td>AA</td>\n",
       "      <td>N783AA</td>\n",
       "      <td>1</td>\n",
       "      <td>12478</td>\n",
       "      <td>1247802</td>\n",
       "      <td>31703</td>\n",
       "      <td>JFK</td>\n",
       "      <td>New York, NY</td>\n",
       "      <td>NY</td>\n",
       "      <td>36</td>\n",
       "      <td>New York</td>\n",
       "      <td>22</td>\n",
       "      <td>12892</td>\n",
       "      <td>1289203</td>\n",
       "      <td>32575</td>\n",
       "      <td>LAX</td>\n",
       "      <td>Los Angeles, CA</td>\n",
       "      <td>CA</td>\n",
       "      <td>6</td>\n",
       "      <td>California</td>\n",
       "      <td>91</td>\n",
       "      <td>900</td>\n",
       "      <td>853.0</td>\n",
       "      <td>-7.0</td>\n",
       "      <td>0.0</td>\n",
       "      <td>0.0</td>\n",
       "      <td>-1.0</td>\n",
       "      <td>0900-0959</td>\n",
       "      <td>27.0</td>\n",
       "      <td>920.0</td>\n",
       "      <td>1158.0</td>\n",
       "      <td>24.0</td>\n",
       "      <td>1230</td>\n",
       "      <td>1222.0</td>\n",
       "      <td>-8.0</td>\n",
       "      <td>0.0</td>\n",
       "      <td>0.0</td>\n",
       "      <td>-1.0</td>\n",
       "      <td>1200-1259</td>\n",
       "      <td>0.0</td>\n",
       "      <td>NaN</td>\n",
       "      <td>0.0</td>\n",
       "      <td>390.0</td>\n",
       "      <td>389.0</td>\n",
       "      <td>338.0</td>\n",
       "      <td>1.0</td>\n",
       "      <td>2475.0</td>\n",
       "      <td>10</td>\n",
       "      <td>NaN</td>\n",
       "      <td>NaN</td>\n",
       "      <td>NaN</td>\n",
       "      <td>NaN</td>\n",
       "      <td>NaN</td>\n",
       "      <td>NaN</td>\n",
       "      <td>NaN</td>\n",
       "      <td>NaN</td>\n",
       "      <td>0</td>\n",
       "      <td>NaN</td>\n",
       "      <td>42</td>\n",
       "      <td>-4.0</td>\n",
       "      <td>180.0</td>\n",
       "      <td>5.5</td>\n",
       "      <td>190.0</td>\n",
       "      <td>21.5</td>\n",
       "      <td>9.0</td>\n",
       "      <td>0.0</td>\n",
       "      <td>0.0</td>\n",
       "      <td>84</td>\n",
       "      <td>-3.5</td>\n",
       "      <td>180.0</td>\n",
       "      <td>-2.0</td>\n",
       "      <td>190.0</td>\n",
       "      <td>22.0</td>\n",
       "      <td>9.5</td>\n",
       "      <td>0.0</td>\n",
       "      <td>0.0</td>\n",
       "      <td>134</td>\n",
       "      <td>-4.0</td>\n",
       "      <td>180.0</td>\n",
       "      <td>-10.0</td>\n",
       "      <td>190.0</td>\n",
       "      <td>22.0</td>\n",
       "      <td>10.0</td>\n",
       "      <td>0.0</td>\n",
       "      <td>0.0</td>\n",
       "      <td>2015-01-05</td>\n",
       "      <td>9</td>\n",
       "      <td>12</td>\n",
       "      <td>9.0</td>\n",
       "      <td>51.0</td>\n",
       "      <td>America/New_York</td>\n",
       "      <td>39.9</td>\n",
       "      <td>16.0</td>\n",
       "      <td>38.0</td>\n",
       "      <td>25.3</td>\n",
       "      <td>34.5</td>\n",
       "      <td>270.0</td>\n",
       "      <td>10.0</td>\n",
       "      <td>30.11</td>\n",
       "      <td>29.2</td>\n",
       "      <td>NaN</td>\n",
       "      <td>NaN</td>\n",
       "      <td>Scattered Clouds</td>\n",
       "      <td>0.0</td>\n",
       "      <td>0.0</td>\n",
       "      <td>0.0</td>\n",
       "      <td>0.0</td>\n",
       "      <td>0.0</td>\n",
       "      <td>0.0</td>\n",
       "      <td>2015-01-05</td>\n",
       "      <td>NY</td>\n",
       "      <td>JFK</td>\n",
       "      <td>12.0</td>\n",
       "      <td>53.0</td>\n",
       "      <td>America/Los_Angeles</td>\n",
       "      <td>79.0</td>\n",
       "      <td>30.9</td>\n",
       "      <td>17.0</td>\n",
       "      <td>0.0</td>\n",
       "      <td>NaN</td>\n",
       "      <td>0.0</td>\n",
       "      <td>10.0</td>\n",
       "      <td>30.16</td>\n",
       "      <td>NaN</td>\n",
       "      <td>NaN</td>\n",
       "      <td>NaN</td>\n",
       "      <td>Scattered Clouds</td>\n",
       "      <td>0.0</td>\n",
       "      <td>0.0</td>\n",
       "      <td>0.0</td>\n",
       "      <td>0.0</td>\n",
       "      <td>0.0</td>\n",
       "      <td>0.0</td>\n",
       "      <td>2015-01-05</td>\n",
       "      <td>CA</td>\n",
       "      <td>LAX</td>\n",
       "      <td>2015</td>\n",
       "      <td>1</td>\n",
       "      <td>1</td>\n",
       "      <td>5</td>\n",
       "      <td>0</td>\n",
       "    </tr>\n",
       "  </tbody>\n",
       "</table>\n",
       "</div>"
      ],
      "text/plain": [
       "   Unnamed: 0  Year  Quarter  Month  DayofMonth  DayOfWeek  FlightDate  \\\n",
       "0           0  2015        1      1           1          4  2015-01-01   \n",
       "1           1  2015        1      1           2          5  2015-01-02   \n",
       "2           2  2015        1      1           3          6  2015-01-03   \n",
       "3           3  2015        1      1           4          7  2015-01-04   \n",
       "4           4  2015        1      1           5          1  2015-01-05   \n",
       "\n",
       "  UniqueCarrier  AirlineID Carrier TailNum  FlightNum  OriginAirportID  \\\n",
       "0            AA      19805      AA  N787AA          1            12478   \n",
       "1            AA      19805      AA  N795AA          1            12478   \n",
       "2            AA      19805      AA  N788AA          1            12478   \n",
       "3            AA      19805      AA  N791AA          1            12478   \n",
       "4            AA      19805      AA  N783AA          1            12478   \n",
       "\n",
       "   OriginAirportSeqID  OriginCityMarketID Origin OriginCityName OriginState  \\\n",
       "0             1247802               31703    JFK   New York, NY          NY   \n",
       "1             1247802               31703    JFK   New York, NY          NY   \n",
       "2             1247802               31703    JFK   New York, NY          NY   \n",
       "3             1247802               31703    JFK   New York, NY          NY   \n",
       "4             1247802               31703    JFK   New York, NY          NY   \n",
       "\n",
       "   OriginStateFips OriginStateName  OriginWac  DestAirportID  \\\n",
       "0               36        New York         22          12892   \n",
       "1               36        New York         22          12892   \n",
       "2               36        New York         22          12892   \n",
       "3               36        New York         22          12892   \n",
       "4               36        New York         22          12892   \n",
       "\n",
       "   DestAirportSeqID  DestCityMarketID Dest     DestCityName DestState  \\\n",
       "0           1289203             32575  LAX  Los Angeles, CA        CA   \n",
       "1           1289203             32575  LAX  Los Angeles, CA        CA   \n",
       "2           1289203             32575  LAX  Los Angeles, CA        CA   \n",
       "3           1289203             32575  LAX  Los Angeles, CA        CA   \n",
       "4           1289203             32575  LAX  Los Angeles, CA        CA   \n",
       "\n",
       "   DestStateFips DestStateName  DestWac  CRSDepTime  DepTime  DepDelay  \\\n",
       "0              6    California       91         900    855.0      -5.0   \n",
       "1              6    California       91         900    850.0     -10.0   \n",
       "2              6    California       91         900    853.0      -7.0   \n",
       "3              6    California       91         900    853.0      -7.0   \n",
       "4              6    California       91         900    853.0      -7.0   \n",
       "\n",
       "   DepDelayMinutes  DepDel15  DepartureDelayGroups DepTimeBlk  TaxiOut  \\\n",
       "0              0.0       0.0                  -1.0  0900-0959     17.0   \n",
       "1              0.0       0.0                  -1.0  0900-0959     15.0   \n",
       "2              0.0       0.0                  -1.0  0900-0959     15.0   \n",
       "3              0.0       0.0                  -1.0  0900-0959     14.0   \n",
       "4              0.0       0.0                  -1.0  0900-0959     27.0   \n",
       "\n",
       "   WheelsOff  WheelsOn  TaxiIn  CRSArrTime  ArrTime  ArrDelay  \\\n",
       "0      912.0    1230.0     7.0        1230   1237.0       7.0   \n",
       "1      905.0    1202.0     9.0        1230   1211.0     -19.0   \n",
       "2      908.0    1138.0    13.0        1230   1151.0     -39.0   \n",
       "3      907.0    1159.0    19.0        1230   1218.0     -12.0   \n",
       "4      920.0    1158.0    24.0        1230   1222.0      -8.0   \n",
       "\n",
       "   ArrDelayMinutes  ArrDel15  ArrivalDelayGroups ArrTimeBlk  Cancelled  \\\n",
       "0              7.0       0.0                 0.0  1200-1259        0.0   \n",
       "1              0.0       0.0                -2.0  1200-1259        0.0   \n",
       "2              0.0       0.0                -2.0  1200-1259        0.0   \n",
       "3              0.0       0.0                -1.0  1200-1259        0.0   \n",
       "4              0.0       0.0                -1.0  1200-1259        0.0   \n",
       "\n",
       "  CancellationCode  Diverted  CRSElapsedTime  ActualElapsedTime  AirTime  \\\n",
       "0              NaN       0.0           390.0              402.0    378.0   \n",
       "1              NaN       0.0           390.0              381.0    357.0   \n",
       "2              NaN       0.0           390.0              358.0    330.0   \n",
       "3              NaN       0.0           390.0              385.0    352.0   \n",
       "4              NaN       0.0           390.0              389.0    338.0   \n",
       "\n",
       "   Flights  Distance  DistanceGroup  CarrierDelay  WeatherDelay  NASDelay  \\\n",
       "0      1.0    2475.0             10           NaN           NaN       NaN   \n",
       "1      1.0    2475.0             10           NaN           NaN       NaN   \n",
       "2      1.0    2475.0             10           NaN           NaN       NaN   \n",
       "3      1.0    2475.0             10           NaN           NaN       NaN   \n",
       "4      1.0    2475.0             10           NaN           NaN       NaN   \n",
       "\n",
       "   SecurityDelay  LateAircraftDelay  FirstDepTime  TotalAddGTime  \\\n",
       "0            NaN                NaN           NaN            NaN   \n",
       "1            NaN                NaN           NaN            NaN   \n",
       "2            NaN                NaN           NaN            NaN   \n",
       "3            NaN                NaN           NaN            NaN   \n",
       "4            NaN                NaN           NaN            NaN   \n",
       "\n",
       "   LongestAddGTime  DivAirportLandings  DivReachedDest  Nflights_10  \\\n",
       "0              NaN                   0             NaN           37   \n",
       "1              NaN                   0             NaN           37   \n",
       "2              NaN                   0             NaN           38   \n",
       "3              NaN                   0             NaN           40   \n",
       "4              NaN                   0             NaN           42   \n",
       "\n",
       "   DepDelayMedian_10  DepDelayMax_10  ArrDelayMedian_10  ArrDelayMax_10  \\\n",
       "0               -3.0           180.0                1.0           190.0   \n",
       "1               -3.0           180.0                4.0           190.0   \n",
       "2               -3.5           180.0                5.5           190.0   \n",
       "3               -3.0           180.0                5.5           190.0   \n",
       "4               -4.0           180.0                5.5           190.0   \n",
       "\n",
       "   TaxiOutMedian_10  TaxiInMedian_10  Ncan_10  Ndiv_10  Nflights_20  \\\n",
       "0              24.0              9.0      0.0      0.0           85   \n",
       "1              23.0              9.0      0.0      0.0           84   \n",
       "2              23.0              9.0      0.0      0.0           84   \n",
       "3              22.0              9.0      0.0      0.0           84   \n",
       "4              21.5              9.0      0.0      0.0           84   \n",
       "\n",
       "   DepDelayMedian_20  DepDelayMax_20  ArrDelayMedian_20  ArrDelayMax_20  \\\n",
       "0               -4.0           180.0               -9.0           190.0   \n",
       "1               -4.0           180.0               -6.5           190.0   \n",
       "2               -4.0           180.0               -5.0           190.0   \n",
       "3               -3.5           180.0               -4.5           190.0   \n",
       "4               -3.5           180.0               -2.0           190.0   \n",
       "\n",
       "   TaxiOutMedian_20  TaxiInMedian_20  Ncan_20  Ndiv_20  Nflights_30  \\\n",
       "0              22.0             10.0      0.0      0.0          135   \n",
       "1              22.0              9.0      0.0      0.0          134   \n",
       "2              22.0              9.0      0.0      0.0          134   \n",
       "3              22.0              9.5      0.0      0.0          134   \n",
       "4              22.0              9.5      0.0      0.0          134   \n",
       "\n",
       "   DepDelayMedian_30  DepDelayMax_30  ArrDelayMedian_30  ArrDelayMax_30  \\\n",
       "0               -4.0           180.0               -8.0           190.0   \n",
       "1               -4.0           180.0               -8.5           190.0   \n",
       "2               -4.0           180.0               -9.5           190.0   \n",
       "3               -4.0           180.0              -10.0           190.0   \n",
       "4               -4.0           180.0              -10.0           190.0   \n",
       "\n",
       "   TaxiOutMedian_30  TaxiInMedian_30  Ncan_30  Ndiv_30 FlightDateAtDest  \\\n",
       "0              22.0             10.0      0.0      0.0       2015-01-01   \n",
       "1              22.0             10.0      0.0      0.0       2015-01-02   \n",
       "2              22.0             10.0      0.0      0.0       2015-01-03   \n",
       "3              22.0             10.0      0.0      0.0       2015-01-04   \n",
       "4              22.0             10.0      0.0      0.0       2015-01-05   \n",
       "\n",
       "   CRSDepHr  CRSArrHr  Hour_Origin  Minute_Origin   TimeZone_Origin  \\\n",
       "0         9        12          9.0           51.0  America/New_York   \n",
       "1         9        12          9.0           51.0  America/New_York   \n",
       "2         9        12          9.0           51.0  America/New_York   \n",
       "3         9        12          9.0           51.0  America/New_York   \n",
       "4         9        12          9.0           51.0  America/New_York   \n",
       "\n",
       "   Temperature_Origin  DewPoint_Origin  Humidity_Origin  WindSpeed_Origin  \\\n",
       "0                33.1              5.0             31.0              17.3   \n",
       "1                41.0             18.0             40.0              20.7   \n",
       "2                37.0             19.0             48.0              10.4   \n",
       "3                46.9             45.0             93.0              11.5   \n",
       "4                39.9             16.0             38.0              25.3   \n",
       "\n",
       "   WindGust_Origin  WindDirection_Origin  Visibility_Origin  Pressure_Origin  \\\n",
       "0              NaN                 270.0               10.0            30.21   \n",
       "1              NaN                 260.0               10.0            30.24   \n",
       "2              NaN                  70.0               10.0            30.60   \n",
       "3              NaN                 200.0               10.0            29.91   \n",
       "4             34.5                 270.0               10.0            30.11   \n",
       "\n",
       "   WindChill_Origin  HeatIndex_Origin  Precipitation_Origin  Condition_Origin  \\\n",
       "0              22.2               NaN                   NaN  Scattered Clouds   \n",
       "1              31.6               NaN                   NaN     Mostly Cloudy   \n",
       "2              29.8               NaN                   NaN     Mostly Cloudy   \n",
       "3               NaN               NaN                   0.0          Overcast   \n",
       "4              29.2               NaN                   NaN  Scattered Clouds   \n",
       "\n",
       "   Fog_Origin  Rain_Origin  Snow_Origin  Hail_Origin  Thunder_Origin  \\\n",
       "0         0.0          0.0          0.0          0.0             0.0   \n",
       "1         0.0          0.0          0.0          0.0             0.0   \n",
       "2         0.0          0.0          0.0          0.0             0.0   \n",
       "3         0.0          0.0          0.0          0.0             0.0   \n",
       "4         0.0          0.0          0.0          0.0             0.0   \n",
       "\n",
       "   Tornado_Origin Date_Origin State_Origin Airport_Origin  Hour_Dest  \\\n",
       "0             0.0  2015-01-01           NY            JFK       12.0   \n",
       "1             0.0  2015-01-02           NY            JFK       12.0   \n",
       "2             0.0  2015-01-03           NY            JFK       12.0   \n",
       "3             0.0  2015-01-04           NY            JFK       12.0   \n",
       "4             0.0  2015-01-05           NY            JFK       12.0   \n",
       "\n",
       "   Minute_Dest        TimeZone_Dest  Temperature_Dest  DewPoint_Dest  \\\n",
       "0         53.0  America/Los_Angeles              55.0           35.1   \n",
       "1         53.0  America/Los_Angeles              55.0           42.1   \n",
       "2         53.0  America/Los_Angeles              57.9           42.1   \n",
       "3         53.0  America/Los_Angeles              61.0           45.0   \n",
       "4         53.0  America/Los_Angeles              79.0           30.9   \n",
       "\n",
       "   Humidity_Dest  WindSpeed_Dest  WindGust_Dest  WindDirection_Dest  \\\n",
       "0           47.0             4.6            NaN                 0.0   \n",
       "1           62.0             6.9            NaN               260.0   \n",
       "2           56.0             8.1            NaN               260.0   \n",
       "3           56.0             6.9            NaN               270.0   \n",
       "4           17.0             0.0            NaN                 0.0   \n",
       "\n",
       "   Visibility_Dest  Pressure_Dest  WindChill_Dest  HeatIndex_Dest  \\\n",
       "0             10.0          30.12             NaN             NaN   \n",
       "1             10.0          30.09             NaN             NaN   \n",
       "2             10.0          30.22             NaN             NaN   \n",
       "3             10.0          30.27             NaN             NaN   \n",
       "4             10.0          30.16             NaN             NaN   \n",
       "\n",
       "   Precipitation_Dest    Condition_Dest  Fog_Dest  Rain_Dest  Snow_Dest  \\\n",
       "0                 NaN             Clear       0.0        0.0        0.0   \n",
       "1                 NaN  Scattered Clouds       0.0        0.0        0.0   \n",
       "2                 NaN  Scattered Clouds       0.0        0.0        0.0   \n",
       "3                 NaN  Scattered Clouds       0.0        0.0        0.0   \n",
       "4                 NaN  Scattered Clouds       0.0        0.0        0.0   \n",
       "\n",
       "   Hail_Dest  Thunder_Dest  Tornado_Dest   Date_Dest State_Dest Airport_Dest  \\\n",
       "0        0.0           0.0           0.0  2015-01-01         CA          LAX   \n",
       "1        0.0           0.0           0.0  2015-01-02         CA          LAX   \n",
       "2        0.0           0.0           0.0  2015-01-03         CA          LAX   \n",
       "3        0.0           0.0           0.0  2015-01-04         CA          LAX   \n",
       "4        0.0           0.0           0.0  2015-01-05         CA          LAX   \n",
       "\n",
       "   Year_Dest  Quarter_Dest  Month_Dest  DayOfMonth_Dest  DayOfWeek_Dest  \n",
       "0       2015             1           1                1               3  \n",
       "1       2015             1           1                2               4  \n",
       "2       2015             1           1                3               5  \n",
       "3       2015             1           1                4               6  \n",
       "4       2015             1           1                5               0  "
      ]
     },
     "execution_count": 6,
     "metadata": {},
     "output_type": "execute_result"
    }
   ],
   "source": [
    "df.head()"
   ]
  },
  {
   "cell_type": "code",
   "execution_count": 7,
   "metadata": {
    "collapsed": false
   },
   "outputs": [],
   "source": [
    "df.drop([\"Unnamed: 0\"], axis=1, inplace=True)"
   ]
  },
  {
   "cell_type": "code",
   "execution_count": 8,
   "metadata": {
    "collapsed": false
   },
   "outputs": [
    {
     "data": {
      "text/html": [
       "<div>\n",
       "<table border=\"1\" class=\"dataframe\">\n",
       "  <thead>\n",
       "    <tr style=\"text-align: right;\">\n",
       "      <th></th>\n",
       "      <th>Year</th>\n",
       "      <th>Quarter</th>\n",
       "      <th>Month</th>\n",
       "      <th>DayofMonth</th>\n",
       "      <th>DayOfWeek</th>\n",
       "      <th>FlightDate</th>\n",
       "      <th>UniqueCarrier</th>\n",
       "      <th>AirlineID</th>\n",
       "      <th>Carrier</th>\n",
       "      <th>TailNum</th>\n",
       "      <th>FlightNum</th>\n",
       "      <th>OriginAirportID</th>\n",
       "      <th>OriginAirportSeqID</th>\n",
       "      <th>OriginCityMarketID</th>\n",
       "      <th>Origin</th>\n",
       "      <th>OriginCityName</th>\n",
       "      <th>OriginState</th>\n",
       "      <th>OriginStateFips</th>\n",
       "      <th>OriginStateName</th>\n",
       "      <th>OriginWac</th>\n",
       "      <th>DestAirportID</th>\n",
       "      <th>DestAirportSeqID</th>\n",
       "      <th>DestCityMarketID</th>\n",
       "      <th>Dest</th>\n",
       "      <th>DestCityName</th>\n",
       "      <th>DestState</th>\n",
       "      <th>DestStateFips</th>\n",
       "      <th>DestStateName</th>\n",
       "      <th>DestWac</th>\n",
       "      <th>CRSDepTime</th>\n",
       "      <th>DepTime</th>\n",
       "      <th>DepDelay</th>\n",
       "      <th>DepDelayMinutes</th>\n",
       "      <th>DepDel15</th>\n",
       "      <th>DepartureDelayGroups</th>\n",
       "      <th>DepTimeBlk</th>\n",
       "      <th>TaxiOut</th>\n",
       "      <th>WheelsOff</th>\n",
       "      <th>WheelsOn</th>\n",
       "      <th>TaxiIn</th>\n",
       "      <th>CRSArrTime</th>\n",
       "      <th>ArrTime</th>\n",
       "      <th>ArrDelay</th>\n",
       "      <th>ArrDelayMinutes</th>\n",
       "      <th>ArrDel15</th>\n",
       "      <th>ArrivalDelayGroups</th>\n",
       "      <th>ArrTimeBlk</th>\n",
       "      <th>Cancelled</th>\n",
       "      <th>CancellationCode</th>\n",
       "      <th>Diverted</th>\n",
       "      <th>CRSElapsedTime</th>\n",
       "      <th>ActualElapsedTime</th>\n",
       "      <th>AirTime</th>\n",
       "      <th>Flights</th>\n",
       "      <th>Distance</th>\n",
       "      <th>DistanceGroup</th>\n",
       "      <th>CarrierDelay</th>\n",
       "      <th>WeatherDelay</th>\n",
       "      <th>NASDelay</th>\n",
       "      <th>SecurityDelay</th>\n",
       "      <th>LateAircraftDelay</th>\n",
       "      <th>FirstDepTime</th>\n",
       "      <th>TotalAddGTime</th>\n",
       "      <th>LongestAddGTime</th>\n",
       "      <th>DivAirportLandings</th>\n",
       "      <th>DivReachedDest</th>\n",
       "      <th>Nflights_10</th>\n",
       "      <th>DepDelayMedian_10</th>\n",
       "      <th>DepDelayMax_10</th>\n",
       "      <th>ArrDelayMedian_10</th>\n",
       "      <th>ArrDelayMax_10</th>\n",
       "      <th>TaxiOutMedian_10</th>\n",
       "      <th>TaxiInMedian_10</th>\n",
       "      <th>Ncan_10</th>\n",
       "      <th>Ndiv_10</th>\n",
       "      <th>Nflights_20</th>\n",
       "      <th>DepDelayMedian_20</th>\n",
       "      <th>DepDelayMax_20</th>\n",
       "      <th>ArrDelayMedian_20</th>\n",
       "      <th>ArrDelayMax_20</th>\n",
       "      <th>TaxiOutMedian_20</th>\n",
       "      <th>TaxiInMedian_20</th>\n",
       "      <th>Ncan_20</th>\n",
       "      <th>Ndiv_20</th>\n",
       "      <th>Nflights_30</th>\n",
       "      <th>DepDelayMedian_30</th>\n",
       "      <th>DepDelayMax_30</th>\n",
       "      <th>ArrDelayMedian_30</th>\n",
       "      <th>ArrDelayMax_30</th>\n",
       "      <th>TaxiOutMedian_30</th>\n",
       "      <th>TaxiInMedian_30</th>\n",
       "      <th>Ncan_30</th>\n",
       "      <th>Ndiv_30</th>\n",
       "      <th>FlightDateAtDest</th>\n",
       "      <th>CRSDepHr</th>\n",
       "      <th>CRSArrHr</th>\n",
       "      <th>Hour_Origin</th>\n",
       "      <th>Minute_Origin</th>\n",
       "      <th>TimeZone_Origin</th>\n",
       "      <th>Temperature_Origin</th>\n",
       "      <th>DewPoint_Origin</th>\n",
       "      <th>Humidity_Origin</th>\n",
       "      <th>WindSpeed_Origin</th>\n",
       "      <th>WindGust_Origin</th>\n",
       "      <th>WindDirection_Origin</th>\n",
       "      <th>Visibility_Origin</th>\n",
       "      <th>Pressure_Origin</th>\n",
       "      <th>WindChill_Origin</th>\n",
       "      <th>HeatIndex_Origin</th>\n",
       "      <th>Precipitation_Origin</th>\n",
       "      <th>Condition_Origin</th>\n",
       "      <th>Fog_Origin</th>\n",
       "      <th>Rain_Origin</th>\n",
       "      <th>Snow_Origin</th>\n",
       "      <th>Hail_Origin</th>\n",
       "      <th>Thunder_Origin</th>\n",
       "      <th>Tornado_Origin</th>\n",
       "      <th>Date_Origin</th>\n",
       "      <th>State_Origin</th>\n",
       "      <th>Airport_Origin</th>\n",
       "      <th>Hour_Dest</th>\n",
       "      <th>Minute_Dest</th>\n",
       "      <th>TimeZone_Dest</th>\n",
       "      <th>Temperature_Dest</th>\n",
       "      <th>DewPoint_Dest</th>\n",
       "      <th>Humidity_Dest</th>\n",
       "      <th>WindSpeed_Dest</th>\n",
       "      <th>WindGust_Dest</th>\n",
       "      <th>WindDirection_Dest</th>\n",
       "      <th>Visibility_Dest</th>\n",
       "      <th>Pressure_Dest</th>\n",
       "      <th>WindChill_Dest</th>\n",
       "      <th>HeatIndex_Dest</th>\n",
       "      <th>Precipitation_Dest</th>\n",
       "      <th>Condition_Dest</th>\n",
       "      <th>Fog_Dest</th>\n",
       "      <th>Rain_Dest</th>\n",
       "      <th>Snow_Dest</th>\n",
       "      <th>Hail_Dest</th>\n",
       "      <th>Thunder_Dest</th>\n",
       "      <th>Tornado_Dest</th>\n",
       "      <th>Date_Dest</th>\n",
       "      <th>State_Dest</th>\n",
       "      <th>Airport_Dest</th>\n",
       "      <th>Year_Dest</th>\n",
       "      <th>Quarter_Dest</th>\n",
       "      <th>Month_Dest</th>\n",
       "      <th>DayOfMonth_Dest</th>\n",
       "      <th>DayOfWeek_Dest</th>\n",
       "    </tr>\n",
       "  </thead>\n",
       "  <tbody>\n",
       "    <tr>\n",
       "      <th>0</th>\n",
       "      <td>2015</td>\n",
       "      <td>1</td>\n",
       "      <td>1</td>\n",
       "      <td>1</td>\n",
       "      <td>4</td>\n",
       "      <td>2015-01-01</td>\n",
       "      <td>AA</td>\n",
       "      <td>19805</td>\n",
       "      <td>AA</td>\n",
       "      <td>N787AA</td>\n",
       "      <td>1</td>\n",
       "      <td>12478</td>\n",
       "      <td>1247802</td>\n",
       "      <td>31703</td>\n",
       "      <td>JFK</td>\n",
       "      <td>New York, NY</td>\n",
       "      <td>NY</td>\n",
       "      <td>36</td>\n",
       "      <td>New York</td>\n",
       "      <td>22</td>\n",
       "      <td>12892</td>\n",
       "      <td>1289203</td>\n",
       "      <td>32575</td>\n",
       "      <td>LAX</td>\n",
       "      <td>Los Angeles, CA</td>\n",
       "      <td>CA</td>\n",
       "      <td>6</td>\n",
       "      <td>California</td>\n",
       "      <td>91</td>\n",
       "      <td>900</td>\n",
       "      <td>855.0</td>\n",
       "      <td>-5.0</td>\n",
       "      <td>0.0</td>\n",
       "      <td>0.0</td>\n",
       "      <td>-1.0</td>\n",
       "      <td>0900-0959</td>\n",
       "      <td>17.0</td>\n",
       "      <td>912.0</td>\n",
       "      <td>1230.0</td>\n",
       "      <td>7.0</td>\n",
       "      <td>1230</td>\n",
       "      <td>1237.0</td>\n",
       "      <td>7.0</td>\n",
       "      <td>7.0</td>\n",
       "      <td>0.0</td>\n",
       "      <td>0.0</td>\n",
       "      <td>1200-1259</td>\n",
       "      <td>0.0</td>\n",
       "      <td>NaN</td>\n",
       "      <td>0.0</td>\n",
       "      <td>390.0</td>\n",
       "      <td>402.0</td>\n",
       "      <td>378.0</td>\n",
       "      <td>1.0</td>\n",
       "      <td>2475.0</td>\n",
       "      <td>10</td>\n",
       "      <td>NaN</td>\n",
       "      <td>NaN</td>\n",
       "      <td>NaN</td>\n",
       "      <td>NaN</td>\n",
       "      <td>NaN</td>\n",
       "      <td>NaN</td>\n",
       "      <td>NaN</td>\n",
       "      <td>NaN</td>\n",
       "      <td>0</td>\n",
       "      <td>NaN</td>\n",
       "      <td>37</td>\n",
       "      <td>-3.0</td>\n",
       "      <td>180.0</td>\n",
       "      <td>1.0</td>\n",
       "      <td>190.0</td>\n",
       "      <td>24.0</td>\n",
       "      <td>9.0</td>\n",
       "      <td>0.0</td>\n",
       "      <td>0.0</td>\n",
       "      <td>85</td>\n",
       "      <td>-4.0</td>\n",
       "      <td>180.0</td>\n",
       "      <td>-9.0</td>\n",
       "      <td>190.0</td>\n",
       "      <td>22.0</td>\n",
       "      <td>10.0</td>\n",
       "      <td>0.0</td>\n",
       "      <td>0.0</td>\n",
       "      <td>135</td>\n",
       "      <td>-4.0</td>\n",
       "      <td>180.0</td>\n",
       "      <td>-8.0</td>\n",
       "      <td>190.0</td>\n",
       "      <td>22.0</td>\n",
       "      <td>10.0</td>\n",
       "      <td>0.0</td>\n",
       "      <td>0.0</td>\n",
       "      <td>2015-01-01</td>\n",
       "      <td>9</td>\n",
       "      <td>12</td>\n",
       "      <td>9.0</td>\n",
       "      <td>51.0</td>\n",
       "      <td>America/New_York</td>\n",
       "      <td>33.1</td>\n",
       "      <td>5.0</td>\n",
       "      <td>31.0</td>\n",
       "      <td>17.3</td>\n",
       "      <td>NaN</td>\n",
       "      <td>270.0</td>\n",
       "      <td>10.0</td>\n",
       "      <td>30.21</td>\n",
       "      <td>22.2</td>\n",
       "      <td>NaN</td>\n",
       "      <td>NaN</td>\n",
       "      <td>Scattered Clouds</td>\n",
       "      <td>0.0</td>\n",
       "      <td>0.0</td>\n",
       "      <td>0.0</td>\n",
       "      <td>0.0</td>\n",
       "      <td>0.0</td>\n",
       "      <td>0.0</td>\n",
       "      <td>2015-01-01</td>\n",
       "      <td>NY</td>\n",
       "      <td>JFK</td>\n",
       "      <td>12.0</td>\n",
       "      <td>53.0</td>\n",
       "      <td>America/Los_Angeles</td>\n",
       "      <td>55.0</td>\n",
       "      <td>35.1</td>\n",
       "      <td>47.0</td>\n",
       "      <td>4.6</td>\n",
       "      <td>NaN</td>\n",
       "      <td>0.0</td>\n",
       "      <td>10.0</td>\n",
       "      <td>30.12</td>\n",
       "      <td>NaN</td>\n",
       "      <td>NaN</td>\n",
       "      <td>NaN</td>\n",
       "      <td>Clear</td>\n",
       "      <td>0.0</td>\n",
       "      <td>0.0</td>\n",
       "      <td>0.0</td>\n",
       "      <td>0.0</td>\n",
       "      <td>0.0</td>\n",
       "      <td>0.0</td>\n",
       "      <td>2015-01-01</td>\n",
       "      <td>CA</td>\n",
       "      <td>LAX</td>\n",
       "      <td>2015</td>\n",
       "      <td>1</td>\n",
       "      <td>1</td>\n",
       "      <td>1</td>\n",
       "      <td>3</td>\n",
       "    </tr>\n",
       "    <tr>\n",
       "      <th>1</th>\n",
       "      <td>2015</td>\n",
       "      <td>1</td>\n",
       "      <td>1</td>\n",
       "      <td>2</td>\n",
       "      <td>5</td>\n",
       "      <td>2015-01-02</td>\n",
       "      <td>AA</td>\n",
       "      <td>19805</td>\n",
       "      <td>AA</td>\n",
       "      <td>N795AA</td>\n",
       "      <td>1</td>\n",
       "      <td>12478</td>\n",
       "      <td>1247802</td>\n",
       "      <td>31703</td>\n",
       "      <td>JFK</td>\n",
       "      <td>New York, NY</td>\n",
       "      <td>NY</td>\n",
       "      <td>36</td>\n",
       "      <td>New York</td>\n",
       "      <td>22</td>\n",
       "      <td>12892</td>\n",
       "      <td>1289203</td>\n",
       "      <td>32575</td>\n",
       "      <td>LAX</td>\n",
       "      <td>Los Angeles, CA</td>\n",
       "      <td>CA</td>\n",
       "      <td>6</td>\n",
       "      <td>California</td>\n",
       "      <td>91</td>\n",
       "      <td>900</td>\n",
       "      <td>850.0</td>\n",
       "      <td>-10.0</td>\n",
       "      <td>0.0</td>\n",
       "      <td>0.0</td>\n",
       "      <td>-1.0</td>\n",
       "      <td>0900-0959</td>\n",
       "      <td>15.0</td>\n",
       "      <td>905.0</td>\n",
       "      <td>1202.0</td>\n",
       "      <td>9.0</td>\n",
       "      <td>1230</td>\n",
       "      <td>1211.0</td>\n",
       "      <td>-19.0</td>\n",
       "      <td>0.0</td>\n",
       "      <td>0.0</td>\n",
       "      <td>-2.0</td>\n",
       "      <td>1200-1259</td>\n",
       "      <td>0.0</td>\n",
       "      <td>NaN</td>\n",
       "      <td>0.0</td>\n",
       "      <td>390.0</td>\n",
       "      <td>381.0</td>\n",
       "      <td>357.0</td>\n",
       "      <td>1.0</td>\n",
       "      <td>2475.0</td>\n",
       "      <td>10</td>\n",
       "      <td>NaN</td>\n",
       "      <td>NaN</td>\n",
       "      <td>NaN</td>\n",
       "      <td>NaN</td>\n",
       "      <td>NaN</td>\n",
       "      <td>NaN</td>\n",
       "      <td>NaN</td>\n",
       "      <td>NaN</td>\n",
       "      <td>0</td>\n",
       "      <td>NaN</td>\n",
       "      <td>37</td>\n",
       "      <td>-3.0</td>\n",
       "      <td>180.0</td>\n",
       "      <td>4.0</td>\n",
       "      <td>190.0</td>\n",
       "      <td>23.0</td>\n",
       "      <td>9.0</td>\n",
       "      <td>0.0</td>\n",
       "      <td>0.0</td>\n",
       "      <td>84</td>\n",
       "      <td>-4.0</td>\n",
       "      <td>180.0</td>\n",
       "      <td>-6.5</td>\n",
       "      <td>190.0</td>\n",
       "      <td>22.0</td>\n",
       "      <td>9.0</td>\n",
       "      <td>0.0</td>\n",
       "      <td>0.0</td>\n",
       "      <td>134</td>\n",
       "      <td>-4.0</td>\n",
       "      <td>180.0</td>\n",
       "      <td>-8.5</td>\n",
       "      <td>190.0</td>\n",
       "      <td>22.0</td>\n",
       "      <td>10.0</td>\n",
       "      <td>0.0</td>\n",
       "      <td>0.0</td>\n",
       "      <td>2015-01-02</td>\n",
       "      <td>9</td>\n",
       "      <td>12</td>\n",
       "      <td>9.0</td>\n",
       "      <td>51.0</td>\n",
       "      <td>America/New_York</td>\n",
       "      <td>41.0</td>\n",
       "      <td>18.0</td>\n",
       "      <td>40.0</td>\n",
       "      <td>20.7</td>\n",
       "      <td>NaN</td>\n",
       "      <td>260.0</td>\n",
       "      <td>10.0</td>\n",
       "      <td>30.24</td>\n",
       "      <td>31.6</td>\n",
       "      <td>NaN</td>\n",
       "      <td>NaN</td>\n",
       "      <td>Mostly Cloudy</td>\n",
       "      <td>0.0</td>\n",
       "      <td>0.0</td>\n",
       "      <td>0.0</td>\n",
       "      <td>0.0</td>\n",
       "      <td>0.0</td>\n",
       "      <td>0.0</td>\n",
       "      <td>2015-01-02</td>\n",
       "      <td>NY</td>\n",
       "      <td>JFK</td>\n",
       "      <td>12.0</td>\n",
       "      <td>53.0</td>\n",
       "      <td>America/Los_Angeles</td>\n",
       "      <td>55.0</td>\n",
       "      <td>42.1</td>\n",
       "      <td>62.0</td>\n",
       "      <td>6.9</td>\n",
       "      <td>NaN</td>\n",
       "      <td>260.0</td>\n",
       "      <td>10.0</td>\n",
       "      <td>30.09</td>\n",
       "      <td>NaN</td>\n",
       "      <td>NaN</td>\n",
       "      <td>NaN</td>\n",
       "      <td>Scattered Clouds</td>\n",
       "      <td>0.0</td>\n",
       "      <td>0.0</td>\n",
       "      <td>0.0</td>\n",
       "      <td>0.0</td>\n",
       "      <td>0.0</td>\n",
       "      <td>0.0</td>\n",
       "      <td>2015-01-02</td>\n",
       "      <td>CA</td>\n",
       "      <td>LAX</td>\n",
       "      <td>2015</td>\n",
       "      <td>1</td>\n",
       "      <td>1</td>\n",
       "      <td>2</td>\n",
       "      <td>4</td>\n",
       "    </tr>\n",
       "    <tr>\n",
       "      <th>2</th>\n",
       "      <td>2015</td>\n",
       "      <td>1</td>\n",
       "      <td>1</td>\n",
       "      <td>3</td>\n",
       "      <td>6</td>\n",
       "      <td>2015-01-03</td>\n",
       "      <td>AA</td>\n",
       "      <td>19805</td>\n",
       "      <td>AA</td>\n",
       "      <td>N788AA</td>\n",
       "      <td>1</td>\n",
       "      <td>12478</td>\n",
       "      <td>1247802</td>\n",
       "      <td>31703</td>\n",
       "      <td>JFK</td>\n",
       "      <td>New York, NY</td>\n",
       "      <td>NY</td>\n",
       "      <td>36</td>\n",
       "      <td>New York</td>\n",
       "      <td>22</td>\n",
       "      <td>12892</td>\n",
       "      <td>1289203</td>\n",
       "      <td>32575</td>\n",
       "      <td>LAX</td>\n",
       "      <td>Los Angeles, CA</td>\n",
       "      <td>CA</td>\n",
       "      <td>6</td>\n",
       "      <td>California</td>\n",
       "      <td>91</td>\n",
       "      <td>900</td>\n",
       "      <td>853.0</td>\n",
       "      <td>-7.0</td>\n",
       "      <td>0.0</td>\n",
       "      <td>0.0</td>\n",
       "      <td>-1.0</td>\n",
       "      <td>0900-0959</td>\n",
       "      <td>15.0</td>\n",
       "      <td>908.0</td>\n",
       "      <td>1138.0</td>\n",
       "      <td>13.0</td>\n",
       "      <td>1230</td>\n",
       "      <td>1151.0</td>\n",
       "      <td>-39.0</td>\n",
       "      <td>0.0</td>\n",
       "      <td>0.0</td>\n",
       "      <td>-2.0</td>\n",
       "      <td>1200-1259</td>\n",
       "      <td>0.0</td>\n",
       "      <td>NaN</td>\n",
       "      <td>0.0</td>\n",
       "      <td>390.0</td>\n",
       "      <td>358.0</td>\n",
       "      <td>330.0</td>\n",
       "      <td>1.0</td>\n",
       "      <td>2475.0</td>\n",
       "      <td>10</td>\n",
       "      <td>NaN</td>\n",
       "      <td>NaN</td>\n",
       "      <td>NaN</td>\n",
       "      <td>NaN</td>\n",
       "      <td>NaN</td>\n",
       "      <td>NaN</td>\n",
       "      <td>NaN</td>\n",
       "      <td>NaN</td>\n",
       "      <td>0</td>\n",
       "      <td>NaN</td>\n",
       "      <td>38</td>\n",
       "      <td>-3.5</td>\n",
       "      <td>180.0</td>\n",
       "      <td>5.5</td>\n",
       "      <td>190.0</td>\n",
       "      <td>23.0</td>\n",
       "      <td>9.0</td>\n",
       "      <td>0.0</td>\n",
       "      <td>0.0</td>\n",
       "      <td>84</td>\n",
       "      <td>-4.0</td>\n",
       "      <td>180.0</td>\n",
       "      <td>-5.0</td>\n",
       "      <td>190.0</td>\n",
       "      <td>22.0</td>\n",
       "      <td>9.0</td>\n",
       "      <td>0.0</td>\n",
       "      <td>0.0</td>\n",
       "      <td>134</td>\n",
       "      <td>-4.0</td>\n",
       "      <td>180.0</td>\n",
       "      <td>-9.5</td>\n",
       "      <td>190.0</td>\n",
       "      <td>22.0</td>\n",
       "      <td>10.0</td>\n",
       "      <td>0.0</td>\n",
       "      <td>0.0</td>\n",
       "      <td>2015-01-03</td>\n",
       "      <td>9</td>\n",
       "      <td>12</td>\n",
       "      <td>9.0</td>\n",
       "      <td>51.0</td>\n",
       "      <td>America/New_York</td>\n",
       "      <td>37.0</td>\n",
       "      <td>19.0</td>\n",
       "      <td>48.0</td>\n",
       "      <td>10.4</td>\n",
       "      <td>NaN</td>\n",
       "      <td>70.0</td>\n",
       "      <td>10.0</td>\n",
       "      <td>30.60</td>\n",
       "      <td>29.8</td>\n",
       "      <td>NaN</td>\n",
       "      <td>NaN</td>\n",
       "      <td>Mostly Cloudy</td>\n",
       "      <td>0.0</td>\n",
       "      <td>0.0</td>\n",
       "      <td>0.0</td>\n",
       "      <td>0.0</td>\n",
       "      <td>0.0</td>\n",
       "      <td>0.0</td>\n",
       "      <td>2015-01-03</td>\n",
       "      <td>NY</td>\n",
       "      <td>JFK</td>\n",
       "      <td>12.0</td>\n",
       "      <td>53.0</td>\n",
       "      <td>America/Los_Angeles</td>\n",
       "      <td>57.9</td>\n",
       "      <td>42.1</td>\n",
       "      <td>56.0</td>\n",
       "      <td>8.1</td>\n",
       "      <td>NaN</td>\n",
       "      <td>260.0</td>\n",
       "      <td>10.0</td>\n",
       "      <td>30.22</td>\n",
       "      <td>NaN</td>\n",
       "      <td>NaN</td>\n",
       "      <td>NaN</td>\n",
       "      <td>Scattered Clouds</td>\n",
       "      <td>0.0</td>\n",
       "      <td>0.0</td>\n",
       "      <td>0.0</td>\n",
       "      <td>0.0</td>\n",
       "      <td>0.0</td>\n",
       "      <td>0.0</td>\n",
       "      <td>2015-01-03</td>\n",
       "      <td>CA</td>\n",
       "      <td>LAX</td>\n",
       "      <td>2015</td>\n",
       "      <td>1</td>\n",
       "      <td>1</td>\n",
       "      <td>3</td>\n",
       "      <td>5</td>\n",
       "    </tr>\n",
       "    <tr>\n",
       "      <th>3</th>\n",
       "      <td>2015</td>\n",
       "      <td>1</td>\n",
       "      <td>1</td>\n",
       "      <td>4</td>\n",
       "      <td>7</td>\n",
       "      <td>2015-01-04</td>\n",
       "      <td>AA</td>\n",
       "      <td>19805</td>\n",
       "      <td>AA</td>\n",
       "      <td>N791AA</td>\n",
       "      <td>1</td>\n",
       "      <td>12478</td>\n",
       "      <td>1247802</td>\n",
       "      <td>31703</td>\n",
       "      <td>JFK</td>\n",
       "      <td>New York, NY</td>\n",
       "      <td>NY</td>\n",
       "      <td>36</td>\n",
       "      <td>New York</td>\n",
       "      <td>22</td>\n",
       "      <td>12892</td>\n",
       "      <td>1289203</td>\n",
       "      <td>32575</td>\n",
       "      <td>LAX</td>\n",
       "      <td>Los Angeles, CA</td>\n",
       "      <td>CA</td>\n",
       "      <td>6</td>\n",
       "      <td>California</td>\n",
       "      <td>91</td>\n",
       "      <td>900</td>\n",
       "      <td>853.0</td>\n",
       "      <td>-7.0</td>\n",
       "      <td>0.0</td>\n",
       "      <td>0.0</td>\n",
       "      <td>-1.0</td>\n",
       "      <td>0900-0959</td>\n",
       "      <td>14.0</td>\n",
       "      <td>907.0</td>\n",
       "      <td>1159.0</td>\n",
       "      <td>19.0</td>\n",
       "      <td>1230</td>\n",
       "      <td>1218.0</td>\n",
       "      <td>-12.0</td>\n",
       "      <td>0.0</td>\n",
       "      <td>0.0</td>\n",
       "      <td>-1.0</td>\n",
       "      <td>1200-1259</td>\n",
       "      <td>0.0</td>\n",
       "      <td>NaN</td>\n",
       "      <td>0.0</td>\n",
       "      <td>390.0</td>\n",
       "      <td>385.0</td>\n",
       "      <td>352.0</td>\n",
       "      <td>1.0</td>\n",
       "      <td>2475.0</td>\n",
       "      <td>10</td>\n",
       "      <td>NaN</td>\n",
       "      <td>NaN</td>\n",
       "      <td>NaN</td>\n",
       "      <td>NaN</td>\n",
       "      <td>NaN</td>\n",
       "      <td>NaN</td>\n",
       "      <td>NaN</td>\n",
       "      <td>NaN</td>\n",
       "      <td>0</td>\n",
       "      <td>NaN</td>\n",
       "      <td>40</td>\n",
       "      <td>-3.0</td>\n",
       "      <td>180.0</td>\n",
       "      <td>5.5</td>\n",
       "      <td>190.0</td>\n",
       "      <td>22.0</td>\n",
       "      <td>9.0</td>\n",
       "      <td>0.0</td>\n",
       "      <td>0.0</td>\n",
       "      <td>84</td>\n",
       "      <td>-3.5</td>\n",
       "      <td>180.0</td>\n",
       "      <td>-4.5</td>\n",
       "      <td>190.0</td>\n",
       "      <td>22.0</td>\n",
       "      <td>9.5</td>\n",
       "      <td>0.0</td>\n",
       "      <td>0.0</td>\n",
       "      <td>134</td>\n",
       "      <td>-4.0</td>\n",
       "      <td>180.0</td>\n",
       "      <td>-10.0</td>\n",
       "      <td>190.0</td>\n",
       "      <td>22.0</td>\n",
       "      <td>10.0</td>\n",
       "      <td>0.0</td>\n",
       "      <td>0.0</td>\n",
       "      <td>2015-01-04</td>\n",
       "      <td>9</td>\n",
       "      <td>12</td>\n",
       "      <td>9.0</td>\n",
       "      <td>51.0</td>\n",
       "      <td>America/New_York</td>\n",
       "      <td>46.9</td>\n",
       "      <td>45.0</td>\n",
       "      <td>93.0</td>\n",
       "      <td>11.5</td>\n",
       "      <td>NaN</td>\n",
       "      <td>200.0</td>\n",
       "      <td>10.0</td>\n",
       "      <td>29.91</td>\n",
       "      <td>NaN</td>\n",
       "      <td>NaN</td>\n",
       "      <td>0.0</td>\n",
       "      <td>Overcast</td>\n",
       "      <td>0.0</td>\n",
       "      <td>0.0</td>\n",
       "      <td>0.0</td>\n",
       "      <td>0.0</td>\n",
       "      <td>0.0</td>\n",
       "      <td>0.0</td>\n",
       "      <td>2015-01-04</td>\n",
       "      <td>NY</td>\n",
       "      <td>JFK</td>\n",
       "      <td>12.0</td>\n",
       "      <td>53.0</td>\n",
       "      <td>America/Los_Angeles</td>\n",
       "      <td>61.0</td>\n",
       "      <td>45.0</td>\n",
       "      <td>56.0</td>\n",
       "      <td>6.9</td>\n",
       "      <td>NaN</td>\n",
       "      <td>270.0</td>\n",
       "      <td>10.0</td>\n",
       "      <td>30.27</td>\n",
       "      <td>NaN</td>\n",
       "      <td>NaN</td>\n",
       "      <td>NaN</td>\n",
       "      <td>Scattered Clouds</td>\n",
       "      <td>0.0</td>\n",
       "      <td>0.0</td>\n",
       "      <td>0.0</td>\n",
       "      <td>0.0</td>\n",
       "      <td>0.0</td>\n",
       "      <td>0.0</td>\n",
       "      <td>2015-01-04</td>\n",
       "      <td>CA</td>\n",
       "      <td>LAX</td>\n",
       "      <td>2015</td>\n",
       "      <td>1</td>\n",
       "      <td>1</td>\n",
       "      <td>4</td>\n",
       "      <td>6</td>\n",
       "    </tr>\n",
       "    <tr>\n",
       "      <th>4</th>\n",
       "      <td>2015</td>\n",
       "      <td>1</td>\n",
       "      <td>1</td>\n",
       "      <td>5</td>\n",
       "      <td>1</td>\n",
       "      <td>2015-01-05</td>\n",
       "      <td>AA</td>\n",
       "      <td>19805</td>\n",
       "      <td>AA</td>\n",
       "      <td>N783AA</td>\n",
       "      <td>1</td>\n",
       "      <td>12478</td>\n",
       "      <td>1247802</td>\n",
       "      <td>31703</td>\n",
       "      <td>JFK</td>\n",
       "      <td>New York, NY</td>\n",
       "      <td>NY</td>\n",
       "      <td>36</td>\n",
       "      <td>New York</td>\n",
       "      <td>22</td>\n",
       "      <td>12892</td>\n",
       "      <td>1289203</td>\n",
       "      <td>32575</td>\n",
       "      <td>LAX</td>\n",
       "      <td>Los Angeles, CA</td>\n",
       "      <td>CA</td>\n",
       "      <td>6</td>\n",
       "      <td>California</td>\n",
       "      <td>91</td>\n",
       "      <td>900</td>\n",
       "      <td>853.0</td>\n",
       "      <td>-7.0</td>\n",
       "      <td>0.0</td>\n",
       "      <td>0.0</td>\n",
       "      <td>-1.0</td>\n",
       "      <td>0900-0959</td>\n",
       "      <td>27.0</td>\n",
       "      <td>920.0</td>\n",
       "      <td>1158.0</td>\n",
       "      <td>24.0</td>\n",
       "      <td>1230</td>\n",
       "      <td>1222.0</td>\n",
       "      <td>-8.0</td>\n",
       "      <td>0.0</td>\n",
       "      <td>0.0</td>\n",
       "      <td>-1.0</td>\n",
       "      <td>1200-1259</td>\n",
       "      <td>0.0</td>\n",
       "      <td>NaN</td>\n",
       "      <td>0.0</td>\n",
       "      <td>390.0</td>\n",
       "      <td>389.0</td>\n",
       "      <td>338.0</td>\n",
       "      <td>1.0</td>\n",
       "      <td>2475.0</td>\n",
       "      <td>10</td>\n",
       "      <td>NaN</td>\n",
       "      <td>NaN</td>\n",
       "      <td>NaN</td>\n",
       "      <td>NaN</td>\n",
       "      <td>NaN</td>\n",
       "      <td>NaN</td>\n",
       "      <td>NaN</td>\n",
       "      <td>NaN</td>\n",
       "      <td>0</td>\n",
       "      <td>NaN</td>\n",
       "      <td>42</td>\n",
       "      <td>-4.0</td>\n",
       "      <td>180.0</td>\n",
       "      <td>5.5</td>\n",
       "      <td>190.0</td>\n",
       "      <td>21.5</td>\n",
       "      <td>9.0</td>\n",
       "      <td>0.0</td>\n",
       "      <td>0.0</td>\n",
       "      <td>84</td>\n",
       "      <td>-3.5</td>\n",
       "      <td>180.0</td>\n",
       "      <td>-2.0</td>\n",
       "      <td>190.0</td>\n",
       "      <td>22.0</td>\n",
       "      <td>9.5</td>\n",
       "      <td>0.0</td>\n",
       "      <td>0.0</td>\n",
       "      <td>134</td>\n",
       "      <td>-4.0</td>\n",
       "      <td>180.0</td>\n",
       "      <td>-10.0</td>\n",
       "      <td>190.0</td>\n",
       "      <td>22.0</td>\n",
       "      <td>10.0</td>\n",
       "      <td>0.0</td>\n",
       "      <td>0.0</td>\n",
       "      <td>2015-01-05</td>\n",
       "      <td>9</td>\n",
       "      <td>12</td>\n",
       "      <td>9.0</td>\n",
       "      <td>51.0</td>\n",
       "      <td>America/New_York</td>\n",
       "      <td>39.9</td>\n",
       "      <td>16.0</td>\n",
       "      <td>38.0</td>\n",
       "      <td>25.3</td>\n",
       "      <td>34.5</td>\n",
       "      <td>270.0</td>\n",
       "      <td>10.0</td>\n",
       "      <td>30.11</td>\n",
       "      <td>29.2</td>\n",
       "      <td>NaN</td>\n",
       "      <td>NaN</td>\n",
       "      <td>Scattered Clouds</td>\n",
       "      <td>0.0</td>\n",
       "      <td>0.0</td>\n",
       "      <td>0.0</td>\n",
       "      <td>0.0</td>\n",
       "      <td>0.0</td>\n",
       "      <td>0.0</td>\n",
       "      <td>2015-01-05</td>\n",
       "      <td>NY</td>\n",
       "      <td>JFK</td>\n",
       "      <td>12.0</td>\n",
       "      <td>53.0</td>\n",
       "      <td>America/Los_Angeles</td>\n",
       "      <td>79.0</td>\n",
       "      <td>30.9</td>\n",
       "      <td>17.0</td>\n",
       "      <td>0.0</td>\n",
       "      <td>NaN</td>\n",
       "      <td>0.0</td>\n",
       "      <td>10.0</td>\n",
       "      <td>30.16</td>\n",
       "      <td>NaN</td>\n",
       "      <td>NaN</td>\n",
       "      <td>NaN</td>\n",
       "      <td>Scattered Clouds</td>\n",
       "      <td>0.0</td>\n",
       "      <td>0.0</td>\n",
       "      <td>0.0</td>\n",
       "      <td>0.0</td>\n",
       "      <td>0.0</td>\n",
       "      <td>0.0</td>\n",
       "      <td>2015-01-05</td>\n",
       "      <td>CA</td>\n",
       "      <td>LAX</td>\n",
       "      <td>2015</td>\n",
       "      <td>1</td>\n",
       "      <td>1</td>\n",
       "      <td>5</td>\n",
       "      <td>0</td>\n",
       "    </tr>\n",
       "  </tbody>\n",
       "</table>\n",
       "</div>"
      ],
      "text/plain": [
       "   Year  Quarter  Month  DayofMonth  DayOfWeek  FlightDate UniqueCarrier  \\\n",
       "0  2015        1      1           1          4  2015-01-01            AA   \n",
       "1  2015        1      1           2          5  2015-01-02            AA   \n",
       "2  2015        1      1           3          6  2015-01-03            AA   \n",
       "3  2015        1      1           4          7  2015-01-04            AA   \n",
       "4  2015        1      1           5          1  2015-01-05            AA   \n",
       "\n",
       "   AirlineID Carrier TailNum  FlightNum  OriginAirportID  OriginAirportSeqID  \\\n",
       "0      19805      AA  N787AA          1            12478             1247802   \n",
       "1      19805      AA  N795AA          1            12478             1247802   \n",
       "2      19805      AA  N788AA          1            12478             1247802   \n",
       "3      19805      AA  N791AA          1            12478             1247802   \n",
       "4      19805      AA  N783AA          1            12478             1247802   \n",
       "\n",
       "   OriginCityMarketID Origin OriginCityName OriginState  OriginStateFips  \\\n",
       "0               31703    JFK   New York, NY          NY               36   \n",
       "1               31703    JFK   New York, NY          NY               36   \n",
       "2               31703    JFK   New York, NY          NY               36   \n",
       "3               31703    JFK   New York, NY          NY               36   \n",
       "4               31703    JFK   New York, NY          NY               36   \n",
       "\n",
       "  OriginStateName  OriginWac  DestAirportID  DestAirportSeqID  \\\n",
       "0        New York         22          12892           1289203   \n",
       "1        New York         22          12892           1289203   \n",
       "2        New York         22          12892           1289203   \n",
       "3        New York         22          12892           1289203   \n",
       "4        New York         22          12892           1289203   \n",
       "\n",
       "   DestCityMarketID Dest     DestCityName DestState  DestStateFips  \\\n",
       "0             32575  LAX  Los Angeles, CA        CA              6   \n",
       "1             32575  LAX  Los Angeles, CA        CA              6   \n",
       "2             32575  LAX  Los Angeles, CA        CA              6   \n",
       "3             32575  LAX  Los Angeles, CA        CA              6   \n",
       "4             32575  LAX  Los Angeles, CA        CA              6   \n",
       "\n",
       "  DestStateName  DestWac  CRSDepTime  DepTime  DepDelay  DepDelayMinutes  \\\n",
       "0    California       91         900    855.0      -5.0              0.0   \n",
       "1    California       91         900    850.0     -10.0              0.0   \n",
       "2    California       91         900    853.0      -7.0              0.0   \n",
       "3    California       91         900    853.0      -7.0              0.0   \n",
       "4    California       91         900    853.0      -7.0              0.0   \n",
       "\n",
       "   DepDel15  DepartureDelayGroups DepTimeBlk  TaxiOut  WheelsOff  WheelsOn  \\\n",
       "0       0.0                  -1.0  0900-0959     17.0      912.0    1230.0   \n",
       "1       0.0                  -1.0  0900-0959     15.0      905.0    1202.0   \n",
       "2       0.0                  -1.0  0900-0959     15.0      908.0    1138.0   \n",
       "3       0.0                  -1.0  0900-0959     14.0      907.0    1159.0   \n",
       "4       0.0                  -1.0  0900-0959     27.0      920.0    1158.0   \n",
       "\n",
       "   TaxiIn  CRSArrTime  ArrTime  ArrDelay  ArrDelayMinutes  ArrDel15  \\\n",
       "0     7.0        1230   1237.0       7.0              7.0       0.0   \n",
       "1     9.0        1230   1211.0     -19.0              0.0       0.0   \n",
       "2    13.0        1230   1151.0     -39.0              0.0       0.0   \n",
       "3    19.0        1230   1218.0     -12.0              0.0       0.0   \n",
       "4    24.0        1230   1222.0      -8.0              0.0       0.0   \n",
       "\n",
       "   ArrivalDelayGroups ArrTimeBlk  Cancelled CancellationCode  Diverted  \\\n",
       "0                 0.0  1200-1259        0.0              NaN       0.0   \n",
       "1                -2.0  1200-1259        0.0              NaN       0.0   \n",
       "2                -2.0  1200-1259        0.0              NaN       0.0   \n",
       "3                -1.0  1200-1259        0.0              NaN       0.0   \n",
       "4                -1.0  1200-1259        0.0              NaN       0.0   \n",
       "\n",
       "   CRSElapsedTime  ActualElapsedTime  AirTime  Flights  Distance  \\\n",
       "0           390.0              402.0    378.0      1.0    2475.0   \n",
       "1           390.0              381.0    357.0      1.0    2475.0   \n",
       "2           390.0              358.0    330.0      1.0    2475.0   \n",
       "3           390.0              385.0    352.0      1.0    2475.0   \n",
       "4           390.0              389.0    338.0      1.0    2475.0   \n",
       "\n",
       "   DistanceGroup  CarrierDelay  WeatherDelay  NASDelay  SecurityDelay  \\\n",
       "0             10           NaN           NaN       NaN            NaN   \n",
       "1             10           NaN           NaN       NaN            NaN   \n",
       "2             10           NaN           NaN       NaN            NaN   \n",
       "3             10           NaN           NaN       NaN            NaN   \n",
       "4             10           NaN           NaN       NaN            NaN   \n",
       "\n",
       "   LateAircraftDelay  FirstDepTime  TotalAddGTime  LongestAddGTime  \\\n",
       "0                NaN           NaN            NaN              NaN   \n",
       "1                NaN           NaN            NaN              NaN   \n",
       "2                NaN           NaN            NaN              NaN   \n",
       "3                NaN           NaN            NaN              NaN   \n",
       "4                NaN           NaN            NaN              NaN   \n",
       "\n",
       "   DivAirportLandings  DivReachedDest  Nflights_10  DepDelayMedian_10  \\\n",
       "0                   0             NaN           37               -3.0   \n",
       "1                   0             NaN           37               -3.0   \n",
       "2                   0             NaN           38               -3.5   \n",
       "3                   0             NaN           40               -3.0   \n",
       "4                   0             NaN           42               -4.0   \n",
       "\n",
       "   DepDelayMax_10  ArrDelayMedian_10  ArrDelayMax_10  TaxiOutMedian_10  \\\n",
       "0           180.0                1.0           190.0              24.0   \n",
       "1           180.0                4.0           190.0              23.0   \n",
       "2           180.0                5.5           190.0              23.0   \n",
       "3           180.0                5.5           190.0              22.0   \n",
       "4           180.0                5.5           190.0              21.5   \n",
       "\n",
       "   TaxiInMedian_10  Ncan_10  Ndiv_10  Nflights_20  DepDelayMedian_20  \\\n",
       "0              9.0      0.0      0.0           85               -4.0   \n",
       "1              9.0      0.0      0.0           84               -4.0   \n",
       "2              9.0      0.0      0.0           84               -4.0   \n",
       "3              9.0      0.0      0.0           84               -3.5   \n",
       "4              9.0      0.0      0.0           84               -3.5   \n",
       "\n",
       "   DepDelayMax_20  ArrDelayMedian_20  ArrDelayMax_20  TaxiOutMedian_20  \\\n",
       "0           180.0               -9.0           190.0              22.0   \n",
       "1           180.0               -6.5           190.0              22.0   \n",
       "2           180.0               -5.0           190.0              22.0   \n",
       "3           180.0               -4.5           190.0              22.0   \n",
       "4           180.0               -2.0           190.0              22.0   \n",
       "\n",
       "   TaxiInMedian_20  Ncan_20  Ndiv_20  Nflights_30  DepDelayMedian_30  \\\n",
       "0             10.0      0.0      0.0          135               -4.0   \n",
       "1              9.0      0.0      0.0          134               -4.0   \n",
       "2              9.0      0.0      0.0          134               -4.0   \n",
       "3              9.5      0.0      0.0          134               -4.0   \n",
       "4              9.5      0.0      0.0          134               -4.0   \n",
       "\n",
       "   DepDelayMax_30  ArrDelayMedian_30  ArrDelayMax_30  TaxiOutMedian_30  \\\n",
       "0           180.0               -8.0           190.0              22.0   \n",
       "1           180.0               -8.5           190.0              22.0   \n",
       "2           180.0               -9.5           190.0              22.0   \n",
       "3           180.0              -10.0           190.0              22.0   \n",
       "4           180.0              -10.0           190.0              22.0   \n",
       "\n",
       "   TaxiInMedian_30  Ncan_30  Ndiv_30 FlightDateAtDest  CRSDepHr  CRSArrHr  \\\n",
       "0             10.0      0.0      0.0       2015-01-01         9        12   \n",
       "1             10.0      0.0      0.0       2015-01-02         9        12   \n",
       "2             10.0      0.0      0.0       2015-01-03         9        12   \n",
       "3             10.0      0.0      0.0       2015-01-04         9        12   \n",
       "4             10.0      0.0      0.0       2015-01-05         9        12   \n",
       "\n",
       "   Hour_Origin  Minute_Origin   TimeZone_Origin  Temperature_Origin  \\\n",
       "0          9.0           51.0  America/New_York                33.1   \n",
       "1          9.0           51.0  America/New_York                41.0   \n",
       "2          9.0           51.0  America/New_York                37.0   \n",
       "3          9.0           51.0  America/New_York                46.9   \n",
       "4          9.0           51.0  America/New_York                39.9   \n",
       "\n",
       "   DewPoint_Origin  Humidity_Origin  WindSpeed_Origin  WindGust_Origin  \\\n",
       "0              5.0             31.0              17.3              NaN   \n",
       "1             18.0             40.0              20.7              NaN   \n",
       "2             19.0             48.0              10.4              NaN   \n",
       "3             45.0             93.0              11.5              NaN   \n",
       "4             16.0             38.0              25.3             34.5   \n",
       "\n",
       "   WindDirection_Origin  Visibility_Origin  Pressure_Origin  WindChill_Origin  \\\n",
       "0                 270.0               10.0            30.21              22.2   \n",
       "1                 260.0               10.0            30.24              31.6   \n",
       "2                  70.0               10.0            30.60              29.8   \n",
       "3                 200.0               10.0            29.91               NaN   \n",
       "4                 270.0               10.0            30.11              29.2   \n",
       "\n",
       "   HeatIndex_Origin  Precipitation_Origin  Condition_Origin  Fog_Origin  \\\n",
       "0               NaN                   NaN  Scattered Clouds         0.0   \n",
       "1               NaN                   NaN     Mostly Cloudy         0.0   \n",
       "2               NaN                   NaN     Mostly Cloudy         0.0   \n",
       "3               NaN                   0.0          Overcast         0.0   \n",
       "4               NaN                   NaN  Scattered Clouds         0.0   \n",
       "\n",
       "   Rain_Origin  Snow_Origin  Hail_Origin  Thunder_Origin  Tornado_Origin  \\\n",
       "0          0.0          0.0          0.0             0.0             0.0   \n",
       "1          0.0          0.0          0.0             0.0             0.0   \n",
       "2          0.0          0.0          0.0             0.0             0.0   \n",
       "3          0.0          0.0          0.0             0.0             0.0   \n",
       "4          0.0          0.0          0.0             0.0             0.0   \n",
       "\n",
       "  Date_Origin State_Origin Airport_Origin  Hour_Dest  Minute_Dest  \\\n",
       "0  2015-01-01           NY            JFK       12.0         53.0   \n",
       "1  2015-01-02           NY            JFK       12.0         53.0   \n",
       "2  2015-01-03           NY            JFK       12.0         53.0   \n",
       "3  2015-01-04           NY            JFK       12.0         53.0   \n",
       "4  2015-01-05           NY            JFK       12.0         53.0   \n",
       "\n",
       "         TimeZone_Dest  Temperature_Dest  DewPoint_Dest  Humidity_Dest  \\\n",
       "0  America/Los_Angeles              55.0           35.1           47.0   \n",
       "1  America/Los_Angeles              55.0           42.1           62.0   \n",
       "2  America/Los_Angeles              57.9           42.1           56.0   \n",
       "3  America/Los_Angeles              61.0           45.0           56.0   \n",
       "4  America/Los_Angeles              79.0           30.9           17.0   \n",
       "\n",
       "   WindSpeed_Dest  WindGust_Dest  WindDirection_Dest  Visibility_Dest  \\\n",
       "0             4.6            NaN                 0.0             10.0   \n",
       "1             6.9            NaN               260.0             10.0   \n",
       "2             8.1            NaN               260.0             10.0   \n",
       "3             6.9            NaN               270.0             10.0   \n",
       "4             0.0            NaN                 0.0             10.0   \n",
       "\n",
       "   Pressure_Dest  WindChill_Dest  HeatIndex_Dest  Precipitation_Dest  \\\n",
       "0          30.12             NaN             NaN                 NaN   \n",
       "1          30.09             NaN             NaN                 NaN   \n",
       "2          30.22             NaN             NaN                 NaN   \n",
       "3          30.27             NaN             NaN                 NaN   \n",
       "4          30.16             NaN             NaN                 NaN   \n",
       "\n",
       "     Condition_Dest  Fog_Dest  Rain_Dest  Snow_Dest  Hail_Dest  Thunder_Dest  \\\n",
       "0             Clear       0.0        0.0        0.0        0.0           0.0   \n",
       "1  Scattered Clouds       0.0        0.0        0.0        0.0           0.0   \n",
       "2  Scattered Clouds       0.0        0.0        0.0        0.0           0.0   \n",
       "3  Scattered Clouds       0.0        0.0        0.0        0.0           0.0   \n",
       "4  Scattered Clouds       0.0        0.0        0.0        0.0           0.0   \n",
       "\n",
       "   Tornado_Dest   Date_Dest State_Dest Airport_Dest  Year_Dest  Quarter_Dest  \\\n",
       "0           0.0  2015-01-01         CA          LAX       2015             1   \n",
       "1           0.0  2015-01-02         CA          LAX       2015             1   \n",
       "2           0.0  2015-01-03         CA          LAX       2015             1   \n",
       "3           0.0  2015-01-04         CA          LAX       2015             1   \n",
       "4           0.0  2015-01-05         CA          LAX       2015             1   \n",
       "\n",
       "   Month_Dest  DayOfMonth_Dest  DayOfWeek_Dest  \n",
       "0           1                1               3  \n",
       "1           1                2               4  \n",
       "2           1                3               5  \n",
       "3           1                4               6  \n",
       "4           1                5               0  "
      ]
     },
     "execution_count": 8,
     "metadata": {},
     "output_type": "execute_result"
    }
   ],
   "source": [
    "df.head()"
   ]
  },
  {
   "cell_type": "code",
   "execution_count": 9,
   "metadata": {
    "collapsed": false
   },
   "outputs": [
    {
     "data": {
      "text/plain": [
       "(2857139, 149)"
      ]
     },
     "execution_count": 9,
     "metadata": {},
     "output_type": "execute_result"
    }
   ],
   "source": [
    "df.shape"
   ]
  },
  {
   "cell_type": "markdown",
   "metadata": {},
   "source": [
    "There were close to 2.8  million flights in 2015-2016 operating to-and-from the following selected 20 airports."
   ]
  },
  {
   "cell_type": "code",
   "execution_count": 10,
   "metadata": {
    "collapsed": false
   },
   "outputs": [
    {
     "data": {
      "text/html": [
       "<div>\n",
       "<table border=\"1\" class=\"dataframe\">\n",
       "  <thead>\n",
       "    <tr style=\"text-align: right;\">\n",
       "      <th></th>\n",
       "      <th>OriginCityName</th>\n",
       "    </tr>\n",
       "    <tr>\n",
       "      <th>Origin</th>\n",
       "      <th></th>\n",
       "    </tr>\n",
       "  </thead>\n",
       "  <tbody>\n",
       "    <tr>\n",
       "      <th>ATL</th>\n",
       "      <td>Atlanta, GA</td>\n",
       "    </tr>\n",
       "    <tr>\n",
       "      <th>BOS</th>\n",
       "      <td>Boston, MA</td>\n",
       "    </tr>\n",
       "    <tr>\n",
       "      <th>BWI</th>\n",
       "      <td>Baltimore, MD</td>\n",
       "    </tr>\n",
       "    <tr>\n",
       "      <th>CLT</th>\n",
       "      <td>Charlotte, NC</td>\n",
       "    </tr>\n",
       "    <tr>\n",
       "      <th>DEN</th>\n",
       "      <td>Denver, CO</td>\n",
       "    </tr>\n",
       "    <tr>\n",
       "      <th>DFW</th>\n",
       "      <td>Dallas/Fort Worth, TX</td>\n",
       "    </tr>\n",
       "    <tr>\n",
       "      <th>DTW</th>\n",
       "      <td>Detroit, MI</td>\n",
       "    </tr>\n",
       "    <tr>\n",
       "      <th>EWR</th>\n",
       "      <td>Newark, NJ</td>\n",
       "    </tr>\n",
       "    <tr>\n",
       "      <th>IAH</th>\n",
       "      <td>Houston, TX</td>\n",
       "    </tr>\n",
       "    <tr>\n",
       "      <th>JFK</th>\n",
       "      <td>New York, NY</td>\n",
       "    </tr>\n",
       "    <tr>\n",
       "      <th>LAS</th>\n",
       "      <td>Las Vegas, NV</td>\n",
       "    </tr>\n",
       "    <tr>\n",
       "      <th>LAX</th>\n",
       "      <td>Los Angeles, CA</td>\n",
       "    </tr>\n",
       "    <tr>\n",
       "      <th>LGA</th>\n",
       "      <td>New York, NY</td>\n",
       "    </tr>\n",
       "    <tr>\n",
       "      <th>MCO</th>\n",
       "      <td>Orlando, FL</td>\n",
       "    </tr>\n",
       "    <tr>\n",
       "      <th>MSP</th>\n",
       "      <td>Minneapolis, MN</td>\n",
       "    </tr>\n",
       "    <tr>\n",
       "      <th>ORD</th>\n",
       "      <td>Chicago, IL</td>\n",
       "    </tr>\n",
       "    <tr>\n",
       "      <th>PHX</th>\n",
       "      <td>Phoenix, AZ</td>\n",
       "    </tr>\n",
       "    <tr>\n",
       "      <th>SEA</th>\n",
       "      <td>Seattle, WA</td>\n",
       "    </tr>\n",
       "    <tr>\n",
       "      <th>SFO</th>\n",
       "      <td>San Francisco, CA</td>\n",
       "    </tr>\n",
       "    <tr>\n",
       "      <th>SLC</th>\n",
       "      <td>Salt Lake City, UT</td>\n",
       "    </tr>\n",
       "  </tbody>\n",
       "</table>\n",
       "</div>"
      ],
      "text/plain": [
       "               OriginCityName\n",
       "Origin                       \n",
       "ATL               Atlanta, GA\n",
       "BOS                Boston, MA\n",
       "BWI             Baltimore, MD\n",
       "CLT             Charlotte, NC\n",
       "DEN                Denver, CO\n",
       "DFW     Dallas/Fort Worth, TX\n",
       "DTW               Detroit, MI\n",
       "EWR                Newark, NJ\n",
       "IAH               Houston, TX\n",
       "JFK              New York, NY\n",
       "LAS             Las Vegas, NV\n",
       "LAX           Los Angeles, CA\n",
       "LGA              New York, NY\n",
       "MCO               Orlando, FL\n",
       "MSP           Minneapolis, MN\n",
       "ORD               Chicago, IL\n",
       "PHX               Phoenix, AZ\n",
       "SEA               Seattle, WA\n",
       "SFO         San Francisco, CA\n",
       "SLC        Salt Lake City, UT"
      ]
     },
     "execution_count": 10,
     "metadata": {},
     "output_type": "execute_result"
    }
   ],
   "source": [
    "df[[\"Origin\", \"OriginCityName\"]].drop_duplicates().sort_values(\"Origin\").set_index(\"Origin\")"
   ]
  },
  {
   "cell_type": "markdown",
   "metadata": {},
   "source": [
    "The justification for selecting these 20 airports is discussed in detail in data_acquisition_merging.ipynb notebook. In nutshell, we could get the weather data for only few airports due to weather API limitations. So, we selected top 20 airports that observe highest landings ans takeoffs in the US."
   ]
  },
  {
   "cell_type": "markdown",
   "metadata": {},
   "source": [
    "Discussing the data frame further, we have 149 columns. Let us first calculate the fraction of nulls (or missing values) in each column."
   ]
  },
  {
   "cell_type": "code",
   "execution_count": 11,
   "metadata": {
    "collapsed": false,
    "scrolled": true
   },
   "outputs": [
    {
     "data": {
      "text/plain": [
       "[('Year', 0.0),\n",
       " ('Quarter', 0.0),\n",
       " ('Month', 0.0),\n",
       " ('DayofMonth', 0.0),\n",
       " ('DayOfWeek', 0.0),\n",
       " ('FlightDate', 0.0),\n",
       " ('UniqueCarrier', 0.0),\n",
       " ('AirlineID', 0.0),\n",
       " ('Carrier', 0.0),\n",
       " ('FlightNum', 0.0),\n",
       " ('OriginAirportID', 0.0),\n",
       " ('OriginAirportSeqID', 0.0),\n",
       " ('OriginCityMarketID', 0.0),\n",
       " ('Origin', 0.0),\n",
       " ('OriginCityName', 0.0),\n",
       " ('OriginState', 0.0),\n",
       " ('OriginStateFips', 0.0),\n",
       " ('OriginStateName', 0.0),\n",
       " ('OriginWac', 0.0),\n",
       " ('DestAirportID', 0.0),\n",
       " ('DestAirportSeqID', 0.0),\n",
       " ('DestCityMarketID', 0.0),\n",
       " ('Dest', 0.0),\n",
       " ('DestCityName', 0.0),\n",
       " ('DestState', 0.0),\n",
       " ('DestStateFips', 0.0),\n",
       " ('DestStateName', 0.0),\n",
       " ('DestWac', 0.0),\n",
       " ('CRSDepTime', 0.0),\n",
       " ('DepTimeBlk', 0.0),\n",
       " ('CRSArrTime', 0.0),\n",
       " ('ArrTimeBlk', 0.0),\n",
       " ('Cancelled', 0.0),\n",
       " ('Diverted', 0.0),\n",
       " ('Flights', 0.0),\n",
       " ('Distance', 0.0),\n",
       " ('DistanceGroup', 0.0),\n",
       " ('DivAirportLandings', 0.0),\n",
       " ('Nflights_10', 0.0),\n",
       " ('Nflights_20', 0.0),\n",
       " ('Nflights_30', 0.0),\n",
       " ('FlightDateAtDest', 0.0),\n",
       " ('CRSDepHr', 0.0),\n",
       " ('CRSArrHr', 0.0),\n",
       " ('Year_Dest', 0.0),\n",
       " ('Quarter_Dest', 0.0),\n",
       " ('Month_Dest', 0.0),\n",
       " ('DayOfMonth_Dest', 0.0),\n",
       " ('DayOfWeek_Dest', 0.0),\n",
       " ('CRSElapsedTime', 1.0500014175019137e-06),\n",
       " ('Ncan_30', 0.00053620072387097718),\n",
       " ('Ndiv_30', 0.00053620072387097718),\n",
       " ('Ncan_20', 0.00061215082640361568),\n",
       " ('Ndiv_20', 0.00061215082640361568),\n",
       " ('Ncan_10', 0.00075250101587637144),\n",
       " ('Ndiv_10', 0.00075250101587637144),\n",
       " ('Hour_Origin', 0.0014199519169350878),\n",
       " ('Minute_Origin', 0.0014199519169350878),\n",
       " ('TimeZone_Origin', 0.0014199519169350878),\n",
       " ('WindDirection_Origin', 0.0014199519169350878),\n",
       " ('Condition_Origin', 0.0014199519169350878),\n",
       " ('Fog_Origin', 0.0014199519169350878),\n",
       " ('Rain_Origin', 0.0014199519169350878),\n",
       " ('Snow_Origin', 0.0014199519169350878),\n",
       " ('Hail_Origin', 0.0014199519169350878),\n",
       " ('Thunder_Origin', 0.0014199519169350878),\n",
       " ('Tornado_Origin', 0.0014199519169350878),\n",
       " ('Date_Origin', 0.0014199519169350878),\n",
       " ('State_Origin', 0.0014199519169350878),\n",
       " ('Airport_Origin', 0.0014199519169350878),\n",
       " ('DewPoint_Origin', 0.0014899520114352155),\n",
       " ('Temperature_Origin', 0.0015025520284452384),\n",
       " ('Humidity_Origin', 0.0015130520426202576),\n",
       " ('Visibility_Origin', 0.0015389520775853048),\n",
       " ('Pressure_Origin', 0.0015676521163303571),\n",
       " ('WindSpeed_Origin', 0.001787102412588257),\n",
       " ('Hour_Dest', 0.0021336028803638886),\n",
       " ('Minute_Dest', 0.0021336028803638886),\n",
       " ('TimeZone_Dest', 0.0021336028803638886),\n",
       " ('WindDirection_Dest', 0.0021336028803638886),\n",
       " ('Condition_Dest', 0.0021336028803638886),\n",
       " ('Fog_Dest', 0.0021336028803638886),\n",
       " ('Rain_Dest', 0.0021336028803638886),\n",
       " ('Snow_Dest', 0.0021336028803638886),\n",
       " ('Hail_Dest', 0.0021336028803638886),\n",
       " ('Thunder_Dest', 0.0021336028803638886),\n",
       " ('Tornado_Dest', 0.0021336028803638886),\n",
       " ('Date_Dest', 0.0021336028803638886),\n",
       " ('State_Dest', 0.0021336028803638886),\n",
       " ('Airport_Dest', 0.0021336028803638886),\n",
       " ('DewPoint_Dest', 0.0021812029446239751),\n",
       " ('Temperature_Dest', 0.002206752979116522),\n",
       " ('Humidity_Dest', 0.002210252983841528),\n",
       " ('Visibility_Dest', 0.002227053006521559),\n",
       " ('Pressure_Dest', 0.0022795530773966543),\n",
       " ('DepDelayMedian_30', 0.0024027532437168788),\n",
       " ('DepDelayMax_30', 0.0024027532437168788),\n",
       " ('TaxiOutMedian_30', 0.0024034532446618804),\n",
       " ('TaxiInMedian_30', 0.0024034532446618804),\n",
       " ('ArrDelayMedian_30', 0.002405553247496884),\n",
       " ('ArrDelayMax_30', 0.002405553247496884),\n",
       " ('WindSpeed_Dest', 0.0024832533523920257),\n",
       " ('DepDelayMedian_20', 0.0028591538598577108),\n",
       " ('DepDelayMax_20', 0.0028591538598577108),\n",
       " ('TaxiOutMedian_20', 0.0028612538626927148),\n",
       " ('TaxiInMedian_20', 0.0028616038631652154),\n",
       " ('ArrDelayMedian_20', 0.0028658038688352231),\n",
       " ('ArrDelayMax_20', 0.0028658038688352231),\n",
       " ('DepDelayMedian_10', 0.0036137548785690862),\n",
       " ('DepDelayMax_10', 0.0036137548785690862),\n",
       " ('TaxiOutMedian_10', 0.0036172548832940923),\n",
       " ('TaxiInMedian_10', 0.0036179548842390939),\n",
       " ('ArrDelayMedian_10', 0.0036305549012491168),\n",
       " ('ArrDelayMax_10', 0.0036305549012491168),\n",
       " ('TailNum', 0.0039067052740521203),\n",
       " ('DepTime', 0.011027114886605098),\n",
       " ('DepDelay', 0.011027114886605098),\n",
       " ('DepDelayMinutes', 0.011027114886605098),\n",
       " ('DepDel15', 0.011027114886605098),\n",
       " ('DepartureDelayGroups', 0.011027114886605098),\n",
       " ('TaxiOut', 0.01143976544368335),\n",
       " ('WheelsOff', 0.01143976544368335),\n",
       " ('WheelsOn', 0.011732715839166383),\n",
       " ('TaxiIn', 0.011732715839166383),\n",
       " ('ArrTime', 0.011732715839166383),\n",
       " ('ArrDelay', 0.013836218678895217),\n",
       " ('ArrDelayMinutes', 0.013836218678895217),\n",
       " ('ArrDel15', 0.013836218678895217),\n",
       " ('ArrivalDelayGroups', 0.013836218678895217),\n",
       " ('ActualElapsedTime', 0.013836218678895217),\n",
       " ('AirTime', 0.013836218678895217),\n",
       " ('CarrierDelay', 0.8048789365865644),\n",
       " ('WeatherDelay', 0.8048789365865644),\n",
       " ('NASDelay', 0.8048789365865644),\n",
       " ('SecurityDelay', 0.8048789365865644),\n",
       " ('LateAircraftDelay', 0.8048789365865644),\n",
       " ('WindChill_Origin', 0.83231547362588942),\n",
       " ('WindChill_Dest', 0.83680037968051257),\n",
       " ('WindGust_Origin', 0.86548256840146731),\n",
       " ('WindGust_Dest', 0.86633971955862143),\n",
       " ('HeatIndex_Dest', 0.87087117567608718),\n",
       " ('HeatIndex_Origin', 0.87232997764546982),\n",
       " ('Precipitation_Origin', 0.89871476326493038),\n",
       " ('Precipitation_Dest', 0.89892686355126583),\n",
       " ('CancellationCode', 0.98851333449300161),\n",
       " ('FirstDepTime', 0.99279594027451934),\n",
       " ('TotalAddGTime', 0.99279594027451934),\n",
       " ('LongestAddGTime', 0.99279594027451934),\n",
       " ('DivReachedDest', 0.99765044682810322)]"
      ]
     },
     "execution_count": 11,
     "metadata": {},
     "output_type": "execute_result"
    }
   ],
   "source": [
    "frac_nulls = {col: (sum(df[col].isnull())/len(df)) for col in df.columns}\n",
    "frac_nulls = sorted(frac_nulls.items(), key = operator.itemgetter(1))\n",
    "frac_nulls"
   ]
  },
  {
   "cell_type": "markdown",
   "metadata": {},
   "source": [
    "Details about each column can be found [here](https://www.transtats.bts.gov/Fields.asp?Table_ID=236) and [here](https://www.wunderground.com/weather/api/d/docs?d=resources/phrase-glossary) and some in /springboard-datascience-intensive/capstone_project/DataAcquisitionMerging/history_calc.ipynb. The column ***<font color='green' size=3>\"Cancelled\"</font>*** has no missing value which is great. ***<font color='green' size=3>Note that the text used in green is used throughout this notebook to indicate that this variable can be a good candidate for the machine learning model</font>***. The \"Cancelled\" column has two values: 1 for canceled flights and 0 for not-canceled flights. What is the fraction of those 1.4+ million flights (at 20 airports) that got canceled in the year 2015? "
   ]
  },
  {
   "cell_type": "code",
   "execution_count": 12,
   "metadata": {
    "collapsed": false
   },
   "outputs": [
    {
     "name": "stdout",
     "output_type": "stream",
     "text": [
      "1.1486665507 % of the total flights were cancelled in the years 2015-2016 at top 20 airports in the US.\n"
     ]
    }
   ],
   "source": [
    "print(100*sum(df.Cancelled == 1)/len(df), \"% of the total flights were cancelled in the years 2015-2016 at top 20 airports in the US.\")"
   ]
  },
  {
   "cell_type": "markdown",
   "metadata": {},
   "source": [
    "This does not seem like a large number but such rare events cause a lot of troubles to passengers, and cost lot of money to airline industries. So, it is very important to predict the likelihood of even such rare events. Let us visualize the total number of flight cancellations on a daily basis."
   ]
  },
  {
   "cell_type": "code",
   "execution_count": 13,
   "metadata": {
    "collapsed": true
   },
   "outputs": [],
   "source": [
    "df[\"FlightDate\"] = pd.to_datetime(df[\"FlightDate\"])"
   ]
  },
  {
   "cell_type": "code",
   "execution_count": 14,
   "metadata": {
    "collapsed": true
   },
   "outputs": [],
   "source": [
    "def hide_topright(ax):\n",
    "    # Hide the right and top spines\n",
    "    ax.spines['right'].set_visible(False)\n",
    "    ax.spines['top'].set_visible(False)\n",
    "\n",
    "    # Only show ticks on the left and bottom spines\n",
    "    ax.yaxis.set_ticks_position('left')\n",
    "    ax.xaxis.set_ticks_position('bottom')"
   ]
  },
  {
   "cell_type": "code",
   "execution_count": 15,
   "metadata": {
    "collapsed": false
   },
   "outputs": [
    {
     "data": {
      "text/plain": [
       "<matplotlib.text.Text at 0x11f268dd8>"
      ]
     },
     "execution_count": 15,
     "metadata": {},
     "output_type": "execute_result"
    },
    {
     "data": {
      "image/png": "[encoded data removed]",
      "text/plain": [
       "<matplotlib.figure.Figure at 0x11ec4e080>"
      ]
     },
     "metadata": {},
     "output_type": "display_data"
    }
   ],
   "source": [
    "fig, ax = plt.subplots(figsize=(20,8))\n",
    "d = df.groupby([\"FlightDate\"])[\"Cancelled\"].sum()\n",
    "ax.fill_between(d.index, d.values, np.min(d.values), \n",
    "                facecolor=(78/255.0, 29/255.0, 211/255.0), linewidth =0.5)\n",
    "ax.annotate('East coast blizzard, Jan 27, 2015', xy=('2015-01-27', 1020), xytext=('2015-02-05', 1050), size=18,\n",
    "           arrowprops=dict(facecolor='black', shrink=0.05),\n",
    "            )\n",
    "ax.annotate('North east snow storm, Feb 02, 2015', xy=('2015-02-02', 720), xytext=('2015-02-15', 850), size=18,\n",
    "           arrowprops=dict(facecolor='black', shrink=0.05),\n",
    "            )\n",
    "plt.title(\"Highest cancellations occur when winter storms struck\", size=24)\n",
    "hide_topright(ax)\n",
    "plt.gca().invert_yaxis()\n",
    "plt.xlim(('2015-01-01', '2016-12-31'))\n",
    "plt.ylabel(\"Number of cancellations\")"
   ]
  },
  {
   "cell_type": "markdown",
   "metadata": {},
   "source": [
    "Flight cancellations are mainly caused by bad weather as depicted above. For example, two major snow storms in January-Feberuary 2015 in east coase and north east led to cancelling thousands of flights. Here we do not have such big number as the data contains only 20 airports. However, we do see a trend. A similar spike is seen in January-February 2016 too. There are some cancellation activities in the middle of June-July too. Otherwise, except end of January to middle of March, and also end of December, the cancellation rates are quite low."
   ]
  },
  {
   "cell_type": "markdown",
   "metadata": {},
   "source": [
    "Before proceeding further to explore the relationships between cancellation rate and all other variables, let us first understand and then fix and/or remove (if needed) columns with missing values. This would help us in figuring out which columns to keep or not in our analysis and modeling. As we saw above the frac_nulls array, there are some columns that do not have any missing values and there are some that contains different fractions of null values. Lets first go through the columns that have missing values. After fixing/removing such columns, we will then focus on all the columns that do not have any missing values. \n",
    "\n",
    "\n",
    "### Addressing columns with missing values\n",
    "\n",
    "#### CRSElapsedTime: \n",
    "This is the flight elapsed time generated from the computerized reservation system (CRS). This elapsed time also includes the time-zone difference. When do we get null values for this column?"
   ]
  },
  {
   "cell_type": "code",
   "execution_count": 16,
   "metadata": {
    "collapsed": false
   },
   "outputs": [
    {
     "data": {
      "text/html": [
       "<div>\n",
       "<table border=\"1\" class=\"dataframe\">\n",
       "  <thead>\n",
       "    <tr style=\"text-align: right;\">\n",
       "      <th></th>\n",
       "      <th>Year</th>\n",
       "      <th>Quarter</th>\n",
       "      <th>Month</th>\n",
       "      <th>DayofMonth</th>\n",
       "      <th>DayOfWeek</th>\n",
       "      <th>FlightDate</th>\n",
       "      <th>UniqueCarrier</th>\n",
       "      <th>AirlineID</th>\n",
       "      <th>Carrier</th>\n",
       "      <th>TailNum</th>\n",
       "      <th>FlightNum</th>\n",
       "      <th>OriginAirportID</th>\n",
       "      <th>OriginAirportSeqID</th>\n",
       "      <th>OriginCityMarketID</th>\n",
       "      <th>Origin</th>\n",
       "      <th>OriginCityName</th>\n",
       "      <th>OriginState</th>\n",
       "      <th>OriginStateFips</th>\n",
       "      <th>OriginStateName</th>\n",
       "      <th>OriginWac</th>\n",
       "      <th>DestAirportID</th>\n",
       "      <th>DestAirportSeqID</th>\n",
       "      <th>DestCityMarketID</th>\n",
       "      <th>Dest</th>\n",
       "      <th>DestCityName</th>\n",
       "      <th>DestState</th>\n",
       "      <th>DestStateFips</th>\n",
       "      <th>DestStateName</th>\n",
       "      <th>DestWac</th>\n",
       "      <th>CRSDepTime</th>\n",
       "      <th>DepTime</th>\n",
       "      <th>DepDelay</th>\n",
       "      <th>DepDelayMinutes</th>\n",
       "      <th>DepDel15</th>\n",
       "      <th>DepartureDelayGroups</th>\n",
       "      <th>DepTimeBlk</th>\n",
       "      <th>TaxiOut</th>\n",
       "      <th>WheelsOff</th>\n",
       "      <th>WheelsOn</th>\n",
       "      <th>TaxiIn</th>\n",
       "      <th>CRSArrTime</th>\n",
       "      <th>ArrTime</th>\n",
       "      <th>ArrDelay</th>\n",
       "      <th>ArrDelayMinutes</th>\n",
       "      <th>ArrDel15</th>\n",
       "      <th>ArrivalDelayGroups</th>\n",
       "      <th>ArrTimeBlk</th>\n",
       "      <th>Cancelled</th>\n",
       "      <th>CancellationCode</th>\n",
       "      <th>Diverted</th>\n",
       "      <th>CRSElapsedTime</th>\n",
       "      <th>ActualElapsedTime</th>\n",
       "      <th>AirTime</th>\n",
       "      <th>Flights</th>\n",
       "      <th>Distance</th>\n",
       "      <th>DistanceGroup</th>\n",
       "      <th>CarrierDelay</th>\n",
       "      <th>WeatherDelay</th>\n",
       "      <th>NASDelay</th>\n",
       "      <th>SecurityDelay</th>\n",
       "      <th>LateAircraftDelay</th>\n",
       "      <th>FirstDepTime</th>\n",
       "      <th>TotalAddGTime</th>\n",
       "      <th>LongestAddGTime</th>\n",
       "      <th>DivAirportLandings</th>\n",
       "      <th>DivReachedDest</th>\n",
       "      <th>Nflights_10</th>\n",
       "      <th>DepDelayMedian_10</th>\n",
       "      <th>DepDelayMax_10</th>\n",
       "      <th>ArrDelayMedian_10</th>\n",
       "      <th>ArrDelayMax_10</th>\n",
       "      <th>TaxiOutMedian_10</th>\n",
       "      <th>TaxiInMedian_10</th>\n",
       "      <th>Ncan_10</th>\n",
       "      <th>Ndiv_10</th>\n",
       "      <th>Nflights_20</th>\n",
       "      <th>DepDelayMedian_20</th>\n",
       "      <th>DepDelayMax_20</th>\n",
       "      <th>ArrDelayMedian_20</th>\n",
       "      <th>ArrDelayMax_20</th>\n",
       "      <th>TaxiOutMedian_20</th>\n",
       "      <th>TaxiInMedian_20</th>\n",
       "      <th>Ncan_20</th>\n",
       "      <th>Ndiv_20</th>\n",
       "      <th>Nflights_30</th>\n",
       "      <th>DepDelayMedian_30</th>\n",
       "      <th>DepDelayMax_30</th>\n",
       "      <th>ArrDelayMedian_30</th>\n",
       "      <th>ArrDelayMax_30</th>\n",
       "      <th>TaxiOutMedian_30</th>\n",
       "      <th>TaxiInMedian_30</th>\n",
       "      <th>Ncan_30</th>\n",
       "      <th>Ndiv_30</th>\n",
       "      <th>FlightDateAtDest</th>\n",
       "      <th>CRSDepHr</th>\n",
       "      <th>CRSArrHr</th>\n",
       "      <th>Hour_Origin</th>\n",
       "      <th>Minute_Origin</th>\n",
       "      <th>TimeZone_Origin</th>\n",
       "      <th>Temperature_Origin</th>\n",
       "      <th>DewPoint_Origin</th>\n",
       "      <th>Humidity_Origin</th>\n",
       "      <th>WindSpeed_Origin</th>\n",
       "      <th>WindGust_Origin</th>\n",
       "      <th>WindDirection_Origin</th>\n",
       "      <th>Visibility_Origin</th>\n",
       "      <th>Pressure_Origin</th>\n",
       "      <th>WindChill_Origin</th>\n",
       "      <th>HeatIndex_Origin</th>\n",
       "      <th>Precipitation_Origin</th>\n",
       "      <th>Condition_Origin</th>\n",
       "      <th>Fog_Origin</th>\n",
       "      <th>Rain_Origin</th>\n",
       "      <th>Snow_Origin</th>\n",
       "      <th>Hail_Origin</th>\n",
       "      <th>Thunder_Origin</th>\n",
       "      <th>Tornado_Origin</th>\n",
       "      <th>Date_Origin</th>\n",
       "      <th>State_Origin</th>\n",
       "      <th>Airport_Origin</th>\n",
       "      <th>Hour_Dest</th>\n",
       "      <th>Minute_Dest</th>\n",
       "      <th>TimeZone_Dest</th>\n",
       "      <th>Temperature_Dest</th>\n",
       "      <th>DewPoint_Dest</th>\n",
       "      <th>Humidity_Dest</th>\n",
       "      <th>WindSpeed_Dest</th>\n",
       "      <th>WindGust_Dest</th>\n",
       "      <th>WindDirection_Dest</th>\n",
       "      <th>Visibility_Dest</th>\n",
       "      <th>Pressure_Dest</th>\n",
       "      <th>WindChill_Dest</th>\n",
       "      <th>HeatIndex_Dest</th>\n",
       "      <th>Precipitation_Dest</th>\n",
       "      <th>Condition_Dest</th>\n",
       "      <th>Fog_Dest</th>\n",
       "      <th>Rain_Dest</th>\n",
       "      <th>Snow_Dest</th>\n",
       "      <th>Hail_Dest</th>\n",
       "      <th>Thunder_Dest</th>\n",
       "      <th>Tornado_Dest</th>\n",
       "      <th>Date_Dest</th>\n",
       "      <th>State_Dest</th>\n",
       "      <th>Airport_Dest</th>\n",
       "      <th>Year_Dest</th>\n",
       "      <th>Quarter_Dest</th>\n",
       "      <th>Month_Dest</th>\n",
       "      <th>DayOfMonth_Dest</th>\n",
       "      <th>DayOfWeek_Dest</th>\n",
       "    </tr>\n",
       "  </thead>\n",
       "  <tbody>\n",
       "    <tr>\n",
       "      <th>333015</th>\n",
       "      <td>2015</td>\n",
       "      <td>2</td>\n",
       "      <td>4</td>\n",
       "      <td>26</td>\n",
       "      <td>7</td>\n",
       "      <td>2015-04-26</td>\n",
       "      <td>NK</td>\n",
       "      <td>20416</td>\n",
       "      <td>NK</td>\n",
       "      <td>N614NK</td>\n",
       "      <td>720</td>\n",
       "      <td>11292</td>\n",
       "      <td>1129202</td>\n",
       "      <td>30325</td>\n",
       "      <td>DEN</td>\n",
       "      <td>Denver, CO</td>\n",
       "      <td>CO</td>\n",
       "      <td>8</td>\n",
       "      <td>Colorado</td>\n",
       "      <td>82</td>\n",
       "      <td>11298</td>\n",
       "      <td>1129804</td>\n",
       "      <td>30194</td>\n",
       "      <td>DFW</td>\n",
       "      <td>Dallas/Fort Worth, TX</td>\n",
       "      <td>TX</td>\n",
       "      <td>48</td>\n",
       "      <td>Texas</td>\n",
       "      <td>74</td>\n",
       "      <td>2059</td>\n",
       "      <td>2057.0</td>\n",
       "      <td>-2.0</td>\n",
       "      <td>0.0</td>\n",
       "      <td>0.0</td>\n",
       "      <td>-1.0</td>\n",
       "      <td>2000-2059</td>\n",
       "      <td>13.0</td>\n",
       "      <td>2110.0</td>\n",
       "      <td>NaN</td>\n",
       "      <td>NaN</td>\n",
       "      <td>2350</td>\n",
       "      <td>NaN</td>\n",
       "      <td>NaN</td>\n",
       "      <td>NaN</td>\n",
       "      <td>NaN</td>\n",
       "      <td>NaN</td>\n",
       "      <td>2300-2359</td>\n",
       "      <td>1.0</td>\n",
       "      <td>B</td>\n",
       "      <td>0.0</td>\n",
       "      <td>NaN</td>\n",
       "      <td>NaN</td>\n",
       "      <td>NaN</td>\n",
       "      <td>1.0</td>\n",
       "      <td>641.0</td>\n",
       "      <td>3</td>\n",
       "      <td>NaN</td>\n",
       "      <td>NaN</td>\n",
       "      <td>NaN</td>\n",
       "      <td>NaN</td>\n",
       "      <td>NaN</td>\n",
       "      <td>NaN</td>\n",
       "      <td>NaN</td>\n",
       "      <td>NaN</td>\n",
       "      <td>9</td>\n",
       "      <td>NaN</td>\n",
       "      <td>10</td>\n",
       "      <td>-1.0</td>\n",
       "      <td>186.0</td>\n",
       "      <td>10.5</td>\n",
       "      <td>178.0</td>\n",
       "      <td>12.5</td>\n",
       "      <td>9.5</td>\n",
       "      <td>0.0</td>\n",
       "      <td>0.0</td>\n",
       "      <td>20</td>\n",
       "      <td>0.5</td>\n",
       "      <td>186.0</td>\n",
       "      <td>8.0</td>\n",
       "      <td>178.0</td>\n",
       "      <td>11.0</td>\n",
       "      <td>7.0</td>\n",
       "      <td>0.0</td>\n",
       "      <td>0.0</td>\n",
       "      <td>30</td>\n",
       "      <td>-1.5</td>\n",
       "      <td>186.0</td>\n",
       "      <td>1.5</td>\n",
       "      <td>178.0</td>\n",
       "      <td>12.0</td>\n",
       "      <td>7.0</td>\n",
       "      <td>0.0</td>\n",
       "      <td>0.0</td>\n",
       "      <td>2015-04-26</td>\n",
       "      <td>20</td>\n",
       "      <td>23</td>\n",
       "      <td>20.0</td>\n",
       "      <td>53.0</td>\n",
       "      <td>America/Denver</td>\n",
       "      <td>41.0</td>\n",
       "      <td>41.0</td>\n",
       "      <td>100.0</td>\n",
       "      <td>11.5</td>\n",
       "      <td>NaN</td>\n",
       "      <td>80.0</td>\n",
       "      <td>2.0</td>\n",
       "      <td>30.00</td>\n",
       "      <td>34.3</td>\n",
       "      <td>NaN</td>\n",
       "      <td>0.02</td>\n",
       "      <td>Light Rain</td>\n",
       "      <td>0.0</td>\n",
       "      <td>1.0</td>\n",
       "      <td>0.0</td>\n",
       "      <td>0.0</td>\n",
       "      <td>0.0</td>\n",
       "      <td>0.0</td>\n",
       "      <td>2015-04-26</td>\n",
       "      <td>CO</td>\n",
       "      <td>DEN</td>\n",
       "      <td>23.0</td>\n",
       "      <td>53.0</td>\n",
       "      <td>America/Chicago</td>\n",
       "      <td>72.0</td>\n",
       "      <td>64.9</td>\n",
       "      <td>78.0</td>\n",
       "      <td>10.4</td>\n",
       "      <td>NaN</td>\n",
       "      <td>60.0</td>\n",
       "      <td>10.0</td>\n",
       "      <td>29.65</td>\n",
       "      <td>NaN</td>\n",
       "      <td>NaN</td>\n",
       "      <td>0.02</td>\n",
       "      <td>Light Thunderstorms and Rain</td>\n",
       "      <td>0.0</td>\n",
       "      <td>1.0</td>\n",
       "      <td>0.0</td>\n",
       "      <td>0.0</td>\n",
       "      <td>1.0</td>\n",
       "      <td>0.0</td>\n",
       "      <td>2015-04-26</td>\n",
       "      <td>TX</td>\n",
       "      <td>DFW</td>\n",
       "      <td>2015</td>\n",
       "      <td>2</td>\n",
       "      <td>4</td>\n",
       "      <td>26</td>\n",
       "      <td>6</td>\n",
       "    </tr>\n",
       "    <tr>\n",
       "      <th>492714</th>\n",
       "      <td>2015</td>\n",
       "      <td>2</td>\n",
       "      <td>5</td>\n",
       "      <td>10</td>\n",
       "      <td>7</td>\n",
       "      <td>2015-05-10</td>\n",
       "      <td>NK</td>\n",
       "      <td>20416</td>\n",
       "      <td>NK</td>\n",
       "      <td>N534NK</td>\n",
       "      <td>368</td>\n",
       "      <td>13930</td>\n",
       "      <td>1393003</td>\n",
       "      <td>30977</td>\n",
       "      <td>ORD</td>\n",
       "      <td>Chicago, IL</td>\n",
       "      <td>IL</td>\n",
       "      <td>17</td>\n",
       "      <td>Illinois</td>\n",
       "      <td>41</td>\n",
       "      <td>10821</td>\n",
       "      <td>1082103</td>\n",
       "      <td>30852</td>\n",
       "      <td>BWI</td>\n",
       "      <td>Baltimore, MD</td>\n",
       "      <td>MD</td>\n",
       "      <td>24</td>\n",
       "      <td>Maryland</td>\n",
       "      <td>35</td>\n",
       "      <td>825</td>\n",
       "      <td>1214.0</td>\n",
       "      <td>229.0</td>\n",
       "      <td>229.0</td>\n",
       "      <td>1.0</td>\n",
       "      <td>12.0</td>\n",
       "      <td>0800-0859</td>\n",
       "      <td>18.0</td>\n",
       "      <td>1232.0</td>\n",
       "      <td>NaN</td>\n",
       "      <td>NaN</td>\n",
       "      <td>1118</td>\n",
       "      <td>NaN</td>\n",
       "      <td>NaN</td>\n",
       "      <td>NaN</td>\n",
       "      <td>NaN</td>\n",
       "      <td>NaN</td>\n",
       "      <td>1100-1159</td>\n",
       "      <td>1.0</td>\n",
       "      <td>C</td>\n",
       "      <td>0.0</td>\n",
       "      <td>NaN</td>\n",
       "      <td>NaN</td>\n",
       "      <td>NaN</td>\n",
       "      <td>1.0</td>\n",
       "      <td>622.0</td>\n",
       "      <td>3</td>\n",
       "      <td>NaN</td>\n",
       "      <td>NaN</td>\n",
       "      <td>NaN</td>\n",
       "      <td>NaN</td>\n",
       "      <td>NaN</td>\n",
       "      <td>NaN</td>\n",
       "      <td>NaN</td>\n",
       "      <td>NaN</td>\n",
       "      <td>9</td>\n",
       "      <td>NaN</td>\n",
       "      <td>10</td>\n",
       "      <td>10.0</td>\n",
       "      <td>60.0</td>\n",
       "      <td>4.0</td>\n",
       "      <td>61.0</td>\n",
       "      <td>13.0</td>\n",
       "      <td>6.0</td>\n",
       "      <td>1.0</td>\n",
       "      <td>0.0</td>\n",
       "      <td>20</td>\n",
       "      <td>-2.0</td>\n",
       "      <td>60.0</td>\n",
       "      <td>-9.0</td>\n",
       "      <td>61.0</td>\n",
       "      <td>12.0</td>\n",
       "      <td>6.0</td>\n",
       "      <td>1.0</td>\n",
       "      <td>0.0</td>\n",
       "      <td>24</td>\n",
       "      <td>-2.0</td>\n",
       "      <td>178.0</td>\n",
       "      <td>-9.0</td>\n",
       "      <td>173.0</td>\n",
       "      <td>12.0</td>\n",
       "      <td>6.0</td>\n",
       "      <td>1.0</td>\n",
       "      <td>0.0</td>\n",
       "      <td>2015-05-10</td>\n",
       "      <td>8</td>\n",
       "      <td>11</td>\n",
       "      <td>8.0</td>\n",
       "      <td>57.0</td>\n",
       "      <td>America/Chicago</td>\n",
       "      <td>46.9</td>\n",
       "      <td>46.0</td>\n",
       "      <td>97.0</td>\n",
       "      <td>9.2</td>\n",
       "      <td>NaN</td>\n",
       "      <td>50.0</td>\n",
       "      <td>0.5</td>\n",
       "      <td>30.03</td>\n",
       "      <td>NaN</td>\n",
       "      <td>NaN</td>\n",
       "      <td>0.00</td>\n",
       "      <td>Light Drizzle</td>\n",
       "      <td>1.0</td>\n",
       "      <td>0.0</td>\n",
       "      <td>0.0</td>\n",
       "      <td>0.0</td>\n",
       "      <td>0.0</td>\n",
       "      <td>0.0</td>\n",
       "      <td>2015-05-10</td>\n",
       "      <td>IL</td>\n",
       "      <td>ORD</td>\n",
       "      <td>11.0</td>\n",
       "      <td>54.0</td>\n",
       "      <td>America/New_York</td>\n",
       "      <td>78.1</td>\n",
       "      <td>64.0</td>\n",
       "      <td>62.0</td>\n",
       "      <td>6.9</td>\n",
       "      <td>NaN</td>\n",
       "      <td>200.0</td>\n",
       "      <td>10.0</td>\n",
       "      <td>30.20</td>\n",
       "      <td>NaN</td>\n",
       "      <td>NaN</td>\n",
       "      <td>NaN</td>\n",
       "      <td>Mostly Cloudy</td>\n",
       "      <td>0.0</td>\n",
       "      <td>0.0</td>\n",
       "      <td>0.0</td>\n",
       "      <td>0.0</td>\n",
       "      <td>0.0</td>\n",
       "      <td>0.0</td>\n",
       "      <td>2015-05-10</td>\n",
       "      <td>MD</td>\n",
       "      <td>BWI</td>\n",
       "      <td>2015</td>\n",
       "      <td>2</td>\n",
       "      <td>5</td>\n",
       "      <td>10</td>\n",
       "      <td>6</td>\n",
       "    </tr>\n",
       "    <tr>\n",
       "      <th>1723576</th>\n",
       "      <td>2016</td>\n",
       "      <td>1</td>\n",
       "      <td>3</td>\n",
       "      <td>24</td>\n",
       "      <td>4</td>\n",
       "      <td>2016-03-24</td>\n",
       "      <td>NK</td>\n",
       "      <td>20416</td>\n",
       "      <td>NK</td>\n",
       "      <td>N604NK</td>\n",
       "      <td>219</td>\n",
       "      <td>13930</td>\n",
       "      <td>1393004</td>\n",
       "      <td>30977</td>\n",
       "      <td>ORD</td>\n",
       "      <td>Chicago, IL</td>\n",
       "      <td>IL</td>\n",
       "      <td>17</td>\n",
       "      <td>Illinois</td>\n",
       "      <td>41</td>\n",
       "      <td>10397</td>\n",
       "      <td>1039705</td>\n",
       "      <td>30397</td>\n",
       "      <td>ATL</td>\n",
       "      <td>Atlanta, GA</td>\n",
       "      <td>GA</td>\n",
       "      <td>13</td>\n",
       "      <td>Georgia</td>\n",
       "      <td>34</td>\n",
       "      <td>1215</td>\n",
       "      <td>1210.0</td>\n",
       "      <td>-5.0</td>\n",
       "      <td>0.0</td>\n",
       "      <td>0.0</td>\n",
       "      <td>-1.0</td>\n",
       "      <td>1200-1259</td>\n",
       "      <td>14.0</td>\n",
       "      <td>1224.0</td>\n",
       "      <td>NaN</td>\n",
       "      <td>NaN</td>\n",
       "      <td>1511</td>\n",
       "      <td>NaN</td>\n",
       "      <td>NaN</td>\n",
       "      <td>NaN</td>\n",
       "      <td>NaN</td>\n",
       "      <td>NaN</td>\n",
       "      <td>1500-1559</td>\n",
       "      <td>1.0</td>\n",
       "      <td>A</td>\n",
       "      <td>0.0</td>\n",
       "      <td>NaN</td>\n",
       "      <td>NaN</td>\n",
       "      <td>NaN</td>\n",
       "      <td>1.0</td>\n",
       "      <td>606.0</td>\n",
       "      <td>3</td>\n",
       "      <td>NaN</td>\n",
       "      <td>NaN</td>\n",
       "      <td>NaN</td>\n",
       "      <td>NaN</td>\n",
       "      <td>NaN</td>\n",
       "      <td>NaN</td>\n",
       "      <td>NaN</td>\n",
       "      <td>NaN</td>\n",
       "      <td>9</td>\n",
       "      <td>NaN</td>\n",
       "      <td>10</td>\n",
       "      <td>-4.0</td>\n",
       "      <td>53.0</td>\n",
       "      <td>4.0</td>\n",
       "      <td>38.0</td>\n",
       "      <td>18.0</td>\n",
       "      <td>8.0</td>\n",
       "      <td>1.0</td>\n",
       "      <td>0.0</td>\n",
       "      <td>20</td>\n",
       "      <td>-2.0</td>\n",
       "      <td>62.0</td>\n",
       "      <td>-3.0</td>\n",
       "      <td>55.0</td>\n",
       "      <td>15.0</td>\n",
       "      <td>8.0</td>\n",
       "      <td>1.0</td>\n",
       "      <td>0.0</td>\n",
       "      <td>30</td>\n",
       "      <td>-1.5</td>\n",
       "      <td>76.0</td>\n",
       "      <td>4.5</td>\n",
       "      <td>68.0</td>\n",
       "      <td>15.0</td>\n",
       "      <td>8.0</td>\n",
       "      <td>2.0</td>\n",
       "      <td>0.0</td>\n",
       "      <td>2016-03-24</td>\n",
       "      <td>12</td>\n",
       "      <td>15</td>\n",
       "      <td>12.0</td>\n",
       "      <td>51.0</td>\n",
       "      <td>America/Chicago</td>\n",
       "      <td>36.0</td>\n",
       "      <td>34.0</td>\n",
       "      <td>93.0</td>\n",
       "      <td>18.4</td>\n",
       "      <td>24.2</td>\n",
       "      <td>10.0</td>\n",
       "      <td>8.0</td>\n",
       "      <td>29.52</td>\n",
       "      <td>25.6</td>\n",
       "      <td>NaN</td>\n",
       "      <td>0.11</td>\n",
       "      <td>Light Rain</td>\n",
       "      <td>0.0</td>\n",
       "      <td>1.0</td>\n",
       "      <td>0.0</td>\n",
       "      <td>0.0</td>\n",
       "      <td>0.0</td>\n",
       "      <td>0.0</td>\n",
       "      <td>2016-03-24</td>\n",
       "      <td>IL</td>\n",
       "      <td>ORD</td>\n",
       "      <td>15.0</td>\n",
       "      <td>52.0</td>\n",
       "      <td>America/New_York</td>\n",
       "      <td>73.0</td>\n",
       "      <td>52.0</td>\n",
       "      <td>48.0</td>\n",
       "      <td>15.0</td>\n",
       "      <td>21.9</td>\n",
       "      <td>200.0</td>\n",
       "      <td>10.0</td>\n",
       "      <td>29.88</td>\n",
       "      <td>NaN</td>\n",
       "      <td>NaN</td>\n",
       "      <td>NaN</td>\n",
       "      <td>Overcast</td>\n",
       "      <td>0.0</td>\n",
       "      <td>0.0</td>\n",
       "      <td>0.0</td>\n",
       "      <td>0.0</td>\n",
       "      <td>0.0</td>\n",
       "      <td>0.0</td>\n",
       "      <td>2016-03-24</td>\n",
       "      <td>GA</td>\n",
       "      <td>ATL</td>\n",
       "      <td>2016</td>\n",
       "      <td>1</td>\n",
       "      <td>3</td>\n",
       "      <td>24</td>\n",
       "      <td>3</td>\n",
       "    </tr>\n",
       "  </tbody>\n",
       "</table>\n",
       "</div>"
      ],
      "text/plain": [
       "         Year  Quarter  Month  DayofMonth  DayOfWeek FlightDate UniqueCarrier  \\\n",
       "333015   2015        2      4          26          7 2015-04-26            NK   \n",
       "492714   2015        2      5          10          7 2015-05-10            NK   \n",
       "1723576  2016        1      3          24          4 2016-03-24            NK   \n",
       "\n",
       "         AirlineID Carrier TailNum  FlightNum  OriginAirportID  \\\n",
       "333015       20416      NK  N614NK        720            11292   \n",
       "492714       20416      NK  N534NK        368            13930   \n",
       "1723576      20416      NK  N604NK        219            13930   \n",
       "\n",
       "         OriginAirportSeqID  OriginCityMarketID Origin OriginCityName  \\\n",
       "333015              1129202               30325    DEN     Denver, CO   \n",
       "492714              1393003               30977    ORD    Chicago, IL   \n",
       "1723576             1393004               30977    ORD    Chicago, IL   \n",
       "\n",
       "        OriginState  OriginStateFips OriginStateName  OriginWac  \\\n",
       "333015           CO                8        Colorado         82   \n",
       "492714           IL               17        Illinois         41   \n",
       "1723576          IL               17        Illinois         41   \n",
       "\n",
       "         DestAirportID  DestAirportSeqID  DestCityMarketID Dest  \\\n",
       "333015           11298           1129804             30194  DFW   \n",
       "492714           10821           1082103             30852  BWI   \n",
       "1723576          10397           1039705             30397  ATL   \n",
       "\n",
       "                  DestCityName DestState  DestStateFips DestStateName  \\\n",
       "333015   Dallas/Fort Worth, TX        TX             48         Texas   \n",
       "492714           Baltimore, MD        MD             24      Maryland   \n",
       "1723576            Atlanta, GA        GA             13       Georgia   \n",
       "\n",
       "         DestWac  CRSDepTime  DepTime  DepDelay  DepDelayMinutes  DepDel15  \\\n",
       "333015        74        2059   2057.0      -2.0              0.0       0.0   \n",
       "492714        35         825   1214.0     229.0            229.0       1.0   \n",
       "1723576       34        1215   1210.0      -5.0              0.0       0.0   \n",
       "\n",
       "         DepartureDelayGroups DepTimeBlk  TaxiOut  WheelsOff  WheelsOn  \\\n",
       "333015                   -1.0  2000-2059     13.0     2110.0       NaN   \n",
       "492714                   12.0  0800-0859     18.0     1232.0       NaN   \n",
       "1723576                  -1.0  1200-1259     14.0     1224.0       NaN   \n",
       "\n",
       "         TaxiIn  CRSArrTime  ArrTime  ArrDelay  ArrDelayMinutes  ArrDel15  \\\n",
       "333015      NaN        2350      NaN       NaN              NaN       NaN   \n",
       "492714      NaN        1118      NaN       NaN              NaN       NaN   \n",
       "1723576     NaN        1511      NaN       NaN              NaN       NaN   \n",
       "\n",
       "         ArrivalDelayGroups ArrTimeBlk  Cancelled CancellationCode  Diverted  \\\n",
       "333015                  NaN  2300-2359        1.0                B       0.0   \n",
       "492714                  NaN  1100-1159        1.0                C       0.0   \n",
       "1723576                 NaN  1500-1559        1.0                A       0.0   \n",
       "\n",
       "         CRSElapsedTime  ActualElapsedTime  AirTime  Flights  Distance  \\\n",
       "333015              NaN                NaN      NaN      1.0     641.0   \n",
       "492714              NaN                NaN      NaN      1.0     622.0   \n",
       "1723576             NaN                NaN      NaN      1.0     606.0   \n",
       "\n",
       "         DistanceGroup  CarrierDelay  WeatherDelay  NASDelay  SecurityDelay  \\\n",
       "333015               3           NaN           NaN       NaN            NaN   \n",
       "492714               3           NaN           NaN       NaN            NaN   \n",
       "1723576              3           NaN           NaN       NaN            NaN   \n",
       "\n",
       "         LateAircraftDelay  FirstDepTime  TotalAddGTime  LongestAddGTime  \\\n",
       "333015                 NaN           NaN            NaN              NaN   \n",
       "492714                 NaN           NaN            NaN              NaN   \n",
       "1723576                NaN           NaN            NaN              NaN   \n",
       "\n",
       "         DivAirportLandings  DivReachedDest  Nflights_10  DepDelayMedian_10  \\\n",
       "333015                    9             NaN           10               -1.0   \n",
       "492714                    9             NaN           10               10.0   \n",
       "1723576                   9             NaN           10               -4.0   \n",
       "\n",
       "         DepDelayMax_10  ArrDelayMedian_10  ArrDelayMax_10  TaxiOutMedian_10  \\\n",
       "333015            186.0               10.5           178.0              12.5   \n",
       "492714             60.0                4.0            61.0              13.0   \n",
       "1723576            53.0                4.0            38.0              18.0   \n",
       "\n",
       "         TaxiInMedian_10  Ncan_10  Ndiv_10  Nflights_20  DepDelayMedian_20  \\\n",
       "333015               9.5      0.0      0.0           20                0.5   \n",
       "492714               6.0      1.0      0.0           20               -2.0   \n",
       "1723576              8.0      1.0      0.0           20               -2.0   \n",
       "\n",
       "         DepDelayMax_20  ArrDelayMedian_20  ArrDelayMax_20  TaxiOutMedian_20  \\\n",
       "333015            186.0                8.0           178.0              11.0   \n",
       "492714             60.0               -9.0            61.0              12.0   \n",
       "1723576            62.0               -3.0            55.0              15.0   \n",
       "\n",
       "         TaxiInMedian_20  Ncan_20  Ndiv_20  Nflights_30  DepDelayMedian_30  \\\n",
       "333015               7.0      0.0      0.0           30               -1.5   \n",
       "492714               6.0      1.0      0.0           24               -2.0   \n",
       "1723576              8.0      1.0      0.0           30               -1.5   \n",
       "\n",
       "         DepDelayMax_30  ArrDelayMedian_30  ArrDelayMax_30  TaxiOutMedian_30  \\\n",
       "333015            186.0                1.5           178.0              12.0   \n",
       "492714            178.0               -9.0           173.0              12.0   \n",
       "1723576            76.0                4.5            68.0              15.0   \n",
       "\n",
       "         TaxiInMedian_30  Ncan_30  Ndiv_30 FlightDateAtDest  CRSDepHr  \\\n",
       "333015               7.0      0.0      0.0       2015-04-26        20   \n",
       "492714               6.0      1.0      0.0       2015-05-10         8   \n",
       "1723576              8.0      2.0      0.0       2016-03-24        12   \n",
       "\n",
       "         CRSArrHr  Hour_Origin  Minute_Origin  TimeZone_Origin  \\\n",
       "333015         23         20.0           53.0   America/Denver   \n",
       "492714         11          8.0           57.0  America/Chicago   \n",
       "1723576        15         12.0           51.0  America/Chicago   \n",
       "\n",
       "         Temperature_Origin  DewPoint_Origin  Humidity_Origin  \\\n",
       "333015                 41.0             41.0            100.0   \n",
       "492714                 46.9             46.0             97.0   \n",
       "1723576                36.0             34.0             93.0   \n",
       "\n",
       "         WindSpeed_Origin  WindGust_Origin  WindDirection_Origin  \\\n",
       "333015               11.5              NaN                  80.0   \n",
       "492714                9.2              NaN                  50.0   \n",
       "1723576              18.4             24.2                  10.0   \n",
       "\n",
       "         Visibility_Origin  Pressure_Origin  WindChill_Origin  \\\n",
       "333015                 2.0            30.00              34.3   \n",
       "492714                 0.5            30.03               NaN   \n",
       "1723576                8.0            29.52              25.6   \n",
       "\n",
       "         HeatIndex_Origin  Precipitation_Origin Condition_Origin  Fog_Origin  \\\n",
       "333015                NaN                  0.02       Light Rain         0.0   \n",
       "492714                NaN                  0.00    Light Drizzle         1.0   \n",
       "1723576               NaN                  0.11       Light Rain         0.0   \n",
       "\n",
       "         Rain_Origin  Snow_Origin  Hail_Origin  Thunder_Origin  \\\n",
       "333015           1.0          0.0          0.0             0.0   \n",
       "492714           0.0          0.0          0.0             0.0   \n",
       "1723576          1.0          0.0          0.0             0.0   \n",
       "\n",
       "         Tornado_Origin Date_Origin State_Origin Airport_Origin  Hour_Dest  \\\n",
       "333015              0.0  2015-04-26           CO            DEN       23.0   \n",
       "492714              0.0  2015-05-10           IL            ORD       11.0   \n",
       "1723576             0.0  2016-03-24           IL            ORD       15.0   \n",
       "\n",
       "         Minute_Dest     TimeZone_Dest  Temperature_Dest  DewPoint_Dest  \\\n",
       "333015          53.0   America/Chicago              72.0           64.9   \n",
       "492714          54.0  America/New_York              78.1           64.0   \n",
       "1723576         52.0  America/New_York              73.0           52.0   \n",
       "\n",
       "         Humidity_Dest  WindSpeed_Dest  WindGust_Dest  WindDirection_Dest  \\\n",
       "333015            78.0            10.4            NaN                60.0   \n",
       "492714            62.0             6.9            NaN               200.0   \n",
       "1723576           48.0            15.0           21.9               200.0   \n",
       "\n",
       "         Visibility_Dest  Pressure_Dest  WindChill_Dest  HeatIndex_Dest  \\\n",
       "333015              10.0          29.65             NaN             NaN   \n",
       "492714              10.0          30.20             NaN             NaN   \n",
       "1723576             10.0          29.88             NaN             NaN   \n",
       "\n",
       "         Precipitation_Dest                Condition_Dest  Fog_Dest  \\\n",
       "333015                 0.02  Light Thunderstorms and Rain       0.0   \n",
       "492714                  NaN                 Mostly Cloudy       0.0   \n",
       "1723576                 NaN                      Overcast       0.0   \n",
       "\n",
       "         Rain_Dest  Snow_Dest  Hail_Dest  Thunder_Dest  Tornado_Dest  \\\n",
       "333015         1.0        0.0        0.0           1.0           0.0   \n",
       "492714         0.0        0.0        0.0           0.0           0.0   \n",
       "1723576        0.0        0.0        0.0           0.0           0.0   \n",
       "\n",
       "          Date_Dest State_Dest Airport_Dest  Year_Dest  Quarter_Dest  \\\n",
       "333015   2015-04-26         TX          DFW       2015             2   \n",
       "492714   2015-05-10         MD          BWI       2015             2   \n",
       "1723576  2016-03-24         GA          ATL       2016             1   \n",
       "\n",
       "         Month_Dest  DayOfMonth_Dest  DayOfWeek_Dest  \n",
       "333015            4               26               6  \n",
       "492714            5               10               6  \n",
       "1723576           3               24               3  "
      ]
     },
     "execution_count": 16,
     "metadata": {},
     "output_type": "execute_result"
    }
   ],
   "source": [
    "df[pd.isnull(df.CRSElapsedTime)] "
   ]
  },
  {
   "cell_type": "markdown",
   "metadata": {},
   "source": [
    "There are only three flights and that too of Spirit Airlines (NK) for which we see missing values for CRSElapsedTime. Note the airline name using the Carrier code (like NK) can be found [here](http://www.iata.org/publications/Pages/code-search.aspx). Interestingly, all three flights were cancelled. Does this mean that whenever the Spirit Airlines bookings do not tell the CRSElapsedTime, their flights get canceled? This could be a possibility but due to only three instances we should not give much weightage to this observation. In fact, there are 2115 NK flights that got cancelled but the CRSElapsedTime was not missing. "
   ]
  },
  {
   "cell_type": "code",
   "execution_count": 17,
   "metadata": {
    "collapsed": false
   },
   "outputs": [
    {
     "data": {
      "text/plain": [
       "2115"
      ]
     },
     "execution_count": 17,
     "metadata": {},
     "output_type": "execute_result"
    }
   ],
   "source": [
    "len(df[[\"Carrier\", \"Cancelled\", \"CRSElapsedTime\"]][(df.Carrier == \"NK\") & (df.Cancelled == 1) & (pd.notnull(df.CRSElapsedTime))])"
   ]
  },
  {
   "cell_type": "markdown",
   "metadata": {},
   "source": [
    "We can ignore this observation about CRSElapsedTime missing values, and think if we can avoid using this column. The CRSElapsedTime can be highly correlated with \"Distance\", which does not have any missing values. The higher the flight distance, the higher the CRSElapsedTime will be. If we do have such correlation, then we can \n",
    "\n",
    "(i) keep the \"Distance\" \n",
    "\n",
    "(ii) remove the \"CRSElapsedTime\" column\n",
    "\n",
    "But before doing that, can we confirm if we do have such a correlation?  "
   ]
  },
  {
   "cell_type": "code",
   "execution_count": 18,
   "metadata": {
    "collapsed": false
   },
   "outputs": [
    {
     "data": {
      "image/png": "[encoded data removed]",
      "text/plain": [
       "<matplotlib.figure.Figure at 0x11ddf7cc0>"
      ]
     },
     "metadata": {},
     "output_type": "display_data"
    }
   ],
   "source": [
    "fig, ax = plt.subplots(figsize=(20,8))\n",
    "ax.plot(df.CRSElapsedTime, df.Distance, marker='o', linestyle='', ms=8, alpha=0.4, \n",
    "        c=tableau20[18])\n",
    "plt.xlabel(\"CRSElapsedTime, mins\")\n",
    "plt.ylabel(\"Distance, miles\")\n",
    "ax.spines['right'].set_visible(False)\n",
    "ax.spines['top'].set_visible(False)"
   ]
  },
  {
   "cell_type": "markdown",
   "metadata": {},
   "source": [
    "Visually, we do observe a positive correlation with few outliers. There are some distances for which there are many CRSElapsedTime. This could be due to time-zone difference, or due to changes in reservation system for same distance flights. Let us quickly perform a hypothesis test to see if there is any correlation. We can calculate a Pearson correlation coefficient. However, this calculation requires that both CRSElapsedTime and Distance are normally distributed. So, let us see their distribution first."
   ]
  },
  {
   "cell_type": "code",
   "execution_count": 19,
   "metadata": {
    "collapsed": false
   },
   "outputs": [
    {
     "data": {
      "image/png": "[encoded data removed]",
      "text/plain": [
       "<matplotlib.figure.Figure at 0x11df14f60>"
      ]
     },
     "metadata": {},
     "output_type": "display_data"
    }
   ],
   "source": [
    "fig, (ax1, ax2) = plt.subplots(1, 2, figsize=(20,8))\n",
    "sns.distplot(df.CRSElapsedTime[pd.notnull(df.CRSElapsedTime)], 500, ax=ax1, color=tableau20[6])\n",
    "ax1.set_title(\"CRSElapsedTime Distribution\")\n",
    "sns.distplot(df.Distance, 500, ax=ax2, color=tableau20[8])\n",
    "ax2.set_title(\"Distance Distribution\")\n",
    "plt.show()"
   ]
  },
  {
   "cell_type": "markdown",
   "metadata": {},
   "source": [
    "These do not look normal distribution. Lets test them:"
   ]
  },
  {
   "cell_type": "code",
   "execution_count": 20,
   "metadata": {
    "collapsed": false
   },
   "outputs": [],
   "source": [
    "from scipy import stats"
   ]
  },
  {
   "cell_type": "code",
   "execution_count": 21,
   "metadata": {
    "collapsed": false
   },
   "outputs": [
    {
     "data": {
      "text/plain": [
       "NormaltestResult(statistic=247794.95209832463, pvalue=0.0)"
      ]
     },
     "execution_count": 21,
     "metadata": {},
     "output_type": "execute_result"
    }
   ],
   "source": [
    "stats.normaltest(df.CRSElapsedTime[pd.notnull(df.CRSElapsedTime)])"
   ]
  },
  {
   "cell_type": "code",
   "execution_count": 22,
   "metadata": {
    "collapsed": false
   },
   "outputs": [
    {
     "data": {
      "text/plain": [
       "NormaltestResult(statistic=243272.27989154751, pvalue=0.0)"
      ]
     },
     "execution_count": 22,
     "metadata": {},
     "output_type": "execute_result"
    }
   ],
   "source": [
    "stats.normaltest(df.Distance)"
   ]
  },
  {
   "cell_type": "markdown",
   "metadata": {},
   "source": [
    "Clearly, they are not normally distributed. So, we cannot use the Peasrson's correlation coefficient. We could rather use a non-parametric test such as Spearman's test. Lets calculate the Spearman's correlation coefficient and associated p-value."
   ]
  },
  {
   "cell_type": "code",
   "execution_count": 23,
   "metadata": {
    "collapsed": false
   },
   "outputs": [
    {
     "data": {
      "text/plain": [
       "SpearmanrResult(correlation=0.98156295492992474, pvalue=0.0)"
      ]
     },
     "execution_count": 23,
     "metadata": {},
     "output_type": "execute_result"
    }
   ],
   "source": [
    "stats.spearmanr(df.CRSElapsedTime[pd.notnull(df.CRSElapsedTime)], df.Distance[pd.notnull(df.CRSElapsedTime)])"
   ]
  },
  {
   "cell_type": "markdown",
   "metadata": {},
   "source": [
    "We can reject the null that there is no correlation, and accept the alternate hypothesis that ***there is indeed very strong position correlation (0.98) between the two variables***. Hence, we can drop <font color='red' size=4>CRSElapsedTime</font> from our data set. Note that <font color='red'> the variables in red text in this notebook will indicate that we are removing that variable from the data</font>."
   ]
  },
  {
   "cell_type": "code",
   "execution_count": 24,
   "metadata": {
    "collapsed": false
   },
   "outputs": [],
   "source": [
    "df.drop([\"CRSElapsedTime\"], axis=1, inplace=True)"
   ]
  },
  {
   "cell_type": "code",
   "execution_count": 25,
   "metadata": {
    "collapsed": false
   },
   "outputs": [
    {
     "data": {
      "text/plain": [
       "(2857139, 148)"
      ]
     },
     "execution_count": 25,
     "metadata": {},
     "output_type": "execute_result"
    }
   ],
   "source": [
    "df.shape"
   ]
  },
  {
   "cell_type": "markdown",
   "metadata": {},
   "source": [
    "#### Ncan_30:\n",
    "\n",
    "This is the number of cancellations in the last 30 days for a given \"unique\" flight. A unique flight is specified by unique pair of origin-destination and a unique CRSDepTime (scheduled departure time) window. For detailed definition and information, see /springboard-datascience-intensive/capstone_project/DataAcquisitionMerging/history_calc.ipynb."
   ]
  },
  {
   "cell_type": "code",
   "execution_count": 26,
   "metadata": {
    "collapsed": false
   },
   "outputs": [
    {
     "data": {
      "text/plain": [
       "1532"
      ]
     },
     "execution_count": 26,
     "metadata": {},
     "output_type": "execute_result"
    }
   ],
   "source": [
    "sum(pd.isnull(df.Ncan_30))"
   ]
  },
  {
   "cell_type": "markdown",
   "metadata": {},
   "source": [
    "There are 1532 flights for which no 30 days history was found. These flights can be thought of as \"temporary\" flights (or not routine flights), which airlines industry might run on special ocassions or due to some emergency or to satisfy customer requirements. How many times such \"temporary\" flights got cancelled? "
   ]
  },
  {
   "cell_type": "code",
   "execution_count": 27,
   "metadata": {
    "collapsed": false
   },
   "outputs": [
    {
     "data": {
      "text/plain": [
       "23"
      ]
     },
     "execution_count": 27,
     "metadata": {},
     "output_type": "execute_result"
    }
   ],
   "source": [
    "sum((pd.isnull(df.Ncan_30)) & (df.Cancelled == 1))"
   ]
  },
  {
   "cell_type": "markdown",
   "metadata": {},
   "source": [
    "About 1.5% of those temporary flights got cancelled. We deal with the missing value by simply substituting 0 in place of missing values because there were no cancellations in last 30 days (as there were no flights). To preserve the information about missing data or \"temporary\" flight, we create a new indicator column \"TempFlight_30\" which will have 0 for routine flights and 1 for temporary flights based on 30 days history."
   ]
  },
  {
   "cell_type": "code",
   "execution_count": 28,
   "metadata": {
    "collapsed": true
   },
   "outputs": [],
   "source": [
    "df[\"TempFlight_30\"] = pd.isnull(df.Ncan_30).astype(int)\n",
    "df.Ncan_30.fillna(0, inplace=True)"
   ]
  },
  {
   "cell_type": "markdown",
   "metadata": {},
   "source": [
    "#### Ndiv_30:\n",
    "\n",
    "This is the number of diversions in the last 30 days for a given unique flight. The number of missing rows for this column is exactly same as that for Ncan_30."
   ]
  },
  {
   "cell_type": "code",
   "execution_count": 29,
   "metadata": {
    "collapsed": false
   },
   "outputs": [
    {
     "data": {
      "text/plain": [
       "1532"
      ]
     },
     "execution_count": 29,
     "metadata": {},
     "output_type": "execute_result"
    }
   ],
   "source": [
    "sum(pd.isnull(df.Ndiv_30))"
   ]
  },
  {
   "cell_type": "markdown",
   "metadata": {},
   "source": [
    "Therefore, we perform the same step as we did for Ncan_30, except this time we do not create any indicator column because those 1532 \"temporary\" flights are the same ones. "
   ]
  },
  {
   "cell_type": "code",
   "execution_count": 30,
   "metadata": {
    "collapsed": false
   },
   "outputs": [
    {
     "data": {
      "text/plain": [
       "True"
      ]
     },
     "execution_count": 30,
     "metadata": {},
     "output_type": "execute_result"
    }
   ],
   "source": [
    "df.Ndiv_30.fillna(0, inplace=True)\n",
    "# Checking if flights corresponding to missing rows in Ncan_30 and Ndiv_30 are indeed the same ones\n",
    "df[pd.isnull(df.Ncan_30)].equals(df[pd.isnull(df.Ndiv_30)])"
   ]
  },
  {
   "cell_type": "markdown",
   "metadata": {},
   "source": [
    "#### Ncan_20, Ndiv_20:\n",
    "\n",
    "Ncan_20 is the number of cancellations amd Ndiv_20 is the number of diversions in the last 20 days for a given unique flight. These columns are similar to Ncan_30 and Ndiv_20, except we are looking at 20 days history rather than 30 days history."
   ]
  },
  {
   "cell_type": "code",
   "execution_count": 31,
   "metadata": {
    "collapsed": false
   },
   "outputs": [
    {
     "data": {
      "text/plain": [
       "1749"
      ]
     },
     "execution_count": 31,
     "metadata": {},
     "output_type": "execute_result"
    }
   ],
   "source": [
    "sum(pd.isnull(df.Ncan_20))"
   ]
  },
  {
   "cell_type": "code",
   "execution_count": 32,
   "metadata": {
    "collapsed": false
   },
   "outputs": [
    {
     "data": {
      "text/plain": [
       "1749"
      ]
     },
     "execution_count": 32,
     "metadata": {},
     "output_type": "execute_result"
    }
   ],
   "source": [
    "sum(pd.isnull(df.Ndiv_20))"
   ]
  },
  {
   "cell_type": "markdown",
   "metadata": {},
   "source": [
    "There are 1749 missing values or temporary flights based on 20 days history window. Are these flights exactly same for both Ncan_20 and Ndiv_20 columns?"
   ]
  },
  {
   "cell_type": "code",
   "execution_count": 33,
   "metadata": {
    "collapsed": false
   },
   "outputs": [
    {
     "data": {
      "text/plain": [
       "True"
      ]
     },
     "execution_count": 33,
     "metadata": {},
     "output_type": "execute_result"
    }
   ],
   "source": [
    "# Checking if flights corresponding to missing rows in Ncan_20 and Ndiv_20 are indeed the same ones\n",
    "df[pd.isnull(df.Ncan_20)].equals(df[pd.isnull(df.Ndiv_20)])"
   ]
  },
  {
   "cell_type": "markdown",
   "metadata": {},
   "source": [
    "We can apply the same cleaning steps here too, and also create a similar indicator column \"TempFlight_20\" as what we did for 30 days history columns."
   ]
  },
  {
   "cell_type": "code",
   "execution_count": 34,
   "metadata": {
    "collapsed": true
   },
   "outputs": [],
   "source": [
    "df[\"TempFlight_20\"] = pd.isnull(df.Ncan_20).astype(int)\n",
    "df.Ncan_20.fillna(0, inplace=True)\n",
    "df.Ndiv_20.fillna(0, inplace=True)"
   ]
  },
  {
   "cell_type": "markdown",
   "metadata": {},
   "source": [
    "#### Ncan_10, Ndiv_10:\n",
    "\n",
    "Ncan_10 is the number of cancellations amd Ndiv_10 is the number of diversions in the last 10 days for a given unique flight."
   ]
  },
  {
   "cell_type": "code",
   "execution_count": 35,
   "metadata": {
    "collapsed": false
   },
   "outputs": [
    {
     "data": {
      "text/plain": [
       "2150"
      ]
     },
     "execution_count": 35,
     "metadata": {},
     "output_type": "execute_result"
    }
   ],
   "source": [
    "sum(pd.isnull(df.Ncan_10))"
   ]
  },
  {
   "cell_type": "code",
   "execution_count": 36,
   "metadata": {
    "collapsed": false
   },
   "outputs": [
    {
     "data": {
      "text/plain": [
       "2150"
      ]
     },
     "execution_count": 36,
     "metadata": {},
     "output_type": "execute_result"
    }
   ],
   "source": [
    "sum(pd.isnull(df.Ndiv_10))"
   ]
  },
  {
   "cell_type": "markdown",
   "metadata": {},
   "source": [
    "There are 2150 missing values or temporary flights based on 10 days history window. Are these flights exactly same for both Ncan_10 and Ndiv_10 columns?"
   ]
  },
  {
   "cell_type": "code",
   "execution_count": 37,
   "metadata": {
    "collapsed": false
   },
   "outputs": [
    {
     "data": {
      "text/plain": [
       "True"
      ]
     },
     "execution_count": 37,
     "metadata": {},
     "output_type": "execute_result"
    }
   ],
   "source": [
    "# Checking if flights corresponding to missing rows in Ncan_10 and Ndiv_10 are indeed the same ones\n",
    "df[pd.isnull(df.Ncan_10)].equals(df[pd.isnull(df.Ndiv_10)])"
   ]
  },
  {
   "cell_type": "markdown",
   "metadata": {},
   "source": [
    "We can apply the same cleaning steps here too, and also create a similar indicator column \"TempFlight_10\" as what we did for 30 and 20 days history columns."
   ]
  },
  {
   "cell_type": "code",
   "execution_count": 38,
   "metadata": {
    "collapsed": true
   },
   "outputs": [],
   "source": [
    "df[\"TempFlight_10\"] = pd.isnull(df.Ncan_10).astype(int)\n",
    "df.Ncan_10.fillna(0, inplace=True)\n",
    "df.Ndiv_10.fillna(0, inplace=True)"
   ]
  },
  {
   "cell_type": "markdown",
   "metadata": {},
   "source": [
    "#### Hour_Origin, Minute_Origin, TimeZone_Origin, WindDirection_Origin, Condition_Origin, Fog_Origin, Rain_Origin, Snow_Origin, Hail_Origin, Thunder_Origin, Tornado_Origin, Date_Origin, State_Origin, Airport_Origin\n",
    "\n",
    "These 14 columns are specific to the origin airports. Most of them are weather factors with some indicating data and time related information. These columns have exactly same value of null fraction (0.0014199519169350878), so most probably the rows (or flights) with missing values are same for all these 14 columns. Can we check this?"
   ]
  },
  {
   "cell_type": "code",
   "execution_count": 39,
   "metadata": {
    "collapsed": false
   },
   "outputs": [
    {
     "name": "stdout",
     "output_type": "stream",
     "text": [
      "True\n",
      "True\n",
      "True\n",
      "True\n",
      "True\n",
      "True\n",
      "True\n",
      "True\n",
      "True\n",
      "True\n",
      "True\n",
      "True\n",
      "True\n"
     ]
    }
   ],
   "source": [
    "# Checking if flights corresponding to missing rows in all these 14 columns are the same ones\n",
    "print(df[pd.isnull(df.Hour_Origin)].equals(df[pd.isnull(df.Minute_Origin)]))\n",
    "print(df[pd.isnull(df.Minute_Origin)].equals(df[pd.isnull(df.TimeZone_Origin)]))\n",
    "print(df[pd.isnull(df.TimeZone_Origin)].equals(df[pd.isnull(df.WindDirection_Origin)]))\n",
    "print(df[pd.isnull(df.WindDirection_Origin)].equals(df[pd.isnull(df.Condition_Origin)]))\n",
    "print(df[pd.isnull(df.Condition_Origin)].equals(df[pd.isnull(df.Fog_Origin)]))\n",
    "print(df[pd.isnull(df.Fog_Origin)].equals(df[pd.isnull(df.Rain_Origin)]))\n",
    "print(df[pd.isnull(df.Rain_Origin)].equals(df[pd.isnull(df.Snow_Origin)]))\n",
    "print(df[pd.isnull(df.Snow_Origin)].equals(df[pd.isnull(df.Hail_Origin)]))\n",
    "print(df[pd.isnull(df.Hail_Origin)].equals(df[pd.isnull(df.Thunder_Origin)]))\n",
    "print(df[pd.isnull(df.Thunder_Origin)].equals(df[pd.isnull(df.Tornado_Origin)]))\n",
    "print(df[pd.isnull(df.Tornado_Origin)].equals(df[pd.isnull(df.Date_Origin)]))\n",
    "print(df[pd.isnull(df.Date_Origin)].equals(df[pd.isnull(df.State_Origin)]))\n",
    "print(df[pd.isnull(df.State_Origin)].equals(df[pd.isnull(df.Airport_Origin)]))"
   ]
  },
  {
   "cell_type": "code",
   "execution_count": 40,
   "metadata": {
    "collapsed": false
   },
   "outputs": [
    {
     "data": {
      "text/plain": [
       "4057"
      ]
     },
     "execution_count": 40,
     "metadata": {},
     "output_type": "execute_result"
    }
   ],
   "source": [
    "sum(pd.isnull(df.Condition_Origin))"
   ]
  },
  {
   "cell_type": "markdown",
   "metadata": {},
   "source": [
    "There are 4057 missing values in these columns, and they belong to same flights. Now let us think about the columns that can be easily removed. "
   ]
  },
  {
   "cell_type": "code",
   "execution_count": 41,
   "metadata": {
    "collapsed": false
   },
   "outputs": [
    {
     "data": {
      "text/html": [
       "<div>\n",
       "<table border=\"1\" class=\"dataframe\">\n",
       "  <thead>\n",
       "    <tr style=\"text-align: right;\">\n",
       "      <th></th>\n",
       "      <th>Hour_Origin</th>\n",
       "      <th>Minute_Origin</th>\n",
       "      <th>TimeZone_Origin</th>\n",
       "      <th>WindDirection_Origin</th>\n",
       "      <th>Condition_Origin</th>\n",
       "      <th>Fog_Origin</th>\n",
       "      <th>Rain_Origin</th>\n",
       "      <th>Snow_Origin</th>\n",
       "      <th>Hail_Origin</th>\n",
       "      <th>Thunder_Origin</th>\n",
       "      <th>Tornado_Origin</th>\n",
       "      <th>Date_Origin</th>\n",
       "      <th>State_Origin</th>\n",
       "      <th>Airport_Origin</th>\n",
       "    </tr>\n",
       "  </thead>\n",
       "  <tbody>\n",
       "    <tr>\n",
       "      <th>0</th>\n",
       "      <td>9.0</td>\n",
       "      <td>51.0</td>\n",
       "      <td>America/New_York</td>\n",
       "      <td>270.0</td>\n",
       "      <td>Scattered Clouds</td>\n",
       "      <td>0.0</td>\n",
       "      <td>0.0</td>\n",
       "      <td>0.0</td>\n",
       "      <td>0.0</td>\n",
       "      <td>0.0</td>\n",
       "      <td>0.0</td>\n",
       "      <td>2015-01-01</td>\n",
       "      <td>NY</td>\n",
       "      <td>JFK</td>\n",
       "    </tr>\n",
       "    <tr>\n",
       "      <th>1</th>\n",
       "      <td>9.0</td>\n",
       "      <td>51.0</td>\n",
       "      <td>America/New_York</td>\n",
       "      <td>260.0</td>\n",
       "      <td>Mostly Cloudy</td>\n",
       "      <td>0.0</td>\n",
       "      <td>0.0</td>\n",
       "      <td>0.0</td>\n",
       "      <td>0.0</td>\n",
       "      <td>0.0</td>\n",
       "      <td>0.0</td>\n",
       "      <td>2015-01-02</td>\n",
       "      <td>NY</td>\n",
       "      <td>JFK</td>\n",
       "    </tr>\n",
       "    <tr>\n",
       "      <th>2</th>\n",
       "      <td>9.0</td>\n",
       "      <td>51.0</td>\n",
       "      <td>America/New_York</td>\n",
       "      <td>70.0</td>\n",
       "      <td>Mostly Cloudy</td>\n",
       "      <td>0.0</td>\n",
       "      <td>0.0</td>\n",
       "      <td>0.0</td>\n",
       "      <td>0.0</td>\n",
       "      <td>0.0</td>\n",
       "      <td>0.0</td>\n",
       "      <td>2015-01-03</td>\n",
       "      <td>NY</td>\n",
       "      <td>JFK</td>\n",
       "    </tr>\n",
       "    <tr>\n",
       "      <th>3</th>\n",
       "      <td>9.0</td>\n",
       "      <td>51.0</td>\n",
       "      <td>America/New_York</td>\n",
       "      <td>200.0</td>\n",
       "      <td>Overcast</td>\n",
       "      <td>0.0</td>\n",
       "      <td>0.0</td>\n",
       "      <td>0.0</td>\n",
       "      <td>0.0</td>\n",
       "      <td>0.0</td>\n",
       "      <td>0.0</td>\n",
       "      <td>2015-01-04</td>\n",
       "      <td>NY</td>\n",
       "      <td>JFK</td>\n",
       "    </tr>\n",
       "    <tr>\n",
       "      <th>4</th>\n",
       "      <td>9.0</td>\n",
       "      <td>51.0</td>\n",
       "      <td>America/New_York</td>\n",
       "      <td>270.0</td>\n",
       "      <td>Scattered Clouds</td>\n",
       "      <td>0.0</td>\n",
       "      <td>0.0</td>\n",
       "      <td>0.0</td>\n",
       "      <td>0.0</td>\n",
       "      <td>0.0</td>\n",
       "      <td>0.0</td>\n",
       "      <td>2015-01-05</td>\n",
       "      <td>NY</td>\n",
       "      <td>JFK</td>\n",
       "    </tr>\n",
       "    <tr>\n",
       "      <th>5</th>\n",
       "      <td>9.0</td>\n",
       "      <td>51.0</td>\n",
       "      <td>America/New_York</td>\n",
       "      <td>0.0</td>\n",
       "      <td>Light Snow</td>\n",
       "      <td>0.0</td>\n",
       "      <td>0.0</td>\n",
       "      <td>1.0</td>\n",
       "      <td>0.0</td>\n",
       "      <td>0.0</td>\n",
       "      <td>0.0</td>\n",
       "      <td>2015-01-06</td>\n",
       "      <td>NY</td>\n",
       "      <td>JFK</td>\n",
       "    </tr>\n",
       "    <tr>\n",
       "      <th>6</th>\n",
       "      <td>9.0</td>\n",
       "      <td>51.0</td>\n",
       "      <td>America/New_York</td>\n",
       "      <td>280.0</td>\n",
       "      <td>Scattered Clouds</td>\n",
       "      <td>0.0</td>\n",
       "      <td>0.0</td>\n",
       "      <td>0.0</td>\n",
       "      <td>0.0</td>\n",
       "      <td>0.0</td>\n",
       "      <td>0.0</td>\n",
       "      <td>2015-01-07</td>\n",
       "      <td>NY</td>\n",
       "      <td>JFK</td>\n",
       "    </tr>\n",
       "    <tr>\n",
       "      <th>7</th>\n",
       "      <td>9.0</td>\n",
       "      <td>51.0</td>\n",
       "      <td>America/New_York</td>\n",
       "      <td>270.0</td>\n",
       "      <td>Partly Cloudy</td>\n",
       "      <td>0.0</td>\n",
       "      <td>0.0</td>\n",
       "      <td>0.0</td>\n",
       "      <td>0.0</td>\n",
       "      <td>0.0</td>\n",
       "      <td>0.0</td>\n",
       "      <td>2015-01-08</td>\n",
       "      <td>NY</td>\n",
       "      <td>JFK</td>\n",
       "    </tr>\n",
       "    <tr>\n",
       "      <th>8</th>\n",
       "      <td>9.0</td>\n",
       "      <td>51.0</td>\n",
       "      <td>America/New_York</td>\n",
       "      <td>250.0</td>\n",
       "      <td>Light Snow</td>\n",
       "      <td>0.0</td>\n",
       "      <td>0.0</td>\n",
       "      <td>1.0</td>\n",
       "      <td>0.0</td>\n",
       "      <td>0.0</td>\n",
       "      <td>0.0</td>\n",
       "      <td>2015-01-09</td>\n",
       "      <td>NY</td>\n",
       "      <td>JFK</td>\n",
       "    </tr>\n",
       "    <tr>\n",
       "      <th>9</th>\n",
       "      <td>9.0</td>\n",
       "      <td>51.0</td>\n",
       "      <td>America/New_York</td>\n",
       "      <td>290.0</td>\n",
       "      <td>Partly Cloudy</td>\n",
       "      <td>0.0</td>\n",
       "      <td>0.0</td>\n",
       "      <td>0.0</td>\n",
       "      <td>0.0</td>\n",
       "      <td>0.0</td>\n",
       "      <td>0.0</td>\n",
       "      <td>2015-01-10</td>\n",
       "      <td>NY</td>\n",
       "      <td>JFK</td>\n",
       "    </tr>\n",
       "    <tr>\n",
       "      <th>10</th>\n",
       "      <td>9.0</td>\n",
       "      <td>51.0</td>\n",
       "      <td>America/New_York</td>\n",
       "      <td>230.0</td>\n",
       "      <td>Mostly Cloudy</td>\n",
       "      <td>0.0</td>\n",
       "      <td>0.0</td>\n",
       "      <td>0.0</td>\n",
       "      <td>0.0</td>\n",
       "      <td>0.0</td>\n",
       "      <td>0.0</td>\n",
       "      <td>2015-01-11</td>\n",
       "      <td>NY</td>\n",
       "      <td>JFK</td>\n",
       "    </tr>\n",
       "    <tr>\n",
       "      <th>11</th>\n",
       "      <td>9.0</td>\n",
       "      <td>51.0</td>\n",
       "      <td>America/New_York</td>\n",
       "      <td>210.0</td>\n",
       "      <td>Light Rain</td>\n",
       "      <td>0.0</td>\n",
       "      <td>1.0</td>\n",
       "      <td>0.0</td>\n",
       "      <td>0.0</td>\n",
       "      <td>0.0</td>\n",
       "      <td>0.0</td>\n",
       "      <td>2015-01-12</td>\n",
       "      <td>NY</td>\n",
       "      <td>JFK</td>\n",
       "    </tr>\n",
       "    <tr>\n",
       "      <th>12</th>\n",
       "      <td>9.0</td>\n",
       "      <td>51.0</td>\n",
       "      <td>America/New_York</td>\n",
       "      <td>360.0</td>\n",
       "      <td>Scattered Clouds</td>\n",
       "      <td>0.0</td>\n",
       "      <td>0.0</td>\n",
       "      <td>0.0</td>\n",
       "      <td>0.0</td>\n",
       "      <td>0.0</td>\n",
       "      <td>0.0</td>\n",
       "      <td>2015-01-13</td>\n",
       "      <td>NY</td>\n",
       "      <td>JFK</td>\n",
       "    </tr>\n",
       "    <tr>\n",
       "      <th>13</th>\n",
       "      <td>9.0</td>\n",
       "      <td>51.0</td>\n",
       "      <td>America/New_York</td>\n",
       "      <td>30.0</td>\n",
       "      <td>Mostly Cloudy</td>\n",
       "      <td>0.0</td>\n",
       "      <td>0.0</td>\n",
       "      <td>0.0</td>\n",
       "      <td>0.0</td>\n",
       "      <td>0.0</td>\n",
       "      <td>0.0</td>\n",
       "      <td>2015-01-14</td>\n",
       "      <td>NY</td>\n",
       "      <td>JFK</td>\n",
       "    </tr>\n",
       "    <tr>\n",
       "      <th>14</th>\n",
       "      <td>9.0</td>\n",
       "      <td>51.0</td>\n",
       "      <td>America/New_York</td>\n",
       "      <td>320.0</td>\n",
       "      <td>Mostly Cloudy</td>\n",
       "      <td>0.0</td>\n",
       "      <td>0.0</td>\n",
       "      <td>0.0</td>\n",
       "      <td>0.0</td>\n",
       "      <td>0.0</td>\n",
       "      <td>0.0</td>\n",
       "      <td>2015-01-15</td>\n",
       "      <td>NY</td>\n",
       "      <td>JFK</td>\n",
       "    </tr>\n",
       "    <tr>\n",
       "      <th>15</th>\n",
       "      <td>9.0</td>\n",
       "      <td>51.0</td>\n",
       "      <td>America/New_York</td>\n",
       "      <td>270.0</td>\n",
       "      <td>Scattered Clouds</td>\n",
       "      <td>0.0</td>\n",
       "      <td>0.0</td>\n",
       "      <td>0.0</td>\n",
       "      <td>0.0</td>\n",
       "      <td>0.0</td>\n",
       "      <td>0.0</td>\n",
       "      <td>2015-01-16</td>\n",
       "      <td>NY</td>\n",
       "      <td>JFK</td>\n",
       "    </tr>\n",
       "    <tr>\n",
       "      <th>16</th>\n",
       "      <td>9.0</td>\n",
       "      <td>51.0</td>\n",
       "      <td>America/New_York</td>\n",
       "      <td>360.0</td>\n",
       "      <td>Clear</td>\n",
       "      <td>0.0</td>\n",
       "      <td>0.0</td>\n",
       "      <td>0.0</td>\n",
       "      <td>0.0</td>\n",
       "      <td>0.0</td>\n",
       "      <td>0.0</td>\n",
       "      <td>2015-01-17</td>\n",
       "      <td>NY</td>\n",
       "      <td>JFK</td>\n",
       "    </tr>\n",
       "    <tr>\n",
       "      <th>17</th>\n",
       "      <td>9.0</td>\n",
       "      <td>51.0</td>\n",
       "      <td>America/New_York</td>\n",
       "      <td>70.0</td>\n",
       "      <td>Rain</td>\n",
       "      <td>0.0</td>\n",
       "      <td>1.0</td>\n",
       "      <td>0.0</td>\n",
       "      <td>0.0</td>\n",
       "      <td>0.0</td>\n",
       "      <td>0.0</td>\n",
       "      <td>2015-01-18</td>\n",
       "      <td>NY</td>\n",
       "      <td>JFK</td>\n",
       "    </tr>\n",
       "    <tr>\n",
       "      <th>18</th>\n",
       "      <td>9.0</td>\n",
       "      <td>51.0</td>\n",
       "      <td>America/New_York</td>\n",
       "      <td>270.0</td>\n",
       "      <td>Mostly Cloudy</td>\n",
       "      <td>0.0</td>\n",
       "      <td>0.0</td>\n",
       "      <td>0.0</td>\n",
       "      <td>0.0</td>\n",
       "      <td>0.0</td>\n",
       "      <td>0.0</td>\n",
       "      <td>2015-01-19</td>\n",
       "      <td>NY</td>\n",
       "      <td>JFK</td>\n",
       "    </tr>\n",
       "    <tr>\n",
       "      <th>19</th>\n",
       "      <td>9.0</td>\n",
       "      <td>51.0</td>\n",
       "      <td>America/New_York</td>\n",
       "      <td>310.0</td>\n",
       "      <td>Mostly Cloudy</td>\n",
       "      <td>0.0</td>\n",
       "      <td>0.0</td>\n",
       "      <td>0.0</td>\n",
       "      <td>0.0</td>\n",
       "      <td>0.0</td>\n",
       "      <td>0.0</td>\n",
       "      <td>2015-01-20</td>\n",
       "      <td>NY</td>\n",
       "      <td>JFK</td>\n",
       "    </tr>\n",
       "  </tbody>\n",
       "</table>\n",
       "</div>"
      ],
      "text/plain": [
       "    Hour_Origin  Minute_Origin   TimeZone_Origin  WindDirection_Origin  \\\n",
       "0           9.0           51.0  America/New_York                 270.0   \n",
       "1           9.0           51.0  America/New_York                 260.0   \n",
       "2           9.0           51.0  America/New_York                  70.0   \n",
       "3           9.0           51.0  America/New_York                 200.0   \n",
       "4           9.0           51.0  America/New_York                 270.0   \n",
       "5           9.0           51.0  America/New_York                   0.0   \n",
       "6           9.0           51.0  America/New_York                 280.0   \n",
       "7           9.0           51.0  America/New_York                 270.0   \n",
       "8           9.0           51.0  America/New_York                 250.0   \n",
       "9           9.0           51.0  America/New_York                 290.0   \n",
       "10          9.0           51.0  America/New_York                 230.0   \n",
       "11          9.0           51.0  America/New_York                 210.0   \n",
       "12          9.0           51.0  America/New_York                 360.0   \n",
       "13          9.0           51.0  America/New_York                  30.0   \n",
       "14          9.0           51.0  America/New_York                 320.0   \n",
       "15          9.0           51.0  America/New_York                 270.0   \n",
       "16          9.0           51.0  America/New_York                 360.0   \n",
       "17          9.0           51.0  America/New_York                  70.0   \n",
       "18          9.0           51.0  America/New_York                 270.0   \n",
       "19          9.0           51.0  America/New_York                 310.0   \n",
       "\n",
       "    Condition_Origin  Fog_Origin  Rain_Origin  Snow_Origin  Hail_Origin  \\\n",
       "0   Scattered Clouds         0.0          0.0          0.0          0.0   \n",
       "1      Mostly Cloudy         0.0          0.0          0.0          0.0   \n",
       "2      Mostly Cloudy         0.0          0.0          0.0          0.0   \n",
       "3           Overcast         0.0          0.0          0.0          0.0   \n",
       "4   Scattered Clouds         0.0          0.0          0.0          0.0   \n",
       "5         Light Snow         0.0          0.0          1.0          0.0   \n",
       "6   Scattered Clouds         0.0          0.0          0.0          0.0   \n",
       "7      Partly Cloudy         0.0          0.0          0.0          0.0   \n",
       "8         Light Snow         0.0          0.0          1.0          0.0   \n",
       "9      Partly Cloudy         0.0          0.0          0.0          0.0   \n",
       "10     Mostly Cloudy         0.0          0.0          0.0          0.0   \n",
       "11        Light Rain         0.0          1.0          0.0          0.0   \n",
       "12  Scattered Clouds         0.0          0.0          0.0          0.0   \n",
       "13     Mostly Cloudy         0.0          0.0          0.0          0.0   \n",
       "14     Mostly Cloudy         0.0          0.0          0.0          0.0   \n",
       "15  Scattered Clouds         0.0          0.0          0.0          0.0   \n",
       "16             Clear         0.0          0.0          0.0          0.0   \n",
       "17              Rain         0.0          1.0          0.0          0.0   \n",
       "18     Mostly Cloudy         0.0          0.0          0.0          0.0   \n",
       "19     Mostly Cloudy         0.0          0.0          0.0          0.0   \n",
       "\n",
       "    Thunder_Origin  Tornado_Origin Date_Origin State_Origin Airport_Origin  \n",
       "0              0.0             0.0  2015-01-01           NY            JFK  \n",
       "1              0.0             0.0  2015-01-02           NY            JFK  \n",
       "2              0.0             0.0  2015-01-03           NY            JFK  \n",
       "3              0.0             0.0  2015-01-04           NY            JFK  \n",
       "4              0.0             0.0  2015-01-05           NY            JFK  \n",
       "5              0.0             0.0  2015-01-06           NY            JFK  \n",
       "6              0.0             0.0  2015-01-07           NY            JFK  \n",
       "7              0.0             0.0  2015-01-08           NY            JFK  \n",
       "8              0.0             0.0  2015-01-09           NY            JFK  \n",
       "9              0.0             0.0  2015-01-10           NY            JFK  \n",
       "10             0.0             0.0  2015-01-11           NY            JFK  \n",
       "11             0.0             0.0  2015-01-12           NY            JFK  \n",
       "12             0.0             0.0  2015-01-13           NY            JFK  \n",
       "13             0.0             0.0  2015-01-14           NY            JFK  \n",
       "14             0.0             0.0  2015-01-15           NY            JFK  \n",
       "15             0.0             0.0  2015-01-16           NY            JFK  \n",
       "16             0.0             0.0  2015-01-17           NY            JFK  \n",
       "17             0.0             0.0  2015-01-18           NY            JFK  \n",
       "18             0.0             0.0  2015-01-19           NY            JFK  \n",
       "19             0.0             0.0  2015-01-20           NY            JFK  "
      ]
     },
     "execution_count": 41,
     "metadata": {},
     "output_type": "execute_result"
    }
   ],
   "source": [
    "df[['Hour_Origin', 'Minute_Origin', 'TimeZone_Origin', 'WindDirection_Origin', 'Condition_Origin', \n",
    "    'Fog_Origin', 'Rain_Origin', 'Snow_Origin', 'Hail_Origin', 'Thunder_Origin', 'Tornado_Origin', \n",
    "    'Date_Origin', 'State_Origin', 'Airport_Origin']].head(20)"
   ]
  },
  {
   "cell_type": "markdown",
   "metadata": {},
   "source": [
    "We know the CRSDepTime (which has no missing values) so we can extract the hour and minute information from that. Hence, we can remove <font color='red' size=4>Hour_Origin and Minute_Origin</font>. We know the origin airport \"Origin\" (which has no missing values), so we can drop <font color='red' size=4>TimeZone_Origin, State_Origin and Airport_Origin</font> too. The \"Date_Origin\" column which is the date at origin airport is exactly same as \"FlightDate\" (which has no missing values), so we can drop <font color='red' size=4>Date_Origin</font> as well. Lets now discuss the weather factors. There are 6 indicator columns indicating different weather conditions. There is also a \"Condition_Origin\" column that has much detailed iformation about the weather condition."
   ]
  },
  {
   "cell_type": "code",
   "execution_count": 42,
   "metadata": {
    "collapsed": false
   },
   "outputs": [
    {
     "name": "stdout",
     "output_type": "stream",
     "text": [
      "{nan, 'Heavy Thunderstorms and Rain', 'Drizzle', 'Thunderstorms with Small Hail', 'Overcast', 'Rain', 'Clear', 'Snow', 'Light Thunderstorms and Rain', 'Squalls', 'Light Snow', 'Ice Pellets', 'Light Rain', 'Fog', 'Heavy Rain', 'Shallow Fog', 'Smoke', 'Light Rain Showers', 'Light Thunderstorms with Small Hail', 'Patches of Fog', 'Light Thunderstorms and Snow', 'Thunderstorm', 'Light Hail', 'Haze', 'Light Ice Pellets', 'Mostly Cloudy', 'Partly Cloudy', 'Blowing Snow', 'Mist', 'Heavy Snow', 'Light Freezing Drizzle', 'Light Drizzle', 'Small Hail', 'Scattered Clouds', 'Thunderstorms and Rain', 'Widespread Dust', 'Unknown', 'Light Freezing Fog', 'Light Freezing Rain', 'Freezing Rain'}\n"
     ]
    }
   ],
   "source": [
    "print(set(df.Condition_Origin))"
   ]
  },
  {
   "cell_type": "markdown",
   "metadata": {},
   "source": [
    "Those 6 indicator columns do not tell the whole story. According to Rain_Origin, there is no difference between \"Rain\" and \"Light Rain\". However, the \"Condition_Origin\" captures the weather condition in much more detail. Therefore, we can drop <font color='red' size=4> Fog_Origin, Rain_Origin, Snow_Origin, Hail_Origin, Thunder_Origin, and Tornado_Origin</font>. We will keep \"Condition_Origin\"."
   ]
  },
  {
   "cell_type": "code",
   "execution_count": 43,
   "metadata": {
    "collapsed": true
   },
   "outputs": [],
   "source": [
    "df.drop([\"Hour_Origin\", \"Minute_Origin\", \"TimeZone_Origin\", \"State_Origin\", \"Airport_Origin\",\n",
    "        \"Date_Origin\", \"Fog_Origin\", \"Rain_Origin\", \"Snow_Origin\", \"Hail_Origin\", \n",
    "         \"Thunder_Origin\", \"Tornado_Origin\"], axis=1, inplace=True)"
   ]
  },
  {
   "cell_type": "code",
   "execution_count": 44,
   "metadata": {
    "collapsed": false
   },
   "outputs": [
    {
     "data": {
      "text/plain": [
       "(2857139, 139)"
      ]
     },
     "execution_count": 44,
     "metadata": {},
     "output_type": "execute_result"
    }
   ],
   "source": [
    "df.shape"
   ]
  },
  {
   "cell_type": "code",
   "execution_count": 54,
   "metadata": {
    "collapsed": true
   },
   "outputs": [],
   "source": [
    "# There are some \"Unknown\" values in Condition_Origin. Lets replace them by NaN.\n",
    "df.Condition_Origin[df.Condition_Origin == \"Unknown\"] = np.nan"
   ]
  },
  {
   "cell_type": "code",
   "execution_count": 55,
   "metadata": {
    "collapsed": false
   },
   "outputs": [
    {
     "data": {
      "text/plain": [
       "4496"
      ]
     },
     "execution_count": 55,
     "metadata": {},
     "output_type": "execute_result"
    }
   ],
   "source": [
    "sum(pd.isnull(df.Condition_Origin))"
   ]
  },
  {
   "cell_type": "markdown",
   "metadata": {},
   "source": [
    "Out of 14, only  \"WindDirection_Origin\" and \"Condition_Origin\" are left to be fixed. WindDirection_Origin is the direction in degress (0 for north, 90 for east, 180 for south, 270 for west, and various values among these 4 primary directions) at the origin airport. If the wind direction value and Condition_Origin value are missing for a particular flight at a particular departure date and time, we can approximate them with another flight's wind direction value and Condition_Origin value, respectively, which is scheduled to depart just before the hour that the current flight (with missing value) is scheduled to depart. \n",
    "\n",
    "Lets create a new column \"FlightDateTime\", which is just an extension of \"Flightdate\" with CRSDepTime added. This will help us in finding flights that are scheduled to depart around the same time as the flight that has missing wind direction value. Once we create this new column, we can delete \"FlightDate\"."
   ]
  },
  {
   "cell_type": "code",
   "execution_count": 47,
   "metadata": {
    "collapsed": false
   },
   "outputs": [
    {
     "name": "stdout",
     "output_type": "stream",
     "text": [
      "CPU times: user 4min 35s, sys: 966 ms, total: 4min 36s\n",
      "Wall time: 4min 37s\n"
     ]
    }
   ],
   "source": [
    "%%time\n",
    "new_col = []\n",
    "for row in np.arange(len(df)):\n",
    "    thisDate = df.FlightDate[row]\n",
    "    # get CRS departure time of current flight\n",
    "    thisCRSDep = df.CRSDepTime[row]\n",
    "    thisCRSDepFormatted = datetime.datetime.strptime(str(thisCRSDep).zfill(4), \"%H%M\")\n",
    "    # get hour of the current flight\n",
    "    thisHour = thisCRSDepFormatted.hour\n",
    "    # get minute of the current flight\n",
    "    thisMin = thisCRSDepFormatted.minute\n",
    "    # gupdate the current flight's date with hour and minute\n",
    "    new_col.append(thisDate + pd.DateOffset(hour = thisHour, minute = thisMin))"
   ]
  },
  {
   "cell_type": "code",
   "execution_count": 56,
   "metadata": {
    "collapsed": false
   },
   "outputs": [],
   "source": [
    "df[\"FlightDateTime\"] = new_col"
   ]
  },
  {
   "cell_type": "code",
   "execution_count": 58,
   "metadata": {
    "collapsed": false
   },
   "outputs": [],
   "source": [
    "# dropping original FlightDate\n",
    "df.drop([\"FlightDate\"], axis=1, inplace=True)"
   ]
  },
  {
   "cell_type": "code",
   "execution_count": 59,
   "metadata": {
    "collapsed": true
   },
   "outputs": [],
   "source": [
    "# Sorting the data frame based on FlightDateTime\n",
    "df = df.sort_values(\"FlightDateTime\")"
   ]
  },
  {
   "cell_type": "code",
   "execution_count": 60,
   "metadata": {
    "collapsed": false
   },
   "outputs": [],
   "source": [
    "df = df.reset_index()\n",
    "df = df.drop(\"index\", axis=1)"
   ]
  },
  {
   "cell_type": "markdown",
   "metadata": {},
   "source": [
    "Lets now createa function that would fill the missing value in any given column, where we want to fill the missing values by the data available at earlier hour. "
   ]
  },
  {
   "cell_type": "code",
   "execution_count": 63,
   "metadata": {
    "collapsed": false
   },
   "outputs": [],
   "source": [
    "def fill_missing_value_using_earlier_time(col, df, loc):\n",
    "    # col: the column we want to fix\n",
    "    # df: the original data frame\n",
    "    # loc: location - either \"Origin\" or \"Dest\", depending on which loc we are interested in fixing the weather columns for\n",
    "    for org in set(df[loc]):\n",
    "        # filtering based on origin airport\n",
    "        dft = df[df[loc] == org]\n",
    "        # filling missing values for chosen airport\n",
    "        dft[col] = dft[col].fillna(method='ffill')\n",
    "        # replacing the column in the original data frame with the column with no missing values\n",
    "        df.loc[dft.index, col] = dft[col]\n",
    "    return(df)"
   ]
  },
  {
   "cell_type": "code",
   "execution_count": 64,
   "metadata": {
    "collapsed": false
   },
   "outputs": [],
   "source": [
    "df = fill_missing_value_using_earlier_time(\"WindDirection_Origin\", df, \"Origin\")"
   ]
  },
  {
   "cell_type": "code",
   "execution_count": 65,
   "metadata": {
    "collapsed": false
   },
   "outputs": [
    {
     "data": {
      "text/plain": [
       "0"
      ]
     },
     "execution_count": 65,
     "metadata": {},
     "output_type": "execute_result"
    }
   ],
   "source": [
    "sum(pd.isnull(df.WindDirection_Origin))"
   ]
  },
  {
   "cell_type": "code",
   "execution_count": 66,
   "metadata": {
    "collapsed": true
   },
   "outputs": [],
   "source": [
    "df = fill_missing_value_using_earlier_time(\"Condition_Origin\", df, \"Origin\")"
   ]
  },
  {
   "cell_type": "code",
   "execution_count": 67,
   "metadata": {
    "collapsed": false
   },
   "outputs": [
    {
     "data": {
      "text/plain": [
       "0"
      ]
     },
     "execution_count": 67,
     "metadata": {},
     "output_type": "execute_result"
    }
   ],
   "source": [
    "sum(pd.isnull(df.Condition_Origin))"
   ]
  },
  {
   "cell_type": "markdown",
   "metadata": {},
   "source": [
    "Ok, so we have taken care of the missing values in the wind direction at origin airport. Lets now move on to the next items in the \"frac_nulls\" array.\n",
    "\n",
    "\n",
    "#### Pressure_Origin, DewPoint_Origin, Temperature_Origin, Humidity_Origin, Visibility_Origin, WindSpeed_Origin\n",
    "\n",
    "\n",
    "These 6 columns are also about the weather factors at origin airports. They have different number of missing values in them (0.149% to 0.179%). We can fix the missing values in these columns in a similar manner as we did for \"WindDirection_Origin\" because we ***assume*** that these weather factors are going to remain almost same within an hour or two. So, we can make those approximations and fill in the the missing values."
   ]
  },
  {
   "cell_type": "code",
   "execution_count": 68,
   "metadata": {
    "collapsed": true
   },
   "outputs": [],
   "source": [
    "df = fill_missing_value_using_earlier_time(\"Pressure_Origin\", df, \"Origin\")"
   ]
  },
  {
   "cell_type": "code",
   "execution_count": 69,
   "metadata": {
    "collapsed": true
   },
   "outputs": [],
   "source": [
    "df = fill_missing_value_using_earlier_time(\"DewPoint_Origin\", df, \"Origin\")"
   ]
  },
  {
   "cell_type": "code",
   "execution_count": 70,
   "metadata": {
    "collapsed": true
   },
   "outputs": [],
   "source": [
    "df = fill_missing_value_using_earlier_time(\"Temperature_Origin\", df, \"Origin\")"
   ]
  },
  {
   "cell_type": "code",
   "execution_count": 71,
   "metadata": {
    "collapsed": true
   },
   "outputs": [],
   "source": [
    "df = fill_missing_value_using_earlier_time(\"Humidity_Origin\", df, \"Origin\")"
   ]
  },
  {
   "cell_type": "code",
   "execution_count": 72,
   "metadata": {
    "collapsed": true
   },
   "outputs": [],
   "source": [
    "df = fill_missing_value_using_earlier_time(\"Visibility_Origin\", df, \"Origin\")"
   ]
  },
  {
   "cell_type": "code",
   "execution_count": 73,
   "metadata": {
    "collapsed": true
   },
   "outputs": [],
   "source": [
    "df = fill_missing_value_using_earlier_time(\"WindSpeed_Origin\", df, \"Origin\")"
   ]
  },
  {
   "cell_type": "markdown",
   "metadata": {},
   "source": [
    "#### Hour_Dest, Minute_Dest, TimeZone_Dest, WindDirection_Dest, Condition_Dest, Fog_Dest, Rain_Dest, Snow_Dest, Hail_Dest, Thunder_Dest, Tornado_Dest, Date_Dest, State_Dest, Airport_Dest\n",
    "\n",
    "\n",
    "These 14 columns are similar to what we have already covered, except these are for destination airport location (earlier we had origin airport locations). So, we are going to treat them same as we did before.\n",
    "\n",
    "These columns have exactly same value of null fraction (0.0021336028803638886), so most probably the rows (or flights) with missing values are same for all these 14 columns. Can we check this?"
   ]
  },
  {
   "cell_type": "code",
   "execution_count": 74,
   "metadata": {
    "collapsed": false
   },
   "outputs": [
    {
     "name": "stdout",
     "output_type": "stream",
     "text": [
      "True\n",
      "True\n",
      "True\n",
      "True\n",
      "True\n",
      "True\n",
      "True\n",
      "True\n",
      "True\n",
      "True\n",
      "True\n",
      "True\n",
      "True\n"
     ]
    }
   ],
   "source": [
    "# Checking if flights corresponding to missing rows in all these 14 columns are the same ones\n",
    "print(df[pd.isnull(df.Hour_Dest)].equals(df[pd.isnull(df.Minute_Dest)]))\n",
    "print(df[pd.isnull(df.Minute_Dest)].equals(df[pd.isnull(df.TimeZone_Dest)]))\n",
    "print(df[pd.isnull(df.TimeZone_Dest)].equals(df[pd.isnull(df.WindDirection_Dest)]))\n",
    "print(df[pd.isnull(df.WindDirection_Dest)].equals(df[pd.isnull(df.Condition_Dest)]))\n",
    "print(df[pd.isnull(df.Condition_Dest)].equals(df[pd.isnull(df.Fog_Dest)]))\n",
    "print(df[pd.isnull(df.Fog_Dest)].equals(df[pd.isnull(df.Rain_Dest)]))\n",
    "print(df[pd.isnull(df.Rain_Dest)].equals(df[pd.isnull(df.Snow_Dest)]))\n",
    "print(df[pd.isnull(df.Snow_Dest)].equals(df[pd.isnull(df.Hail_Dest)]))\n",
    "print(df[pd.isnull(df.Hail_Dest)].equals(df[pd.isnull(df.Thunder_Dest)]))\n",
    "print(df[pd.isnull(df.Thunder_Dest)].equals(df[pd.isnull(df.Tornado_Dest)]))\n",
    "print(df[pd.isnull(df.Tornado_Dest)].equals(df[pd.isnull(df.Date_Dest)]))\n",
    "print(df[pd.isnull(df.Date_Dest)].equals(df[pd.isnull(df.State_Dest)]))\n",
    "print(df[pd.isnull(df.State_Dest)].equals(df[pd.isnull(df.Airport_Dest)]))"
   ]
  },
  {
   "cell_type": "code",
   "execution_count": 75,
   "metadata": {
    "collapsed": false
   },
   "outputs": [
    {
     "data": {
      "text/plain": [
       "6096"
      ]
     },
     "execution_count": 75,
     "metadata": {},
     "output_type": "execute_result"
    }
   ],
   "source": [
    "sum(pd.isnull(df.Condition_Dest))"
   ]
  },
  {
   "cell_type": "markdown",
   "metadata": {},
   "source": [
    "There are 6096 missing values in these columns, and they belong to same flights. Now let us remove some columns that are not giving any additional information.\n",
    "\n",
    "We are going to remove <font color='red' size=4>Hour_Dest, Minute_Dest, TimeZone_Dest, State_Dest and Airport_Dest</font> for the reasons we discussed while handling \"Origin\" airport columns. The \"Date_Dest\" column which is the date at the destination airport is exactly same as \"FlightDateAtDest\" (which has no missing values), so we can drop <font color='red' size=4>Date_Dest</font> as well. Lets now discuss the weather factors. There are 6 indicator columns indicating different weather conditions. There is also a \"Condition_Dest\" column that has much detailed iformation about the weather condition."
   ]
  },
  {
   "cell_type": "code",
   "execution_count": 76,
   "metadata": {
    "collapsed": false
   },
   "outputs": [
    {
     "name": "stdout",
     "output_type": "stream",
     "text": [
      "{nan, 'Heavy Thunderstorms and Rain', 'Drizzle', 'Thunderstorms with Small Hail', 'Overcast', 'Rain', 'Clear', 'Snow', 'Light Thunderstorms and Rain', 'Squalls', 'Light Snow', 'Ice Pellets', 'Fog', 'Light Rain', 'Heavy Rain', 'Shallow Fog', 'Smoke', 'Light Rain Showers', 'Light Thunderstorms with Small Hail', 'Patches of Fog', 'Light Thunderstorms and Snow', 'Thunderstorm', 'Light Hail', 'Haze', 'Light Ice Pellets', 'Mostly Cloudy', 'Partly Cloudy', 'Blowing Snow', 'Mist', 'Heavy Snow', 'Light Freezing Drizzle', 'Light Drizzle', 'Small Hail', 'Scattered Clouds', 'Thunderstorms and Rain', 'Widespread Dust', 'Unknown', 'Light Freezing Fog', 'Light Freezing Rain', 'Freezing Rain'}\n"
     ]
    }
   ],
   "source": [
    "print(set(df.Condition_Dest))"
   ]
  },
  {
   "cell_type": "markdown",
   "metadata": {},
   "source": [
    "We are going to drop <font color='red' size=4>Fog_Dest, Rain_Dest, Snow_Dest, Hail_Dest, Thunder_Dest, and Tornado_Dest</font> for the same reasons we discussed while handling \"Origin\" airport columns. We will keep \"Condition_Dest\", and replace \"Unknown\" by NaN. Further, we will replace NaN by value for a preceding flight at the same airport. Later in the modeling stage, we will create new indicator columns indicating all sorts of weather conditions at the destination airport. For the time being, lets simply drop some columns and replace fix missing values."
   ]
  },
  {
   "cell_type": "code",
   "execution_count": 77,
   "metadata": {
    "collapsed": true
   },
   "outputs": [],
   "source": [
    "df.drop([\"Hour_Dest\", \"Minute_Dest\", \"TimeZone_Dest\", \"State_Dest\", \"Airport_Dest\",\n",
    "        \"Date_Dest\", \"Fog_Dest\", \"Rain_Dest\", \"Snow_Dest\", \"Hail_Dest\", \n",
    "         \"Thunder_Dest\", \"Tornado_Dest\"], axis=1, inplace=True)"
   ]
  },
  {
   "cell_type": "code",
   "execution_count": 78,
   "metadata": {
    "collapsed": false
   },
   "outputs": [
    {
     "data": {
      "text/plain": [
       "(2857139, 127)"
      ]
     },
     "execution_count": 78,
     "metadata": {},
     "output_type": "execute_result"
    }
   ],
   "source": [
    "df.shape"
   ]
  },
  {
   "cell_type": "code",
   "execution_count": 79,
   "metadata": {
    "collapsed": true
   },
   "outputs": [],
   "source": [
    "# There are some \"Unknown\" values in Condition_Dest. Lets replace them by NaN.\n",
    "df.Condition_Dest[df.Condition_Dest == \"Unknown\"] = np.nan"
   ]
  },
  {
   "cell_type": "code",
   "execution_count": 80,
   "metadata": {
    "collapsed": false
   },
   "outputs": [
    {
     "data": {
      "text/plain": [
       "6519"
      ]
     },
     "execution_count": 80,
     "metadata": {},
     "output_type": "execute_result"
    }
   ],
   "source": [
    "sum(pd.isnull(df.Condition_Dest))"
   ]
  },
  {
   "cell_type": "markdown",
   "metadata": {},
   "source": [
    "Out of 14, only \"WindDirection_Dest\" and \"Condition_Dest\" are left to be fixed. If the wind direction value and Condition_Dest value are missing for a particular flight at a particular destination date and time, we can approximate them with another flight's wind direction value and Condition_Dest values, respectively, which is scheduled to arrive just before the hour that the current flight (with missing value) is scheduled to arrive.\n",
    "Lets create a new column \"FlightDateTimeAtDest\", which is just an extension of \"FlightdateAtDest\" with CRSArrTime added. This will help us in finding flights that are scheduled to arrive around the same time as the flight that has missing wind direction value. Once we create this new column, we can delete \"FlightDateAtDest\"."
   ]
  },
  {
   "cell_type": "code",
   "execution_count": 81,
   "metadata": {
    "collapsed": true
   },
   "outputs": [],
   "source": [
    "df[\"FlightDateAtDest\"] = pd.to_datetime(df[\"FlightDateAtDest\"])"
   ]
  },
  {
   "cell_type": "code",
   "execution_count": 82,
   "metadata": {
    "collapsed": false
   },
   "outputs": [
    {
     "name": "stdout",
     "output_type": "stream",
     "text": [
      "CPU times: user 4min 30s, sys: 806 ms, total: 4min 31s\n",
      "Wall time: 4min 31s\n"
     ]
    }
   ],
   "source": [
    "%%time\n",
    "df.CRSArrTime[(df.CRSArrTime == 2400)] = 0\n",
    "new_col = []\n",
    "for row in np.arange(len(df)):\n",
    "    thisDate = df.FlightDateAtDest[row]\n",
    "    # get CRS arrival time of current flight\n",
    "    thisCRSArr = df.CRSArrTime[row]\n",
    "    thisCRSArrFormatted = datetime.datetime.strptime(str(thisCRSArr).zfill(4), \"%H%M\")\n",
    "    # get hour of the current flight\n",
    "    thisHour = thisCRSArrFormatted.hour\n",
    "    # get minute of the current flight\n",
    "    thisMin = thisCRSArrFormatted.minute\n",
    "    # gupdate the current flight's date with hour and minute\n",
    "    new_col.append(thisDate + pd.DateOffset(hour = thisHour, minute = thisMin)) "
   ]
  },
  {
   "cell_type": "code",
   "execution_count": 83,
   "metadata": {
    "collapsed": true
   },
   "outputs": [],
   "source": [
    "df[\"FlightDateTimeAtDest\"] = new_col"
   ]
  },
  {
   "cell_type": "code",
   "execution_count": 84,
   "metadata": {
    "collapsed": true
   },
   "outputs": [],
   "source": [
    "# dropping original FlightDateAtDest\n",
    "df.drop([\"FlightDateAtDest\"], axis=1, inplace=True)"
   ]
  },
  {
   "cell_type": "code",
   "execution_count": 85,
   "metadata": {
    "collapsed": true
   },
   "outputs": [],
   "source": [
    "# Sorting the data frame based on FlightDateTimeAtDest\n",
    "df = df.sort_values(\"FlightDateTimeAtDest\")"
   ]
  },
  {
   "cell_type": "code",
   "execution_count": 86,
   "metadata": {
    "collapsed": true
   },
   "outputs": [],
   "source": [
    "df = df.reset_index()\n",
    "df = df.drop(\"index\", axis=1)"
   ]
  },
  {
   "cell_type": "code",
   "execution_count": 87,
   "metadata": {
    "collapsed": true
   },
   "outputs": [],
   "source": [
    "# fixing WindDirection_Dest column\n",
    "df = fill_missing_value_using_earlier_time(\"WindDirection_Dest\", df, \"Dest\")"
   ]
  },
  {
   "cell_type": "code",
   "execution_count": 88,
   "metadata": {
    "collapsed": false
   },
   "outputs": [
    {
     "data": {
      "text/plain": [
       "0"
      ]
     },
     "execution_count": 88,
     "metadata": {},
     "output_type": "execute_result"
    }
   ],
   "source": [
    "sum(pd.isnull(df.WindDirection_Dest))"
   ]
  },
  {
   "cell_type": "code",
   "execution_count": 89,
   "metadata": {
    "collapsed": true
   },
   "outputs": [],
   "source": [
    "# fixing Condition_Dest column\n",
    "df = fill_missing_value_using_earlier_time(\"Condition_Dest\", df, \"Dest\")"
   ]
  },
  {
   "cell_type": "code",
   "execution_count": 90,
   "metadata": {
    "collapsed": false
   },
   "outputs": [
    {
     "data": {
      "text/plain": [
       "0"
      ]
     },
     "execution_count": 90,
     "metadata": {},
     "output_type": "execute_result"
    }
   ],
   "source": [
    "sum(pd.isnull(df.Condition_Dest))"
   ]
  },
  {
   "cell_type": "markdown",
   "metadata": {},
   "source": [
    "Lets now move on to fixing more items mentioned in frac_nulls array:\n",
    "\n",
    "#### DepDelayMedian_30, DepDelayMax_30\n",
    "\n",
    "\n",
    "These 2 columns contain historical information on delay in deaprture in minutes for the last 30 days prior to the flight we are reading the data for. Before fixing these columns, we need to understand the causes of missing values.\n",
    "The null fraction for these two columns are bit higher than the null fraction for Ncan_30. This means that other than temporary flight issue, there are more factors that cause the missing value in these two columns. One possible reason could be cancelled flights. For cancelled flights, there was no record for departure delay (which is obvious). There could be some more factors. Lets explore the data where we do see missing values for, say DepDelayMax_30. "
   ]
  },
  {
   "cell_type": "code",
   "execution_count": 91,
   "metadata": {
    "collapsed": false
   },
   "outputs": [
    {
     "name": "stdout",
     "output_type": "stream",
     "text": [
      "True\n"
     ]
    }
   ],
   "source": [
    "# Checking if flights corresponding to missing rows in these two columns are the same ones\n",
    "print(df[pd.isnull(df.DepDelayMax_30)].equals(df[pd.isnull(df.DepDelayMedian_30)]))"
   ]
  },
  {
   "cell_type": "code",
   "execution_count": 92,
   "metadata": {
    "collapsed": false
   },
   "outputs": [
    {
     "data": {
      "text/plain": [
       "6865"
      ]
     },
     "execution_count": 92,
     "metadata": {},
     "output_type": "execute_result"
    }
   ],
   "source": [
    "sum(pd.isnull(df.DepDelayMax_30))"
   ]
  },
  {
   "cell_type": "code",
   "execution_count": 93,
   "metadata": {
    "collapsed": false
   },
   "outputs": [
    {
     "data": {
      "text/plain": [
       "5333"
      ]
     },
     "execution_count": 93,
     "metadata": {},
     "output_type": "execute_result"
    }
   ],
   "source": [
    "6865 - 1532"
   ]
  },
  {
   "cell_type": "markdown",
   "metadata": {},
   "source": [
    "There are 6865 flights that have missing values for the column \"DepDelayMax_30\". We have seen before that the column Ncan_30 had 1532 missing values. This means that there are 6865 - 1532 = 5333 flights that were not temporary (based on 30 days history window) but had missing values in DepDelayMax_30. How many such flights?"
   ]
  },
  {
   "cell_type": "code",
   "execution_count": 94,
   "metadata": {
    "collapsed": false
   },
   "outputs": [
    {
     "data": {
      "text/plain": [
       "5333"
      ]
     },
     "execution_count": 94,
     "metadata": {},
     "output_type": "execute_result"
    }
   ],
   "source": [
    "sum((pd.isnull(df.DepDelayMax_30)) & (df.TempFlight_30 == 0))"
   ]
  },
  {
   "cell_type": "markdown",
   "metadata": {},
   "source": [
    "These 5333 flights are not temporary flights (i.e. they ran at least once in last 30 days). If they ran, why are we getting missing values for these two columns? Some of it can be due to \"all canceled flights in last 30 days\" since there is no delay information for canceled flights. If there is no information for any flights in last 30 days, we will get arrays of missing values, and aggregating those arrays would also lead to missing values.\n",
    "\n",
    "How many such flights?"
   ]
  },
  {
   "cell_type": "code",
   "execution_count": 95,
   "metadata": {
    "collapsed": false
   },
   "outputs": [
    {
     "data": {
      "text/plain": [
       "5333"
      ]
     },
     "execution_count": 95,
     "metadata": {},
     "output_type": "execute_result"
    }
   ],
   "source": [
    "sum((pd.isnull(df.DepDelayMax_30)) & (df.TempFlight_30 == 0) & (df.Ncan_30 == df.Nflights_30))"
   ]
  },
  {
   "cell_type": "markdown",
   "metadata": {},
   "source": [
    "Not some of it but all 5333 flights have really poor history. All of these 5333 flights' 30 days history show that whatever number of flights that were scheduled to fly, got cancelled. Note that Nflights_30 is the number of flights that were scheduled to fly within 30 days before the current flight or row that we are looking for.\n",
    "\n",
    "So, we understand the breakup of 6865 flights that have missing values for DepDelayMedian_30 and DepDelayMax_30:\n",
    "\n",
    "1532 flights: temporary\n",
    "\n",
    "5333 flights: all flights in last 30 days got canceled\n",
    "\n",
    "\n",
    "We can fill the missing values in both columns by 0, and account for the missing information by creating two columns: one for temporary flight and another for all canceled flights. Since we have already created \"TempFlight_30\", we only create one column \"AllCanceled_30\" below."
   ]
  },
  {
   "cell_type": "code",
   "execution_count": 96,
   "metadata": {
    "collapsed": true
   },
   "outputs": [],
   "source": [
    "df[\"AllCanceled_30\"] = ((pd.isnull(df.DepDelayMax_30)) & (df.TempFlight_30 == 0) & (df.Ncan_30 == df.Nflights_30)).astype(int)\n",
    "df.DepDelayMax_30.fillna(0, inplace=True)\n",
    "df.DepDelayMedian_30.fillna(0, inplace=True)"
   ]
  },
  {
   "cell_type": "markdown",
   "metadata": {},
   "source": [
    "#### TaxiOutMedian_30, TaxiInMedian_30\n",
    "\n",
    "These are the median values of taxi-in and taxi-out times in minutes for last 30 days. Taxi-in time is the time duration between the landing time (wheels-off time) and the time when pilot applies parking brake at the gate. The Taxi-out time is the time duration between the time when pilot releases the parking brake at the gate and the time when plane wheels off. Are the flights same for the rows that have missing values for these two columns? How many missing values do we have for these two columns?"
   ]
  },
  {
   "cell_type": "code",
   "execution_count": 97,
   "metadata": {
    "collapsed": false
   },
   "outputs": [
    {
     "name": "stdout",
     "output_type": "stream",
     "text": [
      "True\n"
     ]
    }
   ],
   "source": [
    "# Checking if flights corresponding to missing rows in these two columns are the same ones\n",
    "print(df[pd.isnull(df.TaxiInMedian_30)].equals(df[pd.isnull(df.TaxiOutMedian_30)]))"
   ]
  },
  {
   "cell_type": "code",
   "execution_count": 98,
   "metadata": {
    "collapsed": false
   },
   "outputs": [
    {
     "data": {
      "text/plain": [
       "6867"
      ]
     },
     "execution_count": 98,
     "metadata": {},
     "output_type": "execute_result"
    }
   ],
   "source": [
    "sum(pd.isnull(df.TaxiOutMedian_30))"
   ]
  },
  {
   "cell_type": "markdown",
   "metadata": {},
   "source": [
    "There are two more missing values in Taxi time history as compared with departure delay history. We can easily think that out 6865, 1532 pertains to temporary flights and 5333 cases are when all the flights in last 30 days got canceled. Lets quickly confirm that."
   ]
  },
  {
   "cell_type": "code",
   "execution_count": 99,
   "metadata": {
    "collapsed": false
   },
   "outputs": [
    {
     "data": {
      "text/plain": [
       "1532"
      ]
     },
     "execution_count": 99,
     "metadata": {},
     "output_type": "execute_result"
    }
   ],
   "source": [
    "# checking number of temporary flights\n",
    "sum((pd.isnull(df.TaxiOutMedian_30)) & (df.TempFlight_30 == 1))"
   ]
  },
  {
   "cell_type": "code",
   "execution_count": 100,
   "metadata": {
    "collapsed": false
   },
   "outputs": [
    {
     "data": {
      "text/plain": [
       "5335"
      ]
     },
     "execution_count": 100,
     "metadata": {},
     "output_type": "execute_result"
    }
   ],
   "source": [
    "# checking number of flights for which all the flights in last 30 days history got canceled\n",
    "sum((pd.isnull(df.TaxiOutMedian_30)) & (df.TempFlight_30 == 0) & (df.Ncan_30 == df.Nflights_30))"
   ]
  },
  {
   "cell_type": "code",
   "execution_count": 101,
   "metadata": {
    "collapsed": false
   },
   "outputs": [
    {
     "data": {
      "text/plain": [
       "6867"
      ]
     },
     "execution_count": 101,
     "metadata": {},
     "output_type": "execute_result"
    }
   ],
   "source": [
    "1532+5335"
   ]
  },
  {
   "cell_type": "markdown",
   "metadata": {},
   "source": [
    "In fact, all 5335 flights correspond to rows for which the history tells that all flights in last 30 days got canceled. So, we can update \"AllCanceled_30\" column with two more rows having value 1. Also, we can replace missing values by 0 in TaxiOutMedian_30 and TaxiInMedian_30."
   ]
  },
  {
   "cell_type": "code",
   "execution_count": 102,
   "metadata": {
    "collapsed": true
   },
   "outputs": [],
   "source": [
    "df[\"AllCanceled_30\"] = ((pd.isnull(df.TaxiOutMedian_30)) & (df.TempFlight_30 == 0) & (df.Ncan_30 == df.Nflights_30)).astype(int)\n",
    "df.TaxiOutMedian_30.fillna(0, inplace=True)\n",
    "df.TaxiInMedian_30.fillna(0, inplace=True)"
   ]
  },
  {
   "cell_type": "markdown",
   "metadata": {},
   "source": [
    "#### ArrDelayMedian_30, ArrDelayMax_30\n",
    "\n",
    "\n",
    "These two columns have information about the median values of arrival delays in the last 30 days. Lets check if these two columns are identical in terms of missing values rows. Also, how many missing values are there in these two columns?"
   ]
  },
  {
   "cell_type": "code",
   "execution_count": 103,
   "metadata": {
    "collapsed": false
   },
   "outputs": [
    {
     "name": "stdout",
     "output_type": "stream",
     "text": [
      "True\n"
     ]
    }
   ],
   "source": [
    "# Checking if flights corresponding to missing rows in these two columns are the same ones\n",
    "print(df[pd.isnull(df.ArrDelayMedian_30)].equals(df[pd.isnull(df.ArrDelayMax_30)]))"
   ]
  },
  {
   "cell_type": "code",
   "execution_count": 104,
   "metadata": {
    "collapsed": false
   },
   "outputs": [
    {
     "data": {
      "text/plain": [
       "6873"
      ]
     },
     "execution_count": 104,
     "metadata": {},
     "output_type": "execute_result"
    }
   ],
   "source": [
    "sum(pd.isnull(df.ArrDelayMax_30))"
   ]
  },
  {
   "cell_type": "markdown",
   "metadata": {},
   "source": [
    "Lets check some other number, like previous case."
   ]
  },
  {
   "cell_type": "code",
   "execution_count": 105,
   "metadata": {
    "collapsed": false
   },
   "outputs": [
    {
     "data": {
      "text/plain": [
       "1532"
      ]
     },
     "execution_count": 105,
     "metadata": {},
     "output_type": "execute_result"
    }
   ],
   "source": [
    "# checking number of temporary flights\n",
    "sum((pd.isnull(df.ArrDelayMax_30)) & (df.TempFlight_30 == 1))"
   ]
  },
  {
   "cell_type": "code",
   "execution_count": 106,
   "metadata": {
    "collapsed": false
   },
   "outputs": [
    {
     "data": {
      "text/plain": [
       "5335"
      ]
     },
     "execution_count": 106,
     "metadata": {},
     "output_type": "execute_result"
    }
   ],
   "source": [
    "# checking number of flights for which all the flights in last 30 days history got canceled\n",
    "sum((pd.isnull(df.ArrDelayMax_30)) & (df.TempFlight_30 == 0) & (df.Ncan_30 == df.Nflights_30))"
   ]
  },
  {
   "cell_type": "code",
   "execution_count": 107,
   "metadata": {
    "collapsed": false
   },
   "outputs": [
    {
     "data": {
      "text/plain": [
       "6"
      ]
     },
     "execution_count": 107,
     "metadata": {},
     "output_type": "execute_result"
    }
   ],
   "source": [
    "6873 - (1532+5335)"
   ]
  },
  {
   "cell_type": "markdown",
   "metadata": {},
   "source": [
    "There were 1532 missing values due to temporary flights, 5335 missing values due to the fact that all flights in last 30 days got canceled. The remaining number of missing values are 6873 - (1532+5335) = 6. Whats happening with these six rows or flights? Its possible that the flight got diverted, and for diverted flights there is no information about the arrival delays at sceduled arrival airport. Lets check this hypothesis."
   ]
  },
  {
   "cell_type": "code",
   "execution_count": 108,
   "metadata": {
    "collapsed": false
   },
   "outputs": [
    {
     "data": {
      "text/plain": [
       "6"
      ]
     },
     "execution_count": 108,
     "metadata": {},
     "output_type": "execute_result"
    }
   ],
   "source": [
    "# checking number of flights that were not temporary and no history of all cencellations but all flights in last 30 days got diverted\n",
    "sum((pd.isnull(df.ArrDelayMax_30)) & (df.TempFlight_30 == 0) & (df.Ncan_30 < df.Nflights_30) & (df.Ndiv_30 == df.Nflights_30))"
   ]
  },
  {
   "cell_type": "markdown",
   "metadata": {},
   "source": [
    "Having conformed that hypothesis, we can now clean these two columns by replacing missing values with 0, and by creating a new column \"AllDiverted_30\". This new column will have 1 if all flights in last 30 days got diverted and 0 otherwise."
   ]
  },
  {
   "cell_type": "code",
   "execution_count": 109,
   "metadata": {
    "collapsed": false
   },
   "outputs": [],
   "source": [
    "df[\"AllDiverted_30\"] = ((pd.isnull(df.ArrDelayMax_30)) & (df.TempFlight_30 == 0) & (df.Ncan_30 < df.Nflights_30) &(df.Ndiv_30 == df.Nflights_30)).astype(int)\n",
    "df.ArrDelayMedian_30.fillna(0, inplace=True)\n",
    "df.ArrDelayMax_30.fillna(0, inplace=True)"
   ]
  },
  {
   "cell_type": "markdown",
   "metadata": {},
   "source": [
    "#### DewPoint_Dest, Pressure_Dest, Temperature_Dest, Humidity_Dest, Visibility_Dest, WindSpeed_Dest\n",
    "\n",
    "\n",
    "This are the columns for various weather factors at the destination airport. They have varying number of missing values from 0.22% to 0.25%. However, we can simply fill in the missing values like we did before for WindDirection_Dest at destination airport. Note that the data frame df is currently sorted based on FlightDateTimeAtDes, which is necessary to use the following function (which we created before):"
   ]
  },
  {
   "cell_type": "code",
   "execution_count": 110,
   "metadata": {
    "collapsed": true
   },
   "outputs": [],
   "source": [
    "# fixing DewPoint_Dest column\n",
    "df = fill_missing_value_using_earlier_time(\"DewPoint_Dest\", df, \"Dest\")"
   ]
  },
  {
   "cell_type": "code",
   "execution_count": 111,
   "metadata": {
    "collapsed": true
   },
   "outputs": [],
   "source": [
    "# fixing Pressure_Dest column\n",
    "df = fill_missing_value_using_earlier_time(\"Pressure_Dest\", df, \"Dest\")"
   ]
  },
  {
   "cell_type": "code",
   "execution_count": 112,
   "metadata": {
    "collapsed": true
   },
   "outputs": [],
   "source": [
    "# fixing Temperature_Dest column\n",
    "df = fill_missing_value_using_earlier_time(\"Temperature_Dest\", df, \"Dest\")"
   ]
  },
  {
   "cell_type": "code",
   "execution_count": 113,
   "metadata": {
    "collapsed": true
   },
   "outputs": [],
   "source": [
    "# fixing Humidity_Dest column\n",
    "df = fill_missing_value_using_earlier_time(\"Humidity_Dest\", df, \"Dest\")"
   ]
  },
  {
   "cell_type": "code",
   "execution_count": 114,
   "metadata": {
    "collapsed": true
   },
   "outputs": [],
   "source": [
    "# fixing Visibility_Dest column\n",
    "df = fill_missing_value_using_earlier_time(\"Visibility_Dest\", df, \"Dest\")"
   ]
  },
  {
   "cell_type": "code",
   "execution_count": 115,
   "metadata": {
    "collapsed": true
   },
   "outputs": [],
   "source": [
    "# fixing WindSpeed_Dest column\n",
    "df = fill_missing_value_using_earlier_time(\"WindSpeed_Dest\", df, \"Dest\")"
   ]
  },
  {
   "cell_type": "markdown",
   "metadata": {},
   "source": [
    "#### DepDelayMedian_20, DepDelayMax_20\n",
    "\n",
    "We have discussed and cleaned columns related with deaprture delay history already, but for 30 days history. This time, it is for 20 days hostory. We will simply repeat the steps that we did for 30 days history."
   ]
  },
  {
   "cell_type": "code",
   "execution_count": 116,
   "metadata": {
    "collapsed": false
   },
   "outputs": [
    {
     "name": "stdout",
     "output_type": "stream",
     "text": [
      "True\n"
     ]
    }
   ],
   "source": [
    "# Checking if flights corresponding to missing rows in these two columns are the same ones\n",
    "print(df[pd.isnull(df.DepDelayMax_20)].equals(df[pd.isnull(df.DepDelayMedian_20)]))"
   ]
  },
  {
   "cell_type": "code",
   "execution_count": 117,
   "metadata": {
    "collapsed": false
   },
   "outputs": [
    {
     "data": {
      "text/plain": [
       "8169"
      ]
     },
     "execution_count": 117,
     "metadata": {},
     "output_type": "execute_result"
    }
   ],
   "source": [
    "# Number of missing values\n",
    "sum(pd.isnull(df.DepDelayMax_20))"
   ]
  },
  {
   "cell_type": "code",
   "execution_count": 118,
   "metadata": {
    "collapsed": false
   },
   "outputs": [
    {
     "data": {
      "text/plain": [
       "6420"
      ]
     },
     "execution_count": 118,
     "metadata": {},
     "output_type": "execute_result"
    }
   ],
   "source": [
    "# Number of flights with missing values with no temporary flight\n",
    "sum((pd.isnull(df.DepDelayMax_20)) & (df.TempFlight_20 == 0))"
   ]
  },
  {
   "cell_type": "code",
   "execution_count": 119,
   "metadata": {
    "collapsed": false
   },
   "outputs": [
    {
     "data": {
      "text/plain": [
       "6420"
      ]
     },
     "execution_count": 119,
     "metadata": {},
     "output_type": "execute_result"
    }
   ],
   "source": [
    "# Number of flights with missing values with no temporary flight and all the flights in last 20 days got canceled\n",
    "sum((pd.isnull(df.DepDelayMax_20)) & (df.TempFlight_20 == 0) & (df.Ncan_20 == df.Nflights_20))"
   ]
  },
  {
   "cell_type": "code",
   "execution_count": 120,
   "metadata": {
    "collapsed": false
   },
   "outputs": [
    {
     "data": {
      "text/plain": [
       "8169"
      ]
     },
     "execution_count": 120,
     "metadata": {},
     "output_type": "execute_result"
    }
   ],
   "source": [
    "1749+6420"
   ]
  },
  {
   "cell_type": "code",
   "execution_count": 121,
   "metadata": {
    "collapsed": true
   },
   "outputs": [],
   "source": [
    "# creating a new column\n",
    "df[\"AllCanceled_20\"] = ((pd.isnull(df.DepDelayMax_20)) & (df.TempFlight_20 == 0) & (df.Ncan_20 == df.Nflights_20)).astype(int)\n",
    "# fixing two columns\n",
    "df.DepDelayMax_20.fillna(0, inplace=True)\n",
    "df.DepDelayMedian_20.fillna(0, inplace=True)"
   ]
  },
  {
   "cell_type": "markdown",
   "metadata": {},
   "source": [
    "#### TaxiOutMedian_20, TaxiInMedian_20\n",
    "\n",
    "Lets go through same steps as we did for 30 days history."
   ]
  },
  {
   "cell_type": "code",
   "execution_count": 122,
   "metadata": {
    "collapsed": false
   },
   "outputs": [
    {
     "name": "stdout",
     "output_type": "stream",
     "text": [
      "False\n"
     ]
    }
   ],
   "source": [
    "# Checking if flights corresponding to missing rows in these two columns are the same ones\n",
    "print(df[pd.isnull(df.TaxiInMedian_20)].equals(df[pd.isnull(df.TaxiOutMedian_20)]))"
   ]
  },
  {
   "cell_type": "markdown",
   "metadata": {},
   "source": [
    "Since they are not the same, we will fix these two columns separately.\n",
    "\n",
    "\n",
    "#### TaxiOutMedian_20"
   ]
  },
  {
   "cell_type": "code",
   "execution_count": 123,
   "metadata": {
    "collapsed": false
   },
   "outputs": [
    {
     "data": {
      "text/plain": [
       "8175"
      ]
     },
     "execution_count": 123,
     "metadata": {},
     "output_type": "execute_result"
    }
   ],
   "source": [
    "# number of missing values\n",
    "sum(pd.isnull(df.TaxiOutMedian_20))"
   ]
  },
  {
   "cell_type": "code",
   "execution_count": 124,
   "metadata": {
    "collapsed": false
   },
   "outputs": [
    {
     "data": {
      "text/plain": [
       "1749"
      ]
     },
     "execution_count": 124,
     "metadata": {},
     "output_type": "execute_result"
    }
   ],
   "source": [
    "# checking number of temporary flights\n",
    "sum((pd.isnull(df.TaxiOutMedian_20)) & (df.TempFlight_20 == 1))"
   ]
  },
  {
   "cell_type": "code",
   "execution_count": 125,
   "metadata": {
    "collapsed": false
   },
   "outputs": [
    {
     "data": {
      "text/plain": [
       "6426"
      ]
     },
     "execution_count": 125,
     "metadata": {},
     "output_type": "execute_result"
    }
   ],
   "source": [
    "8175 - 1749"
   ]
  },
  {
   "cell_type": "code",
   "execution_count": 126,
   "metadata": {
    "collapsed": false
   },
   "outputs": [
    {
     "data": {
      "text/plain": [
       "6426"
      ]
     },
     "execution_count": 126,
     "metadata": {},
     "output_type": "execute_result"
    }
   ],
   "source": [
    "# checking number of flights for which all the flights in last 20 days history got canceled\n",
    "sum((pd.isnull(df.TaxiOutMedian_20)) & (df.TempFlight_20 == 0) & (df.Ncan_20 == df.Nflights_20))"
   ]
  },
  {
   "cell_type": "code",
   "execution_count": 127,
   "metadata": {
    "collapsed": true
   },
   "outputs": [],
   "source": [
    "# updating AllCanceled_20 column\n",
    "df[\"AllCanceled_20\"] = ((pd.isnull(df.TaxiOutMedian_20)) & (df.TempFlight_20 == 0) & (df.Ncan_20 == df.Nflights_20)).astype(int)\n",
    "df.TaxiOutMedian_20.fillna(0, inplace=True)"
   ]
  },
  {
   "cell_type": "markdown",
   "metadata": {},
   "source": [
    "#### TaxiInMedian_20"
   ]
  },
  {
   "cell_type": "code",
   "execution_count": 128,
   "metadata": {
    "collapsed": false
   },
   "outputs": [
    {
     "data": {
      "text/plain": [
       "8176"
      ]
     },
     "execution_count": 128,
     "metadata": {},
     "output_type": "execute_result"
    }
   ],
   "source": [
    "# number of missing values\n",
    "sum(pd.isnull(df.TaxiInMedian_20))"
   ]
  },
  {
   "cell_type": "code",
   "execution_count": 129,
   "metadata": {
    "collapsed": false
   },
   "outputs": [
    {
     "data": {
      "text/plain": [
       "1749"
      ]
     },
     "execution_count": 129,
     "metadata": {},
     "output_type": "execute_result"
    }
   ],
   "source": [
    "# checking number of temporary flights\n",
    "sum((pd.isnull(df.TaxiInMedian_20)) & (df.TempFlight_20 == 1))"
   ]
  },
  {
   "cell_type": "code",
   "execution_count": 130,
   "metadata": {
    "collapsed": false
   },
   "outputs": [
    {
     "data": {
      "text/plain": [
       "6427"
      ]
     },
     "execution_count": 130,
     "metadata": {},
     "output_type": "execute_result"
    }
   ],
   "source": [
    "8176-1749"
   ]
  },
  {
   "cell_type": "code",
   "execution_count": 131,
   "metadata": {
    "collapsed": false
   },
   "outputs": [
    {
     "data": {
      "text/plain": [
       "6426"
      ]
     },
     "execution_count": 131,
     "metadata": {},
     "output_type": "execute_result"
    }
   ],
   "source": [
    "# checking number of flights for which all the flights in last 20 days history got canceled\n",
    "sum((pd.isnull(df.TaxiInMedian_20)) & (df.TempFlight_20 == 0) & (df.Ncan_20 == df.Nflights_20))"
   ]
  },
  {
   "cell_type": "markdown",
   "metadata": {},
   "source": [
    "So, out of 8176 missing values:\n",
    "\n",
    "1749: due to temporary flight\n",
    "\n",
    "6426 : due to all flights cancelled in last 20 days\n",
    "\n",
    "1: not known yet. Is it due to flight diversions in the last 20 days?"
   ]
  },
  {
   "cell_type": "code",
   "execution_count": 132,
   "metadata": {
    "collapsed": false
   },
   "outputs": [
    {
     "data": {
      "text/plain": [
       "1"
      ]
     },
     "execution_count": 132,
     "metadata": {},
     "output_type": "execute_result"
    }
   ],
   "source": [
    "# checking number of flights for which not all the flights in last 20 days history got canceled but all of them got diverted\n",
    "sum((pd.isnull(df.TaxiInMedian_20)) & (df.TempFlight_20 == 0) & (df.Ncan_20 <  df.Nflights_20) &\n",
    "   (df.Ndiv_20 == df.Nflights_20))"
   ]
  },
  {
   "cell_type": "markdown",
   "metadata": {},
   "source": [
    "So, no need to update \"AllCanceled_20\" but we will create a new column to indicate if all flights got diverted."
   ]
  },
  {
   "cell_type": "code",
   "execution_count": 133,
   "metadata": {
    "collapsed": true
   },
   "outputs": [],
   "source": [
    "df[\"AllDiverted_20\"] = ((pd.isnull(df.TaxiInMedian_20)) & (df.TempFlight_20 == 0) & (df.Ncan_20 <  df.Nflights_20) &\n",
    "   (df.Ndiv_20 == df.Nflights_20)).astype(int)\n",
    "df.TaxiInMedian_20.fillna(0, inplace=True)"
   ]
  },
  {
   "cell_type": "markdown",
   "metadata": {},
   "source": [
    "#### ArrDelayMedian_20, ArrDelayMax_20\n",
    "\n",
    "\n",
    "Similar to ArrDelayMedian_30, ArrDelayMax_30"
   ]
  },
  {
   "cell_type": "code",
   "execution_count": 134,
   "metadata": {
    "collapsed": false
   },
   "outputs": [
    {
     "name": "stdout",
     "output_type": "stream",
     "text": [
      "True\n"
     ]
    }
   ],
   "source": [
    "# Checking if flights corresponding to missing rows in these two columns are the same ones\n",
    "print(df[pd.isnull(df.ArrDelayMedian_20)].equals(df[pd.isnull(df.ArrDelayMax_20)]))"
   ]
  },
  {
   "cell_type": "code",
   "execution_count": 135,
   "metadata": {
    "collapsed": false
   },
   "outputs": [
    {
     "data": {
      "text/plain": [
       "8188"
      ]
     },
     "execution_count": 135,
     "metadata": {},
     "output_type": "execute_result"
    }
   ],
   "source": [
    "# number of missing values\n",
    "sum(pd.isnull(df.ArrDelayMax_20))"
   ]
  },
  {
   "cell_type": "code",
   "execution_count": 136,
   "metadata": {
    "collapsed": false
   },
   "outputs": [
    {
     "data": {
      "text/plain": [
       "1749"
      ]
     },
     "execution_count": 136,
     "metadata": {},
     "output_type": "execute_result"
    }
   ],
   "source": [
    "# checking number of temporary flights\n",
    "sum((pd.isnull(df.ArrDelayMax_20)) & (df.TempFlight_20 == 1))"
   ]
  },
  {
   "cell_type": "code",
   "execution_count": 137,
   "metadata": {
    "collapsed": false
   },
   "outputs": [
    {
     "data": {
      "text/plain": [
       "6439"
      ]
     },
     "execution_count": 137,
     "metadata": {},
     "output_type": "execute_result"
    }
   ],
   "source": [
    "8188-1749"
   ]
  },
  {
   "cell_type": "code",
   "execution_count": 138,
   "metadata": {
    "collapsed": false
   },
   "outputs": [
    {
     "data": {
      "text/plain": [
       "6426"
      ]
     },
     "execution_count": 138,
     "metadata": {},
     "output_type": "execute_result"
    }
   ],
   "source": [
    "# checking number of flights for which all the flights in last 20 days history got canceled\n",
    "sum((pd.isnull(df.ArrDelayMax_20)) & (df.TempFlight_20 == 0) & (df.Ncan_20 == df.Nflights_20))"
   ]
  },
  {
   "cell_type": "code",
   "execution_count": 139,
   "metadata": {
    "collapsed": false
   },
   "outputs": [
    {
     "data": {
      "text/plain": [
       "13"
      ]
     },
     "execution_count": 139,
     "metadata": {},
     "output_type": "execute_result"
    }
   ],
   "source": [
    "6439 - 6426"
   ]
  },
  {
   "cell_type": "code",
   "execution_count": 140,
   "metadata": {
    "collapsed": false
   },
   "outputs": [
    {
     "data": {
      "text/plain": [
       "11"
      ]
     },
     "execution_count": 140,
     "metadata": {},
     "output_type": "execute_result"
    }
   ],
   "source": [
    "# checking number of flights that were not temporary and no history of all cencellations but all flights in last 20 days got diverted\n",
    "sum((pd.isnull(df.ArrDelayMax_20)) & (df.TempFlight_20 == 0) & (df.Ncan_20 < df.Nflights_20) & (df.Ndiv_20 == df.Nflights_20))"
   ]
  },
  {
   "cell_type": "markdown",
   "metadata": {},
   "source": [
    "Out of 8188 missing values: \n",
    "\n",
    "1749 for temporary, \n",
    "\n",
    "6426 for non-temporary and history with all canceled flights, \n",
    "\n",
    "11 for non-temporary, not all floghts canceled in the last 20 days but all flights got diverted\n",
    "\n",
    "What could be the reason for the remaining 2 missing values? It is possible that the history of this missing value row contains both canceled flight and diverted flight in such a manner that Ndiv_20 + Ncan_20 = Nflights_20. Lets see if this is true."
   ]
  },
  {
   "cell_type": "code",
   "execution_count": 141,
   "metadata": {
    "collapsed": false
   },
   "outputs": [
    {
     "data": {
      "text/plain": [
       "2"
      ]
     },
     "execution_count": 141,
     "metadata": {},
     "output_type": "execute_result"
    }
   ],
   "source": [
    "sum((pd.isnull(df.ArrDelayMax_20)) & (df.TempFlight_20 == 0) & (df.Ncan_20 < df.Nflights_20) &\n",
    "    (df.Ndiv_20 < df.Nflights_20) & (df.Ncan_20 + df.Ndiv_20 == df.Nflights_20) )"
   ]
  },
  {
   "cell_type": "markdown",
   "metadata": {},
   "source": [
    "Having figured out these numbers, we can replace the missing values by 0 and create some columns, and update \"AllDiverted_20\"."
   ]
  },
  {
   "cell_type": "code",
   "execution_count": 142,
   "metadata": {
    "collapsed": true
   },
   "outputs": [],
   "source": [
    "# creating column to indicate if all flights (in last 20 days) got diverted or not\n",
    "df[\"AllDiverted_20\"] = ((pd.isnull(df.ArrDelayMax_20)) & (df.TempFlight_20 == 0) & \n",
    "                        (df.Ncan_20 < df.Nflights_20) & (df.Ndiv_20 == df.Nflights_20)).astype(int)\n",
    "# creating column to indicate if all flights (in last 20 days) had either cancellation or diversion issue\n",
    "df[\"AllCanDiv_20\"] = ((pd.isnull(df.ArrDelayMax_20)) & (df.TempFlight_20 == 0) & (df.Ncan_20 < df.Nflights_20) &\n",
    "    (df.Ndiv_20 < df.Nflights_20) & (df.Ncan_20 + df.Ndiv_20 == df.Nflights_20)).astype(int)\n",
    "df.ArrDelayMedian_20.fillna(0, inplace=True)\n",
    "df.ArrDelayMax_20.fillna(0, inplace=True)"
   ]
  },
  {
   "cell_type": "markdown",
   "metadata": {},
   "source": [
    "For the sake of completeness, we can create a similar column (like \"AllCanDiv_20\") for 30 days history too."
   ]
  },
  {
   "cell_type": "code",
   "execution_count": 170,
   "metadata": {
    "collapsed": true
   },
   "outputs": [],
   "source": [
    "# creating column to indicate if all flights (in last 30 days) had either cancellation or diversion issue\n",
    "df[\"AllCanDiv_30\"] = ((pd.isnull(df.ArrDelayMax_30)) & (df.TempFlight_30 == 0) & (df.Ncan_30 < df.Nflights_30) &\n",
    "    (df.Ndiv_30 < df.Nflights_30) & (df.Ncan_30 + df.Ndiv_30 == df.Nflights_30)).astype(int)"
   ]
  },
  {
   "cell_type": "code",
   "execution_count": 171,
   "metadata": {
    "collapsed": false
   },
   "outputs": [
    {
     "data": {
      "text/plain": [
       "0"
      ]
     },
     "execution_count": 171,
     "metadata": {},
     "output_type": "execute_result"
    }
   ],
   "source": [
    "sum(df.AllCanDiv_30 == 1)"
   ]
  },
  {
   "cell_type": "markdown",
   "metadata": {},
   "source": [
    "#### DepDelayMedian_10, DepDelayMax_10\n",
    "\n",
    "\n",
    "Same steps as for DepDelayMedian_20, DepDelayMax_20"
   ]
  },
  {
   "cell_type": "code",
   "execution_count": 143,
   "metadata": {
    "collapsed": false
   },
   "outputs": [
    {
     "name": "stdout",
     "output_type": "stream",
     "text": [
      "True\n"
     ]
    }
   ],
   "source": [
    "# Checking if flights corresponding to missing rows in these two columns are the same ones\n",
    "print(df[pd.isnull(df.DepDelayMax_10)].equals(df[pd.isnull(df.DepDelayMedian_10)]))"
   ]
  },
  {
   "cell_type": "code",
   "execution_count": 144,
   "metadata": {
    "collapsed": false
   },
   "outputs": [
    {
     "data": {
      "text/plain": [
       "10325"
      ]
     },
     "execution_count": 144,
     "metadata": {},
     "output_type": "execute_result"
    }
   ],
   "source": [
    "# Number of missing values\n",
    "sum(pd.isnull(df.DepDelayMax_10))"
   ]
  },
  {
   "cell_type": "code",
   "execution_count": 145,
   "metadata": {
    "collapsed": false
   },
   "outputs": [
    {
     "data": {
      "text/plain": [
       "2150"
      ]
     },
     "execution_count": 145,
     "metadata": {},
     "output_type": "execute_result"
    }
   ],
   "source": [
    "# Number of flights with missing values with temporary flight\n",
    "sum((pd.isnull(df.DepDelayMax_10)) & (df.TempFlight_10 == 1))"
   ]
  },
  {
   "cell_type": "code",
   "execution_count": 146,
   "metadata": {
    "collapsed": false
   },
   "outputs": [
    {
     "data": {
      "text/plain": [
       "8175"
      ]
     },
     "execution_count": 146,
     "metadata": {},
     "output_type": "execute_result"
    }
   ],
   "source": [
    "10325-2150"
   ]
  },
  {
   "cell_type": "code",
   "execution_count": 147,
   "metadata": {
    "collapsed": false
   },
   "outputs": [
    {
     "data": {
      "text/plain": [
       "8175"
      ]
     },
     "execution_count": 147,
     "metadata": {},
     "output_type": "execute_result"
    }
   ],
   "source": [
    "# Number of flights with missing values with no temporary flight\n",
    "sum((pd.isnull(df.DepDelayMax_10)) & (df.TempFlight_10 == 0))"
   ]
  },
  {
   "cell_type": "code",
   "execution_count": 148,
   "metadata": {
    "collapsed": false
   },
   "outputs": [
    {
     "data": {
      "text/plain": [
       "8175"
      ]
     },
     "execution_count": 148,
     "metadata": {},
     "output_type": "execute_result"
    }
   ],
   "source": [
    "# Number of flights with missing values with no temporary flight and all the flights in last 10 days got canceled\n",
    "sum((pd.isnull(df.DepDelayMax_10)) & (df.TempFlight_10 == 0) & (df.Ncan_10 == df.Nflights_10))"
   ]
  },
  {
   "cell_type": "code",
   "execution_count": 149,
   "metadata": {
    "collapsed": true
   },
   "outputs": [],
   "source": [
    "# creating a new column\n",
    "df[\"AllCanceled_10\"] = ((pd.isnull(df.DepDelayMax_10)) & (df.TempFlight_10 == 0) & (df.Ncan_10 == df.Nflights_10)).astype(int)\n",
    "# fixing two columns\n",
    "df.DepDelayMax_10.fillna(0, inplace=True)\n",
    "df.DepDelayMedian_10.fillna(0, inplace=True)"
   ]
  },
  {
   "cell_type": "markdown",
   "metadata": {},
   "source": [
    "#### TaxiOutMedian_10, TaxiInMedian_10\n",
    "\n",
    "Same steps as for TaxiOutMedian_20, TaxiInMedian_20"
   ]
  },
  {
   "cell_type": "code",
   "execution_count": 150,
   "metadata": {
    "collapsed": false
   },
   "outputs": [
    {
     "name": "stdout",
     "output_type": "stream",
     "text": [
      "False\n"
     ]
    }
   ],
   "source": [
    "# Checking if flights corresponding to missing rows in these two columns are the same ones\n",
    "print(df[pd.isnull(df.TaxiInMedian_10)].equals(df[pd.isnull(df.TaxiOutMedian_10)]))"
   ]
  },
  {
   "cell_type": "markdown",
   "metadata": {},
   "source": [
    "Since they are not the same, we will fix these two columns separately.\n",
    "\n",
    "\n",
    "#### TaxiOutMedian_10"
   ]
  },
  {
   "cell_type": "code",
   "execution_count": 151,
   "metadata": {
    "collapsed": false
   },
   "outputs": [
    {
     "data": {
      "text/plain": [
       "10335"
      ]
     },
     "execution_count": 151,
     "metadata": {},
     "output_type": "execute_result"
    }
   ],
   "source": [
    "# number of missing values\n",
    "sum(pd.isnull(df.TaxiOutMedian_10))"
   ]
  },
  {
   "cell_type": "code",
   "execution_count": 152,
   "metadata": {
    "collapsed": false
   },
   "outputs": [
    {
     "data": {
      "text/plain": [
       "2150"
      ]
     },
     "execution_count": 152,
     "metadata": {},
     "output_type": "execute_result"
    }
   ],
   "source": [
    "# checking number of temporary flights\n",
    "sum((pd.isnull(df.TaxiOutMedian_10)) & (df.TempFlight_10 == 1))"
   ]
  },
  {
   "cell_type": "code",
   "execution_count": 153,
   "metadata": {
    "collapsed": false
   },
   "outputs": [
    {
     "data": {
      "text/plain": [
       "8185"
      ]
     },
     "execution_count": 153,
     "metadata": {},
     "output_type": "execute_result"
    }
   ],
   "source": [
    "10335 - 2150"
   ]
  },
  {
   "cell_type": "code",
   "execution_count": 154,
   "metadata": {
    "collapsed": false
   },
   "outputs": [
    {
     "data": {
      "text/plain": [
       "8185"
      ]
     },
     "execution_count": 154,
     "metadata": {},
     "output_type": "execute_result"
    }
   ],
   "source": [
    "# checking number of flights for which all the flights in last 10 days history got canceled\n",
    "sum((pd.isnull(df.TaxiOutMedian_10)) & (df.TempFlight_10 == 0) & (df.Ncan_10 == df.Nflights_10))"
   ]
  },
  {
   "cell_type": "code",
   "execution_count": 155,
   "metadata": {
    "collapsed": true
   },
   "outputs": [],
   "source": [
    "# updating AllCanceled_10 column\n",
    "df[\"AllCanceled_10\"] = ((pd.isnull(df.TaxiOutMedian_10)) & (df.TempFlight_10 == 0) & (df.Ncan_10 == df.Nflights_10)).astype(int)\n",
    "df.TaxiOutMedian_10.fillna(0, inplace=True)"
   ]
  },
  {
   "cell_type": "markdown",
   "metadata": {},
   "source": [
    "#### TaxiInMedian_10"
   ]
  },
  {
   "cell_type": "code",
   "execution_count": 156,
   "metadata": {
    "collapsed": false
   },
   "outputs": [
    {
     "data": {
      "text/plain": [
       "10337"
      ]
     },
     "execution_count": 156,
     "metadata": {},
     "output_type": "execute_result"
    }
   ],
   "source": [
    "# number of missing values\n",
    "sum(pd.isnull(df.TaxiInMedian_10))"
   ]
  },
  {
   "cell_type": "code",
   "execution_count": 157,
   "metadata": {
    "collapsed": false
   },
   "outputs": [
    {
     "data": {
      "text/plain": [
       "2150"
      ]
     },
     "execution_count": 157,
     "metadata": {},
     "output_type": "execute_result"
    }
   ],
   "source": [
    "# checking number of temporary flights\n",
    "sum((pd.isnull(df.TaxiInMedian_10)) & (df.TempFlight_10 == 1))"
   ]
  },
  {
   "cell_type": "code",
   "execution_count": 158,
   "metadata": {
    "collapsed": false
   },
   "outputs": [
    {
     "data": {
      "text/plain": [
       "8187"
      ]
     },
     "execution_count": 158,
     "metadata": {},
     "output_type": "execute_result"
    }
   ],
   "source": [
    "10337-2150"
   ]
  },
  {
   "cell_type": "code",
   "execution_count": 159,
   "metadata": {
    "collapsed": false
   },
   "outputs": [
    {
     "data": {
      "text/plain": [
       "8185"
      ]
     },
     "execution_count": 159,
     "metadata": {},
     "output_type": "execute_result"
    }
   ],
   "source": [
    "# checking number of flights for which all the flights in last 10 days history got canceled\n",
    "sum((pd.isnull(df.TaxiInMedian_10)) & (df.TempFlight_10 == 0) & (df.Ncan_10 == df.Nflights_10))"
   ]
  },
  {
   "cell_type": "markdown",
   "metadata": {
    "collapsed": true
   },
   "source": [
    "So, out of 10337 missing values:\n",
    "\n",
    "2150: due to temporary flight\n",
    "\n",
    "8185 : due to all flights cancelled in last 10 days\n",
    "\n",
    "2: not known yet. Is it due to flight diversions in the last 10 days?"
   ]
  },
  {
   "cell_type": "code",
   "execution_count": 160,
   "metadata": {
    "collapsed": false
   },
   "outputs": [
    {
     "data": {
      "text/plain": [
       "2"
      ]
     },
     "execution_count": 160,
     "metadata": {},
     "output_type": "execute_result"
    }
   ],
   "source": [
    "# checking number of flights for which not all the flights in last 10 days history got canceled but all of them got diverted\n",
    "sum((pd.isnull(df.TaxiInMedian_10)) & (df.TempFlight_10 == 0) & (df.Ncan_10 <  df.Nflights_10) &\n",
    "   (df.Ndiv_10 == df.Nflights_10))"
   ]
  },
  {
   "cell_type": "markdown",
   "metadata": {
    "collapsed": true
   },
   "source": [
    "So, no need to update \"AllCanceled_10\" but we will create a new column to indicate if all flights got diverted."
   ]
  },
  {
   "cell_type": "code",
   "execution_count": 161,
   "metadata": {
    "collapsed": true
   },
   "outputs": [],
   "source": [
    "df[\"AllDiverted_10\"] = ((pd.isnull(df.TaxiInMedian_10)) & (df.TempFlight_10 == 0) & (df.Ncan_10 <  df.Nflights_10) &\n",
    "   (df.Ndiv_10 == df.Nflights_10)).astype(int)\n",
    "df.TaxiInMedian_10.fillna(0, inplace=True)"
   ]
  },
  {
   "cell_type": "markdown",
   "metadata": {
    "collapsed": true
   },
   "source": [
    "#### ArrDelayMedian_10, ArrDelayMax_10\n",
    "\n",
    "Same steps as for ArrDelayMedian_20, ArrDelayMax_20 "
   ]
  },
  {
   "cell_type": "code",
   "execution_count": 162,
   "metadata": {
    "collapsed": false
   },
   "outputs": [
    {
     "name": "stdout",
     "output_type": "stream",
     "text": [
      "True\n"
     ]
    }
   ],
   "source": [
    "# Checking if flights corresponding to missing rows in these two columns are the same ones\n",
    "print(df[pd.isnull(df.ArrDelayMedian_10)].equals(df[pd.isnull(df.ArrDelayMax_10)]))"
   ]
  },
  {
   "cell_type": "code",
   "execution_count": 163,
   "metadata": {
    "collapsed": false
   },
   "outputs": [
    {
     "data": {
      "text/plain": [
       "10373"
      ]
     },
     "execution_count": 163,
     "metadata": {},
     "output_type": "execute_result"
    }
   ],
   "source": [
    "# number of missing values\n",
    "sum(pd.isnull(df.ArrDelayMax_10))"
   ]
  },
  {
   "cell_type": "code",
   "execution_count": 164,
   "metadata": {
    "collapsed": false
   },
   "outputs": [
    {
     "data": {
      "text/plain": [
       "2150"
      ]
     },
     "execution_count": 164,
     "metadata": {},
     "output_type": "execute_result"
    }
   ],
   "source": [
    "# checking number of temporary flights\n",
    "sum((pd.isnull(df.ArrDelayMax_10)) & (df.TempFlight_10 == 1))"
   ]
  },
  {
   "cell_type": "code",
   "execution_count": 165,
   "metadata": {
    "collapsed": false
   },
   "outputs": [
    {
     "data": {
      "text/plain": [
       "8223"
      ]
     },
     "execution_count": 165,
     "metadata": {},
     "output_type": "execute_result"
    }
   ],
   "source": [
    "10373 - 2150"
   ]
  },
  {
   "cell_type": "code",
   "execution_count": 166,
   "metadata": {
    "collapsed": false
   },
   "outputs": [
    {
     "data": {
      "text/plain": [
       "8185"
      ]
     },
     "execution_count": 166,
     "metadata": {},
     "output_type": "execute_result"
    }
   ],
   "source": [
    "# checking number of flights for which all the flights in last 10 days history got canceled\n",
    "sum((pd.isnull(df.ArrDelayMax_10)) & (df.TempFlight_10 == 0) & (df.Ncan_10 == df.Nflights_10))"
   ]
  },
  {
   "cell_type": "code",
   "execution_count": 167,
   "metadata": {
    "collapsed": false
   },
   "outputs": [
    {
     "data": {
      "text/plain": [
       "38"
      ]
     },
     "execution_count": 167,
     "metadata": {},
     "output_type": "execute_result"
    }
   ],
   "source": [
    "8223 - 8185"
   ]
  },
  {
   "cell_type": "code",
   "execution_count": 168,
   "metadata": {
    "collapsed": false
   },
   "outputs": [
    {
     "data": {
      "text/plain": [
       "38"
      ]
     },
     "execution_count": 168,
     "metadata": {},
     "output_type": "execute_result"
    }
   ],
   "source": [
    "# checking number of flights that were not temporary and no history of all cencellations but all flights in last 10 days got diverted\n",
    "sum((pd.isnull(df.ArrDelayMax_10)) & (df.TempFlight_10 == 0) & \n",
    "    (df.Ncan_10 < df.Nflights_10) & (df.Ndiv_10 == df.Nflights_10))"
   ]
  },
  {
   "cell_type": "markdown",
   "metadata": {},
   "source": [
    "Out of 10373 missing values:\n",
    "\n",
    "2150: due to temporary flights\n",
    "\n",
    "8185: due to all flights cancelled in last 10 days\n",
    "\n",
    "38: due to all flights diverted in last 10 days"
   ]
  },
  {
   "cell_type": "code",
   "execution_count": 169,
   "metadata": {
    "collapsed": true
   },
   "outputs": [],
   "source": [
    "# updating \"AllDiverted_10\" column \n",
    "df[\"AllDiverted_10\"] = ((pd.isnull(df.ArrDelayMax_10)) & (df.TempFlight_10 == 0) & \n",
    "                        (df.Ncan_10 < df.Nflights_10) & (df.Ndiv_10 == df.Nflights_10)).astype(int)\n",
    "df.ArrDelayMedian_10.fillna(0, inplace=True)\n",
    "df.ArrDelayMax_10.fillna(0, inplace=True)"
   ]
  },
  {
   "cell_type": "markdown",
   "metadata": {},
   "source": [
    "For the sake of completeness, we also create a similar column (like \"AllCanDiv_20\") for 10 days history."
   ]
  },
  {
   "cell_type": "code",
   "execution_count": 172,
   "metadata": {
    "collapsed": true
   },
   "outputs": [],
   "source": [
    "# creating column to indicate if all flights (in last 10 days) had either cancellation or diversion issue\n",
    "df[\"AllCanDiv_10\"] = ((pd.isnull(df.ArrDelayMax_10)) & (df.TempFlight_10 == 0) & (df.Ncan_10 < df.Nflights_10) &\n",
    "    (df.Ndiv_10 < df.Nflights_10) & (df.Ncan_10 + df.Ndiv_10 == df.Nflights_10)).astype(int)"
   ]
  },
  {
   "cell_type": "code",
   "execution_count": 173,
   "metadata": {
    "collapsed": false
   },
   "outputs": [
    {
     "data": {
      "text/plain": [
       "0"
      ]
     },
     "execution_count": 173,
     "metadata": {},
     "output_type": "execute_result"
    }
   ],
   "source": [
    "sum(df.AllCanDiv_10 == 1)"
   ]
  },
  {
   "cell_type": "markdown",
   "metadata": {},
   "source": [
    "#### TailNum:\n",
    "\n",
    "Tail number is just like the registration number on our cars. This number is specific to a plane. The same plane (same TailNum) can be used for different flights. For example, the plane with TailNum = N787AA in 2015 has been used in two different flights (different routes) such as JFK-LAX, JFK-SFO:"
   ]
  },
  {
   "cell_type": "code",
   "execution_count": 174,
   "metadata": {
    "collapsed": false
   },
   "outputs": [
    {
     "data": {
      "text/html": [
       "<div>\n",
       "<table border=\"1\" class=\"dataframe\">\n",
       "  <thead>\n",
       "    <tr style=\"text-align: right;\">\n",
       "      <th></th>\n",
       "      <th>TailNum</th>\n",
       "      <th>FlightDateTime</th>\n",
       "      <th>Origin</th>\n",
       "      <th>Dest</th>\n",
       "    </tr>\n",
       "  </thead>\n",
       "  <tbody>\n",
       "    <tr>\n",
       "      <th>759</th>\n",
       "      <td>N787AA</td>\n",
       "      <td>2015-01-11 08:00:00</td>\n",
       "      <td>JFK</td>\n",
       "      <td>LAX</td>\n",
       "    </tr>\n",
       "    <tr>\n",
       "      <th>2806</th>\n",
       "      <td>N787AA</td>\n",
       "      <td>2015-01-09 09:30:00</td>\n",
       "      <td>LAX</td>\n",
       "      <td>JFK</td>\n",
       "    </tr>\n",
       "    <tr>\n",
       "      <th>4173</th>\n",
       "      <td>N787AA</td>\n",
       "      <td>2015-01-30 14:15:00</td>\n",
       "      <td>JFK</td>\n",
       "      <td>SFO</td>\n",
       "    </tr>\n",
       "    <tr>\n",
       "      <th>6473</th>\n",
       "      <td>N787AA</td>\n",
       "      <td>2015-01-28 13:25:00</td>\n",
       "      <td>SFO</td>\n",
       "      <td>JFK</td>\n",
       "    </tr>\n",
       "    <tr>\n",
       "      <th>8904</th>\n",
       "      <td>N787AA</td>\n",
       "      <td>2015-01-20 17:50:00</td>\n",
       "      <td>JFK</td>\n",
       "      <td>LAX</td>\n",
       "    </tr>\n",
       "    <tr>\n",
       "      <th>10815</th>\n",
       "      <td>N787AA</td>\n",
       "      <td>2015-01-01 18:25:00</td>\n",
       "      <td>LAX</td>\n",
       "      <td>JFK</td>\n",
       "    </tr>\n",
       "    <tr>\n",
       "      <th>11660</th>\n",
       "      <td>N787AA</td>\n",
       "      <td>2015-01-12 20:19:00</td>\n",
       "      <td>JFK</td>\n",
       "      <td>SFO</td>\n",
       "    </tr>\n",
       "    <tr>\n",
       "      <th>13890</th>\n",
       "      <td>N787AA</td>\n",
       "      <td>2015-01-20 15:53:00</td>\n",
       "      <td>SFO</td>\n",
       "      <td>JFK</td>\n",
       "    </tr>\n",
       "    <tr>\n",
       "      <th>16122</th>\n",
       "      <td>N787AA</td>\n",
       "      <td>2015-01-05 06:35:00</td>\n",
       "      <td>JFK</td>\n",
       "      <td>SFO</td>\n",
       "    </tr>\n",
       "    <tr>\n",
       "      <th>18329</th>\n",
       "      <td>N787AA</td>\n",
       "      <td>2015-01-12 18:55:00</td>\n",
       "      <td>SFO</td>\n",
       "      <td>JFK</td>\n",
       "    </tr>\n",
       "    <tr>\n",
       "      <th>20967</th>\n",
       "      <td>N787AA</td>\n",
       "      <td>2015-01-01 16:35:00</td>\n",
       "      <td>JFK</td>\n",
       "      <td>LAX</td>\n",
       "    </tr>\n",
       "    <tr>\n",
       "      <th>24360</th>\n",
       "      <td>N787AA</td>\n",
       "      <td>2015-01-07 15:48:00</td>\n",
       "      <td>LAX</td>\n",
       "      <td>JFK</td>\n",
       "    </tr>\n",
       "    <tr>\n",
       "      <th>25457</th>\n",
       "      <td>N787AA</td>\n",
       "      <td>2015-01-31 18:59:00</td>\n",
       "      <td>JFK</td>\n",
       "      <td>LAX</td>\n",
       "    </tr>\n",
       "    <tr>\n",
       "      <th>25940</th>\n",
       "      <td>N787AA</td>\n",
       "      <td>2015-01-02 09:51:00</td>\n",
       "      <td>LAX</td>\n",
       "      <td>JFK</td>\n",
       "    </tr>\n",
       "    <tr>\n",
       "      <th>26888</th>\n",
       "      <td>N787AA</td>\n",
       "      <td>2015-01-02 18:29:00</td>\n",
       "      <td>JFK</td>\n",
       "      <td>LAX</td>\n",
       "    </tr>\n",
       "  </tbody>\n",
       "</table>\n",
       "</div>"
      ],
      "text/plain": [
       "      TailNum      FlightDateTime Origin Dest\n",
       "759    N787AA 2015-01-11 08:00:00    JFK  LAX\n",
       "2806   N787AA 2015-01-09 09:30:00    LAX  JFK\n",
       "4173   N787AA 2015-01-30 14:15:00    JFK  SFO\n",
       "6473   N787AA 2015-01-28 13:25:00    SFO  JFK\n",
       "8904   N787AA 2015-01-20 17:50:00    JFK  LAX\n",
       "10815  N787AA 2015-01-01 18:25:00    LAX  JFK\n",
       "11660  N787AA 2015-01-12 20:19:00    JFK  SFO\n",
       "13890  N787AA 2015-01-20 15:53:00    SFO  JFK\n",
       "16122  N787AA 2015-01-05 06:35:00    JFK  SFO\n",
       "18329  N787AA 2015-01-12 18:55:00    SFO  JFK\n",
       "20967  N787AA 2015-01-01 16:35:00    JFK  LAX\n",
       "24360  N787AA 2015-01-07 15:48:00    LAX  JFK\n",
       "25457  N787AA 2015-01-31 18:59:00    JFK  LAX\n",
       "25940  N787AA 2015-01-02 09:51:00    LAX  JFK\n",
       "26888  N787AA 2015-01-02 18:29:00    JFK  LAX"
      ]
     },
     "execution_count": 174,
     "metadata": {},
     "output_type": "execute_result"
    }
   ],
   "source": [
    "df[(df.TailNum == \"N787AA\") & (df.Year == 2015)][[\"TailNum\", \"FlightDateTime\", \"Origin\", \"Dest\"]].head(15)"
   ]
  },
  {
   "cell_type": "markdown",
   "metadata": {},
   "source": [
    "This means that the tail number is not consistent for a given route (or unique flight with unique Carrier, unique Origin-Dest pair, and unique CRSDepTime window). So, we can drop <font color='red' size=4>TailNum</font>."
   ]
  },
  {
   "cell_type": "code",
   "execution_count": 175,
   "metadata": {
    "collapsed": true
   },
   "outputs": [],
   "source": [
    "df.drop([\"TailNum\"], axis=1, inplace=True)"
   ]
  },
  {
   "cell_type": "markdown",
   "metadata": {},
   "source": [
    " #### DepTime, DepDelay, DepDelayMinutes, DepDel15, DepartureDelayGroups, TaxiOut, WheelsOff, WheelsOn, TaxiIn, ArrTime, ArrDelay, ArrDelayMinutes, ArrDel15, ArrivalDelayGroups, ActualElapsedTime, AirTime, CarrierDelay, WeatherDelay, NASDelay, SecurityDelay, LateAircraftDelay\n",
    " \n",
    " \n",
    "These columns are all about events that \"actually\" happened, rather than scheduled ones. We are interested in predicting cancellation likelihood before few days from the scheduled departure, and at that point of time we cannot know information about these \"actual\" events. Also, we have already taken care of some of these actual events by calculating some historical features. So, we will drop all these columns. "
   ]
  },
  {
   "cell_type": "code",
   "execution_count": 176,
   "metadata": {
    "collapsed": true
   },
   "outputs": [],
   "source": [
    "df.drop([\"DepTime\", \"DepDelay\", \"DepDelayMinutes\", \"DepDel15\", \"DepartureDelayGroups\", \"TaxiOut\", \n",
    "         \"WheelsOff\", \"WheelsOn\", \"TaxiIn\", \"ArrTime\", \"ArrDelay\", \"ArrDelayMinutes\", \"ArrDel15\", \n",
    "         \"ArrivalDelayGroups\", \"ActualElapsedTime\", \"AirTime\", \"CarrierDelay\", \"WeatherDelay\", \n",
    "         \"NASDelay\", \"SecurityDelay\", \"LateAircraftDelay\"], axis=1, inplace=True)"
   ]
  },
  {
   "cell_type": "code",
   "execution_count": 177,
   "metadata": {
    "collapsed": false
   },
   "outputs": [
    {
     "data": {
      "text/plain": [
       "(2857139, 114)"
      ]
     },
     "execution_count": 177,
     "metadata": {},
     "output_type": "execute_result"
    }
   ],
   "source": [
    "df.shape"
   ]
  },
  {
   "cell_type": "markdown",
   "metadata": {},
   "source": [
    "#### WindChill_Origin, WindChill_Dest, WindGust_Origin, WindGust_Dest, HeatIndex_Dest, HeatIndex_Origin, Precipitation_Origin, Precipitation_Dest\n",
    "\n",
    "\n",
    "These columns contain other weather factors. Since the fraction of missing values in these columns are in the range 83% to 89%, we can say that we really do not have much information about these factors. Therefore, we will simply drop these columns."
   ]
  },
  {
   "cell_type": "code",
   "execution_count": 178,
   "metadata": {
    "collapsed": true
   },
   "outputs": [],
   "source": [
    "df.drop([\"WindChill_Origin\", \"WindChill_Dest\", \"WindGust_Origin\", \"WindGust_Dest\", \"HeatIndex_Dest\", \n",
    "         \"HeatIndex_Origin\", \"Precipitation_Origin\", \"Precipitation_Dest\"], axis=1, inplace=True)"
   ]
  },
  {
   "cell_type": "code",
   "execution_count": 179,
   "metadata": {
    "collapsed": false
   },
   "outputs": [
    {
     "data": {
      "text/plain": [
       "(2857139, 106)"
      ]
     },
     "execution_count": 179,
     "metadata": {},
     "output_type": "execute_result"
    }
   ],
   "source": [
    "df.shape"
   ]
  },
  {
   "cell_type": "markdown",
   "metadata": {},
   "source": [
    "#### CancellationCode\n",
    "\n",
    "The fraction of missing values in this column is also pretty high (98.8513%) but that is obvious because we will have values in this column only when a flight is canceled (and cancellation rate is very low). In fact the fraction of missing value should be (1 - cancellation rate), wherer cancellation rate = 1.1486665507%."
   ]
  },
  {
   "cell_type": "code",
   "execution_count": 180,
   "metadata": {
    "collapsed": false
   },
   "outputs": [
    {
     "data": {
      "text/plain": [
       "98.851333449300157"
      ]
     },
     "execution_count": 180,
     "metadata": {},
     "output_type": "execute_result"
    }
   ],
   "source": [
    "100 - 100*sum(df.Cancelled == 1)/len(df)"
   ]
  },
  {
   "cell_type": "code",
   "execution_count": 181,
   "metadata": {
    "collapsed": false
   },
   "outputs": [
    {
     "data": {
      "text/plain": [
       "array(['B', nan, 'A', 'C', 'D'], dtype=object)"
      ]
     },
     "execution_count": 181,
     "metadata": {},
     "output_type": "execute_result"
    }
   ],
   "source": [
    "df.CancellationCode.unique()"
   ]
  },
  {
   "cell_type": "markdown",
   "metadata": {},
   "source": [
    "At this stage it is not clear if we should keep this column or drop because we are trying to predict two classes (\"Canceled\" and \"Not canceled\"). If we wanted to predict 4 classes: (i) Canceled_A, (ii) Canceled_B, (iii) Canceled_C, and (iv) Not canceled, then we should keep this column. We are not able to find information about these A,B,C codes but we guess it is code to denote the type of cancellation (i.e. cancellation due to weather, cancellation due to very small number of passengers etc.). In any case, we will keep in this column but not in its current format. We will create 4 new columns to indicate all 4 classes (A, B, C, D) and drop the original \"CancellationCode\". "
   ]
  },
  {
   "cell_type": "code",
   "execution_count": 182,
   "metadata": {
    "collapsed": true
   },
   "outputs": [],
   "source": [
    "df = pd.concat([df, pd.get_dummies(df.CancellationCode, prefix=\"Canceled\", dummy_na=False)], axis=1)"
   ]
  },
  {
   "cell_type": "code",
   "execution_count": 185,
   "metadata": {
    "collapsed": true
   },
   "outputs": [],
   "source": [
    "df.drop([\"CancellationCode\"], inplace=True, axis=1)"
   ]
  },
  {
   "cell_type": "code",
   "execution_count": 186,
   "metadata": {
    "collapsed": false
   },
   "outputs": [
    {
     "data": {
      "text/plain": [
       "(2857139, 109)"
      ]
     },
     "execution_count": 186,
     "metadata": {},
     "output_type": "execute_result"
    }
   ],
   "source": [
    "df.shape"
   ]
  },
  {
   "cell_type": "markdown",
   "metadata": {},
   "source": [
    "#### FirstDepTime, TotalAddGTime, LongestAddGTime, DivReachedDest\n",
    "\n",
    "These columns contain information about the diverted flights. These are also about the \"actual\" events, so we can drop them for the same reason we dropped some more columns (like DepDelay, ArrDelay, TaxiIn etc..) before."
   ]
  },
  {
   "cell_type": "code",
   "execution_count": 187,
   "metadata": {
    "collapsed": true
   },
   "outputs": [],
   "source": [
    "df.drop([\"FirstDepTime\", \"TotalAddGTime\", \"LongestAddGTime\", \"DivReachedDest\"], axis=1, inplace=True)"
   ]
  },
  {
   "cell_type": "code",
   "execution_count": 188,
   "metadata": {
    "collapsed": false
   },
   "outputs": [
    {
     "data": {
      "text/plain": [
       "(2857139, 105)"
      ]
     },
     "execution_count": 188,
     "metadata": {},
     "output_type": "execute_result"
    }
   ],
   "source": [
    "df.shape"
   ]
  },
  {
   "cell_type": "markdown",
   "metadata": {},
   "source": [
    "Let now calculate the fraction of missing values one more time to make sure we do not have any columns with any missing values."
   ]
  },
  {
   "cell_type": "code",
   "execution_count": 189,
   "metadata": {
    "collapsed": false
   },
   "outputs": [
    {
     "data": {
      "text/plain": [
       "[('Year', 0.0),\n",
       " ('Quarter', 0.0),\n",
       " ('Month', 0.0),\n",
       " ('DayofMonth', 0.0),\n",
       " ('DayOfWeek', 0.0),\n",
       " ('UniqueCarrier', 0.0),\n",
       " ('AirlineID', 0.0),\n",
       " ('Carrier', 0.0),\n",
       " ('FlightNum', 0.0),\n",
       " ('OriginAirportID', 0.0),\n",
       " ('OriginAirportSeqID', 0.0),\n",
       " ('OriginCityMarketID', 0.0),\n",
       " ('Origin', 0.0),\n",
       " ('OriginCityName', 0.0),\n",
       " ('OriginState', 0.0),\n",
       " ('OriginStateFips', 0.0),\n",
       " ('OriginStateName', 0.0),\n",
       " ('OriginWac', 0.0),\n",
       " ('DestAirportID', 0.0),\n",
       " ('DestAirportSeqID', 0.0),\n",
       " ('DestCityMarketID', 0.0),\n",
       " ('Dest', 0.0),\n",
       " ('DestCityName', 0.0),\n",
       " ('DestState', 0.0),\n",
       " ('DestStateFips', 0.0),\n",
       " ('DestStateName', 0.0),\n",
       " ('DestWac', 0.0),\n",
       " ('CRSDepTime', 0.0),\n",
       " ('DepTimeBlk', 0.0),\n",
       " ('CRSArrTime', 0.0),\n",
       " ('ArrTimeBlk', 0.0),\n",
       " ('Cancelled', 0.0),\n",
       " ('Diverted', 0.0),\n",
       " ('Flights', 0.0),\n",
       " ('Distance', 0.0),\n",
       " ('DistanceGroup', 0.0),\n",
       " ('DivAirportLandings', 0.0),\n",
       " ('Nflights_10', 0.0),\n",
       " ('DepDelayMedian_10', 0.0),\n",
       " ('DepDelayMax_10', 0.0),\n",
       " ('ArrDelayMedian_10', 0.0),\n",
       " ('ArrDelayMax_10', 0.0),\n",
       " ('TaxiOutMedian_10', 0.0),\n",
       " ('TaxiInMedian_10', 0.0),\n",
       " ('Ncan_10', 0.0),\n",
       " ('Ndiv_10', 0.0),\n",
       " ('Nflights_20', 0.0),\n",
       " ('DepDelayMedian_20', 0.0),\n",
       " ('DepDelayMax_20', 0.0),\n",
       " ('ArrDelayMedian_20', 0.0),\n",
       " ('ArrDelayMax_20', 0.0),\n",
       " ('TaxiOutMedian_20', 0.0),\n",
       " ('TaxiInMedian_20', 0.0),\n",
       " ('Ncan_20', 0.0),\n",
       " ('Ndiv_20', 0.0),\n",
       " ('Nflights_30', 0.0),\n",
       " ('DepDelayMedian_30', 0.0),\n",
       " ('DepDelayMax_30', 0.0),\n",
       " ('ArrDelayMedian_30', 0.0),\n",
       " ('ArrDelayMax_30', 0.0),\n",
       " ('TaxiOutMedian_30', 0.0),\n",
       " ('TaxiInMedian_30', 0.0),\n",
       " ('Ncan_30', 0.0),\n",
       " ('Ndiv_30', 0.0),\n",
       " ('CRSDepHr', 0.0),\n",
       " ('CRSArrHr', 0.0),\n",
       " ('Temperature_Origin', 0.0),\n",
       " ('DewPoint_Origin', 0.0),\n",
       " ('Humidity_Origin', 0.0),\n",
       " ('WindSpeed_Origin', 0.0),\n",
       " ('WindDirection_Origin', 0.0),\n",
       " ('Visibility_Origin', 0.0),\n",
       " ('Pressure_Origin', 0.0),\n",
       " ('Condition_Origin', 0.0),\n",
       " ('Temperature_Dest', 0.0),\n",
       " ('DewPoint_Dest', 0.0),\n",
       " ('Humidity_Dest', 0.0),\n",
       " ('WindSpeed_Dest', 0.0),\n",
       " ('WindDirection_Dest', 0.0),\n",
       " ('Visibility_Dest', 0.0),\n",
       " ('Pressure_Dest', 0.0),\n",
       " ('Condition_Dest', 0.0),\n",
       " ('Year_Dest', 0.0),\n",
       " ('Quarter_Dest', 0.0),\n",
       " ('Month_Dest', 0.0),\n",
       " ('DayOfMonth_Dest', 0.0),\n",
       " ('DayOfWeek_Dest', 0.0),\n",
       " ('TempFlight_30', 0.0),\n",
       " ('TempFlight_20', 0.0),\n",
       " ('TempFlight_10', 0.0),\n",
       " ('FlightDateTime', 0.0),\n",
       " ('FlightDateTimeAtDest', 0.0),\n",
       " ('AllCanceled_30', 0.0),\n",
       " ('AllDiverted_30', 0.0),\n",
       " ('AllCanceled_20', 0.0),\n",
       " ('AllDiverted_20', 0.0),\n",
       " ('AllCanDiv_20', 0.0),\n",
       " ('AllCanceled_10', 0.0),\n",
       " ('AllDiverted_10', 0.0),\n",
       " ('AllCanDiv_30', 0.0),\n",
       " ('AllCanDiv_10', 0.0),\n",
       " ('Canceled_A', 0.0),\n",
       " ('Canceled_B', 0.0),\n",
       " ('Canceled_C', 0.0),\n",
       " ('Canceled_D', 0.0)]"
      ]
     },
     "execution_count": 189,
     "metadata": {},
     "output_type": "execute_result"
    }
   ],
   "source": [
    "frac_nulls = {col: (sum(df[col].isnull())/len(df)) for col in df.columns}\n",
    "frac_nulls = sorted(frac_nulls.items(), key = operator.itemgetter(1))\n",
    "frac_nulls"
   ]
  },
  {
   "cell_type": "code",
   "execution_count": 190,
   "metadata": {
    "collapsed": false
   },
   "outputs": [
    {
     "data": {
      "text/plain": [
       "1.0"
      ]
     },
     "execution_count": 190,
     "metadata": {},
     "output_type": "execute_result"
    }
   ],
   "source": [
    "df.Flights.min()"
   ]
  },
  {
   "cell_type": "code",
   "execution_count": 191,
   "metadata": {
    "collapsed": false
   },
   "outputs": [
    {
     "data": {
      "text/html": [
       "<div>\n",
       "<table border=\"1\" class=\"dataframe\">\n",
       "  <thead>\n",
       "    <tr style=\"text-align: right;\">\n",
       "      <th></th>\n",
       "      <th>Year</th>\n",
       "      <th>Quarter</th>\n",
       "      <th>Month</th>\n",
       "      <th>DayofMonth</th>\n",
       "      <th>DayOfWeek</th>\n",
       "      <th>UniqueCarrier</th>\n",
       "      <th>AirlineID</th>\n",
       "      <th>Carrier</th>\n",
       "      <th>FlightNum</th>\n",
       "      <th>OriginAirportID</th>\n",
       "      <th>OriginAirportSeqID</th>\n",
       "      <th>OriginCityMarketID</th>\n",
       "      <th>Origin</th>\n",
       "      <th>OriginCityName</th>\n",
       "      <th>OriginState</th>\n",
       "      <th>OriginStateFips</th>\n",
       "      <th>OriginStateName</th>\n",
       "      <th>OriginWac</th>\n",
       "      <th>DestAirportID</th>\n",
       "      <th>DestAirportSeqID</th>\n",
       "      <th>DestCityMarketID</th>\n",
       "      <th>Dest</th>\n",
       "      <th>DestCityName</th>\n",
       "      <th>DestState</th>\n",
       "      <th>DestStateFips</th>\n",
       "      <th>DestStateName</th>\n",
       "      <th>DestWac</th>\n",
       "      <th>CRSDepTime</th>\n",
       "      <th>DepTimeBlk</th>\n",
       "      <th>CRSArrTime</th>\n",
       "      <th>ArrTimeBlk</th>\n",
       "      <th>Cancelled</th>\n",
       "      <th>Diverted</th>\n",
       "      <th>Flights</th>\n",
       "      <th>Distance</th>\n",
       "      <th>DistanceGroup</th>\n",
       "      <th>DivAirportLandings</th>\n",
       "      <th>Nflights_10</th>\n",
       "      <th>DepDelayMedian_10</th>\n",
       "      <th>DepDelayMax_10</th>\n",
       "      <th>ArrDelayMedian_10</th>\n",
       "      <th>ArrDelayMax_10</th>\n",
       "      <th>TaxiOutMedian_10</th>\n",
       "      <th>TaxiInMedian_10</th>\n",
       "      <th>Ncan_10</th>\n",
       "      <th>Ndiv_10</th>\n",
       "      <th>Nflights_20</th>\n",
       "      <th>DepDelayMedian_20</th>\n",
       "      <th>DepDelayMax_20</th>\n",
       "      <th>ArrDelayMedian_20</th>\n",
       "      <th>ArrDelayMax_20</th>\n",
       "      <th>TaxiOutMedian_20</th>\n",
       "      <th>TaxiInMedian_20</th>\n",
       "      <th>Ncan_20</th>\n",
       "      <th>Ndiv_20</th>\n",
       "      <th>Nflights_30</th>\n",
       "      <th>DepDelayMedian_30</th>\n",
       "      <th>DepDelayMax_30</th>\n",
       "      <th>ArrDelayMedian_30</th>\n",
       "      <th>ArrDelayMax_30</th>\n",
       "      <th>TaxiOutMedian_30</th>\n",
       "      <th>TaxiInMedian_30</th>\n",
       "      <th>Ncan_30</th>\n",
       "      <th>Ndiv_30</th>\n",
       "      <th>CRSDepHr</th>\n",
       "      <th>CRSArrHr</th>\n",
       "      <th>Temperature_Origin</th>\n",
       "      <th>DewPoint_Origin</th>\n",
       "      <th>Humidity_Origin</th>\n",
       "      <th>WindSpeed_Origin</th>\n",
       "      <th>WindDirection_Origin</th>\n",
       "      <th>Visibility_Origin</th>\n",
       "      <th>Pressure_Origin</th>\n",
       "      <th>Condition_Origin</th>\n",
       "      <th>Temperature_Dest</th>\n",
       "      <th>DewPoint_Dest</th>\n",
       "      <th>Humidity_Dest</th>\n",
       "      <th>WindSpeed_Dest</th>\n",
       "      <th>WindDirection_Dest</th>\n",
       "      <th>Visibility_Dest</th>\n",
       "      <th>Pressure_Dest</th>\n",
       "      <th>Condition_Dest</th>\n",
       "      <th>Year_Dest</th>\n",
       "      <th>Quarter_Dest</th>\n",
       "      <th>Month_Dest</th>\n",
       "      <th>DayOfMonth_Dest</th>\n",
       "      <th>DayOfWeek_Dest</th>\n",
       "      <th>TempFlight_30</th>\n",
       "      <th>TempFlight_20</th>\n",
       "      <th>TempFlight_10</th>\n",
       "      <th>FlightDateTime</th>\n",
       "      <th>FlightDateTimeAtDest</th>\n",
       "      <th>AllCanceled_30</th>\n",
       "      <th>AllDiverted_30</th>\n",
       "      <th>AllCanceled_20</th>\n",
       "      <th>AllDiverted_20</th>\n",
       "      <th>AllCanDiv_20</th>\n",
       "      <th>AllCanceled_10</th>\n",
       "      <th>AllDiverted_10</th>\n",
       "      <th>AllCanDiv_30</th>\n",
       "      <th>AllCanDiv_10</th>\n",
       "      <th>Canceled_A</th>\n",
       "      <th>Canceled_B</th>\n",
       "      <th>Canceled_C</th>\n",
       "      <th>Canceled_D</th>\n",
       "    </tr>\n",
       "  </thead>\n",
       "  <tbody>\n",
       "    <tr>\n",
       "      <th>0</th>\n",
       "      <td>2015</td>\n",
       "      <td>1</td>\n",
       "      <td>1</td>\n",
       "      <td>1</td>\n",
       "      <td>4</td>\n",
       "      <td>AA</td>\n",
       "      <td>19805</td>\n",
       "      <td>AA</td>\n",
       "      <td>2459</td>\n",
       "      <td>14107</td>\n",
       "      <td>1410702</td>\n",
       "      <td>30466</td>\n",
       "      <td>PHX</td>\n",
       "      <td>Phoenix, AZ</td>\n",
       "      <td>AZ</td>\n",
       "      <td>4</td>\n",
       "      <td>Arizona</td>\n",
       "      <td>81</td>\n",
       "      <td>11298</td>\n",
       "      <td>1129803</td>\n",
       "      <td>30194</td>\n",
       "      <td>DFW</td>\n",
       "      <td>Dallas/Fort Worth, TX</td>\n",
       "      <td>TX</td>\n",
       "      <td>48</td>\n",
       "      <td>Texas</td>\n",
       "      <td>74</td>\n",
       "      <td>200</td>\n",
       "      <td>0001-0559</td>\n",
       "      <td>500</td>\n",
       "      <td>0001-0559</td>\n",
       "      <td>1.0</td>\n",
       "      <td>0.0</td>\n",
       "      <td>1.0</td>\n",
       "      <td>868.0</td>\n",
       "      <td>4</td>\n",
       "      <td>0</td>\n",
       "      <td>10</td>\n",
       "      <td>-2.0</td>\n",
       "      <td>0.0</td>\n",
       "      <td>-2.5</td>\n",
       "      <td>17.0</td>\n",
       "      <td>13.0</td>\n",
       "      <td>4.0</td>\n",
       "      <td>0.0</td>\n",
       "      <td>0.0</td>\n",
       "      <td>14</td>\n",
       "      <td>-2.0</td>\n",
       "      <td>0.0</td>\n",
       "      <td>-0.5</td>\n",
       "      <td>17.0</td>\n",
       "      <td>13.0</td>\n",
       "      <td>5.0</td>\n",
       "      <td>0.0</td>\n",
       "      <td>0.0</td>\n",
       "      <td>14</td>\n",
       "      <td>-2.0</td>\n",
       "      <td>0.0</td>\n",
       "      <td>-0.5</td>\n",
       "      <td>17.0</td>\n",
       "      <td>13.0</td>\n",
       "      <td>5.0</td>\n",
       "      <td>0.0</td>\n",
       "      <td>0.0</td>\n",
       "      <td>2</td>\n",
       "      <td>5</td>\n",
       "      <td>37.0</td>\n",
       "      <td>30.0</td>\n",
       "      <td>76.0</td>\n",
       "      <td>3.5</td>\n",
       "      <td>320.0</td>\n",
       "      <td>10.0</td>\n",
       "      <td>30.04</td>\n",
       "      <td>Scattered Clouds</td>\n",
       "      <td>33.1</td>\n",
       "      <td>27.0</td>\n",
       "      <td>78.0</td>\n",
       "      <td>8.1</td>\n",
       "      <td>350.0</td>\n",
       "      <td>10.0</td>\n",
       "      <td>30.34</td>\n",
       "      <td>Light Rain</td>\n",
       "      <td>2015</td>\n",
       "      <td>1</td>\n",
       "      <td>1</td>\n",
       "      <td>1</td>\n",
       "      <td>3</td>\n",
       "      <td>0</td>\n",
       "      <td>0</td>\n",
       "      <td>0</td>\n",
       "      <td>2015-01-20 09:00:00</td>\n",
       "      <td>2015-01-01 05:00:00</td>\n",
       "      <td>0</td>\n",
       "      <td>0</td>\n",
       "      <td>0</td>\n",
       "      <td>0</td>\n",
       "      <td>0</td>\n",
       "      <td>0</td>\n",
       "      <td>0</td>\n",
       "      <td>0</td>\n",
       "      <td>0</td>\n",
       "      <td>0</td>\n",
       "      <td>1</td>\n",
       "      <td>0</td>\n",
       "      <td>0</td>\n",
       "    </tr>\n",
       "    <tr>\n",
       "      <th>1</th>\n",
       "      <td>2015</td>\n",
       "      <td>1</td>\n",
       "      <td>1</td>\n",
       "      <td>1</td>\n",
       "      <td>4</td>\n",
       "      <td>NK</td>\n",
       "      <td>20416</td>\n",
       "      <td>NK</td>\n",
       "      <td>972</td>\n",
       "      <td>14107</td>\n",
       "      <td>1410702</td>\n",
       "      <td>30466</td>\n",
       "      <td>PHX</td>\n",
       "      <td>Phoenix, AZ</td>\n",
       "      <td>AZ</td>\n",
       "      <td>4</td>\n",
       "      <td>Arizona</td>\n",
       "      <td>81</td>\n",
       "      <td>11298</td>\n",
       "      <td>1129803</td>\n",
       "      <td>30194</td>\n",
       "      <td>DFW</td>\n",
       "      <td>Dallas/Fort Worth, TX</td>\n",
       "      <td>TX</td>\n",
       "      <td>48</td>\n",
       "      <td>Texas</td>\n",
       "      <td>74</td>\n",
       "      <td>159</td>\n",
       "      <td>0001-0559</td>\n",
       "      <td>502</td>\n",
       "      <td>0001-0559</td>\n",
       "      <td>0.0</td>\n",
       "      <td>0.0</td>\n",
       "      <td>1.0</td>\n",
       "      <td>868.0</td>\n",
       "      <td>4</td>\n",
       "      <td>0</td>\n",
       "      <td>0</td>\n",
       "      <td>0.0</td>\n",
       "      <td>0.0</td>\n",
       "      <td>0.0</td>\n",
       "      <td>0.0</td>\n",
       "      <td>0.0</td>\n",
       "      <td>0.0</td>\n",
       "      <td>0.0</td>\n",
       "      <td>0.0</td>\n",
       "      <td>0</td>\n",
       "      <td>0.0</td>\n",
       "      <td>0.0</td>\n",
       "      <td>0.0</td>\n",
       "      <td>0.0</td>\n",
       "      <td>0.0</td>\n",
       "      <td>0.0</td>\n",
       "      <td>0.0</td>\n",
       "      <td>0.0</td>\n",
       "      <td>0</td>\n",
       "      <td>0.0</td>\n",
       "      <td>0.0</td>\n",
       "      <td>0.0</td>\n",
       "      <td>0.0</td>\n",
       "      <td>0.0</td>\n",
       "      <td>0.0</td>\n",
       "      <td>0.0</td>\n",
       "      <td>0.0</td>\n",
       "      <td>1</td>\n",
       "      <td>5</td>\n",
       "      <td>37.0</td>\n",
       "      <td>30.9</td>\n",
       "      <td>79.0</td>\n",
       "      <td>4.6</td>\n",
       "      <td>300.0</td>\n",
       "      <td>10.0</td>\n",
       "      <td>30.03</td>\n",
       "      <td>Mostly Cloudy</td>\n",
       "      <td>33.1</td>\n",
       "      <td>27.0</td>\n",
       "      <td>78.0</td>\n",
       "      <td>8.1</td>\n",
       "      <td>350.0</td>\n",
       "      <td>10.0</td>\n",
       "      <td>30.34</td>\n",
       "      <td>Light Rain</td>\n",
       "      <td>2015</td>\n",
       "      <td>1</td>\n",
       "      <td>1</td>\n",
       "      <td>1</td>\n",
       "      <td>3</td>\n",
       "      <td>1</td>\n",
       "      <td>1</td>\n",
       "      <td>1</td>\n",
       "      <td>2015-01-19 09:00:00</td>\n",
       "      <td>2015-01-01 05:02:00</td>\n",
       "      <td>0</td>\n",
       "      <td>0</td>\n",
       "      <td>0</td>\n",
       "      <td>0</td>\n",
       "      <td>0</td>\n",
       "      <td>0</td>\n",
       "      <td>0</td>\n",
       "      <td>0</td>\n",
       "      <td>0</td>\n",
       "      <td>0</td>\n",
       "      <td>0</td>\n",
       "      <td>0</td>\n",
       "      <td>0</td>\n",
       "    </tr>\n",
       "    <tr>\n",
       "      <th>2</th>\n",
       "      <td>2015</td>\n",
       "      <td>1</td>\n",
       "      <td>1</td>\n",
       "      <td>1</td>\n",
       "      <td>4</td>\n",
       "      <td>DL</td>\n",
       "      <td>19790</td>\n",
       "      <td>DL</td>\n",
       "      <td>2336</td>\n",
       "      <td>11292</td>\n",
       "      <td>1129202</td>\n",
       "      <td>30325</td>\n",
       "      <td>DEN</td>\n",
       "      <td>Denver, CO</td>\n",
       "      <td>CO</td>\n",
       "      <td>8</td>\n",
       "      <td>Colorado</td>\n",
       "      <td>82</td>\n",
       "      <td>10397</td>\n",
       "      <td>1039705</td>\n",
       "      <td>30397</td>\n",
       "      <td>ATL</td>\n",
       "      <td>Atlanta, GA</td>\n",
       "      <td>GA</td>\n",
       "      <td>13</td>\n",
       "      <td>Georgia</td>\n",
       "      <td>34</td>\n",
       "      <td>30</td>\n",
       "      <td>0001-0559</td>\n",
       "      <td>523</td>\n",
       "      <td>0001-0559</td>\n",
       "      <td>0.0</td>\n",
       "      <td>0.0</td>\n",
       "      <td>1.0</td>\n",
       "      <td>1199.0</td>\n",
       "      <td>5</td>\n",
       "      <td>0</td>\n",
       "      <td>17</td>\n",
       "      <td>-1.0</td>\n",
       "      <td>48.0</td>\n",
       "      <td>-5.0</td>\n",
       "      <td>52.0</td>\n",
       "      <td>17.0</td>\n",
       "      <td>7.0</td>\n",
       "      <td>0.0</td>\n",
       "      <td>0.0</td>\n",
       "      <td>21</td>\n",
       "      <td>-1.0</td>\n",
       "      <td>48.0</td>\n",
       "      <td>-7.0</td>\n",
       "      <td>52.0</td>\n",
       "      <td>15.0</td>\n",
       "      <td>7.0</td>\n",
       "      <td>0.0</td>\n",
       "      <td>0.0</td>\n",
       "      <td>21</td>\n",
       "      <td>-1.0</td>\n",
       "      <td>48.0</td>\n",
       "      <td>-7.0</td>\n",
       "      <td>52.0</td>\n",
       "      <td>15.0</td>\n",
       "      <td>7.0</td>\n",
       "      <td>0.0</td>\n",
       "      <td>0.0</td>\n",
       "      <td>0</td>\n",
       "      <td>5</td>\n",
       "      <td>7.0</td>\n",
       "      <td>-8.0</td>\n",
       "      <td>51.0</td>\n",
       "      <td>15.0</td>\n",
       "      <td>170.0</td>\n",
       "      <td>10.0</td>\n",
       "      <td>30.22</td>\n",
       "      <td>Clear</td>\n",
       "      <td>33.1</td>\n",
       "      <td>26.1</td>\n",
       "      <td>75.0</td>\n",
       "      <td>3.5</td>\n",
       "      <td>310.0</td>\n",
       "      <td>10.0</td>\n",
       "      <td>30.32</td>\n",
       "      <td>Partly Cloudy</td>\n",
       "      <td>2015</td>\n",
       "      <td>1</td>\n",
       "      <td>1</td>\n",
       "      <td>1</td>\n",
       "      <td>3</td>\n",
       "      <td>0</td>\n",
       "      <td>0</td>\n",
       "      <td>0</td>\n",
       "      <td>2015-01-07 09:00:00</td>\n",
       "      <td>2015-01-01 05:23:00</td>\n",
       "      <td>0</td>\n",
       "      <td>0</td>\n",
       "      <td>0</td>\n",
       "      <td>0</td>\n",
       "      <td>0</td>\n",
       "      <td>0</td>\n",
       "      <td>0</td>\n",
       "      <td>0</td>\n",
       "      <td>0</td>\n",
       "      <td>0</td>\n",
       "      <td>0</td>\n",
       "      <td>0</td>\n",
       "      <td>0</td>\n",
       "    </tr>\n",
       "    <tr>\n",
       "      <th>3</th>\n",
       "      <td>2015</td>\n",
       "      <td>1</td>\n",
       "      <td>1</td>\n",
       "      <td>1</td>\n",
       "      <td>4</td>\n",
       "      <td>NK</td>\n",
       "      <td>20416</td>\n",
       "      <td>NK</td>\n",
       "      <td>612</td>\n",
       "      <td>12889</td>\n",
       "      <td>1288903</td>\n",
       "      <td>32211</td>\n",
       "      <td>LAS</td>\n",
       "      <td>Las Vegas, NV</td>\n",
       "      <td>NV</td>\n",
       "      <td>32</td>\n",
       "      <td>Nevada</td>\n",
       "      <td>85</td>\n",
       "      <td>13487</td>\n",
       "      <td>1348702</td>\n",
       "      <td>31650</td>\n",
       "      <td>MSP</td>\n",
       "      <td>Minneapolis, MN</td>\n",
       "      <td>MN</td>\n",
       "      <td>27</td>\n",
       "      <td>Minnesota</td>\n",
       "      <td>63</td>\n",
       "      <td>25</td>\n",
       "      <td>0001-0559</td>\n",
       "      <td>526</td>\n",
       "      <td>0001-0559</td>\n",
       "      <td>0.0</td>\n",
       "      <td>0.0</td>\n",
       "      <td>1.0</td>\n",
       "      <td>1299.0</td>\n",
       "      <td>6</td>\n",
       "      <td>0</td>\n",
       "      <td>0</td>\n",
       "      <td>0.0</td>\n",
       "      <td>0.0</td>\n",
       "      <td>0.0</td>\n",
       "      <td>0.0</td>\n",
       "      <td>0.0</td>\n",
       "      <td>0.0</td>\n",
       "      <td>0.0</td>\n",
       "      <td>0.0</td>\n",
       "      <td>0</td>\n",
       "      <td>0.0</td>\n",
       "      <td>0.0</td>\n",
       "      <td>0.0</td>\n",
       "      <td>0.0</td>\n",
       "      <td>0.0</td>\n",
       "      <td>0.0</td>\n",
       "      <td>0.0</td>\n",
       "      <td>0.0</td>\n",
       "      <td>0</td>\n",
       "      <td>0.0</td>\n",
       "      <td>0.0</td>\n",
       "      <td>0.0</td>\n",
       "      <td>0.0</td>\n",
       "      <td>0.0</td>\n",
       "      <td>0.0</td>\n",
       "      <td>0.0</td>\n",
       "      <td>0.0</td>\n",
       "      <td>0</td>\n",
       "      <td>5</td>\n",
       "      <td>34.0</td>\n",
       "      <td>17.1</td>\n",
       "      <td>50.0</td>\n",
       "      <td>9.2</td>\n",
       "      <td>190.0</td>\n",
       "      <td>10.0</td>\n",
       "      <td>29.99</td>\n",
       "      <td>Mostly Cloudy</td>\n",
       "      <td>16.0</td>\n",
       "      <td>10.0</td>\n",
       "      <td>77.0</td>\n",
       "      <td>8.1</td>\n",
       "      <td>240.0</td>\n",
       "      <td>10.0</td>\n",
       "      <td>29.90</td>\n",
       "      <td>Overcast</td>\n",
       "      <td>2015</td>\n",
       "      <td>1</td>\n",
       "      <td>1</td>\n",
       "      <td>1</td>\n",
       "      <td>3</td>\n",
       "      <td>1</td>\n",
       "      <td>1</td>\n",
       "      <td>1</td>\n",
       "      <td>2015-01-02 09:00:00</td>\n",
       "      <td>2015-01-01 05:26:00</td>\n",
       "      <td>0</td>\n",
       "      <td>0</td>\n",
       "      <td>0</td>\n",
       "      <td>0</td>\n",
       "      <td>0</td>\n",
       "      <td>0</td>\n",
       "      <td>0</td>\n",
       "      <td>0</td>\n",
       "      <td>0</td>\n",
       "      <td>0</td>\n",
       "      <td>0</td>\n",
       "      <td>0</td>\n",
       "      <td>0</td>\n",
       "    </tr>\n",
       "    <tr>\n",
       "      <th>4</th>\n",
       "      <td>2015</td>\n",
       "      <td>1</td>\n",
       "      <td>1</td>\n",
       "      <td>1</td>\n",
       "      <td>4</td>\n",
       "      <td>NK</td>\n",
       "      <td>20416</td>\n",
       "      <td>NK</td>\n",
       "      <td>214</td>\n",
       "      <td>12889</td>\n",
       "      <td>1288903</td>\n",
       "      <td>32211</td>\n",
       "      <td>LAS</td>\n",
       "      <td>Las Vegas, NV</td>\n",
       "      <td>NV</td>\n",
       "      <td>32</td>\n",
       "      <td>Nevada</td>\n",
       "      <td>85</td>\n",
       "      <td>11298</td>\n",
       "      <td>1129803</td>\n",
       "      <td>30194</td>\n",
       "      <td>DFW</td>\n",
       "      <td>Dallas/Fort Worth, TX</td>\n",
       "      <td>TX</td>\n",
       "      <td>48</td>\n",
       "      <td>Texas</td>\n",
       "      <td>74</td>\n",
       "      <td>103</td>\n",
       "      <td>0001-0559</td>\n",
       "      <td>530</td>\n",
       "      <td>0001-0559</td>\n",
       "      <td>0.0</td>\n",
       "      <td>0.0</td>\n",
       "      <td>1.0</td>\n",
       "      <td>1055.0</td>\n",
       "      <td>5</td>\n",
       "      <td>0</td>\n",
       "      <td>0</td>\n",
       "      <td>0.0</td>\n",
       "      <td>0.0</td>\n",
       "      <td>0.0</td>\n",
       "      <td>0.0</td>\n",
       "      <td>0.0</td>\n",
       "      <td>0.0</td>\n",
       "      <td>0.0</td>\n",
       "      <td>0.0</td>\n",
       "      <td>0</td>\n",
       "      <td>0.0</td>\n",
       "      <td>0.0</td>\n",
       "      <td>0.0</td>\n",
       "      <td>0.0</td>\n",
       "      <td>0.0</td>\n",
       "      <td>0.0</td>\n",
       "      <td>0.0</td>\n",
       "      <td>0.0</td>\n",
       "      <td>0</td>\n",
       "      <td>0.0</td>\n",
       "      <td>0.0</td>\n",
       "      <td>0.0</td>\n",
       "      <td>0.0</td>\n",
       "      <td>0.0</td>\n",
       "      <td>0.0</td>\n",
       "      <td>0.0</td>\n",
       "      <td>0.0</td>\n",
       "      <td>1</td>\n",
       "      <td>5</td>\n",
       "      <td>32.0</td>\n",
       "      <td>17.1</td>\n",
       "      <td>54.0</td>\n",
       "      <td>10.4</td>\n",
       "      <td>190.0</td>\n",
       "      <td>10.0</td>\n",
       "      <td>30.00</td>\n",
       "      <td>Mostly Cloudy</td>\n",
       "      <td>33.1</td>\n",
       "      <td>27.0</td>\n",
       "      <td>78.0</td>\n",
       "      <td>8.1</td>\n",
       "      <td>350.0</td>\n",
       "      <td>10.0</td>\n",
       "      <td>30.34</td>\n",
       "      <td>Light Rain</td>\n",
       "      <td>2015</td>\n",
       "      <td>1</td>\n",
       "      <td>1</td>\n",
       "      <td>1</td>\n",
       "      <td>3</td>\n",
       "      <td>1</td>\n",
       "      <td>1</td>\n",
       "      <td>1</td>\n",
       "      <td>2015-01-12 09:00:00</td>\n",
       "      <td>2015-01-01 05:30:00</td>\n",
       "      <td>0</td>\n",
       "      <td>0</td>\n",
       "      <td>0</td>\n",
       "      <td>0</td>\n",
       "      <td>0</td>\n",
       "      <td>0</td>\n",
       "      <td>0</td>\n",
       "      <td>0</td>\n",
       "      <td>0</td>\n",
       "      <td>0</td>\n",
       "      <td>0</td>\n",
       "      <td>0</td>\n",
       "      <td>0</td>\n",
       "    </tr>\n",
       "  </tbody>\n",
       "</table>\n",
       "</div>"
      ],
      "text/plain": [
       "   Year  Quarter  Month  DayofMonth  DayOfWeek UniqueCarrier  AirlineID  \\\n",
       "0  2015        1      1           1          4            AA      19805   \n",
       "1  2015        1      1           1          4            NK      20416   \n",
       "2  2015        1      1           1          4            DL      19790   \n",
       "3  2015        1      1           1          4            NK      20416   \n",
       "4  2015        1      1           1          4            NK      20416   \n",
       "\n",
       "  Carrier  FlightNum  OriginAirportID  OriginAirportSeqID  OriginCityMarketID  \\\n",
       "0      AA       2459            14107             1410702               30466   \n",
       "1      NK        972            14107             1410702               30466   \n",
       "2      DL       2336            11292             1129202               30325   \n",
       "3      NK        612            12889             1288903               32211   \n",
       "4      NK        214            12889             1288903               32211   \n",
       "\n",
       "  Origin OriginCityName OriginState  OriginStateFips OriginStateName  \\\n",
       "0    PHX    Phoenix, AZ          AZ                4         Arizona   \n",
       "1    PHX    Phoenix, AZ          AZ                4         Arizona   \n",
       "2    DEN     Denver, CO          CO                8        Colorado   \n",
       "3    LAS  Las Vegas, NV          NV               32          Nevada   \n",
       "4    LAS  Las Vegas, NV          NV               32          Nevada   \n",
       "\n",
       "   OriginWac  DestAirportID  DestAirportSeqID  DestCityMarketID Dest  \\\n",
       "0         81          11298           1129803             30194  DFW   \n",
       "1         81          11298           1129803             30194  DFW   \n",
       "2         82          10397           1039705             30397  ATL   \n",
       "3         85          13487           1348702             31650  MSP   \n",
       "4         85          11298           1129803             30194  DFW   \n",
       "\n",
       "            DestCityName DestState  DestStateFips DestStateName  DestWac  \\\n",
       "0  Dallas/Fort Worth, TX        TX             48         Texas       74   \n",
       "1  Dallas/Fort Worth, TX        TX             48         Texas       74   \n",
       "2            Atlanta, GA        GA             13       Georgia       34   \n",
       "3        Minneapolis, MN        MN             27     Minnesota       63   \n",
       "4  Dallas/Fort Worth, TX        TX             48         Texas       74   \n",
       "\n",
       "   CRSDepTime DepTimeBlk  CRSArrTime ArrTimeBlk  Cancelled  Diverted  Flights  \\\n",
       "0         200  0001-0559         500  0001-0559        1.0       0.0      1.0   \n",
       "1         159  0001-0559         502  0001-0559        0.0       0.0      1.0   \n",
       "2          30  0001-0559         523  0001-0559        0.0       0.0      1.0   \n",
       "3          25  0001-0559         526  0001-0559        0.0       0.0      1.0   \n",
       "4         103  0001-0559         530  0001-0559        0.0       0.0      1.0   \n",
       "\n",
       "   Distance  DistanceGroup  DivAirportLandings  Nflights_10  \\\n",
       "0     868.0              4                   0           10   \n",
       "1     868.0              4                   0            0   \n",
       "2    1199.0              5                   0           17   \n",
       "3    1299.0              6                   0            0   \n",
       "4    1055.0              5                   0            0   \n",
       "\n",
       "   DepDelayMedian_10  DepDelayMax_10  ArrDelayMedian_10  ArrDelayMax_10  \\\n",
       "0               -2.0             0.0               -2.5            17.0   \n",
       "1                0.0             0.0                0.0             0.0   \n",
       "2               -1.0            48.0               -5.0            52.0   \n",
       "3                0.0             0.0                0.0             0.0   \n",
       "4                0.0             0.0                0.0             0.0   \n",
       "\n",
       "   TaxiOutMedian_10  TaxiInMedian_10  Ncan_10  Ndiv_10  Nflights_20  \\\n",
       "0              13.0              4.0      0.0      0.0           14   \n",
       "1               0.0              0.0      0.0      0.0            0   \n",
       "2              17.0              7.0      0.0      0.0           21   \n",
       "3               0.0              0.0      0.0      0.0            0   \n",
       "4               0.0              0.0      0.0      0.0            0   \n",
       "\n",
       "   DepDelayMedian_20  DepDelayMax_20  ArrDelayMedian_20  ArrDelayMax_20  \\\n",
       "0               -2.0             0.0               -0.5            17.0   \n",
       "1                0.0             0.0                0.0             0.0   \n",
       "2               -1.0            48.0               -7.0            52.0   \n",
       "3                0.0             0.0                0.0             0.0   \n",
       "4                0.0             0.0                0.0             0.0   \n",
       "\n",
       "   TaxiOutMedian_20  TaxiInMedian_20  Ncan_20  Ndiv_20  Nflights_30  \\\n",
       "0              13.0              5.0      0.0      0.0           14   \n",
       "1               0.0              0.0      0.0      0.0            0   \n",
       "2              15.0              7.0      0.0      0.0           21   \n",
       "3               0.0              0.0      0.0      0.0            0   \n",
       "4               0.0              0.0      0.0      0.0            0   \n",
       "\n",
       "   DepDelayMedian_30  DepDelayMax_30  ArrDelayMedian_30  ArrDelayMax_30  \\\n",
       "0               -2.0             0.0               -0.5            17.0   \n",
       "1                0.0             0.0                0.0             0.0   \n",
       "2               -1.0            48.0               -7.0            52.0   \n",
       "3                0.0             0.0                0.0             0.0   \n",
       "4                0.0             0.0                0.0             0.0   \n",
       "\n",
       "   TaxiOutMedian_30  TaxiInMedian_30  Ncan_30  Ndiv_30  CRSDepHr  CRSArrHr  \\\n",
       "0              13.0              5.0      0.0      0.0         2         5   \n",
       "1               0.0              0.0      0.0      0.0         1         5   \n",
       "2              15.0              7.0      0.0      0.0         0         5   \n",
       "3               0.0              0.0      0.0      0.0         0         5   \n",
       "4               0.0              0.0      0.0      0.0         1         5   \n",
       "\n",
       "   Temperature_Origin  DewPoint_Origin  Humidity_Origin  WindSpeed_Origin  \\\n",
       "0                37.0             30.0             76.0               3.5   \n",
       "1                37.0             30.9             79.0               4.6   \n",
       "2                 7.0             -8.0             51.0              15.0   \n",
       "3                34.0             17.1             50.0               9.2   \n",
       "4                32.0             17.1             54.0              10.4   \n",
       "\n",
       "   WindDirection_Origin  Visibility_Origin  Pressure_Origin  Condition_Origin  \\\n",
       "0                 320.0               10.0            30.04  Scattered Clouds   \n",
       "1                 300.0               10.0            30.03     Mostly Cloudy   \n",
       "2                 170.0               10.0            30.22             Clear   \n",
       "3                 190.0               10.0            29.99     Mostly Cloudy   \n",
       "4                 190.0               10.0            30.00     Mostly Cloudy   \n",
       "\n",
       "   Temperature_Dest  DewPoint_Dest  Humidity_Dest  WindSpeed_Dest  \\\n",
       "0              33.1           27.0           78.0             8.1   \n",
       "1              33.1           27.0           78.0             8.1   \n",
       "2              33.1           26.1           75.0             3.5   \n",
       "3              16.0           10.0           77.0             8.1   \n",
       "4              33.1           27.0           78.0             8.1   \n",
       "\n",
       "   WindDirection_Dest  Visibility_Dest  Pressure_Dest Condition_Dest  \\\n",
       "0               350.0             10.0          30.34     Light Rain   \n",
       "1               350.0             10.0          30.34     Light Rain   \n",
       "2               310.0             10.0          30.32  Partly Cloudy   \n",
       "3               240.0             10.0          29.90       Overcast   \n",
       "4               350.0             10.0          30.34     Light Rain   \n",
       "\n",
       "   Year_Dest  Quarter_Dest  Month_Dest  DayOfMonth_Dest  DayOfWeek_Dest  \\\n",
       "0       2015             1           1                1               3   \n",
       "1       2015             1           1                1               3   \n",
       "2       2015             1           1                1               3   \n",
       "3       2015             1           1                1               3   \n",
       "4       2015             1           1                1               3   \n",
       "\n",
       "   TempFlight_30  TempFlight_20  TempFlight_10      FlightDateTime  \\\n",
       "0              0              0              0 2015-01-20 09:00:00   \n",
       "1              1              1              1 2015-01-19 09:00:00   \n",
       "2              0              0              0 2015-01-07 09:00:00   \n",
       "3              1              1              1 2015-01-02 09:00:00   \n",
       "4              1              1              1 2015-01-12 09:00:00   \n",
       "\n",
       "  FlightDateTimeAtDest  AllCanceled_30  AllDiverted_30  AllCanceled_20  \\\n",
       "0  2015-01-01 05:00:00               0               0               0   \n",
       "1  2015-01-01 05:02:00               0               0               0   \n",
       "2  2015-01-01 05:23:00               0               0               0   \n",
       "3  2015-01-01 05:26:00               0               0               0   \n",
       "4  2015-01-01 05:30:00               0               0               0   \n",
       "\n",
       "   AllDiverted_20  AllCanDiv_20  AllCanceled_10  AllDiverted_10  AllCanDiv_30  \\\n",
       "0               0             0               0               0             0   \n",
       "1               0             0               0               0             0   \n",
       "2               0             0               0               0             0   \n",
       "3               0             0               0               0             0   \n",
       "4               0             0               0               0             0   \n",
       "\n",
       "   AllCanDiv_10  Canceled_A  Canceled_B  Canceled_C  Canceled_D  \n",
       "0             0           0           1           0           0  \n",
       "1             0           0           0           0           0  \n",
       "2             0           0           0           0           0  \n",
       "3             0           0           0           0           0  \n",
       "4             0           0           0           0           0  "
      ]
     },
     "execution_count": 191,
     "metadata": {},
     "output_type": "execute_result"
    }
   ],
   "source": [
    "df.head()"
   ]
  },
  {
   "cell_type": "markdown",
   "metadata": {},
   "source": [
    "None of them have any missing values. Lets now quickly go thorugh the column list and think which columns can be removed.\n",
    "\n",
    "1. UniqueCarrier: Carrier has the same inforamtion\n",
    "\n",
    "2. AirlineID: this is linked with Carrier\n",
    "\n",
    "3. FlightNum: this is \"almost\" same as \"unique flight\" that we defined. In fact our definition is more consistent.\n",
    "\n",
    "4. OriginAirportID: linked with Origin\n",
    "\n",
    "5. OriginAirportSeqID: linked with Origin\n",
    "\n",
    "6. OriginCityMarketID: linked with OriginCityName (note that there is a difference between Origin and OriginCityName, for example JFK and LGA are two different Origin names but have same OriginCityName: New York City, NY)\n",
    "\n",
    "7. OriginStateFips: linked with OriginState\n",
    "\n",
    "8. OriginStateName: linked with OriginState\n",
    "\n",
    "9. DestAirportID: linked with Dest\n",
    "\n",
    "10. DestAirportSeqID: linked with Dest\n",
    "\n",
    "11. DestCityMarketID: linked with DestCityName \n",
    "\n",
    "12. DestStateFips: linked with DestState\n",
    "\n",
    "13. DestStateName: linked with DestState\n",
    "\n",
    "14. Flights: its value is only and only 1 for all rows (doesnt give any inforamtion)\n",
    "\n",
    "Lets drop these columns too."
   ]
  },
  {
   "cell_type": "code",
   "execution_count": 192,
   "metadata": {
    "collapsed": false
   },
   "outputs": [],
   "source": [
    "df.drop([\"UniqueCarrier\", \"AirlineID\", \"FlightNum\", \"OriginAirportID\", \"OriginAirportSeqID\",\n",
    "        \"OriginCityMarketID\", \"OriginStateFips\", \"OriginStateName\", \"DestAirportID\",\n",
    "         \"DestAirportSeqID\", \"DestCityMarketID\", \"DestStateFips\", \"DestStateName\", \"Flights\"], axis=1, inplace=True)"
   ]
  },
  {
   "cell_type": "code",
   "execution_count": 193,
   "metadata": {
    "collapsed": false
   },
   "outputs": [
    {
     "data": {
      "text/html": [
       "<div>\n",
       "<table border=\"1\" class=\"dataframe\">\n",
       "  <thead>\n",
       "    <tr style=\"text-align: right;\">\n",
       "      <th></th>\n",
       "      <th>Year</th>\n",
       "      <th>Quarter</th>\n",
       "      <th>Month</th>\n",
       "      <th>DayofMonth</th>\n",
       "      <th>DayOfWeek</th>\n",
       "      <th>Carrier</th>\n",
       "      <th>Origin</th>\n",
       "      <th>OriginCityName</th>\n",
       "      <th>OriginState</th>\n",
       "      <th>OriginWac</th>\n",
       "      <th>Dest</th>\n",
       "      <th>DestCityName</th>\n",
       "      <th>DestState</th>\n",
       "      <th>DestWac</th>\n",
       "      <th>CRSDepTime</th>\n",
       "      <th>DepTimeBlk</th>\n",
       "      <th>CRSArrTime</th>\n",
       "      <th>ArrTimeBlk</th>\n",
       "      <th>Cancelled</th>\n",
       "      <th>Diverted</th>\n",
       "      <th>Distance</th>\n",
       "      <th>DistanceGroup</th>\n",
       "      <th>DivAirportLandings</th>\n",
       "      <th>Nflights_10</th>\n",
       "      <th>DepDelayMedian_10</th>\n",
       "      <th>DepDelayMax_10</th>\n",
       "      <th>ArrDelayMedian_10</th>\n",
       "      <th>ArrDelayMax_10</th>\n",
       "      <th>TaxiOutMedian_10</th>\n",
       "      <th>TaxiInMedian_10</th>\n",
       "      <th>Ncan_10</th>\n",
       "      <th>Ndiv_10</th>\n",
       "      <th>Nflights_20</th>\n",
       "      <th>DepDelayMedian_20</th>\n",
       "      <th>DepDelayMax_20</th>\n",
       "      <th>ArrDelayMedian_20</th>\n",
       "      <th>ArrDelayMax_20</th>\n",
       "      <th>TaxiOutMedian_20</th>\n",
       "      <th>TaxiInMedian_20</th>\n",
       "      <th>Ncan_20</th>\n",
       "      <th>Ndiv_20</th>\n",
       "      <th>Nflights_30</th>\n",
       "      <th>DepDelayMedian_30</th>\n",
       "      <th>DepDelayMax_30</th>\n",
       "      <th>ArrDelayMedian_30</th>\n",
       "      <th>ArrDelayMax_30</th>\n",
       "      <th>TaxiOutMedian_30</th>\n",
       "      <th>TaxiInMedian_30</th>\n",
       "      <th>Ncan_30</th>\n",
       "      <th>Ndiv_30</th>\n",
       "      <th>CRSDepHr</th>\n",
       "      <th>CRSArrHr</th>\n",
       "      <th>Temperature_Origin</th>\n",
       "      <th>DewPoint_Origin</th>\n",
       "      <th>Humidity_Origin</th>\n",
       "      <th>WindSpeed_Origin</th>\n",
       "      <th>WindDirection_Origin</th>\n",
       "      <th>Visibility_Origin</th>\n",
       "      <th>Pressure_Origin</th>\n",
       "      <th>Condition_Origin</th>\n",
       "      <th>Temperature_Dest</th>\n",
       "      <th>DewPoint_Dest</th>\n",
       "      <th>Humidity_Dest</th>\n",
       "      <th>WindSpeed_Dest</th>\n",
       "      <th>WindDirection_Dest</th>\n",
       "      <th>Visibility_Dest</th>\n",
       "      <th>Pressure_Dest</th>\n",
       "      <th>Condition_Dest</th>\n",
       "      <th>Year_Dest</th>\n",
       "      <th>Quarter_Dest</th>\n",
       "      <th>Month_Dest</th>\n",
       "      <th>DayOfMonth_Dest</th>\n",
       "      <th>DayOfWeek_Dest</th>\n",
       "      <th>TempFlight_30</th>\n",
       "      <th>TempFlight_20</th>\n",
       "      <th>TempFlight_10</th>\n",
       "      <th>FlightDateTime</th>\n",
       "      <th>FlightDateTimeAtDest</th>\n",
       "      <th>AllCanceled_30</th>\n",
       "      <th>AllDiverted_30</th>\n",
       "      <th>AllCanceled_20</th>\n",
       "      <th>AllDiverted_20</th>\n",
       "      <th>AllCanDiv_20</th>\n",
       "      <th>AllCanceled_10</th>\n",
       "      <th>AllDiverted_10</th>\n",
       "      <th>AllCanDiv_30</th>\n",
       "      <th>AllCanDiv_10</th>\n",
       "      <th>Canceled_A</th>\n",
       "      <th>Canceled_B</th>\n",
       "      <th>Canceled_C</th>\n",
       "      <th>Canceled_D</th>\n",
       "    </tr>\n",
       "  </thead>\n",
       "  <tbody>\n",
       "    <tr>\n",
       "      <th>0</th>\n",
       "      <td>2015</td>\n",
       "      <td>1</td>\n",
       "      <td>1</td>\n",
       "      <td>1</td>\n",
       "      <td>4</td>\n",
       "      <td>AA</td>\n",
       "      <td>PHX</td>\n",
       "      <td>Phoenix, AZ</td>\n",
       "      <td>AZ</td>\n",
       "      <td>81</td>\n",
       "      <td>DFW</td>\n",
       "      <td>Dallas/Fort Worth, TX</td>\n",
       "      <td>TX</td>\n",
       "      <td>74</td>\n",
       "      <td>200</td>\n",
       "      <td>0001-0559</td>\n",
       "      <td>500</td>\n",
       "      <td>0001-0559</td>\n",
       "      <td>1.0</td>\n",
       "      <td>0.0</td>\n",
       "      <td>868.0</td>\n",
       "      <td>4</td>\n",
       "      <td>0</td>\n",
       "      <td>10</td>\n",
       "      <td>-2.0</td>\n",
       "      <td>0.0</td>\n",
       "      <td>-2.5</td>\n",
       "      <td>17.0</td>\n",
       "      <td>13.0</td>\n",
       "      <td>4.0</td>\n",
       "      <td>0.0</td>\n",
       "      <td>0.0</td>\n",
       "      <td>14</td>\n",
       "      <td>-2.0</td>\n",
       "      <td>0.0</td>\n",
       "      <td>-0.5</td>\n",
       "      <td>17.0</td>\n",
       "      <td>13.0</td>\n",
       "      <td>5.0</td>\n",
       "      <td>0.0</td>\n",
       "      <td>0.0</td>\n",
       "      <td>14</td>\n",
       "      <td>-2.0</td>\n",
       "      <td>0.0</td>\n",
       "      <td>-0.5</td>\n",
       "      <td>17.0</td>\n",
       "      <td>13.0</td>\n",
       "      <td>5.0</td>\n",
       "      <td>0.0</td>\n",
       "      <td>0.0</td>\n",
       "      <td>2</td>\n",
       "      <td>5</td>\n",
       "      <td>37.0</td>\n",
       "      <td>30.0</td>\n",
       "      <td>76.0</td>\n",
       "      <td>3.5</td>\n",
       "      <td>320.0</td>\n",
       "      <td>10.0</td>\n",
       "      <td>30.04</td>\n",
       "      <td>Scattered Clouds</td>\n",
       "      <td>33.1</td>\n",
       "      <td>27.0</td>\n",
       "      <td>78.0</td>\n",
       "      <td>8.1</td>\n",
       "      <td>350.0</td>\n",
       "      <td>10.0</td>\n",
       "      <td>30.34</td>\n",
       "      <td>Light Rain</td>\n",
       "      <td>2015</td>\n",
       "      <td>1</td>\n",
       "      <td>1</td>\n",
       "      <td>1</td>\n",
       "      <td>3</td>\n",
       "      <td>0</td>\n",
       "      <td>0</td>\n",
       "      <td>0</td>\n",
       "      <td>2015-01-20 09:00:00</td>\n",
       "      <td>2015-01-01 05:00:00</td>\n",
       "      <td>0</td>\n",
       "      <td>0</td>\n",
       "      <td>0</td>\n",
       "      <td>0</td>\n",
       "      <td>0</td>\n",
       "      <td>0</td>\n",
       "      <td>0</td>\n",
       "      <td>0</td>\n",
       "      <td>0</td>\n",
       "      <td>0</td>\n",
       "      <td>1</td>\n",
       "      <td>0</td>\n",
       "      <td>0</td>\n",
       "    </tr>\n",
       "    <tr>\n",
       "      <th>1</th>\n",
       "      <td>2015</td>\n",
       "      <td>1</td>\n",
       "      <td>1</td>\n",
       "      <td>1</td>\n",
       "      <td>4</td>\n",
       "      <td>NK</td>\n",
       "      <td>PHX</td>\n",
       "      <td>Phoenix, AZ</td>\n",
       "      <td>AZ</td>\n",
       "      <td>81</td>\n",
       "      <td>DFW</td>\n",
       "      <td>Dallas/Fort Worth, TX</td>\n",
       "      <td>TX</td>\n",
       "      <td>74</td>\n",
       "      <td>159</td>\n",
       "      <td>0001-0559</td>\n",
       "      <td>502</td>\n",
       "      <td>0001-0559</td>\n",
       "      <td>0.0</td>\n",
       "      <td>0.0</td>\n",
       "      <td>868.0</td>\n",
       "      <td>4</td>\n",
       "      <td>0</td>\n",
       "      <td>0</td>\n",
       "      <td>0.0</td>\n",
       "      <td>0.0</td>\n",
       "      <td>0.0</td>\n",
       "      <td>0.0</td>\n",
       "      <td>0.0</td>\n",
       "      <td>0.0</td>\n",
       "      <td>0.0</td>\n",
       "      <td>0.0</td>\n",
       "      <td>0</td>\n",
       "      <td>0.0</td>\n",
       "      <td>0.0</td>\n",
       "      <td>0.0</td>\n",
       "      <td>0.0</td>\n",
       "      <td>0.0</td>\n",
       "      <td>0.0</td>\n",
       "      <td>0.0</td>\n",
       "      <td>0.0</td>\n",
       "      <td>0</td>\n",
       "      <td>0.0</td>\n",
       "      <td>0.0</td>\n",
       "      <td>0.0</td>\n",
       "      <td>0.0</td>\n",
       "      <td>0.0</td>\n",
       "      <td>0.0</td>\n",
       "      <td>0.0</td>\n",
       "      <td>0.0</td>\n",
       "      <td>1</td>\n",
       "      <td>5</td>\n",
       "      <td>37.0</td>\n",
       "      <td>30.9</td>\n",
       "      <td>79.0</td>\n",
       "      <td>4.6</td>\n",
       "      <td>300.0</td>\n",
       "      <td>10.0</td>\n",
       "      <td>30.03</td>\n",
       "      <td>Mostly Cloudy</td>\n",
       "      <td>33.1</td>\n",
       "      <td>27.0</td>\n",
       "      <td>78.0</td>\n",
       "      <td>8.1</td>\n",
       "      <td>350.0</td>\n",
       "      <td>10.0</td>\n",
       "      <td>30.34</td>\n",
       "      <td>Light Rain</td>\n",
       "      <td>2015</td>\n",
       "      <td>1</td>\n",
       "      <td>1</td>\n",
       "      <td>1</td>\n",
       "      <td>3</td>\n",
       "      <td>1</td>\n",
       "      <td>1</td>\n",
       "      <td>1</td>\n",
       "      <td>2015-01-19 09:00:00</td>\n",
       "      <td>2015-01-01 05:02:00</td>\n",
       "      <td>0</td>\n",
       "      <td>0</td>\n",
       "      <td>0</td>\n",
       "      <td>0</td>\n",
       "      <td>0</td>\n",
       "      <td>0</td>\n",
       "      <td>0</td>\n",
       "      <td>0</td>\n",
       "      <td>0</td>\n",
       "      <td>0</td>\n",
       "      <td>0</td>\n",
       "      <td>0</td>\n",
       "      <td>0</td>\n",
       "    </tr>\n",
       "    <tr>\n",
       "      <th>2</th>\n",
       "      <td>2015</td>\n",
       "      <td>1</td>\n",
       "      <td>1</td>\n",
       "      <td>1</td>\n",
       "      <td>4</td>\n",
       "      <td>DL</td>\n",
       "      <td>DEN</td>\n",
       "      <td>Denver, CO</td>\n",
       "      <td>CO</td>\n",
       "      <td>82</td>\n",
       "      <td>ATL</td>\n",
       "      <td>Atlanta, GA</td>\n",
       "      <td>GA</td>\n",
       "      <td>34</td>\n",
       "      <td>30</td>\n",
       "      <td>0001-0559</td>\n",
       "      <td>523</td>\n",
       "      <td>0001-0559</td>\n",
       "      <td>0.0</td>\n",
       "      <td>0.0</td>\n",
       "      <td>1199.0</td>\n",
       "      <td>5</td>\n",
       "      <td>0</td>\n",
       "      <td>17</td>\n",
       "      <td>-1.0</td>\n",
       "      <td>48.0</td>\n",
       "      <td>-5.0</td>\n",
       "      <td>52.0</td>\n",
       "      <td>17.0</td>\n",
       "      <td>7.0</td>\n",
       "      <td>0.0</td>\n",
       "      <td>0.0</td>\n",
       "      <td>21</td>\n",
       "      <td>-1.0</td>\n",
       "      <td>48.0</td>\n",
       "      <td>-7.0</td>\n",
       "      <td>52.0</td>\n",
       "      <td>15.0</td>\n",
       "      <td>7.0</td>\n",
       "      <td>0.0</td>\n",
       "      <td>0.0</td>\n",
       "      <td>21</td>\n",
       "      <td>-1.0</td>\n",
       "      <td>48.0</td>\n",
       "      <td>-7.0</td>\n",
       "      <td>52.0</td>\n",
       "      <td>15.0</td>\n",
       "      <td>7.0</td>\n",
       "      <td>0.0</td>\n",
       "      <td>0.0</td>\n",
       "      <td>0</td>\n",
       "      <td>5</td>\n",
       "      <td>7.0</td>\n",
       "      <td>-8.0</td>\n",
       "      <td>51.0</td>\n",
       "      <td>15.0</td>\n",
       "      <td>170.0</td>\n",
       "      <td>10.0</td>\n",
       "      <td>30.22</td>\n",
       "      <td>Clear</td>\n",
       "      <td>33.1</td>\n",
       "      <td>26.1</td>\n",
       "      <td>75.0</td>\n",
       "      <td>3.5</td>\n",
       "      <td>310.0</td>\n",
       "      <td>10.0</td>\n",
       "      <td>30.32</td>\n",
       "      <td>Partly Cloudy</td>\n",
       "      <td>2015</td>\n",
       "      <td>1</td>\n",
       "      <td>1</td>\n",
       "      <td>1</td>\n",
       "      <td>3</td>\n",
       "      <td>0</td>\n",
       "      <td>0</td>\n",
       "      <td>0</td>\n",
       "      <td>2015-01-07 09:00:00</td>\n",
       "      <td>2015-01-01 05:23:00</td>\n",
       "      <td>0</td>\n",
       "      <td>0</td>\n",
       "      <td>0</td>\n",
       "      <td>0</td>\n",
       "      <td>0</td>\n",
       "      <td>0</td>\n",
       "      <td>0</td>\n",
       "      <td>0</td>\n",
       "      <td>0</td>\n",
       "      <td>0</td>\n",
       "      <td>0</td>\n",
       "      <td>0</td>\n",
       "      <td>0</td>\n",
       "    </tr>\n",
       "    <tr>\n",
       "      <th>3</th>\n",
       "      <td>2015</td>\n",
       "      <td>1</td>\n",
       "      <td>1</td>\n",
       "      <td>1</td>\n",
       "      <td>4</td>\n",
       "      <td>NK</td>\n",
       "      <td>LAS</td>\n",
       "      <td>Las Vegas, NV</td>\n",
       "      <td>NV</td>\n",
       "      <td>85</td>\n",
       "      <td>MSP</td>\n",
       "      <td>Minneapolis, MN</td>\n",
       "      <td>MN</td>\n",
       "      <td>63</td>\n",
       "      <td>25</td>\n",
       "      <td>0001-0559</td>\n",
       "      <td>526</td>\n",
       "      <td>0001-0559</td>\n",
       "      <td>0.0</td>\n",
       "      <td>0.0</td>\n",
       "      <td>1299.0</td>\n",
       "      <td>6</td>\n",
       "      <td>0</td>\n",
       "      <td>0</td>\n",
       "      <td>0.0</td>\n",
       "      <td>0.0</td>\n",
       "      <td>0.0</td>\n",
       "      <td>0.0</td>\n",
       "      <td>0.0</td>\n",
       "      <td>0.0</td>\n",
       "      <td>0.0</td>\n",
       "      <td>0.0</td>\n",
       "      <td>0</td>\n",
       "      <td>0.0</td>\n",
       "      <td>0.0</td>\n",
       "      <td>0.0</td>\n",
       "      <td>0.0</td>\n",
       "      <td>0.0</td>\n",
       "      <td>0.0</td>\n",
       "      <td>0.0</td>\n",
       "      <td>0.0</td>\n",
       "      <td>0</td>\n",
       "      <td>0.0</td>\n",
       "      <td>0.0</td>\n",
       "      <td>0.0</td>\n",
       "      <td>0.0</td>\n",
       "      <td>0.0</td>\n",
       "      <td>0.0</td>\n",
       "      <td>0.0</td>\n",
       "      <td>0.0</td>\n",
       "      <td>0</td>\n",
       "      <td>5</td>\n",
       "      <td>34.0</td>\n",
       "      <td>17.1</td>\n",
       "      <td>50.0</td>\n",
       "      <td>9.2</td>\n",
       "      <td>190.0</td>\n",
       "      <td>10.0</td>\n",
       "      <td>29.99</td>\n",
       "      <td>Mostly Cloudy</td>\n",
       "      <td>16.0</td>\n",
       "      <td>10.0</td>\n",
       "      <td>77.0</td>\n",
       "      <td>8.1</td>\n",
       "      <td>240.0</td>\n",
       "      <td>10.0</td>\n",
       "      <td>29.90</td>\n",
       "      <td>Overcast</td>\n",
       "      <td>2015</td>\n",
       "      <td>1</td>\n",
       "      <td>1</td>\n",
       "      <td>1</td>\n",
       "      <td>3</td>\n",
       "      <td>1</td>\n",
       "      <td>1</td>\n",
       "      <td>1</td>\n",
       "      <td>2015-01-02 09:00:00</td>\n",
       "      <td>2015-01-01 05:26:00</td>\n",
       "      <td>0</td>\n",
       "      <td>0</td>\n",
       "      <td>0</td>\n",
       "      <td>0</td>\n",
       "      <td>0</td>\n",
       "      <td>0</td>\n",
       "      <td>0</td>\n",
       "      <td>0</td>\n",
       "      <td>0</td>\n",
       "      <td>0</td>\n",
       "      <td>0</td>\n",
       "      <td>0</td>\n",
       "      <td>0</td>\n",
       "    </tr>\n",
       "    <tr>\n",
       "      <th>4</th>\n",
       "      <td>2015</td>\n",
       "      <td>1</td>\n",
       "      <td>1</td>\n",
       "      <td>1</td>\n",
       "      <td>4</td>\n",
       "      <td>NK</td>\n",
       "      <td>LAS</td>\n",
       "      <td>Las Vegas, NV</td>\n",
       "      <td>NV</td>\n",
       "      <td>85</td>\n",
       "      <td>DFW</td>\n",
       "      <td>Dallas/Fort Worth, TX</td>\n",
       "      <td>TX</td>\n",
       "      <td>74</td>\n",
       "      <td>103</td>\n",
       "      <td>0001-0559</td>\n",
       "      <td>530</td>\n",
       "      <td>0001-0559</td>\n",
       "      <td>0.0</td>\n",
       "      <td>0.0</td>\n",
       "      <td>1055.0</td>\n",
       "      <td>5</td>\n",
       "      <td>0</td>\n",
       "      <td>0</td>\n",
       "      <td>0.0</td>\n",
       "      <td>0.0</td>\n",
       "      <td>0.0</td>\n",
       "      <td>0.0</td>\n",
       "      <td>0.0</td>\n",
       "      <td>0.0</td>\n",
       "      <td>0.0</td>\n",
       "      <td>0.0</td>\n",
       "      <td>0</td>\n",
       "      <td>0.0</td>\n",
       "      <td>0.0</td>\n",
       "      <td>0.0</td>\n",
       "      <td>0.0</td>\n",
       "      <td>0.0</td>\n",
       "      <td>0.0</td>\n",
       "      <td>0.0</td>\n",
       "      <td>0.0</td>\n",
       "      <td>0</td>\n",
       "      <td>0.0</td>\n",
       "      <td>0.0</td>\n",
       "      <td>0.0</td>\n",
       "      <td>0.0</td>\n",
       "      <td>0.0</td>\n",
       "      <td>0.0</td>\n",
       "      <td>0.0</td>\n",
       "      <td>0.0</td>\n",
       "      <td>1</td>\n",
       "      <td>5</td>\n",
       "      <td>32.0</td>\n",
       "      <td>17.1</td>\n",
       "      <td>54.0</td>\n",
       "      <td>10.4</td>\n",
       "      <td>190.0</td>\n",
       "      <td>10.0</td>\n",
       "      <td>30.00</td>\n",
       "      <td>Mostly Cloudy</td>\n",
       "      <td>33.1</td>\n",
       "      <td>27.0</td>\n",
       "      <td>78.0</td>\n",
       "      <td>8.1</td>\n",
       "      <td>350.0</td>\n",
       "      <td>10.0</td>\n",
       "      <td>30.34</td>\n",
       "      <td>Light Rain</td>\n",
       "      <td>2015</td>\n",
       "      <td>1</td>\n",
       "      <td>1</td>\n",
       "      <td>1</td>\n",
       "      <td>3</td>\n",
       "      <td>1</td>\n",
       "      <td>1</td>\n",
       "      <td>1</td>\n",
       "      <td>2015-01-12 09:00:00</td>\n",
       "      <td>2015-01-01 05:30:00</td>\n",
       "      <td>0</td>\n",
       "      <td>0</td>\n",
       "      <td>0</td>\n",
       "      <td>0</td>\n",
       "      <td>0</td>\n",
       "      <td>0</td>\n",
       "      <td>0</td>\n",
       "      <td>0</td>\n",
       "      <td>0</td>\n",
       "      <td>0</td>\n",
       "      <td>0</td>\n",
       "      <td>0</td>\n",
       "      <td>0</td>\n",
       "    </tr>\n",
       "  </tbody>\n",
       "</table>\n",
       "</div>"
      ],
      "text/plain": [
       "   Year  Quarter  Month  DayofMonth  DayOfWeek Carrier Origin OriginCityName  \\\n",
       "0  2015        1      1           1          4      AA    PHX    Phoenix, AZ   \n",
       "1  2015        1      1           1          4      NK    PHX    Phoenix, AZ   \n",
       "2  2015        1      1           1          4      DL    DEN     Denver, CO   \n",
       "3  2015        1      1           1          4      NK    LAS  Las Vegas, NV   \n",
       "4  2015        1      1           1          4      NK    LAS  Las Vegas, NV   \n",
       "\n",
       "  OriginState  OriginWac Dest           DestCityName DestState  DestWac  \\\n",
       "0          AZ         81  DFW  Dallas/Fort Worth, TX        TX       74   \n",
       "1          AZ         81  DFW  Dallas/Fort Worth, TX        TX       74   \n",
       "2          CO         82  ATL            Atlanta, GA        GA       34   \n",
       "3          NV         85  MSP        Minneapolis, MN        MN       63   \n",
       "4          NV         85  DFW  Dallas/Fort Worth, TX        TX       74   \n",
       "\n",
       "   CRSDepTime DepTimeBlk  CRSArrTime ArrTimeBlk  Cancelled  Diverted  \\\n",
       "0         200  0001-0559         500  0001-0559        1.0       0.0   \n",
       "1         159  0001-0559         502  0001-0559        0.0       0.0   \n",
       "2          30  0001-0559         523  0001-0559        0.0       0.0   \n",
       "3          25  0001-0559         526  0001-0559        0.0       0.0   \n",
       "4         103  0001-0559         530  0001-0559        0.0       0.0   \n",
       "\n",
       "   Distance  DistanceGroup  DivAirportLandings  Nflights_10  \\\n",
       "0     868.0              4                   0           10   \n",
       "1     868.0              4                   0            0   \n",
       "2    1199.0              5                   0           17   \n",
       "3    1299.0              6                   0            0   \n",
       "4    1055.0              5                   0            0   \n",
       "\n",
       "   DepDelayMedian_10  DepDelayMax_10  ArrDelayMedian_10  ArrDelayMax_10  \\\n",
       "0               -2.0             0.0               -2.5            17.0   \n",
       "1                0.0             0.0                0.0             0.0   \n",
       "2               -1.0            48.0               -5.0            52.0   \n",
       "3                0.0             0.0                0.0             0.0   \n",
       "4                0.0             0.0                0.0             0.0   \n",
       "\n",
       "   TaxiOutMedian_10  TaxiInMedian_10  Ncan_10  Ndiv_10  Nflights_20  \\\n",
       "0              13.0              4.0      0.0      0.0           14   \n",
       "1               0.0              0.0      0.0      0.0            0   \n",
       "2              17.0              7.0      0.0      0.0           21   \n",
       "3               0.0              0.0      0.0      0.0            0   \n",
       "4               0.0              0.0      0.0      0.0            0   \n",
       "\n",
       "   DepDelayMedian_20  DepDelayMax_20  ArrDelayMedian_20  ArrDelayMax_20  \\\n",
       "0               -2.0             0.0               -0.5            17.0   \n",
       "1                0.0             0.0                0.0             0.0   \n",
       "2               -1.0            48.0               -7.0            52.0   \n",
       "3                0.0             0.0                0.0             0.0   \n",
       "4                0.0             0.0                0.0             0.0   \n",
       "\n",
       "   TaxiOutMedian_20  TaxiInMedian_20  Ncan_20  Ndiv_20  Nflights_30  \\\n",
       "0              13.0              5.0      0.0      0.0           14   \n",
       "1               0.0              0.0      0.0      0.0            0   \n",
       "2              15.0              7.0      0.0      0.0           21   \n",
       "3               0.0              0.0      0.0      0.0            0   \n",
       "4               0.0              0.0      0.0      0.0            0   \n",
       "\n",
       "   DepDelayMedian_30  DepDelayMax_30  ArrDelayMedian_30  ArrDelayMax_30  \\\n",
       "0               -2.0             0.0               -0.5            17.0   \n",
       "1                0.0             0.0                0.0             0.0   \n",
       "2               -1.0            48.0               -7.0            52.0   \n",
       "3                0.0             0.0                0.0             0.0   \n",
       "4                0.0             0.0                0.0             0.0   \n",
       "\n",
       "   TaxiOutMedian_30  TaxiInMedian_30  Ncan_30  Ndiv_30  CRSDepHr  CRSArrHr  \\\n",
       "0              13.0              5.0      0.0      0.0         2         5   \n",
       "1               0.0              0.0      0.0      0.0         1         5   \n",
       "2              15.0              7.0      0.0      0.0         0         5   \n",
       "3               0.0              0.0      0.0      0.0         0         5   \n",
       "4               0.0              0.0      0.0      0.0         1         5   \n",
       "\n",
       "   Temperature_Origin  DewPoint_Origin  Humidity_Origin  WindSpeed_Origin  \\\n",
       "0                37.0             30.0             76.0               3.5   \n",
       "1                37.0             30.9             79.0               4.6   \n",
       "2                 7.0             -8.0             51.0              15.0   \n",
       "3                34.0             17.1             50.0               9.2   \n",
       "4                32.0             17.1             54.0              10.4   \n",
       "\n",
       "   WindDirection_Origin  Visibility_Origin  Pressure_Origin  Condition_Origin  \\\n",
       "0                 320.0               10.0            30.04  Scattered Clouds   \n",
       "1                 300.0               10.0            30.03     Mostly Cloudy   \n",
       "2                 170.0               10.0            30.22             Clear   \n",
       "3                 190.0               10.0            29.99     Mostly Cloudy   \n",
       "4                 190.0               10.0            30.00     Mostly Cloudy   \n",
       "\n",
       "   Temperature_Dest  DewPoint_Dest  Humidity_Dest  WindSpeed_Dest  \\\n",
       "0              33.1           27.0           78.0             8.1   \n",
       "1              33.1           27.0           78.0             8.1   \n",
       "2              33.1           26.1           75.0             3.5   \n",
       "3              16.0           10.0           77.0             8.1   \n",
       "4              33.1           27.0           78.0             8.1   \n",
       "\n",
       "   WindDirection_Dest  Visibility_Dest  Pressure_Dest Condition_Dest  \\\n",
       "0               350.0             10.0          30.34     Light Rain   \n",
       "1               350.0             10.0          30.34     Light Rain   \n",
       "2               310.0             10.0          30.32  Partly Cloudy   \n",
       "3               240.0             10.0          29.90       Overcast   \n",
       "4               350.0             10.0          30.34     Light Rain   \n",
       "\n",
       "   Year_Dest  Quarter_Dest  Month_Dest  DayOfMonth_Dest  DayOfWeek_Dest  \\\n",
       "0       2015             1           1                1               3   \n",
       "1       2015             1           1                1               3   \n",
       "2       2015             1           1                1               3   \n",
       "3       2015             1           1                1               3   \n",
       "4       2015             1           1                1               3   \n",
       "\n",
       "   TempFlight_30  TempFlight_20  TempFlight_10      FlightDateTime  \\\n",
       "0              0              0              0 2015-01-20 09:00:00   \n",
       "1              1              1              1 2015-01-19 09:00:00   \n",
       "2              0              0              0 2015-01-07 09:00:00   \n",
       "3              1              1              1 2015-01-02 09:00:00   \n",
       "4              1              1              1 2015-01-12 09:00:00   \n",
       "\n",
       "  FlightDateTimeAtDest  AllCanceled_30  AllDiverted_30  AllCanceled_20  \\\n",
       "0  2015-01-01 05:00:00               0               0               0   \n",
       "1  2015-01-01 05:02:00               0               0               0   \n",
       "2  2015-01-01 05:23:00               0               0               0   \n",
       "3  2015-01-01 05:26:00               0               0               0   \n",
       "4  2015-01-01 05:30:00               0               0               0   \n",
       "\n",
       "   AllDiverted_20  AllCanDiv_20  AllCanceled_10  AllDiverted_10  AllCanDiv_30  \\\n",
       "0               0             0               0               0             0   \n",
       "1               0             0               0               0             0   \n",
       "2               0             0               0               0             0   \n",
       "3               0             0               0               0             0   \n",
       "4               0             0               0               0             0   \n",
       "\n",
       "   AllCanDiv_10  Canceled_A  Canceled_B  Canceled_C  Canceled_D  \n",
       "0             0           0           1           0           0  \n",
       "1             0           0           0           0           0  \n",
       "2             0           0           0           0           0  \n",
       "3             0           0           0           0           0  \n",
       "4             0           0           0           0           0  "
      ]
     },
     "execution_count": 193,
     "metadata": {},
     "output_type": "execute_result"
    }
   ],
   "source": [
    "df.head()"
   ]
  },
  {
   "cell_type": "code",
   "execution_count": 194,
   "metadata": {
    "collapsed": false
   },
   "outputs": [
    {
     "data": {
      "text/plain": [
       "(2857139, 91)"
      ]
     },
     "execution_count": 194,
     "metadata": {},
     "output_type": "execute_result"
    }
   ],
   "source": [
    "df.shape"
   ]
  },
  {
   "cell_type": "markdown",
   "metadata": {},
   "source": [
    "Finally, we save the data frame into a csv file which can later be used for data exploration analysis and machine learning modeling."
   ]
  },
  {
   "cell_type": "code",
   "execution_count": 195,
   "metadata": {
    "collapsed": true
   },
   "outputs": [],
   "source": [
    "df.to_csv(\"../Data/CleanedData/FlightHistory_Weather_Jan2015-Dec2016_Top20Airports_Cleaned.csv\")"
   ]
  },
  {
   "cell_type": "code",
   "execution_count": null,
   "metadata": {
    "collapsed": true
   },
   "outputs": [],
   "source": []
  }
 ],
 "metadata": {
  "kernelspec": {
   "display_name": "Python 3",
   "language": "python",
   "name": "python3"
  },
  "language_info": {
   "codemirror_mode": {
    "name": "ipython",
    "version": 3
   },
   "file_extension": ".py",
   "mimetype": "text/x-python",
   "name": "python",
   "nbconvert_exporter": "python",
   "pygments_lexer": "ipython3",
   "version": "3.6.0"
  }
 },
 "nbformat": 4,
 "nbformat_minor": 2
}
