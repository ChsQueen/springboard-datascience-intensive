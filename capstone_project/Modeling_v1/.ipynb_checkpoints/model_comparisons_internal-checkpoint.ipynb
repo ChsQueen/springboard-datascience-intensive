{
 "cells": [
  {
   "cell_type": "markdown",
   "metadata": {},
   "source": [
    "# Comparison of Different Classification Algorithms"
   ]
  },
  {
   "cell_type": "markdown",
   "metadata": {},
   "source": [
    "## Loading modules"
   ]
  },
  {
   "cell_type": "code",
   "execution_count": 1,
   "metadata": {},
   "outputs": [
    {
     "name": "stdout",
     "output_type": "stream",
     "text": [
      "Populating the interactive namespace from numpy and matplotlib\n"
     ]
    }
   ],
   "source": [
    "import pandas as pd\n",
    "import numpy as np\n",
    "% pylab inline\n",
    "import operator\n",
    "import re\n",
    "from collections import OrderedDict\n",
    "import seaborn as sns\n",
    "import pickle\n",
    "import os.path\n",
    "from matplotlib.colors import ListedColormap\n",
    "import matplotlib.colors as colors\n",
    "import matplotlib.cm as cmx\n",
    "import matplotlib.pyplot as plt\n",
    "from pylab import rcParams\n",
    "from mpl_toolkits.basemap import Basemap\n",
    "from geopy.geocoders import Nominatim\n",
    "import math\n",
    "import warnings\n",
    "from scipy import stats\n",
    "warnings.filterwarnings('ignore')"
   ]
  },
  {
   "cell_type": "markdown",
   "metadata": {},
   "source": [
    "## Setting some plot colors and parameters"
   ]
  },
  {
   "cell_type": "code",
   "execution_count": 2,
   "metadata": {
    "collapsed": true
   },
   "outputs": [],
   "source": [
    "tableau20 = [(31, 119, 180), (174, 199, 232), (255, 127, 14), (255, 187, 120),\n",
    "             (44, 160, 44), (152, 223, 138), (214, 39, 40), (255, 152, 150),\n",
    "             (148, 103, 189), (197, 176, 213), (140, 86, 75), (196, 156, 148),\n",
    "             (227, 119, 194), (247, 182, 210), (127, 127, 127), (199, 199, 199),\n",
    "             (188, 189, 34), (219, 219, 141), (23, 190, 207), (158, 218, 229)]\n",
    " \n",
    "# Scale the RGB values to the [0, 1] range, which is the format matplotlib accepts.\n",
    "for i in range(len(tableau20)):\n",
    "    r, g, b = tableau20[i]\n",
    "    tableau20[i] = (r / 255., g / 255., b / 255.)\n",
    "# Adapted from http://spartanideas.msu.edu/2014/06/28/how-to-make-beautiful-data-visualizations-in-python-with-matplotlib/\n",
    "cmap_set1 = ListedColormap(['#4daf4a', '#377eb8', '#e41a1c' ])\n",
    "\n",
    "params = {'legend.fontsize': 'x-large',\n",
    "          'figure.figsize': (15, 5),\n",
    "         'axes.labelsize': 'x-large',\n",
    "         'axes.titlesize':'x-large',\n",
    "         'xtick.labelsize':'x-large',\n",
    "         'ytick.labelsize':'x-large'}\n",
    "pylab.rcParams.update(params)\n",
    "sns.set_style('ticks')"
   ]
  },
  {
   "cell_type": "markdown",
   "metadata": {},
   "source": [
    "## Setting data frame display"
   ]
  },
  {
   "cell_type": "code",
   "execution_count": 3,
   "metadata": {
    "collapsed": true
   },
   "outputs": [],
   "source": [
    "pd.set_option('display.max_columns', None)"
   ]
  },
  {
   "cell_type": "markdown",
   "metadata": {},
   "source": [
    "## Loading the data\n",
    "\n",
    "We have acquired and merged the data in [this notebook](https://github.com/aajains/springboard-datascience-intensive/blob/master/capstone_project/DataAcquisitionMerging/data_acquisition_merging.ipynb). The merged data was also cleaned by fixing the missing values in [this notebook](https://github.com/aajains/springboard-datascience-intensive/blob/master/capstone_project/DataCleaning/data_cleaning.ipynb). A lot of features from the cleaned data was removed (or some features were selected) in [this notebook](https://github.com/aajains/springboard-datascience-intensive/blob/master/capstone_project/EDA/ExploratoryDataAnalysis_v1.ipynb). The resultant csv file is loaded below:"
   ]
  },
  {
   "cell_type": "code",
   "execution_count": 4,
   "metadata": {
    "collapsed": true
   },
   "outputs": [],
   "source": [
    "df = pd.read_csv(\"../Data/ExploredDataCleaned/FlightHistory_Weather_Jan2015-Dec2016_Top20Airports_Window60mins_ExploredCleaned.csv\")"
   ]
  },
  {
   "cell_type": "code",
   "execution_count": 5,
   "metadata": {},
   "outputs": [
    {
     "data": {
      "text/plain": [
       "(2857139, 69)"
      ]
     },
     "execution_count": 5,
     "metadata": {},
     "output_type": "execute_result"
    }
   ],
   "source": [
    "df.shape"
   ]
  },
  {
   "cell_type": "code",
   "execution_count": 6,
   "metadata": {},
   "outputs": [
    {
     "data": {
      "text/html": [
       "<div>\n",
       "<style>\n",
       "    .dataframe thead tr:only-child th {\n",
       "        text-align: right;\n",
       "    }\n",
       "\n",
       "    .dataframe thead th {\n",
       "        text-align: left;\n",
       "    }\n",
       "\n",
       "    .dataframe tbody tr th {\n",
       "        vertical-align: top;\n",
       "    }\n",
       "</style>\n",
       "<table border=\"1\" class=\"dataframe\">\n",
       "  <thead>\n",
       "    <tr style=\"text-align: right;\">\n",
       "      <th></th>\n",
       "      <th>Unnamed: 0</th>\n",
       "      <th>Month</th>\n",
       "      <th>DayofMonth</th>\n",
       "      <th>DayOfWeek</th>\n",
       "      <th>Carrier</th>\n",
       "      <th>Origin</th>\n",
       "      <th>Dest</th>\n",
       "      <th>Cancelled</th>\n",
       "      <th>Distance</th>\n",
       "      <th>Nflights_10</th>\n",
       "      <th>DepDelayMedian_10</th>\n",
       "      <th>DepDelayMax_10</th>\n",
       "      <th>ArrDelayMedian_10</th>\n",
       "      <th>ArrDelayMax_10</th>\n",
       "      <th>TaxiOutMedian_10</th>\n",
       "      <th>TaxiInMedian_10</th>\n",
       "      <th>Ncan_10</th>\n",
       "      <th>Ndiv_10</th>\n",
       "      <th>Nflights_20</th>\n",
       "      <th>DepDelayMedian_20</th>\n",
       "      <th>DepDelayMax_20</th>\n",
       "      <th>ArrDelayMedian_20</th>\n",
       "      <th>ArrDelayMax_20</th>\n",
       "      <th>TaxiOutMedian_20</th>\n",
       "      <th>TaxiInMedian_20</th>\n",
       "      <th>Ncan_20</th>\n",
       "      <th>Ndiv_20</th>\n",
       "      <th>Nflights_30</th>\n",
       "      <th>DepDelayMedian_30</th>\n",
       "      <th>DepDelayMax_30</th>\n",
       "      <th>ArrDelayMedian_30</th>\n",
       "      <th>ArrDelayMax_30</th>\n",
       "      <th>TaxiOutMedian_30</th>\n",
       "      <th>TaxiInMedian_30</th>\n",
       "      <th>Ncan_30</th>\n",
       "      <th>Ndiv_30</th>\n",
       "      <th>CRSDepHr</th>\n",
       "      <th>CRSArrHr</th>\n",
       "      <th>Temperature_Origin</th>\n",
       "      <th>DewPoint_Origin</th>\n",
       "      <th>Humidity_Origin</th>\n",
       "      <th>WindSpeed_Origin</th>\n",
       "      <th>WindDirection_Origin</th>\n",
       "      <th>Visibility_Origin</th>\n",
       "      <th>Pressure_Origin</th>\n",
       "      <th>Condition_Origin</th>\n",
       "      <th>Temperature_Dest</th>\n",
       "      <th>DewPoint_Dest</th>\n",
       "      <th>Humidity_Dest</th>\n",
       "      <th>WindSpeed_Dest</th>\n",
       "      <th>WindDirection_Dest</th>\n",
       "      <th>Visibility_Dest</th>\n",
       "      <th>Pressure_Dest</th>\n",
       "      <th>Condition_Dest</th>\n",
       "      <th>Month_Dest</th>\n",
       "      <th>DayOfMonth_Dest</th>\n",
       "      <th>DayOfWeek_Dest</th>\n",
       "      <th>TempFlight_30</th>\n",
       "      <th>TempFlight_20</th>\n",
       "      <th>TempFlight_10</th>\n",
       "      <th>AllCanceled_30</th>\n",
       "      <th>AllDiverted_30</th>\n",
       "      <th>AllCanceled_20</th>\n",
       "      <th>AllDiverted_20</th>\n",
       "      <th>AllCanDiv_20</th>\n",
       "      <th>AllCanDiv_30</th>\n",
       "      <th>AllCanceled_10</th>\n",
       "      <th>AllDiverted_10</th>\n",
       "      <th>AllCanDiv_10</th>\n",
       "    </tr>\n",
       "  </thead>\n",
       "  <tbody>\n",
       "    <tr>\n",
       "      <th>0</th>\n",
       "      <td>0</td>\n",
       "      <td>1</td>\n",
       "      <td>1</td>\n",
       "      <td>4</td>\n",
       "      <td>AA</td>\n",
       "      <td>PHX</td>\n",
       "      <td>DFW</td>\n",
       "      <td>1.0</td>\n",
       "      <td>868.0</td>\n",
       "      <td>10</td>\n",
       "      <td>-2.0</td>\n",
       "      <td>0.0</td>\n",
       "      <td>-2.5</td>\n",
       "      <td>17.0</td>\n",
       "      <td>13.0</td>\n",
       "      <td>4.0</td>\n",
       "      <td>0.0</td>\n",
       "      <td>0.0</td>\n",
       "      <td>14</td>\n",
       "      <td>-2.0</td>\n",
       "      <td>0.0</td>\n",
       "      <td>-0.5</td>\n",
       "      <td>17.0</td>\n",
       "      <td>13.0</td>\n",
       "      <td>5.0</td>\n",
       "      <td>0.0</td>\n",
       "      <td>0.0</td>\n",
       "      <td>14</td>\n",
       "      <td>-2.0</td>\n",
       "      <td>0.0</td>\n",
       "      <td>-0.5</td>\n",
       "      <td>17.0</td>\n",
       "      <td>13.0</td>\n",
       "      <td>5.0</td>\n",
       "      <td>0.0</td>\n",
       "      <td>0.0</td>\n",
       "      <td>2</td>\n",
       "      <td>5</td>\n",
       "      <td>37.0</td>\n",
       "      <td>30.0</td>\n",
       "      <td>76.0</td>\n",
       "      <td>3.5</td>\n",
       "      <td>320.0</td>\n",
       "      <td>10.0</td>\n",
       "      <td>30.04</td>\n",
       "      <td>Scattered Clouds</td>\n",
       "      <td>33.1</td>\n",
       "      <td>27.0</td>\n",
       "      <td>78.0</td>\n",
       "      <td>8.1</td>\n",
       "      <td>350.0</td>\n",
       "      <td>10.0</td>\n",
       "      <td>30.34</td>\n",
       "      <td>Light Rain</td>\n",
       "      <td>1</td>\n",
       "      <td>1</td>\n",
       "      <td>4</td>\n",
       "      <td>0</td>\n",
       "      <td>0</td>\n",
       "      <td>0</td>\n",
       "      <td>0</td>\n",
       "      <td>0</td>\n",
       "      <td>0</td>\n",
       "      <td>0</td>\n",
       "      <td>0</td>\n",
       "      <td>0</td>\n",
       "      <td>0</td>\n",
       "      <td>0</td>\n",
       "      <td>0</td>\n",
       "    </tr>\n",
       "    <tr>\n",
       "      <th>1</th>\n",
       "      <td>1</td>\n",
       "      <td>1</td>\n",
       "      <td>1</td>\n",
       "      <td>4</td>\n",
       "      <td>NK</td>\n",
       "      <td>PHX</td>\n",
       "      <td>DFW</td>\n",
       "      <td>0.0</td>\n",
       "      <td>868.0</td>\n",
       "      <td>0</td>\n",
       "      <td>0.0</td>\n",
       "      <td>0.0</td>\n",
       "      <td>0.0</td>\n",
       "      <td>0.0</td>\n",
       "      <td>0.0</td>\n",
       "      <td>0.0</td>\n",
       "      <td>0.0</td>\n",
       "      <td>0.0</td>\n",
       "      <td>0</td>\n",
       "      <td>0.0</td>\n",
       "      <td>0.0</td>\n",
       "      <td>0.0</td>\n",
       "      <td>0.0</td>\n",
       "      <td>0.0</td>\n",
       "      <td>0.0</td>\n",
       "      <td>0.0</td>\n",
       "      <td>0.0</td>\n",
       "      <td>0</td>\n",
       "      <td>0.0</td>\n",
       "      <td>0.0</td>\n",
       "      <td>0.0</td>\n",
       "      <td>0.0</td>\n",
       "      <td>0.0</td>\n",
       "      <td>0.0</td>\n",
       "      <td>0.0</td>\n",
       "      <td>0.0</td>\n",
       "      <td>1</td>\n",
       "      <td>5</td>\n",
       "      <td>37.0</td>\n",
       "      <td>30.9</td>\n",
       "      <td>79.0</td>\n",
       "      <td>4.6</td>\n",
       "      <td>300.0</td>\n",
       "      <td>10.0</td>\n",
       "      <td>30.03</td>\n",
       "      <td>Mostly Cloudy</td>\n",
       "      <td>33.1</td>\n",
       "      <td>27.0</td>\n",
       "      <td>78.0</td>\n",
       "      <td>8.1</td>\n",
       "      <td>350.0</td>\n",
       "      <td>10.0</td>\n",
       "      <td>30.34</td>\n",
       "      <td>Light Rain</td>\n",
       "      <td>1</td>\n",
       "      <td>1</td>\n",
       "      <td>4</td>\n",
       "      <td>1</td>\n",
       "      <td>1</td>\n",
       "      <td>1</td>\n",
       "      <td>0</td>\n",
       "      <td>0</td>\n",
       "      <td>0</td>\n",
       "      <td>0</td>\n",
       "      <td>0</td>\n",
       "      <td>0</td>\n",
       "      <td>0</td>\n",
       "      <td>0</td>\n",
       "      <td>0</td>\n",
       "    </tr>\n",
       "    <tr>\n",
       "      <th>2</th>\n",
       "      <td>2</td>\n",
       "      <td>1</td>\n",
       "      <td>1</td>\n",
       "      <td>4</td>\n",
       "      <td>DL</td>\n",
       "      <td>DEN</td>\n",
       "      <td>ATL</td>\n",
       "      <td>0.0</td>\n",
       "      <td>1199.0</td>\n",
       "      <td>10</td>\n",
       "      <td>3.5</td>\n",
       "      <td>48.0</td>\n",
       "      <td>-7.5</td>\n",
       "      <td>52.0</td>\n",
       "      <td>15.0</td>\n",
       "      <td>6.5</td>\n",
       "      <td>0.0</td>\n",
       "      <td>0.0</td>\n",
       "      <td>12</td>\n",
       "      <td>3.5</td>\n",
       "      <td>48.0</td>\n",
       "      <td>-7.5</td>\n",
       "      <td>52.0</td>\n",
       "      <td>14.5</td>\n",
       "      <td>6.5</td>\n",
       "      <td>0.0</td>\n",
       "      <td>0.0</td>\n",
       "      <td>12</td>\n",
       "      <td>3.5</td>\n",
       "      <td>48.0</td>\n",
       "      <td>-7.5</td>\n",
       "      <td>52.0</td>\n",
       "      <td>14.5</td>\n",
       "      <td>6.5</td>\n",
       "      <td>0.0</td>\n",
       "      <td>0.0</td>\n",
       "      <td>0</td>\n",
       "      <td>5</td>\n",
       "      <td>7.0</td>\n",
       "      <td>-8.0</td>\n",
       "      <td>51.0</td>\n",
       "      <td>15.0</td>\n",
       "      <td>170.0</td>\n",
       "      <td>10.0</td>\n",
       "      <td>30.22</td>\n",
       "      <td>Clear</td>\n",
       "      <td>33.1</td>\n",
       "      <td>26.1</td>\n",
       "      <td>75.0</td>\n",
       "      <td>3.5</td>\n",
       "      <td>310.0</td>\n",
       "      <td>10.0</td>\n",
       "      <td>30.32</td>\n",
       "      <td>Partly Cloudy</td>\n",
       "      <td>1</td>\n",
       "      <td>1</td>\n",
       "      <td>4</td>\n",
       "      <td>0</td>\n",
       "      <td>0</td>\n",
       "      <td>0</td>\n",
       "      <td>0</td>\n",
       "      <td>0</td>\n",
       "      <td>0</td>\n",
       "      <td>0</td>\n",
       "      <td>0</td>\n",
       "      <td>0</td>\n",
       "      <td>0</td>\n",
       "      <td>0</td>\n",
       "      <td>0</td>\n",
       "    </tr>\n",
       "    <tr>\n",
       "      <th>3</th>\n",
       "      <td>3</td>\n",
       "      <td>1</td>\n",
       "      <td>1</td>\n",
       "      <td>4</td>\n",
       "      <td>NK</td>\n",
       "      <td>LAS</td>\n",
       "      <td>MSP</td>\n",
       "      <td>0.0</td>\n",
       "      <td>1299.0</td>\n",
       "      <td>0</td>\n",
       "      <td>0.0</td>\n",
       "      <td>0.0</td>\n",
       "      <td>0.0</td>\n",
       "      <td>0.0</td>\n",
       "      <td>0.0</td>\n",
       "      <td>0.0</td>\n",
       "      <td>0.0</td>\n",
       "      <td>0.0</td>\n",
       "      <td>0</td>\n",
       "      <td>0.0</td>\n",
       "      <td>0.0</td>\n",
       "      <td>0.0</td>\n",
       "      <td>0.0</td>\n",
       "      <td>0.0</td>\n",
       "      <td>0.0</td>\n",
       "      <td>0.0</td>\n",
       "      <td>0.0</td>\n",
       "      <td>0</td>\n",
       "      <td>0.0</td>\n",
       "      <td>0.0</td>\n",
       "      <td>0.0</td>\n",
       "      <td>0.0</td>\n",
       "      <td>0.0</td>\n",
       "      <td>0.0</td>\n",
       "      <td>0.0</td>\n",
       "      <td>0.0</td>\n",
       "      <td>0</td>\n",
       "      <td>5</td>\n",
       "      <td>34.0</td>\n",
       "      <td>17.1</td>\n",
       "      <td>50.0</td>\n",
       "      <td>9.2</td>\n",
       "      <td>190.0</td>\n",
       "      <td>10.0</td>\n",
       "      <td>29.99</td>\n",
       "      <td>Mostly Cloudy</td>\n",
       "      <td>16.0</td>\n",
       "      <td>10.0</td>\n",
       "      <td>77.0</td>\n",
       "      <td>8.1</td>\n",
       "      <td>240.0</td>\n",
       "      <td>10.0</td>\n",
       "      <td>29.90</td>\n",
       "      <td>Overcast</td>\n",
       "      <td>1</td>\n",
       "      <td>1</td>\n",
       "      <td>4</td>\n",
       "      <td>1</td>\n",
       "      <td>1</td>\n",
       "      <td>1</td>\n",
       "      <td>0</td>\n",
       "      <td>0</td>\n",
       "      <td>0</td>\n",
       "      <td>0</td>\n",
       "      <td>0</td>\n",
       "      <td>0</td>\n",
       "      <td>0</td>\n",
       "      <td>0</td>\n",
       "      <td>0</td>\n",
       "    </tr>\n",
       "    <tr>\n",
       "      <th>4</th>\n",
       "      <td>4</td>\n",
       "      <td>1</td>\n",
       "      <td>1</td>\n",
       "      <td>4</td>\n",
       "      <td>NK</td>\n",
       "      <td>LAS</td>\n",
       "      <td>DFW</td>\n",
       "      <td>0.0</td>\n",
       "      <td>1055.0</td>\n",
       "      <td>0</td>\n",
       "      <td>0.0</td>\n",
       "      <td>0.0</td>\n",
       "      <td>0.0</td>\n",
       "      <td>0.0</td>\n",
       "      <td>0.0</td>\n",
       "      <td>0.0</td>\n",
       "      <td>0.0</td>\n",
       "      <td>0.0</td>\n",
       "      <td>0</td>\n",
       "      <td>0.0</td>\n",
       "      <td>0.0</td>\n",
       "      <td>0.0</td>\n",
       "      <td>0.0</td>\n",
       "      <td>0.0</td>\n",
       "      <td>0.0</td>\n",
       "      <td>0.0</td>\n",
       "      <td>0.0</td>\n",
       "      <td>0</td>\n",
       "      <td>0.0</td>\n",
       "      <td>0.0</td>\n",
       "      <td>0.0</td>\n",
       "      <td>0.0</td>\n",
       "      <td>0.0</td>\n",
       "      <td>0.0</td>\n",
       "      <td>0.0</td>\n",
       "      <td>0.0</td>\n",
       "      <td>1</td>\n",
       "      <td>5</td>\n",
       "      <td>32.0</td>\n",
       "      <td>17.1</td>\n",
       "      <td>54.0</td>\n",
       "      <td>10.4</td>\n",
       "      <td>190.0</td>\n",
       "      <td>10.0</td>\n",
       "      <td>30.00</td>\n",
       "      <td>Mostly Cloudy</td>\n",
       "      <td>33.1</td>\n",
       "      <td>27.0</td>\n",
       "      <td>78.0</td>\n",
       "      <td>8.1</td>\n",
       "      <td>350.0</td>\n",
       "      <td>10.0</td>\n",
       "      <td>30.34</td>\n",
       "      <td>Light Rain</td>\n",
       "      <td>1</td>\n",
       "      <td>1</td>\n",
       "      <td>4</td>\n",
       "      <td>1</td>\n",
       "      <td>1</td>\n",
       "      <td>1</td>\n",
       "      <td>0</td>\n",
       "      <td>0</td>\n",
       "      <td>0</td>\n",
       "      <td>0</td>\n",
       "      <td>0</td>\n",
       "      <td>0</td>\n",
       "      <td>0</td>\n",
       "      <td>0</td>\n",
       "      <td>0</td>\n",
       "    </tr>\n",
       "  </tbody>\n",
       "</table>\n",
       "</div>"
      ],
      "text/plain": [
       "   Unnamed: 0  Month  DayofMonth  DayOfWeek Carrier Origin Dest  Cancelled  \\\n",
       "0           0      1           1          4      AA    PHX  DFW        1.0   \n",
       "1           1      1           1          4      NK    PHX  DFW        0.0   \n",
       "2           2      1           1          4      DL    DEN  ATL        0.0   \n",
       "3           3      1           1          4      NK    LAS  MSP        0.0   \n",
       "4           4      1           1          4      NK    LAS  DFW        0.0   \n",
       "\n",
       "   Distance  Nflights_10  DepDelayMedian_10  DepDelayMax_10  \\\n",
       "0     868.0           10               -2.0             0.0   \n",
       "1     868.0            0                0.0             0.0   \n",
       "2    1199.0           10                3.5            48.0   \n",
       "3    1299.0            0                0.0             0.0   \n",
       "4    1055.0            0                0.0             0.0   \n",
       "\n",
       "   ArrDelayMedian_10  ArrDelayMax_10  TaxiOutMedian_10  TaxiInMedian_10  \\\n",
       "0               -2.5            17.0              13.0              4.0   \n",
       "1                0.0             0.0               0.0              0.0   \n",
       "2               -7.5            52.0              15.0              6.5   \n",
       "3                0.0             0.0               0.0              0.0   \n",
       "4                0.0             0.0               0.0              0.0   \n",
       "\n",
       "   Ncan_10  Ndiv_10  Nflights_20  DepDelayMedian_20  DepDelayMax_20  \\\n",
       "0      0.0      0.0           14               -2.0             0.0   \n",
       "1      0.0      0.0            0                0.0             0.0   \n",
       "2      0.0      0.0           12                3.5            48.0   \n",
       "3      0.0      0.0            0                0.0             0.0   \n",
       "4      0.0      0.0            0                0.0             0.0   \n",
       "\n",
       "   ArrDelayMedian_20  ArrDelayMax_20  TaxiOutMedian_20  TaxiInMedian_20  \\\n",
       "0               -0.5            17.0              13.0              5.0   \n",
       "1                0.0             0.0               0.0              0.0   \n",
       "2               -7.5            52.0              14.5              6.5   \n",
       "3                0.0             0.0               0.0              0.0   \n",
       "4                0.0             0.0               0.0              0.0   \n",
       "\n",
       "   Ncan_20  Ndiv_20  Nflights_30  DepDelayMedian_30  DepDelayMax_30  \\\n",
       "0      0.0      0.0           14               -2.0             0.0   \n",
       "1      0.0      0.0            0                0.0             0.0   \n",
       "2      0.0      0.0           12                3.5            48.0   \n",
       "3      0.0      0.0            0                0.0             0.0   \n",
       "4      0.0      0.0            0                0.0             0.0   \n",
       "\n",
       "   ArrDelayMedian_30  ArrDelayMax_30  TaxiOutMedian_30  TaxiInMedian_30  \\\n",
       "0               -0.5            17.0              13.0              5.0   \n",
       "1                0.0             0.0               0.0              0.0   \n",
       "2               -7.5            52.0              14.5              6.5   \n",
       "3                0.0             0.0               0.0              0.0   \n",
       "4                0.0             0.0               0.0              0.0   \n",
       "\n",
       "   Ncan_30  Ndiv_30  CRSDepHr  CRSArrHr  Temperature_Origin  DewPoint_Origin  \\\n",
       "0      0.0      0.0         2         5                37.0             30.0   \n",
       "1      0.0      0.0         1         5                37.0             30.9   \n",
       "2      0.0      0.0         0         5                 7.0             -8.0   \n",
       "3      0.0      0.0         0         5                34.0             17.1   \n",
       "4      0.0      0.0         1         5                32.0             17.1   \n",
       "\n",
       "   Humidity_Origin  WindSpeed_Origin  WindDirection_Origin  Visibility_Origin  \\\n",
       "0             76.0               3.5                 320.0               10.0   \n",
       "1             79.0               4.6                 300.0               10.0   \n",
       "2             51.0              15.0                 170.0               10.0   \n",
       "3             50.0               9.2                 190.0               10.0   \n",
       "4             54.0              10.4                 190.0               10.0   \n",
       "\n",
       "   Pressure_Origin  Condition_Origin  Temperature_Dest  DewPoint_Dest  \\\n",
       "0            30.04  Scattered Clouds              33.1           27.0   \n",
       "1            30.03     Mostly Cloudy              33.1           27.0   \n",
       "2            30.22             Clear              33.1           26.1   \n",
       "3            29.99     Mostly Cloudy              16.0           10.0   \n",
       "4            30.00     Mostly Cloudy              33.1           27.0   \n",
       "\n",
       "   Humidity_Dest  WindSpeed_Dest  WindDirection_Dest  Visibility_Dest  \\\n",
       "0           78.0             8.1               350.0             10.0   \n",
       "1           78.0             8.1               350.0             10.0   \n",
       "2           75.0             3.5               310.0             10.0   \n",
       "3           77.0             8.1               240.0             10.0   \n",
       "4           78.0             8.1               350.0             10.0   \n",
       "\n",
       "   Pressure_Dest Condition_Dest  Month_Dest  DayOfMonth_Dest  DayOfWeek_Dest  \\\n",
       "0          30.34     Light Rain           1                1               4   \n",
       "1          30.34     Light Rain           1                1               4   \n",
       "2          30.32  Partly Cloudy           1                1               4   \n",
       "3          29.90       Overcast           1                1               4   \n",
       "4          30.34     Light Rain           1                1               4   \n",
       "\n",
       "   TempFlight_30  TempFlight_20  TempFlight_10  AllCanceled_30  \\\n",
       "0              0              0              0               0   \n",
       "1              1              1              1               0   \n",
       "2              0              0              0               0   \n",
       "3              1              1              1               0   \n",
       "4              1              1              1               0   \n",
       "\n",
       "   AllDiverted_30  AllCanceled_20  AllDiverted_20  AllCanDiv_20  AllCanDiv_30  \\\n",
       "0               0               0               0             0             0   \n",
       "1               0               0               0             0             0   \n",
       "2               0               0               0             0             0   \n",
       "3               0               0               0             0             0   \n",
       "4               0               0               0             0             0   \n",
       "\n",
       "   AllCanceled_10  AllDiverted_10  AllCanDiv_10  \n",
       "0               0               0             0  \n",
       "1               0               0             0  \n",
       "2               0               0             0  \n",
       "3               0               0             0  \n",
       "4               0               0             0  "
      ]
     },
     "execution_count": 6,
     "metadata": {},
     "output_type": "execute_result"
    }
   ],
   "source": [
    "df.head()"
   ]
  },
  {
   "cell_type": "code",
   "execution_count": 7,
   "metadata": {
    "collapsed": true
   },
   "outputs": [],
   "source": [
    "df.drop([\"Unnamed: 0\"], axis=1, inplace=True)"
   ]
  },
  {
   "cell_type": "code",
   "execution_count": 8,
   "metadata": {},
   "outputs": [
    {
     "data": {
      "text/html": [
       "<div>\n",
       "<style>\n",
       "    .dataframe thead tr:only-child th {\n",
       "        text-align: right;\n",
       "    }\n",
       "\n",
       "    .dataframe thead th {\n",
       "        text-align: left;\n",
       "    }\n",
       "\n",
       "    .dataframe tbody tr th {\n",
       "        vertical-align: top;\n",
       "    }\n",
       "</style>\n",
       "<table border=\"1\" class=\"dataframe\">\n",
       "  <thead>\n",
       "    <tr style=\"text-align: right;\">\n",
       "      <th></th>\n",
       "      <th>Month</th>\n",
       "      <th>DayofMonth</th>\n",
       "      <th>DayOfWeek</th>\n",
       "      <th>Carrier</th>\n",
       "      <th>Origin</th>\n",
       "      <th>Dest</th>\n",
       "      <th>Cancelled</th>\n",
       "      <th>Distance</th>\n",
       "      <th>Nflights_10</th>\n",
       "      <th>DepDelayMedian_10</th>\n",
       "      <th>DepDelayMax_10</th>\n",
       "      <th>ArrDelayMedian_10</th>\n",
       "      <th>ArrDelayMax_10</th>\n",
       "      <th>TaxiOutMedian_10</th>\n",
       "      <th>TaxiInMedian_10</th>\n",
       "      <th>Ncan_10</th>\n",
       "      <th>Ndiv_10</th>\n",
       "      <th>Nflights_20</th>\n",
       "      <th>DepDelayMedian_20</th>\n",
       "      <th>DepDelayMax_20</th>\n",
       "      <th>ArrDelayMedian_20</th>\n",
       "      <th>ArrDelayMax_20</th>\n",
       "      <th>TaxiOutMedian_20</th>\n",
       "      <th>TaxiInMedian_20</th>\n",
       "      <th>Ncan_20</th>\n",
       "      <th>Ndiv_20</th>\n",
       "      <th>Nflights_30</th>\n",
       "      <th>DepDelayMedian_30</th>\n",
       "      <th>DepDelayMax_30</th>\n",
       "      <th>ArrDelayMedian_30</th>\n",
       "      <th>ArrDelayMax_30</th>\n",
       "      <th>TaxiOutMedian_30</th>\n",
       "      <th>TaxiInMedian_30</th>\n",
       "      <th>Ncan_30</th>\n",
       "      <th>Ndiv_30</th>\n",
       "      <th>CRSDepHr</th>\n",
       "      <th>CRSArrHr</th>\n",
       "      <th>Temperature_Origin</th>\n",
       "      <th>DewPoint_Origin</th>\n",
       "      <th>Humidity_Origin</th>\n",
       "      <th>WindSpeed_Origin</th>\n",
       "      <th>WindDirection_Origin</th>\n",
       "      <th>Visibility_Origin</th>\n",
       "      <th>Pressure_Origin</th>\n",
       "      <th>Condition_Origin</th>\n",
       "      <th>Temperature_Dest</th>\n",
       "      <th>DewPoint_Dest</th>\n",
       "      <th>Humidity_Dest</th>\n",
       "      <th>WindSpeed_Dest</th>\n",
       "      <th>WindDirection_Dest</th>\n",
       "      <th>Visibility_Dest</th>\n",
       "      <th>Pressure_Dest</th>\n",
       "      <th>Condition_Dest</th>\n",
       "      <th>Month_Dest</th>\n",
       "      <th>DayOfMonth_Dest</th>\n",
       "      <th>DayOfWeek_Dest</th>\n",
       "      <th>TempFlight_30</th>\n",
       "      <th>TempFlight_20</th>\n",
       "      <th>TempFlight_10</th>\n",
       "      <th>AllCanceled_30</th>\n",
       "      <th>AllDiverted_30</th>\n",
       "      <th>AllCanceled_20</th>\n",
       "      <th>AllDiverted_20</th>\n",
       "      <th>AllCanDiv_20</th>\n",
       "      <th>AllCanDiv_30</th>\n",
       "      <th>AllCanceled_10</th>\n",
       "      <th>AllDiverted_10</th>\n",
       "      <th>AllCanDiv_10</th>\n",
       "    </tr>\n",
       "  </thead>\n",
       "  <tbody>\n",
       "    <tr>\n",
       "      <th>0</th>\n",
       "      <td>1</td>\n",
       "      <td>1</td>\n",
       "      <td>4</td>\n",
       "      <td>AA</td>\n",
       "      <td>PHX</td>\n",
       "      <td>DFW</td>\n",
       "      <td>1.0</td>\n",
       "      <td>868.0</td>\n",
       "      <td>10</td>\n",
       "      <td>-2.0</td>\n",
       "      <td>0.0</td>\n",
       "      <td>-2.5</td>\n",
       "      <td>17.0</td>\n",
       "      <td>13.0</td>\n",
       "      <td>4.0</td>\n",
       "      <td>0.0</td>\n",
       "      <td>0.0</td>\n",
       "      <td>14</td>\n",
       "      <td>-2.0</td>\n",
       "      <td>0.0</td>\n",
       "      <td>-0.5</td>\n",
       "      <td>17.0</td>\n",
       "      <td>13.0</td>\n",
       "      <td>5.0</td>\n",
       "      <td>0.0</td>\n",
       "      <td>0.0</td>\n",
       "      <td>14</td>\n",
       "      <td>-2.0</td>\n",
       "      <td>0.0</td>\n",
       "      <td>-0.5</td>\n",
       "      <td>17.0</td>\n",
       "      <td>13.0</td>\n",
       "      <td>5.0</td>\n",
       "      <td>0.0</td>\n",
       "      <td>0.0</td>\n",
       "      <td>2</td>\n",
       "      <td>5</td>\n",
       "      <td>37.0</td>\n",
       "      <td>30.0</td>\n",
       "      <td>76.0</td>\n",
       "      <td>3.5</td>\n",
       "      <td>320.0</td>\n",
       "      <td>10.0</td>\n",
       "      <td>30.04</td>\n",
       "      <td>Scattered Clouds</td>\n",
       "      <td>33.1</td>\n",
       "      <td>27.0</td>\n",
       "      <td>78.0</td>\n",
       "      <td>8.1</td>\n",
       "      <td>350.0</td>\n",
       "      <td>10.0</td>\n",
       "      <td>30.34</td>\n",
       "      <td>Light Rain</td>\n",
       "      <td>1</td>\n",
       "      <td>1</td>\n",
       "      <td>4</td>\n",
       "      <td>0</td>\n",
       "      <td>0</td>\n",
       "      <td>0</td>\n",
       "      <td>0</td>\n",
       "      <td>0</td>\n",
       "      <td>0</td>\n",
       "      <td>0</td>\n",
       "      <td>0</td>\n",
       "      <td>0</td>\n",
       "      <td>0</td>\n",
       "      <td>0</td>\n",
       "      <td>0</td>\n",
       "    </tr>\n",
       "    <tr>\n",
       "      <th>1</th>\n",
       "      <td>1</td>\n",
       "      <td>1</td>\n",
       "      <td>4</td>\n",
       "      <td>NK</td>\n",
       "      <td>PHX</td>\n",
       "      <td>DFW</td>\n",
       "      <td>0.0</td>\n",
       "      <td>868.0</td>\n",
       "      <td>0</td>\n",
       "      <td>0.0</td>\n",
       "      <td>0.0</td>\n",
       "      <td>0.0</td>\n",
       "      <td>0.0</td>\n",
       "      <td>0.0</td>\n",
       "      <td>0.0</td>\n",
       "      <td>0.0</td>\n",
       "      <td>0.0</td>\n",
       "      <td>0</td>\n",
       "      <td>0.0</td>\n",
       "      <td>0.0</td>\n",
       "      <td>0.0</td>\n",
       "      <td>0.0</td>\n",
       "      <td>0.0</td>\n",
       "      <td>0.0</td>\n",
       "      <td>0.0</td>\n",
       "      <td>0.0</td>\n",
       "      <td>0</td>\n",
       "      <td>0.0</td>\n",
       "      <td>0.0</td>\n",
       "      <td>0.0</td>\n",
       "      <td>0.0</td>\n",
       "      <td>0.0</td>\n",
       "      <td>0.0</td>\n",
       "      <td>0.0</td>\n",
       "      <td>0.0</td>\n",
       "      <td>1</td>\n",
       "      <td>5</td>\n",
       "      <td>37.0</td>\n",
       "      <td>30.9</td>\n",
       "      <td>79.0</td>\n",
       "      <td>4.6</td>\n",
       "      <td>300.0</td>\n",
       "      <td>10.0</td>\n",
       "      <td>30.03</td>\n",
       "      <td>Mostly Cloudy</td>\n",
       "      <td>33.1</td>\n",
       "      <td>27.0</td>\n",
       "      <td>78.0</td>\n",
       "      <td>8.1</td>\n",
       "      <td>350.0</td>\n",
       "      <td>10.0</td>\n",
       "      <td>30.34</td>\n",
       "      <td>Light Rain</td>\n",
       "      <td>1</td>\n",
       "      <td>1</td>\n",
       "      <td>4</td>\n",
       "      <td>1</td>\n",
       "      <td>1</td>\n",
       "      <td>1</td>\n",
       "      <td>0</td>\n",
       "      <td>0</td>\n",
       "      <td>0</td>\n",
       "      <td>0</td>\n",
       "      <td>0</td>\n",
       "      <td>0</td>\n",
       "      <td>0</td>\n",
       "      <td>0</td>\n",
       "      <td>0</td>\n",
       "    </tr>\n",
       "    <tr>\n",
       "      <th>2</th>\n",
       "      <td>1</td>\n",
       "      <td>1</td>\n",
       "      <td>4</td>\n",
       "      <td>DL</td>\n",
       "      <td>DEN</td>\n",
       "      <td>ATL</td>\n",
       "      <td>0.0</td>\n",
       "      <td>1199.0</td>\n",
       "      <td>10</td>\n",
       "      <td>3.5</td>\n",
       "      <td>48.0</td>\n",
       "      <td>-7.5</td>\n",
       "      <td>52.0</td>\n",
       "      <td>15.0</td>\n",
       "      <td>6.5</td>\n",
       "      <td>0.0</td>\n",
       "      <td>0.0</td>\n",
       "      <td>12</td>\n",
       "      <td>3.5</td>\n",
       "      <td>48.0</td>\n",
       "      <td>-7.5</td>\n",
       "      <td>52.0</td>\n",
       "      <td>14.5</td>\n",
       "      <td>6.5</td>\n",
       "      <td>0.0</td>\n",
       "      <td>0.0</td>\n",
       "      <td>12</td>\n",
       "      <td>3.5</td>\n",
       "      <td>48.0</td>\n",
       "      <td>-7.5</td>\n",
       "      <td>52.0</td>\n",
       "      <td>14.5</td>\n",
       "      <td>6.5</td>\n",
       "      <td>0.0</td>\n",
       "      <td>0.0</td>\n",
       "      <td>0</td>\n",
       "      <td>5</td>\n",
       "      <td>7.0</td>\n",
       "      <td>-8.0</td>\n",
       "      <td>51.0</td>\n",
       "      <td>15.0</td>\n",
       "      <td>170.0</td>\n",
       "      <td>10.0</td>\n",
       "      <td>30.22</td>\n",
       "      <td>Clear</td>\n",
       "      <td>33.1</td>\n",
       "      <td>26.1</td>\n",
       "      <td>75.0</td>\n",
       "      <td>3.5</td>\n",
       "      <td>310.0</td>\n",
       "      <td>10.0</td>\n",
       "      <td>30.32</td>\n",
       "      <td>Partly Cloudy</td>\n",
       "      <td>1</td>\n",
       "      <td>1</td>\n",
       "      <td>4</td>\n",
       "      <td>0</td>\n",
       "      <td>0</td>\n",
       "      <td>0</td>\n",
       "      <td>0</td>\n",
       "      <td>0</td>\n",
       "      <td>0</td>\n",
       "      <td>0</td>\n",
       "      <td>0</td>\n",
       "      <td>0</td>\n",
       "      <td>0</td>\n",
       "      <td>0</td>\n",
       "      <td>0</td>\n",
       "    </tr>\n",
       "    <tr>\n",
       "      <th>3</th>\n",
       "      <td>1</td>\n",
       "      <td>1</td>\n",
       "      <td>4</td>\n",
       "      <td>NK</td>\n",
       "      <td>LAS</td>\n",
       "      <td>MSP</td>\n",
       "      <td>0.0</td>\n",
       "      <td>1299.0</td>\n",
       "      <td>0</td>\n",
       "      <td>0.0</td>\n",
       "      <td>0.0</td>\n",
       "      <td>0.0</td>\n",
       "      <td>0.0</td>\n",
       "      <td>0.0</td>\n",
       "      <td>0.0</td>\n",
       "      <td>0.0</td>\n",
       "      <td>0.0</td>\n",
       "      <td>0</td>\n",
       "      <td>0.0</td>\n",
       "      <td>0.0</td>\n",
       "      <td>0.0</td>\n",
       "      <td>0.0</td>\n",
       "      <td>0.0</td>\n",
       "      <td>0.0</td>\n",
       "      <td>0.0</td>\n",
       "      <td>0.0</td>\n",
       "      <td>0</td>\n",
       "      <td>0.0</td>\n",
       "      <td>0.0</td>\n",
       "      <td>0.0</td>\n",
       "      <td>0.0</td>\n",
       "      <td>0.0</td>\n",
       "      <td>0.0</td>\n",
       "      <td>0.0</td>\n",
       "      <td>0.0</td>\n",
       "      <td>0</td>\n",
       "      <td>5</td>\n",
       "      <td>34.0</td>\n",
       "      <td>17.1</td>\n",
       "      <td>50.0</td>\n",
       "      <td>9.2</td>\n",
       "      <td>190.0</td>\n",
       "      <td>10.0</td>\n",
       "      <td>29.99</td>\n",
       "      <td>Mostly Cloudy</td>\n",
       "      <td>16.0</td>\n",
       "      <td>10.0</td>\n",
       "      <td>77.0</td>\n",
       "      <td>8.1</td>\n",
       "      <td>240.0</td>\n",
       "      <td>10.0</td>\n",
       "      <td>29.90</td>\n",
       "      <td>Overcast</td>\n",
       "      <td>1</td>\n",
       "      <td>1</td>\n",
       "      <td>4</td>\n",
       "      <td>1</td>\n",
       "      <td>1</td>\n",
       "      <td>1</td>\n",
       "      <td>0</td>\n",
       "      <td>0</td>\n",
       "      <td>0</td>\n",
       "      <td>0</td>\n",
       "      <td>0</td>\n",
       "      <td>0</td>\n",
       "      <td>0</td>\n",
       "      <td>0</td>\n",
       "      <td>0</td>\n",
       "    </tr>\n",
       "    <tr>\n",
       "      <th>4</th>\n",
       "      <td>1</td>\n",
       "      <td>1</td>\n",
       "      <td>4</td>\n",
       "      <td>NK</td>\n",
       "      <td>LAS</td>\n",
       "      <td>DFW</td>\n",
       "      <td>0.0</td>\n",
       "      <td>1055.0</td>\n",
       "      <td>0</td>\n",
       "      <td>0.0</td>\n",
       "      <td>0.0</td>\n",
       "      <td>0.0</td>\n",
       "      <td>0.0</td>\n",
       "      <td>0.0</td>\n",
       "      <td>0.0</td>\n",
       "      <td>0.0</td>\n",
       "      <td>0.0</td>\n",
       "      <td>0</td>\n",
       "      <td>0.0</td>\n",
       "      <td>0.0</td>\n",
       "      <td>0.0</td>\n",
       "      <td>0.0</td>\n",
       "      <td>0.0</td>\n",
       "      <td>0.0</td>\n",
       "      <td>0.0</td>\n",
       "      <td>0.0</td>\n",
       "      <td>0</td>\n",
       "      <td>0.0</td>\n",
       "      <td>0.0</td>\n",
       "      <td>0.0</td>\n",
       "      <td>0.0</td>\n",
       "      <td>0.0</td>\n",
       "      <td>0.0</td>\n",
       "      <td>0.0</td>\n",
       "      <td>0.0</td>\n",
       "      <td>1</td>\n",
       "      <td>5</td>\n",
       "      <td>32.0</td>\n",
       "      <td>17.1</td>\n",
       "      <td>54.0</td>\n",
       "      <td>10.4</td>\n",
       "      <td>190.0</td>\n",
       "      <td>10.0</td>\n",
       "      <td>30.00</td>\n",
       "      <td>Mostly Cloudy</td>\n",
       "      <td>33.1</td>\n",
       "      <td>27.0</td>\n",
       "      <td>78.0</td>\n",
       "      <td>8.1</td>\n",
       "      <td>350.0</td>\n",
       "      <td>10.0</td>\n",
       "      <td>30.34</td>\n",
       "      <td>Light Rain</td>\n",
       "      <td>1</td>\n",
       "      <td>1</td>\n",
       "      <td>4</td>\n",
       "      <td>1</td>\n",
       "      <td>1</td>\n",
       "      <td>1</td>\n",
       "      <td>0</td>\n",
       "      <td>0</td>\n",
       "      <td>0</td>\n",
       "      <td>0</td>\n",
       "      <td>0</td>\n",
       "      <td>0</td>\n",
       "      <td>0</td>\n",
       "      <td>0</td>\n",
       "      <td>0</td>\n",
       "    </tr>\n",
       "  </tbody>\n",
       "</table>\n",
       "</div>"
      ],
      "text/plain": [
       "   Month  DayofMonth  DayOfWeek Carrier Origin Dest  Cancelled  Distance  \\\n",
       "0      1           1          4      AA    PHX  DFW        1.0     868.0   \n",
       "1      1           1          4      NK    PHX  DFW        0.0     868.0   \n",
       "2      1           1          4      DL    DEN  ATL        0.0    1199.0   \n",
       "3      1           1          4      NK    LAS  MSP        0.0    1299.0   \n",
       "4      1           1          4      NK    LAS  DFW        0.0    1055.0   \n",
       "\n",
       "   Nflights_10  DepDelayMedian_10  DepDelayMax_10  ArrDelayMedian_10  \\\n",
       "0           10               -2.0             0.0               -2.5   \n",
       "1            0                0.0             0.0                0.0   \n",
       "2           10                3.5            48.0               -7.5   \n",
       "3            0                0.0             0.0                0.0   \n",
       "4            0                0.0             0.0                0.0   \n",
       "\n",
       "   ArrDelayMax_10  TaxiOutMedian_10  TaxiInMedian_10  Ncan_10  Ndiv_10  \\\n",
       "0            17.0              13.0              4.0      0.0      0.0   \n",
       "1             0.0               0.0              0.0      0.0      0.0   \n",
       "2            52.0              15.0              6.5      0.0      0.0   \n",
       "3             0.0               0.0              0.0      0.0      0.0   \n",
       "4             0.0               0.0              0.0      0.0      0.0   \n",
       "\n",
       "   Nflights_20  DepDelayMedian_20  DepDelayMax_20  ArrDelayMedian_20  \\\n",
       "0           14               -2.0             0.0               -0.5   \n",
       "1            0                0.0             0.0                0.0   \n",
       "2           12                3.5            48.0               -7.5   \n",
       "3            0                0.0             0.0                0.0   \n",
       "4            0                0.0             0.0                0.0   \n",
       "\n",
       "   ArrDelayMax_20  TaxiOutMedian_20  TaxiInMedian_20  Ncan_20  Ndiv_20  \\\n",
       "0            17.0              13.0              5.0      0.0      0.0   \n",
       "1             0.0               0.0              0.0      0.0      0.0   \n",
       "2            52.0              14.5              6.5      0.0      0.0   \n",
       "3             0.0               0.0              0.0      0.0      0.0   \n",
       "4             0.0               0.0              0.0      0.0      0.0   \n",
       "\n",
       "   Nflights_30  DepDelayMedian_30  DepDelayMax_30  ArrDelayMedian_30  \\\n",
       "0           14               -2.0             0.0               -0.5   \n",
       "1            0                0.0             0.0                0.0   \n",
       "2           12                3.5            48.0               -7.5   \n",
       "3            0                0.0             0.0                0.0   \n",
       "4            0                0.0             0.0                0.0   \n",
       "\n",
       "   ArrDelayMax_30  TaxiOutMedian_30  TaxiInMedian_30  Ncan_30  Ndiv_30  \\\n",
       "0            17.0              13.0              5.0      0.0      0.0   \n",
       "1             0.0               0.0              0.0      0.0      0.0   \n",
       "2            52.0              14.5              6.5      0.0      0.0   \n",
       "3             0.0               0.0              0.0      0.0      0.0   \n",
       "4             0.0               0.0              0.0      0.0      0.0   \n",
       "\n",
       "   CRSDepHr  CRSArrHr  Temperature_Origin  DewPoint_Origin  Humidity_Origin  \\\n",
       "0         2         5                37.0             30.0             76.0   \n",
       "1         1         5                37.0             30.9             79.0   \n",
       "2         0         5                 7.0             -8.0             51.0   \n",
       "3         0         5                34.0             17.1             50.0   \n",
       "4         1         5                32.0             17.1             54.0   \n",
       "\n",
       "   WindSpeed_Origin  WindDirection_Origin  Visibility_Origin  Pressure_Origin  \\\n",
       "0               3.5                 320.0               10.0            30.04   \n",
       "1               4.6                 300.0               10.0            30.03   \n",
       "2              15.0                 170.0               10.0            30.22   \n",
       "3               9.2                 190.0               10.0            29.99   \n",
       "4              10.4                 190.0               10.0            30.00   \n",
       "\n",
       "   Condition_Origin  Temperature_Dest  DewPoint_Dest  Humidity_Dest  \\\n",
       "0  Scattered Clouds              33.1           27.0           78.0   \n",
       "1     Mostly Cloudy              33.1           27.0           78.0   \n",
       "2             Clear              33.1           26.1           75.0   \n",
       "3     Mostly Cloudy              16.0           10.0           77.0   \n",
       "4     Mostly Cloudy              33.1           27.0           78.0   \n",
       "\n",
       "   WindSpeed_Dest  WindDirection_Dest  Visibility_Dest  Pressure_Dest  \\\n",
       "0             8.1               350.0             10.0          30.34   \n",
       "1             8.1               350.0             10.0          30.34   \n",
       "2             3.5               310.0             10.0          30.32   \n",
       "3             8.1               240.0             10.0          29.90   \n",
       "4             8.1               350.0             10.0          30.34   \n",
       "\n",
       "  Condition_Dest  Month_Dest  DayOfMonth_Dest  DayOfWeek_Dest  TempFlight_30  \\\n",
       "0     Light Rain           1                1               4              0   \n",
       "1     Light Rain           1                1               4              1   \n",
       "2  Partly Cloudy           1                1               4              0   \n",
       "3       Overcast           1                1               4              1   \n",
       "4     Light Rain           1                1               4              1   \n",
       "\n",
       "   TempFlight_20  TempFlight_10  AllCanceled_30  AllDiverted_30  \\\n",
       "0              0              0               0               0   \n",
       "1              1              1               0               0   \n",
       "2              0              0               0               0   \n",
       "3              1              1               0               0   \n",
       "4              1              1               0               0   \n",
       "\n",
       "   AllCanceled_20  AllDiverted_20  AllCanDiv_20  AllCanDiv_30  AllCanceled_10  \\\n",
       "0               0               0             0             0               0   \n",
       "1               0               0             0             0               0   \n",
       "2               0               0             0             0               0   \n",
       "3               0               0             0             0               0   \n",
       "4               0               0             0             0               0   \n",
       "\n",
       "   AllDiverted_10  AllCanDiv_10  \n",
       "0               0             0  \n",
       "1               0             0  \n",
       "2               0             0  \n",
       "3               0             0  \n",
       "4               0             0  "
      ]
     },
     "execution_count": 8,
     "metadata": {},
     "output_type": "execute_result"
    }
   ],
   "source": [
    "df.head()"
   ]
  },
  {
   "cell_type": "code",
   "execution_count": 9,
   "metadata": {},
   "outputs": [
    {
     "data": {
      "text/plain": [
       "(2857139, 68)"
      ]
     },
     "execution_count": 9,
     "metadata": {},
     "output_type": "execute_result"
    }
   ],
   "source": [
    "df.shape"
   ]
  },
  {
   "cell_type": "markdown",
   "metadata": {},
   "source": [
    "There are some variables with numerical values and some variables with categories. For numerical variables, we do not have to worry about labelling. However, we will need to perform label encoding for the categorical variables. There are also some variables that are already in binary form, so that also does not need any labeling. Let's first identify all the numerical, categorical and binary variables."
   ]
  },
  {
   "cell_type": "code",
   "execution_count": 10,
   "metadata": {
    "collapsed": true
   },
   "outputs": [],
   "source": [
    "numvar = [\"Distance\", \"Nflights_10\", \"DepDelayMedian_10\", \"DepDelayMax_10\", \"ArrDelayMedian_10\",\n",
    "          \"ArrDelayMax_10\", \"TaxiOutMedian_10\", \"TaxiInMedian_10\", \"Ncan_10\", \"Ndiv_10\", \"Nflights_20\",\n",
    "          \"DepDelayMedian_20\", \"DepDelayMax_20\", \"ArrDelayMedian_20\", \"ArrDelayMax_20\", \"TaxiOutMedian_20\",\n",
    "          \"TaxiInMedian_20\", \"Ncan_20\", \"Ndiv_20\", \"Nflights_30\", \"DepDelayMedian_30\", \"DepDelayMax_30\", \n",
    "          \"ArrDelayMedian_30\", \"ArrDelayMax_30\", \"TaxiOutMedian_30\", \"TaxiInMedian_30\", \"Ncan_30\", \n",
    "          \"Ndiv_30\", \"Temperature_Origin\", \"DewPoint_Origin\", \"Humidity_Origin\", \"WindSpeed_Origin\", \n",
    "          \"WindDirection_Origin\", \"Visibility_Origin\", \"Pressure_Origin\", \"Temperature_Dest\", \"DewPoint_Dest\",\n",
    "          \"Humidity_Dest\", \"WindSpeed_Dest\", \"WindDirection_Dest\", \"Visibility_Dest\", \"Pressure_Dest\"]\n",
    "catvar = [\"Month\", \"DayofMonth\", \"DayOfWeek\", \"Carrier\", \"Origin\", \"Dest\", \"CRSDepHr\", \"CRSArrHr\", \n",
    "          \"Condition_Origin\", \"Condition_Dest\", \"Month_Dest\", \"DayOfMonth_Dest\", \"DayOfWeek_Dest\"]\n",
    "binvar = [\"TempFlight_30\", \"TempFlight_20\", \"TempFlight_10\", \"AllCanceled_30\", \"AllDiverted_30\", \n",
    "          \"AllCanceled_20\", \"AllDiverted_20\", \"AllCanDiv_20\", \"AllCanDiv_30\", \"AllCanceled_10\", \n",
    "          \"AllDiverted_10\", \"AllCanDiv_10\"]"
   ]
  },
  {
   "cell_type": "markdown",
   "metadata": {},
   "source": [
    "## Converting string values to numerical values in all categorical columns"
   ]
  },
  {
   "cell_type": "code",
   "execution_count": 11,
   "metadata": {
    "collapsed": true
   },
   "outputs": [],
   "source": [
    "#One-hot-encoding\n",
    "for cvar in catvar:\n",
    "    df = pd.concat([df, pd.get_dummies(df[cvar], prefix=cvar, dummy_na=False)], axis=1)\n",
    "    df.drop([cvar], axis=1, inplace=True)"
   ]
  },
  {
   "cell_type": "code",
   "execution_count": 12,
   "metadata": {},
   "outputs": [
    {
     "data": {
      "text/plain": [
       "(2857139, 331)"
      ]
     },
     "execution_count": 12,
     "metadata": {},
     "output_type": "execute_result"
    }
   ],
   "source": [
    "df.shape"
   ]
  },
  {
   "cell_type": "code",
   "execution_count": 13,
   "metadata": {
    "collapsed": true
   },
   "outputs": [],
   "source": [
    "colnames = list(df.columns[1:])"
   ]
  },
  {
   "cell_type": "markdown",
   "metadata": {},
   "source": [
    "## Creating feature matrix and target vector"
   ]
  },
  {
   "cell_type": "code",
   "execution_count": 14,
   "metadata": {
    "collapsed": true
   },
   "outputs": [],
   "source": [
    "X = df.drop([\"Cancelled\"], axis=1).values\n",
    "y = df.Cancelled.astype(int).values"
   ]
  },
  {
   "cell_type": "code",
   "execution_count": 15,
   "metadata": {},
   "outputs": [
    {
     "data": {
      "text/plain": [
       "(2857139, 330)"
      ]
     },
     "execution_count": 15,
     "metadata": {},
     "output_type": "execute_result"
    }
   ],
   "source": [
    "X.shape"
   ]
  },
  {
   "cell_type": "markdown",
   "metadata": {},
   "source": [
    "## Splitting the data into train (25%) and test (75%) sets\n",
    "\n",
    "This split is only done to obtain optimum hyper parameters and to select best resampling techniques. Once obtained the best hyper parameters, we will then use 75% of the training data to do one more time cv."
   ]
  },
  {
   "cell_type": "code",
   "execution_count": 16,
   "metadata": {
    "collapsed": true
   },
   "outputs": [],
   "source": [
    "from sklearn.model_selection import StratifiedShuffleSplit\n",
    "sss1 = StratifiedShuffleSplit(n_splits=1, test_size=0.75, random_state=20)\n",
    "for train_index, test_index in sss1.split(X, y):\n",
    "    X_train, X_test = X[train_index], X[test_index]\n",
    "    y_train, y_test = y[train_index], y[test_index]"
   ]
  },
  {
   "cell_type": "code",
   "execution_count": 17,
   "metadata": {},
   "outputs": [
    {
     "data": {
      "text/plain": [
       "(714284, 330)"
      ]
     },
     "execution_count": 17,
     "metadata": {},
     "output_type": "execute_result"
    }
   ],
   "source": [
    "X_train.shape"
   ]
  },
  {
   "cell_type": "code",
   "execution_count": 18,
   "metadata": {},
   "outputs": [
    {
     "data": {
      "text/plain": [
       "(2142855, 330)"
      ]
     },
     "execution_count": 18,
     "metadata": {},
     "output_type": "execute_result"
    }
   ],
   "source": [
    "X_test.shape"
   ]
  },
  {
   "cell_type": "markdown",
   "metadata": {},
   "source": [
    "Just to make sure that stratified shuffle split led to train and test with same fraction of positive class, lets calculate the fractions."
   ]
  },
  {
   "cell_type": "code",
   "execution_count": 19,
   "metadata": {},
   "outputs": [
    {
     "data": {
      "text/plain": [
       "0.011487027568866165"
      ]
     },
     "execution_count": 19,
     "metadata": {},
     "output_type": "execute_result"
    }
   ],
   "source": [
    "sum(df.iloc[train_index].Cancelled == 1)/len(train_index)"
   ]
  },
  {
   "cell_type": "code",
   "execution_count": 20,
   "metadata": {},
   "outputs": [
    {
     "data": {
      "text/plain": [
       "0.011486544819878153"
      ]
     },
     "execution_count": 20,
     "metadata": {},
     "output_type": "execute_result"
    }
   ],
   "source": [
    "sum(df.iloc[test_index].Cancelled == 1)/len(test_index)"
   ]
  },
  {
   "cell_type": "markdown",
   "metadata": {},
   "source": [
    "They are indeed quite similar."
   ]
  },
  {
   "cell_type": "code",
   "execution_count": 31,
   "metadata": {
    "collapsed": true
   },
   "outputs": [],
   "source": [
    "del X\n",
    "del y\n",
    "del X_test\n",
    "del y_test"
   ]
  },
  {
   "cell_type": "markdown",
   "metadata": {},
   "source": [
    "# Logistic Regression (class_weight=\"balanced\")"
   ]
  },
  {
   "cell_type": "code",
   "execution_count": 21,
   "metadata": {
    "scrolled": false
   },
   "outputs": [
    {
     "name": "stdout",
     "output_type": "stream",
     "text": [
      "Fitting 5 folds for each of 12 candidates, totalling 60 fits\n",
      "[CV] model__C=0.0001, model__penalty=l2 ..............................\n",
      "[CV] model__C=0.0001, model__penalty=l2 ..............................\n",
      "[CV] model__C=0.0001, model__penalty=l2 ..............................\n",
      "[CV] ............... model__C=0.0001, model__penalty=l2, total=  17.9s\n",
      "[CV] model__C=0.0001, model__penalty=l2 ..............................\n",
      "[CV] ............... model__C=0.0001, model__penalty=l2, total=  22.0s\n",
      "[CV] model__C=0.0001, model__penalty=l2 ..............................\n",
      "[CV] ............... model__C=0.0001, model__penalty=l2, total=  19.7s\n",
      "[CV] model__C=0.001, model__penalty=l2 ...............................\n",
      "[CV] ............... model__C=0.0001, model__penalty=l2, total=  12.7s\n",
      "[CV] model__C=0.001, model__penalty=l2 ...............................\n",
      "[CV] ............... model__C=0.0001, model__penalty=l2, total=  12.9s\n",
      "[CV] model__C=0.001, model__penalty=l2 ...............................\n",
      "[CV] ................ model__C=0.001, model__penalty=l2, total=  17.2s\n",
      "[CV] model__C=0.001, model__penalty=l2 ...............................\n",
      "[CV] ................ model__C=0.001, model__penalty=l2, total=  17.4s\n",
      "[CV] model__C=0.001, model__penalty=l2 ...............................\n",
      "[CV] ................ model__C=0.001, model__penalty=l2, total=  17.4s\n",
      "[CV] model__C=0.01, model__penalty=l2 ................................\n",
      "[CV] ................ model__C=0.001, model__penalty=l2, total=  17.5s\n",
      "[CV] model__C=0.01, model__penalty=l2 ................................\n",
      "[CV] ................ model__C=0.001, model__penalty=l2, total=  18.4s\n",
      "[CV] model__C=0.01, model__penalty=l2 ................................\n",
      "[CV] ................. model__C=0.01, model__penalty=l2, total=  28.7s\n",
      "[CV] model__C=0.01, model__penalty=l2 ................................\n",
      "[CV] ................. model__C=0.01, model__penalty=l2, total=  28.7s\n",
      "[CV] model__C=0.01, model__penalty=l2 ................................\n",
      "[CV] ................. model__C=0.01, model__penalty=l2, total=  28.5s\n",
      "[CV] model__C=0.02, model__penalty=l2 ................................\n",
      "[CV] ................. model__C=0.01, model__penalty=l2, total=  28.3s\n",
      "[CV] model__C=0.02, model__penalty=l2 ................................\n",
      "[CV] ................. model__C=0.01, model__penalty=l2, total=  29.1s\n",
      "[CV] model__C=0.02, model__penalty=l2 ................................\n",
      "[CV] ................. model__C=0.02, model__penalty=l2, total=  32.6s\n",
      "[CV] model__C=0.02, model__penalty=l2 ................................\n",
      "[CV] ................. model__C=0.02, model__penalty=l2, total=  33.4s\n",
      "[CV] model__C=0.02, model__penalty=l2 ................................\n",
      "[CV] ................. model__C=0.02, model__penalty=l2, total=  32.7s\n",
      "[CV] model__C=0.05, model__penalty=l2 ................................\n",
      "[CV] ................. model__C=0.02, model__penalty=l2, total=  32.8s\n",
      "[CV] model__C=0.05, model__penalty=l2 ................................\n",
      "[CV] ................. model__C=0.02, model__penalty=l2, total=  32.5s\n",
      "[CV] model__C=0.05, model__penalty=l2 ................................\n",
      "[CV] ................. model__C=0.05, model__penalty=l2, total=  44.0s\n",
      "[CV] model__C=0.05, model__penalty=l2 ................................\n",
      "[CV] ................. model__C=0.05, model__penalty=l2, total=  42.4s\n",
      "[CV] model__C=0.05, model__penalty=l2 ................................\n",
      "[CV] ................. model__C=0.05, model__penalty=l2, total=  42.1s\n",
      "[CV] model__C=0.1, model__penalty=l2 .................................\n",
      "[CV] ................. model__C=0.05, model__penalty=l2, total=  40.6s\n",
      "[CV] model__C=0.1, model__penalty=l2 .................................\n",
      "[CV] ................. model__C=0.05, model__penalty=l2, total=  42.4s\n",
      "[CV] model__C=0.1, model__penalty=l2 .................................\n",
      "[CV] .................. model__C=0.1, model__penalty=l2, total=  47.7s\n",
      "[CV] model__C=0.1, model__penalty=l2 .................................\n",
      "[CV] .................. model__C=0.1, model__penalty=l2, total=  47.9s\n",
      "[CV] model__C=0.1, model__penalty=l2 .................................\n",
      "[CV] .................. model__C=0.1, model__penalty=l2, total=  46.7s\n",
      "[CV] model__C=0.2, model__penalty=l2 .................................\n",
      "[CV] .................. model__C=0.1, model__penalty=l2, total=  47.8s\n",
      "[CV] model__C=0.2, model__penalty=l2 .................................\n",
      "[CV] .................. model__C=0.1, model__penalty=l2, total=  49.3s\n",
      "[CV] model__C=0.2, model__penalty=l2 .................................\n",
      "[CV] .................. model__C=0.2, model__penalty=l2, total=  59.7s\n",
      "[CV] model__C=0.2, model__penalty=l2 .................................\n",
      "[CV] .................. model__C=0.2, model__penalty=l2, total= 1.0min\n",
      "[CV] model__C=0.2, model__penalty=l2 .................................\n",
      "[CV] .................. model__C=0.2, model__penalty=l2, total=  59.6s\n",
      "[CV] model__C=0.5, model__penalty=l2 .................................\n",
      "[CV] .................. model__C=0.2, model__penalty=l2, total=  57.3s\n",
      "[CV] model__C=0.5, model__penalty=l2 .................................\n",
      "[CV] .................. model__C=0.2, model__penalty=l2, total= 1.0min\n",
      "[CV] model__C=0.5, model__penalty=l2 .................................\n"
     ]
    },
    {
     "name": "stderr",
     "output_type": "stream",
     "text": [
      "[Parallel(n_jobs=3)]: Done  35 tasks      | elapsed:  7.9min\n"
     ]
    },
    {
     "name": "stdout",
     "output_type": "stream",
     "text": [
      "[CV] .................. model__C=0.5, model__penalty=l2, total= 1.3min\n",
      "[CV] model__C=0.5, model__penalty=l2 .................................\n",
      "[CV] .................. model__C=0.5, model__penalty=l2, total= 1.3min\n",
      "[CV] model__C=0.5, model__penalty=l2 .................................\n",
      "[CV] .................. model__C=0.5, model__penalty=l2, total= 1.3min\n",
      "[CV] model__C=1, model__penalty=l2 ...................................\n",
      "[CV] .................. model__C=0.5, model__penalty=l2, total= 1.5min\n",
      "[CV] model__C=1, model__penalty=l2 ...................................\n",
      "[CV] .................. model__C=0.5, model__penalty=l2, total= 1.5min\n",
      "[CV] model__C=1, model__penalty=l2 ...................................\n",
      "[CV] .................... model__C=1, model__penalty=l2, total= 1.8min\n",
      "[CV] model__C=1, model__penalty=l2 ...................................\n",
      "[CV] .................... model__C=1, model__penalty=l2, total= 1.9min\n",
      "[CV] model__C=1, model__penalty=l2 ...................................\n",
      "[CV] .................... model__C=1, model__penalty=l2, total= 1.9min\n",
      "[CV] model__C=2, model__penalty=l2 ...................................\n",
      "[CV] .................... model__C=1, model__penalty=l2, total= 1.9min\n",
      "[CV] model__C=2, model__penalty=l2 ...................................\n",
      "[CV] .................... model__C=1, model__penalty=l2, total= 1.8min\n",
      "[CV] model__C=2, model__penalty=l2 ...................................\n",
      "[CV] .................... model__C=2, model__penalty=l2, total= 2.5min\n",
      "[CV] model__C=2, model__penalty=l2 ...................................\n",
      "[CV] .................... model__C=2, model__penalty=l2, total= 2.0min\n",
      "[CV] model__C=2, model__penalty=l2 ...................................\n",
      "[CV] .................... model__C=2, model__penalty=l2, total= 2.0min\n",
      "[CV] model__C=5, model__penalty=l2 ...................................\n",
      "[CV] .................... model__C=2, model__penalty=l2, total= 2.4min\n",
      "[CV] model__C=5, model__penalty=l2 ...................................\n",
      "[CV] .................... model__C=2, model__penalty=l2, total= 2.4min\n",
      "[CV] model__C=5, model__penalty=l2 ...................................\n",
      "[CV] .................... model__C=5, model__penalty=l2, total= 2.7min\n",
      "[CV] model__C=5, model__penalty=l2 ...................................\n",
      "[CV] .................... model__C=5, model__penalty=l2, total= 2.8min\n",
      "[CV] model__C=5, model__penalty=l2 ...................................\n",
      "[CV] .................... model__C=5, model__penalty=l2, total= 2.9min\n",
      "[CV] model__C=10, model__penalty=l2 ..................................\n",
      "[CV] .................... model__C=5, model__penalty=l2, total= 2.4min\n",
      "[CV] model__C=10, model__penalty=l2 ..................................\n",
      "[CV] .................... model__C=5, model__penalty=l2, total= 2.5min\n",
      "[CV] model__C=10, model__penalty=l2 ..................................\n",
      "[CV] ................... model__C=10, model__penalty=l2, total= 2.8min\n",
      "[CV] model__C=10, model__penalty=l2 ..................................\n",
      "[CV] ................... model__C=10, model__penalty=l2, total= 3.9min\n",
      "[CV] model__C=10, model__penalty=l2 ..................................\n",
      "[CV] ................... model__C=10, model__penalty=l2, total= 3.3min\n",
      "[CV] ................... model__C=10, model__penalty=l2, total= 3.1min\n",
      "[CV] ................... model__C=10, model__penalty=l2, total= 2.5min\n"
     ]
    },
    {
     "name": "stderr",
     "output_type": "stream",
     "text": [
      "[Parallel(n_jobs=3)]: Done  60 out of  60 | elapsed: 27.6min finished\n"
     ]
    },
    {
     "name": "stdout",
     "output_type": "stream",
     "text": [
      "CPU times: user 5min 7s, sys: 6.45 s, total: 5min 13s\n",
      "Wall time: 30min 19s\n"
     ]
    }
   ],
   "source": [
    "%%time\n",
    "from sklearn.linear_model import LogisticRegression\n",
    "from sklearn.preprocessing import MinMaxScaler\n",
    "from sklearn.model_selection import GridSearchCV\n",
    "from sklearn.pipeline import Pipeline as ppl\n",
    "\n",
    "steps = [(\"scaler\", MinMaxScaler(feature_range=(0,1))),\n",
    "         (\"model\", LogisticRegression(random_state=40, class_weight=\"balanced\"))]\n",
    "\n",
    "pipe = ppl(steps)\n",
    "\n",
    "# Parameters\n",
    "param_grid = dict(model__C = [0.0001, 0.001, 0.01, 0.02, 0.05, 0.1, 0.2, 0.5, 1, 2, 5, 10],\n",
    "                  model__penalty = ['l2']\n",
    "                  )\n",
    "# For CV in grid search\n",
    "cv = StratifiedShuffleSplit(n_splits = 5, test_size = 0.2, random_state = 20)\n",
    "\n",
    "# Setting up the grid search\n",
    "LRbal = GridSearchCV(pipe, param_grid = param_grid, \n",
    "                           verbose = 2,\n",
    "                           cv = cv,\n",
    "                          n_jobs=3,\n",
    "                          scoring='average_precision',\n",
    "                          iid=False)\n",
    "\n",
    "LRbal.fit(X_train, y_train)"
   ]
  },
  {
   "cell_type": "code",
   "execution_count": 24,
   "metadata": {},
   "outputs": [
    {
     "data": {
      "text/plain": [
       "{'model__C': 10, 'model__penalty': 'l2'}"
      ]
     },
     "execution_count": 24,
     "metadata": {},
     "output_type": "execute_result"
    }
   ],
   "source": [
    "LRbal.best_params_"
   ]
  },
  {
   "cell_type": "code",
   "execution_count": 22,
   "metadata": {},
   "outputs": [
    {
     "data": {
      "text/plain": [
       "0.14130714062071961"
      ]
     },
     "execution_count": 22,
     "metadata": {},
     "output_type": "execute_result"
    }
   ],
   "source": [
    "LRbal.best_score_"
   ]
  },
  {
   "cell_type": "code",
   "execution_count": 25,
   "metadata": {},
   "outputs": [
    {
     "name": "stderr",
     "output_type": "stream",
     "text": [
      "//anaconda/lib/python3.6/site-packages/sklearn/model_selection/_search.py:667: DeprecationWarning: The grid_scores_ attribute was deprecated in version 0.18 in favor of the more elaborate cv_results_ attribute. The grid_scores_ attribute will not be available from 0.20\n",
      "  DeprecationWarning)\n"
     ]
    },
    {
     "data": {
      "text/plain": [
       "[mean: 0.10602, std: 0.00659, params: {'model__C': 0.0001, 'model__penalty': 'l2'},\n",
       " mean: 0.12324, std: 0.00517, params: {'model__C': 0.001, 'model__penalty': 'l2'},\n",
       " mean: 0.13107, std: 0.00389, params: {'model__C': 0.01, 'model__penalty': 'l2'},\n",
       " mean: 0.13305, std: 0.00391, params: {'model__C': 0.02, 'model__penalty': 'l2'},\n",
       " mean: 0.13601, std: 0.00401, params: {'model__C': 0.05, 'model__penalty': 'l2'},\n",
       " mean: 0.13775, std: 0.00411, params: {'model__C': 0.1, 'model__penalty': 'l2'},\n",
       " mean: 0.13917, std: 0.00430, params: {'model__C': 0.2, 'model__penalty': 'l2'},\n",
       " mean: 0.14026, std: 0.00441, params: {'model__C': 0.5, 'model__penalty': 'l2'},\n",
       " mean: 0.14083, std: 0.00428, params: {'model__C': 1, 'model__penalty': 'l2'},\n",
       " mean: 0.14109, std: 0.00431, params: {'model__C': 2, 'model__penalty': 'l2'},\n",
       " mean: 0.14123, std: 0.00432, params: {'model__C': 5, 'model__penalty': 'l2'},\n",
       " mean: 0.14131, std: 0.00429, params: {'model__C': 10, 'model__penalty': 'l2'}]"
      ]
     },
     "execution_count": 25,
     "metadata": {},
     "output_type": "execute_result"
    }
   ],
   "source": [
    "LRbal.grid_scores_"
   ]
  },
  {
   "cell_type": "markdown",
   "metadata": {
    "collapsed": true
   },
   "source": [
    "# Logistic Regression (RUS)"
   ]
  },
  {
   "cell_type": "code",
   "execution_count": 26,
   "metadata": {
    "scrolled": false
   },
   "outputs": [
    {
     "name": "stdout",
     "output_type": "stream",
     "text": [
      "Fitting 5 folds for each of 12 candidates, totalling 60 fits\n",
      "[CV] model__C=0.0001, model__penalty=l2 ..............................\n",
      "[CV] model__C=0.0001, model__penalty=l2 ..............................\n",
      "[CV] model__C=0.0001, model__penalty=l2 ..............................\n",
      "[CV] ............... model__C=0.0001, model__penalty=l2, total=   5.7s\n",
      "[CV] model__C=0.0001, model__penalty=l2 ..............................\n",
      "[CV] ............... model__C=0.0001, model__penalty=l2, total=   6.5s\n",
      "[CV] model__C=0.0001, model__penalty=l2 ..............................\n",
      "[CV] ............... model__C=0.0001, model__penalty=l2, total=   7.7s\n",
      "[CV] model__C=0.001, model__penalty=l2 ...............................\n",
      "[CV] ............... model__C=0.0001, model__penalty=l2, total=   7.7s\n",
      "[CV] model__C=0.001, model__penalty=l2 ...............................\n",
      "[CV] ............... model__C=0.0001, model__penalty=l2, total=   7.3s\n",
      "[CV] model__C=0.001, model__penalty=l2 ...............................\n",
      "[CV] ................ model__C=0.001, model__penalty=l2, total=   7.2s\n",
      "[CV] model__C=0.001, model__penalty=l2 ...............................\n",
      "[CV] ................ model__C=0.001, model__penalty=l2, total=   7.8s\n",
      "[CV] model__C=0.001, model__penalty=l2 ...............................\n",
      "[CV] ................ model__C=0.001, model__penalty=l2, total=   7.5s\n",
      "[CV] model__C=0.01, model__penalty=l2 ................................\n",
      "[CV] ................ model__C=0.001, model__penalty=l2, total=   6.9s\n",
      "[CV] model__C=0.01, model__penalty=l2 ................................\n",
      "[CV] ................ model__C=0.001, model__penalty=l2, total=   7.1s\n",
      "[CV] model__C=0.01, model__penalty=l2 ................................\n",
      "[CV] ................. model__C=0.01, model__penalty=l2, total=   7.4s\n",
      "[CV] model__C=0.01, model__penalty=l2 ................................\n",
      "[CV] ................. model__C=0.01, model__penalty=l2, total=   7.2s\n",
      "[CV] model__C=0.01, model__penalty=l2 ................................\n",
      "[CV] ................. model__C=0.01, model__penalty=l2, total=   7.9s\n",
      "[CV] model__C=0.02, model__penalty=l2 ................................\n",
      "[CV] ................. model__C=0.01, model__penalty=l2, total=   7.7s\n",
      "[CV] model__C=0.02, model__penalty=l2 ................................\n",
      "[CV] ................. model__C=0.01, model__penalty=l2, total=   7.5s\n",
      "[CV] model__C=0.02, model__penalty=l2 ................................\n",
      "[CV] ................. model__C=0.02, model__penalty=l2, total=   7.4s\n",
      "[CV] model__C=0.02, model__penalty=l2 ................................\n",
      "[CV] ................. model__C=0.02, model__penalty=l2, total=   7.8s\n",
      "[CV] model__C=0.02, model__penalty=l2 ................................\n",
      "[CV] ................. model__C=0.02, model__penalty=l2, total=   6.9s\n",
      "[CV] model__C=0.05, model__penalty=l2 ................................\n",
      "[CV] ................. model__C=0.02, model__penalty=l2, total=   7.4s\n",
      "[CV] model__C=0.05, model__penalty=l2 ................................\n",
      "[CV] ................. model__C=0.02, model__penalty=l2, total=   7.7s\n",
      "[CV] model__C=0.05, model__penalty=l2 ................................\n",
      "[CV] ................. model__C=0.05, model__penalty=l2, total=   7.2s\n",
      "[CV] model__C=0.05, model__penalty=l2 ................................\n",
      "[CV] ................. model__C=0.05, model__penalty=l2, total=   7.7s\n",
      "[CV] model__C=0.05, model__penalty=l2 ................................\n",
      "[CV] ................. model__C=0.05, model__penalty=l2, total=   7.3s\n",
      "[CV] model__C=0.1, model__penalty=l2 .................................\n",
      "[CV] ................. model__C=0.05, model__penalty=l2, total=   6.9s\n",
      "[CV] model__C=0.1, model__penalty=l2 .................................\n",
      "[CV] ................. model__C=0.05, model__penalty=l2, total=   6.9s\n",
      "[CV] model__C=0.1, model__penalty=l2 .................................\n",
      "[CV] .................. model__C=0.1, model__penalty=l2, total=   7.0s\n",
      "[CV] model__C=0.1, model__penalty=l2 .................................\n",
      "[CV] .................. model__C=0.1, model__penalty=l2, total=   7.2s\n",
      "[CV] model__C=0.1, model__penalty=l2 .................................\n",
      "[CV] .................. model__C=0.1, model__penalty=l2, total=   7.4s\n",
      "[CV] model__C=0.2, model__penalty=l2 .................................\n",
      "[CV] .................. model__C=0.1, model__penalty=l2, total=   7.2s\n",
      "[CV] model__C=0.2, model__penalty=l2 .................................\n",
      "[CV] .................. model__C=0.1, model__penalty=l2, total=   7.0s\n",
      "[CV] model__C=0.2, model__penalty=l2 .................................\n",
      "[CV] .................. model__C=0.2, model__penalty=l2, total=   7.3s\n",
      "[CV] model__C=0.2, model__penalty=l2 .................................\n",
      "[CV] .................. model__C=0.2, model__penalty=l2, total=   7.8s\n",
      "[CV] model__C=0.2, model__penalty=l2 .................................\n",
      "[CV] .................. model__C=0.2, model__penalty=l2, total=   8.5s\n",
      "[CV] model__C=0.5, model__penalty=l2 .................................\n",
      "[CV] .................. model__C=0.2, model__penalty=l2, total=   9.2s\n",
      "[CV] model__C=0.5, model__penalty=l2 .................................\n",
      "[CV] .................. model__C=0.2, model__penalty=l2, total=   8.2s\n",
      "[CV] model__C=0.5, model__penalty=l2 .................................\n"
     ]
    },
    {
     "name": "stderr",
     "output_type": "stream",
     "text": [
      "[Parallel(n_jobs=3)]: Done  35 tasks      | elapsed:  2.0min\n"
     ]
    },
    {
     "name": "stdout",
     "output_type": "stream",
     "text": [
      "[CV] .................. model__C=0.5, model__penalty=l2, total=   7.6s\n",
      "[CV] model__C=0.5, model__penalty=l2 .................................\n",
      "[CV] .................. model__C=0.5, model__penalty=l2, total=   7.9s\n",
      "[CV] model__C=0.5, model__penalty=l2 .................................\n",
      "[CV] .................. model__C=0.5, model__penalty=l2, total=   9.1s\n",
      "[CV] model__C=1, model__penalty=l2 ...................................\n",
      "[CV] .................. model__C=0.5, model__penalty=l2, total=   7.7s\n",
      "[CV] model__C=1, model__penalty=l2 ...................................\n",
      "[CV] .................. model__C=0.5, model__penalty=l2, total=   8.5s\n",
      "[CV] model__C=1, model__penalty=l2 ...................................\n",
      "[CV] .................... model__C=1, model__penalty=l2, total=   8.5s\n",
      "[CV] model__C=1, model__penalty=l2 ...................................\n",
      "[CV] .................... model__C=1, model__penalty=l2, total=   7.2s\n",
      "[CV] model__C=1, model__penalty=l2 ...................................\n",
      "[CV] .................... model__C=1, model__penalty=l2, total=   7.8s\n",
      "[CV] model__C=2, model__penalty=l2 ...................................\n",
      "[CV] .................... model__C=1, model__penalty=l2, total=   8.0s\n",
      "[CV] model__C=2, model__penalty=l2 ...................................\n",
      "[CV] .................... model__C=1, model__penalty=l2, total=   7.2s\n",
      "[CV] model__C=2, model__penalty=l2 ...................................\n",
      "[CV] .................... model__C=2, model__penalty=l2, total=   7.7s\n",
      "[CV] model__C=2, model__penalty=l2 ...................................\n",
      "[CV] .................... model__C=2, model__penalty=l2, total=   8.2s\n",
      "[CV] model__C=2, model__penalty=l2 ...................................\n",
      "[CV] .................... model__C=2, model__penalty=l2, total=   7.9s\n",
      "[CV] model__C=5, model__penalty=l2 ...................................\n",
      "[CV] .................... model__C=2, model__penalty=l2, total=   8.3s\n",
      "[CV] model__C=5, model__penalty=l2 ...................................\n",
      "[CV] .................... model__C=2, model__penalty=l2, total=   9.0s\n",
      "[CV] model__C=5, model__penalty=l2 ...................................\n",
      "[CV] .................... model__C=5, model__penalty=l2, total=   8.8s\n",
      "[CV] model__C=5, model__penalty=l2 ...................................\n",
      "[CV] .................... model__C=5, model__penalty=l2, total=   9.4s\n",
      "[CV] model__C=5, model__penalty=l2 ...................................\n",
      "[CV] .................... model__C=5, model__penalty=l2, total=   8.5s\n",
      "[CV] model__C=10, model__penalty=l2 ..................................\n",
      "[CV] .................... model__C=5, model__penalty=l2, total=   8.3s\n",
      "[CV] model__C=10, model__penalty=l2 ..................................\n",
      "[CV] .................... model__C=5, model__penalty=l2, total=   8.5s\n",
      "[CV] model__C=10, model__penalty=l2 ..................................\n",
      "[CV] ................... model__C=10, model__penalty=l2, total=   7.5s\n",
      "[CV] model__C=10, model__penalty=l2 ..................................\n",
      "[CV] ................... model__C=10, model__penalty=l2, total=   8.2s\n",
      "[CV] model__C=10, model__penalty=l2 ..................................\n",
      "[CV] ................... model__C=10, model__penalty=l2, total=   8.7s\n",
      "[CV] ................... model__C=10, model__penalty=l2, total=   7.6s\n",
      "[CV] ................... model__C=10, model__penalty=l2, total=   6.9s\n"
     ]
    },
    {
     "name": "stderr",
     "output_type": "stream",
     "text": [
      "[Parallel(n_jobs=3)]: Done  60 out of  60 | elapsed:  3.5min finished\n"
     ]
    },
    {
     "name": "stdout",
     "output_type": "stream",
     "text": [
      "CPU times: user 2min 25s, sys: 2.36 s, total: 2min 27s\n",
      "Wall time: 3min 34s\n"
     ]
    }
   ],
   "source": [
    "%%time\n",
    "from imblearn.under_sampling import RandomUnderSampler\n",
    "from imblearn.pipeline import Pipeline as pl\n",
    "# Steps for pipeline\n",
    "steps = [(\"rus\", RandomUnderSampler(random_state=30)),\n",
    "         (\"scaler\", MinMaxScaler(feature_range=(0,1))),\n",
    "         (\"model\", LogisticRegression(random_state=40))]\n",
    "pipe = pl(steps)\n",
    "\n",
    "# Parameters\n",
    "param_grid = dict(model__C = [0.0001, 0.001, 0.01, 0.02, 0.05, 0.1, 0.2, 0.5, 1, 2, 5, 10],\n",
    "                  model__penalty = ['l2']\n",
    "                  )\n",
    "# For CV in grid search\n",
    "cv = StratifiedShuffleSplit(n_splits = 5, test_size = 0.2, random_state = 20)\n",
    "\n",
    "# Setting up the grid search\n",
    "LRrus = GridSearchCV(pipe, param_grid = param_grid, \n",
    "                           verbose = 2,\n",
    "                           cv = cv,\n",
    "                          n_jobs=3,\n",
    "                          scoring='average_precision',\n",
    "                          iid=False)\n",
    "# Training using CV\n",
    "LRrus.fit(X_train, y_train)"
   ]
  },
  {
   "cell_type": "code",
   "execution_count": 27,
   "metadata": {},
   "outputs": [
    {
     "data": {
      "text/plain": [
       "{'model__C': 10, 'model__penalty': 'l2'}"
      ]
     },
     "execution_count": 27,
     "metadata": {},
     "output_type": "execute_result"
    }
   ],
   "source": [
    "LRrus.best_params_"
   ]
  },
  {
   "cell_type": "code",
   "execution_count": 28,
   "metadata": {},
   "outputs": [
    {
     "data": {
      "text/plain": [
       "0.14150500290719714"
      ]
     },
     "execution_count": 28,
     "metadata": {},
     "output_type": "execute_result"
    }
   ],
   "source": [
    "LRrus.best_score_"
   ]
  },
  {
   "cell_type": "code",
   "execution_count": 29,
   "metadata": {},
   "outputs": [
    {
     "name": "stderr",
     "output_type": "stream",
     "text": [
      "//anaconda/lib/python3.6/site-packages/sklearn/model_selection/_search.py:667: DeprecationWarning: The grid_scores_ attribute was deprecated in version 0.18 in favor of the more elaborate cv_results_ attribute. The grid_scores_ attribute will not be available from 0.20\n",
      "  DeprecationWarning)\n"
     ]
    },
    {
     "data": {
      "text/plain": [
       "[mean: 0.09679, std: 0.00796, params: {'model__C': 0.0001, 'model__penalty': 'l2'},\n",
       " mean: 0.10424, std: 0.00781, params: {'model__C': 0.001, 'model__penalty': 'l2'},\n",
       " mean: 0.11943, std: 0.00738, params: {'model__C': 0.01, 'model__penalty': 'l2'},\n",
       " mean: 0.12360, std: 0.00742, params: {'model__C': 0.02, 'model__penalty': 'l2'},\n",
       " mean: 0.12704, std: 0.00755, params: {'model__C': 0.05, 'model__penalty': 'l2'},\n",
       " mean: 0.12834, std: 0.00753, params: {'model__C': 0.1, 'model__penalty': 'l2'},\n",
       " mean: 0.12948, std: 0.00736, params: {'model__C': 0.2, 'model__penalty': 'l2'},\n",
       " mean: 0.13185, std: 0.00708, params: {'model__C': 0.5, 'model__penalty': 'l2'},\n",
       " mean: 0.13428, std: 0.00691, params: {'model__C': 1, 'model__penalty': 'l2'},\n",
       " mean: 0.13691, std: 0.00676, params: {'model__C': 2, 'model__penalty': 'l2'},\n",
       " mean: 0.14002, std: 0.00661, params: {'model__C': 5, 'model__penalty': 'l2'},\n",
       " mean: 0.14151, std: 0.00671, params: {'model__C': 10, 'model__penalty': 'l2'}]"
      ]
     },
     "execution_count": 29,
     "metadata": {},
     "output_type": "execute_result"
    }
   ],
   "source": [
    "LRrus.grid_scores_"
   ]
  },
  {
   "cell_type": "markdown",
   "metadata": {},
   "source": [
    "# Logistic Regression (SMOTE)"
   ]
  },
  {
   "cell_type": "code",
   "execution_count": 33,
   "metadata": {
    "scrolled": false
   },
   "outputs": [
    {
     "name": "stdout",
     "output_type": "stream",
     "text": [
      "Fitting 5 folds for each of 72 candidates, totalling 360 fits\n",
      "[CV] model__C=0.001, model__penalty=l2, smote__k_neighbors=5, smote__m_neighbors=12 \n",
      "[CV] model__C=0.001, model__penalty=l2, smote__k_neighbors=5, smote__m_neighbors=12 \n",
      "[CV] model__C=0.001, model__penalty=l2, smote__k_neighbors=5, smote__m_neighbors=12 \n",
      "[CV]  model__C=0.001, model__penalty=l2, smote__k_neighbors=5, smote__m_neighbors=12, total= 1.0min\n",
      "[CV] model__C=0.001, model__penalty=l2, smote__k_neighbors=5, smote__m_neighbors=12 \n",
      "[CV]  model__C=0.001, model__penalty=l2, smote__k_neighbors=5, smote__m_neighbors=12, total= 1.1min\n",
      "[CV]  model__C=0.001, model__penalty=l2, smote__k_neighbors=5, smote__m_neighbors=12, total= 1.1min\n",
      "[CV] model__C=0.001, model__penalty=l2, smote__k_neighbors=5, smote__m_neighbors=12 \n",
      "[CV] model__C=0.001, model__penalty=l2, smote__k_neighbors=5, smote__m_neighbors=10 \n",
      "[CV]  model__C=0.001, model__penalty=l2, smote__k_neighbors=5, smote__m_neighbors=12, total= 1.1min\n",
      "[CV] model__C=0.001, model__penalty=l2, smote__k_neighbors=5, smote__m_neighbors=10 \n",
      "[CV]  model__C=0.001, model__penalty=l2, smote__k_neighbors=5, smote__m_neighbors=12, total= 1.1min\n",
      "[CV]  model__C=0.001, model__penalty=l2, smote__k_neighbors=5, smote__m_neighbors=10, total= 1.1min\n",
      "[CV] model__C=0.001, model__penalty=l2, smote__k_neighbors=5, smote__m_neighbors=10 \n",
      "[CV] model__C=0.001, model__penalty=l2, smote__k_neighbors=5, smote__m_neighbors=10 \n",
      "[CV]  model__C=0.001, model__penalty=l2, smote__k_neighbors=5, smote__m_neighbors=10, total= 1.0min\n",
      "[CV] model__C=0.001, model__penalty=l2, smote__k_neighbors=5, smote__m_neighbors=10 \n",
      "[CV]  model__C=0.001, model__penalty=l2, smote__k_neighbors=5, smote__m_neighbors=10, total= 1.1min\n",
      "[CV] model__C=0.001, model__penalty=l2, smote__k_neighbors=5, smote__m_neighbors=6 \n",
      "[CV]  model__C=0.001, model__penalty=l2, smote__k_neighbors=5, smote__m_neighbors=10, total= 1.1min\n",
      "[CV] model__C=0.001, model__penalty=l2, smote__k_neighbors=5, smote__m_neighbors=6 \n",
      "[CV]  model__C=0.001, model__penalty=l2, smote__k_neighbors=5, smote__m_neighbors=10, total= 1.1min\n",
      "[CV] model__C=0.001, model__penalty=l2, smote__k_neighbors=5, smote__m_neighbors=6 \n",
      "[CV]  model__C=0.001, model__penalty=l2, smote__k_neighbors=5, smote__m_neighbors=6, total= 1.1min\n",
      "[CV] model__C=0.001, model__penalty=l2, smote__k_neighbors=5, smote__m_neighbors=6 \n",
      "[CV]  model__C=0.001, model__penalty=l2, smote__k_neighbors=5, smote__m_neighbors=6, total= 1.1min\n",
      "[CV] model__C=0.001, model__penalty=l2, smote__k_neighbors=5, smote__m_neighbors=6 \n",
      "[CV]  model__C=0.001, model__penalty=l2, smote__k_neighbors=5, smote__m_neighbors=6, total= 1.0min\n",
      "[CV] model__C=0.001, model__penalty=l2, smote__k_neighbors=3, smote__m_neighbors=12 \n",
      "[CV]  model__C=0.001, model__penalty=l2, smote__k_neighbors=5, smote__m_neighbors=6, total= 1.1min\n",
      "[CV] model__C=0.001, model__penalty=l2, smote__k_neighbors=3, smote__m_neighbors=12 \n",
      "[CV]  model__C=0.001, model__penalty=l2, smote__k_neighbors=5, smote__m_neighbors=6, total= 1.1min\n",
      "[CV] model__C=0.001, model__penalty=l2, smote__k_neighbors=3, smote__m_neighbors=12 \n",
      "[CV]  model__C=0.001, model__penalty=l2, smote__k_neighbors=3, smote__m_neighbors=12, total= 1.1min\n",
      "[CV] model__C=0.001, model__penalty=l2, smote__k_neighbors=3, smote__m_neighbors=12 \n",
      "[CV]  model__C=0.001, model__penalty=l2, smote__k_neighbors=3, smote__m_neighbors=12, total= 1.0min\n",
      "[CV] model__C=0.001, model__penalty=l2, smote__k_neighbors=3, smote__m_neighbors=12 \n",
      "[CV]  model__C=0.001, model__penalty=l2, smote__k_neighbors=3, smote__m_neighbors=12, total= 1.1min\n",
      "[CV] model__C=0.001, model__penalty=l2, smote__k_neighbors=3, smote__m_neighbors=10 \n",
      "[CV]  model__C=0.001, model__penalty=l2, smote__k_neighbors=3, smote__m_neighbors=12, total= 1.1min\n",
      "[CV] model__C=0.001, model__penalty=l2, smote__k_neighbors=3, smote__m_neighbors=10 \n",
      "[CV]  model__C=0.001, model__penalty=l2, smote__k_neighbors=3, smote__m_neighbors=12, total= 1.0min\n",
      "[CV] model__C=0.001, model__penalty=l2, smote__k_neighbors=3, smote__m_neighbors=10 \n",
      "[CV]  model__C=0.001, model__penalty=l2, smote__k_neighbors=3, smote__m_neighbors=10, total= 1.1min\n",
      "[CV] model__C=0.001, model__penalty=l2, smote__k_neighbors=3, smote__m_neighbors=10 \n",
      "[CV]  model__C=0.001, model__penalty=l2, smote__k_neighbors=3, smote__m_neighbors=10, total= 1.1min\n",
      "[CV] model__C=0.001, model__penalty=l2, smote__k_neighbors=3, smote__m_neighbors=10 \n",
      "[CV]  model__C=0.001, model__penalty=l2, smote__k_neighbors=3, smote__m_neighbors=10, total= 1.2min\n",
      "[CV] model__C=0.001, model__penalty=l2, smote__k_neighbors=3, smote__m_neighbors=6 \n",
      "[CV]  model__C=0.001, model__penalty=l2, smote__k_neighbors=3, smote__m_neighbors=10, total= 1.1min\n",
      "[CV] model__C=0.001, model__penalty=l2, smote__k_neighbors=3, smote__m_neighbors=6 \n",
      "[CV]  model__C=0.001, model__penalty=l2, smote__k_neighbors=3, smote__m_neighbors=10, total= 1.0min\n",
      "[CV] model__C=0.001, model__penalty=l2, smote__k_neighbors=3, smote__m_neighbors=6 \n",
      "[CV]  model__C=0.001, model__penalty=l2, smote__k_neighbors=3, smote__m_neighbors=6, total= 1.1min\n",
      "[CV] model__C=0.001, model__penalty=l2, smote__k_neighbors=3, smote__m_neighbors=6 \n",
      "[CV]  model__C=0.001, model__penalty=l2, smote__k_neighbors=3, smote__m_neighbors=6, total= 1.1min\n",
      "[CV] model__C=0.001, model__penalty=l2, smote__k_neighbors=3, smote__m_neighbors=6 \n",
      "[CV]  model__C=0.001, model__penalty=l2, smote__k_neighbors=3, smote__m_neighbors=6, total= 1.0min\n",
      "[CV] model__C=0.001, model__penalty=l2, smote__k_neighbors=1, smote__m_neighbors=12 \n",
      "[CV]  model__C=0.001, model__penalty=l2, smote__k_neighbors=3, smote__m_neighbors=6, total= 1.0min\n",
      "[CV] model__C=0.001, model__penalty=l2, smote__k_neighbors=1, smote__m_neighbors=12 \n",
      "[CV]  model__C=0.001, model__penalty=l2, smote__k_neighbors=3, smote__m_neighbors=6, total= 1.1min\n",
      "[CV] model__C=0.001, model__penalty=l2, smote__k_neighbors=1, smote__m_neighbors=12 \n",
      "[CV]  model__C=0.001, model__penalty=l2, smote__k_neighbors=1, smote__m_neighbors=12, total=  59.7s\n",
      "[CV] model__C=0.001, model__penalty=l2, smote__k_neighbors=1, smote__m_neighbors=12 \n",
      "[CV]  model__C=0.001, model__penalty=l2, smote__k_neighbors=1, smote__m_neighbors=12, total= 1.0min\n",
      "[CV] model__C=0.001, model__penalty=l2, smote__k_neighbors=1, smote__m_neighbors=12 \n",
      "[CV]  model__C=0.001, model__penalty=l2, smote__k_neighbors=1, smote__m_neighbors=12, total= 1.1min\n",
      "[CV] model__C=0.001, model__penalty=l2, smote__k_neighbors=1, smote__m_neighbors=10 \n",
      "[CV]  model__C=0.001, model__penalty=l2, smote__k_neighbors=1, smote__m_neighbors=12, total=  59.7s\n",
      "[CV] model__C=0.001, model__penalty=l2, smote__k_neighbors=1, smote__m_neighbors=10 \n",
      "[CV]  model__C=0.001, model__penalty=l2, smote__k_neighbors=1, smote__m_neighbors=10, total= 1.0min\n",
      "[CV]  model__C=0.001, model__penalty=l2, smote__k_neighbors=1, smote__m_neighbors=12, total= 1.1min\n",
      "[CV] model__C=0.001, model__penalty=l2, smote__k_neighbors=1, smote__m_neighbors=10 \n"
     ]
    },
    {
     "name": "stderr",
     "output_type": "stream",
     "text": [
      "[Parallel(n_jobs=3)]: Done  35 tasks      | elapsed: 13.7min\n"
     ]
    },
    {
     "name": "stdout",
     "output_type": "stream",
     "text": [
      "[CV] model__C=0.001, model__penalty=l2, smote__k_neighbors=1, smote__m_neighbors=10 \n",
      "[CV]  model__C=0.001, model__penalty=l2, smote__k_neighbors=1, smote__m_neighbors=10, total= 1.1min\n",
      "[CV] model__C=0.001, model__penalty=l2, smote__k_neighbors=1, smote__m_neighbors=10 \n",
      "[CV]  model__C=0.001, model__penalty=l2, smote__k_neighbors=1, smote__m_neighbors=10, total= 1.1min\n",
      "[CV]  model__C=0.001, model__penalty=l2, smote__k_neighbors=1, smote__m_neighbors=10, total= 1.1min\n",
      "[CV] model__C=0.001, model__penalty=l2, smote__k_neighbors=1, smote__m_neighbors=6 \n",
      "[CV] model__C=0.001, model__penalty=l2, smote__k_neighbors=1, smote__m_neighbors=6 \n",
      "[CV]  model__C=0.001, model__penalty=l2, smote__k_neighbors=1, smote__m_neighbors=10, total= 1.1min\n",
      "[CV] model__C=0.001, model__penalty=l2, smote__k_neighbors=1, smote__m_neighbors=6 \n",
      "[CV]  model__C=0.001, model__penalty=l2, smote__k_neighbors=1, smote__m_neighbors=6, total= 1.1min\n",
      "[CV] model__C=0.001, model__penalty=l2, smote__k_neighbors=1, smote__m_neighbors=6 \n",
      "[CV]  model__C=0.001, model__penalty=l2, smote__k_neighbors=1, smote__m_neighbors=6, total= 1.1min\n",
      "[CV] model__C=0.001, model__penalty=l2, smote__k_neighbors=1, smote__m_neighbors=6 \n",
      "[CV]  model__C=0.001, model__penalty=l2, smote__k_neighbors=1, smote__m_neighbors=6, total=  59.9s\n",
      "[CV] model__C=0.01, model__penalty=l2, smote__k_neighbors=5, smote__m_neighbors=12 \n",
      "[CV]  model__C=0.001, model__penalty=l2, smote__k_neighbors=1, smote__m_neighbors=6, total= 1.1min\n",
      "[CV] model__C=0.01, model__penalty=l2, smote__k_neighbors=5, smote__m_neighbors=12 \n",
      "[CV]  model__C=0.001, model__penalty=l2, smote__k_neighbors=1, smote__m_neighbors=6, total= 1.1min\n",
      "[CV] model__C=0.01, model__penalty=l2, smote__k_neighbors=5, smote__m_neighbors=12 \n",
      "[CV]  model__C=0.01, model__penalty=l2, smote__k_neighbors=5, smote__m_neighbors=12, total= 1.3min\n",
      "[CV] model__C=0.01, model__penalty=l2, smote__k_neighbors=5, smote__m_neighbors=12 \n",
      "[CV]  model__C=0.01, model__penalty=l2, smote__k_neighbors=5, smote__m_neighbors=12, total= 1.3min\n",
      "[CV] model__C=0.01, model__penalty=l2, smote__k_neighbors=5, smote__m_neighbors=12 \n",
      "[CV]  model__C=0.01, model__penalty=l2, smote__k_neighbors=5, smote__m_neighbors=12, total= 1.4min\n",
      "[CV] model__C=0.01, model__penalty=l2, smote__k_neighbors=5, smote__m_neighbors=10 \n",
      "[CV]  model__C=0.01, model__penalty=l2, smote__k_neighbors=5, smote__m_neighbors=12, total= 1.3min\n",
      "[CV] model__C=0.01, model__penalty=l2, smote__k_neighbors=5, smote__m_neighbors=10 \n",
      "[CV]  model__C=0.01, model__penalty=l2, smote__k_neighbors=5, smote__m_neighbors=12, total= 1.4min\n",
      "[CV] model__C=0.01, model__penalty=l2, smote__k_neighbors=5, smote__m_neighbors=10 \n",
      "[CV]  model__C=0.01, model__penalty=l2, smote__k_neighbors=5, smote__m_neighbors=10, total= 1.4min\n",
      "[CV] model__C=0.01, model__penalty=l2, smote__k_neighbors=5, smote__m_neighbors=10 \n",
      "[CV]  model__C=0.01, model__penalty=l2, smote__k_neighbors=5, smote__m_neighbors=10, total= 1.3min\n",
      "[CV] model__C=0.01, model__penalty=l2, smote__k_neighbors=5, smote__m_neighbors=10 \n",
      "[CV]  model__C=0.01, model__penalty=l2, smote__k_neighbors=5, smote__m_neighbors=10, total= 1.3min\n",
      "[CV] model__C=0.01, model__penalty=l2, smote__k_neighbors=5, smote__m_neighbors=6 \n",
      "[CV]  model__C=0.01, model__penalty=l2, smote__k_neighbors=5, smote__m_neighbors=10, total= 1.4min\n",
      "[CV] model__C=0.01, model__penalty=l2, smote__k_neighbors=5, smote__m_neighbors=6 \n",
      "[CV]  model__C=0.01, model__penalty=l2, smote__k_neighbors=5, smote__m_neighbors=10, total= 1.3min\n",
      "[CV] model__C=0.01, model__penalty=l2, smote__k_neighbors=5, smote__m_neighbors=6 \n",
      "[CV]  model__C=0.01, model__penalty=l2, smote__k_neighbors=5, smote__m_neighbors=6, total= 1.4min\n",
      "[CV] model__C=0.01, model__penalty=l2, smote__k_neighbors=5, smote__m_neighbors=6 \n",
      "[CV]  model__C=0.01, model__penalty=l2, smote__k_neighbors=5, smote__m_neighbors=6, total= 1.4min\n",
      "[CV] model__C=0.01, model__penalty=l2, smote__k_neighbors=5, smote__m_neighbors=6 \n",
      "[CV]  model__C=0.01, model__penalty=l2, smote__k_neighbors=5, smote__m_neighbors=6, total= 1.3min\n",
      "[CV] model__C=0.01, model__penalty=l2, smote__k_neighbors=3, smote__m_neighbors=12 \n",
      "[CV]  model__C=0.01, model__penalty=l2, smote__k_neighbors=5, smote__m_neighbors=6, total= 1.4min\n",
      "[CV] model__C=0.01, model__penalty=l2, smote__k_neighbors=3, smote__m_neighbors=12 \n",
      "[CV]  model__C=0.01, model__penalty=l2, smote__k_neighbors=5, smote__m_neighbors=6, total= 1.4min\n",
      "[CV] model__C=0.01, model__penalty=l2, smote__k_neighbors=3, smote__m_neighbors=12 \n",
      "[CV]  model__C=0.01, model__penalty=l2, smote__k_neighbors=3, smote__m_neighbors=12, total= 1.3min\n",
      "[CV] model__C=0.01, model__penalty=l2, smote__k_neighbors=3, smote__m_neighbors=12 \n",
      "[CV]  model__C=0.01, model__penalty=l2, smote__k_neighbors=3, smote__m_neighbors=12, total= 1.3min\n",
      "[CV] model__C=0.01, model__penalty=l2, smote__k_neighbors=3, smote__m_neighbors=12 \n",
      "[CV]  model__C=0.01, model__penalty=l2, smote__k_neighbors=3, smote__m_neighbors=12, total= 1.3min\n",
      "[CV] model__C=0.01, model__penalty=l2, smote__k_neighbors=3, smote__m_neighbors=10 \n",
      "[CV]  model__C=0.01, model__penalty=l2, smote__k_neighbors=3, smote__m_neighbors=12, total= 1.4min\n",
      "[CV] model__C=0.01, model__penalty=l2, smote__k_neighbors=3, smote__m_neighbors=10 \n",
      "[CV]  model__C=0.01, model__penalty=l2, smote__k_neighbors=3, smote__m_neighbors=12, total= 1.4min\n",
      "[CV] model__C=0.01, model__penalty=l2, smote__k_neighbors=3, smote__m_neighbors=10 \n",
      "[CV]  model__C=0.01, model__penalty=l2, smote__k_neighbors=3, smote__m_neighbors=10, total= 1.4min\n",
      "[CV] model__C=0.01, model__penalty=l2, smote__k_neighbors=3, smote__m_neighbors=10 \n",
      "[CV]  model__C=0.01, model__penalty=l2, smote__k_neighbors=3, smote__m_neighbors=10, total= 1.3min\n",
      "[CV] model__C=0.01, model__penalty=l2, smote__k_neighbors=3, smote__m_neighbors=10 \n",
      "[CV]  model__C=0.01, model__penalty=l2, smote__k_neighbors=3, smote__m_neighbors=10, total= 1.4min\n",
      "[CV] model__C=0.01, model__penalty=l2, smote__k_neighbors=3, smote__m_neighbors=6 \n",
      "[CV]  model__C=0.01, model__penalty=l2, smote__k_neighbors=3, smote__m_neighbors=10, total= 1.4min\n",
      "[CV] model__C=0.01, model__penalty=l2, smote__k_neighbors=3, smote__m_neighbors=6 \n",
      "[CV]  model__C=0.01, model__penalty=l2, smote__k_neighbors=3, smote__m_neighbors=10, total= 1.4min\n",
      "[CV] model__C=0.01, model__penalty=l2, smote__k_neighbors=3, smote__m_neighbors=6 \n",
      "[CV]  model__C=0.01, model__penalty=l2, smote__k_neighbors=3, smote__m_neighbors=6, total= 1.4min\n",
      "[CV]  model__C=0.01, model__penalty=l2, smote__k_neighbors=3, smote__m_neighbors=6, total= 1.4min\n",
      "[CV] model__C=0.01, model__penalty=l2, smote__k_neighbors=3, smote__m_neighbors=6 \n",
      "[CV] model__C=0.01, model__penalty=l2, smote__k_neighbors=3, smote__m_neighbors=6 \n",
      "[CV]  model__C=0.01, model__penalty=l2, smote__k_neighbors=3, smote__m_neighbors=6, total= 1.3min\n",
      "[CV] model__C=0.01, model__penalty=l2, smote__k_neighbors=1, smote__m_neighbors=12 \n",
      "[CV]  model__C=0.01, model__penalty=l2, smote__k_neighbors=3, smote__m_neighbors=6, total= 1.4min\n",
      "[CV] model__C=0.01, model__penalty=l2, smote__k_neighbors=1, smote__m_neighbors=12 \n",
      "[CV]  model__C=0.01, model__penalty=l2, smote__k_neighbors=3, smote__m_neighbors=6, total= 1.4min\n",
      "[CV] model__C=0.01, model__penalty=l2, smote__k_neighbors=1, smote__m_neighbors=12 \n",
      "[CV]  model__C=0.01, model__penalty=l2, smote__k_neighbors=1, smote__m_neighbors=12, total= 1.3min\n",
      "[CV] model__C=0.01, model__penalty=l2, smote__k_neighbors=1, smote__m_neighbors=12 \n",
      "[CV]  model__C=0.01, model__penalty=l2, smote__k_neighbors=1, smote__m_neighbors=12, total= 1.3min\n",
      "[CV] model__C=0.01, model__penalty=l2, smote__k_neighbors=1, smote__m_neighbors=12 \n",
      "[CV]  model__C=0.01, model__penalty=l2, smote__k_neighbors=1, smote__m_neighbors=12, total= 1.3min\n",
      "[CV] model__C=0.01, model__penalty=l2, smote__k_neighbors=1, smote__m_neighbors=10 \n",
      "[CV]  model__C=0.01, model__penalty=l2, smote__k_neighbors=1, smote__m_neighbors=12, total= 1.3min\n",
      "[CV] model__C=0.01, model__penalty=l2, smote__k_neighbors=1, smote__m_neighbors=10 \n",
      "[CV]  model__C=0.01, model__penalty=l2, smote__k_neighbors=1, smote__m_neighbors=12, total= 1.4min\n",
      "[CV] model__C=0.01, model__penalty=l2, smote__k_neighbors=1, smote__m_neighbors=10 \n",
      "[CV]  model__C=0.01, model__penalty=l2, smote__k_neighbors=1, smote__m_neighbors=10, total= 1.4min\n"
     ]
    },
    {
     "name": "stdout",
     "output_type": "stream",
     "text": [
      "[CV] model__C=0.01, model__penalty=l2, smote__k_neighbors=1, smote__m_neighbors=10 \n",
      "[CV]  model__C=0.01, model__penalty=l2, smote__k_neighbors=1, smote__m_neighbors=10, total= 1.4min\n",
      "[CV] model__C=0.01, model__penalty=l2, smote__k_neighbors=1, smote__m_neighbors=10 \n",
      "[CV]  model__C=0.01, model__penalty=l2, smote__k_neighbors=1, smote__m_neighbors=10, total= 1.3min\n",
      "[CV] model__C=0.01, model__penalty=l2, smote__k_neighbors=1, smote__m_neighbors=6 \n",
      "[CV]  model__C=0.01, model__penalty=l2, smote__k_neighbors=1, smote__m_neighbors=10, total= 1.3min\n",
      "[CV] model__C=0.01, model__penalty=l2, smote__k_neighbors=1, smote__m_neighbors=6 \n",
      "[CV]  model__C=0.01, model__penalty=l2, smote__k_neighbors=1, smote__m_neighbors=10, total= 1.3min\n",
      "[CV] model__C=0.01, model__penalty=l2, smote__k_neighbors=1, smote__m_neighbors=6 \n",
      "[CV]  model__C=0.01, model__penalty=l2, smote__k_neighbors=1, smote__m_neighbors=6, total= 1.4min\n",
      "[CV] model__C=0.01, model__penalty=l2, smote__k_neighbors=1, smote__m_neighbors=6 \n",
      "[CV]  model__C=0.01, model__penalty=l2, smote__k_neighbors=1, smote__m_neighbors=6, total= 1.3min\n",
      "[CV] model__C=0.01, model__penalty=l2, smote__k_neighbors=1, smote__m_neighbors=6 \n",
      "[CV]  model__C=0.01, model__penalty=l2, smote__k_neighbors=1, smote__m_neighbors=6, total= 1.4min\n",
      "[CV] model__C=0.05, model__penalty=l2, smote__k_neighbors=5, smote__m_neighbors=12 \n",
      "[CV]  model__C=0.01, model__penalty=l2, smote__k_neighbors=1, smote__m_neighbors=6, total= 1.3min\n",
      "[CV] model__C=0.05, model__penalty=l2, smote__k_neighbors=5, smote__m_neighbors=12 \n",
      "[CV]  model__C=0.01, model__penalty=l2, smote__k_neighbors=1, smote__m_neighbors=6, total= 1.4min\n",
      "[CV] model__C=0.05, model__penalty=l2, smote__k_neighbors=5, smote__m_neighbors=12 \n",
      "[CV]  model__C=0.05, model__penalty=l2, smote__k_neighbors=5, smote__m_neighbors=12, total= 1.9min\n",
      "[CV] model__C=0.05, model__penalty=l2, smote__k_neighbors=5, smote__m_neighbors=12 \n",
      "[CV]  model__C=0.05, model__penalty=l2, smote__k_neighbors=5, smote__m_neighbors=12, total= 1.9min\n",
      "[CV] model__C=0.05, model__penalty=l2, smote__k_neighbors=5, smote__m_neighbors=12 \n",
      "[CV]  model__C=0.05, model__penalty=l2, smote__k_neighbors=5, smote__m_neighbors=12, total= 1.9min\n",
      "[CV] model__C=0.05, model__penalty=l2, smote__k_neighbors=5, smote__m_neighbors=10 \n",
      "[CV]  model__C=0.05, model__penalty=l2, smote__k_neighbors=5, smote__m_neighbors=12, total= 1.9min\n",
      "[CV] model__C=0.05, model__penalty=l2, smote__k_neighbors=5, smote__m_neighbors=10 \n",
      "[CV]  model__C=0.05, model__penalty=l2, smote__k_neighbors=5, smote__m_neighbors=12, total= 2.0min\n",
      "[CV] model__C=0.05, model__penalty=l2, smote__k_neighbors=5, smote__m_neighbors=10 \n",
      "[CV]  model__C=0.05, model__penalty=l2, smote__k_neighbors=5, smote__m_neighbors=10, total= 1.9min\n",
      "[CV] model__C=0.05, model__penalty=l2, smote__k_neighbors=5, smote__m_neighbors=10 \n",
      "[CV]  model__C=0.05, model__penalty=l2, smote__k_neighbors=5, smote__m_neighbors=10, total= 1.9min\n",
      "[CV] model__C=0.05, model__penalty=l2, smote__k_neighbors=5, smote__m_neighbors=10 \n",
      "[CV]  model__C=0.05, model__penalty=l2, smote__k_neighbors=5, smote__m_neighbors=10, total= 1.9min\n",
      "[CV] model__C=0.05, model__penalty=l2, smote__k_neighbors=5, smote__m_neighbors=6 \n",
      "[CV]  model__C=0.05, model__penalty=l2, smote__k_neighbors=5, smote__m_neighbors=10, total= 2.0min\n",
      "[CV] model__C=0.05, model__penalty=l2, smote__k_neighbors=5, smote__m_neighbors=6 \n",
      "[CV]  model__C=0.05, model__penalty=l2, smote__k_neighbors=5, smote__m_neighbors=10, total= 1.9min\n",
      "[CV] model__C=0.05, model__penalty=l2, smote__k_neighbors=5, smote__m_neighbors=6 \n",
      "[CV]  model__C=0.05, model__penalty=l2, smote__k_neighbors=5, smote__m_neighbors=6, total= 1.9min\n",
      "[CV] model__C=0.05, model__penalty=l2, smote__k_neighbors=5, smote__m_neighbors=6 \n",
      "[CV]  model__C=0.05, model__penalty=l2, smote__k_neighbors=5, smote__m_neighbors=6, total= 1.9min\n",
      "[CV] model__C=0.05, model__penalty=l2, smote__k_neighbors=5, smote__m_neighbors=6 \n",
      "[CV]  model__C=0.05, model__penalty=l2, smote__k_neighbors=5, smote__m_neighbors=6, total= 1.8min\n",
      "[CV] model__C=0.05, model__penalty=l2, smote__k_neighbors=3, smote__m_neighbors=12 \n",
      "[CV]  model__C=0.05, model__penalty=l2, smote__k_neighbors=5, smote__m_neighbors=6, total= 1.8min\n",
      "[CV] model__C=0.05, model__penalty=l2, smote__k_neighbors=3, smote__m_neighbors=12 \n",
      "[CV]  model__C=0.05, model__penalty=l2, smote__k_neighbors=5, smote__m_neighbors=6, total= 1.9min\n",
      "[CV] model__C=0.05, model__penalty=l2, smote__k_neighbors=3, smote__m_neighbors=12 \n",
      "[CV]  model__C=0.05, model__penalty=l2, smote__k_neighbors=3, smote__m_neighbors=12, total= 1.9min\n",
      "[CV] model__C=0.05, model__penalty=l2, smote__k_neighbors=3, smote__m_neighbors=12 \n",
      "[CV]  model__C=0.05, model__penalty=l2, smote__k_neighbors=3, smote__m_neighbors=12, total= 1.8min\n",
      "[CV] model__C=0.05, model__penalty=l2, smote__k_neighbors=3, smote__m_neighbors=12 \n",
      "[CV]  model__C=0.05, model__penalty=l2, smote__k_neighbors=3, smote__m_neighbors=12, total= 1.9min\n",
      "[CV] model__C=0.05, model__penalty=l2, smote__k_neighbors=3, smote__m_neighbors=10 \n",
      "[CV]  model__C=0.05, model__penalty=l2, smote__k_neighbors=3, smote__m_neighbors=12, total= 1.8min\n",
      "[CV] model__C=0.05, model__penalty=l2, smote__k_neighbors=3, smote__m_neighbors=10 \n",
      "[CV]  model__C=0.05, model__penalty=l2, smote__k_neighbors=3, smote__m_neighbors=12, total= 2.0min\n",
      "[CV] model__C=0.05, model__penalty=l2, smote__k_neighbors=3, smote__m_neighbors=10 \n",
      "[CV]  model__C=0.05, model__penalty=l2, smote__k_neighbors=3, smote__m_neighbors=10, total= 1.9min\n",
      "[CV] model__C=0.05, model__penalty=l2, smote__k_neighbors=3, smote__m_neighbors=10 \n",
      "[CV]  model__C=0.05, model__penalty=l2, smote__k_neighbors=3, smote__m_neighbors=10, total= 1.9min\n",
      "[CV] model__C=0.05, model__penalty=l2, smote__k_neighbors=3, smote__m_neighbors=10 \n",
      "[CV]  model__C=0.05, model__penalty=l2, smote__k_neighbors=3, smote__m_neighbors=10, total= 1.9min\n",
      "[CV] model__C=0.05, model__penalty=l2, smote__k_neighbors=3, smote__m_neighbors=6 \n",
      "[CV]  model__C=0.05, model__penalty=l2, smote__k_neighbors=3, smote__m_neighbors=10, total= 1.9min\n",
      "[CV] model__C=0.05, model__penalty=l2, smote__k_neighbors=3, smote__m_neighbors=6 \n",
      "[CV]  model__C=0.05, model__penalty=l2, smote__k_neighbors=3, smote__m_neighbors=10, total= 1.8min\n",
      "[CV] model__C=0.05, model__penalty=l2, smote__k_neighbors=3, smote__m_neighbors=6 \n",
      "[CV]  model__C=0.05, model__penalty=l2, smote__k_neighbors=3, smote__m_neighbors=6, total= 2.0min\n",
      "[CV] model__C=0.05, model__penalty=l2, smote__k_neighbors=3, smote__m_neighbors=6 \n",
      "[CV]  model__C=0.05, model__penalty=l2, smote__k_neighbors=3, smote__m_neighbors=6, total= 1.9min\n",
      "[CV] model__C=0.05, model__penalty=l2, smote__k_neighbors=3, smote__m_neighbors=6 \n",
      "[CV]  model__C=0.05, model__penalty=l2, smote__k_neighbors=3, smote__m_neighbors=6, total= 1.9min\n",
      "[CV] model__C=0.05, model__penalty=l2, smote__k_neighbors=1, smote__m_neighbors=12 \n",
      "[CV]  model__C=0.05, model__penalty=l2, smote__k_neighbors=3, smote__m_neighbors=6, total= 1.8min\n",
      "[CV] model__C=0.05, model__penalty=l2, smote__k_neighbors=1, smote__m_neighbors=12 \n",
      "[CV]  model__C=0.05, model__penalty=l2, smote__k_neighbors=3, smote__m_neighbors=6, total= 1.9min\n",
      "[CV] model__C=0.05, model__penalty=l2, smote__k_neighbors=1, smote__m_neighbors=12 \n",
      "[CV]  model__C=0.05, model__penalty=l2, smote__k_neighbors=1, smote__m_neighbors=12, total= 1.8min\n",
      "[CV] model__C=0.05, model__penalty=l2, smote__k_neighbors=1, smote__m_neighbors=12 \n",
      "[CV]  model__C=0.05, model__penalty=l2, smote__k_neighbors=1, smote__m_neighbors=12, total= 1.9min\n",
      "[CV] model__C=0.05, model__penalty=l2, smote__k_neighbors=1, smote__m_neighbors=12 \n",
      "[CV]  model__C=0.05, model__penalty=l2, smote__k_neighbors=1, smote__m_neighbors=12, total= 1.9min\n",
      "[CV] model__C=0.05, model__penalty=l2, smote__k_neighbors=1, smote__m_neighbors=10 \n",
      "[CV]  model__C=0.05, model__penalty=l2, smote__k_neighbors=1, smote__m_neighbors=12, total= 1.9min\n",
      "[CV] model__C=0.05, model__penalty=l2, smote__k_neighbors=1, smote__m_neighbors=10 \n",
      "[CV]  model__C=0.05, model__penalty=l2, smote__k_neighbors=1, smote__m_neighbors=10, total= 1.9min\n",
      "[CV] model__C=0.05, model__penalty=l2, smote__k_neighbors=1, smote__m_neighbors=10 \n",
      "[CV]  model__C=0.05, model__penalty=l2, smote__k_neighbors=1, smote__m_neighbors=12, total= 1.9min\n"
     ]
    },
    {
     "name": "stdout",
     "output_type": "stream",
     "text": [
      "[CV] model__C=0.05, model__penalty=l2, smote__k_neighbors=1, smote__m_neighbors=10 \n",
      "[CV]  model__C=0.05, model__penalty=l2, smote__k_neighbors=1, smote__m_neighbors=10, total= 1.8min\n",
      "[CV] model__C=0.05, model__penalty=l2, smote__k_neighbors=1, smote__m_neighbors=10 \n",
      "[CV]  model__C=0.05, model__penalty=l2, smote__k_neighbors=1, smote__m_neighbors=10, total= 1.9min\n",
      "[CV] model__C=0.05, model__penalty=l2, smote__k_neighbors=1, smote__m_neighbors=6 \n",
      "[CV]  model__C=0.05, model__penalty=l2, smote__k_neighbors=1, smote__m_neighbors=10, total= 1.9min\n",
      "[CV] model__C=0.05, model__penalty=l2, smote__k_neighbors=1, smote__m_neighbors=6 \n",
      "[CV]  model__C=0.05, model__penalty=l2, smote__k_neighbors=1, smote__m_neighbors=10, total= 1.9min\n",
      "[CV] model__C=0.05, model__penalty=l2, smote__k_neighbors=1, smote__m_neighbors=6 \n",
      "[CV]  model__C=0.05, model__penalty=l2, smote__k_neighbors=1, smote__m_neighbors=6, total= 1.9min\n",
      "[CV]  model__C=0.05, model__penalty=l2, smote__k_neighbors=1, smote__m_neighbors=6, total= 1.8min\n",
      "[CV] model__C=0.05, model__penalty=l2, smote__k_neighbors=1, smote__m_neighbors=6 \n",
      "[CV] model__C=0.05, model__penalty=l2, smote__k_neighbors=1, smote__m_neighbors=6 \n",
      "[CV]  model__C=0.05, model__penalty=l2, smote__k_neighbors=1, smote__m_neighbors=6, total= 1.9min\n",
      "[CV] model__C=0.1, model__penalty=l2, smote__k_neighbors=5, smote__m_neighbors=12 \n",
      "[CV]  model__C=0.05, model__penalty=l2, smote__k_neighbors=1, smote__m_neighbors=6, total= 1.9min\n",
      "[CV] model__C=0.1, model__penalty=l2, smote__k_neighbors=5, smote__m_neighbors=12 \n",
      "[CV]  model__C=0.05, model__penalty=l2, smote__k_neighbors=1, smote__m_neighbors=6, total= 1.9min\n",
      "[CV] model__C=0.1, model__penalty=l2, smote__k_neighbors=5, smote__m_neighbors=12 \n",
      "[CV]  model__C=0.1, model__penalty=l2, smote__k_neighbors=5, smote__m_neighbors=12, total= 2.2min\n",
      "[CV] model__C=0.1, model__penalty=l2, smote__k_neighbors=5, smote__m_neighbors=12 \n",
      "[CV]  model__C=0.1, model__penalty=l2, smote__k_neighbors=5, smote__m_neighbors=12, total= 2.2min\n",
      "[CV] model__C=0.1, model__penalty=l2, smote__k_neighbors=5, smote__m_neighbors=12 \n",
      "[CV]  model__C=0.1, model__penalty=l2, smote__k_neighbors=5, smote__m_neighbors=12, total= 2.2min\n",
      "[CV] model__C=0.1, model__penalty=l2, smote__k_neighbors=5, smote__m_neighbors=10 \n",
      "[CV]  model__C=0.1, model__penalty=l2, smote__k_neighbors=5, smote__m_neighbors=12, total= 2.1min\n",
      "[CV] model__C=0.1, model__penalty=l2, smote__k_neighbors=5, smote__m_neighbors=10 \n",
      "[CV]  model__C=0.1, model__penalty=l2, smote__k_neighbors=5, smote__m_neighbors=12, total= 2.1min\n",
      "[CV] model__C=0.1, model__penalty=l2, smote__k_neighbors=5, smote__m_neighbors=10 \n",
      "[CV]  model__C=0.1, model__penalty=l2, smote__k_neighbors=5, smote__m_neighbors=10, total= 2.1min\n",
      "[CV] model__C=0.1, model__penalty=l2, smote__k_neighbors=5, smote__m_neighbors=10 \n",
      "[CV]  model__C=0.1, model__penalty=l2, smote__k_neighbors=5, smote__m_neighbors=10, total= 2.1min\n",
      "[CV] model__C=0.1, model__penalty=l2, smote__k_neighbors=5, smote__m_neighbors=10 \n",
      "[CV]  model__C=0.1, model__penalty=l2, smote__k_neighbors=5, smote__m_neighbors=10, total= 2.1min\n",
      "[CV] model__C=0.1, model__penalty=l2, smote__k_neighbors=5, smote__m_neighbors=6 \n",
      "[CV]  model__C=0.1, model__penalty=l2, smote__k_neighbors=5, smote__m_neighbors=10, total= 2.1min\n",
      "[CV] model__C=0.1, model__penalty=l2, smote__k_neighbors=5, smote__m_neighbors=6 \n",
      "[CV]  model__C=0.1, model__penalty=l2, smote__k_neighbors=5, smote__m_neighbors=6, total= 2.1min\n",
      "[CV] model__C=0.1, model__penalty=l2, smote__k_neighbors=5, smote__m_neighbors=6 \n",
      "[CV]  model__C=0.1, model__penalty=l2, smote__k_neighbors=5, smote__m_neighbors=10, total= 2.2min\n",
      "[CV] model__C=0.1, model__penalty=l2, smote__k_neighbors=5, smote__m_neighbors=6 \n",
      "[CV]  model__C=0.1, model__penalty=l2, smote__k_neighbors=5, smote__m_neighbors=6, total= 2.2min\n",
      "[CV] model__C=0.1, model__penalty=l2, smote__k_neighbors=5, smote__m_neighbors=6 \n",
      "[CV]  model__C=0.1, model__penalty=l2, smote__k_neighbors=5, smote__m_neighbors=6, total= 2.1min\n",
      "[CV] model__C=0.1, model__penalty=l2, smote__k_neighbors=3, smote__m_neighbors=12 \n",
      "[CV]  model__C=0.1, model__penalty=l2, smote__k_neighbors=5, smote__m_neighbors=6, total= 2.1min\n",
      "[CV] model__C=0.1, model__penalty=l2, smote__k_neighbors=3, smote__m_neighbors=12 \n",
      "[CV]  model__C=0.1, model__penalty=l2, smote__k_neighbors=5, smote__m_neighbors=6, total= 2.1min\n",
      "[CV] model__C=0.1, model__penalty=l2, smote__k_neighbors=3, smote__m_neighbors=12 \n",
      "[CV]  model__C=0.1, model__penalty=l2, smote__k_neighbors=3, smote__m_neighbors=12, total= 2.1min\n",
      "[CV] model__C=0.1, model__penalty=l2, smote__k_neighbors=3, smote__m_neighbors=12 \n",
      "[CV]  model__C=0.1, model__penalty=l2, smote__k_neighbors=3, smote__m_neighbors=12, total= 2.1min\n",
      "[CV] model__C=0.1, model__penalty=l2, smote__k_neighbors=3, smote__m_neighbors=12 \n",
      "[CV]  model__C=0.1, model__penalty=l2, smote__k_neighbors=3, smote__m_neighbors=12, total= 2.1min\n",
      "[CV] model__C=0.1, model__penalty=l2, smote__k_neighbors=3, smote__m_neighbors=10 \n",
      "[CV]  model__C=0.1, model__penalty=l2, smote__k_neighbors=3, smote__m_neighbors=12, total= 2.1min\n",
      "[CV] model__C=0.1, model__penalty=l2, smote__k_neighbors=3, smote__m_neighbors=10 \n",
      "[CV]  model__C=0.1, model__penalty=l2, smote__k_neighbors=3, smote__m_neighbors=12, total= 2.1min\n",
      "[CV] model__C=0.1, model__penalty=l2, smote__k_neighbors=3, smote__m_neighbors=10 \n",
      "[CV]  model__C=0.1, model__penalty=l2, smote__k_neighbors=3, smote__m_neighbors=10, total= 2.1min\n",
      "[CV] model__C=0.1, model__penalty=l2, smote__k_neighbors=3, smote__m_neighbors=10 \n"
     ]
    },
    {
     "name": "stderr",
     "output_type": "stream",
     "text": [
      "[Parallel(n_jobs=3)]: Done 156 tasks      | elapsed: 83.1min\n"
     ]
    },
    {
     "name": "stdout",
     "output_type": "stream",
     "text": [
      "[CV]  model__C=0.1, model__penalty=l2, smote__k_neighbors=3, smote__m_neighbors=10, total= 2.1min\n",
      "[CV] model__C=0.1, model__penalty=l2, smote__k_neighbors=3, smote__m_neighbors=10 \n",
      "[CV]  model__C=0.1, model__penalty=l2, smote__k_neighbors=3, smote__m_neighbors=10, total= 2.0min\n",
      "[CV] model__C=0.1, model__penalty=l2, smote__k_neighbors=3, smote__m_neighbors=6 \n",
      "[CV]  model__C=0.1, model__penalty=l2, smote__k_neighbors=3, smote__m_neighbors=10, total= 2.1min\n",
      "[CV] model__C=0.1, model__penalty=l2, smote__k_neighbors=3, smote__m_neighbors=6 \n",
      "[CV]  model__C=0.1, model__penalty=l2, smote__k_neighbors=3, smote__m_neighbors=10, total= 2.0min\n",
      "[CV] model__C=0.1, model__penalty=l2, smote__k_neighbors=3, smote__m_neighbors=6 \n",
      "[CV]  model__C=0.1, model__penalty=l2, smote__k_neighbors=3, smote__m_neighbors=6, total= 2.1min\n",
      "[CV]  model__C=0.1, model__penalty=l2, smote__k_neighbors=3, smote__m_neighbors=6, total= 2.1min\n",
      "[CV] model__C=0.1, model__penalty=l2, smote__k_neighbors=3, smote__m_neighbors=6 \n",
      "[CV] model__C=0.1, model__penalty=l2, smote__k_neighbors=3, smote__m_neighbors=6 \n",
      "[CV]  model__C=0.1, model__penalty=l2, smote__k_neighbors=3, smote__m_neighbors=6, total= 2.0min\n",
      "[CV] model__C=0.1, model__penalty=l2, smote__k_neighbors=1, smote__m_neighbors=12 \n",
      "[CV]  model__C=0.1, model__penalty=l2, smote__k_neighbors=3, smote__m_neighbors=6, total= 2.1min\n",
      "[CV] model__C=0.1, model__penalty=l2, smote__k_neighbors=1, smote__m_neighbors=12 \n",
      "[CV]  model__C=0.1, model__penalty=l2, smote__k_neighbors=3, smote__m_neighbors=6, total= 2.1min\n",
      "[CV] model__C=0.1, model__penalty=l2, smote__k_neighbors=1, smote__m_neighbors=12 \n",
      "[CV]  model__C=0.1, model__penalty=l2, smote__k_neighbors=1, smote__m_neighbors=12, total= 2.1min\n",
      "[CV] model__C=0.1, model__penalty=l2, smote__k_neighbors=1, smote__m_neighbors=12 \n",
      "[CV]  model__C=0.1, model__penalty=l2, smote__k_neighbors=1, smote__m_neighbors=12, total= 2.1min\n",
      "[CV] model__C=0.1, model__penalty=l2, smote__k_neighbors=1, smote__m_neighbors=12 \n",
      "[CV]  model__C=0.1, model__penalty=l2, smote__k_neighbors=1, smote__m_neighbors=12, total= 2.1min\n",
      "[CV] model__C=0.1, model__penalty=l2, smote__k_neighbors=1, smote__m_neighbors=10 \n",
      "[CV]  model__C=0.1, model__penalty=l2, smote__k_neighbors=1, smote__m_neighbors=12, total= 2.0min\n",
      "[CV] model__C=0.1, model__penalty=l2, smote__k_neighbors=1, smote__m_neighbors=10 \n",
      "[CV]  model__C=0.1, model__penalty=l2, smote__k_neighbors=1, smote__m_neighbors=12, total= 2.2min\n",
      "[CV] model__C=0.1, model__penalty=l2, smote__k_neighbors=1, smote__m_neighbors=10 \n",
      "[CV]  model__C=0.1, model__penalty=l2, smote__k_neighbors=1, smote__m_neighbors=10, total= 2.1min\n",
      "[CV] model__C=0.1, model__penalty=l2, smote__k_neighbors=1, smote__m_neighbors=10 \n",
      "[CV]  model__C=0.1, model__penalty=l2, smote__k_neighbors=1, smote__m_neighbors=10, total= 2.1min\n",
      "[CV] model__C=0.1, model__penalty=l2, smote__k_neighbors=1, smote__m_neighbors=10 \n",
      "[CV]  model__C=0.1, model__penalty=l2, smote__k_neighbors=1, smote__m_neighbors=10, total= 2.2min\n",
      "[CV] model__C=0.1, model__penalty=l2, smote__k_neighbors=1, smote__m_neighbors=6 \n",
      "[CV]  model__C=0.1, model__penalty=l2, smote__k_neighbors=1, smote__m_neighbors=10, total= 2.2min\n",
      "[CV] model__C=0.1, model__penalty=l2, smote__k_neighbors=1, smote__m_neighbors=6 \n",
      "[CV]  model__C=0.1, model__penalty=l2, smote__k_neighbors=1, smote__m_neighbors=10, total= 2.0min\n",
      "[CV] model__C=0.1, model__penalty=l2, smote__k_neighbors=1, smote__m_neighbors=6 \n",
      "[CV]  model__C=0.1, model__penalty=l2, smote__k_neighbors=1, smote__m_neighbors=6, total= 2.1min\n",
      "[CV] model__C=0.1, model__penalty=l2, smote__k_neighbors=1, smote__m_neighbors=6 \n",
      "[CV]  model__C=0.1, model__penalty=l2, smote__k_neighbors=1, smote__m_neighbors=6, total= 2.1min\n",
      "[CV] model__C=0.1, model__penalty=l2, smote__k_neighbors=1, smote__m_neighbors=6 \n",
      "[CV]  model__C=0.1, model__penalty=l2, smote__k_neighbors=1, smote__m_neighbors=6, total= 1.8min\n",
      "[CV] model__C=0.5, model__penalty=l2, smote__k_neighbors=5, smote__m_neighbors=12 \n",
      "[CV]  model__C=0.1, model__penalty=l2, smote__k_neighbors=1, smote__m_neighbors=6, total= 1.9min\n",
      "[CV] model__C=0.5, model__penalty=l2, smote__k_neighbors=5, smote__m_neighbors=12 \n",
      "[CV]  model__C=0.1, model__penalty=l2, smote__k_neighbors=1, smote__m_neighbors=6, total= 2.0min\n",
      "[CV] model__C=0.5, model__penalty=l2, smote__k_neighbors=5, smote__m_neighbors=12 \n",
      "[CV]  model__C=0.5, model__penalty=l2, smote__k_neighbors=5, smote__m_neighbors=12, total= 2.5min\n",
      "[CV] model__C=0.5, model__penalty=l2, smote__k_neighbors=5, smote__m_neighbors=12 \n",
      "[CV]  model__C=0.5, model__penalty=l2, smote__k_neighbors=5, smote__m_neighbors=12, total= 2.5min\n",
      "[CV] model__C=0.5, model__penalty=l2, smote__k_neighbors=5, smote__m_neighbors=12 \n",
      "[CV]  model__C=0.5, model__penalty=l2, smote__k_neighbors=5, smote__m_neighbors=12, total= 2.8min\n",
      "[CV] model__C=0.5, model__penalty=l2, smote__k_neighbors=5, smote__m_neighbors=10 \n",
      "[CV]  model__C=0.5, model__penalty=l2, smote__k_neighbors=5, smote__m_neighbors=12, total= 2.9min\n",
      "[CV] model__C=0.5, model__penalty=l2, smote__k_neighbors=5, smote__m_neighbors=10 \n",
      "[CV]  model__C=0.5, model__penalty=l2, smote__k_neighbors=5, smote__m_neighbors=12, total= 2.6min\n",
      "[CV] model__C=0.5, model__penalty=l2, smote__k_neighbors=5, smote__m_neighbors=10 \n",
      "[CV]  model__C=0.5, model__penalty=l2, smote__k_neighbors=5, smote__m_neighbors=10, total= 2.6min\n",
      "[CV] model__C=0.5, model__penalty=l2, smote__k_neighbors=5, smote__m_neighbors=10 \n",
      "[CV]  model__C=0.5, model__penalty=l2, smote__k_neighbors=5, smote__m_neighbors=10, total= 2.6min\n",
      "[CV] model__C=0.5, model__penalty=l2, smote__k_neighbors=5, smote__m_neighbors=10 \n",
      "[CV]  model__C=0.5, model__penalty=l2, smote__k_neighbors=5, smote__m_neighbors=10, total= 2.7min\n",
      "[CV] model__C=0.5, model__penalty=l2, smote__k_neighbors=5, smote__m_neighbors=6 \n",
      "[CV]  model__C=0.5, model__penalty=l2, smote__k_neighbors=5, smote__m_neighbors=10, total= 3.1min\n",
      "[CV] model__C=0.5, model__penalty=l2, smote__k_neighbors=5, smote__m_neighbors=6 \n",
      "[CV]  model__C=0.5, model__penalty=l2, smote__k_neighbors=5, smote__m_neighbors=10, total= 2.5min\n",
      "[CV] model__C=0.5, model__penalty=l2, smote__k_neighbors=5, smote__m_neighbors=6 \n",
      "[CV]  model__C=0.5, model__penalty=l2, smote__k_neighbors=5, smote__m_neighbors=6, total= 2.6min\n",
      "[CV] model__C=0.5, model__penalty=l2, smote__k_neighbors=5, smote__m_neighbors=6 \n",
      "[CV]  model__C=0.5, model__penalty=l2, smote__k_neighbors=5, smote__m_neighbors=6, total= 2.5min\n",
      "[CV] model__C=0.5, model__penalty=l2, smote__k_neighbors=5, smote__m_neighbors=6 \n",
      "[CV]  model__C=0.5, model__penalty=l2, smote__k_neighbors=5, smote__m_neighbors=6, total= 2.3min\n",
      "[CV] model__C=0.5, model__penalty=l2, smote__k_neighbors=3, smote__m_neighbors=12 \n",
      "[CV]  model__C=0.5, model__penalty=l2, smote__k_neighbors=5, smote__m_neighbors=6, total= 2.4min\n",
      "[CV] model__C=0.5, model__penalty=l2, smote__k_neighbors=3, smote__m_neighbors=12 \n",
      "[CV]  model__C=0.5, model__penalty=l2, smote__k_neighbors=5, smote__m_neighbors=6, total= 3.1min\n",
      "[CV] model__C=0.5, model__penalty=l2, smote__k_neighbors=3, smote__m_neighbors=12 \n",
      "[CV]  model__C=0.5, model__penalty=l2, smote__k_neighbors=3, smote__m_neighbors=12, total= 2.3min\n",
      "[CV] model__C=0.5, model__penalty=l2, smote__k_neighbors=3, smote__m_neighbors=12 \n",
      "[CV]  model__C=0.5, model__penalty=l2, smote__k_neighbors=3, smote__m_neighbors=12, total= 2.5min\n",
      "[CV] model__C=0.5, model__penalty=l2, smote__k_neighbors=3, smote__m_neighbors=12 \n",
      "[CV]  model__C=0.5, model__penalty=l2, smote__k_neighbors=3, smote__m_neighbors=12, total= 3.1min\n",
      "[CV] model__C=0.5, model__penalty=l2, smote__k_neighbors=3, smote__m_neighbors=10 \n",
      "[CV]  model__C=0.5, model__penalty=l2, smote__k_neighbors=3, smote__m_neighbors=12, total= 3.0min\n",
      "[CV] model__C=0.5, model__penalty=l2, smote__k_neighbors=3, smote__m_neighbors=10 \n",
      "[CV]  model__C=0.5, model__penalty=l2, smote__k_neighbors=3, smote__m_neighbors=12, total= 2.4min\n",
      "[CV] model__C=0.5, model__penalty=l2, smote__k_neighbors=3, smote__m_neighbors=10 \n",
      "[CV]  model__C=0.5, model__penalty=l2, smote__k_neighbors=3, smote__m_neighbors=10, total= 2.4min\n",
      "[CV] model__C=0.5, model__penalty=l2, smote__k_neighbors=3, smote__m_neighbors=10 \n",
      "[CV]  model__C=0.5, model__penalty=l2, smote__k_neighbors=3, smote__m_neighbors=10, total= 2.4min\n"
     ]
    },
    {
     "name": "stdout",
     "output_type": "stream",
     "text": [
      "[CV] model__C=0.5, model__penalty=l2, smote__k_neighbors=3, smote__m_neighbors=10 \n",
      "[CV]  model__C=0.5, model__penalty=l2, smote__k_neighbors=3, smote__m_neighbors=10, total= 3.0min\n",
      "[CV] model__C=0.5, model__penalty=l2, smote__k_neighbors=3, smote__m_neighbors=6 \n",
      "[CV]  model__C=0.5, model__penalty=l2, smote__k_neighbors=3, smote__m_neighbors=10, total= 3.0min\n",
      "[CV] model__C=0.5, model__penalty=l2, smote__k_neighbors=3, smote__m_neighbors=6 \n",
      "[CV]  model__C=0.5, model__penalty=l2, smote__k_neighbors=3, smote__m_neighbors=10, total= 2.4min\n",
      "[CV] model__C=0.5, model__penalty=l2, smote__k_neighbors=3, smote__m_neighbors=6 \n",
      "[CV]  model__C=0.5, model__penalty=l2, smote__k_neighbors=3, smote__m_neighbors=6, total= 2.5min\n",
      "[CV] model__C=0.5, model__penalty=l2, smote__k_neighbors=3, smote__m_neighbors=6 \n",
      "[CV]  model__C=0.5, model__penalty=l2, smote__k_neighbors=3, smote__m_neighbors=6, total= 3.0min\n",
      "[CV] model__C=0.5, model__penalty=l2, smote__k_neighbors=3, smote__m_neighbors=6 \n",
      "[CV]  model__C=0.5, model__penalty=l2, smote__k_neighbors=3, smote__m_neighbors=6, total= 2.4min\n",
      "[CV] model__C=0.5, model__penalty=l2, smote__k_neighbors=1, smote__m_neighbors=12 \n",
      "[CV]  model__C=0.5, model__penalty=l2, smote__k_neighbors=3, smote__m_neighbors=6, total= 3.1min\n",
      "[CV] model__C=0.5, model__penalty=l2, smote__k_neighbors=1, smote__m_neighbors=12 \n",
      "[CV]  model__C=0.5, model__penalty=l2, smote__k_neighbors=3, smote__m_neighbors=6, total= 2.3min\n",
      "[CV] model__C=0.5, model__penalty=l2, smote__k_neighbors=1, smote__m_neighbors=12 \n",
      "[CV]  model__C=0.5, model__penalty=l2, smote__k_neighbors=1, smote__m_neighbors=12, total= 2.3min\n",
      "[CV] model__C=0.5, model__penalty=l2, smote__k_neighbors=1, smote__m_neighbors=12 \n",
      "[CV]  model__C=0.5, model__penalty=l2, smote__k_neighbors=1, smote__m_neighbors=12, total= 2.7min\n",
      "[CV] model__C=0.5, model__penalty=l2, smote__k_neighbors=1, smote__m_neighbors=12 \n",
      "[CV]  model__C=0.5, model__penalty=l2, smote__k_neighbors=1, smote__m_neighbors=12, total= 2.3min\n",
      "[CV] model__C=0.5, model__penalty=l2, smote__k_neighbors=1, smote__m_neighbors=10 \n",
      "[CV]  model__C=0.5, model__penalty=l2, smote__k_neighbors=1, smote__m_neighbors=12, total= 2.5min\n",
      "[CV] model__C=0.5, model__penalty=l2, smote__k_neighbors=1, smote__m_neighbors=10 \n",
      "[CV]  model__C=0.5, model__penalty=l2, smote__k_neighbors=1, smote__m_neighbors=12, total= 2.8min\n",
      "[CV] model__C=0.5, model__penalty=l2, smote__k_neighbors=1, smote__m_neighbors=10 \n",
      "[CV]  model__C=0.5, model__penalty=l2, smote__k_neighbors=1, smote__m_neighbors=10, total= 2.5min\n",
      "[CV] model__C=0.5, model__penalty=l2, smote__k_neighbors=1, smote__m_neighbors=10 \n",
      "[CV]  model__C=0.5, model__penalty=l2, smote__k_neighbors=1, smote__m_neighbors=10, total= 2.6min\n",
      "[CV] model__C=0.5, model__penalty=l2, smote__k_neighbors=1, smote__m_neighbors=10 \n",
      "[CV]  model__C=0.5, model__penalty=l2, smote__k_neighbors=1, smote__m_neighbors=10, total= 2.6min\n",
      "[CV] model__C=0.5, model__penalty=l2, smote__k_neighbors=1, smote__m_neighbors=6 \n",
      "[CV]  model__C=0.5, model__penalty=l2, smote__k_neighbors=1, smote__m_neighbors=10, total= 2.8min\n",
      "[CV] model__C=0.5, model__penalty=l2, smote__k_neighbors=1, smote__m_neighbors=6 \n",
      "[CV]  model__C=0.5, model__penalty=l2, smote__k_neighbors=1, smote__m_neighbors=10, total= 2.7min\n",
      "[CV] model__C=0.5, model__penalty=l2, smote__k_neighbors=1, smote__m_neighbors=6 \n",
      "[CV]  model__C=0.5, model__penalty=l2, smote__k_neighbors=1, smote__m_neighbors=6, total= 2.5min\n",
      "[CV] model__C=0.5, model__penalty=l2, smote__k_neighbors=1, smote__m_neighbors=6 \n",
      "[CV]  model__C=0.5, model__penalty=l2, smote__k_neighbors=1, smote__m_neighbors=6, total= 2.8min\n",
      "[CV] model__C=0.5, model__penalty=l2, smote__k_neighbors=1, smote__m_neighbors=6 \n",
      "[CV]  model__C=0.5, model__penalty=l2, smote__k_neighbors=1, smote__m_neighbors=6, total= 2.3min\n",
      "[CV] model__C=1, model__penalty=l2, smote__k_neighbors=5, smote__m_neighbors=12 \n",
      "[CV]  model__C=0.5, model__penalty=l2, smote__k_neighbors=1, smote__m_neighbors=6, total= 2.5min\n",
      "[CV] model__C=1, model__penalty=l2, smote__k_neighbors=5, smote__m_neighbors=12 \n",
      "[CV]  model__C=0.5, model__penalty=l2, smote__k_neighbors=1, smote__m_neighbors=6, total= 2.8min\n",
      "[CV] model__C=1, model__penalty=l2, smote__k_neighbors=5, smote__m_neighbors=12 \n",
      "[CV]  model__C=1, model__penalty=l2, smote__k_neighbors=5, smote__m_neighbors=12, total= 3.6min\n",
      "[CV] model__C=1, model__penalty=l2, smote__k_neighbors=5, smote__m_neighbors=12 \n",
      "[CV]  model__C=1, model__penalty=l2, smote__k_neighbors=5, smote__m_neighbors=12, total= 3.3min\n",
      "[CV] model__C=1, model__penalty=l2, smote__k_neighbors=5, smote__m_neighbors=12 \n",
      "[CV]  model__C=1, model__penalty=l2, smote__k_neighbors=5, smote__m_neighbors=12, total= 3.3min\n",
      "[CV] model__C=1, model__penalty=l2, smote__k_neighbors=5, smote__m_neighbors=10 \n",
      "[CV]  model__C=1, model__penalty=l2, smote__k_neighbors=5, smote__m_neighbors=12, total= 3.4min\n",
      "[CV] model__C=1, model__penalty=l2, smote__k_neighbors=5, smote__m_neighbors=10 \n",
      "[CV]  model__C=1, model__penalty=l2, smote__k_neighbors=5, smote__m_neighbors=12, total= 3.6min\n",
      "[CV] model__C=1, model__penalty=l2, smote__k_neighbors=5, smote__m_neighbors=10 \n",
      "[CV]  model__C=1, model__penalty=l2, smote__k_neighbors=5, smote__m_neighbors=10, total= 3.7min\n",
      "[CV] model__C=1, model__penalty=l2, smote__k_neighbors=5, smote__m_neighbors=10 \n",
      "[CV]  model__C=1, model__penalty=l2, smote__k_neighbors=5, smote__m_neighbors=10, total= 3.5min\n",
      "[CV] model__C=1, model__penalty=l2, smote__k_neighbors=5, smote__m_neighbors=10 \n",
      "[CV]  model__C=1, model__penalty=l2, smote__k_neighbors=5, smote__m_neighbors=10, total= 3.5min\n",
      "[CV] model__C=1, model__penalty=l2, smote__k_neighbors=5, smote__m_neighbors=6 \n",
      "[CV]  model__C=1, model__penalty=l2, smote__k_neighbors=5, smote__m_neighbors=10, total= 3.4min\n",
      "[CV] model__C=1, model__penalty=l2, smote__k_neighbors=5, smote__m_neighbors=6 \n",
      "[CV]  model__C=1, model__penalty=l2, smote__k_neighbors=5, smote__m_neighbors=10, total= 3.5min\n",
      "[CV] model__C=1, model__penalty=l2, smote__k_neighbors=5, smote__m_neighbors=6 \n",
      "[CV]  model__C=1, model__penalty=l2, smote__k_neighbors=5, smote__m_neighbors=6, total= 3.6min\n",
      "[CV] model__C=1, model__penalty=l2, smote__k_neighbors=5, smote__m_neighbors=6 \n",
      "[CV]  model__C=1, model__penalty=l2, smote__k_neighbors=5, smote__m_neighbors=6, total= 3.3min\n",
      "[CV] model__C=1, model__penalty=l2, smote__k_neighbors=5, smote__m_neighbors=6 \n",
      "[CV]  model__C=1, model__penalty=l2, smote__k_neighbors=5, smote__m_neighbors=6, total= 3.3min\n",
      "[CV] model__C=1, model__penalty=l2, smote__k_neighbors=3, smote__m_neighbors=12 \n",
      "[CV]  model__C=1, model__penalty=l2, smote__k_neighbors=5, smote__m_neighbors=6, total= 3.2min\n",
      "[CV] model__C=1, model__penalty=l2, smote__k_neighbors=3, smote__m_neighbors=12 \n",
      "[CV]  model__C=1, model__penalty=l2, smote__k_neighbors=5, smote__m_neighbors=6, total= 3.4min\n",
      "[CV] model__C=1, model__penalty=l2, smote__k_neighbors=3, smote__m_neighbors=12 \n",
      "[CV]  model__C=1, model__penalty=l2, smote__k_neighbors=3, smote__m_neighbors=12, total= 3.4min\n",
      "[CV] model__C=1, model__penalty=l2, smote__k_neighbors=3, smote__m_neighbors=12 \n",
      "[CV]  model__C=1, model__penalty=l2, smote__k_neighbors=3, smote__m_neighbors=12, total= 3.3min\n",
      "[CV] model__C=1, model__penalty=l2, smote__k_neighbors=3, smote__m_neighbors=12 \n",
      "[CV]  model__C=1, model__penalty=l2, smote__k_neighbors=3, smote__m_neighbors=12, total= 3.2min\n",
      "[CV] model__C=1, model__penalty=l2, smote__k_neighbors=3, smote__m_neighbors=10 \n",
      "[CV]  model__C=1, model__penalty=l2, smote__k_neighbors=3, smote__m_neighbors=12, total= 3.1min\n",
      "[CV] model__C=1, model__penalty=l2, smote__k_neighbors=3, smote__m_neighbors=10 \n",
      "[CV]  model__C=1, model__penalty=l2, smote__k_neighbors=3, smote__m_neighbors=12, total= 3.4min\n",
      "[CV] model__C=1, model__penalty=l2, smote__k_neighbors=3, smote__m_neighbors=10 \n",
      "[CV]  model__C=1, model__penalty=l2, smote__k_neighbors=3, smote__m_neighbors=10, total= 3.3min\n",
      "[CV] model__C=1, model__penalty=l2, smote__k_neighbors=3, smote__m_neighbors=10 \n",
      "[CV]  model__C=1, model__penalty=l2, smote__k_neighbors=3, smote__m_neighbors=10, total= 3.3min\n",
      "[CV] model__C=1, model__penalty=l2, smote__k_neighbors=3, smote__m_neighbors=10 \n",
      "[CV]  model__C=1, model__penalty=l2, smote__k_neighbors=3, smote__m_neighbors=10, total= 3.2min\n"
     ]
    },
    {
     "name": "stdout",
     "output_type": "stream",
     "text": [
      "[CV] model__C=1, model__penalty=l2, smote__k_neighbors=3, smote__m_neighbors=6 \n",
      "[CV]  model__C=1, model__penalty=l2, smote__k_neighbors=3, smote__m_neighbors=10, total= 3.1min\n",
      "[CV] model__C=1, model__penalty=l2, smote__k_neighbors=3, smote__m_neighbors=6 \n",
      "[CV]  model__C=1, model__penalty=l2, smote__k_neighbors=3, smote__m_neighbors=10, total= 3.4min\n",
      "[CV] model__C=1, model__penalty=l2, smote__k_neighbors=3, smote__m_neighbors=6 \n",
      "[CV]  model__C=1, model__penalty=l2, smote__k_neighbors=3, smote__m_neighbors=6, total= 3.3min\n",
      "[CV] model__C=1, model__penalty=l2, smote__k_neighbors=3, smote__m_neighbors=6 \n",
      "[CV]  model__C=1, model__penalty=l2, smote__k_neighbors=3, smote__m_neighbors=6, total= 3.3min\n",
      "[CV] model__C=1, model__penalty=l2, smote__k_neighbors=3, smote__m_neighbors=6 \n",
      "[CV]  model__C=1, model__penalty=l2, smote__k_neighbors=3, smote__m_neighbors=6, total= 3.3min\n",
      "[CV] model__C=1, model__penalty=l2, smote__k_neighbors=1, smote__m_neighbors=12 \n",
      "[CV]  model__C=1, model__penalty=l2, smote__k_neighbors=3, smote__m_neighbors=6, total= 3.1min\n",
      "[CV] model__C=1, model__penalty=l2, smote__k_neighbors=1, smote__m_neighbors=12 \n",
      "[CV]  model__C=1, model__penalty=l2, smote__k_neighbors=3, smote__m_neighbors=6, total= 3.4min\n",
      "[CV] model__C=1, model__penalty=l2, smote__k_neighbors=1, smote__m_neighbors=12 \n",
      "[CV]  model__C=1, model__penalty=l2, smote__k_neighbors=1, smote__m_neighbors=12, total= 3.2min\n",
      "[CV] model__C=1, model__penalty=l2, smote__k_neighbors=1, smote__m_neighbors=12 \n",
      "[CV]  model__C=1, model__penalty=l2, smote__k_neighbors=1, smote__m_neighbors=12, total= 3.4min\n",
      "[CV] model__C=1, model__penalty=l2, smote__k_neighbors=1, smote__m_neighbors=12 \n",
      "[CV]  model__C=1, model__penalty=l2, smote__k_neighbors=1, smote__m_neighbors=12, total= 3.3min\n",
      "[CV] model__C=1, model__penalty=l2, smote__k_neighbors=1, smote__m_neighbors=10 \n",
      "[CV]  model__C=1, model__penalty=l2, smote__k_neighbors=1, smote__m_neighbors=12, total= 3.0min\n",
      "[CV] model__C=1, model__penalty=l2, smote__k_neighbors=1, smote__m_neighbors=10 \n",
      "[CV]  model__C=1, model__penalty=l2, smote__k_neighbors=1, smote__m_neighbors=12, total= 3.2min\n",
      "[CV] model__C=1, model__penalty=l2, smote__k_neighbors=1, smote__m_neighbors=10 \n",
      "[CV]  model__C=1, model__penalty=l2, smote__k_neighbors=1, smote__m_neighbors=10, total= 3.1min\n",
      "[CV] model__C=1, model__penalty=l2, smote__k_neighbors=1, smote__m_neighbors=10 \n",
      "[CV]  model__C=1, model__penalty=l2, smote__k_neighbors=1, smote__m_neighbors=10, total= 3.3min\n",
      "[CV] model__C=1, model__penalty=l2, smote__k_neighbors=1, smote__m_neighbors=10 \n",
      "[CV]  model__C=1, model__penalty=l2, smote__k_neighbors=1, smote__m_neighbors=10, total= 3.4min\n",
      "[CV] model__C=1, model__penalty=l2, smote__k_neighbors=1, smote__m_neighbors=6 \n",
      "[CV]  model__C=1, model__penalty=l2, smote__k_neighbors=1, smote__m_neighbors=10, total= 3.1min\n",
      "[CV] model__C=1, model__penalty=l2, smote__k_neighbors=1, smote__m_neighbors=6 \n",
      "[CV]  model__C=1, model__penalty=l2, smote__k_neighbors=1, smote__m_neighbors=10, total= 3.3min\n",
      "[CV] model__C=1, model__penalty=l2, smote__k_neighbors=1, smote__m_neighbors=6 \n",
      "[CV]  model__C=1, model__penalty=l2, smote__k_neighbors=1, smote__m_neighbors=6, total= 3.2min\n",
      "[CV] model__C=1, model__penalty=l2, smote__k_neighbors=1, smote__m_neighbors=6 \n",
      "[CV]  model__C=1, model__penalty=l2, smote__k_neighbors=1, smote__m_neighbors=6, total= 3.3min\n",
      "[CV] model__C=1, model__penalty=l2, smote__k_neighbors=1, smote__m_neighbors=6 \n",
      "[CV]  model__C=1, model__penalty=l2, smote__k_neighbors=1, smote__m_neighbors=6, total= 3.3min\n",
      "[CV] model__C=5, model__penalty=l2, smote__k_neighbors=5, smote__m_neighbors=12 \n",
      "[CV]  model__C=1, model__penalty=l2, smote__k_neighbors=1, smote__m_neighbors=6, total= 3.1min\n",
      "[CV] model__C=5, model__penalty=l2, smote__k_neighbors=5, smote__m_neighbors=12 \n",
      "[CV]  model__C=1, model__penalty=l2, smote__k_neighbors=1, smote__m_neighbors=6, total= 3.3min\n",
      "[CV] model__C=5, model__penalty=l2, smote__k_neighbors=5, smote__m_neighbors=12 \n",
      "[CV]  model__C=5, model__penalty=l2, smote__k_neighbors=5, smote__m_neighbors=12, total= 5.2min\n",
      "[CV] model__C=5, model__penalty=l2, smote__k_neighbors=5, smote__m_neighbors=12 \n",
      "[CV]  model__C=5, model__penalty=l2, smote__k_neighbors=5, smote__m_neighbors=12, total= 5.2min\n",
      "[CV] model__C=5, model__penalty=l2, smote__k_neighbors=5, smote__m_neighbors=12 \n",
      "[CV]  model__C=5, model__penalty=l2, smote__k_neighbors=5, smote__m_neighbors=12, total= 5.3min\n",
      "[CV] model__C=5, model__penalty=l2, smote__k_neighbors=5, smote__m_neighbors=10 \n",
      "[CV]  model__C=5, model__penalty=l2, smote__k_neighbors=5, smote__m_neighbors=12, total= 4.4min\n",
      "[CV] model__C=5, model__penalty=l2, smote__k_neighbors=5, smote__m_neighbors=10 \n",
      "[CV]  model__C=5, model__penalty=l2, smote__k_neighbors=5, smote__m_neighbors=12, total= 5.3min\n",
      "[CV] model__C=5, model__penalty=l2, smote__k_neighbors=5, smote__m_neighbors=10 \n",
      "[CV]  model__C=5, model__penalty=l2, smote__k_neighbors=5, smote__m_neighbors=10, total= 5.3min\n",
      "[CV] model__C=5, model__penalty=l2, smote__k_neighbors=5, smote__m_neighbors=10 \n",
      "[CV]  model__C=5, model__penalty=l2, smote__k_neighbors=5, smote__m_neighbors=10, total= 5.3min\n",
      "[CV] model__C=5, model__penalty=l2, smote__k_neighbors=5, smote__m_neighbors=10 \n",
      "[CV]  model__C=5, model__penalty=l2, smote__k_neighbors=5, smote__m_neighbors=10, total= 5.5min\n",
      "[CV] model__C=5, model__penalty=l2, smote__k_neighbors=5, smote__m_neighbors=6 \n",
      "[CV]  model__C=5, model__penalty=l2, smote__k_neighbors=5, smote__m_neighbors=10, total= 4.6min\n",
      "[CV] model__C=5, model__penalty=l2, smote__k_neighbors=5, smote__m_neighbors=6 \n",
      "[CV]  model__C=5, model__penalty=l2, smote__k_neighbors=5, smote__m_neighbors=10, total= 5.2min\n",
      "[CV] model__C=5, model__penalty=l2, smote__k_neighbors=5, smote__m_neighbors=6 \n",
      "[CV]  model__C=5, model__penalty=l2, smote__k_neighbors=5, smote__m_neighbors=6, total= 5.4min\n",
      "[CV]  model__C=5, model__penalty=l2, smote__k_neighbors=5, smote__m_neighbors=6, total= 5.5min\n",
      "[CV] model__C=5, model__penalty=l2, smote__k_neighbors=5, smote__m_neighbors=6 \n",
      "[CV] model__C=5, model__penalty=l2, smote__k_neighbors=5, smote__m_neighbors=6 \n",
      "[CV]  model__C=5, model__penalty=l2, smote__k_neighbors=5, smote__m_neighbors=6, total= 5.3min\n",
      "[CV] model__C=5, model__penalty=l2, smote__k_neighbors=3, smote__m_neighbors=12 \n",
      "[CV]  model__C=5, model__penalty=l2, smote__k_neighbors=5, smote__m_neighbors=6, total= 4.8min\n",
      "[CV] model__C=5, model__penalty=l2, smote__k_neighbors=3, smote__m_neighbors=12 \n",
      "[CV]  model__C=5, model__penalty=l2, smote__k_neighbors=5, smote__m_neighbors=6, total= 5.5min\n",
      "[CV] model__C=5, model__penalty=l2, smote__k_neighbors=3, smote__m_neighbors=12 \n",
      "[CV]  model__C=5, model__penalty=l2, smote__k_neighbors=3, smote__m_neighbors=12, total= 5.8min\n",
      "[CV] model__C=5, model__penalty=l2, smote__k_neighbors=3, smote__m_neighbors=12 \n",
      "[CV]  model__C=5, model__penalty=l2, smote__k_neighbors=3, smote__m_neighbors=12, total= 4.5min\n",
      "[CV] model__C=5, model__penalty=l2, smote__k_neighbors=3, smote__m_neighbors=12 \n",
      "[CV]  model__C=5, model__penalty=l2, smote__k_neighbors=3, smote__m_neighbors=12, total= 5.4min\n",
      "[CV] model__C=5, model__penalty=l2, smote__k_neighbors=3, smote__m_neighbors=10 \n",
      "[CV]  model__C=5, model__penalty=l2, smote__k_neighbors=3, smote__m_neighbors=12, total= 4.3min\n",
      "[CV] model__C=5, model__penalty=l2, smote__k_neighbors=3, smote__m_neighbors=10 \n",
      "[CV]  model__C=5, model__penalty=l2, smote__k_neighbors=3, smote__m_neighbors=12, total= 5.2min\n",
      "[CV] model__C=5, model__penalty=l2, smote__k_neighbors=3, smote__m_neighbors=10 \n",
      "[CV]  model__C=5, model__penalty=l2, smote__k_neighbors=3, smote__m_neighbors=10, total= 5.7min\n",
      "[CV] model__C=5, model__penalty=l2, smote__k_neighbors=3, smote__m_neighbors=10 \n",
      "[CV]  model__C=5, model__penalty=l2, smote__k_neighbors=3, smote__m_neighbors=10, total= 4.5min\n",
      "[CV] model__C=5, model__penalty=l2, smote__k_neighbors=3, smote__m_neighbors=10 \n",
      "[CV]  model__C=5, model__penalty=l2, smote__k_neighbors=3, smote__m_neighbors=10, total= 5.3min\n",
      "[CV] model__C=5, model__penalty=l2, smote__k_neighbors=3, smote__m_neighbors=6 \n",
      "[CV]  model__C=5, model__penalty=l2, smote__k_neighbors=3, smote__m_neighbors=10, total= 4.5min\n",
      "[CV] model__C=5, model__penalty=l2, smote__k_neighbors=3, smote__m_neighbors=6 \n",
      "[CV]  model__C=5, model__penalty=l2, smote__k_neighbors=3, smote__m_neighbors=10, total= 5.4min\n"
     ]
    },
    {
     "name": "stdout",
     "output_type": "stream",
     "text": [
      "[CV] model__C=5, model__penalty=l2, smote__k_neighbors=3, smote__m_neighbors=6 \n",
      "[CV]  model__C=5, model__penalty=l2, smote__k_neighbors=3, smote__m_neighbors=6, total= 4.6min\n",
      "[CV] model__C=5, model__penalty=l2, smote__k_neighbors=3, smote__m_neighbors=6 \n",
      "[CV]  model__C=5, model__penalty=l2, smote__k_neighbors=3, smote__m_neighbors=6, total= 5.8min\n",
      "[CV] model__C=5, model__penalty=l2, smote__k_neighbors=3, smote__m_neighbors=6 \n",
      "[CV]  model__C=5, model__penalty=l2, smote__k_neighbors=3, smote__m_neighbors=6, total= 5.3min\n",
      "[CV] model__C=5, model__penalty=l2, smote__k_neighbors=1, smote__m_neighbors=12 \n",
      "[CV]  model__C=5, model__penalty=l2, smote__k_neighbors=3, smote__m_neighbors=6, total= 4.6min\n",
      "[CV] model__C=5, model__penalty=l2, smote__k_neighbors=1, smote__m_neighbors=12 \n",
      "[CV]  model__C=5, model__penalty=l2, smote__k_neighbors=3, smote__m_neighbors=6, total= 5.5min\n",
      "[CV] model__C=5, model__penalty=l2, smote__k_neighbors=1, smote__m_neighbors=12 \n",
      "[CV]  model__C=5, model__penalty=l2, smote__k_neighbors=1, smote__m_neighbors=12, total= 5.0min\n",
      "[CV] model__C=5, model__penalty=l2, smote__k_neighbors=1, smote__m_neighbors=12 \n",
      "[CV]  model__C=5, model__penalty=l2, smote__k_neighbors=1, smote__m_neighbors=12, total= 3.6min\n",
      "[CV] model__C=5, model__penalty=l2, smote__k_neighbors=1, smote__m_neighbors=12 \n",
      "[CV]  model__C=5, model__penalty=l2, smote__k_neighbors=1, smote__m_neighbors=12, total= 4.9min\n",
      "[CV] model__C=5, model__penalty=l2, smote__k_neighbors=1, smote__m_neighbors=10 \n",
      "[CV]  model__C=5, model__penalty=l2, smote__k_neighbors=1, smote__m_neighbors=12, total= 4.2min\n",
      "[CV] model__C=5, model__penalty=l2, smote__k_neighbors=1, smote__m_neighbors=10 \n",
      "[CV]  model__C=5, model__penalty=l2, smote__k_neighbors=1, smote__m_neighbors=12, total= 5.1min\n",
      "[CV] model__C=5, model__penalty=l2, smote__k_neighbors=1, smote__m_neighbors=10 \n",
      "[CV]  model__C=5, model__penalty=l2, smote__k_neighbors=1, smote__m_neighbors=10, total= 3.8min\n",
      "[CV] model__C=5, model__penalty=l2, smote__k_neighbors=1, smote__m_neighbors=10 \n",
      "[CV]  model__C=5, model__penalty=l2, smote__k_neighbors=1, smote__m_neighbors=10, total= 5.2min\n",
      "[CV] model__C=5, model__penalty=l2, smote__k_neighbors=1, smote__m_neighbors=10 \n",
      "[CV]  model__C=5, model__penalty=l2, smote__k_neighbors=1, smote__m_neighbors=10, total= 5.0min\n",
      "[CV] model__C=5, model__penalty=l2, smote__k_neighbors=1, smote__m_neighbors=6 \n",
      "[CV]  model__C=5, model__penalty=l2, smote__k_neighbors=1, smote__m_neighbors=10, total= 4.2min\n",
      "[CV] model__C=5, model__penalty=l2, smote__k_neighbors=1, smote__m_neighbors=6 \n",
      "[CV]  model__C=5, model__penalty=l2, smote__k_neighbors=1, smote__m_neighbors=10, total= 5.1min\n",
      "[CV] model__C=5, model__penalty=l2, smote__k_neighbors=1, smote__m_neighbors=6 \n",
      "[CV]  model__C=5, model__penalty=l2, smote__k_neighbors=1, smote__m_neighbors=6, total= 3.7min\n",
      "[CV] model__C=5, model__penalty=l2, smote__k_neighbors=1, smote__m_neighbors=6 \n",
      "[CV]  model__C=5, model__penalty=l2, smote__k_neighbors=1, smote__m_neighbors=6, total= 5.0min\n",
      "[CV] model__C=5, model__penalty=l2, smote__k_neighbors=1, smote__m_neighbors=6 \n",
      "[CV]  model__C=5, model__penalty=l2, smote__k_neighbors=1, smote__m_neighbors=6, total= 4.9min\n",
      "[CV] model__C=10, model__penalty=l2, smote__k_neighbors=5, smote__m_neighbors=12 \n",
      "[CV]  model__C=5, model__penalty=l2, smote__k_neighbors=1, smote__m_neighbors=6, total= 4.3min\n",
      "[CV] model__C=10, model__penalty=l2, smote__k_neighbors=5, smote__m_neighbors=12 \n",
      "[CV]  model__C=5, model__penalty=l2, smote__k_neighbors=1, smote__m_neighbors=6, total= 5.1min\n",
      "[CV] model__C=10, model__penalty=l2, smote__k_neighbors=5, smote__m_neighbors=12 \n",
      "[CV]  model__C=10, model__penalty=l2, smote__k_neighbors=5, smote__m_neighbors=12, total= 4.5min\n",
      "[CV] model__C=10, model__penalty=l2, smote__k_neighbors=5, smote__m_neighbors=12 \n",
      "[CV]  model__C=10, model__penalty=l2, smote__k_neighbors=5, smote__m_neighbors=12, total= 6.3min\n",
      "[CV] model__C=10, model__penalty=l2, smote__k_neighbors=5, smote__m_neighbors=12 \n",
      "[CV]  model__C=10, model__penalty=l2, smote__k_neighbors=5, smote__m_neighbors=12, total= 5.4min\n",
      "[CV] model__C=10, model__penalty=l2, smote__k_neighbors=5, smote__m_neighbors=10 \n",
      "[CV]  model__C=10, model__penalty=l2, smote__k_neighbors=5, smote__m_neighbors=12, total= 4.6min\n",
      "[CV] model__C=10, model__penalty=l2, smote__k_neighbors=5, smote__m_neighbors=10 \n",
      "[CV]  model__C=10, model__penalty=l2, smote__k_neighbors=5, smote__m_neighbors=12, total= 5.8min\n",
      "[CV] model__C=10, model__penalty=l2, smote__k_neighbors=5, smote__m_neighbors=10 \n",
      "[CV]  model__C=10, model__penalty=l2, smote__k_neighbors=5, smote__m_neighbors=10, total= 6.1min\n",
      "[CV] model__C=10, model__penalty=l2, smote__k_neighbors=5, smote__m_neighbors=10 \n",
      "[CV]  model__C=10, model__penalty=l2, smote__k_neighbors=5, smote__m_neighbors=10, total= 4.3min\n",
      "[CV] model__C=10, model__penalty=l2, smote__k_neighbors=5, smote__m_neighbors=10 \n",
      "[CV]  model__C=10, model__penalty=l2, smote__k_neighbors=5, smote__m_neighbors=10, total= 5.4min\n",
      "[CV] model__C=10, model__penalty=l2, smote__k_neighbors=5, smote__m_neighbors=6 \n",
      "[CV]  model__C=10, model__penalty=l2, smote__k_neighbors=5, smote__m_neighbors=10, total= 4.4min\n",
      "[CV] model__C=10, model__penalty=l2, smote__k_neighbors=5, smote__m_neighbors=6 \n",
      "[CV]  model__C=10, model__penalty=l2, smote__k_neighbors=5, smote__m_neighbors=10, total= 5.7min\n",
      "[CV] model__C=10, model__penalty=l2, smote__k_neighbors=5, smote__m_neighbors=6 \n",
      "[CV]  model__C=10, model__penalty=l2, smote__k_neighbors=5, smote__m_neighbors=6, total= 4.5min\n",
      "[CV] model__C=10, model__penalty=l2, smote__k_neighbors=5, smote__m_neighbors=6 \n",
      "[CV]  model__C=10, model__penalty=l2, smote__k_neighbors=5, smote__m_neighbors=6, total= 6.3min\n",
      "[CV] model__C=10, model__penalty=l2, smote__k_neighbors=5, smote__m_neighbors=6 \n",
      "[CV]  model__C=10, model__penalty=l2, smote__k_neighbors=5, smote__m_neighbors=6, total= 5.5min\n",
      "[CV] model__C=10, model__penalty=l2, smote__k_neighbors=3, smote__m_neighbors=12 \n",
      "[CV]  model__C=10, model__penalty=l2, smote__k_neighbors=5, smote__m_neighbors=6, total= 5.0min\n",
      "[CV] model__C=10, model__penalty=l2, smote__k_neighbors=3, smote__m_neighbors=12 \n",
      "[CV]  model__C=10, model__penalty=l2, smote__k_neighbors=5, smote__m_neighbors=6, total= 6.0min\n",
      "[CV] model__C=10, model__penalty=l2, smote__k_neighbors=3, smote__m_neighbors=12 \n",
      "[CV]  model__C=10, model__penalty=l2, smote__k_neighbors=3, smote__m_neighbors=12, total= 5.6min\n",
      "[CV] model__C=10, model__penalty=l2, smote__k_neighbors=3, smote__m_neighbors=12 \n",
      "[CV]  model__C=10, model__penalty=l2, smote__k_neighbors=3, smote__m_neighbors=12, total= 4.4min\n",
      "[CV] model__C=10, model__penalty=l2, smote__k_neighbors=3, smote__m_neighbors=12 \n",
      "[CV]  model__C=10, model__penalty=l2, smote__k_neighbors=3, smote__m_neighbors=12, total= 5.5min\n",
      "[CV] model__C=10, model__penalty=l2, smote__k_neighbors=3, smote__m_neighbors=10 \n",
      "[CV]  model__C=10, model__penalty=l2, smote__k_neighbors=3, smote__m_neighbors=12, total= 4.7min\n",
      "[CV] model__C=10, model__penalty=l2, smote__k_neighbors=3, smote__m_neighbors=10 \n",
      "[CV]  model__C=10, model__penalty=l2, smote__k_neighbors=3, smote__m_neighbors=12, total= 5.8min\n",
      "[CV] model__C=10, model__penalty=l2, smote__k_neighbors=3, smote__m_neighbors=10 \n",
      "[CV]  model__C=10, model__penalty=l2, smote__k_neighbors=3, smote__m_neighbors=10, total= 5.9min\n",
      "[CV] model__C=10, model__penalty=l2, smote__k_neighbors=3, smote__m_neighbors=10 \n",
      "[CV]  model__C=10, model__penalty=l2, smote__k_neighbors=3, smote__m_neighbors=10, total= 4.5min\n",
      "[CV] model__C=10, model__penalty=l2, smote__k_neighbors=3, smote__m_neighbors=10 \n",
      "[CV]  model__C=10, model__penalty=l2, smote__k_neighbors=3, smote__m_neighbors=10, total= 5.4min\n",
      "[CV] model__C=10, model__penalty=l2, smote__k_neighbors=3, smote__m_neighbors=6 \n",
      "[CV]  model__C=10, model__penalty=l2, smote__k_neighbors=3, smote__m_neighbors=10, total= 5.0min\n",
      "[CV] model__C=10, model__penalty=l2, smote__k_neighbors=3, smote__m_neighbors=6 \n",
      "[CV]  model__C=10, model__penalty=l2, smote__k_neighbors=3, smote__m_neighbors=10, total= 6.0min\n",
      "[CV] model__C=10, model__penalty=l2, smote__k_neighbors=3, smote__m_neighbors=6 \n",
      "[CV]  model__C=10, model__penalty=l2, smote__k_neighbors=3, smote__m_neighbors=6, total= 6.0min\n",
      "[CV] model__C=10, model__penalty=l2, smote__k_neighbors=3, smote__m_neighbors=6 \n"
     ]
    },
    {
     "name": "stdout",
     "output_type": "stream",
     "text": [
      "[CV]  model__C=10, model__penalty=l2, smote__k_neighbors=3, smote__m_neighbors=6, total= 4.6min\n",
      "[CV] model__C=10, model__penalty=l2, smote__k_neighbors=3, smote__m_neighbors=6 \n",
      "[CV]  model__C=10, model__penalty=l2, smote__k_neighbors=3, smote__m_neighbors=6, total= 5.7min\n",
      "[CV] model__C=10, model__penalty=l2, smote__k_neighbors=1, smote__m_neighbors=12 \n",
      "[CV]  model__C=10, model__penalty=l2, smote__k_neighbors=3, smote__m_neighbors=6, total= 4.7min\n",
      "[CV] model__C=10, model__penalty=l2, smote__k_neighbors=1, smote__m_neighbors=12 \n",
      "[CV]  model__C=10, model__penalty=l2, smote__k_neighbors=3, smote__m_neighbors=6, total= 6.2min\n",
      "[CV] model__C=10, model__penalty=l2, smote__k_neighbors=1, smote__m_neighbors=12 \n",
      "[CV]  model__C=10, model__penalty=l2, smote__k_neighbors=1, smote__m_neighbors=12, total= 5.2min\n",
      "[CV] model__C=10, model__penalty=l2, smote__k_neighbors=1, smote__m_neighbors=12 \n",
      "[CV]  model__C=10, model__penalty=l2, smote__k_neighbors=1, smote__m_neighbors=12, total= 6.0min\n",
      "[CV] model__C=10, model__penalty=l2, smote__k_neighbors=1, smote__m_neighbors=12 \n",
      "[CV]  model__C=10, model__penalty=l2, smote__k_neighbors=1, smote__m_neighbors=12, total= 4.9min\n",
      "[CV] model__C=10, model__penalty=l2, smote__k_neighbors=1, smote__m_neighbors=10 \n",
      "[CV]  model__C=10, model__penalty=l2, smote__k_neighbors=1, smote__m_neighbors=12, total= 4.3min\n",
      "[CV] model__C=10, model__penalty=l2, smote__k_neighbors=1, smote__m_neighbors=10 \n",
      "[CV]  model__C=10, model__penalty=l2, smote__k_neighbors=1, smote__m_neighbors=12, total= 4.6min\n",
      "[CV] model__C=10, model__penalty=l2, smote__k_neighbors=1, smote__m_neighbors=10 \n",
      "[CV]  model__C=10, model__penalty=l2, smote__k_neighbors=1, smote__m_neighbors=10, total= 4.6min\n",
      "[CV] model__C=10, model__penalty=l2, smote__k_neighbors=1, smote__m_neighbors=10 \n",
      "[CV]  model__C=10, model__penalty=l2, smote__k_neighbors=1, smote__m_neighbors=10, total= 5.4min\n",
      "[CV] model__C=10, model__penalty=l2, smote__k_neighbors=1, smote__m_neighbors=10 \n",
      "[CV]  model__C=10, model__penalty=l2, smote__k_neighbors=1, smote__m_neighbors=10, total= 4.8min\n",
      "[CV] model__C=10, model__penalty=l2, smote__k_neighbors=1, smote__m_neighbors=6 \n",
      "[CV]  model__C=10, model__penalty=l2, smote__k_neighbors=1, smote__m_neighbors=10, total= 4.2min\n",
      "[CV] model__C=10, model__penalty=l2, smote__k_neighbors=1, smote__m_neighbors=6 \n",
      "[CV]  model__C=10, model__penalty=l2, smote__k_neighbors=1, smote__m_neighbors=10, total= 4.5min\n",
      "[CV] model__C=10, model__penalty=l2, smote__k_neighbors=1, smote__m_neighbors=6 \n",
      "[CV]  model__C=10, model__penalty=l2, smote__k_neighbors=1, smote__m_neighbors=6, total= 4.6min\n",
      "[CV] model__C=10, model__penalty=l2, smote__k_neighbors=1, smote__m_neighbors=6 \n",
      "[CV]  model__C=10, model__penalty=l2, smote__k_neighbors=1, smote__m_neighbors=6, total= 5.5min\n",
      "[CV] model__C=10, model__penalty=l2, smote__k_neighbors=1, smote__m_neighbors=6 \n",
      "[CV]  model__C=10, model__penalty=l2, smote__k_neighbors=1, smote__m_neighbors=6, total= 4.7min\n",
      "[CV]  model__C=10, model__penalty=l2, smote__k_neighbors=1, smote__m_neighbors=6, total= 3.6min\n",
      "[CV]  model__C=10, model__penalty=l2, smote__k_neighbors=1, smote__m_neighbors=6, total= 3.4min\n"
     ]
    },
    {
     "name": "stderr",
     "output_type": "stream",
     "text": [
      "[Parallel(n_jobs=3)]: Done 360 out of 360 | elapsed: 346.3min finished\n"
     ]
    },
    {
     "name": "stdout",
     "output_type": "stream",
     "text": [
      "CPU times: user 19min 15s, sys: 5min 49s, total: 25min 4s\n",
      "Wall time: 5h 50min 28s\n"
     ]
    }
   ],
   "source": [
    "%%time\n",
    "from imblearn.over_sampling import SMOTE\n",
    "from imblearn.pipeline import Pipeline as pl\n",
    "# Steps for pipeline\n",
    "steps = [(\"smote\", SMOTE(random_state=30, kind='regular')),\n",
    "         (\"scaler\", MinMaxScaler(feature_range=(0,1))),\n",
    "         (\"model\", LogisticRegression(random_state=40))]\n",
    "pipe = pl(steps)\n",
    "\n",
    "# Parameters\n",
    "param_grid = dict(model__C = [0.001, 0.01, 0.05, 0.1, 0.5, 1, 5, 10],\n",
    "                  model__penalty = ['l2'],\n",
    "                  smote__k_neighbors = [5, 3, 1],\n",
    "                  smote__m_neighbors = [12, 10, 6]\n",
    "                  )\n",
    "# For CV in grid search\n",
    "cv = StratifiedShuffleSplit(n_splits = 5, test_size = 0.2, random_state = 20)\n",
    "\n",
    "# Setting up the grid search\n",
    "LRsmote = GridSearchCV(pipe, param_grid = param_grid, \n",
    "                           verbose = 2,\n",
    "                           cv = cv,\n",
    "                          n_jobs=3,\n",
    "                          scoring='average_precision',\n",
    "                          iid=False)\n",
    "# Training using CV\n",
    "LRsmote.fit(X_train, y_train)"
   ]
  },
  {
   "cell_type": "code",
   "execution_count": 34,
   "metadata": {},
   "outputs": [
    {
     "data": {
      "text/plain": [
       "{'model__C': 10,\n",
       " 'model__penalty': 'l2',\n",
       " 'smote__k_neighbors': 5,\n",
       " 'smote__m_neighbors': 12}"
      ]
     },
     "execution_count": 34,
     "metadata": {},
     "output_type": "execute_result"
    }
   ],
   "source": [
    "LRsmote.best_params_"
   ]
  },
  {
   "cell_type": "code",
   "execution_count": 35,
   "metadata": {},
   "outputs": [
    {
     "data": {
      "text/plain": [
       "0.1551249906241764"
      ]
     },
     "execution_count": 35,
     "metadata": {},
     "output_type": "execute_result"
    }
   ],
   "source": [
    "LRsmote.best_score_"
   ]
  },
  {
   "cell_type": "code",
   "execution_count": 36,
   "metadata": {},
   "outputs": [
    {
     "name": "stderr",
     "output_type": "stream",
     "text": [
      "//anaconda/lib/python3.6/site-packages/sklearn/model_selection/_search.py:667: DeprecationWarning: The grid_scores_ attribute was deprecated in version 0.18 in favor of the more elaborate cv_results_ attribute. The grid_scores_ attribute will not be available from 0.20\n",
      "  DeprecationWarning)\n"
     ]
    },
    {
     "data": {
      "text/plain": [
       "[mean: 0.12995, std: 0.00471, params: {'model__C': 0.001, 'model__penalty': 'l2', 'smote__k_neighbors': 5, 'smote__m_neighbors': 12},\n",
       " mean: 0.12995, std: 0.00471, params: {'model__C': 0.001, 'model__penalty': 'l2', 'smote__k_neighbors': 5, 'smote__m_neighbors': 10},\n",
       " mean: 0.12995, std: 0.00471, params: {'model__C': 0.001, 'model__penalty': 'l2', 'smote__k_neighbors': 5, 'smote__m_neighbors': 6},\n",
       " mean: 0.12977, std: 0.00472, params: {'model__C': 0.001, 'model__penalty': 'l2', 'smote__k_neighbors': 3, 'smote__m_neighbors': 12},\n",
       " mean: 0.12977, std: 0.00472, params: {'model__C': 0.001, 'model__penalty': 'l2', 'smote__k_neighbors': 3, 'smote__m_neighbors': 10},\n",
       " mean: 0.12977, std: 0.00472, params: {'model__C': 0.001, 'model__penalty': 'l2', 'smote__k_neighbors': 3, 'smote__m_neighbors': 6},\n",
       " mean: 0.12778, std: 0.00473, params: {'model__C': 0.001, 'model__penalty': 'l2', 'smote__k_neighbors': 1, 'smote__m_neighbors': 12},\n",
       " mean: 0.12778, std: 0.00473, params: {'model__C': 0.001, 'model__penalty': 'l2', 'smote__k_neighbors': 1, 'smote__m_neighbors': 10},\n",
       " mean: 0.12778, std: 0.00473, params: {'model__C': 0.001, 'model__penalty': 'l2', 'smote__k_neighbors': 1, 'smote__m_neighbors': 6},\n",
       " mean: 0.14014, std: 0.00418, params: {'model__C': 0.01, 'model__penalty': 'l2', 'smote__k_neighbors': 5, 'smote__m_neighbors': 12},\n",
       " mean: 0.14014, std: 0.00418, params: {'model__C': 0.01, 'model__penalty': 'l2', 'smote__k_neighbors': 5, 'smote__m_neighbors': 10},\n",
       " mean: 0.14014, std: 0.00418, params: {'model__C': 0.01, 'model__penalty': 'l2', 'smote__k_neighbors': 5, 'smote__m_neighbors': 6},\n",
       " mean: 0.13956, std: 0.00398, params: {'model__C': 0.01, 'model__penalty': 'l2', 'smote__k_neighbors': 3, 'smote__m_neighbors': 12},\n",
       " mean: 0.13956, std: 0.00398, params: {'model__C': 0.01, 'model__penalty': 'l2', 'smote__k_neighbors': 3, 'smote__m_neighbors': 10},\n",
       " mean: 0.13956, std: 0.00398, params: {'model__C': 0.01, 'model__penalty': 'l2', 'smote__k_neighbors': 3, 'smote__m_neighbors': 6},\n",
       " mean: 0.13634, std: 0.00373, params: {'model__C': 0.01, 'model__penalty': 'l2', 'smote__k_neighbors': 1, 'smote__m_neighbors': 12},\n",
       " mean: 0.13634, std: 0.00373, params: {'model__C': 0.01, 'model__penalty': 'l2', 'smote__k_neighbors': 1, 'smote__m_neighbors': 10},\n",
       " mean: 0.13634, std: 0.00373, params: {'model__C': 0.01, 'model__penalty': 'l2', 'smote__k_neighbors': 1, 'smote__m_neighbors': 6},\n",
       " mean: 0.14871, std: 0.00517, params: {'model__C': 0.05, 'model__penalty': 'l2', 'smote__k_neighbors': 5, 'smote__m_neighbors': 12},\n",
       " mean: 0.14871, std: 0.00517, params: {'model__C': 0.05, 'model__penalty': 'l2', 'smote__k_neighbors': 5, 'smote__m_neighbors': 10},\n",
       " mean: 0.14871, std: 0.00517, params: {'model__C': 0.05, 'model__penalty': 'l2', 'smote__k_neighbors': 5, 'smote__m_neighbors': 6},\n",
       " mean: 0.14801, std: 0.00493, params: {'model__C': 0.05, 'model__penalty': 'l2', 'smote__k_neighbors': 3, 'smote__m_neighbors': 12},\n",
       " mean: 0.14801, std: 0.00493, params: {'model__C': 0.05, 'model__penalty': 'l2', 'smote__k_neighbors': 3, 'smote__m_neighbors': 10},\n",
       " mean: 0.14801, std: 0.00493, params: {'model__C': 0.05, 'model__penalty': 'l2', 'smote__k_neighbors': 3, 'smote__m_neighbors': 6},\n",
       " mean: 0.14429, std: 0.00470, params: {'model__C': 0.05, 'model__penalty': 'l2', 'smote__k_neighbors': 1, 'smote__m_neighbors': 12},\n",
       " mean: 0.14429, std: 0.00470, params: {'model__C': 0.05, 'model__penalty': 'l2', 'smote__k_neighbors': 1, 'smote__m_neighbors': 10},\n",
       " mean: 0.14429, std: 0.00470, params: {'model__C': 0.05, 'model__penalty': 'l2', 'smote__k_neighbors': 1, 'smote__m_neighbors': 6},\n",
       " mean: 0.15160, std: 0.00534, params: {'model__C': 0.1, 'model__penalty': 'l2', 'smote__k_neighbors': 5, 'smote__m_neighbors': 12},\n",
       " mean: 0.15160, std: 0.00534, params: {'model__C': 0.1, 'model__penalty': 'l2', 'smote__k_neighbors': 5, 'smote__m_neighbors': 10},\n",
       " mean: 0.15160, std: 0.00534, params: {'model__C': 0.1, 'model__penalty': 'l2', 'smote__k_neighbors': 5, 'smote__m_neighbors': 6},\n",
       " mean: 0.15090, std: 0.00507, params: {'model__C': 0.1, 'model__penalty': 'l2', 'smote__k_neighbors': 3, 'smote__m_neighbors': 12},\n",
       " mean: 0.15090, std: 0.00507, params: {'model__C': 0.1, 'model__penalty': 'l2', 'smote__k_neighbors': 3, 'smote__m_neighbors': 10},\n",
       " mean: 0.15090, std: 0.00507, params: {'model__C': 0.1, 'model__penalty': 'l2', 'smote__k_neighbors': 3, 'smote__m_neighbors': 6},\n",
       " mean: 0.14708, std: 0.00503, params: {'model__C': 0.1, 'model__penalty': 'l2', 'smote__k_neighbors': 1, 'smote__m_neighbors': 12},\n",
       " mean: 0.14708, std: 0.00503, params: {'model__C': 0.1, 'model__penalty': 'l2', 'smote__k_neighbors': 1, 'smote__m_neighbors': 10},\n",
       " mean: 0.14708, std: 0.00503, params: {'model__C': 0.1, 'model__penalty': 'l2', 'smote__k_neighbors': 1, 'smote__m_neighbors': 6},\n",
       " mean: 0.15469, std: 0.00516, params: {'model__C': 0.5, 'model__penalty': 'l2', 'smote__k_neighbors': 5, 'smote__m_neighbors': 12},\n",
       " mean: 0.15469, std: 0.00516, params: {'model__C': 0.5, 'model__penalty': 'l2', 'smote__k_neighbors': 5, 'smote__m_neighbors': 10},\n",
       " mean: 0.15469, std: 0.00516, params: {'model__C': 0.5, 'model__penalty': 'l2', 'smote__k_neighbors': 5, 'smote__m_neighbors': 6},\n",
       " mean: 0.15406, std: 0.00487, params: {'model__C': 0.5, 'model__penalty': 'l2', 'smote__k_neighbors': 3, 'smote__m_neighbors': 12},\n",
       " mean: 0.15406, std: 0.00487, params: {'model__C': 0.5, 'model__penalty': 'l2', 'smote__k_neighbors': 3, 'smote__m_neighbors': 10},\n",
       " mean: 0.15406, std: 0.00487, params: {'model__C': 0.5, 'model__penalty': 'l2', 'smote__k_neighbors': 3, 'smote__m_neighbors': 6},\n",
       " mean: 0.15051, std: 0.00498, params: {'model__C': 0.5, 'model__penalty': 'l2', 'smote__k_neighbors': 1, 'smote__m_neighbors': 12},\n",
       " mean: 0.15051, std: 0.00498, params: {'model__C': 0.5, 'model__penalty': 'l2', 'smote__k_neighbors': 1, 'smote__m_neighbors': 10},\n",
       " mean: 0.15051, std: 0.00498, params: {'model__C': 0.5, 'model__penalty': 'l2', 'smote__k_neighbors': 1, 'smote__m_neighbors': 6},\n",
       " mean: 0.15491, std: 0.00505, params: {'model__C': 1, 'model__penalty': 'l2', 'smote__k_neighbors': 5, 'smote__m_neighbors': 12},\n",
       " mean: 0.15491, std: 0.00505, params: {'model__C': 1, 'model__penalty': 'l2', 'smote__k_neighbors': 5, 'smote__m_neighbors': 10},\n",
       " mean: 0.15491, std: 0.00505, params: {'model__C': 1, 'model__penalty': 'l2', 'smote__k_neighbors': 5, 'smote__m_neighbors': 6},\n",
       " mean: 0.15438, std: 0.00479, params: {'model__C': 1, 'model__penalty': 'l2', 'smote__k_neighbors': 3, 'smote__m_neighbors': 12},\n",
       " mean: 0.15438, std: 0.00479, params: {'model__C': 1, 'model__penalty': 'l2', 'smote__k_neighbors': 3, 'smote__m_neighbors': 10},\n",
       " mean: 0.15438, std: 0.00479, params: {'model__C': 1, 'model__penalty': 'l2', 'smote__k_neighbors': 3, 'smote__m_neighbors': 6},\n",
       " mean: 0.15102, std: 0.00495, params: {'model__C': 1, 'model__penalty': 'l2', 'smote__k_neighbors': 1, 'smote__m_neighbors': 12},\n",
       " mean: 0.15102, std: 0.00495, params: {'model__C': 1, 'model__penalty': 'l2', 'smote__k_neighbors': 1, 'smote__m_neighbors': 10},\n",
       " mean: 0.15102, std: 0.00495, params: {'model__C': 1, 'model__penalty': 'l2', 'smote__k_neighbors': 1, 'smote__m_neighbors': 6},\n",
       " mean: 0.15509, std: 0.00506, params: {'model__C': 5, 'model__penalty': 'l2', 'smote__k_neighbors': 5, 'smote__m_neighbors': 12},\n",
       " mean: 0.15509, std: 0.00506, params: {'model__C': 5, 'model__penalty': 'l2', 'smote__k_neighbors': 5, 'smote__m_neighbors': 10},\n",
       " mean: 0.15509, std: 0.00506, params: {'model__C': 5, 'model__penalty': 'l2', 'smote__k_neighbors': 5, 'smote__m_neighbors': 6},\n",
       " mean: 0.15462, std: 0.00482, params: {'model__C': 5, 'model__penalty': 'l2', 'smote__k_neighbors': 3, 'smote__m_neighbors': 12},\n",
       " mean: 0.15462, std: 0.00482, params: {'model__C': 5, 'model__penalty': 'l2', 'smote__k_neighbors': 3, 'smote__m_neighbors': 10},\n",
       " mean: 0.15462, std: 0.00482, params: {'model__C': 5, 'model__penalty': 'l2', 'smote__k_neighbors': 3, 'smote__m_neighbors': 6},\n",
       " mean: 0.15144, std: 0.00495, params: {'model__C': 5, 'model__penalty': 'l2', 'smote__k_neighbors': 1, 'smote__m_neighbors': 12},\n",
       " mean: 0.15144, std: 0.00495, params: {'model__C': 5, 'model__penalty': 'l2', 'smote__k_neighbors': 1, 'smote__m_neighbors': 10},\n",
       " mean: 0.15144, std: 0.00495, params: {'model__C': 5, 'model__penalty': 'l2', 'smote__k_neighbors': 1, 'smote__m_neighbors': 6},\n",
       " mean: 0.15512, std: 0.00506, params: {'model__C': 10, 'model__penalty': 'l2', 'smote__k_neighbors': 5, 'smote__m_neighbors': 12},\n",
       " mean: 0.15512, std: 0.00506, params: {'model__C': 10, 'model__penalty': 'l2', 'smote__k_neighbors': 5, 'smote__m_neighbors': 10},\n",
       " mean: 0.15512, std: 0.00506, params: {'model__C': 10, 'model__penalty': 'l2', 'smote__k_neighbors': 5, 'smote__m_neighbors': 6},\n",
       " mean: 0.15465, std: 0.00479, params: {'model__C': 10, 'model__penalty': 'l2', 'smote__k_neighbors': 3, 'smote__m_neighbors': 12},\n",
       " mean: 0.15465, std: 0.00479, params: {'model__C': 10, 'model__penalty': 'l2', 'smote__k_neighbors': 3, 'smote__m_neighbors': 10},\n",
       " mean: 0.15465, std: 0.00479, params: {'model__C': 10, 'model__penalty': 'l2', 'smote__k_neighbors': 3, 'smote__m_neighbors': 6},\n",
       " mean: 0.15148, std: 0.00497, params: {'model__C': 10, 'model__penalty': 'l2', 'smote__k_neighbors': 1, 'smote__m_neighbors': 12},\n",
       " mean: 0.15148, std: 0.00497, params: {'model__C': 10, 'model__penalty': 'l2', 'smote__k_neighbors': 1, 'smote__m_neighbors': 10},\n",
       " mean: 0.15148, std: 0.00497, params: {'model__C': 10, 'model__penalty': 'l2', 'smote__k_neighbors': 1, 'smote__m_neighbors': 6}]"
      ]
     },
     "execution_count": 36,
     "metadata": {},
     "output_type": "execute_result"
    }
   ],
   "source": [
    "LRsmote.grid_scores_"
   ]
  },
  {
   "cell_type": "markdown",
   "metadata": {
    "collapsed": true
   },
   "source": [
    "Lets go ahead and pickle the LR models."
   ]
  },
  {
   "cell_type": "code",
   "execution_count": 37,
   "metadata": {
    "collapsed": true
   },
   "outputs": [],
   "source": [
    "import dill\n",
    "dill.dump(LRbal, open('LogisticRegression_bal.pkl', 'wb'))"
   ]
  },
  {
   "cell_type": "code",
   "execution_count": 38,
   "metadata": {
    "collapsed": true
   },
   "outputs": [],
   "source": [
    "dill.dump(LRsmote, open('LogisticRegression_smote.pkl', 'wb'))"
   ]
  },
  {
   "cell_type": "markdown",
   "metadata": {},
   "source": [
    "# Gaussian Naive Bayes (RUS)"
   ]
  },
  {
   "cell_type": "code",
   "execution_count": 22,
   "metadata": {},
   "outputs": [
    {
     "name": "stdout",
     "output_type": "stream",
     "text": [
      "Fitting 5 folds for each of 1 candidates, totalling 5 fits\n",
      "[CV] rus__ratio=auto .................................................\n",
      "[CV] rus__ratio=auto .................................................\n",
      "[CV] rus__ratio=auto .................................................\n",
      "[CV] .................................. rus__ratio=auto, total=  11.7s\n",
      "[CV] rus__ratio=auto .................................................\n",
      "[CV] .................................. rus__ratio=auto, total=  12.0s\n",
      "[CV] rus__ratio=auto .................................................\n",
      "[CV] .................................. rus__ratio=auto, total=  15.0s\n"
     ]
    },
    {
     "name": "stderr",
     "output_type": "stream",
     "text": [
      "[Parallel(n_jobs=3)]: Done   3 out of   5 | elapsed:   39.3s remaining:   26.2s\n"
     ]
    },
    {
     "name": "stdout",
     "output_type": "stream",
     "text": [
      "[CV] .................................. rus__ratio=auto, total=   7.3s\n",
      "[CV] .................................. rus__ratio=auto, total=   7.3s\n"
     ]
    },
    {
     "name": "stderr",
     "output_type": "stream",
     "text": [
      "[Parallel(n_jobs=3)]: Done   5 out of   5 | elapsed:   56.3s finished\n"
     ]
    },
    {
     "name": "stdout",
     "output_type": "stream",
     "text": [
      "CPU times: user 14.9 s, sys: 4.08 s, total: 19 s\n",
      "Wall time: 1min\n"
     ]
    }
   ],
   "source": [
    "%%time\n",
    "from imblearn.under_sampling import RandomUnderSampler\n",
    "from sklearn.preprocessing import MinMaxScaler\n",
    "from imblearn.pipeline import Pipeline as pl\n",
    "from sklearn.naive_bayes import GaussianNB\n",
    "from sklearn.model_selection import GridSearchCV\n",
    "\n",
    "# Steps for pipeline\n",
    "steps = [(\"rus\", RandomUnderSampler(random_state=30)),\n",
    "         (\"scaler\", MinMaxScaler(feature_range=(0,1))), # though not needed\n",
    "         (\"model\", GaussianNB())]\n",
    "\n",
    "pipe = pl(steps)\n",
    "\n",
    "# For CV in grid search\n",
    "cv = StratifiedShuffleSplit(n_splits = 5, test_size = 0.2, random_state = 20)\n",
    "\n",
    "param_grid = dict(rus__ratio=[\"auto\"])\n",
    "\n",
    "# Setting up the grid search\n",
    "GNBrus = GridSearchCV(pipe, param_grid = param_grid,\n",
    "                           verbose = 2,\n",
    "                           cv = cv,\n",
    "                          n_jobs=3,\n",
    "                          scoring='average_precision',\n",
    "                          iid=False)\n",
    "# Training using CV\n",
    "GNBrus.fit(X_train, y_train)"
   ]
  },
  {
   "cell_type": "code",
   "execution_count": 23,
   "metadata": {},
   "outputs": [
    {
     "data": {
      "text/plain": [
       "0.15750175534260644"
      ]
     },
     "execution_count": 23,
     "metadata": {},
     "output_type": "execute_result"
    }
   ],
   "source": [
    "GNBrus.best_score_"
   ]
  },
  {
   "cell_type": "code",
   "execution_count": 24,
   "metadata": {},
   "outputs": [
    {
     "name": "stderr",
     "output_type": "stream",
     "text": [
      "//anaconda/lib/python3.6/site-packages/sklearn/model_selection/_search.py:667: DeprecationWarning: The grid_scores_ attribute was deprecated in version 0.18 in favor of the more elaborate cv_results_ attribute. The grid_scores_ attribute will not be available from 0.20\n",
      "  DeprecationWarning)\n"
     ]
    },
    {
     "data": {
      "text/plain": [
       "[mean: 0.15750, std: 0.01162, params: {'rus__ratio': 'auto'}]"
      ]
     },
     "execution_count": 24,
     "metadata": {},
     "output_type": "execute_result"
    }
   ],
   "source": [
    "GNBrus.grid_scores_"
   ]
  },
  {
   "cell_type": "code",
   "execution_count": 27,
   "metadata": {},
   "outputs": [
    {
     "data": {
      "image/png": "[encoded data removed]",
      "text/plain": [
       "<matplotlib.figure.Figure at 0x13b3ce630>"
      ]
     },
     "metadata": {},
     "output_type": "display_data"
    }
   ],
   "source": [
    "plots(GNBrus.best_estimator_.steps[-1][1], X_test, y_test, outputfile='GNB_rus.pdf')"
   ]
  },
  {
   "cell_type": "markdown",
   "metadata": {
    "collapsed": true
   },
   "source": [
    "# Gaussian Naive Bayes (SMOTE)"
   ]
  },
  {
   "cell_type": "code",
   "execution_count": 31,
   "metadata": {
    "scrolled": false
   },
   "outputs": [
    {
     "name": "stdout",
     "output_type": "stream",
     "text": [
      "Fitting 5 folds for each of 27 candidates, totalling 135 fits\n",
      "[CV] smote__k_neighbors=5, smote__kind=regular, smote__m_neighbors=12 \n",
      "[CV] smote__k_neighbors=5, smote__kind=regular, smote__m_neighbors=12 \n",
      "[CV] smote__k_neighbors=5, smote__kind=regular, smote__m_neighbors=12 \n",
      "[CV]  smote__k_neighbors=5, smote__kind=regular, smote__m_neighbors=12, score=0.476170, total= 1.2min\n",
      "[CV] smote__k_neighbors=5, smote__kind=regular, smote__m_neighbors=12 \n",
      "[CV]  smote__k_neighbors=5, smote__kind=regular, smote__m_neighbors=12, score=0.478751, total= 1.2min\n",
      "[CV] smote__k_neighbors=5, smote__kind=regular, smote__m_neighbors=12 \n",
      "[CV]  smote__k_neighbors=5, smote__kind=regular, smote__m_neighbors=12, score=0.469110, total= 1.2min\n",
      "[CV] smote__k_neighbors=5, smote__kind=regular, smote__m_neighbors=10 \n",
      "[CV]  smote__k_neighbors=5, smote__kind=regular, smote__m_neighbors=12, score=0.479918, total= 1.3min\n",
      "[CV]  smote__k_neighbors=5, smote__kind=regular, smote__m_neighbors=12, score=0.489221, total= 1.3min\n",
      "[CV]  smote__k_neighbors=5, smote__kind=regular, smote__m_neighbors=10, score=0.476170, total= 1.2min\n",
      "[CV] smote__k_neighbors=5, smote__kind=regular, smote__m_neighbors=10 \n",
      "[CV] smote__k_neighbors=5, smote__kind=regular, smote__m_neighbors=10 \n",
      "[CV] smote__k_neighbors=5, smote__kind=regular, smote__m_neighbors=10 \n",
      "[CV]  smote__k_neighbors=5, smote__kind=regular, smote__m_neighbors=10, score=0.479918, total= 1.2min\n",
      "[CV]  smote__k_neighbors=5, smote__kind=regular, smote__m_neighbors=10, score=0.469110, total= 1.2min\n",
      "[CV] smote__k_neighbors=5, smote__kind=regular, smote__m_neighbors=10 \n",
      "[CV] smote__k_neighbors=5, smote__kind=regular, smote__m_neighbors=6 .\n",
      "[CV]  smote__k_neighbors=5, smote__kind=regular, smote__m_neighbors=10, score=0.478751, total= 1.2min\n",
      "[CV] smote__k_neighbors=5, smote__kind=regular, smote__m_neighbors=6 .\n",
      "[CV]  smote__k_neighbors=5, smote__kind=regular, smote__m_neighbors=6, score=0.476170, total= 1.3min\n",
      "[CV]  smote__k_neighbors=5, smote__kind=regular, smote__m_neighbors=10, score=0.489221, total= 1.3min\n",
      "[CV]  smote__k_neighbors=5, smote__kind=regular, smote__m_neighbors=6, score=0.478751, total= 1.3min\n",
      "[CV] smote__k_neighbors=5, smote__kind=regular, smote__m_neighbors=6 .\n",
      "[CV] smote__k_neighbors=5, smote__kind=regular, smote__m_neighbors=6 .\n",
      "[CV] smote__k_neighbors=5, smote__kind=regular, smote__m_neighbors=6 .\n",
      "[CV]  smote__k_neighbors=5, smote__kind=regular, smote__m_neighbors=6, score=0.479918, total= 1.2min\n",
      "[CV]  smote__k_neighbors=5, smote__kind=regular, smote__m_neighbors=6, score=0.489221, total= 1.3min\n",
      "[CV]  smote__k_neighbors=5, smote__kind=regular, smote__m_neighbors=6, score=0.469110, total= 1.3min\n",
      "[CV] smote__k_neighbors=5, smote__kind=borderline1, smote__m_neighbors=12 \n",
      "[CV] smote__k_neighbors=5, smote__kind=borderline1, smote__m_neighbors=12 \n",
      "[CV] smote__k_neighbors=5, smote__kind=borderline1, smote__m_neighbors=12 \n",
      "[CV]  smote__k_neighbors=5, smote__kind=borderline1, smote__m_neighbors=12, score=0.434632, total= 1.9min\n",
      "[CV] smote__k_neighbors=5, smote__kind=borderline1, smote__m_neighbors=12 \n",
      "[CV]  smote__k_neighbors=5, smote__kind=borderline1, smote__m_neighbors=12, score=0.432507, total= 2.1min\n",
      "[CV]  smote__k_neighbors=5, smote__kind=borderline1, smote__m_neighbors=12, score=0.427522, total= 2.2min\n",
      "[CV] smote__k_neighbors=5, smote__kind=borderline1, smote__m_neighbors=12 \n",
      "[CV] smote__k_neighbors=5, smote__kind=borderline1, smote__m_neighbors=10 \n",
      "[CV]  smote__k_neighbors=5, smote__kind=borderline1, smote__m_neighbors=12, score=0.438446, total= 1.6min\n",
      "[CV] smote__k_neighbors=5, smote__kind=borderline1, smote__m_neighbors=10 \n",
      "[CV]  smote__k_neighbors=5, smote__kind=borderline1, smote__m_neighbors=10, score=0.430232, total= 1.9min\n",
      "[CV] smote__k_neighbors=5, smote__kind=borderline1, smote__m_neighbors=10 \n",
      "[CV]  smote__k_neighbors=5, smote__kind=borderline1, smote__m_neighbors=12, score=0.442219, total= 1.9min\n",
      "[CV] smote__k_neighbors=5, smote__kind=borderline1, smote__m_neighbors=10 \n",
      "[CV]  smote__k_neighbors=5, smote__kind=borderline1, smote__m_neighbors=10, score=0.433335, total= 1.6min\n",
      "[CV] smote__k_neighbors=5, smote__kind=borderline1, smote__m_neighbors=10 \n",
      "[CV]  smote__k_neighbors=5, smote__kind=borderline1, smote__m_neighbors=10, score=0.431614, total= 1.7min\n",
      "[CV] smote__k_neighbors=5, smote__kind=borderline1, smote__m_neighbors=6 \n",
      "[CV]  smote__k_neighbors=5, smote__kind=borderline1, smote__m_neighbors=10, score=0.431214, total= 1.8min\n",
      "[CV] smote__k_neighbors=5, smote__kind=borderline1, smote__m_neighbors=6 \n",
      "[CV]  smote__k_neighbors=5, smote__kind=borderline1, smote__m_neighbors=10, score=0.437709, total= 1.6min\n",
      "[CV] smote__k_neighbors=5, smote__kind=borderline1, smote__m_neighbors=6 \n",
      "[CV]  smote__k_neighbors=5, smote__kind=borderline1, smote__m_neighbors=6, score=0.424493, total= 1.8min\n"
     ]
    },
    {
     "name": "stderr",
     "output_type": "stream",
     "text": [
      "[Parallel(n_jobs=3)]: Done  26 tasks      | elapsed: 16.5min\n"
     ]
    },
    {
     "name": "stdout",
     "output_type": "stream",
     "text": [
      "[CV] smote__k_neighbors=5, smote__kind=borderline1, smote__m_neighbors=6 \n",
      "[CV]  smote__k_neighbors=5, smote__kind=borderline1, smote__m_neighbors=6, score=0.421126, total= 1.7min\n",
      "[CV] smote__k_neighbors=5, smote__kind=borderline1, smote__m_neighbors=6 \n",
      "[CV]  smote__k_neighbors=5, smote__kind=borderline1, smote__m_neighbors=6, score=0.420394, total= 1.5min\n",
      "[CV] smote__k_neighbors=5, smote__kind=borderline2, smote__m_neighbors=12 \n",
      "[CV]  smote__k_neighbors=5, smote__kind=borderline1, smote__m_neighbors=6, score=0.427335, total= 1.4min\n",
      "[CV] smote__k_neighbors=5, smote__kind=borderline2, smote__m_neighbors=12 \n",
      "[CV]  smote__k_neighbors=5, smote__kind=borderline1, smote__m_neighbors=6, score=0.429362, total= 1.7min\n",
      "[CV] smote__k_neighbors=5, smote__kind=borderline2, smote__m_neighbors=12 \n",
      "[CV]  smote__k_neighbors=5, smote__kind=borderline2, smote__m_neighbors=12, score=0.415579, total= 1.6min\n",
      "[CV] smote__k_neighbors=5, smote__kind=borderline2, smote__m_neighbors=12 \n",
      "[CV]  smote__k_neighbors=5, smote__kind=borderline2, smote__m_neighbors=12, score=0.413297, total= 1.5min\n",
      "[CV] smote__k_neighbors=5, smote__kind=borderline2, smote__m_neighbors=12 \n",
      "[CV]  smote__k_neighbors=5, smote__kind=borderline2, smote__m_neighbors=12, score=0.394890, total= 1.7min\n",
      "[CV] smote__k_neighbors=5, smote__kind=borderline2, smote__m_neighbors=10 \n",
      "[CV]  smote__k_neighbors=5, smote__kind=borderline2, smote__m_neighbors=12, score=0.428795, total= 1.5min\n",
      "[CV] smote__k_neighbors=5, smote__kind=borderline2, smote__m_neighbors=10 \n",
      "[CV]  smote__k_neighbors=5, smote__kind=borderline2, smote__m_neighbors=12, score=0.429608, total= 1.6min\n",
      "[CV] smote__k_neighbors=5, smote__kind=borderline2, smote__m_neighbors=10 \n",
      "[CV]  smote__k_neighbors=5, smote__kind=borderline2, smote__m_neighbors=10, score=0.410577, total= 1.5min\n",
      "[CV] smote__k_neighbors=5, smote__kind=borderline2, smote__m_neighbors=10 \n",
      "[CV]  smote__k_neighbors=5, smote__kind=borderline2, smote__m_neighbors=10, score=0.415239, total= 1.6min\n",
      "[CV] smote__k_neighbors=5, smote__kind=borderline2, smote__m_neighbors=10 \n",
      "[CV]  smote__k_neighbors=5, smote__kind=borderline2, smote__m_neighbors=10, score=0.402470, total= 1.7min\n",
      "[CV] smote__k_neighbors=5, smote__kind=borderline2, smote__m_neighbors=6 \n",
      "[CV]  smote__k_neighbors=5, smote__kind=borderline2, smote__m_neighbors=10, score=0.420972, total= 1.6min\n",
      "[CV] smote__k_neighbors=5, smote__kind=borderline2, smote__m_neighbors=6 \n",
      "[CV]  smote__k_neighbors=5, smote__kind=borderline2, smote__m_neighbors=10, score=0.429331, total= 1.5min\n",
      "[CV] smote__k_neighbors=5, smote__kind=borderline2, smote__m_neighbors=6 \n",
      "[CV]  smote__k_neighbors=5, smote__kind=borderline2, smote__m_neighbors=6, score=0.406349, total= 1.6min\n",
      "[CV] smote__k_neighbors=5, smote__kind=borderline2, smote__m_neighbors=6 \n",
      "[CV]  smote__k_neighbors=5, smote__kind=borderline2, smote__m_neighbors=6, score=0.408265, total= 1.6min\n",
      "[CV] smote__k_neighbors=5, smote__kind=borderline2, smote__m_neighbors=6 \n",
      "[CV]  smote__k_neighbors=5, smote__kind=borderline2, smote__m_neighbors=6, score=0.400085, total= 1.6min\n",
      "[CV] smote__k_neighbors=3, smote__kind=regular, smote__m_neighbors=12 \n",
      "[CV]  smote__k_neighbors=3, smote__kind=regular, smote__m_neighbors=12, score=0.477352, total=  33.1s\n",
      "[CV] smote__k_neighbors=3, smote__kind=regular, smote__m_neighbors=12 \n",
      "[CV]  smote__k_neighbors=5, smote__kind=borderline2, smote__m_neighbors=6, score=0.414637, total= 1.7min\n",
      "[CV] smote__k_neighbors=3, smote__kind=regular, smote__m_neighbors=12 \n",
      "[CV]  smote__k_neighbors=5, smote__kind=borderline2, smote__m_neighbors=6, score=0.430550, total= 2.0min\n",
      "[CV] smote__k_neighbors=3, smote__kind=regular, smote__m_neighbors=12 \n",
      "[CV]  smote__k_neighbors=3, smote__kind=regular, smote__m_neighbors=12, score=0.476974, total=  54.2s\n",
      "[CV] smote__k_neighbors=3, smote__kind=regular, smote__m_neighbors=12 \n",
      "[CV]  smote__k_neighbors=3, smote__kind=regular, smote__m_neighbors=12, score=0.469674, total=  49.3s\n",
      "[CV] smote__k_neighbors=3, smote__kind=regular, smote__m_neighbors=10 \n",
      "[CV]  smote__k_neighbors=3, smote__kind=regular, smote__m_neighbors=12, score=0.479626, total=  58.8s\n",
      "[CV] smote__k_neighbors=3, smote__kind=regular, smote__m_neighbors=10 \n",
      "[CV]  smote__k_neighbors=3, smote__kind=regular, smote__m_neighbors=12, score=0.489233, total= 1.1min\n",
      "[CV] smote__k_neighbors=3, smote__kind=regular, smote__m_neighbors=10 \n",
      "[CV]  smote__k_neighbors=3, smote__kind=regular, smote__m_neighbors=10, score=0.477352, total=  50.5s\n",
      "[CV] smote__k_neighbors=3, smote__kind=regular, smote__m_neighbors=10 \n",
      "[CV]  smote__k_neighbors=3, smote__kind=regular, smote__m_neighbors=10, score=0.469674, total=  49.6s\n",
      "[CV] smote__k_neighbors=3, smote__kind=regular, smote__m_neighbors=10 \n",
      "[CV]  smote__k_neighbors=3, smote__kind=regular, smote__m_neighbors=10, score=0.476974, total= 1.0min\n",
      "[CV] smote__k_neighbors=3, smote__kind=regular, smote__m_neighbors=6 .\n",
      "[CV]  smote__k_neighbors=3, smote__kind=regular, smote__m_neighbors=10, score=0.479626, total=  54.5s\n",
      "[CV] smote__k_neighbors=3, smote__kind=regular, smote__m_neighbors=6 .\n",
      "[CV]  smote__k_neighbors=3, smote__kind=regular, smote__m_neighbors=10, score=0.489233, total=  54.4s\n",
      "[CV] smote__k_neighbors=3, smote__kind=regular, smote__m_neighbors=6 .\n",
      "[CV]  smote__k_neighbors=3, smote__kind=regular, smote__m_neighbors=6, score=0.477352, total=  59.5s\n",
      "[CV] smote__k_neighbors=3, smote__kind=regular, smote__m_neighbors=6 .\n",
      "[CV]  smote__k_neighbors=3, smote__kind=regular, smote__m_neighbors=6, score=0.476974, total= 1.1min\n",
      "[CV] smote__k_neighbors=3, smote__kind=regular, smote__m_neighbors=6 .\n",
      "[CV]  smote__k_neighbors=3, smote__kind=regular, smote__m_neighbors=6, score=0.469674, total=  58.3s\n",
      "[CV] smote__k_neighbors=3, smote__kind=borderline1, smote__m_neighbors=12 \n",
      "[CV]  smote__k_neighbors=3, smote__kind=regular, smote__m_neighbors=6, score=0.479626, total= 1.2min\n",
      "[CV] smote__k_neighbors=3, smote__kind=borderline1, smote__m_neighbors=12 \n",
      "[CV]  smote__k_neighbors=3, smote__kind=regular, smote__m_neighbors=6, score=0.489233, total= 1.0min\n",
      "[CV] smote__k_neighbors=3, smote__kind=borderline1, smote__m_neighbors=12 \n",
      "[CV]  smote__k_neighbors=3, smote__kind=borderline1, smote__m_neighbors=12, score=0.436342, total= 1.7min\n",
      "[CV] smote__k_neighbors=3, smote__kind=borderline1, smote__m_neighbors=12 \n",
      "[CV]  smote__k_neighbors=3, smote__kind=borderline1, smote__m_neighbors=12, score=0.433998, total= 1.8min\n",
      "[CV] smote__k_neighbors=3, smote__kind=borderline1, smote__m_neighbors=12 \n",
      "[CV]  smote__k_neighbors=3, smote__kind=borderline1, smote__m_neighbors=12, score=0.428646, total= 1.8min\n",
      "[CV] smote__k_neighbors=3, smote__kind=borderline1, smote__m_neighbors=10 \n",
      "[CV]  smote__k_neighbors=3, smote__kind=borderline1, smote__m_neighbors=12, score=0.440422, total= 1.6min\n",
      "[CV] smote__k_neighbors=3, smote__kind=borderline1, smote__m_neighbors=10 \n",
      "[CV]  smote__k_neighbors=3, smote__kind=borderline1, smote__m_neighbors=12, score=0.445248, total= 1.8min\n",
      "[CV] smote__k_neighbors=3, smote__kind=borderline1, smote__m_neighbors=10 \n",
      "[CV]  smote__k_neighbors=3, smote__kind=borderline1, smote__m_neighbors=10, score=0.433133, total= 1.7min\n",
      "[CV] smote__k_neighbors=3, smote__kind=borderline1, smote__m_neighbors=10 \n",
      "[CV]  smote__k_neighbors=3, smote__kind=borderline1, smote__m_neighbors=10, score=0.436649, total= 1.6min\n",
      "[CV] smote__k_neighbors=3, smote__kind=borderline1, smote__m_neighbors=10 \n",
      "[CV]  smote__k_neighbors=3, smote__kind=borderline1, smote__m_neighbors=10, score=0.432066, total= 1.6min\n",
      "[CV] smote__k_neighbors=3, smote__kind=borderline1, smote__m_neighbors=6 \n",
      "[CV]  smote__k_neighbors=3, smote__kind=borderline1, smote__m_neighbors=10, score=0.435941, total= 1.6min\n",
      "[CV] smote__k_neighbors=3, smote__kind=borderline1, smote__m_neighbors=6 \n",
      "[CV]  smote__k_neighbors=3, smote__kind=borderline1, smote__m_neighbors=10, score=0.439557, total= 1.6min\n",
      "[CV] smote__k_neighbors=3, smote__kind=borderline1, smote__m_neighbors=6 \n",
      "[CV]  smote__k_neighbors=3, smote__kind=borderline1, smote__m_neighbors=6, score=0.427106, total= 1.7min\n",
      "[CV] smote__k_neighbors=3, smote__kind=borderline1, smote__m_neighbors=6 \n",
      "[CV]  smote__k_neighbors=3, smote__kind=borderline1, smote__m_neighbors=6, score=0.429112, total= 1.8min\n",
      "[CV] smote__k_neighbors=3, smote__kind=borderline1, smote__m_neighbors=6 \n"
     ]
    },
    {
     "name": "stdout",
     "output_type": "stream",
     "text": [
      "[CV]  smote__k_neighbors=3, smote__kind=borderline1, smote__m_neighbors=6, score=0.424540, total= 1.7min\n",
      "[CV] smote__k_neighbors=3, smote__kind=borderline2, smote__m_neighbors=12 \n",
      "[CV]  smote__k_neighbors=3, smote__kind=borderline1, smote__m_neighbors=6, score=0.431413, total= 1.9min\n",
      "[CV] smote__k_neighbors=3, smote__kind=borderline2, smote__m_neighbors=12 \n",
      "[CV]  smote__k_neighbors=3, smote__kind=borderline1, smote__m_neighbors=6, score=0.428515, total= 1.8min\n",
      "[CV] smote__k_neighbors=3, smote__kind=borderline2, smote__m_neighbors=12 \n",
      "[CV]  smote__k_neighbors=3, smote__kind=borderline2, smote__m_neighbors=12, score=0.421702, total= 1.8min\n",
      "[CV] smote__k_neighbors=3, smote__kind=borderline2, smote__m_neighbors=12 \n",
      "[CV]  smote__k_neighbors=3, smote__kind=borderline2, smote__m_neighbors=12, score=0.417435, total= 1.9min\n",
      "[CV] smote__k_neighbors=3, smote__kind=borderline2, smote__m_neighbors=12 \n",
      "[CV]  smote__k_neighbors=3, smote__kind=borderline2, smote__m_neighbors=12, score=0.407362, total= 2.3min\n",
      "[CV] smote__k_neighbors=3, smote__kind=borderline2, smote__m_neighbors=10 \n",
      "[CV]  smote__k_neighbors=3, smote__kind=borderline2, smote__m_neighbors=12, score=0.431151, total= 2.0min\n",
      "[CV] smote__k_neighbors=3, smote__kind=borderline2, smote__m_neighbors=10 \n",
      "[CV]  smote__k_neighbors=3, smote__kind=borderline2, smote__m_neighbors=12, score=0.444044, total= 1.7min\n",
      "[CV] smote__k_neighbors=3, smote__kind=borderline2, smote__m_neighbors=10 \n",
      "[CV]  smote__k_neighbors=3, smote__kind=borderline2, smote__m_neighbors=10, score=0.416108, total= 1.9min\n",
      "[CV] smote__k_neighbors=3, smote__kind=borderline2, smote__m_neighbors=10 \n",
      "[CV]  smote__k_neighbors=3, smote__kind=borderline2, smote__m_neighbors=10, score=0.419946, total= 1.8min\n",
      "[CV] smote__k_neighbors=3, smote__kind=borderline2, smote__m_neighbors=10 \n",
      "[CV]  smote__k_neighbors=3, smote__kind=borderline2, smote__m_neighbors=10, score=0.417334, total= 1.6min\n",
      "[CV] smote__k_neighbors=3, smote__kind=borderline2, smote__m_neighbors=6 \n",
      "[CV]  smote__k_neighbors=3, smote__kind=borderline2, smote__m_neighbors=10, score=0.423919, total= 1.8min\n",
      "[CV] smote__k_neighbors=3, smote__kind=borderline2, smote__m_neighbors=6 \n",
      "[CV]  smote__k_neighbors=3, smote__kind=borderline2, smote__m_neighbors=10, score=0.440107, total= 1.8min\n",
      "[CV] smote__k_neighbors=3, smote__kind=borderline2, smote__m_neighbors=6 \n",
      "[CV]  smote__k_neighbors=3, smote__kind=borderline2, smote__m_neighbors=6, score=0.410966, total= 1.6min\n",
      "[CV] smote__k_neighbors=3, smote__kind=borderline2, smote__m_neighbors=6 \n",
      "[CV]  smote__k_neighbors=3, smote__kind=borderline2, smote__m_neighbors=6, score=0.415625, total= 1.9min\n",
      "[CV] smote__k_neighbors=3, smote__kind=borderline2, smote__m_neighbors=6 \n",
      "[CV]  smote__k_neighbors=3, smote__kind=borderline2, smote__m_neighbors=6, score=0.409682, total= 1.8min\n",
      "[CV] smote__k_neighbors=1, smote__kind=regular, smote__m_neighbors=12 \n",
      "[CV]  smote__k_neighbors=1, smote__kind=regular, smote__m_neighbors=12, score=0.475534, total=  35.3s\n",
      "[CV] smote__k_neighbors=1, smote__kind=regular, smote__m_neighbors=12 \n",
      "[CV]  smote__k_neighbors=3, smote__kind=borderline2, smote__m_neighbors=6, score=0.418672, total= 1.7min\n",
      "[CV] smote__k_neighbors=1, smote__kind=regular, smote__m_neighbors=12 \n",
      "[CV]  smote__k_neighbors=3, smote__kind=borderline2, smote__m_neighbors=6, score=0.439710, total= 2.1min\n",
      "[CV] smote__k_neighbors=1, smote__kind=regular, smote__m_neighbors=12 \n",
      "[CV]  smote__k_neighbors=1, smote__kind=regular, smote__m_neighbors=12, score=0.479936, total= 1.2min\n",
      "[CV] smote__k_neighbors=1, smote__kind=regular, smote__m_neighbors=12 \n",
      "[CV]  smote__k_neighbors=1, smote__kind=regular, smote__m_neighbors=12, score=0.467825, total= 1.3min\n",
      "[CV] smote__k_neighbors=1, smote__kind=regular, smote__m_neighbors=10 \n",
      "[CV]  smote__k_neighbors=1, smote__kind=regular, smote__m_neighbors=12, score=0.487114, total= 1.2min\n",
      "[CV]  smote__k_neighbors=1, smote__kind=regular, smote__m_neighbors=12, score=0.478083, total= 1.2min\n",
      "[CV] smote__k_neighbors=1, smote__kind=regular, smote__m_neighbors=10 \n",
      "[CV] smote__k_neighbors=1, smote__kind=regular, smote__m_neighbors=10 \n",
      "[CV]  smote__k_neighbors=1, smote__kind=regular, smote__m_neighbors=10, score=0.475534, total= 1.3min\n",
      "[CV] smote__k_neighbors=1, smote__kind=regular, smote__m_neighbors=10 \n",
      "[CV]  smote__k_neighbors=1, smote__kind=regular, smote__m_neighbors=10, score=0.467825, total= 1.3min\n",
      "[CV] smote__k_neighbors=1, smote__kind=regular, smote__m_neighbors=10 \n",
      "[CV]  smote__k_neighbors=1, smote__kind=regular, smote__m_neighbors=10, score=0.479936, total= 1.3min\n",
      "[CV] smote__k_neighbors=1, smote__kind=regular, smote__m_neighbors=6 .\n",
      "[CV]  smote__k_neighbors=1, smote__kind=regular, smote__m_neighbors=10, score=0.478083, total= 1.2min\n",
      "[CV] smote__k_neighbors=1, smote__kind=regular, smote__m_neighbors=6 .\n",
      "[CV]  smote__k_neighbors=1, smote__kind=regular, smote__m_neighbors=6, score=0.475534, total= 1.2min\n",
      "[CV] smote__k_neighbors=1, smote__kind=regular, smote__m_neighbors=6 .\n",
      "[CV]  smote__k_neighbors=1, smote__kind=regular, smote__m_neighbors=10, score=0.487114, total= 1.2min\n",
      "[CV] smote__k_neighbors=1, smote__kind=regular, smote__m_neighbors=6 .\n",
      "[CV]  smote__k_neighbors=1, smote__kind=regular, smote__m_neighbors=6, score=0.479936, total= 1.2min\n",
      "[CV] smote__k_neighbors=1, smote__kind=regular, smote__m_neighbors=6 .\n",
      "[CV]  smote__k_neighbors=1, smote__kind=regular, smote__m_neighbors=6, score=0.478083, total= 1.1min\n",
      "[CV] smote__k_neighbors=1, smote__kind=borderline1, smote__m_neighbors=12 \n",
      "[CV]  smote__k_neighbors=1, smote__kind=regular, smote__m_neighbors=6, score=0.467825, total= 1.2min\n",
      "[CV] smote__k_neighbors=1, smote__kind=borderline1, smote__m_neighbors=12 \n",
      "[CV]  smote__k_neighbors=1, smote__kind=regular, smote__m_neighbors=6, score=0.487114, total= 1.2min\n",
      "[CV] smote__k_neighbors=1, smote__kind=borderline1, smote__m_neighbors=12 \n",
      "[CV]  smote__k_neighbors=1, smote__kind=borderline1, smote__m_neighbors=12, score=0.435099, total= 2.1min\n",
      "[CV] smote__k_neighbors=1, smote__kind=borderline1, smote__m_neighbors=12 \n",
      "[CV]  smote__k_neighbors=1, smote__kind=borderline1, smote__m_neighbors=12, score=0.433651, total= 2.0min\n",
      "[CV] smote__k_neighbors=1, smote__kind=borderline1, smote__m_neighbors=12 \n",
      "[CV]  smote__k_neighbors=1, smote__kind=borderline1, smote__m_neighbors=12, score=0.424250, total= 2.0min\n",
      "[CV] smote__k_neighbors=1, smote__kind=borderline1, smote__m_neighbors=10 \n",
      "[CV]  smote__k_neighbors=1, smote__kind=borderline1, smote__m_neighbors=12, score=0.439577, total= 2.1min\n",
      "[CV] smote__k_neighbors=1, smote__kind=borderline1, smote__m_neighbors=10 \n",
      "[CV]  smote__k_neighbors=1, smote__kind=borderline1, smote__m_neighbors=12, score=0.447656, total= 2.1min\n",
      "[CV] smote__k_neighbors=1, smote__kind=borderline1, smote__m_neighbors=10 \n",
      "[CV]  smote__k_neighbors=1, smote__kind=borderline1, smote__m_neighbors=10, score=0.431019, total= 2.1min\n",
      "[CV] smote__k_neighbors=1, smote__kind=borderline1, smote__m_neighbors=10 \n",
      "[CV]  smote__k_neighbors=1, smote__kind=borderline1, smote__m_neighbors=10, score=0.429950, total= 2.1min\n",
      "[CV] smote__k_neighbors=1, smote__kind=borderline1, smote__m_neighbors=10 \n",
      "[CV]  smote__k_neighbors=1, smote__kind=borderline1, smote__m_neighbors=10, score=0.423329, total= 2.1min\n",
      "[CV] smote__k_neighbors=1, smote__kind=borderline1, smote__m_neighbors=6 \n",
      "[CV]  smote__k_neighbors=1, smote__kind=borderline1, smote__m_neighbors=10, score=0.433525, total= 2.0min\n",
      "[CV] smote__k_neighbors=1, smote__kind=borderline1, smote__m_neighbors=6 \n",
      "[CV]  smote__k_neighbors=1, smote__kind=borderline1, smote__m_neighbors=6, score=0.423490, total= 1.8min\n",
      "[CV] smote__k_neighbors=1, smote__kind=borderline1, smote__m_neighbors=6 \n",
      "[CV]  smote__k_neighbors=1, smote__kind=borderline1, smote__m_neighbors=10, score=0.441569, total= 2.0min\n",
      "[CV] smote__k_neighbors=1, smote__kind=borderline1, smote__m_neighbors=6 \n",
      "[CV]  smote__k_neighbors=1, smote__kind=borderline1, smote__m_neighbors=6, score=0.423648, total= 2.0min\n",
      "[CV] smote__k_neighbors=1, smote__kind=borderline1, smote__m_neighbors=6 \n",
      "[CV]  smote__k_neighbors=1, smote__kind=borderline1, smote__m_neighbors=6, score=0.413019, total= 2.0min\n",
      "[CV] smote__k_neighbors=1, smote__kind=borderline2, smote__m_neighbors=12 \n",
      "[CV]  smote__k_neighbors=1, smote__kind=borderline1, smote__m_neighbors=6, score=0.421797, total= 1.9min\n"
     ]
    },
    {
     "name": "stdout",
     "output_type": "stream",
     "text": [
      "[CV] smote__k_neighbors=1, smote__kind=borderline2, smote__m_neighbors=12 \n",
      "[CV]  smote__k_neighbors=1, smote__kind=borderline1, smote__m_neighbors=6, score=0.427848, total= 2.0min\n",
      "[CV] smote__k_neighbors=1, smote__kind=borderline2, smote__m_neighbors=12 \n",
      "[CV]  smote__k_neighbors=1, smote__kind=borderline2, smote__m_neighbors=12, score=0.421398, total= 2.2min\n",
      "[CV] smote__k_neighbors=1, smote__kind=borderline2, smote__m_neighbors=12 \n",
      "[CV]  smote__k_neighbors=1, smote__kind=borderline2, smote__m_neighbors=12, score=0.432367, total= 2.3min\n",
      "[CV]  smote__k_neighbors=1, smote__kind=borderline2, smote__m_neighbors=12, score=0.427712, total= 2.2min\n"
     ]
    },
    {
     "name": "stderr",
     "output_type": "stream",
     "text": [
      "[Parallel(n_jobs=3)]: Done 122 tasks      | elapsed: 74.4min\n"
     ]
    },
    {
     "name": "stdout",
     "output_type": "stream",
     "text": [
      "[CV] smote__k_neighbors=1, smote__kind=borderline2, smote__m_neighbors=12 \n",
      "[CV] smote__k_neighbors=1, smote__kind=borderline2, smote__m_neighbors=10 \n",
      "[CV]  smote__k_neighbors=1, smote__kind=borderline2, smote__m_neighbors=12, score=0.439365, total= 1.9min\n",
      "[CV] smote__k_neighbors=1, smote__kind=borderline2, smote__m_neighbors=10 \n",
      "[CV]  smote__k_neighbors=1, smote__kind=borderline2, smote__m_neighbors=12, score=0.450784, total= 2.1min\n",
      "[CV]  smote__k_neighbors=1, smote__kind=borderline2, smote__m_neighbors=10, score=0.415551, total= 2.1min\n",
      "[CV] smote__k_neighbors=1, smote__kind=borderline2, smote__m_neighbors=10 \n",
      "[CV] smote__k_neighbors=1, smote__kind=borderline2, smote__m_neighbors=10 \n",
      "[CV]  smote__k_neighbors=1, smote__kind=borderline2, smote__m_neighbors=10, score=0.434623, total= 2.0min\n",
      "[CV] smote__k_neighbors=1, smote__kind=borderline2, smote__m_neighbors=10 \n",
      "[CV]  smote__k_neighbors=1, smote__kind=borderline2, smote__m_neighbors=10, score=0.428230, total= 2.1min\n",
      "[CV] smote__k_neighbors=1, smote__kind=borderline2, smote__m_neighbors=6 \n",
      "[CV]  smote__k_neighbors=1, smote__kind=borderline2, smote__m_neighbors=10, score=0.431800, total= 2.1min\n",
      "[CV] smote__k_neighbors=1, smote__kind=borderline2, smote__m_neighbors=6 \n",
      "[CV]  smote__k_neighbors=1, smote__kind=borderline2, smote__m_neighbors=10, score=0.447460, total= 2.0min\n",
      "[CV] smote__k_neighbors=1, smote__kind=borderline2, smote__m_neighbors=6 \n",
      "[CV]  smote__k_neighbors=1, smote__kind=borderline2, smote__m_neighbors=6, score=0.409512, total= 2.0min\n",
      "[CV] smote__k_neighbors=1, smote__kind=borderline2, smote__m_neighbors=6 \n",
      "[CV]  smote__k_neighbors=1, smote__kind=borderline2, smote__m_neighbors=6, score=0.424085, total= 1.9min\n",
      "[CV] smote__k_neighbors=1, smote__kind=borderline2, smote__m_neighbors=6 \n",
      "[CV]  smote__k_neighbors=1, smote__kind=borderline2, smote__m_neighbors=6, score=0.425115, total= 1.9min\n",
      "[CV]  smote__k_neighbors=1, smote__kind=borderline2, smote__m_neighbors=6, score=0.423303, total= 2.1min\n",
      "[CV]  smote__k_neighbors=1, smote__kind=borderline2, smote__m_neighbors=6, score=0.440507, total= 2.1min\n"
     ]
    },
    {
     "name": "stderr",
     "output_type": "stream",
     "text": [
      "[Parallel(n_jobs=3)]: Done 135 out of 135 | elapsed: 83.7min finished\n"
     ]
    },
    {
     "name": "stdout",
     "output_type": "stream",
     "text": [
      "CPU times: user 5min 58s, sys: 2min 29s, total: 8min 27s\n",
      "Wall time: 1h 24min 8s\n"
     ]
    }
   ],
   "source": [
    "%%time\n",
    "from sklearn.naive_bayes import GaussianNB\n",
    "from sklearn.model_selection import GridSearchCV\n",
    "from imblearn.over_sampling import SMOTE\n",
    "from imblearn.pipeline import Pipeline as pl\n",
    "\n",
    "# Steps for pipeline\n",
    "steps = [(\"smote\", SMOTE(random_state=30)),\n",
    "         (\"scaler\", MinMaxScaler(feature_range=(0,1))),\n",
    "         (\"model\", GaussianNB())]\n",
    "\n",
    "pipe = pl(steps)\n",
    "\n",
    "# Parameters\n",
    "param_grid = dict(smote__kind = ['regular', 'borderline1', 'borderline2'],\n",
    "                 smote__k_neighbors = [5, 3, 1],\n",
    "                 smote__m_neighbors = [12, 10, 6])\n",
    "# For CV in grid search\n",
    "cv = StratifiedShuffleSplit(n_splits = 5, test_size = 0.2, random_state = 20)\n",
    "\n",
    "# Setting up the grid search\n",
    "GNBsmote = GridSearchCV(pipe, param_grid = param_grid, \n",
    "                           verbose = 3,\n",
    "                           cv = cv,\n",
    "                          n_jobs=3,\n",
    "                          scoring='average_precision',\n",
    "                          iid=False)\n",
    "# Training using CV\n",
    "GNBsmote.fit(X_train, y_train)"
   ]
  },
  {
   "cell_type": "code",
   "execution_count": 33,
   "metadata": {},
   "outputs": [
    {
     "data": {
      "text/plain": [
       "{'smote__k_neighbors': 5, 'smote__kind': 'regular', 'smote__m_neighbors': 12}"
      ]
     },
     "execution_count": 33,
     "metadata": {},
     "output_type": "execute_result"
    }
   ],
   "source": [
    "GNBsmote.best_params_"
   ]
  },
  {
   "cell_type": "code",
   "execution_count": 34,
   "metadata": {},
   "outputs": [
    {
     "data": {
      "text/plain": [
       "0.47863394585347885"
      ]
     },
     "execution_count": 34,
     "metadata": {},
     "output_type": "execute_result"
    }
   ],
   "source": [
    "GNBsmote.best_score_"
   ]
  },
  {
   "cell_type": "code",
   "execution_count": 36,
   "metadata": {
    "scrolled": false
   },
   "outputs": [
    {
     "name": "stderr",
     "output_type": "stream",
     "text": [
      "//anaconda/lib/python3.6/site-packages/sklearn/model_selection/_search.py:667: DeprecationWarning: The grid_scores_ attribute was deprecated in version 0.18 in favor of the more elaborate cv_results_ attribute. The grid_scores_ attribute will not be available from 0.20\n",
      "  DeprecationWarning)\n"
     ]
    },
    {
     "data": {
      "text/plain": [
       "[mean: 0.47863, std: 0.00649, params: {'smote__k_neighbors': 5, 'smote__kind': 'regular', 'smote__m_neighbors': 12},\n",
       " mean: 0.47863, std: 0.00649, params: {'smote__k_neighbors': 5, 'smote__kind': 'regular', 'smote__m_neighbors': 10},\n",
       " mean: 0.47863, std: 0.00649, params: {'smote__k_neighbors': 5, 'smote__kind': 'regular', 'smote__m_neighbors': 6},\n",
       " mean: 0.43507, std: 0.00502, params: {'smote__k_neighbors': 5, 'smote__kind': 'borderline1', 'smote__m_neighbors': 12},\n",
       " mean: 0.43282, std: 0.00264, params: {'smote__k_neighbors': 5, 'smote__kind': 'borderline1', 'smote__m_neighbors': 10},\n",
       " mean: 0.42454, std: 0.00346, params: {'smote__k_neighbors': 5, 'smote__kind': 'borderline1', 'smote__m_neighbors': 6},\n",
       " mean: 0.41643, std: 0.01266, params: {'smote__k_neighbors': 5, 'smote__kind': 'borderline2', 'smote__m_neighbors': 12},\n",
       " mean: 0.41572, std: 0.00911, params: {'smote__k_neighbors': 5, 'smote__kind': 'borderline2', 'smote__m_neighbors': 10},\n",
       " mean: 0.41198, std: 0.01038, params: {'smote__k_neighbors': 5, 'smote__kind': 'borderline2', 'smote__m_neighbors': 6},\n",
       " mean: 0.47857, std: 0.00629, params: {'smote__k_neighbors': 3, 'smote__kind': 'regular', 'smote__m_neighbors': 12},\n",
       " mean: 0.47857, std: 0.00629, params: {'smote__k_neighbors': 3, 'smote__kind': 'regular', 'smote__m_neighbors': 10},\n",
       " mean: 0.47857, std: 0.00629, params: {'smote__k_neighbors': 3, 'smote__kind': 'regular', 'smote__m_neighbors': 6},\n",
       " mean: 0.43693, std: 0.00564, params: {'smote__k_neighbors': 3, 'smote__kind': 'borderline1', 'smote__m_neighbors': 12},\n",
       " mean: 0.43547, std: 0.00266, params: {'smote__k_neighbors': 3, 'smote__kind': 'borderline1', 'smote__m_neighbors': 10},\n",
       " mean: 0.42814, std: 0.00227, params: {'smote__k_neighbors': 3, 'smote__kind': 'borderline1', 'smote__m_neighbors': 6},\n",
       " mean: 0.42434, std: 0.01247, params: {'smote__k_neighbors': 3, 'smote__kind': 'borderline2', 'smote__m_neighbors': 12},\n",
       " mean: 0.42348, std: 0.00873, params: {'smote__k_neighbors': 3, 'smote__kind': 'borderline2', 'smote__m_neighbors': 10},\n",
       " mean: 0.41893, std: 0.01088, params: {'smote__k_neighbors': 3, 'smote__kind': 'borderline2', 'smote__m_neighbors': 6},\n",
       " mean: 0.47770, std: 0.00626, params: {'smote__k_neighbors': 1, 'smote__kind': 'regular', 'smote__m_neighbors': 12},\n",
       " mean: 0.47770, std: 0.00626, params: {'smote__k_neighbors': 1, 'smote__kind': 'regular', 'smote__m_neighbors': 10},\n",
       " mean: 0.47770, std: 0.00626, params: {'smote__k_neighbors': 1, 'smote__kind': 'regular', 'smote__m_neighbors': 6},\n",
       " mean: 0.43605, std: 0.00766, params: {'smote__k_neighbors': 1, 'smote__kind': 'borderline1', 'smote__m_neighbors': 12},\n",
       " mean: 0.43188, std: 0.00590, params: {'smote__k_neighbors': 1, 'smote__kind': 'borderline1', 'smote__m_neighbors': 10},\n",
       " mean: 0.42196, std: 0.00490, params: {'smote__k_neighbors': 1, 'smote__kind': 'borderline1', 'smote__m_neighbors': 6},\n",
       " mean: 0.43433, std: 0.01011, params: {'smote__k_neighbors': 1, 'smote__kind': 'borderline2', 'smote__m_neighbors': 12},\n",
       " mean: 0.43153, std: 0.01029, params: {'smote__k_neighbors': 1, 'smote__kind': 'borderline2', 'smote__m_neighbors': 10},\n",
       " mean: 0.42450, std: 0.00983, params: {'smote__k_neighbors': 1, 'smote__kind': 'borderline2', 'smote__m_neighbors': 6}]"
      ]
     },
     "execution_count": 36,
     "metadata": {},
     "output_type": "execute_result"
    }
   ],
   "source": [
    "GNBsmote.grid_scores_"
   ]
  },
  {
   "cell_type": "code",
   "execution_count": 38,
   "metadata": {
    "collapsed": true
   },
   "outputs": [],
   "source": [
    "import dill\n",
    "dill.dump(GNBrus, open('GNBrus.pkl', 'wb'))"
   ]
  },
  {
   "cell_type": "code",
   "execution_count": 39,
   "metadata": {
    "collapsed": true
   },
   "outputs": [],
   "source": [
    "import dill\n",
    "dill.dump(GNBsmote, open('GNBsmote.pkl', 'wb'))"
   ]
  },
  {
   "cell_type": "markdown",
   "metadata": {},
   "source": [
    "# Random Forest (class_weight=\"balanced\")"
   ]
  },
  {
   "cell_type": "code",
   "execution_count": 42,
   "metadata": {
    "scrolled": false
   },
   "outputs": [
    {
     "name": "stdout",
     "output_type": "stream",
     "text": [
      "Fitting 5 folds for each of 12 candidates, totalling 60 fits\n",
      "[CV] model__class_weight=balanced, model__max_features=sqrt, model__min_samples_leaf=1, model__n_estimators=100 \n",
      "[CV] model__class_weight=balanced, model__max_features=sqrt, model__min_samples_leaf=1, model__n_estimators=100 \n",
      "[CV] model__class_weight=balanced, model__max_features=sqrt, model__min_samples_leaf=1, model__n_estimators=100 \n",
      "[CV]  model__class_weight=balanced, model__max_features=sqrt, model__min_samples_leaf=1, model__n_estimators=100, total= 5.8min\n",
      "[CV] model__class_weight=balanced, model__max_features=sqrt, model__min_samples_leaf=1, model__n_estimators=100 \n",
      "[CV]  model__class_weight=balanced, model__max_features=sqrt, model__min_samples_leaf=1, model__n_estimators=100, total= 5.9min\n",
      "[CV] model__class_weight=balanced, model__max_features=sqrt, model__min_samples_leaf=1, model__n_estimators=100 \n",
      "[CV]  model__class_weight=balanced, model__max_features=sqrt, model__min_samples_leaf=1, model__n_estimators=100, total= 6.0min\n",
      "[CV] model__class_weight=balanced, model__max_features=sqrt, model__min_samples_leaf=2, model__n_estimators=100 \n",
      "[CV]  model__class_weight=balanced, model__max_features=sqrt, model__min_samples_leaf=2, model__n_estimators=100, total= 5.6min\n",
      "[CV] model__class_weight=balanced, model__max_features=sqrt, model__min_samples_leaf=2, model__n_estimators=100 \n",
      "[CV]  model__class_weight=balanced, model__max_features=sqrt, model__min_samples_leaf=1, model__n_estimators=100, total= 5.8min\n",
      "[CV] model__class_weight=balanced, model__max_features=sqrt, model__min_samples_leaf=2, model__n_estimators=100 \n",
      "[CV]  model__class_weight=balanced, model__max_features=sqrt, model__min_samples_leaf=1, model__n_estimators=100, total= 6.0min\n",
      "[CV] model__class_weight=balanced, model__max_features=sqrt, model__min_samples_leaf=2, model__n_estimators=100 \n",
      "[CV]  model__class_weight=balanced, model__max_features=sqrt, model__min_samples_leaf=2, model__n_estimators=100, total= 5.9min\n",
      "[CV] model__class_weight=balanced, model__max_features=sqrt, model__min_samples_leaf=2, model__n_estimators=100 \n",
      "[CV]  model__class_weight=balanced, model__max_features=sqrt, model__min_samples_leaf=2, model__n_estimators=100, total= 5.9min\n",
      "[CV] model__class_weight=balanced, model__max_features=sqrt, model__min_samples_leaf=3, model__n_estimators=100 \n",
      "[CV]  model__class_weight=balanced, model__max_features=sqrt, model__min_samples_leaf=2, model__n_estimators=100, total= 5.9min\n",
      "[CV] model__class_weight=balanced, model__max_features=sqrt, model__min_samples_leaf=3, model__n_estimators=100 \n",
      "[CV]  model__class_weight=balanced, model__max_features=sqrt, model__min_samples_leaf=2, model__n_estimators=100, total= 5.7min\n",
      "[CV] model__class_weight=balanced, model__max_features=sqrt, model__min_samples_leaf=3, model__n_estimators=100 \n",
      "[CV]  model__class_weight=balanced, model__max_features=sqrt, model__min_samples_leaf=3, model__n_estimators=100, total= 5.8min\n",
      "[CV] model__class_weight=balanced, model__max_features=sqrt, model__min_samples_leaf=3, model__n_estimators=100 \n",
      "[CV]  model__class_weight=balanced, model__max_features=sqrt, model__min_samples_leaf=3, model__n_estimators=100, total= 5.9min\n",
      "[CV] model__class_weight=balanced, model__max_features=sqrt, model__min_samples_leaf=3, model__n_estimators=100 \n",
      "[CV]  model__class_weight=balanced, model__max_features=sqrt, model__min_samples_leaf=3, model__n_estimators=100, total= 5.9min\n",
      "[CV] model__class_weight=balanced, model__max_features=sqrt, model__min_samples_leaf=4, model__n_estimators=100 \n",
      "[CV]  model__class_weight=balanced, model__max_features=sqrt, model__min_samples_leaf=3, model__n_estimators=100, total= 5.9min\n",
      "[CV] model__class_weight=balanced, model__max_features=sqrt, model__min_samples_leaf=4, model__n_estimators=100 \n",
      "[CV]  model__class_weight=balanced, model__max_features=sqrt, model__min_samples_leaf=3, model__n_estimators=100, total= 5.9min\n",
      "[CV] model__class_weight=balanced, model__max_features=sqrt, model__min_samples_leaf=4, model__n_estimators=100 \n",
      "[CV]  model__class_weight=balanced, model__max_features=sqrt, model__min_samples_leaf=4, model__n_estimators=100, total= 5.6min\n",
      "[CV] model__class_weight=balanced, model__max_features=sqrt, model__min_samples_leaf=4, model__n_estimators=100 \n",
      "[CV]  model__class_weight=balanced, model__max_features=sqrt, model__min_samples_leaf=4, model__n_estimators=100, total= 5.7min\n",
      "[CV] model__class_weight=balanced, model__max_features=sqrt, model__min_samples_leaf=4, model__n_estimators=100 \n",
      "[CV]  model__class_weight=balanced, model__max_features=sqrt, model__min_samples_leaf=4, model__n_estimators=100, total= 5.9min\n",
      "[CV] model__class_weight=balanced, model__max_features=sqrt, model__min_samples_leaf=5, model__n_estimators=100 \n",
      "[CV]  model__class_weight=balanced, model__max_features=sqrt, model__min_samples_leaf=4, model__n_estimators=100, total= 5.9min\n",
      "[CV] model__class_weight=balanced, model__max_features=sqrt, model__min_samples_leaf=5, model__n_estimators=100 \n",
      "[CV]  model__class_weight=balanced, model__max_features=sqrt, model__min_samples_leaf=4, model__n_estimators=100, total= 5.8min\n",
      "[CV] model__class_weight=balanced, model__max_features=sqrt, model__min_samples_leaf=5, model__n_estimators=100 \n",
      "[CV]  model__class_weight=balanced, model__max_features=sqrt, model__min_samples_leaf=5, model__n_estimators=100, total= 5.8min\n",
      "[CV] model__class_weight=balanced, model__max_features=sqrt, model__min_samples_leaf=5, model__n_estimators=100 \n",
      "[CV]  model__class_weight=balanced, model__max_features=sqrt, model__min_samples_leaf=5, model__n_estimators=100, total= 5.6min\n",
      "[CV] model__class_weight=balanced, model__max_features=sqrt, model__min_samples_leaf=5, model__n_estimators=100 \n",
      "[CV]  model__class_weight=balanced, model__max_features=sqrt, model__min_samples_leaf=5, model__n_estimators=100, total= 5.7min\n",
      "[CV] model__class_weight=balanced, model__max_features=sqrt, model__min_samples_leaf=10, model__n_estimators=100 \n",
      "[CV]  model__class_weight=balanced, model__max_features=sqrt, model__min_samples_leaf=5, model__n_estimators=100, total= 5.9min\n",
      "[CV] model__class_weight=balanced, model__max_features=sqrt, model__min_samples_leaf=10, model__n_estimators=100 \n",
      "[CV]  model__class_weight=balanced, model__max_features=sqrt, model__min_samples_leaf=5, model__n_estimators=100, total= 5.9min\n",
      "[CV] model__class_weight=balanced, model__max_features=sqrt, model__min_samples_leaf=10, model__n_estimators=100 \n",
      "[CV]  model__class_weight=balanced, model__max_features=sqrt, model__min_samples_leaf=10, model__n_estimators=100, total= 5.8min\n",
      "[CV] model__class_weight=balanced, model__max_features=sqrt, model__min_samples_leaf=10, model__n_estimators=100 \n",
      "[CV]  model__class_weight=balanced, model__max_features=sqrt, model__min_samples_leaf=10, model__n_estimators=100, total= 5.8min\n",
      "[CV] model__class_weight=balanced, model__max_features=sqrt, model__min_samples_leaf=10, model__n_estimators=100 \n",
      "[CV]  model__class_weight=balanced, model__max_features=sqrt, model__min_samples_leaf=10, model__n_estimators=100, total= 5.6min\n",
      "[CV] model__class_weight=balanced, model__max_features=log2, model__min_samples_leaf=1, model__n_estimators=100 \n",
      "[CV]  model__class_weight=balanced, model__max_features=sqrt, model__min_samples_leaf=10, model__n_estimators=100, total= 5.7min\n",
      "[CV] model__class_weight=balanced, model__max_features=log2, model__min_samples_leaf=1, model__n_estimators=100 \n",
      "[CV]  model__class_weight=balanced, model__max_features=sqrt, model__min_samples_leaf=10, model__n_estimators=100, total= 5.9min\n",
      "[CV] model__class_weight=balanced, model__max_features=log2, model__min_samples_leaf=1, model__n_estimators=100 \n",
      "[CV]  model__class_weight=balanced, model__max_features=log2, model__min_samples_leaf=1, model__n_estimators=100, total= 3.5min\n",
      "[CV] model__class_weight=balanced, model__max_features=log2, model__min_samples_leaf=1, model__n_estimators=100 \n",
      "[CV]  model__class_weight=balanced, model__max_features=log2, model__min_samples_leaf=1, model__n_estimators=100, total= 3.5min\n",
      "[CV] model__class_weight=balanced, model__max_features=log2, model__min_samples_leaf=1, model__n_estimators=100 \n",
      "[CV]  model__class_weight=balanced, model__max_features=log2, model__min_samples_leaf=1, model__n_estimators=100, total= 3.5min\n"
     ]
    },
    {
     "name": "stdout",
     "output_type": "stream",
     "text": [
      "[CV] model__class_weight=balanced, model__max_features=log2, model__min_samples_leaf=2, model__n_estimators=100 \n",
      "[CV]  model__class_weight=balanced, model__max_features=log2, model__min_samples_leaf=1, model__n_estimators=100, total= 3.4min\n",
      "[CV] model__class_weight=balanced, model__max_features=log2, model__min_samples_leaf=2, model__n_estimators=100 \n",
      "[CV]  model__class_weight=balanced, model__max_features=log2, model__min_samples_leaf=1, model__n_estimators=100, total= 3.5min\n",
      "[CV] model__class_weight=balanced, model__max_features=log2, model__min_samples_leaf=2, model__n_estimators=100 \n"
     ]
    },
    {
     "name": "stderr",
     "output_type": "stream",
     "text": [
      "[Parallel(n_jobs=3)]: Done  35 tasks      | elapsed: 68.1min\n"
     ]
    },
    {
     "name": "stdout",
     "output_type": "stream",
     "text": [
      "[CV]  model__class_weight=balanced, model__max_features=log2, model__min_samples_leaf=2, model__n_estimators=100, total= 3.5min\n",
      "[CV] model__class_weight=balanced, model__max_features=log2, model__min_samples_leaf=2, model__n_estimators=100 \n",
      "[CV]  model__class_weight=balanced, model__max_features=log2, model__min_samples_leaf=2, model__n_estimators=100, total= 3.4min\n",
      "[CV] model__class_weight=balanced, model__max_features=log2, model__min_samples_leaf=2, model__n_estimators=100 \n",
      "[CV]  model__class_weight=balanced, model__max_features=log2, model__min_samples_leaf=2, model__n_estimators=100, total= 3.5min\n",
      "[CV] model__class_weight=balanced, model__max_features=log2, model__min_samples_leaf=3, model__n_estimators=100 \n",
      "[CV]  model__class_weight=balanced, model__max_features=log2, model__min_samples_leaf=2, model__n_estimators=100, total= 3.5min\n",
      "[CV] model__class_weight=balanced, model__max_features=log2, model__min_samples_leaf=3, model__n_estimators=100 \n",
      "[CV]  model__class_weight=balanced, model__max_features=log2, model__min_samples_leaf=2, model__n_estimators=100, total= 3.4min\n",
      "[CV] model__class_weight=balanced, model__max_features=log2, model__min_samples_leaf=3, model__n_estimators=100 \n",
      "[CV]  model__class_weight=balanced, model__max_features=log2, model__min_samples_leaf=3, model__n_estimators=100, total= 3.4min\n",
      "[CV] model__class_weight=balanced, model__max_features=log2, model__min_samples_leaf=3, model__n_estimators=100 \n",
      "[CV]  model__class_weight=balanced, model__max_features=log2, model__min_samples_leaf=3, model__n_estimators=100, total= 3.5min\n",
      "[CV] model__class_weight=balanced, model__max_features=log2, model__min_samples_leaf=3, model__n_estimators=100 \n",
      "[CV]  model__class_weight=balanced, model__max_features=log2, model__min_samples_leaf=3, model__n_estimators=100, total= 3.5min\n",
      "[CV] model__class_weight=balanced, model__max_features=log2, model__min_samples_leaf=4, model__n_estimators=100 \n",
      "[CV]  model__class_weight=balanced, model__max_features=log2, model__min_samples_leaf=3, model__n_estimators=100, total= 3.4min\n",
      "[CV] model__class_weight=balanced, model__max_features=log2, model__min_samples_leaf=4, model__n_estimators=100 \n",
      "[CV]  model__class_weight=balanced, model__max_features=log2, model__min_samples_leaf=3, model__n_estimators=100, total= 3.5min\n",
      "[CV] model__class_weight=balanced, model__max_features=log2, model__min_samples_leaf=4, model__n_estimators=100 \n",
      "[CV]  model__class_weight=balanced, model__max_features=log2, model__min_samples_leaf=4, model__n_estimators=100, total= 3.4min\n",
      "[CV] model__class_weight=balanced, model__max_features=log2, model__min_samples_leaf=4, model__n_estimators=100 \n",
      "[CV]  model__class_weight=balanced, model__max_features=log2, model__min_samples_leaf=4, model__n_estimators=100, total= 3.4min\n",
      "[CV] model__class_weight=balanced, model__max_features=log2, model__min_samples_leaf=4, model__n_estimators=100 \n",
      "[CV]  model__class_weight=balanced, model__max_features=log2, model__min_samples_leaf=4, model__n_estimators=100, total= 3.5min\n",
      "[CV] model__class_weight=balanced, model__max_features=log2, model__min_samples_leaf=5, model__n_estimators=100 \n",
      "[CV]  model__class_weight=balanced, model__max_features=log2, model__min_samples_leaf=4, model__n_estimators=100, total= 3.4min\n",
      "[CV] model__class_weight=balanced, model__max_features=log2, model__min_samples_leaf=5, model__n_estimators=100 \n",
      "[CV]  model__class_weight=balanced, model__max_features=log2, model__min_samples_leaf=4, model__n_estimators=100, total= 3.5min\n",
      "[CV] model__class_weight=balanced, model__max_features=log2, model__min_samples_leaf=5, model__n_estimators=100 \n",
      "[CV]  model__class_weight=balanced, model__max_features=log2, model__min_samples_leaf=5, model__n_estimators=100, total= 3.5min\n",
      "[CV] model__class_weight=balanced, model__max_features=log2, model__min_samples_leaf=5, model__n_estimators=100 \n",
      "[CV]  model__class_weight=balanced, model__max_features=log2, model__min_samples_leaf=5, model__n_estimators=100, total= 3.4min\n",
      "[CV] model__class_weight=balanced, model__max_features=log2, model__min_samples_leaf=5, model__n_estimators=100 \n",
      "[CV]  model__class_weight=balanced, model__max_features=log2, model__min_samples_leaf=5, model__n_estimators=100, total= 3.4min\n",
      "[CV] model__class_weight=balanced, model__max_features=log2, model__min_samples_leaf=10, model__n_estimators=100 \n",
      "[CV]  model__class_weight=balanced, model__max_features=log2, model__min_samples_leaf=5, model__n_estimators=100, total= 3.6min\n",
      "[CV] model__class_weight=balanced, model__max_features=log2, model__min_samples_leaf=10, model__n_estimators=100 \n",
      "[CV]  model__class_weight=balanced, model__max_features=log2, model__min_samples_leaf=5, model__n_estimators=100, total= 3.5min\n",
      "[CV] model__class_weight=balanced, model__max_features=log2, model__min_samples_leaf=10, model__n_estimators=100 \n",
      "[CV]  model__class_weight=balanced, model__max_features=log2, model__min_samples_leaf=10, model__n_estimators=100, total= 3.4min\n",
      "[CV] model__class_weight=balanced, model__max_features=log2, model__min_samples_leaf=10, model__n_estimators=100 \n",
      "[CV]  model__class_weight=balanced, model__max_features=log2, model__min_samples_leaf=10, model__n_estimators=100, total= 3.4min\n",
      "[CV] model__class_weight=balanced, model__max_features=log2, model__min_samples_leaf=10, model__n_estimators=100 \n",
      "[CV]  model__class_weight=balanced, model__max_features=log2, model__min_samples_leaf=10, model__n_estimators=100, total= 3.4min\n",
      "[CV]  model__class_weight=balanced, model__max_features=log2, model__min_samples_leaf=10, model__n_estimators=100, total= 3.4min\n",
      "[CV]  model__class_weight=balanced, model__max_features=log2, model__min_samples_leaf=10, model__n_estimators=100, total= 3.0min\n"
     ]
    },
    {
     "name": "stderr",
     "output_type": "stream",
     "text": [
      "[Parallel(n_jobs=3)]: Done  60 out of  60 | elapsed: 98.6min finished\n"
     ]
    },
    {
     "name": "stdout",
     "output_type": "stream",
     "text": [
      "CPU times: user 7min 53s, sys: 13 s, total: 8min 6s\n",
      "Wall time: 1h 44min 2s\n"
     ]
    }
   ],
   "source": [
    "%%time\n",
    "from sklearn.ensemble import RandomForestClassifier\n",
    "from sklearn.model_selection import GridSearchCV\n",
    "from sklearn.pipeline import Pipeline as ppl\n",
    "# Steps for pipeline\n",
    "steps = [(\"model\", RandomForestClassifier(random_state=40))]\n",
    "pipe = ppl(steps)\n",
    "\n",
    "# Parameters\n",
    "param_grid = dict(model__n_estimators = [100],\n",
    "                  model__max_features = ['sqrt', 'log2'],\n",
    "                  model__min_samples_leaf = [1, 2, 3, 4, 5, 10],\n",
    "                  model__class_weight = ['balanced']\n",
    "                  )\n",
    "# For CV in grid search\n",
    "cv = StratifiedShuffleSplit(n_splits = 5, test_size = 0.2, random_state = 20)\n",
    "\n",
    "# Setting up the grid search\n",
    "RFbal = GridSearchCV(pipe, param_grid = param_grid, \n",
    "                           verbose = 2,\n",
    "                           cv = cv,\n",
    "                          n_jobs=3,\n",
    "                          scoring='average_precision',\n",
    "                          iid=False)\n",
    "# Training using CV\n",
    "RFbal.fit(X_train, y_train)"
   ]
  },
  {
   "cell_type": "code",
   "execution_count": 46,
   "metadata": {},
   "outputs": [
    {
     "data": {
      "text/plain": [
       "{'model__class_weight': 'balanced',\n",
       " 'model__max_features': 'sqrt',\n",
       " 'model__min_samples_leaf': 2,\n",
       " 'model__n_estimators': 100}"
      ]
     },
     "execution_count": 46,
     "metadata": {},
     "output_type": "execute_result"
    }
   ],
   "source": [
    "RFbal.best_params_"
   ]
  },
  {
   "cell_type": "code",
   "execution_count": 47,
   "metadata": {},
   "outputs": [
    {
     "data": {
      "text/plain": [
       "0.31499838891129767"
      ]
     },
     "execution_count": 47,
     "metadata": {},
     "output_type": "execute_result"
    }
   ],
   "source": [
    "RFbal.best_score_"
   ]
  },
  {
   "cell_type": "code",
   "execution_count": 48,
   "metadata": {},
   "outputs": [
    {
     "name": "stderr",
     "output_type": "stream",
     "text": [
      "//anaconda/lib/python3.6/site-packages/sklearn/model_selection/_search.py:667: DeprecationWarning: The grid_scores_ attribute was deprecated in version 0.18 in favor of the more elaborate cv_results_ attribute. The grid_scores_ attribute will not be available from 0.20\n",
      "  DeprecationWarning)\n"
     ]
    },
    {
     "data": {
      "text/plain": [
       "[mean: 0.30918, std: 0.00719, params: {'model__class_weight': 'balanced', 'model__max_features': 'sqrt', 'model__min_samples_leaf': 1, 'model__n_estimators': 100},\n",
       " mean: 0.31500, std: 0.01046, params: {'model__class_weight': 'balanced', 'model__max_features': 'sqrt', 'model__min_samples_leaf': 2, 'model__n_estimators': 100},\n",
       " mean: 0.31091, std: 0.01160, params: {'model__class_weight': 'balanced', 'model__max_features': 'sqrt', 'model__min_samples_leaf': 3, 'model__n_estimators': 100},\n",
       " mean: 0.30960, std: 0.00910, params: {'model__class_weight': 'balanced', 'model__max_features': 'sqrt', 'model__min_samples_leaf': 4, 'model__n_estimators': 100},\n",
       " mean: 0.30706, std: 0.00957, params: {'model__class_weight': 'balanced', 'model__max_features': 'sqrt', 'model__min_samples_leaf': 5, 'model__n_estimators': 100},\n",
       " mean: 0.29447, std: 0.01024, params: {'model__class_weight': 'balanced', 'model__max_features': 'sqrt', 'model__min_samples_leaf': 10, 'model__n_estimators': 100},\n",
       " mean: 0.30872, std: 0.00919, params: {'model__class_weight': 'balanced', 'model__max_features': 'log2', 'model__min_samples_leaf': 1, 'model__n_estimators': 100},\n",
       " mean: 0.30605, std: 0.00856, params: {'model__class_weight': 'balanced', 'model__max_features': 'log2', 'model__min_samples_leaf': 2, 'model__n_estimators': 100},\n",
       " mean: 0.30083, std: 0.00651, params: {'model__class_weight': 'balanced', 'model__max_features': 'log2', 'model__min_samples_leaf': 3, 'model__n_estimators': 100},\n",
       " mean: 0.29505, std: 0.01130, params: {'model__class_weight': 'balanced', 'model__max_features': 'log2', 'model__min_samples_leaf': 4, 'model__n_estimators': 100},\n",
       " mean: 0.29429, std: 0.00943, params: {'model__class_weight': 'balanced', 'model__max_features': 'log2', 'model__min_samples_leaf': 5, 'model__n_estimators': 100},\n",
       " mean: 0.27702, std: 0.00996, params: {'model__class_weight': 'balanced', 'model__max_features': 'log2', 'model__min_samples_leaf': 10, 'model__n_estimators': 100}]"
      ]
     },
     "execution_count": 48,
     "metadata": {},
     "output_type": "execute_result"
    }
   ],
   "source": [
    "RFbal.grid_scores_"
   ]
  },
  {
   "cell_type": "markdown",
   "metadata": {},
   "source": [
    "# Random Forest (SMOTE)"
   ]
  },
  {
   "cell_type": "code",
   "execution_count": 41,
   "metadata": {
    "scrolled": true
   },
   "outputs": [
    {
     "name": "stdout",
     "output_type": "stream",
     "text": [
      "Fitting 5 folds for each of 40 candidates, totalling 200 fits\n",
      "[CV] model__max_features=sqrt, model__min_samples_leaf=1, model__n_estimators=100, smote__k_neighbors=5, smote__m_neighbors=12 \n",
      "[CV] model__max_features=sqrt, model__min_samples_leaf=1, model__n_estimators=100, smote__k_neighbors=5, smote__m_neighbors=12 \n",
      "[CV] model__max_features=sqrt, model__min_samples_leaf=1, model__n_estimators=100, smote__k_neighbors=5, smote__m_neighbors=12 \n",
      "[CV]  model__max_features=sqrt, model__min_samples_leaf=1, model__n_estimators=100, smote__k_neighbors=5, smote__m_neighbors=12, total=19.6min\n",
      "[CV]  model__max_features=sqrt, model__min_samples_leaf=1, model__n_estimators=100, smote__k_neighbors=5, smote__m_neighbors=12, total=19.6min\n",
      "[CV] model__max_features=sqrt, model__min_samples_leaf=1, model__n_estimators=100, smote__k_neighbors=5, smote__m_neighbors=12 \n",
      "[CV] model__max_features=sqrt, model__min_samples_leaf=1, model__n_estimators=100, smote__k_neighbors=5, smote__m_neighbors=12 \n",
      "[CV]  model__max_features=sqrt, model__min_samples_leaf=1, model__n_estimators=100, smote__k_neighbors=5, smote__m_neighbors=12, total=20.0min\n",
      "[CV] model__max_features=sqrt, model__min_samples_leaf=1, model__n_estimators=100, smote__k_neighbors=5, smote__m_neighbors=10 \n",
      "[CV]  model__max_features=sqrt, model__min_samples_leaf=1, model__n_estimators=100, smote__k_neighbors=5, smote__m_neighbors=12, total=19.7min\n",
      "[CV] model__max_features=sqrt, model__min_samples_leaf=1, model__n_estimators=100, smote__k_neighbors=5, smote__m_neighbors=10 \n",
      "[CV]  model__max_features=sqrt, model__min_samples_leaf=1, model__n_estimators=100, smote__k_neighbors=5, smote__m_neighbors=12, total=19.9min\n",
      "[CV] model__max_features=sqrt, model__min_samples_leaf=1, model__n_estimators=100, smote__k_neighbors=5, smote__m_neighbors=10 \n",
      "[CV]  model__max_features=sqrt, model__min_samples_leaf=1, model__n_estimators=100, smote__k_neighbors=5, smote__m_neighbors=10, total=19.6min\n",
      "[CV] model__max_features=sqrt, model__min_samples_leaf=1, model__n_estimators=100, smote__k_neighbors=5, smote__m_neighbors=10 \n",
      "[CV]  model__max_features=sqrt, model__min_samples_leaf=1, model__n_estimators=100, smote__k_neighbors=5, smote__m_neighbors=10, total=19.7min\n",
      "[CV] model__max_features=sqrt, model__min_samples_leaf=1, model__n_estimators=100, smote__k_neighbors=5, smote__m_neighbors=10 \n",
      "[CV]  model__max_features=sqrt, model__min_samples_leaf=1, model__n_estimators=100, smote__k_neighbors=5, smote__m_neighbors=10, total=19.6min\n",
      "[CV] model__max_features=sqrt, model__min_samples_leaf=1, model__n_estimators=100, smote__k_neighbors=3, smote__m_neighbors=12 \n",
      "[CV]  model__max_features=sqrt, model__min_samples_leaf=1, model__n_estimators=100, smote__k_neighbors=5, smote__m_neighbors=10, total=20.1min\n",
      "[CV] model__max_features=sqrt, model__min_samples_leaf=1, model__n_estimators=100, smote__k_neighbors=3, smote__m_neighbors=12 \n",
      "[CV]  model__max_features=sqrt, model__min_samples_leaf=1, model__n_estimators=100, smote__k_neighbors=5, smote__m_neighbors=10, total=19.6min\n",
      "[CV] model__max_features=sqrt, model__min_samples_leaf=1, model__n_estimators=100, smote__k_neighbors=3, smote__m_neighbors=12 \n",
      "[CV]  model__max_features=sqrt, model__min_samples_leaf=1, model__n_estimators=100, smote__k_neighbors=3, smote__m_neighbors=12, total=19.7min\n",
      "[CV] model__max_features=sqrt, model__min_samples_leaf=1, model__n_estimators=100, smote__k_neighbors=3, smote__m_neighbors=12 \n",
      "[CV]  model__max_features=sqrt, model__min_samples_leaf=1, model__n_estimators=100, smote__k_neighbors=3, smote__m_neighbors=12, total=20.8min\n",
      "[CV] model__max_features=sqrt, model__min_samples_leaf=1, model__n_estimators=100, smote__k_neighbors=3, smote__m_neighbors=12 \n",
      "[CV]  model__max_features=sqrt, model__min_samples_leaf=1, model__n_estimators=100, smote__k_neighbors=3, smote__m_neighbors=12, total=19.9min\n",
      "[CV] model__max_features=sqrt, model__min_samples_leaf=1, model__n_estimators=100, smote__k_neighbors=3, smote__m_neighbors=10 \n",
      "[CV]  model__max_features=sqrt, model__min_samples_leaf=1, model__n_estimators=100, smote__k_neighbors=3, smote__m_neighbors=12, total=20.0min\n",
      "[CV] model__max_features=sqrt, model__min_samples_leaf=1, model__n_estimators=100, smote__k_neighbors=3, smote__m_neighbors=10 \n",
      "[CV]  model__max_features=sqrt, model__min_samples_leaf=1, model__n_estimators=100, smote__k_neighbors=3, smote__m_neighbors=12, total=20.6min\n",
      "[CV] model__max_features=sqrt, model__min_samples_leaf=1, model__n_estimators=100, smote__k_neighbors=3, smote__m_neighbors=10 \n",
      "[CV]  model__max_features=sqrt, model__min_samples_leaf=1, model__n_estimators=100, smote__k_neighbors=3, smote__m_neighbors=10, total=20.8min\n",
      "[CV] model__max_features=sqrt, model__min_samples_leaf=1, model__n_estimators=100, smote__k_neighbors=3, smote__m_neighbors=10 \n",
      "[CV]  model__max_features=sqrt, model__min_samples_leaf=1, model__n_estimators=100, smote__k_neighbors=3, smote__m_neighbors=10, total=20.0min\n",
      "[CV] model__max_features=sqrt, model__min_samples_leaf=1, model__n_estimators=100, smote__k_neighbors=3, smote__m_neighbors=10 \n",
      "[CV]  model__max_features=sqrt, model__min_samples_leaf=1, model__n_estimators=100, smote__k_neighbors=3, smote__m_neighbors=10, total=20.2min\n",
      "[CV] model__max_features=sqrt, model__min_samples_leaf=2, model__n_estimators=100, smote__k_neighbors=5, smote__m_neighbors=12 \n",
      "[CV]  model__max_features=sqrt, model__min_samples_leaf=1, model__n_estimators=100, smote__k_neighbors=3, smote__m_neighbors=10, total=20.0min\n",
      "[CV] model__max_features=sqrt, model__min_samples_leaf=2, model__n_estimators=100, smote__k_neighbors=5, smote__m_neighbors=12 \n",
      "[CV]  model__max_features=sqrt, model__min_samples_leaf=1, model__n_estimators=100, smote__k_neighbors=3, smote__m_neighbors=10, total=20.0min\n",
      "[CV] model__max_features=sqrt, model__min_samples_leaf=2, model__n_estimators=100, smote__k_neighbors=5, smote__m_neighbors=12 \n",
      "[CV]  model__max_features=sqrt, model__min_samples_leaf=2, model__n_estimators=100, smote__k_neighbors=5, smote__m_neighbors=12, total=20.2min\n",
      "[CV] model__max_features=sqrt, model__min_samples_leaf=2, model__n_estimators=100, smote__k_neighbors=5, smote__m_neighbors=12 \n",
      "[CV]  model__max_features=sqrt, model__min_samples_leaf=2, model__n_estimators=100, smote__k_neighbors=5, smote__m_neighbors=12, total=19.9min\n",
      "[CV] model__max_features=sqrt, model__min_samples_leaf=2, model__n_estimators=100, smote__k_neighbors=5, smote__m_neighbors=12 \n",
      "[CV]  model__max_features=sqrt, model__min_samples_leaf=2, model__n_estimators=100, smote__k_neighbors=5, smote__m_neighbors=12, total=19.6min\n",
      "[CV] model__max_features=sqrt, model__min_samples_leaf=2, model__n_estimators=100, smote__k_neighbors=5, smote__m_neighbors=10 \n",
      "[CV]  model__max_features=sqrt, model__min_samples_leaf=2, model__n_estimators=100, smote__k_neighbors=5, smote__m_neighbors=12, total=19.9min\n",
      "[CV] model__max_features=sqrt, model__min_samples_leaf=2, model__n_estimators=100, smote__k_neighbors=5, smote__m_neighbors=10 \n",
      "[CV]  model__max_features=sqrt, model__min_samples_leaf=2, model__n_estimators=100, smote__k_neighbors=5, smote__m_neighbors=12, total=19.1min\n",
      "[CV] model__max_features=sqrt, model__min_samples_leaf=2, model__n_estimators=100, smote__k_neighbors=5, smote__m_neighbors=10 \n",
      "[CV]  model__max_features=sqrt, model__min_samples_leaf=2, model__n_estimators=100, smote__k_neighbors=5, smote__m_neighbors=10, total=19.5min\n",
      "[CV] model__max_features=sqrt, model__min_samples_leaf=2, model__n_estimators=100, smote__k_neighbors=5, smote__m_neighbors=10 \n",
      "[CV]  model__max_features=sqrt, model__min_samples_leaf=2, model__n_estimators=100, smote__k_neighbors=5, smote__m_neighbors=10, total=20.0min\n",
      "[CV] model__max_features=sqrt, model__min_samples_leaf=2, model__n_estimators=100, smote__k_neighbors=5, smote__m_neighbors=10 \n",
      "[CV]  model__max_features=sqrt, model__min_samples_leaf=2, model__n_estimators=100, smote__k_neighbors=5, smote__m_neighbors=10, total=19.5min\n",
      "[CV] model__max_features=sqrt, model__min_samples_leaf=2, model__n_estimators=100, smote__k_neighbors=3, smote__m_neighbors=12 \n",
      "[CV]  model__max_features=sqrt, model__min_samples_leaf=2, model__n_estimators=100, smote__k_neighbors=5, smote__m_neighbors=10, total=19.9min\n",
      "[CV] model__max_features=sqrt, model__min_samples_leaf=2, model__n_estimators=100, smote__k_neighbors=3, smote__m_neighbors=12 \n"
     ]
    },
    {
     "name": "stdout",
     "output_type": "stream",
     "text": [
      "[CV]  model__max_features=sqrt, model__min_samples_leaf=2, model__n_estimators=100, smote__k_neighbors=5, smote__m_neighbors=10, total=19.2min\n",
      "[CV] model__max_features=sqrt, model__min_samples_leaf=2, model__n_estimators=100, smote__k_neighbors=3, smote__m_neighbors=12 \n",
      "[CV]  model__max_features=sqrt, model__min_samples_leaf=2, model__n_estimators=100, smote__k_neighbors=3, smote__m_neighbors=12, total=19.4min\n",
      "[CV] model__max_features=sqrt, model__min_samples_leaf=2, model__n_estimators=100, smote__k_neighbors=3, smote__m_neighbors=12 \n",
      "[CV]  model__max_features=sqrt, model__min_samples_leaf=2, model__n_estimators=100, smote__k_neighbors=3, smote__m_neighbors=12, total=19.0min\n",
      "[CV] model__max_features=sqrt, model__min_samples_leaf=2, model__n_estimators=100, smote__k_neighbors=3, smote__m_neighbors=12 \n",
      "[CV]  model__max_features=sqrt, model__min_samples_leaf=2, model__n_estimators=100, smote__k_neighbors=3, smote__m_neighbors=12, total=20.1min\n",
      "[CV] model__max_features=sqrt, model__min_samples_leaf=2, model__n_estimators=100, smote__k_neighbors=3, smote__m_neighbors=10 \n",
      "[CV]  model__max_features=sqrt, model__min_samples_leaf=2, model__n_estimators=100, smote__k_neighbors=3, smote__m_neighbors=12, total=19.7min\n",
      "[CV] model__max_features=sqrt, model__min_samples_leaf=2, model__n_estimators=100, smote__k_neighbors=3, smote__m_neighbors=10 \n",
      "[CV]  model__max_features=sqrt, model__min_samples_leaf=2, model__n_estimators=100, smote__k_neighbors=3, smote__m_neighbors=12, total=19.7min\n"
     ]
    },
    {
     "name": "stderr",
     "output_type": "stream",
     "text": [
      "[Parallel(n_jobs=3)]: Done  35 tasks      | elapsed: 241.2min\n"
     ]
    },
    {
     "name": "stdout",
     "output_type": "stream",
     "text": [
      "[CV] model__max_features=sqrt, model__min_samples_leaf=2, model__n_estimators=100, smote__k_neighbors=3, smote__m_neighbors=10 \n",
      "[CV]  model__max_features=sqrt, model__min_samples_leaf=2, model__n_estimators=100, smote__k_neighbors=3, smote__m_neighbors=10, total=19.6min\n",
      "[CV] model__max_features=sqrt, model__min_samples_leaf=2, model__n_estimators=100, smote__k_neighbors=3, smote__m_neighbors=10 \n",
      "[CV]  model__max_features=sqrt, model__min_samples_leaf=2, model__n_estimators=100, smote__k_neighbors=3, smote__m_neighbors=10, total=19.0min\n",
      "[CV] model__max_features=sqrt, model__min_samples_leaf=2, model__n_estimators=100, smote__k_neighbors=3, smote__m_neighbors=10 \n",
      "[CV]  model__max_features=sqrt, model__min_samples_leaf=2, model__n_estimators=100, smote__k_neighbors=3, smote__m_neighbors=10, total=19.6min\n",
      "[CV] model__max_features=sqrt, model__min_samples_leaf=3, model__n_estimators=100, smote__k_neighbors=5, smote__m_neighbors=12 \n",
      "[CV]  model__max_features=sqrt, model__min_samples_leaf=2, model__n_estimators=100, smote__k_neighbors=3, smote__m_neighbors=10, total=20.0min\n",
      "[CV] model__max_features=sqrt, model__min_samples_leaf=3, model__n_estimators=100, smote__k_neighbors=5, smote__m_neighbors=12 \n",
      "[CV]  model__max_features=sqrt, model__min_samples_leaf=2, model__n_estimators=100, smote__k_neighbors=3, smote__m_neighbors=10, total=19.6min\n",
      "[CV] model__max_features=sqrt, model__min_samples_leaf=3, model__n_estimators=100, smote__k_neighbors=5, smote__m_neighbors=12 \n",
      "[CV]  model__max_features=sqrt, model__min_samples_leaf=3, model__n_estimators=100, smote__k_neighbors=5, smote__m_neighbors=12, total=19.8min\n",
      "[CV] model__max_features=sqrt, model__min_samples_leaf=3, model__n_estimators=100, smote__k_neighbors=5, smote__m_neighbors=12 \n",
      "[CV]  model__max_features=sqrt, model__min_samples_leaf=3, model__n_estimators=100, smote__k_neighbors=5, smote__m_neighbors=12, total=19.6min\n",
      "[CV] model__max_features=sqrt, model__min_samples_leaf=3, model__n_estimators=100, smote__k_neighbors=5, smote__m_neighbors=12 \n",
      "[CV]  model__max_features=sqrt, model__min_samples_leaf=3, model__n_estimators=100, smote__k_neighbors=5, smote__m_neighbors=12, total=19.2min\n",
      "[CV] model__max_features=sqrt, model__min_samples_leaf=3, model__n_estimators=100, smote__k_neighbors=5, smote__m_neighbors=10 \n",
      "[CV]  model__max_features=sqrt, model__min_samples_leaf=3, model__n_estimators=100, smote__k_neighbors=5, smote__m_neighbors=12, total=18.9min\n",
      "[CV] model__max_features=sqrt, model__min_samples_leaf=3, model__n_estimators=100, smote__k_neighbors=5, smote__m_neighbors=10 \n",
      "[CV]  model__max_features=sqrt, model__min_samples_leaf=3, model__n_estimators=100, smote__k_neighbors=5, smote__m_neighbors=12, total=19.6min\n",
      "[CV] model__max_features=sqrt, model__min_samples_leaf=3, model__n_estimators=100, smote__k_neighbors=5, smote__m_neighbors=10 \n",
      "[CV]  model__max_features=sqrt, model__min_samples_leaf=3, model__n_estimators=100, smote__k_neighbors=5, smote__m_neighbors=10, total=19.7min\n",
      "[CV] model__max_features=sqrt, model__min_samples_leaf=3, model__n_estimators=100, smote__k_neighbors=5, smote__m_neighbors=10 \n",
      "[CV]  model__max_features=sqrt, model__min_samples_leaf=3, model__n_estimators=100, smote__k_neighbors=5, smote__m_neighbors=10, total=19.7min\n",
      "[CV] model__max_features=sqrt, model__min_samples_leaf=3, model__n_estimators=100, smote__k_neighbors=5, smote__m_neighbors=10 \n",
      "[CV]  model__max_features=sqrt, model__min_samples_leaf=3, model__n_estimators=100, smote__k_neighbors=5, smote__m_neighbors=10, total=19.3min\n",
      "[CV] model__max_features=sqrt, model__min_samples_leaf=3, model__n_estimators=100, smote__k_neighbors=3, smote__m_neighbors=12 \n",
      "[CV]  model__max_features=sqrt, model__min_samples_leaf=3, model__n_estimators=100, smote__k_neighbors=5, smote__m_neighbors=10, total=18.9min\n",
      "[CV] model__max_features=sqrt, model__min_samples_leaf=3, model__n_estimators=100, smote__k_neighbors=3, smote__m_neighbors=12 \n",
      "[CV]  model__max_features=sqrt, model__min_samples_leaf=3, model__n_estimators=100, smote__k_neighbors=5, smote__m_neighbors=10, total=19.1min\n",
      "[CV] model__max_features=sqrt, model__min_samples_leaf=3, model__n_estimators=100, smote__k_neighbors=3, smote__m_neighbors=12 \n",
      "[CV]  model__max_features=sqrt, model__min_samples_leaf=3, model__n_estimators=100, smote__k_neighbors=3, smote__m_neighbors=12, total=19.5min\n",
      "[CV] model__max_features=sqrt, model__min_samples_leaf=3, model__n_estimators=100, smote__k_neighbors=3, smote__m_neighbors=12 \n",
      "[CV]  model__max_features=sqrt, model__min_samples_leaf=3, model__n_estimators=100, smote__k_neighbors=3, smote__m_neighbors=12, total=19.3min\n",
      "[CV] model__max_features=sqrt, model__min_samples_leaf=3, model__n_estimators=100, smote__k_neighbors=3, smote__m_neighbors=12 \n",
      "[CV]  model__max_features=sqrt, model__min_samples_leaf=3, model__n_estimators=100, smote__k_neighbors=3, smote__m_neighbors=12, total=19.8min\n",
      "[CV] model__max_features=sqrt, model__min_samples_leaf=3, model__n_estimators=100, smote__k_neighbors=3, smote__m_neighbors=10 \n",
      "[CV]  model__max_features=sqrt, model__min_samples_leaf=3, model__n_estimators=100, smote__k_neighbors=3, smote__m_neighbors=12, total=19.4min\n",
      "[CV] model__max_features=sqrt, model__min_samples_leaf=3, model__n_estimators=100, smote__k_neighbors=3, smote__m_neighbors=10 \n",
      "[CV]  model__max_features=sqrt, model__min_samples_leaf=3, model__n_estimators=100, smote__k_neighbors=3, smote__m_neighbors=12, total=19.6min\n",
      "[CV] model__max_features=sqrt, model__min_samples_leaf=3, model__n_estimators=100, smote__k_neighbors=3, smote__m_neighbors=10 \n",
      "[CV]  model__max_features=sqrt, model__min_samples_leaf=3, model__n_estimators=100, smote__k_neighbors=3, smote__m_neighbors=10, total=19.0min\n",
      "[CV] model__max_features=sqrt, model__min_samples_leaf=3, model__n_estimators=100, smote__k_neighbors=3, smote__m_neighbors=10 \n",
      "[CV]  model__max_features=sqrt, model__min_samples_leaf=3, model__n_estimators=100, smote__k_neighbors=3, smote__m_neighbors=10, total=19.6min\n",
      "[CV] model__max_features=sqrt, model__min_samples_leaf=3, model__n_estimators=100, smote__k_neighbors=3, smote__m_neighbors=10 \n",
      "[CV]  model__max_features=sqrt, model__min_samples_leaf=3, model__n_estimators=100, smote__k_neighbors=3, smote__m_neighbors=10, total=19.7min\n",
      "[CV] model__max_features=sqrt, model__min_samples_leaf=4, model__n_estimators=100, smote__k_neighbors=5, smote__m_neighbors=12 \n",
      "[CV]  model__max_features=sqrt, model__min_samples_leaf=3, model__n_estimators=100, smote__k_neighbors=3, smote__m_neighbors=10, total=19.5min\n",
      "[CV] model__max_features=sqrt, model__min_samples_leaf=4, model__n_estimators=100, smote__k_neighbors=5, smote__m_neighbors=12 \n",
      "[CV]  model__max_features=sqrt, model__min_samples_leaf=3, model__n_estimators=100, smote__k_neighbors=3, smote__m_neighbors=10, total=19.7min\n",
      "[CV] model__max_features=sqrt, model__min_samples_leaf=4, model__n_estimators=100, smote__k_neighbors=5, smote__m_neighbors=12 \n",
      "[CV]  model__max_features=sqrt, model__min_samples_leaf=4, model__n_estimators=100, smote__k_neighbors=5, smote__m_neighbors=12, total=19.0min\n",
      "[CV] model__max_features=sqrt, model__min_samples_leaf=4, model__n_estimators=100, smote__k_neighbors=5, smote__m_neighbors=12 \n",
      "[CV]  model__max_features=sqrt, model__min_samples_leaf=4, model__n_estimators=100, smote__k_neighbors=5, smote__m_neighbors=12, total=19.2min\n",
      "[CV] model__max_features=sqrt, model__min_samples_leaf=4, model__n_estimators=100, smote__k_neighbors=5, smote__m_neighbors=12 \n",
      "[CV]  model__max_features=sqrt, model__min_samples_leaf=4, model__n_estimators=100, smote__k_neighbors=5, smote__m_neighbors=12, total=19.7min\n",
      "[CV] model__max_features=sqrt, model__min_samples_leaf=4, model__n_estimators=100, smote__k_neighbors=5, smote__m_neighbors=10 \n",
      "[CV]  model__max_features=sqrt, model__min_samples_leaf=4, model__n_estimators=100, smote__k_neighbors=5, smote__m_neighbors=12, total=19.2min\n",
      "[CV] model__max_features=sqrt, model__min_samples_leaf=4, model__n_estimators=100, smote__k_neighbors=5, smote__m_neighbors=10 \n",
      "[CV]  model__max_features=sqrt, model__min_samples_leaf=4, model__n_estimators=100, smote__k_neighbors=5, smote__m_neighbors=12, total=19.3min\n",
      "[CV] model__max_features=sqrt, model__min_samples_leaf=4, model__n_estimators=100, smote__k_neighbors=5, smote__m_neighbors=10 \n"
     ]
    },
    {
     "name": "stdout",
     "output_type": "stream",
     "text": [
      "[CV]  model__max_features=sqrt, model__min_samples_leaf=4, model__n_estimators=100, smote__k_neighbors=5, smote__m_neighbors=10, total=19.2min\n",
      "[CV] model__max_features=sqrt, model__min_samples_leaf=4, model__n_estimators=100, smote__k_neighbors=5, smote__m_neighbors=10 \n",
      "[CV]  model__max_features=sqrt, model__min_samples_leaf=4, model__n_estimators=100, smote__k_neighbors=5, smote__m_neighbors=10, total=19.2min\n",
      "[CV] model__max_features=sqrt, model__min_samples_leaf=4, model__n_estimators=100, smote__k_neighbors=5, smote__m_neighbors=10 \n",
      "[CV]  model__max_features=sqrt, model__min_samples_leaf=4, model__n_estimators=100, smote__k_neighbors=5, smote__m_neighbors=10, total=19.3min\n",
      "[CV] model__max_features=sqrt, model__min_samples_leaf=4, model__n_estimators=100, smote__k_neighbors=3, smote__m_neighbors=12 \n",
      "[CV]  model__max_features=sqrt, model__min_samples_leaf=4, model__n_estimators=100, smote__k_neighbors=5, smote__m_neighbors=10, total=19.5min\n",
      "[CV] model__max_features=sqrt, model__min_samples_leaf=4, model__n_estimators=100, smote__k_neighbors=3, smote__m_neighbors=12 \n",
      "[CV]  model__max_features=sqrt, model__min_samples_leaf=4, model__n_estimators=100, smote__k_neighbors=5, smote__m_neighbors=10, total=19.3min\n",
      "[CV] model__max_features=sqrt, model__min_samples_leaf=4, model__n_estimators=100, smote__k_neighbors=3, smote__m_neighbors=12 \n",
      "[CV]  model__max_features=sqrt, model__min_samples_leaf=4, model__n_estimators=100, smote__k_neighbors=3, smote__m_neighbors=12, total=19.0min\n",
      "[CV] model__max_features=sqrt, model__min_samples_leaf=4, model__n_estimators=100, smote__k_neighbors=3, smote__m_neighbors=12 \n",
      "[CV]  model__max_features=sqrt, model__min_samples_leaf=4, model__n_estimators=100, smote__k_neighbors=3, smote__m_neighbors=12, total=19.2min\n",
      "[CV] model__max_features=sqrt, model__min_samples_leaf=4, model__n_estimators=100, smote__k_neighbors=3, smote__m_neighbors=12 \n",
      "[CV]  model__max_features=sqrt, model__min_samples_leaf=4, model__n_estimators=100, smote__k_neighbors=3, smote__m_neighbors=12, total=19.6min\n",
      "[CV] model__max_features=sqrt, model__min_samples_leaf=4, model__n_estimators=100, smote__k_neighbors=3, smote__m_neighbors=10 \n",
      "[CV]  model__max_features=sqrt, model__min_samples_leaf=4, model__n_estimators=100, smote__k_neighbors=3, smote__m_neighbors=12, total=19.4min\n",
      "[CV] model__max_features=sqrt, model__min_samples_leaf=4, model__n_estimators=100, smote__k_neighbors=3, smote__m_neighbors=10 \n",
      "[CV]  model__max_features=sqrt, model__min_samples_leaf=4, model__n_estimators=100, smote__k_neighbors=3, smote__m_neighbors=12, total=20.2min\n",
      "[CV] model__max_features=sqrt, model__min_samples_leaf=4, model__n_estimators=100, smote__k_neighbors=3, smote__m_neighbors=10 \n",
      "[CV]  model__max_features=sqrt, model__min_samples_leaf=4, model__n_estimators=100, smote__k_neighbors=3, smote__m_neighbors=10, total=19.0min\n",
      "[CV] model__max_features=sqrt, model__min_samples_leaf=4, model__n_estimators=100, smote__k_neighbors=3, smote__m_neighbors=10 \n",
      "[CV]  model__max_features=sqrt, model__min_samples_leaf=4, model__n_estimators=100, smote__k_neighbors=3, smote__m_neighbors=10, total=19.3min\n",
      "[CV] model__max_features=sqrt, model__min_samples_leaf=4, model__n_estimators=100, smote__k_neighbors=3, smote__m_neighbors=10 \n",
      "[CV]  model__max_features=sqrt, model__min_samples_leaf=4, model__n_estimators=100, smote__k_neighbors=3, smote__m_neighbors=10, total=19.7min\n",
      "[CV] model__max_features=sqrt, model__min_samples_leaf=5, model__n_estimators=100, smote__k_neighbors=5, smote__m_neighbors=12 \n",
      "[CV]  model__max_features=sqrt, model__min_samples_leaf=4, model__n_estimators=100, smote__k_neighbors=3, smote__m_neighbors=10, total=19.4min\n",
      "[CV] model__max_features=sqrt, model__min_samples_leaf=5, model__n_estimators=100, smote__k_neighbors=5, smote__m_neighbors=12 \n",
      "[CV]  model__max_features=sqrt, model__min_samples_leaf=4, model__n_estimators=100, smote__k_neighbors=3, smote__m_neighbors=10, total=19.7min\n",
      "[CV] model__max_features=sqrt, model__min_samples_leaf=5, model__n_estimators=100, smote__k_neighbors=5, smote__m_neighbors=12 \n",
      "[CV]  model__max_features=sqrt, model__min_samples_leaf=5, model__n_estimators=100, smote__k_neighbors=5, smote__m_neighbors=12, total=19.6min\n",
      "[CV] model__max_features=sqrt, model__min_samples_leaf=5, model__n_estimators=100, smote__k_neighbors=5, smote__m_neighbors=12 \n",
      "[CV]  model__max_features=sqrt, model__min_samples_leaf=5, model__n_estimators=100, smote__k_neighbors=5, smote__m_neighbors=12, total=19.1min\n",
      "[CV] model__max_features=sqrt, model__min_samples_leaf=5, model__n_estimators=100, smote__k_neighbors=5, smote__m_neighbors=12 \n",
      "[CV]  model__max_features=sqrt, model__min_samples_leaf=5, model__n_estimators=100, smote__k_neighbors=5, smote__m_neighbors=12, total=19.1min\n",
      "[CV] model__max_features=sqrt, model__min_samples_leaf=5, model__n_estimators=100, smote__k_neighbors=5, smote__m_neighbors=10 \n",
      "[CV]  model__max_features=sqrt, model__min_samples_leaf=5, model__n_estimators=100, smote__k_neighbors=5, smote__m_neighbors=12, total=19.6min\n",
      "[CV] model__max_features=sqrt, model__min_samples_leaf=5, model__n_estimators=100, smote__k_neighbors=5, smote__m_neighbors=10 \n",
      "[CV]  model__max_features=sqrt, model__min_samples_leaf=5, model__n_estimators=100, smote__k_neighbors=5, smote__m_neighbors=12, total=20.2min\n",
      "[CV] model__max_features=sqrt, model__min_samples_leaf=5, model__n_estimators=100, smote__k_neighbors=5, smote__m_neighbors=10 \n",
      "[CV]  model__max_features=sqrt, model__min_samples_leaf=5, model__n_estimators=100, smote__k_neighbors=5, smote__m_neighbors=10, total=20.3min\n",
      "[CV] model__max_features=sqrt, model__min_samples_leaf=5, model__n_estimators=100, smote__k_neighbors=5, smote__m_neighbors=10 \n",
      "[CV]  model__max_features=sqrt, model__min_samples_leaf=5, model__n_estimators=100, smote__k_neighbors=5, smote__m_neighbors=10, total=21.3min\n",
      "[CV] model__max_features=sqrt, model__min_samples_leaf=5, model__n_estimators=100, smote__k_neighbors=5, smote__m_neighbors=10 \n",
      "[CV]  model__max_features=sqrt, model__min_samples_leaf=5, model__n_estimators=100, smote__k_neighbors=5, smote__m_neighbors=10, total=20.1min\n",
      "[CV] model__max_features=sqrt, model__min_samples_leaf=5, model__n_estimators=100, smote__k_neighbors=3, smote__m_neighbors=12 \n",
      "[CV]  model__max_features=sqrt, model__min_samples_leaf=5, model__n_estimators=100, smote__k_neighbors=5, smote__m_neighbors=10, total=20.5min\n",
      "[CV] model__max_features=sqrt, model__min_samples_leaf=5, model__n_estimators=100, smote__k_neighbors=3, smote__m_neighbors=12 \n",
      "[CV]  model__max_features=sqrt, model__min_samples_leaf=5, model__n_estimators=100, smote__k_neighbors=5, smote__m_neighbors=10, total=19.6min\n",
      "[CV] model__max_features=sqrt, model__min_samples_leaf=5, model__n_estimators=100, smote__k_neighbors=3, smote__m_neighbors=12 \n",
      "[CV]  model__max_features=sqrt, model__min_samples_leaf=5, model__n_estimators=100, smote__k_neighbors=3, smote__m_neighbors=12, total=19.7min\n",
      "[CV] model__max_features=sqrt, model__min_samples_leaf=5, model__n_estimators=100, smote__k_neighbors=3, smote__m_neighbors=12 \n",
      "[CV]  model__max_features=sqrt, model__min_samples_leaf=5, model__n_estimators=100, smote__k_neighbors=3, smote__m_neighbors=12, total=19.8min\n",
      "[CV] model__max_features=sqrt, model__min_samples_leaf=5, model__n_estimators=100, smote__k_neighbors=3, smote__m_neighbors=12 \n",
      "[CV]  model__max_features=sqrt, model__min_samples_leaf=5, model__n_estimators=100, smote__k_neighbors=3, smote__m_neighbors=12, total=19.9min\n",
      "[CV] model__max_features=sqrt, model__min_samples_leaf=5, model__n_estimators=100, smote__k_neighbors=3, smote__m_neighbors=10 \n",
      "[CV]  model__max_features=sqrt, model__min_samples_leaf=5, model__n_estimators=100, smote__k_neighbors=3, smote__m_neighbors=12, total=19.5min\n",
      "[CV] model__max_features=sqrt, model__min_samples_leaf=5, model__n_estimators=100, smote__k_neighbors=3, smote__m_neighbors=10 \n",
      "[CV]  model__max_features=sqrt, model__min_samples_leaf=5, model__n_estimators=100, smote__k_neighbors=3, smote__m_neighbors=12, total=19.9min\n",
      "[CV] model__max_features=sqrt, model__min_samples_leaf=5, model__n_estimators=100, smote__k_neighbors=3, smote__m_neighbors=10 \n",
      "[CV]  model__max_features=sqrt, model__min_samples_leaf=5, model__n_estimators=100, smote__k_neighbors=3, smote__m_neighbors=10, total=19.6min\n"
     ]
    },
    {
     "name": "stdout",
     "output_type": "stream",
     "text": [
      "[CV] model__max_features=sqrt, model__min_samples_leaf=5, model__n_estimators=100, smote__k_neighbors=3, smote__m_neighbors=10 \n",
      "[CV]  model__max_features=sqrt, model__min_samples_leaf=5, model__n_estimators=100, smote__k_neighbors=3, smote__m_neighbors=10, total=19.9min\n",
      "[CV] model__max_features=sqrt, model__min_samples_leaf=5, model__n_estimators=100, smote__k_neighbors=3, smote__m_neighbors=10 \n",
      "[CV]  model__max_features=sqrt, model__min_samples_leaf=5, model__n_estimators=100, smote__k_neighbors=3, smote__m_neighbors=10, total=19.5min\n",
      "[CV] model__max_features=log2, model__min_samples_leaf=1, model__n_estimators=100, smote__k_neighbors=5, smote__m_neighbors=12 \n",
      "[CV]  model__max_features=sqrt, model__min_samples_leaf=5, model__n_estimators=100, smote__k_neighbors=3, smote__m_neighbors=10, total=20.4min\n",
      "[CV] model__max_features=log2, model__min_samples_leaf=1, model__n_estimators=100, smote__k_neighbors=5, smote__m_neighbors=12 \n",
      "[CV]  model__max_features=log2, model__min_samples_leaf=1, model__n_estimators=100, smote__k_neighbors=5, smote__m_neighbors=12, total=12.9min\n",
      "[CV] model__max_features=log2, model__min_samples_leaf=1, model__n_estimators=100, smote__k_neighbors=5, smote__m_neighbors=12 \n",
      "[CV]  model__max_features=sqrt, model__min_samples_leaf=5, model__n_estimators=100, smote__k_neighbors=3, smote__m_neighbors=10, total=21.0min\n",
      "[CV] model__max_features=log2, model__min_samples_leaf=1, model__n_estimators=100, smote__k_neighbors=5, smote__m_neighbors=12 \n",
      "[CV]  model__max_features=log2, model__min_samples_leaf=1, model__n_estimators=100, smote__k_neighbors=5, smote__m_neighbors=12, total=12.6min\n",
      "[CV] model__max_features=log2, model__min_samples_leaf=1, model__n_estimators=100, smote__k_neighbors=5, smote__m_neighbors=12 \n",
      "[CV]  model__max_features=log2, model__min_samples_leaf=1, model__n_estimators=100, smote__k_neighbors=5, smote__m_neighbors=12, total=12.2min\n",
      "[CV] model__max_features=log2, model__min_samples_leaf=1, model__n_estimators=100, smote__k_neighbors=5, smote__m_neighbors=10 \n",
      "[CV]  model__max_features=log2, model__min_samples_leaf=1, model__n_estimators=100, smote__k_neighbors=5, smote__m_neighbors=12, total=12.6min\n",
      "[CV] model__max_features=log2, model__min_samples_leaf=1, model__n_estimators=100, smote__k_neighbors=5, smote__m_neighbors=10 \n",
      "[CV]  model__max_features=log2, model__min_samples_leaf=1, model__n_estimators=100, smote__k_neighbors=5, smote__m_neighbors=12, total=12.3min\n",
      "[CV] model__max_features=log2, model__min_samples_leaf=1, model__n_estimators=100, smote__k_neighbors=5, smote__m_neighbors=10 \n",
      "[CV]  model__max_features=log2, model__min_samples_leaf=1, model__n_estimators=100, smote__k_neighbors=5, smote__m_neighbors=10, total=12.3min\n",
      "[CV] model__max_features=log2, model__min_samples_leaf=1, model__n_estimators=100, smote__k_neighbors=5, smote__m_neighbors=10 \n",
      "[CV]  model__max_features=log2, model__min_samples_leaf=1, model__n_estimators=100, smote__k_neighbors=5, smote__m_neighbors=10, total=12.2min\n",
      "[CV] model__max_features=log2, model__min_samples_leaf=1, model__n_estimators=100, smote__k_neighbors=5, smote__m_neighbors=10 \n",
      "[CV]  model__max_features=log2, model__min_samples_leaf=1, model__n_estimators=100, smote__k_neighbors=5, smote__m_neighbors=10, total=12.5min\n",
      "[CV] model__max_features=log2, model__min_samples_leaf=1, model__n_estimators=100, smote__k_neighbors=3, smote__m_neighbors=12 \n",
      "[CV]  model__max_features=log2, model__min_samples_leaf=1, model__n_estimators=100, smote__k_neighbors=5, smote__m_neighbors=10, total=12.9min\n",
      "[CV] model__max_features=log2, model__min_samples_leaf=1, model__n_estimators=100, smote__k_neighbors=3, smote__m_neighbors=12 \n",
      "[CV]  model__max_features=log2, model__min_samples_leaf=1, model__n_estimators=100, smote__k_neighbors=5, smote__m_neighbors=10, total=12.5min\n",
      "[CV] model__max_features=log2, model__min_samples_leaf=1, model__n_estimators=100, smote__k_neighbors=3, smote__m_neighbors=12 \n",
      "[CV]  model__max_features=log2, model__min_samples_leaf=1, model__n_estimators=100, smote__k_neighbors=3, smote__m_neighbors=12, total=12.5min\n",
      "[CV] model__max_features=log2, model__min_samples_leaf=1, model__n_estimators=100, smote__k_neighbors=3, smote__m_neighbors=12 \n",
      "[CV]  model__max_features=log2, model__min_samples_leaf=1, model__n_estimators=100, smote__k_neighbors=3, smote__m_neighbors=12, total=12.0min\n",
      "[CV] model__max_features=log2, model__min_samples_leaf=1, model__n_estimators=100, smote__k_neighbors=3, smote__m_neighbors=12 \n",
      "[CV]  model__max_features=log2, model__min_samples_leaf=1, model__n_estimators=100, smote__k_neighbors=3, smote__m_neighbors=12, total=11.8min\n",
      "[CV] model__max_features=log2, model__min_samples_leaf=1, model__n_estimators=100, smote__k_neighbors=3, smote__m_neighbors=10 \n",
      "[CV]  model__max_features=log2, model__min_samples_leaf=1, model__n_estimators=100, smote__k_neighbors=3, smote__m_neighbors=12, total=12.0min\n",
      "[CV] model__max_features=log2, model__min_samples_leaf=1, model__n_estimators=100, smote__k_neighbors=3, smote__m_neighbors=10 \n",
      "[CV]  model__max_features=log2, model__min_samples_leaf=1, model__n_estimators=100, smote__k_neighbors=3, smote__m_neighbors=12, total=11.9min\n",
      "[CV] model__max_features=log2, model__min_samples_leaf=1, model__n_estimators=100, smote__k_neighbors=3, smote__m_neighbors=10 \n",
      "[CV]  model__max_features=log2, model__min_samples_leaf=1, model__n_estimators=100, smote__k_neighbors=3, smote__m_neighbors=10, total=11.9min\n",
      "[CV] model__max_features=log2, model__min_samples_leaf=1, model__n_estimators=100, smote__k_neighbors=3, smote__m_neighbors=10 \n",
      "[CV]  model__max_features=log2, model__min_samples_leaf=1, model__n_estimators=100, smote__k_neighbors=3, smote__m_neighbors=10, total=12.0min\n",
      "[CV] model__max_features=log2, model__min_samples_leaf=1, model__n_estimators=100, smote__k_neighbors=3, smote__m_neighbors=10 \n",
      "[CV]  model__max_features=log2, model__min_samples_leaf=1, model__n_estimators=100, smote__k_neighbors=3, smote__m_neighbors=10, total=11.7min\n",
      "[CV] model__max_features=log2, model__min_samples_leaf=2, model__n_estimators=100, smote__k_neighbors=5, smote__m_neighbors=12 \n",
      "[CV]  model__max_features=log2, model__min_samples_leaf=1, model__n_estimators=100, smote__k_neighbors=3, smote__m_neighbors=10, total=12.1min\n",
      "[CV] model__max_features=log2, model__min_samples_leaf=2, model__n_estimators=100, smote__k_neighbors=5, smote__m_neighbors=12 \n",
      "[CV]  model__max_features=log2, model__min_samples_leaf=1, model__n_estimators=100, smote__k_neighbors=3, smote__m_neighbors=10, total=11.9min\n",
      "[CV] model__max_features=log2, model__min_samples_leaf=2, model__n_estimators=100, smote__k_neighbors=5, smote__m_neighbors=12 \n",
      "[CV]  model__max_features=log2, model__min_samples_leaf=2, model__n_estimators=100, smote__k_neighbors=5, smote__m_neighbors=12, total=12.0min\n",
      "[CV] model__max_features=log2, model__min_samples_leaf=2, model__n_estimators=100, smote__k_neighbors=5, smote__m_neighbors=12 \n",
      "[CV]  model__max_features=log2, model__min_samples_leaf=2, model__n_estimators=100, smote__k_neighbors=5, smote__m_neighbors=12, total=12.2min\n",
      "[CV] model__max_features=log2, model__min_samples_leaf=2, model__n_estimators=100, smote__k_neighbors=5, smote__m_neighbors=12 \n",
      "[CV]  model__max_features=log2, model__min_samples_leaf=2, model__n_estimators=100, smote__k_neighbors=5, smote__m_neighbors=12, total=11.9min\n",
      "[CV] model__max_features=log2, model__min_samples_leaf=2, model__n_estimators=100, smote__k_neighbors=5, smote__m_neighbors=10 \n",
      "[CV]  model__max_features=log2, model__min_samples_leaf=2, model__n_estimators=100, smote__k_neighbors=5, smote__m_neighbors=12, total=12.0min\n",
      "[CV] model__max_features=log2, model__min_samples_leaf=2, model__n_estimators=100, smote__k_neighbors=5, smote__m_neighbors=10 \n",
      "[CV]  model__max_features=log2, model__min_samples_leaf=2, model__n_estimators=100, smote__k_neighbors=5, smote__m_neighbors=12, total=12.0min\n",
      "[CV] model__max_features=log2, model__min_samples_leaf=2, model__n_estimators=100, smote__k_neighbors=5, smote__m_neighbors=10 \n",
      "[CV]  model__max_features=log2, model__min_samples_leaf=2, model__n_estimators=100, smote__k_neighbors=5, smote__m_neighbors=10, total=12.3min\n",
      "[CV] model__max_features=log2, model__min_samples_leaf=2, model__n_estimators=100, smote__k_neighbors=5, smote__m_neighbors=10 \n"
     ]
    },
    {
     "name": "stdout",
     "output_type": "stream",
     "text": [
      "[CV]  model__max_features=log2, model__min_samples_leaf=2, model__n_estimators=100, smote__k_neighbors=5, smote__m_neighbors=10, total=12.2min\n",
      "[CV] model__max_features=log2, model__min_samples_leaf=2, model__n_estimators=100, smote__k_neighbors=5, smote__m_neighbors=10 \n",
      "[CV]  model__max_features=log2, model__min_samples_leaf=2, model__n_estimators=100, smote__k_neighbors=5, smote__m_neighbors=10, total=12.0min\n",
      "[CV] model__max_features=log2, model__min_samples_leaf=2, model__n_estimators=100, smote__k_neighbors=3, smote__m_neighbors=12 \n",
      "[CV]  model__max_features=log2, model__min_samples_leaf=2, model__n_estimators=100, smote__k_neighbors=5, smote__m_neighbors=10, total=11.9min\n",
      "[CV] model__max_features=log2, model__min_samples_leaf=2, model__n_estimators=100, smote__k_neighbors=3, smote__m_neighbors=12 \n",
      "[CV]  model__max_features=log2, model__min_samples_leaf=2, model__n_estimators=100, smote__k_neighbors=5, smote__m_neighbors=10, total=12.0min\n",
      "[CV] model__max_features=log2, model__min_samples_leaf=2, model__n_estimators=100, smote__k_neighbors=3, smote__m_neighbors=12 \n",
      "[CV]  model__max_features=log2, model__min_samples_leaf=2, model__n_estimators=100, smote__k_neighbors=3, smote__m_neighbors=12, total=11.7min\n",
      "[CV] model__max_features=log2, model__min_samples_leaf=2, model__n_estimators=100, smote__k_neighbors=3, smote__m_neighbors=12 \n",
      "[CV]  model__max_features=log2, model__min_samples_leaf=2, model__n_estimators=100, smote__k_neighbors=3, smote__m_neighbors=12, total=12.1min\n",
      "[CV] model__max_features=log2, model__min_samples_leaf=2, model__n_estimators=100, smote__k_neighbors=3, smote__m_neighbors=12 \n",
      "[CV]  model__max_features=log2, model__min_samples_leaf=2, model__n_estimators=100, smote__k_neighbors=3, smote__m_neighbors=12, total=11.8min\n",
      "[CV] model__max_features=log2, model__min_samples_leaf=2, model__n_estimators=100, smote__k_neighbors=3, smote__m_neighbors=10 \n",
      "[CV]  model__max_features=log2, model__min_samples_leaf=2, model__n_estimators=100, smote__k_neighbors=3, smote__m_neighbors=12, total=11.8min\n",
      "[CV] model__max_features=log2, model__min_samples_leaf=2, model__n_estimators=100, smote__k_neighbors=3, smote__m_neighbors=10 \n",
      "[CV]  model__max_features=log2, model__min_samples_leaf=2, model__n_estimators=100, smote__k_neighbors=3, smote__m_neighbors=12, total=11.9min\n",
      "[CV] model__max_features=log2, model__min_samples_leaf=2, model__n_estimators=100, smote__k_neighbors=3, smote__m_neighbors=10 \n",
      "[CV]  model__max_features=log2, model__min_samples_leaf=2, model__n_estimators=100, smote__k_neighbors=3, smote__m_neighbors=10, total=11.8min\n",
      "[CV] model__max_features=log2, model__min_samples_leaf=2, model__n_estimators=100, smote__k_neighbors=3, smote__m_neighbors=10 \n",
      "[CV]  model__max_features=log2, model__min_samples_leaf=2, model__n_estimators=100, smote__k_neighbors=3, smote__m_neighbors=10, total=11.8min\n",
      "[CV] model__max_features=log2, model__min_samples_leaf=2, model__n_estimators=100, smote__k_neighbors=3, smote__m_neighbors=10 \n",
      "[CV]  model__max_features=log2, model__min_samples_leaf=2, model__n_estimators=100, smote__k_neighbors=3, smote__m_neighbors=10, total=12.1min\n",
      "[CV] model__max_features=log2, model__min_samples_leaf=3, model__n_estimators=100, smote__k_neighbors=5, smote__m_neighbors=12 \n",
      "[CV]  model__max_features=log2, model__min_samples_leaf=2, model__n_estimators=100, smote__k_neighbors=3, smote__m_neighbors=10, total=11.7min\n",
      "[CV] model__max_features=log2, model__min_samples_leaf=3, model__n_estimators=100, smote__k_neighbors=5, smote__m_neighbors=12 \n",
      "[CV]  model__max_features=log2, model__min_samples_leaf=2, model__n_estimators=100, smote__k_neighbors=3, smote__m_neighbors=10, total=11.9min\n",
      "[CV] model__max_features=log2, model__min_samples_leaf=3, model__n_estimators=100, smote__k_neighbors=5, smote__m_neighbors=12 \n",
      "[CV]  model__max_features=log2, model__min_samples_leaf=3, model__n_estimators=100, smote__k_neighbors=5, smote__m_neighbors=12, total=11.8min\n",
      "[CV] model__max_features=log2, model__min_samples_leaf=3, model__n_estimators=100, smote__k_neighbors=5, smote__m_neighbors=12 \n",
      "[CV]  model__max_features=log2, model__min_samples_leaf=3, model__n_estimators=100, smote__k_neighbors=5, smote__m_neighbors=12, total=11.9min\n",
      "[CV] model__max_features=log2, model__min_samples_leaf=3, model__n_estimators=100, smote__k_neighbors=5, smote__m_neighbors=12 \n",
      "[CV]  model__max_features=log2, model__min_samples_leaf=3, model__n_estimators=100, smote__k_neighbors=5, smote__m_neighbors=12, total=11.7min\n",
      "[CV] model__max_features=log2, model__min_samples_leaf=3, model__n_estimators=100, smote__k_neighbors=5, smote__m_neighbors=10 \n",
      "[CV]  model__max_features=log2, model__min_samples_leaf=3, model__n_estimators=100, smote__k_neighbors=5, smote__m_neighbors=12, total=12.2min\n",
      "[CV] model__max_features=log2, model__min_samples_leaf=3, model__n_estimators=100, smote__k_neighbors=5, smote__m_neighbors=10 \n",
      "[CV]  model__max_features=log2, model__min_samples_leaf=3, model__n_estimators=100, smote__k_neighbors=5, smote__m_neighbors=12, total=11.8min\n",
      "[CV] model__max_features=log2, model__min_samples_leaf=3, model__n_estimators=100, smote__k_neighbors=5, smote__m_neighbors=10 \n",
      "[CV]  model__max_features=log2, model__min_samples_leaf=3, model__n_estimators=100, smote__k_neighbors=5, smote__m_neighbors=10, total=11.7min\n",
      "[CV] model__max_features=log2, model__min_samples_leaf=3, model__n_estimators=100, smote__k_neighbors=5, smote__m_neighbors=10 \n",
      "[CV]  model__max_features=log2, model__min_samples_leaf=3, model__n_estimators=100, smote__k_neighbors=5, smote__m_neighbors=10, total=11.9min\n",
      "[CV] model__max_features=log2, model__min_samples_leaf=3, model__n_estimators=100, smote__k_neighbors=5, smote__m_neighbors=10 \n",
      "[CV]  model__max_features=log2, model__min_samples_leaf=3, model__n_estimators=100, smote__k_neighbors=5, smote__m_neighbors=10, total=11.8min\n",
      "[CV] model__max_features=log2, model__min_samples_leaf=3, model__n_estimators=100, smote__k_neighbors=3, smote__m_neighbors=12 \n",
      "[CV]  model__max_features=log2, model__min_samples_leaf=3, model__n_estimators=100, smote__k_neighbors=5, smote__m_neighbors=10, total=11.9min\n",
      "[CV] model__max_features=log2, model__min_samples_leaf=3, model__n_estimators=100, smote__k_neighbors=3, smote__m_neighbors=12 \n",
      "[CV]  model__max_features=log2, model__min_samples_leaf=3, model__n_estimators=100, smote__k_neighbors=5, smote__m_neighbors=10, total=12.1min\n",
      "[CV] model__max_features=log2, model__min_samples_leaf=3, model__n_estimators=100, smote__k_neighbors=3, smote__m_neighbors=12 \n",
      "[CV]  model__max_features=log2, model__min_samples_leaf=3, model__n_estimators=100, smote__k_neighbors=3, smote__m_neighbors=12, total=11.8min\n",
      "[CV] model__max_features=log2, model__min_samples_leaf=3, model__n_estimators=100, smote__k_neighbors=3, smote__m_neighbors=12 \n",
      "[CV]  model__max_features=log2, model__min_samples_leaf=3, model__n_estimators=100, smote__k_neighbors=3, smote__m_neighbors=12, total=12.0min\n",
      "[CV] model__max_features=log2, model__min_samples_leaf=3, model__n_estimators=100, smote__k_neighbors=3, smote__m_neighbors=12 \n",
      "[CV]  model__max_features=log2, model__min_samples_leaf=3, model__n_estimators=100, smote__k_neighbors=3, smote__m_neighbors=12, total=12.3min\n",
      "[CV] model__max_features=log2, model__min_samples_leaf=3, model__n_estimators=100, smote__k_neighbors=3, smote__m_neighbors=10 \n",
      "[CV]  model__max_features=log2, model__min_samples_leaf=3, model__n_estimators=100, smote__k_neighbors=3, smote__m_neighbors=12, total=12.3min\n",
      "[CV] model__max_features=log2, model__min_samples_leaf=3, model__n_estimators=100, smote__k_neighbors=3, smote__m_neighbors=10 \n",
      "[CV]  model__max_features=log2, model__min_samples_leaf=3, model__n_estimators=100, smote__k_neighbors=3, smote__m_neighbors=12, total=12.4min\n",
      "[CV] model__max_features=log2, model__min_samples_leaf=3, model__n_estimators=100, smote__k_neighbors=3, smote__m_neighbors=10 \n",
      "[CV]  model__max_features=log2, model__min_samples_leaf=3, model__n_estimators=100, smote__k_neighbors=3, smote__m_neighbors=10, total=12.7min\n"
     ]
    },
    {
     "name": "stderr",
     "output_type": "stream",
     "text": [
      "[Parallel(n_jobs=3)]: Done 156 tasks      | elapsed: 899.5min\n"
     ]
    },
    {
     "name": "stdout",
     "output_type": "stream",
     "text": [
      "[CV] model__max_features=log2, model__min_samples_leaf=3, model__n_estimators=100, smote__k_neighbors=3, smote__m_neighbors=10 \n",
      "[CV]  model__max_features=log2, model__min_samples_leaf=3, model__n_estimators=100, smote__k_neighbors=3, smote__m_neighbors=10, total=12.2min\n",
      "[CV] model__max_features=log2, model__min_samples_leaf=3, model__n_estimators=100, smote__k_neighbors=3, smote__m_neighbors=10 \n",
      "[CV]  model__max_features=log2, model__min_samples_leaf=3, model__n_estimators=100, smote__k_neighbors=3, smote__m_neighbors=10, total=12.5min\n",
      "[CV] model__max_features=log2, model__min_samples_leaf=4, model__n_estimators=100, smote__k_neighbors=5, smote__m_neighbors=12 \n",
      "[CV]  model__max_features=log2, model__min_samples_leaf=3, model__n_estimators=100, smote__k_neighbors=3, smote__m_neighbors=10, total=12.2min\n",
      "[CV] model__max_features=log2, model__min_samples_leaf=4, model__n_estimators=100, smote__k_neighbors=5, smote__m_neighbors=12 \n",
      "[CV]  model__max_features=log2, model__min_samples_leaf=3, model__n_estimators=100, smote__k_neighbors=3, smote__m_neighbors=10, total=12.1min\n",
      "[CV] model__max_features=log2, model__min_samples_leaf=4, model__n_estimators=100, smote__k_neighbors=5, smote__m_neighbors=12 \n",
      "[CV]  model__max_features=log2, model__min_samples_leaf=4, model__n_estimators=100, smote__k_neighbors=5, smote__m_neighbors=12, total=11.8min\n",
      "[CV] model__max_features=log2, model__min_samples_leaf=4, model__n_estimators=100, smote__k_neighbors=5, smote__m_neighbors=12 \n",
      "[CV]  model__max_features=log2, model__min_samples_leaf=4, model__n_estimators=100, smote__k_neighbors=5, smote__m_neighbors=12, total=12.1min\n",
      "[CV] model__max_features=log2, model__min_samples_leaf=4, model__n_estimators=100, smote__k_neighbors=5, smote__m_neighbors=12 \n",
      "[CV]  model__max_features=log2, model__min_samples_leaf=4, model__n_estimators=100, smote__k_neighbors=5, smote__m_neighbors=12, total=12.3min\n",
      "[CV] model__max_features=log2, model__min_samples_leaf=4, model__n_estimators=100, smote__k_neighbors=5, smote__m_neighbors=10 \n",
      "[CV]  model__max_features=log2, model__min_samples_leaf=4, model__n_estimators=100, smote__k_neighbors=5, smote__m_neighbors=12, total=12.6min\n",
      "[CV] model__max_features=log2, model__min_samples_leaf=4, model__n_estimators=100, smote__k_neighbors=5, smote__m_neighbors=10 \n",
      "[CV]  model__max_features=log2, model__min_samples_leaf=4, model__n_estimators=100, smote__k_neighbors=5, smote__m_neighbors=12, total=12.5min\n",
      "[CV] model__max_features=log2, model__min_samples_leaf=4, model__n_estimators=100, smote__k_neighbors=5, smote__m_neighbors=10 \n",
      "[CV]  model__max_features=log2, model__min_samples_leaf=4, model__n_estimators=100, smote__k_neighbors=5, smote__m_neighbors=10, total=12.5min\n",
      "[CV] model__max_features=log2, model__min_samples_leaf=4, model__n_estimators=100, smote__k_neighbors=5, smote__m_neighbors=10 \n",
      "[CV]  model__max_features=log2, model__min_samples_leaf=4, model__n_estimators=100, smote__k_neighbors=5, smote__m_neighbors=10, total=12.6min\n",
      "[CV] model__max_features=log2, model__min_samples_leaf=4, model__n_estimators=100, smote__k_neighbors=5, smote__m_neighbors=10 \n",
      "[CV]  model__max_features=log2, model__min_samples_leaf=4, model__n_estimators=100, smote__k_neighbors=5, smote__m_neighbors=10, total=13.1min\n",
      "[CV] model__max_features=log2, model__min_samples_leaf=4, model__n_estimators=100, smote__k_neighbors=3, smote__m_neighbors=12 \n",
      "[CV]  model__max_features=log2, model__min_samples_leaf=4, model__n_estimators=100, smote__k_neighbors=5, smote__m_neighbors=10, total=12.7min\n",
      "[CV] model__max_features=log2, model__min_samples_leaf=4, model__n_estimators=100, smote__k_neighbors=3, smote__m_neighbors=12 \n",
      "[CV]  model__max_features=log2, model__min_samples_leaf=4, model__n_estimators=100, smote__k_neighbors=5, smote__m_neighbors=10, total=12.8min\n",
      "[CV] model__max_features=log2, model__min_samples_leaf=4, model__n_estimators=100, smote__k_neighbors=3, smote__m_neighbors=12 \n",
      "[CV]  model__max_features=log2, model__min_samples_leaf=4, model__n_estimators=100, smote__k_neighbors=3, smote__m_neighbors=12, total=12.6min\n",
      "[CV] model__max_features=log2, model__min_samples_leaf=4, model__n_estimators=100, smote__k_neighbors=3, smote__m_neighbors=12 \n",
      "[CV]  model__max_features=log2, model__min_samples_leaf=4, model__n_estimators=100, smote__k_neighbors=3, smote__m_neighbors=12, total=12.6min\n",
      "[CV] model__max_features=log2, model__min_samples_leaf=4, model__n_estimators=100, smote__k_neighbors=3, smote__m_neighbors=12 \n",
      "[CV]  model__max_features=log2, model__min_samples_leaf=4, model__n_estimators=100, smote__k_neighbors=3, smote__m_neighbors=12, total=12.7min\n",
      "[CV] model__max_features=log2, model__min_samples_leaf=4, model__n_estimators=100, smote__k_neighbors=3, smote__m_neighbors=10 \n",
      "[CV]  model__max_features=log2, model__min_samples_leaf=4, model__n_estimators=100, smote__k_neighbors=3, smote__m_neighbors=12, total=12.7min\n",
      "[CV] model__max_features=log2, model__min_samples_leaf=4, model__n_estimators=100, smote__k_neighbors=3, smote__m_neighbors=10 \n",
      "[CV]  model__max_features=log2, model__min_samples_leaf=4, model__n_estimators=100, smote__k_neighbors=3, smote__m_neighbors=12, total=12.6min\n",
      "[CV] model__max_features=log2, model__min_samples_leaf=4, model__n_estimators=100, smote__k_neighbors=3, smote__m_neighbors=10 \n",
      "[CV]  model__max_features=log2, model__min_samples_leaf=4, model__n_estimators=100, smote__k_neighbors=3, smote__m_neighbors=10, total=12.6min\n",
      "[CV] model__max_features=log2, model__min_samples_leaf=4, model__n_estimators=100, smote__k_neighbors=3, smote__m_neighbors=10 \n",
      "[CV]  model__max_features=log2, model__min_samples_leaf=4, model__n_estimators=100, smote__k_neighbors=3, smote__m_neighbors=10, total=12.5min\n",
      "[CV] model__max_features=log2, model__min_samples_leaf=4, model__n_estimators=100, smote__k_neighbors=3, smote__m_neighbors=10 \n",
      "[CV]  model__max_features=log2, model__min_samples_leaf=4, model__n_estimators=100, smote__k_neighbors=3, smote__m_neighbors=10, total=12.7min\n",
      "[CV] model__max_features=log2, model__min_samples_leaf=5, model__n_estimators=100, smote__k_neighbors=5, smote__m_neighbors=12 \n",
      "[CV]  model__max_features=log2, model__min_samples_leaf=4, model__n_estimators=100, smote__k_neighbors=3, smote__m_neighbors=10, total=12.4min\n",
      "[CV] model__max_features=log2, model__min_samples_leaf=5, model__n_estimators=100, smote__k_neighbors=5, smote__m_neighbors=12 \n",
      "[CV]  model__max_features=log2, model__min_samples_leaf=4, model__n_estimators=100, smote__k_neighbors=3, smote__m_neighbors=10, total=12.9min\n",
      "[CV] model__max_features=log2, model__min_samples_leaf=5, model__n_estimators=100, smote__k_neighbors=5, smote__m_neighbors=12 \n",
      "[CV]  model__max_features=log2, model__min_samples_leaf=5, model__n_estimators=100, smote__k_neighbors=5, smote__m_neighbors=12, total=12.5min\n",
      "[CV] model__max_features=log2, model__min_samples_leaf=5, model__n_estimators=100, smote__k_neighbors=5, smote__m_neighbors=12 \n",
      "[CV]  model__max_features=log2, model__min_samples_leaf=5, model__n_estimators=100, smote__k_neighbors=5, smote__m_neighbors=12, total=12.8min\n",
      "[CV] model__max_features=log2, model__min_samples_leaf=5, model__n_estimators=100, smote__k_neighbors=5, smote__m_neighbors=12 \n",
      "[CV]  model__max_features=log2, model__min_samples_leaf=5, model__n_estimators=100, smote__k_neighbors=5, smote__m_neighbors=12, total=12.9min\n",
      "[CV] model__max_features=log2, model__min_samples_leaf=5, model__n_estimators=100, smote__k_neighbors=5, smote__m_neighbors=10 \n",
      "[CV]  model__max_features=log2, model__min_samples_leaf=5, model__n_estimators=100, smote__k_neighbors=5, smote__m_neighbors=12, total=12.7min\n",
      "[CV] model__max_features=log2, model__min_samples_leaf=5, model__n_estimators=100, smote__k_neighbors=5, smote__m_neighbors=10 \n",
      "[CV]  model__max_features=log2, model__min_samples_leaf=5, model__n_estimators=100, smote__k_neighbors=5, smote__m_neighbors=12, total=12.6min\n",
      "[CV] model__max_features=log2, model__min_samples_leaf=5, model__n_estimators=100, smote__k_neighbors=5, smote__m_neighbors=10 \n",
      "[CV]  model__max_features=log2, model__min_samples_leaf=5, model__n_estimators=100, smote__k_neighbors=5, smote__m_neighbors=10, total=12.5min\n",
      "[CV] model__max_features=log2, model__min_samples_leaf=5, model__n_estimators=100, smote__k_neighbors=5, smote__m_neighbors=10 \n"
     ]
    },
    {
     "name": "stdout",
     "output_type": "stream",
     "text": [
      "[CV]  model__max_features=log2, model__min_samples_leaf=5, model__n_estimators=100, smote__k_neighbors=5, smote__m_neighbors=10, total=12.4min\n",
      "[CV] model__max_features=log2, model__min_samples_leaf=5, model__n_estimators=100, smote__k_neighbors=5, smote__m_neighbors=10 \n",
      "[CV]  model__max_features=log2, model__min_samples_leaf=5, model__n_estimators=100, smote__k_neighbors=5, smote__m_neighbors=10, total=12.9min\n",
      "[CV] model__max_features=log2, model__min_samples_leaf=5, model__n_estimators=100, smote__k_neighbors=3, smote__m_neighbors=12 \n",
      "[CV]  model__max_features=log2, model__min_samples_leaf=5, model__n_estimators=100, smote__k_neighbors=5, smote__m_neighbors=10, total=12.7min\n",
      "[CV] model__max_features=log2, model__min_samples_leaf=5, model__n_estimators=100, smote__k_neighbors=3, smote__m_neighbors=12 \n",
      "[CV]  model__max_features=log2, model__min_samples_leaf=5, model__n_estimators=100, smote__k_neighbors=5, smote__m_neighbors=10, total=13.0min\n",
      "[CV] model__max_features=log2, model__min_samples_leaf=5, model__n_estimators=100, smote__k_neighbors=3, smote__m_neighbors=12 \n",
      "[CV]  model__max_features=log2, model__min_samples_leaf=5, model__n_estimators=100, smote__k_neighbors=3, smote__m_neighbors=12, total=12.6min\n",
      "[CV] model__max_features=log2, model__min_samples_leaf=5, model__n_estimators=100, smote__k_neighbors=3, smote__m_neighbors=12 \n",
      "[CV]  model__max_features=log2, model__min_samples_leaf=5, model__n_estimators=100, smote__k_neighbors=3, smote__m_neighbors=12, total=12.5min\n",
      "[CV] model__max_features=log2, model__min_samples_leaf=5, model__n_estimators=100, smote__k_neighbors=3, smote__m_neighbors=12 \n",
      "[CV]  model__max_features=log2, model__min_samples_leaf=5, model__n_estimators=100, smote__k_neighbors=3, smote__m_neighbors=12, total=12.5min\n",
      "[CV] model__max_features=log2, model__min_samples_leaf=5, model__n_estimators=100, smote__k_neighbors=3, smote__m_neighbors=10 \n",
      "[CV]  model__max_features=log2, model__min_samples_leaf=5, model__n_estimators=100, smote__k_neighbors=3, smote__m_neighbors=12, total=12.4min\n",
      "[CV] model__max_features=log2, model__min_samples_leaf=5, model__n_estimators=100, smote__k_neighbors=3, smote__m_neighbors=10 \n",
      "[CV]  model__max_features=log2, model__min_samples_leaf=5, model__n_estimators=100, smote__k_neighbors=3, smote__m_neighbors=12, total=12.2min\n",
      "[CV] model__max_features=log2, model__min_samples_leaf=5, model__n_estimators=100, smote__k_neighbors=3, smote__m_neighbors=10 \n",
      "[CV]  model__max_features=log2, model__min_samples_leaf=5, model__n_estimators=100, smote__k_neighbors=3, smote__m_neighbors=10, total=12.2min\n",
      "[CV] model__max_features=log2, model__min_samples_leaf=5, model__n_estimators=100, smote__k_neighbors=3, smote__m_neighbors=10 \n",
      "[CV]  model__max_features=log2, model__min_samples_leaf=5, model__n_estimators=100, smote__k_neighbors=3, smote__m_neighbors=10, total=12.0min\n",
      "[CV] model__max_features=log2, model__min_samples_leaf=5, model__n_estimators=100, smote__k_neighbors=3, smote__m_neighbors=10 \n",
      "[CV]  model__max_features=log2, model__min_samples_leaf=5, model__n_estimators=100, smote__k_neighbors=3, smote__m_neighbors=10, total=12.8min\n",
      "[CV]  model__max_features=log2, model__min_samples_leaf=5, model__n_estimators=100, smote__k_neighbors=3, smote__m_neighbors=10, total=12.3min\n",
      "[CV]  model__max_features=log2, model__min_samples_leaf=5, model__n_estimators=100, smote__k_neighbors=3, smote__m_neighbors=10, total=10.3min\n"
     ]
    },
    {
     "name": "stderr",
     "output_type": "stream",
     "text": [
      "[Parallel(n_jobs=3)]: Done 200 out of 200 | elapsed: 1087.1min finished\n"
     ]
    },
    {
     "name": "stdout",
     "output_type": "stream",
     "text": [
      "CPU times: user 28min 20s, sys: 4min 45s, total: 33min 5s\n",
      "Wall time: 18h 26min 21s\n"
     ]
    }
   ],
   "source": [
    "%%time\n",
    "from sklearn.ensemble import RandomForestClassifier\n",
    "from sklearn.model_selection import GridSearchCV\n",
    "from imblearn.over_sampling import SMOTE\n",
    "from imblearn.pipeline import Pipeline as pl\n",
    "\n",
    "# Steps for pipeline\n",
    "steps = [(\"smote\", SMOTE(random_state=30, kind='regular')),\n",
    "         (\"model\", RandomForestClassifier(random_state=40))]\n",
    "\n",
    "pipe = pl(steps)\n",
    "\n",
    "# Parameters\n",
    "param_grid = dict(model__n_estimators = [100],\n",
    "                  model__max_features = ['sqrt', 'log2'],\n",
    "                  model__min_samples_leaf = [1, 2, 3, 4, 5],\n",
    "                  smote__k_neighbors = [5, 3],\n",
    "                  smote__m_neighbors = [12, 10]\n",
    "                  )\n",
    "# For CV in grid search\n",
    "cv = StratifiedShuffleSplit(n_splits = 5, test_size = 0.2, random_state = 20)\n",
    "\n",
    "# Setting up the grid search\n",
    "RFsmote = GridSearchCV(pipe, param_grid = param_grid, \n",
    "                           verbose = 2,\n",
    "                           cv = cv,\n",
    "                          n_jobs=3,\n",
    "                          scoring='average_precision',\n",
    "                          iid=False)\n",
    "# Training using CV\n",
    "RFsmote.fit(X_train, y_train)"
   ]
  },
  {
   "cell_type": "code",
   "execution_count": 43,
   "metadata": {},
   "outputs": [
    {
     "data": {
      "text/plain": [
       "{'model__max_features': 'sqrt',\n",
       " 'model__min_samples_leaf': 2,\n",
       " 'model__n_estimators': 100,\n",
       " 'smote__k_neighbors': 5,\n",
       " 'smote__m_neighbors': 12}"
      ]
     },
     "execution_count": 43,
     "metadata": {},
     "output_type": "execute_result"
    }
   ],
   "source": [
    "RFsmote.best_params_"
   ]
  },
  {
   "cell_type": "code",
   "execution_count": 44,
   "metadata": {},
   "outputs": [
    {
     "data": {
      "text/plain": [
       "0.32224181166590465"
      ]
     },
     "execution_count": 44,
     "metadata": {},
     "output_type": "execute_result"
    }
   ],
   "source": [
    "RFsmote.best_score_"
   ]
  },
  {
   "cell_type": "code",
   "execution_count": 45,
   "metadata": {},
   "outputs": [
    {
     "name": "stderr",
     "output_type": "stream",
     "text": [
      "//anaconda/lib/python3.6/site-packages/sklearn/model_selection/_search.py:667: DeprecationWarning: The grid_scores_ attribute was deprecated in version 0.18 in favor of the more elaborate cv_results_ attribute. The grid_scores_ attribute will not be available from 0.20\n",
      "  DeprecationWarning)\n"
     ]
    },
    {
     "data": {
      "text/plain": [
       "[mean: 0.32107, std: 0.00974, params: {'model__max_features': 'sqrt', 'model__min_samples_leaf': 1, 'model__n_estimators': 100, 'smote__k_neighbors': 5, 'smote__m_neighbors': 12},\n",
       " mean: 0.32107, std: 0.00974, params: {'model__max_features': 'sqrt', 'model__min_samples_leaf': 1, 'model__n_estimators': 100, 'smote__k_neighbors': 5, 'smote__m_neighbors': 10},\n",
       " mean: 0.32170, std: 0.00873, params: {'model__max_features': 'sqrt', 'model__min_samples_leaf': 1, 'model__n_estimators': 100, 'smote__k_neighbors': 3, 'smote__m_neighbors': 12},\n",
       " mean: 0.32170, std: 0.00873, params: {'model__max_features': 'sqrt', 'model__min_samples_leaf': 1, 'model__n_estimators': 100, 'smote__k_neighbors': 3, 'smote__m_neighbors': 10},\n",
       " mean: 0.32224, std: 0.00944, params: {'model__max_features': 'sqrt', 'model__min_samples_leaf': 2, 'model__n_estimators': 100, 'smote__k_neighbors': 5, 'smote__m_neighbors': 12},\n",
       " mean: 0.32224, std: 0.00944, params: {'model__max_features': 'sqrt', 'model__min_samples_leaf': 2, 'model__n_estimators': 100, 'smote__k_neighbors': 5, 'smote__m_neighbors': 10},\n",
       " mean: 0.32003, std: 0.00899, params: {'model__max_features': 'sqrt', 'model__min_samples_leaf': 2, 'model__n_estimators': 100, 'smote__k_neighbors': 3, 'smote__m_neighbors': 12},\n",
       " mean: 0.32003, std: 0.00899, params: {'model__max_features': 'sqrt', 'model__min_samples_leaf': 2, 'model__n_estimators': 100, 'smote__k_neighbors': 3, 'smote__m_neighbors': 10},\n",
       " mean: 0.31666, std: 0.00901, params: {'model__max_features': 'sqrt', 'model__min_samples_leaf': 3, 'model__n_estimators': 100, 'smote__k_neighbors': 5, 'smote__m_neighbors': 12},\n",
       " mean: 0.31666, std: 0.00901, params: {'model__max_features': 'sqrt', 'model__min_samples_leaf': 3, 'model__n_estimators': 100, 'smote__k_neighbors': 5, 'smote__m_neighbors': 10},\n",
       " mean: 0.31531, std: 0.00694, params: {'model__max_features': 'sqrt', 'model__min_samples_leaf': 3, 'model__n_estimators': 100, 'smote__k_neighbors': 3, 'smote__m_neighbors': 12},\n",
       " mean: 0.31531, std: 0.00694, params: {'model__max_features': 'sqrt', 'model__min_samples_leaf': 3, 'model__n_estimators': 100, 'smote__k_neighbors': 3, 'smote__m_neighbors': 10},\n",
       " mean: 0.31108, std: 0.00885, params: {'model__max_features': 'sqrt', 'model__min_samples_leaf': 4, 'model__n_estimators': 100, 'smote__k_neighbors': 5, 'smote__m_neighbors': 12},\n",
       " mean: 0.31108, std: 0.00885, params: {'model__max_features': 'sqrt', 'model__min_samples_leaf': 4, 'model__n_estimators': 100, 'smote__k_neighbors': 5, 'smote__m_neighbors': 10},\n",
       " mean: 0.30955, std: 0.00912, params: {'model__max_features': 'sqrt', 'model__min_samples_leaf': 4, 'model__n_estimators': 100, 'smote__k_neighbors': 3, 'smote__m_neighbors': 12},\n",
       " mean: 0.30955, std: 0.00912, params: {'model__max_features': 'sqrt', 'model__min_samples_leaf': 4, 'model__n_estimators': 100, 'smote__k_neighbors': 3, 'smote__m_neighbors': 10},\n",
       " mean: 0.30640, std: 0.01104, params: {'model__max_features': 'sqrt', 'model__min_samples_leaf': 5, 'model__n_estimators': 100, 'smote__k_neighbors': 5, 'smote__m_neighbors': 12},\n",
       " mean: 0.30640, std: 0.01104, params: {'model__max_features': 'sqrt', 'model__min_samples_leaf': 5, 'model__n_estimators': 100, 'smote__k_neighbors': 5, 'smote__m_neighbors': 10},\n",
       " mean: 0.30508, std: 0.00751, params: {'model__max_features': 'sqrt', 'model__min_samples_leaf': 5, 'model__n_estimators': 100, 'smote__k_neighbors': 3, 'smote__m_neighbors': 12},\n",
       " mean: 0.30508, std: 0.00751, params: {'model__max_features': 'sqrt', 'model__min_samples_leaf': 5, 'model__n_estimators': 100, 'smote__k_neighbors': 3, 'smote__m_neighbors': 10},\n",
       " mean: 0.30919, std: 0.00970, params: {'model__max_features': 'log2', 'model__min_samples_leaf': 1, 'model__n_estimators': 100, 'smote__k_neighbors': 5, 'smote__m_neighbors': 12},\n",
       " mean: 0.30919, std: 0.00970, params: {'model__max_features': 'log2', 'model__min_samples_leaf': 1, 'model__n_estimators': 100, 'smote__k_neighbors': 5, 'smote__m_neighbors': 10},\n",
       " mean: 0.31174, std: 0.00800, params: {'model__max_features': 'log2', 'model__min_samples_leaf': 1, 'model__n_estimators': 100, 'smote__k_neighbors': 3, 'smote__m_neighbors': 12},\n",
       " mean: 0.31174, std: 0.00800, params: {'model__max_features': 'log2', 'model__min_samples_leaf': 1, 'model__n_estimators': 100, 'smote__k_neighbors': 3, 'smote__m_neighbors': 10},\n",
       " mean: 0.30390, std: 0.01033, params: {'model__max_features': 'log2', 'model__min_samples_leaf': 2, 'model__n_estimators': 100, 'smote__k_neighbors': 5, 'smote__m_neighbors': 12},\n",
       " mean: 0.30390, std: 0.01033, params: {'model__max_features': 'log2', 'model__min_samples_leaf': 2, 'model__n_estimators': 100, 'smote__k_neighbors': 5, 'smote__m_neighbors': 10},\n",
       " mean: 0.30515, std: 0.00781, params: {'model__max_features': 'log2', 'model__min_samples_leaf': 2, 'model__n_estimators': 100, 'smote__k_neighbors': 3, 'smote__m_neighbors': 12},\n",
       " mean: 0.30515, std: 0.00781, params: {'model__max_features': 'log2', 'model__min_samples_leaf': 2, 'model__n_estimators': 100, 'smote__k_neighbors': 3, 'smote__m_neighbors': 10},\n",
       " mean: 0.30128, std: 0.00826, params: {'model__max_features': 'log2', 'model__min_samples_leaf': 3, 'model__n_estimators': 100, 'smote__k_neighbors': 5, 'smote__m_neighbors': 12},\n",
       " mean: 0.30128, std: 0.00826, params: {'model__max_features': 'log2', 'model__min_samples_leaf': 3, 'model__n_estimators': 100, 'smote__k_neighbors': 5, 'smote__m_neighbors': 10},\n",
       " mean: 0.29966, std: 0.00900, params: {'model__max_features': 'log2', 'model__min_samples_leaf': 3, 'model__n_estimators': 100, 'smote__k_neighbors': 3, 'smote__m_neighbors': 12},\n",
       " mean: 0.29966, std: 0.00900, params: {'model__max_features': 'log2', 'model__min_samples_leaf': 3, 'model__n_estimators': 100, 'smote__k_neighbors': 3, 'smote__m_neighbors': 10},\n",
       " mean: 0.29251, std: 0.00924, params: {'model__max_features': 'log2', 'model__min_samples_leaf': 4, 'model__n_estimators': 100, 'smote__k_neighbors': 5, 'smote__m_neighbors': 12},\n",
       " mean: 0.29251, std: 0.00924, params: {'model__max_features': 'log2', 'model__min_samples_leaf': 4, 'model__n_estimators': 100, 'smote__k_neighbors': 5, 'smote__m_neighbors': 10},\n",
       " mean: 0.29285, std: 0.00771, params: {'model__max_features': 'log2', 'model__min_samples_leaf': 4, 'model__n_estimators': 100, 'smote__k_neighbors': 3, 'smote__m_neighbors': 12},\n",
       " mean: 0.29285, std: 0.00771, params: {'model__max_features': 'log2', 'model__min_samples_leaf': 4, 'model__n_estimators': 100, 'smote__k_neighbors': 3, 'smote__m_neighbors': 10},\n",
       " mean: 0.28959, std: 0.00945, params: {'model__max_features': 'log2', 'model__min_samples_leaf': 5, 'model__n_estimators': 100, 'smote__k_neighbors': 5, 'smote__m_neighbors': 12},\n",
       " mean: 0.28959, std: 0.00945, params: {'model__max_features': 'log2', 'model__min_samples_leaf': 5, 'model__n_estimators': 100, 'smote__k_neighbors': 5, 'smote__m_neighbors': 10},\n",
       " mean: 0.28671, std: 0.00967, params: {'model__max_features': 'log2', 'model__min_samples_leaf': 5, 'model__n_estimators': 100, 'smote__k_neighbors': 3, 'smote__m_neighbors': 12},\n",
       " mean: 0.28671, std: 0.00967, params: {'model__max_features': 'log2', 'model__min_samples_leaf': 5, 'model__n_estimators': 100, 'smote__k_neighbors': 3, 'smote__m_neighbors': 10}]"
      ]
     },
     "execution_count": 45,
     "metadata": {},
     "output_type": "execute_result"
    }
   ],
   "source": [
    "RFsmote.grid_scores_"
   ]
  },
  {
   "cell_type": "markdown",
   "metadata": {},
   "source": [
    "# Random Forest (RUS)"
   ]
  },
  {
   "cell_type": "code",
   "execution_count": 49,
   "metadata": {},
   "outputs": [
    {
     "name": "stdout",
     "output_type": "stream",
     "text": [
      "Fitting 5 folds for each of 10 candidates, totalling 50 fits\n",
      "[CV] model__max_features=sqrt, model__min_samples_leaf=1, model__n_estimators=100 \n",
      "[CV] model__max_features=sqrt, model__min_samples_leaf=1, model__n_estimators=100 \n",
      "[CV] model__max_features=sqrt, model__min_samples_leaf=1, model__n_estimators=100 \n",
      "[CV]  model__max_features=sqrt, model__min_samples_leaf=1, model__n_estimators=100, total=  17.0s\n",
      "[CV] model__max_features=sqrt, model__min_samples_leaf=1, model__n_estimators=100 \n",
      "[CV]  model__max_features=sqrt, model__min_samples_leaf=1, model__n_estimators=100, total=  16.9s\n",
      "[CV] model__max_features=sqrt, model__min_samples_leaf=1, model__n_estimators=100 \n",
      "[CV]  model__max_features=sqrt, model__min_samples_leaf=1, model__n_estimators=100, total=  18.3s\n",
      "[CV] model__max_features=sqrt, model__min_samples_leaf=2, model__n_estimators=100 \n",
      "[CV]  model__max_features=sqrt, model__min_samples_leaf=1, model__n_estimators=100, total=  14.0s\n",
      "[CV] model__max_features=sqrt, model__min_samples_leaf=2, model__n_estimators=100 \n",
      "[CV]  model__max_features=sqrt, model__min_samples_leaf=1, model__n_estimators=100, total=  13.6s\n",
      "[CV] model__max_features=sqrt, model__min_samples_leaf=2, model__n_estimators=100 \n",
      "[CV]  model__max_features=sqrt, model__min_samples_leaf=2, model__n_estimators=100, total=  12.2s\n",
      "[CV] model__max_features=sqrt, model__min_samples_leaf=2, model__n_estimators=100 \n",
      "[CV]  model__max_features=sqrt, model__min_samples_leaf=2, model__n_estimators=100, total=  12.0s\n",
      "[CV] model__max_features=sqrt, model__min_samples_leaf=2, model__n_estimators=100 \n",
      "[CV]  model__max_features=sqrt, model__min_samples_leaf=2, model__n_estimators=100, total=  12.1s\n",
      "[CV] model__max_features=sqrt, model__min_samples_leaf=3, model__n_estimators=100 \n",
      "[CV]  model__max_features=sqrt, model__min_samples_leaf=2, model__n_estimators=100, total=  12.4s\n",
      "[CV] model__max_features=sqrt, model__min_samples_leaf=3, model__n_estimators=100 \n",
      "[CV]  model__max_features=sqrt, model__min_samples_leaf=2, model__n_estimators=100, total=  12.0s\n",
      "[CV] model__max_features=sqrt, model__min_samples_leaf=3, model__n_estimators=100 \n",
      "[CV]  model__max_features=sqrt, model__min_samples_leaf=3, model__n_estimators=100, total=  12.2s\n",
      "[CV] model__max_features=sqrt, model__min_samples_leaf=3, model__n_estimators=100 \n",
      "[CV]  model__max_features=sqrt, model__min_samples_leaf=3, model__n_estimators=100, total=  12.4s\n",
      "[CV] model__max_features=sqrt, model__min_samples_leaf=3, model__n_estimators=100 \n",
      "[CV]  model__max_features=sqrt, model__min_samples_leaf=3, model__n_estimators=100, total=  12.1s\n",
      "[CV] model__max_features=sqrt, model__min_samples_leaf=4, model__n_estimators=100 \n",
      "[CV]  model__max_features=sqrt, model__min_samples_leaf=3, model__n_estimators=100, total=  12.2s\n",
      "[CV] model__max_features=sqrt, model__min_samples_leaf=4, model__n_estimators=100 \n",
      "[CV]  model__max_features=sqrt, model__min_samples_leaf=3, model__n_estimators=100, total=  13.0s\n",
      "[CV] model__max_features=sqrt, model__min_samples_leaf=4, model__n_estimators=100 \n",
      "[CV]  model__max_features=sqrt, model__min_samples_leaf=4, model__n_estimators=100, total=  11.9s\n",
      "[CV] model__max_features=sqrt, model__min_samples_leaf=4, model__n_estimators=100 \n",
      "[CV]  model__max_features=sqrt, model__min_samples_leaf=4, model__n_estimators=100, total=  12.0s\n",
      "[CV] model__max_features=sqrt, model__min_samples_leaf=4, model__n_estimators=100 \n",
      "[CV]  model__max_features=sqrt, model__min_samples_leaf=4, model__n_estimators=100, total=  13.3s\n",
      "[CV] model__max_features=sqrt, model__min_samples_leaf=5, model__n_estimators=100 \n",
      "[CV]  model__max_features=sqrt, model__min_samples_leaf=4, model__n_estimators=100, total=  14.2s\n",
      "[CV] model__max_features=sqrt, model__min_samples_leaf=5, model__n_estimators=100 \n",
      "[CV]  model__max_features=sqrt, model__min_samples_leaf=4, model__n_estimators=100, total=  14.1s\n",
      "[CV] model__max_features=sqrt, model__min_samples_leaf=5, model__n_estimators=100 \n",
      "[CV]  model__max_features=sqrt, model__min_samples_leaf=5, model__n_estimators=100, total=  12.6s\n",
      "[CV] model__max_features=sqrt, model__min_samples_leaf=5, model__n_estimators=100 \n",
      "[CV]  model__max_features=sqrt, model__min_samples_leaf=5, model__n_estimators=100, total=  13.7s\n",
      "[CV] model__max_features=sqrt, model__min_samples_leaf=5, model__n_estimators=100 \n",
      "[CV]  model__max_features=sqrt, model__min_samples_leaf=5, model__n_estimators=100, total=  14.2s\n",
      "[CV] model__max_features=log2, model__min_samples_leaf=1, model__n_estimators=100 \n",
      "[CV]  model__max_features=sqrt, model__min_samples_leaf=5, model__n_estimators=100, total=  13.0s\n",
      "[CV] model__max_features=log2, model__min_samples_leaf=1, model__n_estimators=100 \n",
      "[CV]  model__max_features=sqrt, model__min_samples_leaf=5, model__n_estimators=100, total=  12.4s\n",
      "[CV] model__max_features=log2, model__min_samples_leaf=1, model__n_estimators=100 \n",
      "[CV]  model__max_features=log2, model__min_samples_leaf=1, model__n_estimators=100, total=  12.2s\n",
      "[CV] model__max_features=log2, model__min_samples_leaf=1, model__n_estimators=100 \n",
      "[CV]  model__max_features=log2, model__min_samples_leaf=1, model__n_estimators=100, total=  11.7s\n",
      "[CV] model__max_features=log2, model__min_samples_leaf=1, model__n_estimators=100 \n",
      "[CV]  model__max_features=log2, model__min_samples_leaf=1, model__n_estimators=100, total=  12.7s\n",
      "[CV] model__max_features=log2, model__min_samples_leaf=2, model__n_estimators=100 \n",
      "[CV]  model__max_features=log2, model__min_samples_leaf=1, model__n_estimators=100, total=  13.4s\n",
      "[CV] model__max_features=log2, model__min_samples_leaf=2, model__n_estimators=100 \n",
      "[CV]  model__max_features=log2, model__min_samples_leaf=1, model__n_estimators=100, total=  11.7s\n",
      "[CV] model__max_features=log2, model__min_samples_leaf=2, model__n_estimators=100 \n",
      "[CV]  model__max_features=log2, model__min_samples_leaf=2, model__n_estimators=100, total=  12.5s\n",
      "[CV] model__max_features=log2, model__min_samples_leaf=2, model__n_estimators=100 \n",
      "[CV]  model__max_features=log2, model__min_samples_leaf=2, model__n_estimators=100, total=  11.9s\n",
      "[CV] model__max_features=log2, model__min_samples_leaf=2, model__n_estimators=100 \n",
      "[CV]  model__max_features=log2, model__min_samples_leaf=2, model__n_estimators=100, total=  11.6s\n",
      "[CV] model__max_features=log2, model__min_samples_leaf=3, model__n_estimators=100 \n",
      "[CV]  model__max_features=log2, model__min_samples_leaf=2, model__n_estimators=100, total=  11.4s\n",
      "[CV] model__max_features=log2, model__min_samples_leaf=3, model__n_estimators=100 \n",
      "[CV]  model__max_features=log2, model__min_samples_leaf=2, model__n_estimators=100, total=  11.6s\n",
      "[CV] model__max_features=log2, model__min_samples_leaf=3, model__n_estimators=100 \n"
     ]
    },
    {
     "name": "stderr",
     "output_type": "stream",
     "text": [
      "[Parallel(n_jobs=3)]: Done  35 tasks      | elapsed:  5.4min\n"
     ]
    },
    {
     "name": "stdout",
     "output_type": "stream",
     "text": [
      "[CV]  model__max_features=log2, model__min_samples_leaf=3, model__n_estimators=100, total=  10.6s\n",
      "[CV] model__max_features=log2, model__min_samples_leaf=3, model__n_estimators=100 \n",
      "[CV]  model__max_features=log2, model__min_samples_leaf=3, model__n_estimators=100, total=  10.7s\n",
      "[CV] model__max_features=log2, model__min_samples_leaf=3, model__n_estimators=100 \n",
      "[CV]  model__max_features=log2, model__min_samples_leaf=3, model__n_estimators=100, total=  11.2s\n",
      "[CV] model__max_features=log2, model__min_samples_leaf=4, model__n_estimators=100 \n",
      "[CV]  model__max_features=log2, model__min_samples_leaf=3, model__n_estimators=100, total=  11.5s\n",
      "[CV] model__max_features=log2, model__min_samples_leaf=4, model__n_estimators=100 \n",
      "[CV]  model__max_features=log2, model__min_samples_leaf=3, model__n_estimators=100, total=  11.0s\n",
      "[CV] model__max_features=log2, model__min_samples_leaf=4, model__n_estimators=100 \n",
      "[CV]  model__max_features=log2, model__min_samples_leaf=4, model__n_estimators=100, total=  11.0s\n",
      "[CV] model__max_features=log2, model__min_samples_leaf=4, model__n_estimators=100 \n",
      "[CV]  model__max_features=log2, model__min_samples_leaf=4, model__n_estimators=100, total=  10.7s\n",
      "[CV] model__max_features=log2, model__min_samples_leaf=4, model__n_estimators=100 \n",
      "[CV]  model__max_features=log2, model__min_samples_leaf=4, model__n_estimators=100, total=  11.6s\n",
      "[CV] model__max_features=log2, model__min_samples_leaf=5, model__n_estimators=100 \n",
      "[CV]  model__max_features=log2, model__min_samples_leaf=4, model__n_estimators=100, total=  11.4s\n",
      "[CV] model__max_features=log2, model__min_samples_leaf=5, model__n_estimators=100 \n",
      "[CV]  model__max_features=log2, model__min_samples_leaf=4, model__n_estimators=100, total=  10.5s\n",
      "[CV] model__max_features=log2, model__min_samples_leaf=5, model__n_estimators=100 \n",
      "[CV]  model__max_features=log2, model__min_samples_leaf=5, model__n_estimators=100, total=  10.3s\n",
      "[CV] model__max_features=log2, model__min_samples_leaf=5, model__n_estimators=100 \n",
      "[CV]  model__max_features=log2, model__min_samples_leaf=5, model__n_estimators=100, total=  10.4s\n",
      "[CV] model__max_features=log2, model__min_samples_leaf=5, model__n_estimators=100 \n",
      "[CV]  model__max_features=log2, model__min_samples_leaf=5, model__n_estimators=100, total=  10.7s\n",
      "[CV]  model__max_features=log2, model__min_samples_leaf=5, model__n_estimators=100, total=   9.8s\n",
      "[CV]  model__max_features=log2, model__min_samples_leaf=5, model__n_estimators=100, total=   9.8s\n"
     ]
    },
    {
     "name": "stderr",
     "output_type": "stream",
     "text": [
      "[Parallel(n_jobs=3)]: Done  50 out of  50 | elapsed:  7.3min finished\n"
     ]
    },
    {
     "name": "stdout",
     "output_type": "stream",
     "text": [
      "CPU times: user 2min 5s, sys: 6.18 s, total: 2min 11s\n",
      "Wall time: 7min 27s\n"
     ]
    }
   ],
   "source": [
    "%%time\n",
    "from sklearn.ensemble import RandomForestClassifier\n",
    "from sklearn.model_selection import GridSearchCV\n",
    "from imblearn.under_sampling import RandomUnderSampler\n",
    "from imblearn.pipeline import Pipeline as pl\n",
    "\n",
    "# Steps for pipeline\n",
    "steps = [(\"rus\", RandomUnderSampler(random_state=30)),\n",
    "         (\"model\", RandomForestClassifier(random_state=40))]\n",
    "\n",
    "pipe = pl(steps)\n",
    "\n",
    "# Parameters\n",
    "param_grid = dict(model__n_estimators = [100],\n",
    "                  model__max_features = ['sqrt', 'log2'],\n",
    "                  model__min_samples_leaf = [1, 2, 3, 4, 5]\n",
    "                  )\n",
    "# For CV in grid search\n",
    "cv = StratifiedShuffleSplit(n_splits = 5, test_size = 0.2, random_state = 20)\n",
    "\n",
    "# Setting up the grid search\n",
    "RFrus = GridSearchCV(pipe, param_grid = param_grid, \n",
    "                           verbose = 2,\n",
    "                           cv = cv,\n",
    "                          n_jobs=3,\n",
    "                          scoring='average_precision',\n",
    "                          iid=False)\n",
    "# Training using CV\n",
    "RFrus.fit(X_train, y_train)"
   ]
  },
  {
   "cell_type": "code",
   "execution_count": 50,
   "metadata": {},
   "outputs": [
    {
     "data": {
      "text/plain": [
       "{'model__max_features': 'sqrt',\n",
       " 'model__min_samples_leaf': 1,\n",
       " 'model__n_estimators': 100}"
      ]
     },
     "execution_count": 50,
     "metadata": {},
     "output_type": "execute_result"
    }
   ],
   "source": [
    "RFrus.best_params_"
   ]
  },
  {
   "cell_type": "code",
   "execution_count": 51,
   "metadata": {},
   "outputs": [
    {
     "data": {
      "text/plain": [
       "0.2186720760336931"
      ]
     },
     "execution_count": 51,
     "metadata": {},
     "output_type": "execute_result"
    }
   ],
   "source": [
    "RFrus.best_score_"
   ]
  },
  {
   "cell_type": "code",
   "execution_count": 52,
   "metadata": {},
   "outputs": [
    {
     "name": "stderr",
     "output_type": "stream",
     "text": [
      "//anaconda/lib/python3.6/site-packages/sklearn/model_selection/_search.py:667: DeprecationWarning: The grid_scores_ attribute was deprecated in version 0.18 in favor of the more elaborate cv_results_ attribute. The grid_scores_ attribute will not be available from 0.20\n",
      "  DeprecationWarning)\n"
     ]
    },
    {
     "data": {
      "text/plain": [
       "[mean: 0.21867, std: 0.01180, params: {'model__max_features': 'sqrt', 'model__min_samples_leaf': 1, 'model__n_estimators': 100},\n",
       " mean: 0.21678, std: 0.01236, params: {'model__max_features': 'sqrt', 'model__min_samples_leaf': 2, 'model__n_estimators': 100},\n",
       " mean: 0.20988, std: 0.01092, params: {'model__max_features': 'sqrt', 'model__min_samples_leaf': 3, 'model__n_estimators': 100},\n",
       " mean: 0.20358, std: 0.01386, params: {'model__max_features': 'sqrt', 'model__min_samples_leaf': 4, 'model__n_estimators': 100},\n",
       " mean: 0.20191, std: 0.00984, params: {'model__max_features': 'sqrt', 'model__min_samples_leaf': 5, 'model__n_estimators': 100},\n",
       " mean: 0.21552, std: 0.01311, params: {'model__max_features': 'log2', 'model__min_samples_leaf': 1, 'model__n_estimators': 100},\n",
       " mean: 0.20793, std: 0.01091, params: {'model__max_features': 'log2', 'model__min_samples_leaf': 2, 'model__n_estimators': 100},\n",
       " mean: 0.20178, std: 0.00991, params: {'model__max_features': 'log2', 'model__min_samples_leaf': 3, 'model__n_estimators': 100},\n",
       " mean: 0.19490, std: 0.01240, params: {'model__max_features': 'log2', 'model__min_samples_leaf': 4, 'model__n_estimators': 100},\n",
       " mean: 0.19393, std: 0.01070, params: {'model__max_features': 'log2', 'model__min_samples_leaf': 5, 'model__n_estimators': 100}]"
      ]
     },
     "execution_count": 52,
     "metadata": {},
     "output_type": "execute_result"
    }
   ],
   "source": [
    "RFrus.grid_scores_"
   ]
  },
  {
   "cell_type": "code",
   "execution_count": 53,
   "metadata": {
    "collapsed": true
   },
   "outputs": [],
   "source": [
    "import dill\n",
    "dill.dump(RFbal, open('RFbal.pkl', 'wb'))"
   ]
  },
  {
   "cell_type": "code",
   "execution_count": 54,
   "metadata": {
    "collapsed": true
   },
   "outputs": [],
   "source": [
    "import dill\n",
    "dill.dump(RFsmote, open('RFsmote.pkl', 'wb'))"
   ]
  },
  {
   "cell_type": "code",
   "execution_count": 55,
   "metadata": {
    "collapsed": true
   },
   "outputs": [],
   "source": [
    "import dill\n",
    "dill.dump(RFrus, open('RFrus.pkl', 'wb'))"
   ]
  },
  {
   "cell_type": "markdown",
   "metadata": {},
   "source": [
    "# Gradient Boosting (RUS)"
   ]
  },
  {
   "cell_type": "code",
   "execution_count": 57,
   "metadata": {},
   "outputs": [
    {
     "name": "stdout",
     "output_type": "stream",
     "text": [
      "Fitting 5 folds for each of 54 candidates, totalling 270 fits\n",
      "[CV] model__learning_rate=0.01, model__loss=exponential, model__max_depth=2, model__max_features=sqrt, model__min_samples_leaf=1, model__n_estimators=100 \n",
      "[CV] model__learning_rate=0.01, model__loss=exponential, model__max_depth=2, model__max_features=sqrt, model__min_samples_leaf=1, model__n_estimators=100 \n",
      "[CV] model__learning_rate=0.01, model__loss=exponential, model__max_depth=2, model__max_features=sqrt, model__min_samples_leaf=1, model__n_estimators=100 \n",
      "[CV] model__learning_rate=0.01, model__loss=exponential, model__max_depth=2, model__max_features=sqrt, model__min_samples_leaf=1, model__n_estimators=100 \n",
      "[CV] model__learning_rate=0.01, model__loss=exponential, model__max_depth=2, model__max_features=sqrt, model__min_samples_leaf=1, model__n_estimators=100 \n",
      "[CV]  model__learning_rate=0.01, model__loss=exponential, model__max_depth=2, model__max_features=sqrt, model__min_samples_leaf=1, model__n_estimators=100, total=   7.5s\n",
      "[CV] model__learning_rate=0.01, model__loss=exponential, model__max_depth=2, model__max_features=sqrt, model__min_samples_leaf=2, model__n_estimators=100 \n",
      "[CV] model__learning_rate=0.01, model__loss=exponential, model__max_depth=2, model__max_features=sqrt, model__min_samples_leaf=2, model__n_estimators=100 \n",
      "[CV]  model__learning_rate=0.01, model__loss=exponential, model__max_depth=2, model__max_features=sqrt, model__min_samples_leaf=1, model__n_estimators=100, total=  10.4s\n",
      "[CV] model__learning_rate=0.01, model__loss=exponential, model__max_depth=2, model__max_features=sqrt, model__min_samples_leaf=2, model__n_estimators=100 \n",
      "[CV] model__learning_rate=0.01, model__loss=exponential, model__max_depth=2, model__max_features=sqrt, model__min_samples_leaf=2, model__n_estimators=100 \n",
      "[CV]  model__learning_rate=0.01, model__loss=exponential, model__max_depth=2, model__max_features=sqrt, model__min_samples_leaf=1, model__n_estimators=100, total=  24.5s\n",
      "[CV] model__learning_rate=0.01, model__loss=exponential, model__max_depth=2, model__max_features=sqrt, model__min_samples_leaf=2, model__n_estimators=100 \n",
      "[CV]  model__learning_rate=0.01, model__loss=exponential, model__max_depth=2, model__max_features=sqrt, model__min_samples_leaf=1, model__n_estimators=100, total=  26.7s\n",
      "[CV] model__learning_rate=0.01, model__loss=exponential, model__max_depth=2, model__max_features=sqrt, model__min_samples_leaf=5, model__n_estimators=100 \n",
      "[CV]  model__learning_rate=0.01, model__loss=exponential, model__max_depth=2, model__max_features=sqrt, model__min_samples_leaf=1, model__n_estimators=100, total=  28.3s\n",
      "[CV]  model__learning_rate=0.01, model__loss=exponential, model__max_depth=2, model__max_features=sqrt, model__min_samples_leaf=2, model__n_estimators=100, total=  31.9s\n",
      "[CV]  model__learning_rate=0.01, model__loss=exponential, model__max_depth=2, model__max_features=sqrt, model__min_samples_leaf=2, model__n_estimators=100, total=  36.0s\n",
      "[CV] model__learning_rate=0.01, model__loss=exponential, model__max_depth=2, model__max_features=sqrt, model__min_samples_leaf=5, model__n_estimators=100 \n",
      "[CV]  model__learning_rate=0.01, model__loss=exponential, model__max_depth=2, model__max_features=sqrt, model__min_samples_leaf=2, model__n_estimators=100, total=  34.4s\n",
      "[CV] model__learning_rate=0.01, model__loss=exponential, model__max_depth=2, model__max_features=sqrt, model__min_samples_leaf=5, model__n_estimators=100 \n",
      "[CV]  model__learning_rate=0.01, model__loss=exponential, model__max_depth=2, model__max_features=sqrt, model__min_samples_leaf=2, model__n_estimators=100, total=  34.6s\n",
      "[CV] model__learning_rate=0.01, model__loss=exponential, model__max_depth=2, model__max_features=sqrt, model__min_samples_leaf=5, model__n_estimators=100 \n",
      "[CV] model__learning_rate=0.01, model__loss=exponential, model__max_depth=2, model__max_features=sqrt, model__min_samples_leaf=5, model__n_estimators=100 \n",
      "[CV]  model__learning_rate=0.01, model__loss=exponential, model__max_depth=2, model__max_features=sqrt, model__min_samples_leaf=2, model__n_estimators=100, total=  26.9s\n",
      "[CV]  model__learning_rate=0.01, model__loss=exponential, model__max_depth=2, model__max_features=sqrt, model__min_samples_leaf=5, model__n_estimators=100, total=  23.7s\n",
      "[CV] model__learning_rate=0.01, model__loss=exponential, model__max_depth=3, model__max_features=sqrt, model__min_samples_leaf=1, model__n_estimators=100 \n",
      "[CV] model__learning_rate=0.01, model__loss=exponential, model__max_depth=3, model__max_features=sqrt, model__min_samples_leaf=1, model__n_estimators=100 \n",
      "[CV] model__learning_rate=0.01, model__loss=exponential, model__max_depth=3, model__max_features=sqrt, model__min_samples_leaf=1, model__n_estimators=100 \n",
      "[CV]  model__learning_rate=0.01, model__loss=exponential, model__max_depth=2, model__max_features=sqrt, model__min_samples_leaf=5, model__n_estimators=100, total=  28.3s\n",
      "[CV] model__learning_rate=0.01, model__loss=exponential, model__max_depth=3, model__max_features=sqrt, model__min_samples_leaf=1, model__n_estimators=100 \n",
      "[CV]  model__learning_rate=0.01, model__loss=exponential, model__max_depth=2, model__max_features=sqrt, model__min_samples_leaf=5, model__n_estimators=100, total=  31.3s\n",
      "[CV] model__learning_rate=0.01, model__loss=exponential, model__max_depth=3, model__max_features=sqrt, model__min_samples_leaf=1, model__n_estimators=100 \n",
      "[CV]  model__learning_rate=0.01, model__loss=exponential, model__max_depth=2, model__max_features=sqrt, model__min_samples_leaf=5, model__n_estimators=100, total=  34.6s\n",
      "[CV]  model__learning_rate=0.01, model__loss=exponential, model__max_depth=2, model__max_features=sqrt, model__min_samples_leaf=5, model__n_estimators=100, total=  39.2s\n",
      "[CV] model__learning_rate=0.01, model__loss=exponential, model__max_depth=3, model__max_features=sqrt, model__min_samples_leaf=2, model__n_estimators=100 \n",
      "[CV]  model__learning_rate=0.01, model__loss=exponential, model__max_depth=3, model__max_features=sqrt, model__min_samples_leaf=1, model__n_estimators=100, total=  45.0s\n",
      "[CV] model__learning_rate=0.01, model__loss=exponential, model__max_depth=3, model__max_features=sqrt, model__min_samples_leaf=2, model__n_estimators=100 \n",
      "[CV]  model__learning_rate=0.01, model__loss=exponential, model__max_depth=3, model__max_features=sqrt, model__min_samples_leaf=1, model__n_estimators=100, total=  41.9s\n",
      "[CV]  model__learning_rate=0.01, model__loss=exponential, model__max_depth=3, model__max_features=sqrt, model__min_samples_leaf=1, model__n_estimators=100, total=  43.5s\n",
      "[CV] model__learning_rate=0.01, model__loss=exponential, model__max_depth=3, model__max_features=sqrt, model__min_samples_leaf=2, model__n_estimators=100 \n",
      "[CV] model__learning_rate=0.01, model__loss=exponential, model__max_depth=3, model__max_features=sqrt, model__min_samples_leaf=2, model__n_estimators=100 \n",
      "[CV] model__learning_rate=0.01, model__loss=exponential, model__max_depth=3, model__max_features=sqrt, model__min_samples_leaf=2, model__n_estimators=100 \n",
      "[CV]  model__learning_rate=0.01, model__loss=exponential, model__max_depth=3, model__max_features=sqrt, model__min_samples_leaf=1, model__n_estimators=100, total=  30.5s\n",
      "[CV] model__learning_rate=0.01, model__loss=exponential, model__max_depth=3, model__max_features=sqrt, model__min_samples_leaf=5, model__n_estimators=100 \n",
      "[CV]  model__learning_rate=0.01, model__loss=exponential, model__max_depth=3, model__max_features=sqrt, model__min_samples_leaf=1, model__n_estimators=100, total=  36.3s\n",
      "[CV] model__learning_rate=0.01, model__loss=exponential, model__max_depth=3, model__max_features=sqrt, model__min_samples_leaf=5, model__n_estimators=100 \n",
      "[CV]  model__learning_rate=0.01, model__loss=exponential, model__max_depth=3, model__max_features=sqrt, model__min_samples_leaf=2, model__n_estimators=100, total=  37.8s\n",
      "[CV] model__learning_rate=0.01, model__loss=exponential, model__max_depth=3, model__max_features=sqrt, model__min_samples_leaf=5, model__n_estimators=100 \n",
      "[CV]  model__learning_rate=0.01, model__loss=exponential, model__max_depth=3, model__max_features=sqrt, model__min_samples_leaf=2, model__n_estimators=100, total=  35.3s\n",
      "[CV] model__learning_rate=0.01, model__loss=exponential, model__max_depth=3, model__max_features=sqrt, model__min_samples_leaf=5, model__n_estimators=100 \n"
     ]
    },
    {
     "name": "stdout",
     "output_type": "stream",
     "text": [
      "[CV]  model__learning_rate=0.01, model__loss=exponential, model__max_depth=3, model__max_features=sqrt, model__min_samples_leaf=2, model__n_estimators=100, total=  37.1s\n",
      "[CV]  model__learning_rate=0.01, model__loss=exponential, model__max_depth=3, model__max_features=sqrt, model__min_samples_leaf=2, model__n_estimators=100, total=  37.2s\n",
      "[CV] model__learning_rate=0.01, model__loss=exponential, model__max_depth=3, model__max_features=sqrt, model__min_samples_leaf=5, model__n_estimators=100 \n",
      "[CV]  model__learning_rate=0.01, model__loss=exponential, model__max_depth=3, model__max_features=sqrt, model__min_samples_leaf=2, model__n_estimators=100, total=  40.9s\n",
      "[CV]  model__learning_rate=0.01, model__loss=exponential, model__max_depth=3, model__max_features=sqrt, model__min_samples_leaf=5, model__n_estimators=100, total=  41.2s\n",
      "[CV] model__learning_rate=0.01, model__loss=exponential, model__max_depth=5, model__max_features=sqrt, model__min_samples_leaf=1, model__n_estimators=100 \n",
      "[CV] model__learning_rate=0.01, model__loss=exponential, model__max_depth=5, model__max_features=sqrt, model__min_samples_leaf=1, model__n_estimators=100 \n",
      "[CV]  model__learning_rate=0.01, model__loss=exponential, model__max_depth=3, model__max_features=sqrt, model__min_samples_leaf=5, model__n_estimators=100, total=  39.8s\n"
     ]
    },
    {
     "name": "stderr",
     "output_type": "stream",
     "text": [
      "[Parallel(n_jobs=7)]: Done  27 tasks      | elapsed:  3.7min\n"
     ]
    },
    {
     "name": "stdout",
     "output_type": "stream",
     "text": [
      "[CV] model__learning_rate=0.01, model__loss=exponential, model__max_depth=5, model__max_features=sqrt, model__min_samples_leaf=1, model__n_estimators=100 \n",
      "[CV] model__learning_rate=0.01, model__loss=exponential, model__max_depth=5, model__max_features=sqrt, model__min_samples_leaf=1, model__n_estimators=100 \n",
      "[CV]  model__learning_rate=0.01, model__loss=exponential, model__max_depth=3, model__max_features=sqrt, model__min_samples_leaf=5, model__n_estimators=100, total=  32.5s\n",
      "[CV] model__learning_rate=0.01, model__loss=exponential, model__max_depth=5, model__max_features=sqrt, model__min_samples_leaf=1, model__n_estimators=100 \n",
      "[CV]  model__learning_rate=0.01, model__loss=exponential, model__max_depth=3, model__max_features=sqrt, model__min_samples_leaf=5, model__n_estimators=100, total=  31.3s\n",
      "[CV] model__learning_rate=0.01, model__loss=exponential, model__max_depth=5, model__max_features=sqrt, model__min_samples_leaf=2, model__n_estimators=100 \n",
      "[CV]  model__learning_rate=0.01, model__loss=exponential, model__max_depth=3, model__max_features=sqrt, model__min_samples_leaf=5, model__n_estimators=100, total=  32.0s\n",
      "[CV] model__learning_rate=0.01, model__loss=exponential, model__max_depth=5, model__max_features=sqrt, model__min_samples_leaf=2, model__n_estimators=100 \n",
      "[CV]  model__learning_rate=0.01, model__loss=exponential, model__max_depth=5, model__max_features=sqrt, model__min_samples_leaf=1, model__n_estimators=100, total=  36.3s\n",
      "[CV] model__learning_rate=0.01, model__loss=exponential, model__max_depth=5, model__max_features=sqrt, model__min_samples_leaf=2, model__n_estimators=100 \n",
      "[CV]  model__learning_rate=0.01, model__loss=exponential, model__max_depth=5, model__max_features=sqrt, model__min_samples_leaf=1, model__n_estimators=100, total=  35.4s\n",
      "[CV] model__learning_rate=0.01, model__loss=exponential, model__max_depth=5, model__max_features=sqrt, model__min_samples_leaf=2, model__n_estimators=100 \n",
      "[CV]  model__learning_rate=0.01, model__loss=exponential, model__max_depth=5, model__max_features=sqrt, model__min_samples_leaf=1, model__n_estimators=100, total=  36.1s\n",
      "[CV] model__learning_rate=0.01, model__loss=exponential, model__max_depth=5, model__max_features=sqrt, model__min_samples_leaf=2, model__n_estimators=100 \n",
      "[CV]  model__learning_rate=0.01, model__loss=exponential, model__max_depth=5, model__max_features=sqrt, model__min_samples_leaf=1, model__n_estimators=100, total=  38.8s\n",
      "[CV] model__learning_rate=0.01, model__loss=exponential, model__max_depth=5, model__max_features=sqrt, model__min_samples_leaf=5, model__n_estimators=100 \n",
      "[CV]  model__learning_rate=0.01, model__loss=exponential, model__max_depth=5, model__max_features=sqrt, model__min_samples_leaf=1, model__n_estimators=100, total=  41.1s\n",
      "[CV] model__learning_rate=0.01, model__loss=exponential, model__max_depth=5, model__max_features=sqrt, model__min_samples_leaf=5, model__n_estimators=100 \n",
      "[CV]  model__learning_rate=0.01, model__loss=exponential, model__max_depth=5, model__max_features=sqrt, model__min_samples_leaf=2, model__n_estimators=100, total=  40.4s\n",
      "[CV] model__learning_rate=0.01, model__loss=exponential, model__max_depth=5, model__max_features=sqrt, model__min_samples_leaf=5, model__n_estimators=100 \n",
      "[CV]  model__learning_rate=0.01, model__loss=exponential, model__max_depth=5, model__max_features=sqrt, model__min_samples_leaf=2, model__n_estimators=100, total=  39.1s\n",
      "[CV] model__learning_rate=0.01, model__loss=exponential, model__max_depth=5, model__max_features=sqrt, model__min_samples_leaf=5, model__n_estimators=100 \n",
      "[CV]  model__learning_rate=0.01, model__loss=exponential, model__max_depth=5, model__max_features=sqrt, model__min_samples_leaf=2, model__n_estimators=100, total=  37.8s\n",
      "[CV]  model__learning_rate=0.01, model__loss=exponential, model__max_depth=5, model__max_features=sqrt, model__min_samples_leaf=2, model__n_estimators=100, total=  36.6s\n",
      "[CV] model__learning_rate=0.01, model__loss=exponential, model__max_depth=5, model__max_features=sqrt, model__min_samples_leaf=5, model__n_estimators=100 \n",
      "[CV]  model__learning_rate=0.01, model__loss=exponential, model__max_depth=5, model__max_features=sqrt, model__min_samples_leaf=2, model__n_estimators=100, total=  37.4s\n",
      "[CV]  model__learning_rate=0.01, model__loss=exponential, model__max_depth=5, model__max_features=sqrt, model__min_samples_leaf=5, model__n_estimators=100, total=  38.9s\n",
      "[CV] model__learning_rate=0.01, model__loss=deviance, model__max_depth=2, model__max_features=sqrt, model__min_samples_leaf=1, model__n_estimators=100 \n",
      "[CV] model__learning_rate=0.01, model__loss=deviance, model__max_depth=2, model__max_features=sqrt, model__min_samples_leaf=1, model__n_estimators=100 \n",
      "[CV] model__learning_rate=0.01, model__loss=deviance, model__max_depth=2, model__max_features=sqrt, model__min_samples_leaf=1, model__n_estimators=100 \n",
      "[CV]  model__learning_rate=0.01, model__loss=exponential, model__max_depth=5, model__max_features=sqrt, model__min_samples_leaf=5, model__n_estimators=100, total=  41.1s\n",
      "[CV] model__learning_rate=0.01, model__loss=deviance, model__max_depth=2, model__max_features=sqrt, model__min_samples_leaf=1, model__n_estimators=100 \n",
      "[CV]  model__learning_rate=0.01, model__loss=exponential, model__max_depth=5, model__max_features=sqrt, model__min_samples_leaf=5, model__n_estimators=100, total=  39.6s\n",
      "[CV] model__learning_rate=0.01, model__loss=deviance, model__max_depth=2, model__max_features=sqrt, model__min_samples_leaf=1, model__n_estimators=100 \n",
      "[CV]  model__learning_rate=0.01, model__loss=exponential, model__max_depth=5, model__max_features=sqrt, model__min_samples_leaf=5, model__n_estimators=100, total=  36.0s\n",
      "[CV] model__learning_rate=0.01, model__loss=deviance, model__max_depth=2, model__max_features=sqrt, model__min_samples_leaf=2, model__n_estimators=100 \n",
      "[CV]  model__learning_rate=0.01, model__loss=deviance, model__max_depth=2, model__max_features=sqrt, model__min_samples_leaf=1, model__n_estimators=100, total=  30.9s\n",
      "[CV]  model__learning_rate=0.01, model__loss=exponential, model__max_depth=5, model__max_features=sqrt, model__min_samples_leaf=5, model__n_estimators=100, total=  36.2s\n",
      "[CV]  model__learning_rate=0.01, model__loss=deviance, model__max_depth=2, model__max_features=sqrt, model__min_samples_leaf=1, model__n_estimators=100, total=  33.0s\n",
      "[CV] model__learning_rate=0.01, model__loss=deviance, model__max_depth=2, model__max_features=sqrt, model__min_samples_leaf=2, model__n_estimators=100 \n",
      "[CV]  model__learning_rate=0.01, model__loss=deviance, model__max_depth=2, model__max_features=sqrt, model__min_samples_leaf=1, model__n_estimators=100, total=  35.7s\n",
      "[CV] model__learning_rate=0.01, model__loss=deviance, model__max_depth=2, model__max_features=sqrt, model__min_samples_leaf=2, model__n_estimators=100 \n",
      "[CV] model__learning_rate=0.01, model__loss=deviance, model__max_depth=2, model__max_features=sqrt, model__min_samples_leaf=2, model__n_estimators=100 \n",
      "[CV]  model__learning_rate=0.01, model__loss=deviance, model__max_depth=2, model__max_features=sqrt, model__min_samples_leaf=1, model__n_estimators=100, total=  34.4s\n",
      "[CV] model__learning_rate=0.01, model__loss=deviance, model__max_depth=2, model__max_features=sqrt, model__min_samples_leaf=2, model__n_estimators=100 \n",
      "[CV]  model__learning_rate=0.01, model__loss=deviance, model__max_depth=2, model__max_features=sqrt, model__min_samples_leaf=1, model__n_estimators=100, total=  28.4s\n",
      "[CV] model__learning_rate=0.01, model__loss=deviance, model__max_depth=2, model__max_features=sqrt, model__min_samples_leaf=5, model__n_estimators=100 \n",
      "[CV]  model__learning_rate=0.01, model__loss=deviance, model__max_depth=2, model__max_features=sqrt, model__min_samples_leaf=2, model__n_estimators=100, total=  24.1s\n",
      "[CV] model__learning_rate=0.01, model__loss=deviance, model__max_depth=2, model__max_features=sqrt, model__min_samples_leaf=5, model__n_estimators=100 \n",
      "[CV] model__learning_rate=0.01, model__loss=deviance, model__max_depth=2, model__max_features=sqrt, model__min_samples_leaf=5, model__n_estimators=100 \n",
      "[CV]  model__learning_rate=0.01, model__loss=deviance, model__max_depth=2, model__max_features=sqrt, model__min_samples_leaf=2, model__n_estimators=100, total=  24.4s\n"
     ]
    },
    {
     "name": "stdout",
     "output_type": "stream",
     "text": [
      "[CV] model__learning_rate=0.01, model__loss=deviance, model__max_depth=2, model__max_features=sqrt, model__min_samples_leaf=5, model__n_estimators=100 \n",
      "[CV]  model__learning_rate=0.01, model__loss=deviance, model__max_depth=2, model__max_features=sqrt, model__min_samples_leaf=2, model__n_estimators=100, total=  27.1s\n",
      "[CV]  model__learning_rate=0.01, model__loss=deviance, model__max_depth=2, model__max_features=sqrt, model__min_samples_leaf=2, model__n_estimators=100, total=  26.7s\n",
      "[CV]  model__learning_rate=0.01, model__loss=deviance, model__max_depth=2, model__max_features=sqrt, model__min_samples_leaf=2, model__n_estimators=100, total=  28.7s\n",
      "[CV] model__learning_rate=0.01, model__loss=deviance, model__max_depth=2, model__max_features=sqrt, model__min_samples_leaf=5, model__n_estimators=100 \n",
      "[CV] model__learning_rate=0.01, model__loss=deviance, model__max_depth=3, model__max_features=sqrt, model__min_samples_leaf=1, model__n_estimators=100 \n",
      "[CV]  model__learning_rate=0.01, model__loss=deviance, model__max_depth=2, model__max_features=sqrt, model__min_samples_leaf=5, model__n_estimators=100, total=  30.8s\n",
      "[CV]  model__learning_rate=0.01, model__loss=deviance, model__max_depth=2, model__max_features=sqrt, model__min_samples_leaf=5, model__n_estimators=100, total=  28.8s\n",
      "[CV] model__learning_rate=0.01, model__loss=deviance, model__max_depth=3, model__max_features=sqrt, model__min_samples_leaf=1, model__n_estimators=100 \n",
      "[CV]  model__learning_rate=0.01, model__loss=deviance, model__max_depth=2, model__max_features=sqrt, model__min_samples_leaf=5, model__n_estimators=100, total=  28.3s\n",
      "[CV] model__learning_rate=0.01, model__loss=deviance, model__max_depth=3, model__max_features=sqrt, model__min_samples_leaf=1, model__n_estimators=100 \n",
      "[CV] model__learning_rate=0.01, model__loss=deviance, model__max_depth=3, model__max_features=sqrt, model__min_samples_leaf=1, model__n_estimators=100 \n",
      "[CV] model__learning_rate=0.01, model__loss=deviance, model__max_depth=3, model__max_features=sqrt, model__min_samples_leaf=1, model__n_estimators=100 \n",
      "[CV]  model__learning_rate=0.01, model__loss=deviance, model__max_depth=2, model__max_features=sqrt, model__min_samples_leaf=5, model__n_estimators=100, total=  24.4s\n",
      "[CV] model__learning_rate=0.01, model__loss=deviance, model__max_depth=3, model__max_features=sqrt, model__min_samples_leaf=2, model__n_estimators=100 \n",
      "[CV]  model__learning_rate=0.01, model__loss=deviance, model__max_depth=2, model__max_features=sqrt, model__min_samples_leaf=5, model__n_estimators=100, total=  25.5s\n",
      "[CV] model__learning_rate=0.01, model__loss=deviance, model__max_depth=3, model__max_features=sqrt, model__min_samples_leaf=2, model__n_estimators=100 \n",
      "[CV]  model__learning_rate=0.01, model__loss=deviance, model__max_depth=3, model__max_features=sqrt, model__min_samples_leaf=1, model__n_estimators=100, total=  28.4s\n",
      "[CV] model__learning_rate=0.01, model__loss=deviance, model__max_depth=3, model__max_features=sqrt, model__min_samples_leaf=2, model__n_estimators=100 \n",
      "[CV]  model__learning_rate=0.01, model__loss=deviance, model__max_depth=3, model__max_features=sqrt, model__min_samples_leaf=1, model__n_estimators=100, total=  35.9s\n",
      "[CV] model__learning_rate=0.01, model__loss=deviance, model__max_depth=3, model__max_features=sqrt, model__min_samples_leaf=2, model__n_estimators=100 \n",
      "[CV]  model__learning_rate=0.01, model__loss=deviance, model__max_depth=3, model__max_features=sqrt, model__min_samples_leaf=1, model__n_estimators=100, total=  37.7s\n",
      "[CV] model__learning_rate=0.01, model__loss=deviance, model__max_depth=3, model__max_features=sqrt, model__min_samples_leaf=2, model__n_estimators=100 \n",
      "[CV]  model__learning_rate=0.01, model__loss=deviance, model__max_depth=3, model__max_features=sqrt, model__min_samples_leaf=1, model__n_estimators=100, total=  35.7s\n",
      "[CV]  model__learning_rate=0.01, model__loss=deviance, model__max_depth=3, model__max_features=sqrt, model__min_samples_leaf=1, model__n_estimators=100, total=  36.0s\n",
      "[CV] model__learning_rate=0.01, model__loss=deviance, model__max_depth=3, model__max_features=sqrt, model__min_samples_leaf=5, model__n_estimators=100 \n",
      "[CV]  model__learning_rate=0.01, model__loss=deviance, model__max_depth=3, model__max_features=sqrt, model__min_samples_leaf=2, model__n_estimators=100, total=  37.2s\n",
      "[CV] model__learning_rate=0.01, model__loss=deviance, model__max_depth=3, model__max_features=sqrt, model__min_samples_leaf=5, model__n_estimators=100 \n",
      "[CV] model__learning_rate=0.01, model__loss=deviance, model__max_depth=3, model__max_features=sqrt, model__min_samples_leaf=5, model__n_estimators=100 \n",
      "[CV]  model__learning_rate=0.01, model__loss=deviance, model__max_depth=3, model__max_features=sqrt, model__min_samples_leaf=2, model__n_estimators=100, total=  34.3s\n",
      "[CV] model__learning_rate=0.01, model__loss=deviance, model__max_depth=3, model__max_features=sqrt, model__min_samples_leaf=5, model__n_estimators=100 \n",
      "[CV]  model__learning_rate=0.01, model__loss=deviance, model__max_depth=3, model__max_features=sqrt, model__min_samples_leaf=2, model__n_estimators=100, total=  33.5s\n",
      "[CV] model__learning_rate=0.01, model__loss=deviance, model__max_depth=3, model__max_features=sqrt, model__min_samples_leaf=5, model__n_estimators=100 \n",
      "[CV]  model__learning_rate=0.01, model__loss=deviance, model__max_depth=3, model__max_features=sqrt, model__min_samples_leaf=2, model__n_estimators=100, total=  31.1s\n",
      "[CV] model__learning_rate=0.01, model__loss=deviance, model__max_depth=5, model__max_features=sqrt, model__min_samples_leaf=1, model__n_estimators=100 \n",
      "[CV]  model__learning_rate=0.01, model__loss=deviance, model__max_depth=3, model__max_features=sqrt, model__min_samples_leaf=2, model__n_estimators=100, total=  31.8s\n",
      "[CV] model__learning_rate=0.01, model__loss=deviance, model__max_depth=5, model__max_features=sqrt, model__min_samples_leaf=1, model__n_estimators=100 \n",
      "[CV]  model__learning_rate=0.01, model__loss=deviance, model__max_depth=3, model__max_features=sqrt, model__min_samples_leaf=5, model__n_estimators=100, total=  34.4s\n",
      "[CV] model__learning_rate=0.01, model__loss=deviance, model__max_depth=5, model__max_features=sqrt, model__min_samples_leaf=1, model__n_estimators=100 \n",
      "[CV]  model__learning_rate=0.01, model__loss=deviance, model__max_depth=3, model__max_features=sqrt, model__min_samples_leaf=5, model__n_estimators=100, total=  32.6s\n",
      "[CV]  model__learning_rate=0.01, model__loss=deviance, model__max_depth=3, model__max_features=sqrt, model__min_samples_leaf=5, model__n_estimators=100, total=  32.1s\n",
      "[CV] model__learning_rate=0.01, model__loss=deviance, model__max_depth=5, model__max_features=sqrt, model__min_samples_leaf=1, model__n_estimators=100 \n",
      "[CV] model__learning_rate=0.01, model__loss=deviance, model__max_depth=5, model__max_features=sqrt, model__min_samples_leaf=1, model__n_estimators=100 \n",
      "[CV]  model__learning_rate=0.01, model__loss=deviance, model__max_depth=3, model__max_features=sqrt, model__min_samples_leaf=5, model__n_estimators=100, total=  36.9s\n",
      "[CV] model__learning_rate=0.01, model__loss=deviance, model__max_depth=5, model__max_features=sqrt, model__min_samples_leaf=2, model__n_estimators=100 \n",
      "[CV]  model__learning_rate=0.01, model__loss=deviance, model__max_depth=3, model__max_features=sqrt, model__min_samples_leaf=5, model__n_estimators=100, total=  34.2s\n",
      "[CV] model__learning_rate=0.01, model__loss=deviance, model__max_depth=5, model__max_features=sqrt, model__min_samples_leaf=2, model__n_estimators=100 \n",
      "[CV]  model__learning_rate=0.01, model__loss=deviance, model__max_depth=5, model__max_features=sqrt, model__min_samples_leaf=1, model__n_estimators=100, total=  33.6s\n",
      "[CV] model__learning_rate=0.01, model__loss=deviance, model__max_depth=5, model__max_features=sqrt, model__min_samples_leaf=2, model__n_estimators=100 \n",
      "[CV]  model__learning_rate=0.01, model__loss=deviance, model__max_depth=5, model__max_features=sqrt, model__min_samples_leaf=1, model__n_estimators=100, total=  37.6s\n",
      "[CV] model__learning_rate=0.01, model__loss=deviance, model__max_depth=5, model__max_features=sqrt, model__min_samples_leaf=2, model__n_estimators=100 \n",
      "[CV]  model__learning_rate=0.01, model__loss=deviance, model__max_depth=5, model__max_features=sqrt, model__min_samples_leaf=1, model__n_estimators=100, total=  37.6s\n"
     ]
    },
    {
     "name": "stdout",
     "output_type": "stream",
     "text": [
      "[CV] model__learning_rate=0.01, model__loss=deviance, model__max_depth=5, model__max_features=sqrt, model__min_samples_leaf=2, model__n_estimators=100 \n",
      "[CV]  model__learning_rate=0.01, model__loss=deviance, model__max_depth=5, model__max_features=sqrt, model__min_samples_leaf=1, model__n_estimators=100, total=  35.8s\n",
      "[CV] model__learning_rate=0.01, model__loss=deviance, model__max_depth=5, model__max_features=sqrt, model__min_samples_leaf=5, model__n_estimators=100 \n",
      "[CV]  model__learning_rate=0.01, model__loss=deviance, model__max_depth=5, model__max_features=sqrt, model__min_samples_leaf=1, model__n_estimators=100, total=  40.7s\n",
      "[CV] model__learning_rate=0.01, model__loss=deviance, model__max_depth=5, model__max_features=sqrt, model__min_samples_leaf=5, model__n_estimators=100 \n",
      "[CV]  model__learning_rate=0.01, model__loss=deviance, model__max_depth=5, model__max_features=sqrt, model__min_samples_leaf=2, model__n_estimators=100, total=  35.3s\n",
      "[CV] model__learning_rate=0.01, model__loss=deviance, model__max_depth=5, model__max_features=sqrt, model__min_samples_leaf=5, model__n_estimators=100 \n",
      "[CV]  model__learning_rate=0.01, model__loss=deviance, model__max_depth=5, model__max_features=sqrt, model__min_samples_leaf=2, model__n_estimators=100, total=  41.8s\n",
      "[CV] model__learning_rate=0.01, model__loss=deviance, model__max_depth=5, model__max_features=sqrt, model__min_samples_leaf=5, model__n_estimators=100 \n",
      "[CV]  model__learning_rate=0.01, model__loss=deviance, model__max_depth=5, model__max_features=sqrt, model__min_samples_leaf=2, model__n_estimators=100, total=  40.0s\n",
      "[CV] model__learning_rate=0.01, model__loss=deviance, model__max_depth=5, model__max_features=sqrt, model__min_samples_leaf=5, model__n_estimators=100 \n",
      "[CV]  model__learning_rate=0.01, model__loss=deviance, model__max_depth=5, model__max_features=sqrt, model__min_samples_leaf=2, model__n_estimators=100, total=  43.0s\n",
      "[CV] model__learning_rate=0.1, model__loss=exponential, model__max_depth=2, model__max_features=sqrt, model__min_samples_leaf=1, model__n_estimators=100 \n",
      "[CV]  model__learning_rate=0.01, model__loss=deviance, model__max_depth=5, model__max_features=sqrt, model__min_samples_leaf=5, model__n_estimators=100, total=  36.0s\n",
      "[CV]  model__learning_rate=0.01, model__loss=deviance, model__max_depth=5, model__max_features=sqrt, model__min_samples_leaf=2, model__n_estimators=100, total=  37.6s\n",
      "[CV] model__learning_rate=0.1, model__loss=exponential, model__max_depth=2, model__max_features=sqrt, model__min_samples_leaf=1, model__n_estimators=100 \n",
      "[CV] model__learning_rate=0.1, model__loss=exponential, model__max_depth=2, model__max_features=sqrt, model__min_samples_leaf=1, model__n_estimators=100 \n",
      "[CV]  model__learning_rate=0.01, model__loss=deviance, model__max_depth=5, model__max_features=sqrt, model__min_samples_leaf=5, model__n_estimators=100, total=  38.4s\n",
      "[CV] model__learning_rate=0.1, model__loss=exponential, model__max_depth=2, model__max_features=sqrt, model__min_samples_leaf=1, model__n_estimators=100 \n",
      "[CV]  model__learning_rate=0.01, model__loss=deviance, model__max_depth=5, model__max_features=sqrt, model__min_samples_leaf=5, model__n_estimators=100, total=  41.5s\n",
      "[CV] model__learning_rate=0.1, model__loss=exponential, model__max_depth=2, model__max_features=sqrt, model__min_samples_leaf=1, model__n_estimators=100 \n",
      "[CV]  model__learning_rate=0.01, model__loss=deviance, model__max_depth=5, model__max_features=sqrt, model__min_samples_leaf=5, model__n_estimators=100, total=  37.3s\n",
      "[CV] model__learning_rate=0.1, model__loss=exponential, model__max_depth=2, model__max_features=sqrt, model__min_samples_leaf=2, model__n_estimators=100 \n",
      "[CV]  model__learning_rate=0.01, model__loss=deviance, model__max_depth=5, model__max_features=sqrt, model__min_samples_leaf=5, model__n_estimators=100, total=  36.3s\n",
      "[CV]  model__learning_rate=0.1, model__loss=exponential, model__max_depth=2, model__max_features=sqrt, model__min_samples_leaf=1, model__n_estimators=100, total=  31.9s\n",
      "[CV]  model__learning_rate=0.1, model__loss=exponential, model__max_depth=2, model__max_features=sqrt, model__min_samples_leaf=1, model__n_estimators=100, total=  30.1s\n",
      "[CV] model__learning_rate=0.1, model__loss=exponential, model__max_depth=2, model__max_features=sqrt, model__min_samples_leaf=2, model__n_estimators=100 \n",
      "[CV]  model__learning_rate=0.1, model__loss=exponential, model__max_depth=2, model__max_features=sqrt, model__min_samples_leaf=1, model__n_estimators=100, total=  35.1s\n",
      "[CV] model__learning_rate=0.1, model__loss=exponential, model__max_depth=2, model__max_features=sqrt, model__min_samples_leaf=2, model__n_estimators=100 \n",
      "[CV]  model__learning_rate=0.1, model__loss=exponential, model__max_depth=2, model__max_features=sqrt, model__min_samples_leaf=1, model__n_estimators=100, total=  35.6s\n",
      "[CV] model__learning_rate=0.1, model__loss=exponential, model__max_depth=2, model__max_features=sqrt, model__min_samples_leaf=2, model__n_estimators=100 \n",
      "[CV] model__learning_rate=0.1, model__loss=exponential, model__max_depth=2, model__max_features=sqrt, model__min_samples_leaf=2, model__n_estimators=100 \n",
      "[CV] model__learning_rate=0.1, model__loss=exponential, model__max_depth=2, model__max_features=sqrt, model__min_samples_leaf=5, model__n_estimators=100 \n",
      "[CV]  model__learning_rate=0.1, model__loss=exponential, model__max_depth=2, model__max_features=sqrt, model__min_samples_leaf=1, model__n_estimators=100, total=  32.4s\n",
      "[CV]  model__learning_rate=0.1, model__loss=exponential, model__max_depth=2, model__max_features=sqrt, model__min_samples_leaf=2, model__n_estimators=100, total=  28.1s\n",
      "[CV] model__learning_rate=0.1, model__loss=exponential, model__max_depth=2, model__max_features=sqrt, model__min_samples_leaf=5, model__n_estimators=100 \n",
      "[CV] model__learning_rate=0.1, model__loss=exponential, model__max_depth=2, model__max_features=sqrt, model__min_samples_leaf=5, model__n_estimators=100 \n",
      "[CV]  model__learning_rate=0.1, model__loss=exponential, model__max_depth=2, model__max_features=sqrt, model__min_samples_leaf=2, model__n_estimators=100, total=  27.8s\n",
      "[CV]  model__learning_rate=0.1, model__loss=exponential, model__max_depth=2, model__max_features=sqrt, model__min_samples_leaf=2, model__n_estimators=100, total=  25.6s\n",
      "[CV]  model__learning_rate=0.1, model__loss=exponential, model__max_depth=2, model__max_features=sqrt, model__min_samples_leaf=2, model__n_estimators=100, total=  25.9s\n",
      "[CV] model__learning_rate=0.1, model__loss=exponential, model__max_depth=2, model__max_features=sqrt, model__min_samples_leaf=5, model__n_estimators=100 \n",
      "[CV]  model__learning_rate=0.1, model__loss=exponential, model__max_depth=2, model__max_features=sqrt, model__min_samples_leaf=2, model__n_estimators=100, total=  25.5s\n",
      "[CV] model__learning_rate=0.1, model__loss=exponential, model__max_depth=2, model__max_features=sqrt, model__min_samples_leaf=5, model__n_estimators=100 \n",
      "[CV]  model__learning_rate=0.1, model__loss=exponential, model__max_depth=2, model__max_features=sqrt, model__min_samples_leaf=5, model__n_estimators=100, total=  31.5s\n",
      "[CV] model__learning_rate=0.1, model__loss=exponential, model__max_depth=3, model__max_features=sqrt, model__min_samples_leaf=1, model__n_estimators=100 \n",
      "[CV] model__learning_rate=0.1, model__loss=exponential, model__max_depth=3, model__max_features=sqrt, model__min_samples_leaf=1, model__n_estimators=100 \n",
      "[CV]  model__learning_rate=0.1, model__loss=exponential, model__max_depth=2, model__max_features=sqrt, model__min_samples_leaf=5, model__n_estimators=100, total=  26.6s\n",
      "[CV] model__learning_rate=0.1, model__loss=exponential, model__max_depth=3, model__max_features=sqrt, model__min_samples_leaf=1, model__n_estimators=100 \n",
      "[CV]  model__learning_rate=0.1, model__loss=exponential, model__max_depth=2, model__max_features=sqrt, model__min_samples_leaf=5, model__n_estimators=100, total=  21.6s\n",
      "[CV] model__learning_rate=0.1, model__loss=exponential, model__max_depth=3, model__max_features=sqrt, model__min_samples_leaf=1, model__n_estimators=100 \n",
      "[CV] model__learning_rate=0.1, model__loss=exponential, model__max_depth=3, model__max_features=sqrt, model__min_samples_leaf=1, model__n_estimators=100 \n"
     ]
    },
    {
     "name": "stdout",
     "output_type": "stream",
     "text": [
      "[CV]  model__learning_rate=0.1, model__loss=exponential, model__max_depth=2, model__max_features=sqrt, model__min_samples_leaf=5, model__n_estimators=100, total=  25.2s\n",
      "[CV] model__learning_rate=0.1, model__loss=exponential, model__max_depth=3, model__max_features=sqrt, model__min_samples_leaf=2, model__n_estimators=100 \n",
      "[CV]  model__learning_rate=0.1, model__loss=exponential, model__max_depth=2, model__max_features=sqrt, model__min_samples_leaf=5, model__n_estimators=100, total=  27.2s\n",
      "[CV] model__learning_rate=0.1, model__loss=exponential, model__max_depth=3, model__max_features=sqrt, model__min_samples_leaf=2, model__n_estimators=100 \n",
      "[CV]  model__learning_rate=0.1, model__loss=exponential, model__max_depth=3, model__max_features=sqrt, model__min_samples_leaf=1, model__n_estimators=100, total=  29.9s\n",
      "[CV] model__learning_rate=0.1, model__loss=exponential, model__max_depth=3, model__max_features=sqrt, model__min_samples_leaf=2, model__n_estimators=100 \n",
      "[CV]  model__learning_rate=0.1, model__loss=exponential, model__max_depth=3, model__max_features=sqrt, model__min_samples_leaf=1, model__n_estimators=100, total=  34.8s\n",
      "[CV] model__learning_rate=0.1, model__loss=exponential, model__max_depth=3, model__max_features=sqrt, model__min_samples_leaf=2, model__n_estimators=100 \n",
      "[CV]  model__learning_rate=0.1, model__loss=exponential, model__max_depth=3, model__max_features=sqrt, model__min_samples_leaf=1, model__n_estimators=100, total=  38.0s\n",
      "[CV] model__learning_rate=0.1, model__loss=exponential, model__max_depth=3, model__max_features=sqrt, model__min_samples_leaf=2, model__n_estimators=100 \n",
      "[CV]  model__learning_rate=0.1, model__loss=exponential, model__max_depth=3, model__max_features=sqrt, model__min_samples_leaf=1, model__n_estimators=100, total=  36.9s\n",
      "[CV]  model__learning_rate=0.1, model__loss=exponential, model__max_depth=3, model__max_features=sqrt, model__min_samples_leaf=1, model__n_estimators=100, total=  38.0s\n",
      "[CV] model__learning_rate=0.1, model__loss=exponential, model__max_depth=3, model__max_features=sqrt, model__min_samples_leaf=5, model__n_estimators=100 \n",
      "[CV] model__learning_rate=0.1, model__loss=exponential, model__max_depth=3, model__max_features=sqrt, model__min_samples_leaf=5, model__n_estimators=100 \n",
      "[CV]  model__learning_rate=0.1, model__loss=exponential, model__max_depth=3, model__max_features=sqrt, model__min_samples_leaf=2, model__n_estimators=100, total=  34.6s\n",
      "[CV] model__learning_rate=0.1, model__loss=exponential, model__max_depth=3, model__max_features=sqrt, model__min_samples_leaf=5, model__n_estimators=100 \n",
      "[CV]  model__learning_rate=0.1, model__loss=exponential, model__max_depth=3, model__max_features=sqrt, model__min_samples_leaf=2, model__n_estimators=100, total=  34.6s\n",
      "[CV]  model__learning_rate=0.1, model__loss=exponential, model__max_depth=3, model__max_features=sqrt, model__min_samples_leaf=2, model__n_estimators=100, total=  35.9s\n",
      "[CV] model__learning_rate=0.1, model__loss=exponential, model__max_depth=3, model__max_features=sqrt, model__min_samples_leaf=5, model__n_estimators=100 \n",
      "[CV]  model__learning_rate=0.1, model__loss=exponential, model__max_depth=3, model__max_features=sqrt, model__min_samples_leaf=2, model__n_estimators=100, total=  36.8s\n",
      "[CV] model__learning_rate=0.1, model__loss=exponential, model__max_depth=3, model__max_features=sqrt, model__min_samples_leaf=5, model__n_estimators=100 \n",
      "[CV] model__learning_rate=0.1, model__loss=exponential, model__max_depth=5, model__max_features=sqrt, model__min_samples_leaf=1, model__n_estimators=100 \n",
      "[CV]  model__learning_rate=0.1, model__loss=exponential, model__max_depth=3, model__max_features=sqrt, model__min_samples_leaf=2, model__n_estimators=100, total=  34.2s\n",
      "[CV] model__learning_rate=0.1, model__loss=exponential, model__max_depth=5, model__max_features=sqrt, model__min_samples_leaf=1, model__n_estimators=100 \n",
      "[CV]  model__learning_rate=0.1, model__loss=exponential, model__max_depth=3, model__max_features=sqrt, model__min_samples_leaf=5, model__n_estimators=100, total=  34.0s\n",
      "[CV]  model__learning_rate=0.1, model__loss=exponential, model__max_depth=3, model__max_features=sqrt, model__min_samples_leaf=5, model__n_estimators=100, total=  31.1s\n",
      "[CV] model__learning_rate=0.1, model__loss=exponential, model__max_depth=5, model__max_features=sqrt, model__min_samples_leaf=1, model__n_estimators=100 \n",
      "[CV] model__learning_rate=0.1, model__loss=exponential, model__max_depth=5, model__max_features=sqrt, model__min_samples_leaf=1, model__n_estimators=100 \n",
      "[CV]  model__learning_rate=0.1, model__loss=exponential, model__max_depth=3, model__max_features=sqrt, model__min_samples_leaf=5, model__n_estimators=100, total=  35.1s\n",
      "[CV] model__learning_rate=0.1, model__loss=exponential, model__max_depth=5, model__max_features=sqrt, model__min_samples_leaf=1, model__n_estimators=100 \n",
      "[CV]  model__learning_rate=0.1, model__loss=exponential, model__max_depth=3, model__max_features=sqrt, model__min_samples_leaf=5, model__n_estimators=100, total=  32.5s\n",
      "[CV] model__learning_rate=0.1, model__loss=exponential, model__max_depth=5, model__max_features=sqrt, model__min_samples_leaf=2, model__n_estimators=100 \n",
      "[CV]  model__learning_rate=0.1, model__loss=exponential, model__max_depth=3, model__max_features=sqrt, model__min_samples_leaf=5, model__n_estimators=100, total=  34.0s\n",
      "[CV]  model__learning_rate=0.1, model__loss=exponential, model__max_depth=5, model__max_features=sqrt, model__min_samples_leaf=1, model__n_estimators=100, total=  40.1s\n",
      "[CV] model__learning_rate=0.1, model__loss=exponential, model__max_depth=5, model__max_features=sqrt, model__min_samples_leaf=2, model__n_estimators=100 \n",
      "[CV] model__learning_rate=0.1, model__loss=exponential, model__max_depth=5, model__max_features=sqrt, model__min_samples_leaf=2, model__n_estimators=100 \n",
      "[CV]  model__learning_rate=0.1, model__loss=exponential, model__max_depth=5, model__max_features=sqrt, model__min_samples_leaf=1, model__n_estimators=100, total=  43.4s\n",
      "[CV] model__learning_rate=0.1, model__loss=exponential, model__max_depth=5, model__max_features=sqrt, model__min_samples_leaf=2, model__n_estimators=100 \n",
      "[CV]  model__learning_rate=0.1, model__loss=exponential, model__max_depth=5, model__max_features=sqrt, model__min_samples_leaf=1, model__n_estimators=100, total=  36.7s\n",
      "[CV] model__learning_rate=0.1, model__loss=exponential, model__max_depth=5, model__max_features=sqrt, model__min_samples_leaf=2, model__n_estimators=100 \n",
      "[CV]  model__learning_rate=0.1, model__loss=exponential, model__max_depth=5, model__max_features=sqrt, model__min_samples_leaf=1, model__n_estimators=100, total=  36.1s\n",
      "[CV] model__learning_rate=0.1, model__loss=exponential, model__max_depth=5, model__max_features=sqrt, model__min_samples_leaf=5, model__n_estimators=100 \n",
      "[CV]  model__learning_rate=0.1, model__loss=exponential, model__max_depth=5, model__max_features=sqrt, model__min_samples_leaf=1, model__n_estimators=100, total=  34.6s\n",
      "[CV] model__learning_rate=0.1, model__loss=exponential, model__max_depth=5, model__max_features=sqrt, model__min_samples_leaf=5, model__n_estimators=100 \n",
      "[CV]  model__learning_rate=0.1, model__loss=exponential, model__max_depth=5, model__max_features=sqrt, model__min_samples_leaf=2, model__n_estimators=100, total=  39.2s\n",
      "[CV] model__learning_rate=0.1, model__loss=exponential, model__max_depth=5, model__max_features=sqrt, model__min_samples_leaf=5, model__n_estimators=100 \n",
      "[CV]  model__learning_rate=0.1, model__loss=exponential, model__max_depth=5, model__max_features=sqrt, model__min_samples_leaf=2, model__n_estimators=100, total=  36.4s\n",
      "[CV] model__learning_rate=0.1, model__loss=exponential, model__max_depth=5, model__max_features=sqrt, model__min_samples_leaf=5, model__n_estimators=100 \n",
      "[CV]  model__learning_rate=0.1, model__loss=exponential, model__max_depth=5, model__max_features=sqrt, model__min_samples_leaf=2, model__n_estimators=100, total=  37.2s\n",
      "[CV] model__learning_rate=0.1, model__loss=exponential, model__max_depth=5, model__max_features=sqrt, model__min_samples_leaf=5, model__n_estimators=100 \n",
      "[CV]  model__learning_rate=0.1, model__loss=exponential, model__max_depth=5, model__max_features=sqrt, model__min_samples_leaf=2, model__n_estimators=100, total=  41.9s\n"
     ]
    },
    {
     "name": "stdout",
     "output_type": "stream",
     "text": [
      "[CV] model__learning_rate=0.1, model__loss=deviance, model__max_depth=2, model__max_features=sqrt, model__min_samples_leaf=1, model__n_estimators=100 \n",
      "[CV]  model__learning_rate=0.1, model__loss=exponential, model__max_depth=5, model__max_features=sqrt, model__min_samples_leaf=2, model__n_estimators=100, total=  38.4s\n",
      "[CV] model__learning_rate=0.1, model__loss=deviance, model__max_depth=2, model__max_features=sqrt, model__min_samples_leaf=1, model__n_estimators=100 \n",
      "[CV]  model__learning_rate=0.1, model__loss=exponential, model__max_depth=5, model__max_features=sqrt, model__min_samples_leaf=5, model__n_estimators=100, total=  37.4s\n",
      "[CV] model__learning_rate=0.1, model__loss=deviance, model__max_depth=2, model__max_features=sqrt, model__min_samples_leaf=1, model__n_estimators=100 \n",
      "[CV]  model__learning_rate=0.1, model__loss=exponential, model__max_depth=5, model__max_features=sqrt, model__min_samples_leaf=5, model__n_estimators=100, total=  38.4s\n",
      "[CV] model__learning_rate=0.1, model__loss=deviance, model__max_depth=2, model__max_features=sqrt, model__min_samples_leaf=1, model__n_estimators=100 \n",
      "[CV]  model__learning_rate=0.1, model__loss=exponential, model__max_depth=5, model__max_features=sqrt, model__min_samples_leaf=5, model__n_estimators=100, total=  39.6s\n",
      "[CV] model__learning_rate=0.1, model__loss=deviance, model__max_depth=2, model__max_features=sqrt, model__min_samples_leaf=1, model__n_estimators=100 \n",
      "[CV]  model__learning_rate=0.1, model__loss=exponential, model__max_depth=5, model__max_features=sqrt, model__min_samples_leaf=5, model__n_estimators=100, total=  37.1s\n",
      "[CV] model__learning_rate=0.1, model__loss=deviance, model__max_depth=2, model__max_features=sqrt, model__min_samples_leaf=2, model__n_estimators=100 \n",
      "[CV]  model__learning_rate=0.1, model__loss=exponential, model__max_depth=5, model__max_features=sqrt, model__min_samples_leaf=5, model__n_estimators=100, total=  39.1s\n",
      "[CV] model__learning_rate=0.1, model__loss=deviance, model__max_depth=2, model__max_features=sqrt, model__min_samples_leaf=2, model__n_estimators=100 \n",
      "[CV]  model__learning_rate=0.1, model__loss=deviance, model__max_depth=2, model__max_features=sqrt, model__min_samples_leaf=1, model__n_estimators=100, total=  31.8s\n",
      "[CV]  model__learning_rate=0.1, model__loss=deviance, model__max_depth=2, model__max_features=sqrt, model__min_samples_leaf=1, model__n_estimators=100, total=  32.6s\n",
      "[CV] model__learning_rate=0.1, model__loss=deviance, model__max_depth=2, model__max_features=sqrt, model__min_samples_leaf=2, model__n_estimators=100 \n",
      "[CV]  model__learning_rate=0.1, model__loss=deviance, model__max_depth=2, model__max_features=sqrt, model__min_samples_leaf=1, model__n_estimators=100, total=  36.3s\n",
      "[CV] model__learning_rate=0.1, model__loss=deviance, model__max_depth=2, model__max_features=sqrt, model__min_samples_leaf=2, model__n_estimators=100 \n",
      "[CV] model__learning_rate=0.1, model__loss=deviance, model__max_depth=2, model__max_features=sqrt, model__min_samples_leaf=2, model__n_estimators=100 \n",
      "[CV]  model__learning_rate=0.1, model__loss=deviance, model__max_depth=2, model__max_features=sqrt, model__min_samples_leaf=1, model__n_estimators=100, total=  36.7s\n",
      "[CV] model__learning_rate=0.1, model__loss=deviance, model__max_depth=2, model__max_features=sqrt, model__min_samples_leaf=5, model__n_estimators=100 \n",
      "[CV]  model__learning_rate=0.1, model__loss=deviance, model__max_depth=2, model__max_features=sqrt, model__min_samples_leaf=1, model__n_estimators=100, total=  33.3s\n",
      "[CV]  model__learning_rate=0.1, model__loss=deviance, model__max_depth=2, model__max_features=sqrt, model__min_samples_leaf=2, model__n_estimators=100, total=  31.2s\n",
      "[CV] model__learning_rate=0.1, model__loss=deviance, model__max_depth=2, model__max_features=sqrt, model__min_samples_leaf=5, model__n_estimators=100 \n",
      "[CV]  model__learning_rate=0.1, model__loss=deviance, model__max_depth=2, model__max_features=sqrt, model__min_samples_leaf=2, model__n_estimators=100, total=  32.3s\n",
      "[CV] model__learning_rate=0.1, model__loss=deviance, model__max_depth=2, model__max_features=sqrt, model__min_samples_leaf=5, model__n_estimators=100 \n",
      "[CV] model__learning_rate=0.1, model__loss=deviance, model__max_depth=2, model__max_features=sqrt, model__min_samples_leaf=5, model__n_estimators=100 \n",
      "[CV]  model__learning_rate=0.1, model__loss=deviance, model__max_depth=2, model__max_features=sqrt, model__min_samples_leaf=2, model__n_estimators=100, total=  31.3s\n",
      "[CV]  model__learning_rate=0.1, model__loss=deviance, model__max_depth=2, model__max_features=sqrt, model__min_samples_leaf=2, model__n_estimators=100, total=  30.2s\n",
      "[CV] model__learning_rate=0.1, model__loss=deviance, model__max_depth=2, model__max_features=sqrt, model__min_samples_leaf=5, model__n_estimators=100 \n",
      "[CV]  model__learning_rate=0.1, model__loss=deviance, model__max_depth=2, model__max_features=sqrt, model__min_samples_leaf=2, model__n_estimators=100, total=  32.3s\n",
      "[CV] model__learning_rate=0.1, model__loss=deviance, model__max_depth=3, model__max_features=sqrt, model__min_samples_leaf=1, model__n_estimators=100 \n",
      "[CV]  model__learning_rate=0.1, model__loss=deviance, model__max_depth=2, model__max_features=sqrt, model__min_samples_leaf=5, model__n_estimators=100, total=  29.9s\n",
      "[CV] model__learning_rate=0.1, model__loss=deviance, model__max_depth=3, model__max_features=sqrt, model__min_samples_leaf=1, model__n_estimators=100 \n",
      "[CV] model__learning_rate=0.1, model__loss=deviance, model__max_depth=3, model__max_features=sqrt, model__min_samples_leaf=1, model__n_estimators=100 \n",
      "[CV]  model__learning_rate=0.1, model__loss=deviance, model__max_depth=2, model__max_features=sqrt, model__min_samples_leaf=5, model__n_estimators=100, total=  29.9s\n",
      "[CV] model__learning_rate=0.1, model__loss=deviance, model__max_depth=3, model__max_features=sqrt, model__min_samples_leaf=1, model__n_estimators=100 \n",
      "[CV]  model__learning_rate=0.1, model__loss=deviance, model__max_depth=2, model__max_features=sqrt, model__min_samples_leaf=5, model__n_estimators=100, total=  23.6s\n"
     ]
    },
    {
     "name": "stderr",
     "output_type": "stream",
     "text": [
      "[Parallel(n_jobs=7)]: Done 148 tasks      | elapsed: 19.1min\n"
     ]
    },
    {
     "name": "stdout",
     "output_type": "stream",
     "text": [
      "[CV]  model__learning_rate=0.1, model__loss=deviance, model__max_depth=2, model__max_features=sqrt, model__min_samples_leaf=5, model__n_estimators=100, total=  26.0s\n",
      "[CV] model__learning_rate=0.1, model__loss=deviance, model__max_depth=3, model__max_features=sqrt, model__min_samples_leaf=1, model__n_estimators=100 \n",
      "[CV]  model__learning_rate=0.1, model__loss=deviance, model__max_depth=2, model__max_features=sqrt, model__min_samples_leaf=5, model__n_estimators=100, total=  31.1s\n",
      "[CV] model__learning_rate=0.1, model__loss=deviance, model__max_depth=3, model__max_features=sqrt, model__min_samples_leaf=2, model__n_estimators=100 \n",
      "[CV] model__learning_rate=0.1, model__loss=deviance, model__max_depth=3, model__max_features=sqrt, model__min_samples_leaf=2, model__n_estimators=100 \n",
      "[CV]  model__learning_rate=0.1, model__loss=deviance, model__max_depth=3, model__max_features=sqrt, model__min_samples_leaf=1, model__n_estimators=100, total=  33.7s\n",
      "[CV] model__learning_rate=0.1, model__loss=deviance, model__max_depth=3, model__max_features=sqrt, model__min_samples_leaf=2, model__n_estimators=100 \n",
      "[CV]  model__learning_rate=0.1, model__loss=deviance, model__max_depth=3, model__max_features=sqrt, model__min_samples_leaf=1, model__n_estimators=100, total=  34.9s\n",
      "[CV] model__learning_rate=0.1, model__loss=deviance, model__max_depth=3, model__max_features=sqrt, model__min_samples_leaf=2, model__n_estimators=100 \n",
      "[CV]  model__learning_rate=0.1, model__loss=deviance, model__max_depth=3, model__max_features=sqrt, model__min_samples_leaf=1, model__n_estimators=100, total=  34.1s\n",
      "[CV] model__learning_rate=0.1, model__loss=deviance, model__max_depth=3, model__max_features=sqrt, model__min_samples_leaf=2, model__n_estimators=100 \n",
      "[CV]  model__learning_rate=0.1, model__loss=deviance, model__max_depth=3, model__max_features=sqrt, model__min_samples_leaf=1, model__n_estimators=100, total=  32.4s\n",
      "[CV] model__learning_rate=0.1, model__loss=deviance, model__max_depth=3, model__max_features=sqrt, model__min_samples_leaf=5, model__n_estimators=100 \n",
      "[CV]  model__learning_rate=0.1, model__loss=deviance, model__max_depth=3, model__max_features=sqrt, model__min_samples_leaf=1, model__n_estimators=100, total=  33.7s\n",
      "[CV] model__learning_rate=0.1, model__loss=deviance, model__max_depth=3, model__max_features=sqrt, model__min_samples_leaf=5, model__n_estimators=100 \n",
      "[CV]  model__learning_rate=0.1, model__loss=deviance, model__max_depth=3, model__max_features=sqrt, model__min_samples_leaf=2, model__n_estimators=100, total=  33.3s\n",
      "[CV]  model__learning_rate=0.1, model__loss=deviance, model__max_depth=3, model__max_features=sqrt, model__min_samples_leaf=2, model__n_estimators=100, total=  39.5s\n",
      "[CV] model__learning_rate=0.1, model__loss=deviance, model__max_depth=3, model__max_features=sqrt, model__min_samples_leaf=5, model__n_estimators=100 \n",
      "[CV] model__learning_rate=0.1, model__loss=deviance, model__max_depth=3, model__max_features=sqrt, model__min_samples_leaf=5, model__n_estimators=100 \n",
      "[CV]  model__learning_rate=0.1, model__loss=deviance, model__max_depth=3, model__max_features=sqrt, model__min_samples_leaf=2, model__n_estimators=100, total=  37.8s\n",
      "[CV]  model__learning_rate=0.1, model__loss=deviance, model__max_depth=3, model__max_features=sqrt, model__min_samples_leaf=2, model__n_estimators=100, total=  34.0s\n",
      "[CV] model__learning_rate=0.1, model__loss=deviance, model__max_depth=3, model__max_features=sqrt, model__min_samples_leaf=5, model__n_estimators=100 \n",
      "[CV]  model__learning_rate=0.1, model__loss=deviance, model__max_depth=3, model__max_features=sqrt, model__min_samples_leaf=2, model__n_estimators=100, total=  33.9s\n",
      "[CV] model__learning_rate=0.1, model__loss=deviance, model__max_depth=5, model__max_features=sqrt, model__min_samples_leaf=1, model__n_estimators=100 \n",
      "[CV]  model__learning_rate=0.1, model__loss=deviance, model__max_depth=3, model__max_features=sqrt, model__min_samples_leaf=5, model__n_estimators=100, total=  35.5s\n",
      "[CV] model__learning_rate=0.1, model__loss=deviance, model__max_depth=5, model__max_features=sqrt, model__min_samples_leaf=1, model__n_estimators=100 \n",
      "[CV] model__learning_rate=0.1, model__loss=deviance, model__max_depth=5, model__max_features=sqrt, model__min_samples_leaf=1, model__n_estimators=100 \n",
      "[CV]  model__learning_rate=0.1, model__loss=deviance, model__max_depth=3, model__max_features=sqrt, model__min_samples_leaf=5, model__n_estimators=100, total=  32.9s\n",
      "[CV]  model__learning_rate=0.1, model__loss=deviance, model__max_depth=3, model__max_features=sqrt, model__min_samples_leaf=5, model__n_estimators=100, total=  29.2s\n",
      "[CV]  model__learning_rate=0.1, model__loss=deviance, model__max_depth=3, model__max_features=sqrt, model__min_samples_leaf=5, model__n_estimators=100, total=  29.8s\n",
      "[CV] model__learning_rate=0.1, model__loss=deviance, model__max_depth=5, model__max_features=sqrt, model__min_samples_leaf=1, model__n_estimators=100 \n",
      "[CV] model__learning_rate=0.1, model__loss=deviance, model__max_depth=5, model__max_features=sqrt, model__min_samples_leaf=1, model__n_estimators=100 \n",
      "[CV] model__learning_rate=0.1, model__loss=deviance, model__max_depth=5, model__max_features=sqrt, model__min_samples_leaf=2, model__n_estimators=100 \n",
      "[CV]  model__learning_rate=0.1, model__loss=deviance, model__max_depth=3, model__max_features=sqrt, model__min_samples_leaf=5, model__n_estimators=100, total=  31.5s\n",
      "[CV] model__learning_rate=0.1, model__loss=deviance, model__max_depth=5, model__max_features=sqrt, model__min_samples_leaf=2, model__n_estimators=100 \n",
      "[CV]  model__learning_rate=0.1, model__loss=deviance, model__max_depth=5, model__max_features=sqrt, model__min_samples_leaf=1, model__n_estimators=100, total=  35.1s\n",
      "[CV] model__learning_rate=0.1, model__loss=deviance, model__max_depth=5, model__max_features=sqrt, model__min_samples_leaf=2, model__n_estimators=100 \n",
      "[CV]  model__learning_rate=0.1, model__loss=deviance, model__max_depth=5, model__max_features=sqrt, model__min_samples_leaf=1, model__n_estimators=100, total=  33.2s\n",
      "[CV] model__learning_rate=0.1, model__loss=deviance, model__max_depth=5, model__max_features=sqrt, model__min_samples_leaf=2, model__n_estimators=100 \n",
      "[CV]  model__learning_rate=0.1, model__loss=deviance, model__max_depth=5, model__max_features=sqrt, model__min_samples_leaf=1, model__n_estimators=100, total=  34.9s\n",
      "[CV] model__learning_rate=0.1, model__loss=deviance, model__max_depth=5, model__max_features=sqrt, model__min_samples_leaf=2, model__n_estimators=100 \n",
      "[CV]  model__learning_rate=0.1, model__loss=deviance, model__max_depth=5, model__max_features=sqrt, model__min_samples_leaf=1, model__n_estimators=100, total=  34.1s\n",
      "[CV] model__learning_rate=0.1, model__loss=deviance, model__max_depth=5, model__max_features=sqrt, model__min_samples_leaf=5, model__n_estimators=100 \n",
      "[CV]  model__learning_rate=0.1, model__loss=deviance, model__max_depth=5, model__max_features=sqrt, model__min_samples_leaf=1, model__n_estimators=100, total=  34.9s\n",
      "[CV] model__learning_rate=0.1, model__loss=deviance, model__max_depth=5, model__max_features=sqrt, model__min_samples_leaf=5, model__n_estimators=100 \n",
      "[CV]  model__learning_rate=0.1, model__loss=deviance, model__max_depth=5, model__max_features=sqrt, model__min_samples_leaf=2, model__n_estimators=100, total=  39.9s\n",
      "[CV] model__learning_rate=0.1, model__loss=deviance, model__max_depth=5, model__max_features=sqrt, model__min_samples_leaf=5, model__n_estimators=100 \n",
      "[CV]  model__learning_rate=0.1, model__loss=deviance, model__max_depth=5, model__max_features=sqrt, model__min_samples_leaf=2, model__n_estimators=100, total=  37.7s\n",
      "[CV] model__learning_rate=0.1, model__loss=deviance, model__max_depth=5, model__max_features=sqrt, model__min_samples_leaf=5, model__n_estimators=100 \n",
      "[CV]  model__learning_rate=0.1, model__loss=deviance, model__max_depth=5, model__max_features=sqrt, model__min_samples_leaf=2, model__n_estimators=100, total=  40.2s\n",
      "[CV] model__learning_rate=0.1, model__loss=deviance, model__max_depth=5, model__max_features=sqrt, model__min_samples_leaf=5, model__n_estimators=100 \n",
      "[CV]  model__learning_rate=0.1, model__loss=deviance, model__max_depth=5, model__max_features=sqrt, model__min_samples_leaf=2, model__n_estimators=100, total=  42.1s\n"
     ]
    },
    {
     "name": "stdout",
     "output_type": "stream",
     "text": [
      "[CV] model__learning_rate=0.5, model__loss=exponential, model__max_depth=2, model__max_features=sqrt, model__min_samples_leaf=1, model__n_estimators=100 \n",
      "[CV]  model__learning_rate=0.1, model__loss=deviance, model__max_depth=5, model__max_features=sqrt, model__min_samples_leaf=2, model__n_estimators=100, total=  41.2s\n",
      "[CV] model__learning_rate=0.5, model__loss=exponential, model__max_depth=2, model__max_features=sqrt, model__min_samples_leaf=1, model__n_estimators=100 \n",
      "[CV]  model__learning_rate=0.1, model__loss=deviance, model__max_depth=5, model__max_features=sqrt, model__min_samples_leaf=5, model__n_estimators=100, total=  41.5s\n",
      "[CV] model__learning_rate=0.5, model__loss=exponential, model__max_depth=2, model__max_features=sqrt, model__min_samples_leaf=1, model__n_estimators=100 \n",
      "[CV]  model__learning_rate=0.1, model__loss=deviance, model__max_depth=5, model__max_features=sqrt, model__min_samples_leaf=5, model__n_estimators=100, total=  41.6s\n",
      "[CV] model__learning_rate=0.5, model__loss=exponential, model__max_depth=2, model__max_features=sqrt, model__min_samples_leaf=1, model__n_estimators=100 \n",
      "[CV]  model__learning_rate=0.1, model__loss=deviance, model__max_depth=5, model__max_features=sqrt, model__min_samples_leaf=5, model__n_estimators=100, total=  38.4s\n",
      "[CV]  model__learning_rate=0.1, model__loss=deviance, model__max_depth=5, model__max_features=sqrt, model__min_samples_leaf=5, model__n_estimators=100, total=  37.6s\n",
      "[CV] model__learning_rate=0.5, model__loss=exponential, model__max_depth=2, model__max_features=sqrt, model__min_samples_leaf=1, model__n_estimators=100 \n",
      "[CV]  model__learning_rate=0.1, model__loss=deviance, model__max_depth=5, model__max_features=sqrt, model__min_samples_leaf=5, model__n_estimators=100, total=  39.3s\n",
      "[CV] model__learning_rate=0.5, model__loss=exponential, model__max_depth=2, model__max_features=sqrt, model__min_samples_leaf=2, model__n_estimators=100 \n",
      "[CV]  model__learning_rate=0.5, model__loss=exponential, model__max_depth=2, model__max_features=sqrt, model__min_samples_leaf=1, model__n_estimators=100, total=  36.4s\n",
      "[CV]  model__learning_rate=0.5, model__loss=exponential, model__max_depth=2, model__max_features=sqrt, model__min_samples_leaf=1, model__n_estimators=100, total=  31.5s\n",
      "[CV] model__learning_rate=0.5, model__loss=exponential, model__max_depth=2, model__max_features=sqrt, model__min_samples_leaf=2, model__n_estimators=100 \n",
      "[CV]  model__learning_rate=0.5, model__loss=exponential, model__max_depth=2, model__max_features=sqrt, model__min_samples_leaf=1, model__n_estimators=100, total=  31.0s\n",
      "[CV] model__learning_rate=0.5, model__loss=exponential, model__max_depth=2, model__max_features=sqrt, model__min_samples_leaf=2, model__n_estimators=100 \n",
      "[CV]  model__learning_rate=0.5, model__loss=exponential, model__max_depth=2, model__max_features=sqrt, model__min_samples_leaf=1, model__n_estimators=100, total=  31.0s\n",
      "[CV] model__learning_rate=0.5, model__loss=exponential, model__max_depth=2, model__max_features=sqrt, model__min_samples_leaf=2, model__n_estimators=100 \n",
      "[CV]  model__learning_rate=0.5, model__loss=exponential, model__max_depth=2, model__max_features=sqrt, model__min_samples_leaf=1, model__n_estimators=100, total=  26.3s\n",
      "[CV] model__learning_rate=0.5, model__loss=exponential, model__max_depth=2, model__max_features=sqrt, model__min_samples_leaf=2, model__n_estimators=100 \n",
      "[CV] model__learning_rate=0.5, model__loss=exponential, model__max_depth=2, model__max_features=sqrt, model__min_samples_leaf=5, model__n_estimators=100 \n",
      "[CV] model__learning_rate=0.5, model__loss=exponential, model__max_depth=2, model__max_features=sqrt, model__min_samples_leaf=5, model__n_estimators=100 \n",
      "[CV]  model__learning_rate=0.5, model__loss=exponential, model__max_depth=2, model__max_features=sqrt, model__min_samples_leaf=2, model__n_estimators=100, total=  23.9s\n",
      "[CV] model__learning_rate=0.5, model__loss=exponential, model__max_depth=2, model__max_features=sqrt, model__min_samples_leaf=5, model__n_estimators=100 \n",
      "[CV]  model__learning_rate=0.5, model__loss=exponential, model__max_depth=2, model__max_features=sqrt, model__min_samples_leaf=2, model__n_estimators=100, total=  24.7s\n",
      "[CV] model__learning_rate=0.5, model__loss=exponential, model__max_depth=2, model__max_features=sqrt, model__min_samples_leaf=5, model__n_estimators=100 \n",
      "[CV]  model__learning_rate=0.5, model__loss=exponential, model__max_depth=2, model__max_features=sqrt, model__min_samples_leaf=2, model__n_estimators=100, total=  25.3s\n",
      "[CV] model__learning_rate=0.5, model__loss=exponential, model__max_depth=2, model__max_features=sqrt, model__min_samples_leaf=5, model__n_estimators=100 \n",
      "[CV]  model__learning_rate=0.5, model__loss=exponential, model__max_depth=2, model__max_features=sqrt, model__min_samples_leaf=2, model__n_estimators=100, total=  33.0s\n",
      "[CV]  model__learning_rate=0.5, model__loss=exponential, model__max_depth=2, model__max_features=sqrt, model__min_samples_leaf=2, model__n_estimators=100, total=  36.8s\n",
      "[CV]  model__learning_rate=0.5, model__loss=exponential, model__max_depth=2, model__max_features=sqrt, model__min_samples_leaf=5, model__n_estimators=100, total=  34.9s\n",
      "[CV] model__learning_rate=0.5, model__loss=exponential, model__max_depth=3, model__max_features=sqrt, model__min_samples_leaf=1, model__n_estimators=100 \n",
      "[CV]  model__learning_rate=0.5, model__loss=exponential, model__max_depth=2, model__max_features=sqrt, model__min_samples_leaf=5, model__n_estimators=100, total=  36.8s\n",
      "[CV]  model__learning_rate=0.5, model__loss=exponential, model__max_depth=2, model__max_features=sqrt, model__min_samples_leaf=5, model__n_estimators=100, total=  36.6s\n",
      "[CV] model__learning_rate=0.5, model__loss=exponential, model__max_depth=3, model__max_features=sqrt, model__min_samples_leaf=1, model__n_estimators=100 \n",
      "[CV] model__learning_rate=0.5, model__loss=exponential, model__max_depth=3, model__max_features=sqrt, model__min_samples_leaf=1, model__n_estimators=100 \n",
      "[CV] model__learning_rate=0.5, model__loss=exponential, model__max_depth=3, model__max_features=sqrt, model__min_samples_leaf=1, model__n_estimators=100 \n",
      "[CV] model__learning_rate=0.5, model__loss=exponential, model__max_depth=3, model__max_features=sqrt, model__min_samples_leaf=1, model__n_estimators=100 \n",
      "[CV]  model__learning_rate=0.5, model__loss=exponential, model__max_depth=2, model__max_features=sqrt, model__min_samples_leaf=5, model__n_estimators=100, total=  28.4s\n",
      "[CV] model__learning_rate=0.5, model__loss=exponential, model__max_depth=3, model__max_features=sqrt, model__min_samples_leaf=2, model__n_estimators=100 \n",
      "[CV]  model__learning_rate=0.5, model__loss=exponential, model__max_depth=2, model__max_features=sqrt, model__min_samples_leaf=5, model__n_estimators=100, total=  25.7s\n",
      "[CV] model__learning_rate=0.5, model__loss=exponential, model__max_depth=3, model__max_features=sqrt, model__min_samples_leaf=2, model__n_estimators=100 \n",
      "[CV]  model__learning_rate=0.5, model__loss=exponential, model__max_depth=3, model__max_features=sqrt, model__min_samples_leaf=1, model__n_estimators=100, total=  28.6s\n",
      "[CV] model__learning_rate=0.5, model__loss=exponential, model__max_depth=3, model__max_features=sqrt, model__min_samples_leaf=2, model__n_estimators=100 \n",
      "[CV]  model__learning_rate=0.5, model__loss=exponential, model__max_depth=3, model__max_features=sqrt, model__min_samples_leaf=1, model__n_estimators=100, total=  34.7s\n",
      "[CV] model__learning_rate=0.5, model__loss=exponential, model__max_depth=3, model__max_features=sqrt, model__min_samples_leaf=2, model__n_estimators=100 \n",
      "[CV]  model__learning_rate=0.5, model__loss=exponential, model__max_depth=3, model__max_features=sqrt, model__min_samples_leaf=1, model__n_estimators=100, total=  35.6s\n",
      "[CV]  model__learning_rate=0.5, model__loss=exponential, model__max_depth=3, model__max_features=sqrt, model__min_samples_leaf=1, model__n_estimators=100, total=  34.4s\n",
      "[CV]  model__learning_rate=0.5, model__loss=exponential, model__max_depth=3, model__max_features=sqrt, model__min_samples_leaf=1, model__n_estimators=100, total=  32.9s\n",
      "[CV] model__learning_rate=0.5, model__loss=exponential, model__max_depth=3, model__max_features=sqrt, model__min_samples_leaf=2, model__n_estimators=100 \n"
     ]
    },
    {
     "name": "stdout",
     "output_type": "stream",
     "text": [
      "[CV]  model__learning_rate=0.5, model__loss=exponential, model__max_depth=3, model__max_features=sqrt, model__min_samples_leaf=2, model__n_estimators=100, total=  37.3s\n",
      "[CV] model__learning_rate=0.5, model__loss=exponential, model__max_depth=3, model__max_features=sqrt, model__min_samples_leaf=5, model__n_estimators=100 \n",
      "[CV] model__learning_rate=0.5, model__loss=exponential, model__max_depth=3, model__max_features=sqrt, model__min_samples_leaf=5, model__n_estimators=100 \n",
      "[CV]  model__learning_rate=0.5, model__loss=exponential, model__max_depth=3, model__max_features=sqrt, model__min_samples_leaf=2, model__n_estimators=100, total=  37.9s\n",
      "[CV] model__learning_rate=0.5, model__loss=exponential, model__max_depth=3, model__max_features=sqrt, model__min_samples_leaf=5, model__n_estimators=100 \n",
      "[CV] model__learning_rate=0.5, model__loss=exponential, model__max_depth=3, model__max_features=sqrt, model__min_samples_leaf=5, model__n_estimators=100 \n",
      "[CV]  model__learning_rate=0.5, model__loss=exponential, model__max_depth=3, model__max_features=sqrt, model__min_samples_leaf=2, model__n_estimators=100, total=  29.3s\n",
      "[CV] model__learning_rate=0.5, model__loss=exponential, model__max_depth=3, model__max_features=sqrt, model__min_samples_leaf=5, model__n_estimators=100 \n",
      "[CV]  model__learning_rate=0.5, model__loss=exponential, model__max_depth=3, model__max_features=sqrt, model__min_samples_leaf=2, model__n_estimators=100, total=  30.1s\n",
      "[CV] model__learning_rate=0.5, model__loss=exponential, model__max_depth=5, model__max_features=sqrt, model__min_samples_leaf=1, model__n_estimators=100 \n",
      "[CV]  model__learning_rate=0.5, model__loss=exponential, model__max_depth=3, model__max_features=sqrt, model__min_samples_leaf=2, model__n_estimators=100, total=  31.0s\n",
      "[CV]  model__learning_rate=0.5, model__loss=exponential, model__max_depth=3, model__max_features=sqrt, model__min_samples_leaf=5, model__n_estimators=100, total=  29.7s\n",
      "[CV] model__learning_rate=0.5, model__loss=exponential, model__max_depth=5, model__max_features=sqrt, model__min_samples_leaf=1, model__n_estimators=100 \n",
      "[CV]  model__learning_rate=0.5, model__loss=exponential, model__max_depth=3, model__max_features=sqrt, model__min_samples_leaf=5, model__n_estimators=100, total=  34.7s\n",
      "[CV]  model__learning_rate=0.5, model__loss=exponential, model__max_depth=3, model__max_features=sqrt, model__min_samples_leaf=5, model__n_estimators=100, total=  36.1s\n",
      "[CV]  model__learning_rate=0.5, model__loss=exponential, model__max_depth=3, model__max_features=sqrt, model__min_samples_leaf=5, model__n_estimators=100, total=  35.4s\n",
      "[CV] model__learning_rate=0.5, model__loss=exponential, model__max_depth=5, model__max_features=sqrt, model__min_samples_leaf=1, model__n_estimators=100 \n",
      "[CV] model__learning_rate=0.5, model__loss=exponential, model__max_depth=5, model__max_features=sqrt, model__min_samples_leaf=1, model__n_estimators=100 \n",
      "[CV] model__learning_rate=0.5, model__loss=exponential, model__max_depth=5, model__max_features=sqrt, model__min_samples_leaf=1, model__n_estimators=100 \n",
      "[CV]  model__learning_rate=0.5, model__loss=exponential, model__max_depth=3, model__max_features=sqrt, model__min_samples_leaf=5, model__n_estimators=100, total=  34.9s\n",
      "[CV] model__learning_rate=0.5, model__loss=exponential, model__max_depth=5, model__max_features=sqrt, model__min_samples_leaf=2, model__n_estimators=100 \n",
      "[CV] model__learning_rate=0.5, model__loss=exponential, model__max_depth=5, model__max_features=sqrt, model__min_samples_leaf=2, model__n_estimators=100 \n",
      "[CV]  model__learning_rate=0.5, model__loss=exponential, model__max_depth=5, model__max_features=sqrt, model__min_samples_leaf=1, model__n_estimators=100, total=  35.4s\n",
      "[CV] model__learning_rate=0.5, model__loss=exponential, model__max_depth=5, model__max_features=sqrt, model__min_samples_leaf=2, model__n_estimators=100 \n",
      "[CV]  model__learning_rate=0.5, model__loss=exponential, model__max_depth=5, model__max_features=sqrt, model__min_samples_leaf=1, model__n_estimators=100, total=  29.7s\n",
      "[CV] model__learning_rate=0.5, model__loss=exponential, model__max_depth=5, model__max_features=sqrt, model__min_samples_leaf=2, model__n_estimators=100 \n",
      "[CV]  model__learning_rate=0.5, model__loss=exponential, model__max_depth=5, model__max_features=sqrt, model__min_samples_leaf=1, model__n_estimators=100, total=  36.1s\n",
      "[CV] model__learning_rate=0.5, model__loss=exponential, model__max_depth=5, model__max_features=sqrt, model__min_samples_leaf=2, model__n_estimators=100 \n",
      "[CV]  model__learning_rate=0.5, model__loss=exponential, model__max_depth=5, model__max_features=sqrt, model__min_samples_leaf=1, model__n_estimators=100, total=  36.0s\n",
      "[CV] model__learning_rate=0.5, model__loss=exponential, model__max_depth=5, model__max_features=sqrt, model__min_samples_leaf=5, model__n_estimators=100 \n",
      "[CV]  model__learning_rate=0.5, model__loss=exponential, model__max_depth=5, model__max_features=sqrt, model__min_samples_leaf=1, model__n_estimators=100, total=  37.0s\n",
      "[CV] model__learning_rate=0.5, model__loss=exponential, model__max_depth=5, model__max_features=sqrt, model__min_samples_leaf=5, model__n_estimators=100 \n",
      "[CV]  model__learning_rate=0.5, model__loss=exponential, model__max_depth=5, model__max_features=sqrt, model__min_samples_leaf=2, model__n_estimators=100, total=  40.7s\n",
      "[CV] model__learning_rate=0.5, model__loss=exponential, model__max_depth=5, model__max_features=sqrt, model__min_samples_leaf=5, model__n_estimators=100 \n",
      "[CV]  model__learning_rate=0.5, model__loss=exponential, model__max_depth=5, model__max_features=sqrt, model__min_samples_leaf=2, model__n_estimators=100, total=  41.3s\n",
      "[CV] model__learning_rate=0.5, model__loss=exponential, model__max_depth=5, model__max_features=sqrt, model__min_samples_leaf=5, model__n_estimators=100 \n",
      "[CV]  model__learning_rate=0.5, model__loss=exponential, model__max_depth=5, model__max_features=sqrt, model__min_samples_leaf=2, model__n_estimators=100, total=  39.9s\n",
      "[CV] model__learning_rate=0.5, model__loss=exponential, model__max_depth=5, model__max_features=sqrt, model__min_samples_leaf=5, model__n_estimators=100 \n",
      "[CV]  model__learning_rate=0.5, model__loss=exponential, model__max_depth=5, model__max_features=sqrt, model__min_samples_leaf=2, model__n_estimators=100, total=  39.9s\n",
      "[CV] model__learning_rate=0.5, model__loss=deviance, model__max_depth=2, model__max_features=sqrt, model__min_samples_leaf=1, model__n_estimators=100 \n",
      "[CV]  model__learning_rate=0.5, model__loss=exponential, model__max_depth=5, model__max_features=sqrt, model__min_samples_leaf=2, model__n_estimators=100, total=  35.2s\n",
      "[CV] model__learning_rate=0.5, model__loss=deviance, model__max_depth=2, model__max_features=sqrt, model__min_samples_leaf=1, model__n_estimators=100 \n",
      "[CV]  model__learning_rate=0.5, model__loss=exponential, model__max_depth=5, model__max_features=sqrt, model__min_samples_leaf=5, model__n_estimators=100, total=  34.8s\n",
      "[CV]  model__learning_rate=0.5, model__loss=exponential, model__max_depth=5, model__max_features=sqrt, model__min_samples_leaf=5, model__n_estimators=100, total=  38.2s\n",
      "[CV] model__learning_rate=0.5, model__loss=deviance, model__max_depth=2, model__max_features=sqrt, model__min_samples_leaf=1, model__n_estimators=100 \n",
      "[CV] model__learning_rate=0.5, model__loss=deviance, model__max_depth=2, model__max_features=sqrt, model__min_samples_leaf=1, model__n_estimators=100 \n",
      "[CV]  model__learning_rate=0.5, model__loss=exponential, model__max_depth=5, model__max_features=sqrt, model__min_samples_leaf=5, model__n_estimators=100, total=  38.8s\n",
      "[CV]  model__learning_rate=0.5, model__loss=exponential, model__max_depth=5, model__max_features=sqrt, model__min_samples_leaf=5, model__n_estimators=100, total=  38.2s\n",
      "[CV] model__learning_rate=0.5, model__loss=deviance, model__max_depth=2, model__max_features=sqrt, model__min_samples_leaf=1, model__n_estimators=100 \n",
      "[CV]  model__learning_rate=0.5, model__loss=exponential, model__max_depth=5, model__max_features=sqrt, model__min_samples_leaf=5, model__n_estimators=100, total=  35.0s\n",
      "[CV] model__learning_rate=0.5, model__loss=deviance, model__max_depth=2, model__max_features=sqrt, model__min_samples_leaf=2, model__n_estimators=100 \n"
     ]
    },
    {
     "name": "stdout",
     "output_type": "stream",
     "text": [
      "[CV]  model__learning_rate=0.5, model__loss=deviance, model__max_depth=2, model__max_features=sqrt, model__min_samples_leaf=1, model__n_estimators=100, total=  32.0s\n",
      "[CV] model__learning_rate=0.5, model__loss=deviance, model__max_depth=2, model__max_features=sqrt, model__min_samples_leaf=2, model__n_estimators=100 \n",
      "[CV]  model__learning_rate=0.5, model__loss=deviance, model__max_depth=2, model__max_features=sqrt, model__min_samples_leaf=1, model__n_estimators=100, total=  31.9s\n",
      "[CV] model__learning_rate=0.5, model__loss=deviance, model__max_depth=2, model__max_features=sqrt, model__min_samples_leaf=2, model__n_estimators=100 \n",
      "[CV] model__learning_rate=0.5, model__loss=deviance, model__max_depth=2, model__max_features=sqrt, model__min_samples_leaf=2, model__n_estimators=100 \n",
      "[CV]  model__learning_rate=0.5, model__loss=deviance, model__max_depth=2, model__max_features=sqrt, model__min_samples_leaf=1, model__n_estimators=100, total=  27.4s\n",
      "[CV]  model__learning_rate=0.5, model__loss=deviance, model__max_depth=2, model__max_features=sqrt, model__min_samples_leaf=1, model__n_estimators=100, total=  27.0s\n",
      "[CV] model__learning_rate=0.5, model__loss=deviance, model__max_depth=2, model__max_features=sqrt, model__min_samples_leaf=2, model__n_estimators=100 \n",
      "[CV] model__learning_rate=0.5, model__loss=deviance, model__max_depth=2, model__max_features=sqrt, model__min_samples_leaf=5, model__n_estimators=100 \n",
      "[CV]  model__learning_rate=0.5, model__loss=deviance, model__max_depth=2, model__max_features=sqrt, model__min_samples_leaf=1, model__n_estimators=100, total=  29.1s\n",
      "[CV] model__learning_rate=0.5, model__loss=deviance, model__max_depth=2, model__max_features=sqrt, model__min_samples_leaf=5, model__n_estimators=100 \n",
      "[CV]  model__learning_rate=0.5, model__loss=deviance, model__max_depth=2, model__max_features=sqrt, model__min_samples_leaf=2, model__n_estimators=100, total=  33.0s\n",
      "[CV] model__learning_rate=0.5, model__loss=deviance, model__max_depth=2, model__max_features=sqrt, model__min_samples_leaf=5, model__n_estimators=100 \n",
      "[CV]  model__learning_rate=0.5, model__loss=deviance, model__max_depth=2, model__max_features=sqrt, model__min_samples_leaf=2, model__n_estimators=100, total=  33.7s\n",
      "[CV] model__learning_rate=0.5, model__loss=deviance, model__max_depth=2, model__max_features=sqrt, model__min_samples_leaf=5, model__n_estimators=100 \n",
      "[CV]  model__learning_rate=0.5, model__loss=deviance, model__max_depth=2, model__max_features=sqrt, model__min_samples_leaf=2, model__n_estimators=100, total=  33.9s\n",
      "[CV]  model__learning_rate=0.5, model__loss=deviance, model__max_depth=2, model__max_features=sqrt, model__min_samples_leaf=2, model__n_estimators=100, total=  34.9s\n",
      "[CV] model__learning_rate=0.5, model__loss=deviance, model__max_depth=2, model__max_features=sqrt, model__min_samples_leaf=5, model__n_estimators=100 \n",
      "[CV]  model__learning_rate=0.5, model__loss=deviance, model__max_depth=2, model__max_features=sqrt, model__min_samples_leaf=2, model__n_estimators=100, total=  37.0s\n",
      "[CV]  model__learning_rate=0.5, model__loss=deviance, model__max_depth=2, model__max_features=sqrt, model__min_samples_leaf=5, model__n_estimators=100, total=  37.8s\n",
      "[CV] model__learning_rate=0.5, model__loss=deviance, model__max_depth=3, model__max_features=sqrt, model__min_samples_leaf=1, model__n_estimators=100 \n",
      "[CV] model__learning_rate=0.5, model__loss=deviance, model__max_depth=3, model__max_features=sqrt, model__min_samples_leaf=1, model__n_estimators=100 \n",
      "[CV]  model__learning_rate=0.5, model__loss=deviance, model__max_depth=2, model__max_features=sqrt, model__min_samples_leaf=5, model__n_estimators=100, total=  34.2s\n",
      "[CV] model__learning_rate=0.5, model__loss=deviance, model__max_depth=3, model__max_features=sqrt, model__min_samples_leaf=1, model__n_estimators=100 \n",
      "[CV]  model__learning_rate=0.5, model__loss=deviance, model__max_depth=2, model__max_features=sqrt, model__min_samples_leaf=5, model__n_estimators=100, total=  23.8s\n",
      "[CV]  model__learning_rate=0.5, model__loss=deviance, model__max_depth=2, model__max_features=sqrt, model__min_samples_leaf=5, model__n_estimators=100, total=  26.3s\n",
      "[CV] model__learning_rate=0.5, model__loss=deviance, model__max_depth=3, model__max_features=sqrt, model__min_samples_leaf=1, model__n_estimators=100 \n",
      "[CV] model__learning_rate=0.5, model__loss=deviance, model__max_depth=3, model__max_features=sqrt, model__min_samples_leaf=1, model__n_estimators=100 \n",
      "[CV]  model__learning_rate=0.5, model__loss=deviance, model__max_depth=2, model__max_features=sqrt, model__min_samples_leaf=5, model__n_estimators=100, total=  27.9s\n",
      "[CV] model__learning_rate=0.5, model__loss=deviance, model__max_depth=3, model__max_features=sqrt, model__min_samples_leaf=2, model__n_estimators=100 \n",
      "[CV]  model__learning_rate=0.5, model__loss=deviance, model__max_depth=3, model__max_features=sqrt, model__min_samples_leaf=1, model__n_estimators=100, total=  27.3s\n",
      "[CV] model__learning_rate=0.5, model__loss=deviance, model__max_depth=3, model__max_features=sqrt, model__min_samples_leaf=2, model__n_estimators=100 \n",
      "[CV]  model__learning_rate=0.5, model__loss=deviance, model__max_depth=3, model__max_features=sqrt, model__min_samples_leaf=1, model__n_estimators=100, total=  25.2s\n",
      "[CV] model__learning_rate=0.5, model__loss=deviance, model__max_depth=3, model__max_features=sqrt, model__min_samples_leaf=2, model__n_estimators=100 \n",
      "[CV]  model__learning_rate=0.5, model__loss=deviance, model__max_depth=3, model__max_features=sqrt, model__min_samples_leaf=1, model__n_estimators=100, total=  30.3s\n",
      "[CV] model__learning_rate=0.5, model__loss=deviance, model__max_depth=3, model__max_features=sqrt, model__min_samples_leaf=2, model__n_estimators=100 \n",
      "[CV] model__learning_rate=0.5, model__loss=deviance, model__max_depth=3, model__max_features=sqrt, model__min_samples_leaf=2, model__n_estimators=100 \n",
      "[CV]  model__learning_rate=0.5, model__loss=deviance, model__max_depth=3, model__max_features=sqrt, model__min_samples_leaf=1, model__n_estimators=100, total=  26.7s\n",
      "[CV]  model__learning_rate=0.5, model__loss=deviance, model__max_depth=3, model__max_features=sqrt, model__min_samples_leaf=1, model__n_estimators=100, total=  28.9s\n",
      "[CV] model__learning_rate=0.5, model__loss=deviance, model__max_depth=3, model__max_features=sqrt, model__min_samples_leaf=5, model__n_estimators=100 \n",
      "[CV] model__learning_rate=0.5, model__loss=deviance, model__max_depth=3, model__max_features=sqrt, model__min_samples_leaf=5, model__n_estimators=100 \n",
      "[CV]  model__learning_rate=0.5, model__loss=deviance, model__max_depth=3, model__max_features=sqrt, model__min_samples_leaf=2, model__n_estimators=100, total=  29.6s\n",
      "[CV] model__learning_rate=0.5, model__loss=deviance, model__max_depth=3, model__max_features=sqrt, model__min_samples_leaf=5, model__n_estimators=100 \n",
      "[CV]  model__learning_rate=0.5, model__loss=deviance, model__max_depth=3, model__max_features=sqrt, model__min_samples_leaf=2, model__n_estimators=100, total=  31.7s\n",
      "[CV] model__learning_rate=0.5, model__loss=deviance, model__max_depth=3, model__max_features=sqrt, model__min_samples_leaf=5, model__n_estimators=100 \n",
      "[CV]  model__learning_rate=0.5, model__loss=deviance, model__max_depth=3, model__max_features=sqrt, model__min_samples_leaf=2, model__n_estimators=100, total=  34.8s\n",
      "[CV] model__learning_rate=0.5, model__loss=deviance, model__max_depth=3, model__max_features=sqrt, model__min_samples_leaf=5, model__n_estimators=100 \n",
      "[CV]  model__learning_rate=0.5, model__loss=deviance, model__max_depth=3, model__max_features=sqrt, model__min_samples_leaf=2, model__n_estimators=100, total=  32.5s\n",
      "[CV]  model__learning_rate=0.5, model__loss=deviance, model__max_depth=3, model__max_features=sqrt, model__min_samples_leaf=2, model__n_estimators=100, total=  38.6s\n",
      "[CV] model__learning_rate=0.5, model__loss=deviance, model__max_depth=5, model__max_features=sqrt, model__min_samples_leaf=1, model__n_estimators=100 \n",
      "[CV]  model__learning_rate=0.5, model__loss=deviance, model__max_depth=3, model__max_features=sqrt, model__min_samples_leaf=5, model__n_estimators=100, total=  39.0s\n",
      "[CV] model__learning_rate=0.5, model__loss=deviance, model__max_depth=5, model__max_features=sqrt, model__min_samples_leaf=1, model__n_estimators=100 \n"
     ]
    },
    {
     "name": "stdout",
     "output_type": "stream",
     "text": [
      "[CV]  model__learning_rate=0.5, model__loss=deviance, model__max_depth=3, model__max_features=sqrt, model__min_samples_leaf=5, model__n_estimators=100, total=  39.1s\n",
      "[CV] model__learning_rate=0.5, model__loss=deviance, model__max_depth=5, model__max_features=sqrt, model__min_samples_leaf=1, model__n_estimators=100 \n",
      "[CV]  model__learning_rate=0.5, model__loss=deviance, model__max_depth=3, model__max_features=sqrt, model__min_samples_leaf=5, model__n_estimators=100, total=  37.7s\n",
      "[CV] model__learning_rate=0.5, model__loss=deviance, model__max_depth=5, model__max_features=sqrt, model__min_samples_leaf=1, model__n_estimators=100 \n",
      "[CV] model__learning_rate=0.5, model__loss=deviance, model__max_depth=5, model__max_features=sqrt, model__min_samples_leaf=1, model__n_estimators=100 \n",
      "[CV]  model__learning_rate=0.5, model__loss=deviance, model__max_depth=3, model__max_features=sqrt, model__min_samples_leaf=5, model__n_estimators=100, total=  28.1s\n",
      "[CV] model__learning_rate=0.5, model__loss=deviance, model__max_depth=5, model__max_features=sqrt, model__min_samples_leaf=2, model__n_estimators=100 \n",
      "[CV]  model__learning_rate=0.5, model__loss=deviance, model__max_depth=3, model__max_features=sqrt, model__min_samples_leaf=5, model__n_estimators=100, total=  32.8s\n",
      "[CV] model__learning_rate=0.5, model__loss=deviance, model__max_depth=5, model__max_features=sqrt, model__min_samples_leaf=2, model__n_estimators=100 \n",
      "[CV]  model__learning_rate=0.5, model__loss=deviance, model__max_depth=5, model__max_features=sqrt, model__min_samples_leaf=1, model__n_estimators=100, total=  30.9s\n",
      "[CV] model__learning_rate=0.5, model__loss=deviance, model__max_depth=5, model__max_features=sqrt, model__min_samples_leaf=2, model__n_estimators=100 \n",
      "[CV]  model__learning_rate=0.5, model__loss=deviance, model__max_depth=5, model__max_features=sqrt, model__min_samples_leaf=1, model__n_estimators=100, total=  32.0s\n",
      "[CV] model__learning_rate=0.5, model__loss=deviance, model__max_depth=5, model__max_features=sqrt, model__min_samples_leaf=2, model__n_estimators=100 \n",
      "[CV]  model__learning_rate=0.5, model__loss=deviance, model__max_depth=5, model__max_features=sqrt, model__min_samples_leaf=1, model__n_estimators=100, total=  34.6s\n",
      "[CV]  model__learning_rate=0.5, model__loss=deviance, model__max_depth=5, model__max_features=sqrt, model__min_samples_leaf=1, model__n_estimators=100, total=  38.2s\n",
      "[CV] model__learning_rate=0.5, model__loss=deviance, model__max_depth=5, model__max_features=sqrt, model__min_samples_leaf=2, model__n_estimators=100 \n",
      "[CV] model__learning_rate=0.5, model__loss=deviance, model__max_depth=5, model__max_features=sqrt, model__min_samples_leaf=5, model__n_estimators=100 \n",
      "[CV]  model__learning_rate=0.5, model__loss=deviance, model__max_depth=5, model__max_features=sqrt, model__min_samples_leaf=1, model__n_estimators=100, total=  35.7s\n",
      "[CV] model__learning_rate=0.5, model__loss=deviance, model__max_depth=5, model__max_features=sqrt, model__min_samples_leaf=5, model__n_estimators=100 \n",
      "[CV]  model__learning_rate=0.5, model__loss=deviance, model__max_depth=5, model__max_features=sqrt, model__min_samples_leaf=2, model__n_estimators=100, total=  37.6s\n",
      "[CV] model__learning_rate=0.5, model__loss=deviance, model__max_depth=5, model__max_features=sqrt, model__min_samples_leaf=5, model__n_estimators=100 \n",
      "[CV]  model__learning_rate=0.5, model__loss=deviance, model__max_depth=5, model__max_features=sqrt, model__min_samples_leaf=2, model__n_estimators=100, total=  37.9s\n",
      "[CV] model__learning_rate=0.5, model__loss=deviance, model__max_depth=5, model__max_features=sqrt, model__min_samples_leaf=5, model__n_estimators=100 \n",
      "[CV]  model__learning_rate=0.5, model__loss=deviance, model__max_depth=5, model__max_features=sqrt, model__min_samples_leaf=2, model__n_estimators=100, total=  36.5s\n",
      "[CV] model__learning_rate=0.5, model__loss=deviance, model__max_depth=5, model__max_features=sqrt, model__min_samples_leaf=5, model__n_estimators=100 \n",
      "[CV]  model__learning_rate=0.5, model__loss=deviance, model__max_depth=5, model__max_features=sqrt, model__min_samples_leaf=2, model__n_estimators=100, total=  40.8s\n",
      "[CV]  model__learning_rate=0.5, model__loss=deviance, model__max_depth=5, model__max_features=sqrt, model__min_samples_leaf=2, model__n_estimators=100, total=  36.6s\n",
      "[CV]  model__learning_rate=0.5, model__loss=deviance, model__max_depth=5, model__max_features=sqrt, model__min_samples_leaf=5, model__n_estimators=100, total=  36.7s\n",
      "[CV]  model__learning_rate=0.5, model__loss=deviance, model__max_depth=5, model__max_features=sqrt, model__min_samples_leaf=5, model__n_estimators=100, total=  42.6s\n",
      "[CV]  model__learning_rate=0.5, model__loss=deviance, model__max_depth=5, model__max_features=sqrt, model__min_samples_leaf=5, model__n_estimators=100, total=  38.3s\n",
      "[CV]  model__learning_rate=0.5, model__loss=deviance, model__max_depth=5, model__max_features=sqrt, model__min_samples_leaf=5, model__n_estimators=100, total=  34.1s\n",
      "[CV]  model__learning_rate=0.5, model__loss=deviance, model__max_depth=5, model__max_features=sqrt, model__min_samples_leaf=5, model__n_estimators=100, total=  27.3s\n"
     ]
    },
    {
     "name": "stderr",
     "output_type": "stream",
     "text": [
      "[Parallel(n_jobs=7)]: Done 270 out of 270 | elapsed: 34.2min finished\n"
     ]
    },
    {
     "name": "stdout",
     "output_type": "stream",
     "text": [
      "CPU times: user 11min 57s, sys: 8min 2s, total: 19min 59s\n",
      "Wall time: 34min 16s\n"
     ]
    }
   ],
   "source": [
    "%%time\n",
    "from sklearn.ensemble import GradientBoostingClassifier\n",
    "from sklearn.model_selection import GridSearchCV\n",
    "from imblearn.pipeline import Pipeline as pl\n",
    "from imblearn.under_sampling import RandomUnderSampler\n",
    "# Steps for pipeline\n",
    "steps = [(\"rus\", RandomUnderSampler(random_state=30)),\n",
    "         (\"model\", GradientBoostingClassifier(random_state=40))]\n",
    "pipe = pl(steps)\n",
    "\n",
    "# Parameters\n",
    "param_grid = dict(model__loss = ['exponential', 'deviance'],\n",
    "                  model__learning_rate = [0.01, 0.1, 0.5],\n",
    "                  model__n_estimators = [100],\n",
    "                  model__max_depth = [2, 3, 5],\n",
    "                  model__min_samples_leaf = [1, 2, 5],\n",
    "                  model__max_features = ['sqrt']\n",
    "                  )\n",
    "# For CV in grid search\n",
    "cv = StratifiedShuffleSplit(n_splits = 5, test_size = 0.2, random_state = 20)\n",
    "\n",
    "# Setting up the grid search\n",
    "GBCrus = GridSearchCV(pipe, param_grid = param_grid, \n",
    "                           verbose = 2,\n",
    "                           cv = cv,\n",
    "                          n_jobs=7,\n",
    "                          scoring='average_precision',\n",
    "                          iid=False)\n",
    "# Training using CV\n",
    "GBCrus.fit(X_train, y_train)"
   ]
  },
  {
   "cell_type": "code",
   "execution_count": 58,
   "metadata": {},
   "outputs": [
    {
     "data": {
      "text/plain": [
       "{'model__learning_rate': 0.1,\n",
       " 'model__loss': 'exponential',\n",
       " 'model__max_depth': 5,\n",
       " 'model__max_features': 'sqrt',\n",
       " 'model__min_samples_leaf': 5,\n",
       " 'model__n_estimators': 100}"
      ]
     },
     "execution_count": 58,
     "metadata": {},
     "output_type": "execute_result"
    }
   ],
   "source": [
    "GBCrus.best_params_"
   ]
  },
  {
   "cell_type": "code",
   "execution_count": 59,
   "metadata": {},
   "outputs": [
    {
     "data": {
      "text/plain": [
       "0.20349869988510266"
      ]
     },
     "execution_count": 59,
     "metadata": {},
     "output_type": "execute_result"
    }
   ],
   "source": [
    "GBCrus.best_score_"
   ]
  },
  {
   "cell_type": "code",
   "execution_count": 60,
   "metadata": {},
   "outputs": [
    {
     "name": "stderr",
     "output_type": "stream",
     "text": [
      "//anaconda/lib/python3.6/site-packages/sklearn/model_selection/_search.py:667: DeprecationWarning: The grid_scores_ attribute was deprecated in version 0.18 in favor of the more elaborate cv_results_ attribute. The grid_scores_ attribute will not be available from 0.20\n",
      "  DeprecationWarning)\n"
     ]
    },
    {
     "data": {
      "text/plain": [
       "[mean: 0.09151, std: 0.00234, params: {'model__learning_rate': 0.01, 'model__loss': 'exponential', 'model__max_depth': 2, 'model__max_features': 'sqrt', 'model__min_samples_leaf': 1, 'model__n_estimators': 100},\n",
       " mean: 0.09155, std: 0.00234, params: {'model__learning_rate': 0.01, 'model__loss': 'exponential', 'model__max_depth': 2, 'model__max_features': 'sqrt', 'model__min_samples_leaf': 2, 'model__n_estimators': 100},\n",
       " mean: 0.09149, std: 0.00232, params: {'model__learning_rate': 0.01, 'model__loss': 'exponential', 'model__max_depth': 2, 'model__max_features': 'sqrt', 'model__min_samples_leaf': 5, 'model__n_estimators': 100},\n",
       " mean: 0.10765, std: 0.00279, params: {'model__learning_rate': 0.01, 'model__loss': 'exponential', 'model__max_depth': 3, 'model__max_features': 'sqrt', 'model__min_samples_leaf': 1, 'model__n_estimators': 100},\n",
       " mean: 0.10763, std: 0.00296, params: {'model__learning_rate': 0.01, 'model__loss': 'exponential', 'model__max_depth': 3, 'model__max_features': 'sqrt', 'model__min_samples_leaf': 2, 'model__n_estimators': 100},\n",
       " mean: 0.10780, std: 0.00264, params: {'model__learning_rate': 0.01, 'model__loss': 'exponential', 'model__max_depth': 3, 'model__max_features': 'sqrt', 'model__min_samples_leaf': 5, 'model__n_estimators': 100},\n",
       " mean: 0.14165, std: 0.00578, params: {'model__learning_rate': 0.01, 'model__loss': 'exponential', 'model__max_depth': 5, 'model__max_features': 'sqrt', 'model__min_samples_leaf': 1, 'model__n_estimators': 100},\n",
       " mean: 0.14001, std: 0.00441, params: {'model__learning_rate': 0.01, 'model__loss': 'exponential', 'model__max_depth': 5, 'model__max_features': 'sqrt', 'model__min_samples_leaf': 2, 'model__n_estimators': 100},\n",
       " mean: 0.14087, std: 0.00638, params: {'model__learning_rate': 0.01, 'model__loss': 'exponential', 'model__max_depth': 5, 'model__max_features': 'sqrt', 'model__min_samples_leaf': 5, 'model__n_estimators': 100},\n",
       " mean: 0.09106, std: 0.00241, params: {'model__learning_rate': 0.01, 'model__loss': 'deviance', 'model__max_depth': 2, 'model__max_features': 'sqrt', 'model__min_samples_leaf': 1, 'model__n_estimators': 100},\n",
       " mean: 0.09110, std: 0.00241, params: {'model__learning_rate': 0.01, 'model__loss': 'deviance', 'model__max_depth': 2, 'model__max_features': 'sqrt', 'model__min_samples_leaf': 2, 'model__n_estimators': 100},\n",
       " mean: 0.09099, std: 0.00249, params: {'model__learning_rate': 0.01, 'model__loss': 'deviance', 'model__max_depth': 2, 'model__max_features': 'sqrt', 'model__min_samples_leaf': 5, 'model__n_estimators': 100},\n",
       " mean: 0.10713, std: 0.00281, params: {'model__learning_rate': 0.01, 'model__loss': 'deviance', 'model__max_depth': 3, 'model__max_features': 'sqrt', 'model__min_samples_leaf': 1, 'model__n_estimators': 100},\n",
       " mean: 0.10710, std: 0.00285, params: {'model__learning_rate': 0.01, 'model__loss': 'deviance', 'model__max_depth': 3, 'model__max_features': 'sqrt', 'model__min_samples_leaf': 2, 'model__n_estimators': 100},\n",
       " mean: 0.10703, std: 0.00250, params: {'model__learning_rate': 0.01, 'model__loss': 'deviance', 'model__max_depth': 3, 'model__max_features': 'sqrt', 'model__min_samples_leaf': 5, 'model__n_estimators': 100},\n",
       " mean: 0.14129, std: 0.00553, params: {'model__learning_rate': 0.01, 'model__loss': 'deviance', 'model__max_depth': 5, 'model__max_features': 'sqrt', 'model__min_samples_leaf': 1, 'model__n_estimators': 100},\n",
       " mean: 0.13913, std: 0.00480, params: {'model__learning_rate': 0.01, 'model__loss': 'deviance', 'model__max_depth': 5, 'model__max_features': 'sqrt', 'model__min_samples_leaf': 2, 'model__n_estimators': 100},\n",
       " mean: 0.14014, std: 0.00573, params: {'model__learning_rate': 0.01, 'model__loss': 'deviance', 'model__max_depth': 5, 'model__max_features': 'sqrt', 'model__min_samples_leaf': 5, 'model__n_estimators': 100},\n",
       " mean: 0.12845, std: 0.00649, params: {'model__learning_rate': 0.1, 'model__loss': 'exponential', 'model__max_depth': 2, 'model__max_features': 'sqrt', 'model__min_samples_leaf': 1, 'model__n_estimators': 100},\n",
       " mean: 0.12863, std: 0.00673, params: {'model__learning_rate': 0.1, 'model__loss': 'exponential', 'model__max_depth': 2, 'model__max_features': 'sqrt', 'model__min_samples_leaf': 2, 'model__n_estimators': 100},\n",
       " mean: 0.12793, std: 0.00689, params: {'model__learning_rate': 0.1, 'model__loss': 'exponential', 'model__max_depth': 2, 'model__max_features': 'sqrt', 'model__min_samples_leaf': 5, 'model__n_estimators': 100},\n",
       " mean: 0.16027, std: 0.00849, params: {'model__learning_rate': 0.1, 'model__loss': 'exponential', 'model__max_depth': 3, 'model__max_features': 'sqrt', 'model__min_samples_leaf': 1, 'model__n_estimators': 100},\n",
       " mean: 0.16062, std: 0.00849, params: {'model__learning_rate': 0.1, 'model__loss': 'exponential', 'model__max_depth': 3, 'model__max_features': 'sqrt', 'model__min_samples_leaf': 2, 'model__n_estimators': 100},\n",
       " mean: 0.15977, std: 0.00975, params: {'model__learning_rate': 0.1, 'model__loss': 'exponential', 'model__max_depth': 3, 'model__max_features': 'sqrt', 'model__min_samples_leaf': 5, 'model__n_estimators': 100},\n",
       " mean: 0.20209, std: 0.01107, params: {'model__learning_rate': 0.1, 'model__loss': 'exponential', 'model__max_depth': 5, 'model__max_features': 'sqrt', 'model__min_samples_leaf': 1, 'model__n_estimators': 100},\n",
       " mean: 0.20056, std: 0.01516, params: {'model__learning_rate': 0.1, 'model__loss': 'exponential', 'model__max_depth': 5, 'model__max_features': 'sqrt', 'model__min_samples_leaf': 2, 'model__n_estimators': 100},\n",
       " mean: 0.20350, std: 0.01428, params: {'model__learning_rate': 0.1, 'model__loss': 'exponential', 'model__max_depth': 5, 'model__max_features': 'sqrt', 'model__min_samples_leaf': 5, 'model__n_estimators': 100},\n",
       " mean: 0.12231, std: 0.00598, params: {'model__learning_rate': 0.1, 'model__loss': 'deviance', 'model__max_depth': 2, 'model__max_features': 'sqrt', 'model__min_samples_leaf': 1, 'model__n_estimators': 100},\n",
       " mean: 0.12246, std: 0.00617, params: {'model__learning_rate': 0.1, 'model__loss': 'deviance', 'model__max_depth': 2, 'model__max_features': 'sqrt', 'model__min_samples_leaf': 2, 'model__n_estimators': 100},\n",
       " mean: 0.12233, std: 0.00611, params: {'model__learning_rate': 0.1, 'model__loss': 'deviance', 'model__max_depth': 2, 'model__max_features': 'sqrt', 'model__min_samples_leaf': 5, 'model__n_estimators': 100},\n",
       " mean: 0.15225, std: 0.00888, params: {'model__learning_rate': 0.1, 'model__loss': 'deviance', 'model__max_depth': 3, 'model__max_features': 'sqrt', 'model__min_samples_leaf': 1, 'model__n_estimators': 100},\n",
       " mean: 0.15197, std: 0.00889, params: {'model__learning_rate': 0.1, 'model__loss': 'deviance', 'model__max_depth': 3, 'model__max_features': 'sqrt', 'model__min_samples_leaf': 2, 'model__n_estimators': 100},\n",
       " mean: 0.15245, std: 0.00877, params: {'model__learning_rate': 0.1, 'model__loss': 'deviance', 'model__max_depth': 3, 'model__max_features': 'sqrt', 'model__min_samples_leaf': 5, 'model__n_estimators': 100},\n",
       " mean: 0.19069, std: 0.01179, params: {'model__learning_rate': 0.1, 'model__loss': 'deviance', 'model__max_depth': 5, 'model__max_features': 'sqrt', 'model__min_samples_leaf': 1, 'model__n_estimators': 100},\n",
       " mean: 0.19415, std: 0.01212, params: {'model__learning_rate': 0.1, 'model__loss': 'deviance', 'model__max_depth': 5, 'model__max_features': 'sqrt', 'model__min_samples_leaf': 2, 'model__n_estimators': 100},\n",
       " mean: 0.19640, std: 0.01042, params: {'model__learning_rate': 0.1, 'model__loss': 'deviance', 'model__max_depth': 5, 'model__max_features': 'sqrt', 'model__min_samples_leaf': 5, 'model__n_estimators': 100},\n",
       " mean: 0.16618, std: 0.00938, params: {'model__learning_rate': 0.5, 'model__loss': 'exponential', 'model__max_depth': 2, 'model__max_features': 'sqrt', 'model__min_samples_leaf': 1, 'model__n_estimators': 100},\n",
       " mean: 0.16854, std: 0.00991, params: {'model__learning_rate': 0.5, 'model__loss': 'exponential', 'model__max_depth': 2, 'model__max_features': 'sqrt', 'model__min_samples_leaf': 2, 'model__n_estimators': 100},\n",
       " mean: 0.16673, std: 0.01060, params: {'model__learning_rate': 0.5, 'model__loss': 'exponential', 'model__max_depth': 2, 'model__max_features': 'sqrt', 'model__min_samples_leaf': 5, 'model__n_estimators': 100},\n",
       " mean: 0.17383, std: 0.00941, params: {'model__learning_rate': 0.5, 'model__loss': 'exponential', 'model__max_depth': 3, 'model__max_features': 'sqrt', 'model__min_samples_leaf': 1, 'model__n_estimators': 100},\n",
       " mean: 0.17107, std: 0.01162, params: {'model__learning_rate': 0.5, 'model__loss': 'exponential', 'model__max_depth': 3, 'model__max_features': 'sqrt', 'model__min_samples_leaf': 2, 'model__n_estimators': 100},\n",
       " mean: 0.17307, std: 0.00824, params: {'model__learning_rate': 0.5, 'model__loss': 'exponential', 'model__max_depth': 3, 'model__max_features': 'sqrt', 'model__min_samples_leaf': 5, 'model__n_estimators': 100},\n",
       " mean: 0.17825, std: 0.01399, params: {'model__learning_rate': 0.5, 'model__loss': 'exponential', 'model__max_depth': 5, 'model__max_features': 'sqrt', 'model__min_samples_leaf': 1, 'model__n_estimators': 100},\n",
       " mean: 0.17357, std: 0.01080, params: {'model__learning_rate': 0.5, 'model__loss': 'exponential', 'model__max_depth': 5, 'model__max_features': 'sqrt', 'model__min_samples_leaf': 2, 'model__n_estimators': 100},\n",
       " mean: 0.17713, std: 0.01038, params: {'model__learning_rate': 0.5, 'model__loss': 'exponential', 'model__max_depth': 5, 'model__max_features': 'sqrt', 'model__min_samples_leaf': 5, 'model__n_estimators': 100},\n",
       " mean: 0.15294, std: 0.00569, params: {'model__learning_rate': 0.5, 'model__loss': 'deviance', 'model__max_depth': 2, 'model__max_features': 'sqrt', 'model__min_samples_leaf': 1, 'model__n_estimators': 100},\n",
       " mean: 0.15439, std: 0.00676, params: {'model__learning_rate': 0.5, 'model__loss': 'deviance', 'model__max_depth': 2, 'model__max_features': 'sqrt', 'model__min_samples_leaf': 2, 'model__n_estimators': 100},\n",
       " mean: 0.15629, std: 0.00538, params: {'model__learning_rate': 0.5, 'model__loss': 'deviance', 'model__max_depth': 2, 'model__max_features': 'sqrt', 'model__min_samples_leaf': 5, 'model__n_estimators': 100},\n",
       " mean: 0.15590, std: 0.00746, params: {'model__learning_rate': 0.5, 'model__loss': 'deviance', 'model__max_depth': 3, 'model__max_features': 'sqrt', 'model__min_samples_leaf': 1, 'model__n_estimators': 100},\n",
       " mean: 0.16326, std: 0.00583, params: {'model__learning_rate': 0.5, 'model__loss': 'deviance', 'model__max_depth': 3, 'model__max_features': 'sqrt', 'model__min_samples_leaf': 2, 'model__n_estimators': 100},\n",
       " mean: 0.16861, std: 0.00894, params: {'model__learning_rate': 0.5, 'model__loss': 'deviance', 'model__max_depth': 3, 'model__max_features': 'sqrt', 'model__min_samples_leaf': 5, 'model__n_estimators': 100},\n",
       " mean: 0.12143, std: 0.01160, params: {'model__learning_rate': 0.5, 'model__loss': 'deviance', 'model__max_depth': 5, 'model__max_features': 'sqrt', 'model__min_samples_leaf': 1, 'model__n_estimators': 100},\n",
       " mean: 0.14998, std: 0.00949, params: {'model__learning_rate': 0.5, 'model__loss': 'deviance', 'model__max_depth': 5, 'model__max_features': 'sqrt', 'model__min_samples_leaf': 2, 'model__n_estimators': 100},\n",
       " mean: 0.15137, std: 0.01024, params: {'model__learning_rate': 0.5, 'model__loss': 'deviance', 'model__max_depth': 5, 'model__max_features': 'sqrt', 'model__min_samples_leaf': 5, 'model__n_estimators': 100}]"
      ]
     },
     "execution_count": 60,
     "metadata": {},
     "output_type": "execute_result"
    }
   ],
   "source": [
    "GBCrus.grid_scores_"
   ]
  },
  {
   "cell_type": "code",
   "execution_count": 71,
   "metadata": {
    "collapsed": true
   },
   "outputs": [],
   "source": [
    "import dill\n",
    "dill.dump(GBCrus, open('GBCrus.pkl', 'wb'))"
   ]
  },
  {
   "cell_type": "markdown",
   "metadata": {},
   "source": [
    "# Gradient Boosting (SMOTE)\n",
    "\n",
    "loss = 'exponential' is same as AdaBoost"
   ]
  },
  {
   "cell_type": "code",
   "execution_count": 64,
   "metadata": {},
   "outputs": [
    {
     "name": "stdout",
     "output_type": "stream",
     "text": [
      "Fitting 5 folds for each of 18 candidates, totalling 90 fits\n",
      "[CV] model__learning_rate=0.1, model__loss=exponential, model__max_depth=5, model__max_features=sqrt, model__min_samples_leaf=5, model__n_estimators=100 \n",
      "[CV] model__learning_rate=0.1, model__loss=exponential, model__max_depth=5, model__max_features=sqrt, model__min_samples_leaf=5, model__n_estimators=100 \n",
      "[CV] model__learning_rate=0.1, model__loss=exponential, model__max_depth=5, model__max_features=sqrt, model__min_samples_leaf=5, model__n_estimators=100 \n",
      "[CV] model__learning_rate=0.1, model__loss=exponential, model__max_depth=5, model__max_features=sqrt, model__min_samples_leaf=5, model__n_estimators=100 \n",
      "[CV]  model__learning_rate=0.1, model__loss=exponential, model__max_depth=5, model__max_features=sqrt, model__min_samples_leaf=5, model__n_estimators=100, total=73.3min\n",
      "[CV] model__learning_rate=0.1, model__loss=exponential, model__max_depth=5, model__max_features=sqrt, model__min_samples_leaf=5, model__n_estimators=100 \n",
      "[CV]  model__learning_rate=0.1, model__loss=exponential, model__max_depth=5, model__max_features=sqrt, model__min_samples_leaf=5, model__n_estimators=100, total=73.4min\n",
      "[CV] model__learning_rate=0.1, model__loss=exponential, model__max_depth=5, model__max_features=sqrt, model__min_samples_leaf=7, model__n_estimators=100 \n",
      "[CV]  model__learning_rate=0.1, model__loss=exponential, model__max_depth=5, model__max_features=sqrt, model__min_samples_leaf=5, model__n_estimators=100, total=73.7min\n",
      "[CV] model__learning_rate=0.1, model__loss=exponential, model__max_depth=5, model__max_features=sqrt, model__min_samples_leaf=7, model__n_estimators=100 \n",
      "[CV]  model__learning_rate=0.1, model__loss=exponential, model__max_depth=5, model__max_features=sqrt, model__min_samples_leaf=5, model__n_estimators=100, total=73.8min\n",
      "[CV] model__learning_rate=0.1, model__loss=exponential, model__max_depth=5, model__max_features=sqrt, model__min_samples_leaf=7, model__n_estimators=100 \n",
      "[CV]  model__learning_rate=0.1, model__loss=exponential, model__max_depth=5, model__max_features=sqrt, model__min_samples_leaf=7, model__n_estimators=100, total=74.2min\n",
      "[CV] model__learning_rate=0.1, model__loss=exponential, model__max_depth=5, model__max_features=sqrt, model__min_samples_leaf=7, model__n_estimators=100 \n",
      "[CV]  model__learning_rate=0.1, model__loss=exponential, model__max_depth=5, model__max_features=sqrt, model__min_samples_leaf=5, model__n_estimators=100, total=74.3min\n",
      "[CV] model__learning_rate=0.1, model__loss=exponential, model__max_depth=5, model__max_features=sqrt, model__min_samples_leaf=7, model__n_estimators=100 \n",
      "[CV]  model__learning_rate=0.1, model__loss=exponential, model__max_depth=5, model__max_features=sqrt, model__min_samples_leaf=7, model__n_estimators=100, total=74.4min\n",
      "[CV]  model__learning_rate=0.1, model__loss=exponential, model__max_depth=5, model__max_features=sqrt, model__min_samples_leaf=7, model__n_estimators=100, total=74.3min\n",
      "[CV] model__learning_rate=0.1, model__loss=exponential, model__max_depth=5, model__max_features=sqrt, model__min_samples_leaf=10, model__n_estimators=100 \n",
      "[CV] model__learning_rate=0.1, model__loss=exponential, model__max_depth=5, model__max_features=sqrt, model__min_samples_leaf=10, model__n_estimators=100 \n",
      "[CV]  model__learning_rate=0.1, model__loss=exponential, model__max_depth=5, model__max_features=sqrt, model__min_samples_leaf=7, model__n_estimators=100, total=28.5min\n",
      "[CV] model__learning_rate=0.1, model__loss=exponential, model__max_depth=5, model__max_features=sqrt, model__min_samples_leaf=10, model__n_estimators=100 \n",
      "[CV]  model__learning_rate=0.1, model__loss=exponential, model__max_depth=5, model__max_features=sqrt, model__min_samples_leaf=7, model__n_estimators=100, total=98.8min\n",
      "[CV] model__learning_rate=0.1, model__loss=exponential, model__max_depth=5, model__max_features=sqrt, model__min_samples_leaf=10, model__n_estimators=100 \n",
      "[CV]  model__learning_rate=0.1, model__loss=exponential, model__max_depth=5, model__max_features=sqrt, model__min_samples_leaf=10, model__n_estimators=100, total=70.6min\n",
      "[CV] model__learning_rate=0.1, model__loss=exponential, model__max_depth=5, model__max_features=sqrt, model__min_samples_leaf=10, model__n_estimators=100 \n",
      "[CV]  model__learning_rate=0.1, model__loss=exponential, model__max_depth=5, model__max_features=sqrt, model__min_samples_leaf=10, model__n_estimators=100, total=99.1min\n",
      "[CV] model__learning_rate=0.1, model__loss=exponential, model__max_depth=7, model__max_features=sqrt, model__min_samples_leaf=5, model__n_estimators=100 \n",
      "[CV]  model__learning_rate=0.1, model__loss=exponential, model__max_depth=5, model__max_features=sqrt, model__min_samples_leaf=10, model__n_estimators=100, total=99.6min\n",
      "[CV] model__learning_rate=0.1, model__loss=exponential, model__max_depth=7, model__max_features=sqrt, model__min_samples_leaf=5, model__n_estimators=100 \n",
      "[CV]  model__learning_rate=0.1, model__loss=exponential, model__max_depth=5, model__max_features=sqrt, model__min_samples_leaf=10, model__n_estimators=100, total=72.1min\n",
      "[CV] model__learning_rate=0.1, model__loss=exponential, model__max_depth=7, model__max_features=sqrt, model__min_samples_leaf=5, model__n_estimators=100 \n",
      "[CV]  model__learning_rate=0.1, model__loss=exponential, model__max_depth=5, model__max_features=sqrt, model__min_samples_leaf=10, model__n_estimators=100, total=72.5min\n",
      "[CV] model__learning_rate=0.1, model__loss=exponential, model__max_depth=7, model__max_features=sqrt, model__min_samples_leaf=5, model__n_estimators=100 \n",
      "[CV]  model__learning_rate=0.1, model__loss=exponential, model__max_depth=7, model__max_features=sqrt, model__min_samples_leaf=5, model__n_estimators=100, total=100.9min\n",
      "[CV] model__learning_rate=0.1, model__loss=exponential, model__max_depth=7, model__max_features=sqrt, model__min_samples_leaf=5, model__n_estimators=100 \n",
      "[CV]  model__learning_rate=0.1, model__loss=exponential, model__max_depth=7, model__max_features=sqrt, model__min_samples_leaf=5, model__n_estimators=100, total=101.5min\n",
      "[CV] model__learning_rate=0.1, model__loss=exponential, model__max_depth=7, model__max_features=sqrt, model__min_samples_leaf=7, model__n_estimators=100 \n",
      "[CV]  model__learning_rate=0.1, model__loss=exponential, model__max_depth=7, model__max_features=sqrt, model__min_samples_leaf=5, model__n_estimators=100, total=118.1min\n",
      "[CV] model__learning_rate=0.1, model__loss=exponential, model__max_depth=7, model__max_features=sqrt, model__min_samples_leaf=7, model__n_estimators=100 \n",
      "[CV]  model__learning_rate=0.1, model__loss=exponential, model__max_depth=7, model__max_features=sqrt, model__min_samples_leaf=5, model__n_estimators=100, total=88.8min\n",
      "[CV] model__learning_rate=0.1, model__loss=exponential, model__max_depth=7, model__max_features=sqrt, model__min_samples_leaf=7, model__n_estimators=100 \n",
      "[CV]  model__learning_rate=0.1, model__loss=exponential, model__max_depth=7, model__max_features=sqrt, model__min_samples_leaf=5, model__n_estimators=100, total=118.5min\n",
      "[CV] model__learning_rate=0.1, model__loss=exponential, model__max_depth=7, model__max_features=sqrt, model__min_samples_leaf=7, model__n_estimators=100 \n",
      "[CV]  model__learning_rate=0.1, model__loss=exponential, model__max_depth=7, model__max_features=sqrt, model__min_samples_leaf=7, model__n_estimators=100, total=88.7min\n",
      "[CV] model__learning_rate=0.1, model__loss=exponential, model__max_depth=7, model__max_features=sqrt, model__min_samples_leaf=7, model__n_estimators=100 \n",
      "[CV]  model__learning_rate=0.1, model__loss=exponential, model__max_depth=7, model__max_features=sqrt, model__min_samples_leaf=7, model__n_estimators=100, total=89.4min\n",
      "[CV] model__learning_rate=0.1, model__loss=exponential, model__max_depth=7, model__max_features=sqrt, model__min_samples_leaf=10, model__n_estimators=100 \n",
      "[CV]  model__learning_rate=0.1, model__loss=exponential, model__max_depth=7, model__max_features=sqrt, model__min_samples_leaf=7, model__n_estimators=100, total=90.0min\n",
      "[CV] model__learning_rate=0.1, model__loss=exponential, model__max_depth=7, model__max_features=sqrt, model__min_samples_leaf=10, model__n_estimators=100 \n",
      "[CV]  model__learning_rate=0.1, model__loss=exponential, model__max_depth=7, model__max_features=sqrt, model__min_samples_leaf=7, model__n_estimators=100, total=90.4min\n"
     ]
    },
    {
     "name": "stdout",
     "output_type": "stream",
     "text": [
      "[CV] model__learning_rate=0.1, model__loss=exponential, model__max_depth=7, model__max_features=sqrt, model__min_samples_leaf=10, model__n_estimators=100 \n",
      "[CV]  model__learning_rate=0.1, model__loss=exponential, model__max_depth=7, model__max_features=sqrt, model__min_samples_leaf=7, model__n_estimators=100, total=90.3min\n",
      "[CV] model__learning_rate=0.1, model__loss=exponential, model__max_depth=7, model__max_features=sqrt, model__min_samples_leaf=10, model__n_estimators=100 \n",
      "[CV]  model__learning_rate=0.1, model__loss=exponential, model__max_depth=7, model__max_features=sqrt, model__min_samples_leaf=10, model__n_estimators=100, total=55.0min\n",
      "[CV] model__learning_rate=0.1, model__loss=exponential, model__max_depth=7, model__max_features=sqrt, model__min_samples_leaf=10, model__n_estimators=100 \n",
      "[CV]  model__learning_rate=0.1, model__loss=exponential, model__max_depth=7, model__max_features=sqrt, model__min_samples_leaf=10, model__n_estimators=100, total=87.4min\n",
      "[CV] model__learning_rate=0.1, model__loss=exponential, model__max_depth=10, model__max_features=sqrt, model__min_samples_leaf=5, model__n_estimators=100 \n",
      "[CV]  model__learning_rate=0.1, model__loss=exponential, model__max_depth=7, model__max_features=sqrt, model__min_samples_leaf=10, model__n_estimators=100, total=87.5min\n",
      "[CV] model__learning_rate=0.1, model__loss=exponential, model__max_depth=10, model__max_features=sqrt, model__min_samples_leaf=5, model__n_estimators=100 \n",
      "[CV]  model__learning_rate=0.1, model__loss=exponential, model__max_depth=7, model__max_features=sqrt, model__min_samples_leaf=10, model__n_estimators=100, total=88.2min\n",
      "[CV] model__learning_rate=0.1, model__loss=exponential, model__max_depth=10, model__max_features=sqrt, model__min_samples_leaf=5, model__n_estimators=100 \n",
      "[CV]  model__learning_rate=0.1, model__loss=exponential, model__max_depth=7, model__max_features=sqrt, model__min_samples_leaf=10, model__n_estimators=100, total=36.6min\n",
      "[CV] model__learning_rate=0.1, model__loss=exponential, model__max_depth=10, model__max_features=sqrt, model__min_samples_leaf=5, model__n_estimators=100 \n",
      "[CV]  model__learning_rate=0.1, model__loss=exponential, model__max_depth=10, model__max_features=sqrt, model__min_samples_leaf=5, model__n_estimators=100, total=141.8min\n",
      "[CV] model__learning_rate=0.1, model__loss=exponential, model__max_depth=10, model__max_features=sqrt, model__min_samples_leaf=5, model__n_estimators=100 \n",
      "[CV]  model__learning_rate=0.1, model__loss=exponential, model__max_depth=10, model__max_features=sqrt, model__min_samples_leaf=5, model__n_estimators=100, total=139.1min\n",
      "[CV] model__learning_rate=0.1, model__loss=exponential, model__max_depth=10, model__max_features=sqrt, model__min_samples_leaf=7, model__n_estimators=100 \n",
      "[CV]  model__learning_rate=0.1, model__loss=exponential, model__max_depth=10, model__max_features=sqrt, model__min_samples_leaf=5, model__n_estimators=100, total=143.4min\n"
     ]
    },
    {
     "name": "stderr",
     "output_type": "stream",
     "text": [
      "[Parallel(n_jobs=4)]: Done  33 tasks      | elapsed: 760.4min\n"
     ]
    },
    {
     "name": "stdout",
     "output_type": "stream",
     "text": [
      "[CV] model__learning_rate=0.1, model__loss=exponential, model__max_depth=10, model__max_features=sqrt, model__min_samples_leaf=7, model__n_estimators=100 \n",
      "[CV]  model__learning_rate=0.1, model__loss=exponential, model__max_depth=10, model__max_features=sqrt, model__min_samples_leaf=5, model__n_estimators=100, total=145.4min\n",
      "[CV] model__learning_rate=0.1, model__loss=exponential, model__max_depth=10, model__max_features=sqrt, model__min_samples_leaf=7, model__n_estimators=100 \n",
      "[CV]  model__learning_rate=0.1, model__loss=exponential, model__max_depth=10, model__max_features=sqrt, model__min_samples_leaf=7, model__n_estimators=100, total=138.7min\n",
      "[CV] model__learning_rate=0.1, model__loss=exponential, model__max_depth=10, model__max_features=sqrt, model__min_samples_leaf=7, model__n_estimators=100 \n",
      "[CV]  model__learning_rate=0.1, model__loss=exponential, model__max_depth=10, model__max_features=sqrt, model__min_samples_leaf=7, model__n_estimators=100, total=142.5min\n",
      "[CV] model__learning_rate=0.1, model__loss=exponential, model__max_depth=10, model__max_features=sqrt, model__min_samples_leaf=7, model__n_estimators=100 \n",
      "[CV]  model__learning_rate=0.1, model__loss=exponential, model__max_depth=10, model__max_features=sqrt, model__min_samples_leaf=7, model__n_estimators=100, total=141.8min\n",
      "[CV] model__learning_rate=0.1, model__loss=exponential, model__max_depth=10, model__max_features=sqrt, model__min_samples_leaf=10, model__n_estimators=100 \n",
      "[CV]  model__learning_rate=0.1, model__loss=exponential, model__max_depth=10, model__max_features=sqrt, model__min_samples_leaf=5, model__n_estimators=100, total=146.2min\n",
      "[CV] model__learning_rate=0.1, model__loss=exponential, model__max_depth=10, model__max_features=sqrt, model__min_samples_leaf=10, model__n_estimators=100 \n",
      "[CV]  model__learning_rate=0.1, model__loss=exponential, model__max_depth=10, model__max_features=sqrt, model__min_samples_leaf=7, model__n_estimators=100, total=102.3min\n",
      "[CV] model__learning_rate=0.1, model__loss=exponential, model__max_depth=10, model__max_features=sqrt, model__min_samples_leaf=10, model__n_estimators=100 \n",
      "[CV]  model__learning_rate=0.1, model__loss=exponential, model__max_depth=10, model__max_features=sqrt, model__min_samples_leaf=10, model__n_estimators=100, total=132.9min\n",
      "[CV] model__learning_rate=0.1, model__loss=exponential, model__max_depth=10, model__max_features=sqrt, model__min_samples_leaf=10, model__n_estimators=100 \n",
      "[CV]  model__learning_rate=0.1, model__loss=exponential, model__max_depth=10, model__max_features=sqrt, model__min_samples_leaf=10, model__n_estimators=100, total=130.2min\n",
      "[CV] model__learning_rate=0.1, model__loss=exponential, model__max_depth=10, model__max_features=sqrt, model__min_samples_leaf=10, model__n_estimators=100 \n",
      "[CV]  model__learning_rate=0.1, model__loss=exponential, model__max_depth=10, model__max_features=sqrt, model__min_samples_leaf=7, model__n_estimators=100, total=137.1min\n",
      "[CV] model__learning_rate=0.3, model__loss=exponential, model__max_depth=5, model__max_features=sqrt, model__min_samples_leaf=5, model__n_estimators=100 \n",
      "[CV]  model__learning_rate=0.3, model__loss=exponential, model__max_depth=5, model__max_features=sqrt, model__min_samples_leaf=5, model__n_estimators=100, total=12.2min\n",
      "[CV] model__learning_rate=0.3, model__loss=exponential, model__max_depth=5, model__max_features=sqrt, model__min_samples_leaf=5, model__n_estimators=100 \n",
      "[CV]  model__learning_rate=0.3, model__loss=exponential, model__max_depth=5, model__max_features=sqrt, model__min_samples_leaf=5, model__n_estimators=100, total=12.5min\n",
      "[CV] model__learning_rate=0.3, model__loss=exponential, model__max_depth=5, model__max_features=sqrt, model__min_samples_leaf=5, model__n_estimators=100 \n",
      "[CV]  model__learning_rate=0.3, model__loss=exponential, model__max_depth=5, model__max_features=sqrt, model__min_samples_leaf=5, model__n_estimators=100, total=12.6min\n",
      "[CV] model__learning_rate=0.3, model__loss=exponential, model__max_depth=5, model__max_features=sqrt, model__min_samples_leaf=5, model__n_estimators=100 \n",
      "[CV]  model__learning_rate=0.1, model__loss=exponential, model__max_depth=10, model__max_features=sqrt, model__min_samples_leaf=10, model__n_estimators=100, total=85.7min\n",
      "[CV] model__learning_rate=0.3, model__loss=exponential, model__max_depth=5, model__max_features=sqrt, model__min_samples_leaf=5, model__n_estimators=100 \n",
      "[CV]  model__learning_rate=0.3, model__loss=exponential, model__max_depth=5, model__max_features=sqrt, model__min_samples_leaf=5, model__n_estimators=100, total=12.3min\n",
      "[CV] model__learning_rate=0.3, model__loss=exponential, model__max_depth=5, model__max_features=sqrt, model__min_samples_leaf=7, model__n_estimators=100 \n",
      "[CV]  model__learning_rate=0.1, model__loss=exponential, model__max_depth=10, model__max_features=sqrt, model__min_samples_leaf=10, model__n_estimators=100, total=99.8min\n",
      "[CV] model__learning_rate=0.3, model__loss=exponential, model__max_depth=5, model__max_features=sqrt, model__min_samples_leaf=7, model__n_estimators=100 \n",
      "[CV]  model__learning_rate=0.1, model__loss=exponential, model__max_depth=10, model__max_features=sqrt, model__min_samples_leaf=10, model__n_estimators=100, total=100.7min\n",
      "[CV] model__learning_rate=0.3, model__loss=exponential, model__max_depth=5, model__max_features=sqrt, model__min_samples_leaf=7, model__n_estimators=100 \n",
      "[CV]  model__learning_rate=0.3, model__loss=exponential, model__max_depth=5, model__max_features=sqrt, model__min_samples_leaf=7, model__n_estimators=100, total=69.3min\n",
      "[CV] model__learning_rate=0.3, model__loss=exponential, model__max_depth=5, model__max_features=sqrt, model__min_samples_leaf=7, model__n_estimators=100 \n",
      "[CV]  model__learning_rate=0.3, model__loss=exponential, model__max_depth=5, model__max_features=sqrt, model__min_samples_leaf=5, model__n_estimators=100, total=69.6min\n",
      "[CV] model__learning_rate=0.3, model__loss=exponential, model__max_depth=5, model__max_features=sqrt, model__min_samples_leaf=7, model__n_estimators=100 \n",
      "[CV]  model__learning_rate=0.3, model__loss=exponential, model__max_depth=5, model__max_features=sqrt, model__min_samples_leaf=7, model__n_estimators=100, total=46.4min\n",
      "[CV] model__learning_rate=0.3, model__loss=exponential, model__max_depth=5, model__max_features=sqrt, model__min_samples_leaf=10, model__n_estimators=100 \n",
      "[CV]  model__learning_rate=0.3, model__loss=exponential, model__max_depth=5, model__max_features=sqrt, model__min_samples_leaf=7, model__n_estimators=100, total=46.6min\n",
      "[CV] model__learning_rate=0.3, model__loss=exponential, model__max_depth=5, model__max_features=sqrt, model__min_samples_leaf=10, model__n_estimators=100 \n",
      "[CV]  model__learning_rate=0.3, model__loss=exponential, model__max_depth=5, model__max_features=sqrt, model__min_samples_leaf=10, model__n_estimators=100, total=69.4min\n",
      "[CV] model__learning_rate=0.3, model__loss=exponential, model__max_depth=5, model__max_features=sqrt, model__min_samples_leaf=10, model__n_estimators=100 \n",
      "[CV]  model__learning_rate=0.3, model__loss=exponential, model__max_depth=5, model__max_features=sqrt, model__min_samples_leaf=7, model__n_estimators=100, total=92.7min\n",
      "[CV] model__learning_rate=0.3, model__loss=exponential, model__max_depth=5, model__max_features=sqrt, model__min_samples_leaf=10, model__n_estimators=100 \n",
      "[CV]  model__learning_rate=0.3, model__loss=exponential, model__max_depth=5, model__max_features=sqrt, model__min_samples_leaf=7, model__n_estimators=100, total=93.1min\n",
      "[CV] model__learning_rate=0.3, model__loss=exponential, model__max_depth=5, model__max_features=sqrt, model__min_samples_leaf=10, model__n_estimators=100 \n",
      "[CV]  model__learning_rate=0.3, model__loss=exponential, model__max_depth=5, model__max_features=sqrt, model__min_samples_leaf=10, model__n_estimators=100, total=69.3min\n",
      "[CV] model__learning_rate=0.3, model__loss=exponential, model__max_depth=7, model__max_features=sqrt, model__min_samples_leaf=5, model__n_estimators=100 \n",
      "[CV]  model__learning_rate=0.3, model__loss=exponential, model__max_depth=5, model__max_features=sqrt, model__min_samples_leaf=10, model__n_estimators=100, total=71.1min\n",
      "[CV] model__learning_rate=0.3, model__loss=exponential, model__max_depth=7, model__max_features=sqrt, model__min_samples_leaf=5, model__n_estimators=100 \n"
     ]
    },
    {
     "name": "stdout",
     "output_type": "stream",
     "text": [
      "[CV]  model__learning_rate=0.3, model__loss=exponential, model__max_depth=5, model__max_features=sqrt, model__min_samples_leaf=10, model__n_estimators=100, total=71.4min\n",
      "[CV] model__learning_rate=0.3, model__loss=exponential, model__max_depth=7, model__max_features=sqrt, model__min_samples_leaf=5, model__n_estimators=100 \n",
      "[CV]  model__learning_rate=0.3, model__loss=exponential, model__max_depth=5, model__max_features=sqrt, model__min_samples_leaf=10, model__n_estimators=100, total=71.7min\n",
      "[CV] model__learning_rate=0.3, model__loss=exponential, model__max_depth=7, model__max_features=sqrt, model__min_samples_leaf=5, model__n_estimators=100 \n",
      "[CV]  model__learning_rate=0.3, model__loss=exponential, model__max_depth=7, model__max_features=sqrt, model__min_samples_leaf=5, model__n_estimators=100, total=98.2min\n",
      "[CV] model__learning_rate=0.3, model__loss=exponential, model__max_depth=7, model__max_features=sqrt, model__min_samples_leaf=5, model__n_estimators=100 \n",
      "[CV]  model__learning_rate=0.3, model__loss=exponential, model__max_depth=7, model__max_features=sqrt, model__min_samples_leaf=5, model__n_estimators=100, total=94.3min\n",
      "[CV] model__learning_rate=0.3, model__loss=exponential, model__max_depth=7, model__max_features=sqrt, model__min_samples_leaf=7, model__n_estimators=100 \n",
      "[CV]  model__learning_rate=0.3, model__loss=exponential, model__max_depth=7, model__max_features=sqrt, model__min_samples_leaf=5, model__n_estimators=100, total=95.5min\n",
      "[CV] model__learning_rate=0.3, model__loss=exponential, model__max_depth=7, model__max_features=sqrt, model__min_samples_leaf=7, model__n_estimators=100 \n",
      "[CV]  model__learning_rate=0.3, model__loss=exponential, model__max_depth=7, model__max_features=sqrt, model__min_samples_leaf=5, model__n_estimators=100, total=96.7min\n",
      "[CV] model__learning_rate=0.3, model__loss=exponential, model__max_depth=7, model__max_features=sqrt, model__min_samples_leaf=7, model__n_estimators=100 \n",
      "[CV]  model__learning_rate=0.3, model__loss=exponential, model__max_depth=7, model__max_features=sqrt, model__min_samples_leaf=5, model__n_estimators=100, total=69.5min\n",
      "[CV] model__learning_rate=0.3, model__loss=exponential, model__max_depth=7, model__max_features=sqrt, model__min_samples_leaf=7, model__n_estimators=100 \n",
      "[CV]  model__learning_rate=0.3, model__loss=exponential, model__max_depth=7, model__max_features=sqrt, model__min_samples_leaf=7, model__n_estimators=100, total=45.9min\n",
      "[CV] model__learning_rate=0.3, model__loss=exponential, model__max_depth=7, model__max_features=sqrt, model__min_samples_leaf=7, model__n_estimators=100 \n",
      "[CV]  model__learning_rate=0.3, model__loss=exponential, model__max_depth=7, model__max_features=sqrt, model__min_samples_leaf=7, model__n_estimators=100, total=73.1min\n",
      "[CV] model__learning_rate=0.3, model__loss=exponential, model__max_depth=7, model__max_features=sqrt, model__min_samples_leaf=10, model__n_estimators=100 \n",
      "[CV]  model__learning_rate=0.3, model__loss=exponential, model__max_depth=7, model__max_features=sqrt, model__min_samples_leaf=7, model__n_estimators=100, total=84.7min\n",
      "[CV] model__learning_rate=0.3, model__loss=exponential, model__max_depth=7, model__max_features=sqrt, model__min_samples_leaf=10, model__n_estimators=100 \n",
      "[CV]  model__learning_rate=0.3, model__loss=exponential, model__max_depth=7, model__max_features=sqrt, model__min_samples_leaf=7, model__n_estimators=100, total=84.5min\n",
      "[CV] model__learning_rate=0.3, model__loss=exponential, model__max_depth=7, model__max_features=sqrt, model__min_samples_leaf=10, model__n_estimators=100 \n",
      "[CV]  model__learning_rate=0.3, model__loss=exponential, model__max_depth=7, model__max_features=sqrt, model__min_samples_leaf=7, model__n_estimators=100, total=41.1min\n",
      "[CV] model__learning_rate=0.3, model__loss=exponential, model__max_depth=7, model__max_features=sqrt, model__min_samples_leaf=10, model__n_estimators=100 \n",
      "[CV]  model__learning_rate=0.3, model__loss=exponential, model__max_depth=7, model__max_features=sqrt, model__min_samples_leaf=10, model__n_estimators=100, total=41.6min\n",
      "[CV] model__learning_rate=0.3, model__loss=exponential, model__max_depth=7, model__max_features=sqrt, model__min_samples_leaf=10, model__n_estimators=100 \n",
      "[CV]  model__learning_rate=0.3, model__loss=exponential, model__max_depth=7, model__max_features=sqrt, model__min_samples_leaf=10, model__n_estimators=100, total=102.7min\n",
      "[CV] model__learning_rate=0.3, model__loss=exponential, model__max_depth=10, model__max_features=sqrt, model__min_samples_leaf=5, model__n_estimators=100 \n",
      "[CV]  model__learning_rate=0.3, model__loss=exponential, model__max_depth=7, model__max_features=sqrt, model__min_samples_leaf=10, model__n_estimators=100, total=102.6min\n",
      "[CV] model__learning_rate=0.3, model__loss=exponential, model__max_depth=10, model__max_features=sqrt, model__min_samples_leaf=5, model__n_estimators=100 \n",
      "[CV]  model__learning_rate=0.3, model__loss=exponential, model__max_depth=7, model__max_features=sqrt, model__min_samples_leaf=10, model__n_estimators=100, total=73.1min\n",
      "[CV] model__learning_rate=0.3, model__loss=exponential, model__max_depth=10, model__max_features=sqrt, model__min_samples_leaf=5, model__n_estimators=100 \n",
      "[CV]  model__learning_rate=0.3, model__loss=exponential, model__max_depth=7, model__max_features=sqrt, model__min_samples_leaf=10, model__n_estimators=100, total=102.9min\n",
      "[CV] model__learning_rate=0.3, model__loss=exponential, model__max_depth=10, model__max_features=sqrt, model__min_samples_leaf=5, model__n_estimators=100 \n",
      "[CV]  model__learning_rate=0.3, model__loss=exponential, model__max_depth=10, model__max_features=sqrt, model__min_samples_leaf=5, model__n_estimators=100, total=126.2min\n",
      "[CV] model__learning_rate=0.3, model__loss=exponential, model__max_depth=10, model__max_features=sqrt, model__min_samples_leaf=5, model__n_estimators=100 \n",
      "[CV]  model__learning_rate=0.3, model__loss=exponential, model__max_depth=10, model__max_features=sqrt, model__min_samples_leaf=5, model__n_estimators=100, total=126.7min\n",
      "[CV] model__learning_rate=0.3, model__loss=exponential, model__max_depth=10, model__max_features=sqrt, model__min_samples_leaf=7, model__n_estimators=100 \n",
      "[CV]  model__learning_rate=0.3, model__loss=exponential, model__max_depth=10, model__max_features=sqrt, model__min_samples_leaf=5, model__n_estimators=100, total=127.3min\n",
      "[CV] model__learning_rate=0.3, model__loss=exponential, model__max_depth=10, model__max_features=sqrt, model__min_samples_leaf=7, model__n_estimators=100 \n",
      "[CV]  model__learning_rate=0.3, model__loss=exponential, model__max_depth=10, model__max_features=sqrt, model__min_samples_leaf=5, model__n_estimators=100, total=128.4min\n",
      "[CV] model__learning_rate=0.3, model__loss=exponential, model__max_depth=10, model__max_features=sqrt, model__min_samples_leaf=7, model__n_estimators=100 \n",
      "[CV]  model__learning_rate=0.3, model__loss=exponential, model__max_depth=10, model__max_features=sqrt, model__min_samples_leaf=5, model__n_estimators=100, total=86.1min\n",
      "[CV] model__learning_rate=0.3, model__loss=exponential, model__max_depth=10, model__max_features=sqrt, model__min_samples_leaf=7, model__n_estimators=100 \n",
      "[CV]  model__learning_rate=0.3, model__loss=exponential, model__max_depth=10, model__max_features=sqrt, model__min_samples_leaf=7, model__n_estimators=100, total=110.9min\n",
      "[CV] model__learning_rate=0.3, model__loss=exponential, model__max_depth=10, model__max_features=sqrt, model__min_samples_leaf=7, model__n_estimators=100 \n",
      "[CV]  model__learning_rate=0.3, model__loss=exponential, model__max_depth=10, model__max_features=sqrt, model__min_samples_leaf=7, model__n_estimators=100, total=112.0min\n",
      "[CV] model__learning_rate=0.3, model__loss=exponential, model__max_depth=10, model__max_features=sqrt, model__min_samples_leaf=10, model__n_estimators=100 \n",
      "[CV]  model__learning_rate=0.3, model__loss=exponential, model__max_depth=10, model__max_features=sqrt, model__min_samples_leaf=7, model__n_estimators=100, total=112.3min\n",
      "[CV] model__learning_rate=0.3, model__loss=exponential, model__max_depth=10, model__max_features=sqrt, model__min_samples_leaf=10, model__n_estimators=100 \n",
      "[CV]  model__learning_rate=0.3, model__loss=exponential, model__max_depth=10, model__max_features=sqrt, model__min_samples_leaf=7, model__n_estimators=100, total=72.6min\n"
     ]
    },
    {
     "name": "stdout",
     "output_type": "stream",
     "text": [
      "[CV] model__learning_rate=0.3, model__loss=exponential, model__max_depth=10, model__max_features=sqrt, model__min_samples_leaf=10, model__n_estimators=100 \n",
      "[CV]  model__learning_rate=0.3, model__loss=exponential, model__max_depth=10, model__max_features=sqrt, model__min_samples_leaf=10, model__n_estimators=100, total=69.2min\n",
      "[CV] model__learning_rate=0.3, model__loss=exponential, model__max_depth=10, model__max_features=sqrt, model__min_samples_leaf=10, model__n_estimators=100 \n",
      "[CV]  model__learning_rate=0.3, model__loss=exponential, model__max_depth=10, model__max_features=sqrt, model__min_samples_leaf=10, model__n_estimators=100, total=67.7min\n",
      "[CV] model__learning_rate=0.3, model__loss=exponential, model__max_depth=10, model__max_features=sqrt, model__min_samples_leaf=10, model__n_estimators=100 \n",
      "[CV]  model__learning_rate=0.3, model__loss=exponential, model__max_depth=10, model__max_features=sqrt, model__min_samples_leaf=7, model__n_estimators=100, total=72.6min\n",
      "[CV]  model__learning_rate=0.3, model__loss=exponential, model__max_depth=10, model__max_features=sqrt, model__min_samples_leaf=10, model__n_estimators=100, total=56.1min\n",
      "[CV]  model__learning_rate=0.3, model__loss=exponential, model__max_depth=10, model__max_features=sqrt, model__min_samples_leaf=10, model__n_estimators=100, total=45.8min\n",
      "[CV]  model__learning_rate=0.3, model__loss=exponential, model__max_depth=10, model__max_features=sqrt, model__min_samples_leaf=10, model__n_estimators=100, total=46.3min\n"
     ]
    },
    {
     "name": "stderr",
     "output_type": "stream",
     "text": [
      "[Parallel(n_jobs=4)]: Done  90 out of  90 | elapsed: 1964.3min finished\n"
     ]
    },
    {
     "name": "stdout",
     "output_type": "stream",
     "text": [
      "CPU times: user 44min 56s, sys: 4min 12s, total: 49min 9s\n",
      "Wall time: 1d 9h 24min 18s\n"
     ]
    }
   ],
   "source": [
    "%%time\n",
    "from sklearn.ensemble import GradientBoostingClassifier\n",
    "from sklearn.model_selection import GridSearchCV\n",
    "from imblearn.pipeline import Pipeline as pl\n",
    "from imblearn.over_sampling import SMOTE\n",
    "# Steps for pipeline\n",
    "steps = [(\"smote\", SMOTE(random_state=30, kind='regular')),\n",
    "         (\"model\", GradientBoostingClassifier(random_state=40))]\n",
    "pipe = pl(steps)\n",
    "\n",
    "# Parameters\n",
    "param_grid = dict(model__loss = ['exponential'],\n",
    "                  model__learning_rate = [0.1, 0.3],\n",
    "                  model__n_estimators = [100],\n",
    "                  model__max_depth = [5, 7, 10],\n",
    "                  model__min_samples_leaf = [5, 7, 10],\n",
    "                  model__max_features = ['sqrt']\n",
    "                  )\n",
    "# For CV in grid search\n",
    "cv = StratifiedShuffleSplit(n_splits = 5, test_size = 0.2, random_state = 20)\n",
    "\n",
    "# Setting up the grid search\n",
    "GBCsmote = GridSearchCV(pipe, param_grid = param_grid, \n",
    "                           verbose = 2,\n",
    "                           cv = cv,\n",
    "                          n_jobs=4,\n",
    "                          scoring='average_precision',\n",
    "                          iid=False)\n",
    "# Training using CV\n",
    "GBCsmote.fit(X_train, y_train)"
   ]
  },
  {
   "cell_type": "code",
   "execution_count": 65,
   "metadata": {},
   "outputs": [
    {
     "data": {
      "text/plain": [
       "0.28170356052411599"
      ]
     },
     "execution_count": 65,
     "metadata": {},
     "output_type": "execute_result"
    }
   ],
   "source": [
    "GBCsmote.best_score_"
   ]
  },
  {
   "cell_type": "code",
   "execution_count": 66,
   "metadata": {},
   "outputs": [
    {
     "data": {
      "text/plain": [
       "{'model__learning_rate': 0.3,\n",
       " 'model__loss': 'exponential',\n",
       " 'model__max_depth': 10,\n",
       " 'model__max_features': 'sqrt',\n",
       " 'model__min_samples_leaf': 5,\n",
       " 'model__n_estimators': 100}"
      ]
     },
     "execution_count": 66,
     "metadata": {},
     "output_type": "execute_result"
    }
   ],
   "source": [
    "GBCsmote.best_params_"
   ]
  },
  {
   "cell_type": "code",
   "execution_count": 67,
   "metadata": {},
   "outputs": [
    {
     "name": "stderr",
     "output_type": "stream",
     "text": [
      "//anaconda/lib/python3.6/site-packages/sklearn/model_selection/_search.py:667: DeprecationWarning: The grid_scores_ attribute was deprecated in version 0.18 in favor of the more elaborate cv_results_ attribute. The grid_scores_ attribute will not be available from 0.20\n",
      "  DeprecationWarning)\n"
     ]
    },
    {
     "data": {
      "text/plain": [
       "[mean: 0.13617, std: 0.00625, params: {'model__learning_rate': 0.1, 'model__loss': 'exponential', 'model__max_depth': 5, 'model__max_features': 'sqrt', 'model__min_samples_leaf': 5, 'model__n_estimators': 100},\n",
       " mean: 0.13491, std: 0.00833, params: {'model__learning_rate': 0.1, 'model__loss': 'exponential', 'model__max_depth': 5, 'model__max_features': 'sqrt', 'model__min_samples_leaf': 7, 'model__n_estimators': 100},\n",
       " mean: 0.13468, std: 0.00756, params: {'model__learning_rate': 0.1, 'model__loss': 'exponential', 'model__max_depth': 5, 'model__max_features': 'sqrt', 'model__min_samples_leaf': 10, 'model__n_estimators': 100},\n",
       " mean: 0.18441, std: 0.01076, params: {'model__learning_rate': 0.1, 'model__loss': 'exponential', 'model__max_depth': 7, 'model__max_features': 'sqrt', 'model__min_samples_leaf': 5, 'model__n_estimators': 100},\n",
       " mean: 0.18253, std: 0.00868, params: {'model__learning_rate': 0.1, 'model__loss': 'exponential', 'model__max_depth': 7, 'model__max_features': 'sqrt', 'model__min_samples_leaf': 7, 'model__n_estimators': 100},\n",
       " mean: 0.18264, std: 0.00869, params: {'model__learning_rate': 0.1, 'model__loss': 'exponential', 'model__max_depth': 7, 'model__max_features': 'sqrt', 'model__min_samples_leaf': 10, 'model__n_estimators': 100},\n",
       " mean: 0.24531, std: 0.00952, params: {'model__learning_rate': 0.1, 'model__loss': 'exponential', 'model__max_depth': 10, 'model__max_features': 'sqrt', 'model__min_samples_leaf': 5, 'model__n_estimators': 100},\n",
       " mean: 0.24601, std: 0.01015, params: {'model__learning_rate': 0.1, 'model__loss': 'exponential', 'model__max_depth': 10, 'model__max_features': 'sqrt', 'model__min_samples_leaf': 7, 'model__n_estimators': 100},\n",
       " mean: 0.25036, std: 0.00957, params: {'model__learning_rate': 0.1, 'model__loss': 'exponential', 'model__max_depth': 10, 'model__max_features': 'sqrt', 'model__min_samples_leaf': 10, 'model__n_estimators': 100},\n",
       " mean: 0.19115, std: 0.00879, params: {'model__learning_rate': 0.3, 'model__loss': 'exponential', 'model__max_depth': 5, 'model__max_features': 'sqrt', 'model__min_samples_leaf': 5, 'model__n_estimators': 100},\n",
       " mean: 0.19341, std: 0.00881, params: {'model__learning_rate': 0.3, 'model__loss': 'exponential', 'model__max_depth': 5, 'model__max_features': 'sqrt', 'model__min_samples_leaf': 7, 'model__n_estimators': 100},\n",
       " mean: 0.19382, std: 0.01116, params: {'model__learning_rate': 0.3, 'model__loss': 'exponential', 'model__max_depth': 5, 'model__max_features': 'sqrt', 'model__min_samples_leaf': 10, 'model__n_estimators': 100},\n",
       " mean: 0.23607, std: 0.00896, params: {'model__learning_rate': 0.3, 'model__loss': 'exponential', 'model__max_depth': 7, 'model__max_features': 'sqrt', 'model__min_samples_leaf': 5, 'model__n_estimators': 100},\n",
       " mean: 0.23963, std: 0.00690, params: {'model__learning_rate': 0.3, 'model__loss': 'exponential', 'model__max_depth': 7, 'model__max_features': 'sqrt', 'model__min_samples_leaf': 7, 'model__n_estimators': 100},\n",
       " mean: 0.24051, std: 0.00700, params: {'model__learning_rate': 0.3, 'model__loss': 'exponential', 'model__max_depth': 7, 'model__max_features': 'sqrt', 'model__min_samples_leaf': 10, 'model__n_estimators': 100},\n",
       " mean: 0.28170, std: 0.01045, params: {'model__learning_rate': 0.3, 'model__loss': 'exponential', 'model__max_depth': 10, 'model__max_features': 'sqrt', 'model__min_samples_leaf': 5, 'model__n_estimators': 100},\n",
       " mean: 0.27591, std: 0.00583, params: {'model__learning_rate': 0.3, 'model__loss': 'exponential', 'model__max_depth': 10, 'model__max_features': 'sqrt', 'model__min_samples_leaf': 7, 'model__n_estimators': 100},\n",
       " mean: 0.27655, std: 0.00790, params: {'model__learning_rate': 0.3, 'model__loss': 'exponential', 'model__max_depth': 10, 'model__max_features': 'sqrt', 'model__min_samples_leaf': 10, 'model__n_estimators': 100}]"
      ]
     },
     "execution_count": 67,
     "metadata": {},
     "output_type": "execute_result"
    }
   ],
   "source": [
    "GBCsmote.grid_scores_"
   ]
  },
  {
   "cell_type": "code",
   "execution_count": 72,
   "metadata": {
    "collapsed": true
   },
   "outputs": [],
   "source": [
    "import dill\n",
    "dill.dump(GBCsmote, open('GBCsmote.pkl', 'wb'))"
   ]
  },
  {
   "cell_type": "markdown",
   "metadata": {},
   "source": [
    "# Gradient Boosting (class_weight = \"balanced\")\n",
    "\n",
    "loss = 'exponential' is same as AdaBoost"
   ]
  },
  {
   "cell_type": "code",
   "execution_count": 69,
   "metadata": {},
   "outputs": [
    {
     "name": "stdout",
     "output_type": "stream",
     "text": [
      "Fitting 5 folds for each of 12 candidates, totalling 60 fits\n",
      "[CV] model__learning_rate=0.2, model__loss=exponential, model__max_depth=7, model__max_features=sqrt, model__min_samples_leaf=5, model__n_estimators=100 \n",
      "[CV] model__learning_rate=0.2, model__loss=exponential, model__max_depth=7, model__max_features=sqrt, model__min_samples_leaf=5, model__n_estimators=100 \n",
      "[CV] model__learning_rate=0.2, model__loss=exponential, model__max_depth=7, model__max_features=sqrt, model__min_samples_leaf=5, model__n_estimators=100 \n",
      "[CV] model__learning_rate=0.2, model__loss=exponential, model__max_depth=7, model__max_features=sqrt, model__min_samples_leaf=5, model__n_estimators=100 \n",
      "[CV] model__learning_rate=0.2, model__loss=exponential, model__max_depth=7, model__max_features=sqrt, model__min_samples_leaf=5, model__n_estimators=100 \n",
      "[CV]  model__learning_rate=0.2, model__loss=exponential, model__max_depth=7, model__max_features=sqrt, model__min_samples_leaf=5, model__n_estimators=100, total=10.6min\n",
      "[CV] model__learning_rate=0.2, model__loss=exponential, model__max_depth=7, model__max_features=sqrt, model__min_samples_leaf=10, model__n_estimators=100 \n",
      "[CV]  model__learning_rate=0.2, model__loss=exponential, model__max_depth=7, model__max_features=sqrt, model__min_samples_leaf=5, model__n_estimators=100, total=10.9min\n",
      "[CV] model__learning_rate=0.2, model__loss=exponential, model__max_depth=7, model__max_features=sqrt, model__min_samples_leaf=10, model__n_estimators=100 \n",
      "[CV]  model__learning_rate=0.2, model__loss=exponential, model__max_depth=7, model__max_features=sqrt, model__min_samples_leaf=5, model__n_estimators=100, total=11.0min\n",
      "[CV] model__learning_rate=0.2, model__loss=exponential, model__max_depth=7, model__max_features=sqrt, model__min_samples_leaf=10, model__n_estimators=100 \n",
      "[CV]  model__learning_rate=0.2, model__loss=exponential, model__max_depth=7, model__max_features=sqrt, model__min_samples_leaf=5, model__n_estimators=100, total=10.9min\n",
      "[CV] model__learning_rate=0.2, model__loss=exponential, model__max_depth=7, model__max_features=sqrt, model__min_samples_leaf=10, model__n_estimators=100 \n",
      "[CV]  model__learning_rate=0.2, model__loss=exponential, model__max_depth=7, model__max_features=sqrt, model__min_samples_leaf=5, model__n_estimators=100, total=11.1min\n",
      "[CV] model__learning_rate=0.2, model__loss=exponential, model__max_depth=7, model__max_features=sqrt, model__min_samples_leaf=10, model__n_estimators=100 \n",
      "[CV]  model__learning_rate=0.2, model__loss=exponential, model__max_depth=7, model__max_features=sqrt, model__min_samples_leaf=10, model__n_estimators=100, total=10.6min\n",
      "[CV] model__learning_rate=0.2, model__loss=exponential, model__max_depth=10, model__max_features=sqrt, model__min_samples_leaf=5, model__n_estimators=100 \n",
      "[CV]  model__learning_rate=0.2, model__loss=exponential, model__max_depth=7, model__max_features=sqrt, model__min_samples_leaf=10, model__n_estimators=100, total=10.6min\n",
      "[CV] model__learning_rate=0.2, model__loss=exponential, model__max_depth=10, model__max_features=sqrt, model__min_samples_leaf=5, model__n_estimators=100 \n",
      "[CV]  model__learning_rate=0.2, model__loss=exponential, model__max_depth=7, model__max_features=sqrt, model__min_samples_leaf=10, model__n_estimators=100, total=10.6min\n",
      "[CV] model__learning_rate=0.2, model__loss=exponential, model__max_depth=10, model__max_features=sqrt, model__min_samples_leaf=5, model__n_estimators=100 \n",
      "[CV]  model__learning_rate=0.2, model__loss=exponential, model__max_depth=7, model__max_features=sqrt, model__min_samples_leaf=10, model__n_estimators=100, total=10.7min\n",
      "[CV] model__learning_rate=0.2, model__loss=exponential, model__max_depth=10, model__max_features=sqrt, model__min_samples_leaf=5, model__n_estimators=100 \n",
      "[CV]  model__learning_rate=0.2, model__loss=exponential, model__max_depth=7, model__max_features=sqrt, model__min_samples_leaf=10, model__n_estimators=100, total=10.7min\n",
      "[CV] model__learning_rate=0.2, model__loss=exponential, model__max_depth=10, model__max_features=sqrt, model__min_samples_leaf=5, model__n_estimators=100 \n",
      "[CV]  model__learning_rate=0.2, model__loss=exponential, model__max_depth=10, model__max_features=sqrt, model__min_samples_leaf=5, model__n_estimators=100, total=28.7min\n",
      "[CV] model__learning_rate=0.2, model__loss=exponential, model__max_depth=10, model__max_features=sqrt, model__min_samples_leaf=10, model__n_estimators=100 \n",
      "[CV]  model__learning_rate=0.2, model__loss=exponential, model__max_depth=10, model__max_features=sqrt, model__min_samples_leaf=5, model__n_estimators=100, total=28.3min\n",
      "[CV] model__learning_rate=0.2, model__loss=exponential, model__max_depth=10, model__max_features=sqrt, model__min_samples_leaf=10, model__n_estimators=100 \n",
      "[CV]  model__learning_rate=0.2, model__loss=exponential, model__max_depth=10, model__max_features=sqrt, model__min_samples_leaf=5, model__n_estimators=100, total=29.3min\n",
      "[CV] model__learning_rate=0.2, model__loss=exponential, model__max_depth=10, model__max_features=sqrt, model__min_samples_leaf=10, model__n_estimators=100 \n",
      "[CV]  model__learning_rate=0.2, model__loss=exponential, model__max_depth=10, model__max_features=sqrt, model__min_samples_leaf=5, model__n_estimators=100, total=29.3min\n",
      "[CV] model__learning_rate=0.2, model__loss=exponential, model__max_depth=10, model__max_features=sqrt, model__min_samples_leaf=10, model__n_estimators=100 \n",
      "[CV]  model__learning_rate=0.2, model__loss=exponential, model__max_depth=10, model__max_features=sqrt, model__min_samples_leaf=5, model__n_estimators=100, total=29.3min\n",
      "[CV] model__learning_rate=0.2, model__loss=exponential, model__max_depth=10, model__max_features=sqrt, model__min_samples_leaf=10, model__n_estimators=100 \n",
      "[CV]  model__learning_rate=0.2, model__loss=exponential, model__max_depth=10, model__max_features=sqrt, model__min_samples_leaf=10, model__n_estimators=100, total=25.0min\n",
      "[CV] model__learning_rate=0.3, model__loss=exponential, model__max_depth=7, model__max_features=sqrt, model__min_samples_leaf=5, model__n_estimators=100 \n",
      "[CV]  model__learning_rate=0.2, model__loss=exponential, model__max_depth=10, model__max_features=sqrt, model__min_samples_leaf=10, model__n_estimators=100, total=25.6min\n",
      "[CV] model__learning_rate=0.3, model__loss=exponential, model__max_depth=7, model__max_features=sqrt, model__min_samples_leaf=5, model__n_estimators=100 \n",
      "[CV]  model__learning_rate=0.2, model__loss=exponential, model__max_depth=10, model__max_features=sqrt, model__min_samples_leaf=10, model__n_estimators=100, total=25.8min\n",
      "[CV] model__learning_rate=0.3, model__loss=exponential, model__max_depth=7, model__max_features=sqrt, model__min_samples_leaf=5, model__n_estimators=100 \n",
      "[CV]  model__learning_rate=0.2, model__loss=exponential, model__max_depth=10, model__max_features=sqrt, model__min_samples_leaf=10, model__n_estimators=100, total=26.1min\n",
      "[CV] model__learning_rate=0.3, model__loss=exponential, model__max_depth=7, model__max_features=sqrt, model__min_samples_leaf=5, model__n_estimators=100 \n",
      "[CV]  model__learning_rate=0.2, model__loss=exponential, model__max_depth=10, model__max_features=sqrt, model__min_samples_leaf=10, model__n_estimators=100, total=26.8min\n",
      "[CV] model__learning_rate=0.3, model__loss=exponential, model__max_depth=7, model__max_features=sqrt, model__min_samples_leaf=5, model__n_estimators=100 \n",
      "[CV]  model__learning_rate=0.3, model__loss=exponential, model__max_depth=7, model__max_features=sqrt, model__min_samples_leaf=5, model__n_estimators=100, total=11.1min\n",
      "[CV] model__learning_rate=0.3, model__loss=exponential, model__max_depth=7, model__max_features=sqrt, model__min_samples_leaf=10, model__n_estimators=100 \n",
      "[CV]  model__learning_rate=0.3, model__loss=exponential, model__max_depth=7, model__max_features=sqrt, model__min_samples_leaf=5, model__n_estimators=100, total=11.1min\n",
      "[CV] model__learning_rate=0.3, model__loss=exponential, model__max_depth=7, model__max_features=sqrt, model__min_samples_leaf=10, model__n_estimators=100 \n",
      "[CV]  model__learning_rate=0.3, model__loss=exponential, model__max_depth=7, model__max_features=sqrt, model__min_samples_leaf=5, model__n_estimators=100, total=11.3min\n",
      "[CV] model__learning_rate=0.3, model__loss=exponential, model__max_depth=7, model__max_features=sqrt, model__min_samples_leaf=10, model__n_estimators=100 \n"
     ]
    },
    {
     "name": "stdout",
     "output_type": "stream",
     "text": [
      "[CV]  model__learning_rate=0.3, model__loss=exponential, model__max_depth=7, model__max_features=sqrt, model__min_samples_leaf=5, model__n_estimators=100, total=10.9min\n",
      "[CV] model__learning_rate=0.3, model__loss=exponential, model__max_depth=7, model__max_features=sqrt, model__min_samples_leaf=10, model__n_estimators=100 \n",
      "[CV]  model__learning_rate=0.3, model__loss=exponential, model__max_depth=7, model__max_features=sqrt, model__min_samples_leaf=5, model__n_estimators=100, total=11.1min\n",
      "[CV] model__learning_rate=0.3, model__loss=exponential, model__max_depth=7, model__max_features=sqrt, model__min_samples_leaf=10, model__n_estimators=100 \n",
      "[CV]  model__learning_rate=0.3, model__loss=exponential, model__max_depth=7, model__max_features=sqrt, model__min_samples_leaf=10, model__n_estimators=100, total=10.8min\n",
      "[CV] model__learning_rate=0.3, model__loss=exponential, model__max_depth=10, model__max_features=sqrt, model__min_samples_leaf=5, model__n_estimators=100 \n",
      "[CV]  model__learning_rate=0.3, model__loss=exponential, model__max_depth=7, model__max_features=sqrt, model__min_samples_leaf=10, model__n_estimators=100, total=10.8min\n",
      "[CV] model__learning_rate=0.3, model__loss=exponential, model__max_depth=10, model__max_features=sqrt, model__min_samples_leaf=5, model__n_estimators=100 \n",
      "[CV]  model__learning_rate=0.3, model__loss=exponential, model__max_depth=7, model__max_features=sqrt, model__min_samples_leaf=10, model__n_estimators=100, total=10.8min\n",
      "[CV] model__learning_rate=0.3, model__loss=exponential, model__max_depth=10, model__max_features=sqrt, model__min_samples_leaf=5, model__n_estimators=100 \n",
      "[CV]  model__learning_rate=0.3, model__loss=exponential, model__max_depth=7, model__max_features=sqrt, model__min_samples_leaf=10, model__n_estimators=100, total=10.7min\n",
      "[CV] model__learning_rate=0.3, model__loss=exponential, model__max_depth=10, model__max_features=sqrt, model__min_samples_leaf=5, model__n_estimators=100 \n",
      "[CV]  model__learning_rate=0.3, model__loss=exponential, model__max_depth=7, model__max_features=sqrt, model__min_samples_leaf=10, model__n_estimators=100, total=10.6min\n",
      "[CV] model__learning_rate=0.3, model__loss=exponential, model__max_depth=10, model__max_features=sqrt, model__min_samples_leaf=5, model__n_estimators=100 \n",
      "[CV]  model__learning_rate=0.3, model__loss=exponential, model__max_depth=10, model__max_features=sqrt, model__min_samples_leaf=5, model__n_estimators=100, total=28.9min\n"
     ]
    },
    {
     "name": "stderr",
     "output_type": "stream",
     "text": [
      "[Parallel(n_jobs=5)]: Done  31 tasks      | elapsed: 127.4min\n"
     ]
    },
    {
     "name": "stdout",
     "output_type": "stream",
     "text": [
      "[CV] model__learning_rate=0.3, model__loss=exponential, model__max_depth=10, model__max_features=sqrt, model__min_samples_leaf=10, model__n_estimators=100 \n",
      "[CV]  model__learning_rate=0.3, model__loss=exponential, model__max_depth=10, model__max_features=sqrt, model__min_samples_leaf=5, model__n_estimators=100, total=28.6min\n",
      "[CV] model__learning_rate=0.3, model__loss=exponential, model__max_depth=10, model__max_features=sqrt, model__min_samples_leaf=10, model__n_estimators=100 \n",
      "[CV]  model__learning_rate=0.3, model__loss=exponential, model__max_depth=10, model__max_features=sqrt, model__min_samples_leaf=5, model__n_estimators=100, total=27.9min\n",
      "[CV] model__learning_rate=0.3, model__loss=exponential, model__max_depth=10, model__max_features=sqrt, model__min_samples_leaf=10, model__n_estimators=100 \n",
      "[CV]  model__learning_rate=0.3, model__loss=exponential, model__max_depth=10, model__max_features=sqrt, model__min_samples_leaf=5, model__n_estimators=100, total=28.3min\n",
      "[CV] model__learning_rate=0.3, model__loss=exponential, model__max_depth=10, model__max_features=sqrt, model__min_samples_leaf=10, model__n_estimators=100 \n",
      "[CV]  model__learning_rate=0.3, model__loss=exponential, model__max_depth=10, model__max_features=sqrt, model__min_samples_leaf=5, model__n_estimators=100, total=28.7min\n",
      "[CV] model__learning_rate=0.3, model__loss=exponential, model__max_depth=10, model__max_features=sqrt, model__min_samples_leaf=10, model__n_estimators=100 \n",
      "[CV]  model__learning_rate=0.3, model__loss=exponential, model__max_depth=10, model__max_features=sqrt, model__min_samples_leaf=10, model__n_estimators=100, total=26.3min\n",
      "[CV] model__learning_rate=0.4, model__loss=exponential, model__max_depth=7, model__max_features=sqrt, model__min_samples_leaf=5, model__n_estimators=100 \n",
      "[CV]  model__learning_rate=0.3, model__loss=exponential, model__max_depth=10, model__max_features=sqrt, model__min_samples_leaf=10, model__n_estimators=100, total=26.1min\n",
      "[CV] model__learning_rate=0.4, model__loss=exponential, model__max_depth=7, model__max_features=sqrt, model__min_samples_leaf=5, model__n_estimators=100 \n",
      "[CV]  model__learning_rate=0.3, model__loss=exponential, model__max_depth=10, model__max_features=sqrt, model__min_samples_leaf=10, model__n_estimators=100, total=25.9min\n",
      "[CV] model__learning_rate=0.4, model__loss=exponential, model__max_depth=7, model__max_features=sqrt, model__min_samples_leaf=5, model__n_estimators=100 \n",
      "[CV]  model__learning_rate=0.3, model__loss=exponential, model__max_depth=10, model__max_features=sqrt, model__min_samples_leaf=10, model__n_estimators=100, total=26.9min\n",
      "[CV] model__learning_rate=0.4, model__loss=exponential, model__max_depth=7, model__max_features=sqrt, model__min_samples_leaf=5, model__n_estimators=100 \n",
      "[CV]  model__learning_rate=0.3, model__loss=exponential, model__max_depth=10, model__max_features=sqrt, model__min_samples_leaf=10, model__n_estimators=100, total=25.8min\n",
      "[CV] model__learning_rate=0.4, model__loss=exponential, model__max_depth=7, model__max_features=sqrt, model__min_samples_leaf=5, model__n_estimators=100 \n",
      "[CV]  model__learning_rate=0.4, model__loss=exponential, model__max_depth=7, model__max_features=sqrt, model__min_samples_leaf=5, model__n_estimators=100, total=11.0min\n",
      "[CV] model__learning_rate=0.4, model__loss=exponential, model__max_depth=7, model__max_features=sqrt, model__min_samples_leaf=10, model__n_estimators=100 \n",
      "[CV]  model__learning_rate=0.4, model__loss=exponential, model__max_depth=7, model__max_features=sqrt, model__min_samples_leaf=5, model__n_estimators=100, total=11.3min\n",
      "[CV] model__learning_rate=0.4, model__loss=exponential, model__max_depth=7, model__max_features=sqrt, model__min_samples_leaf=10, model__n_estimators=100 \n",
      "[CV]  model__learning_rate=0.4, model__loss=exponential, model__max_depth=7, model__max_features=sqrt, model__min_samples_leaf=5, model__n_estimators=100, total=11.1min\n",
      "[CV] model__learning_rate=0.4, model__loss=exponential, model__max_depth=7, model__max_features=sqrt, model__min_samples_leaf=10, model__n_estimators=100 \n",
      "[CV]  model__learning_rate=0.4, model__loss=exponential, model__max_depth=7, model__max_features=sqrt, model__min_samples_leaf=5, model__n_estimators=100, total=11.0min\n",
      "[CV] model__learning_rate=0.4, model__loss=exponential, model__max_depth=7, model__max_features=sqrt, model__min_samples_leaf=10, model__n_estimators=100 \n",
      "[CV]  model__learning_rate=0.4, model__loss=exponential, model__max_depth=7, model__max_features=sqrt, model__min_samples_leaf=5, model__n_estimators=100, total=11.1min\n",
      "[CV] model__learning_rate=0.4, model__loss=exponential, model__max_depth=7, model__max_features=sqrt, model__min_samples_leaf=10, model__n_estimators=100 \n",
      "[CV]  model__learning_rate=0.4, model__loss=exponential, model__max_depth=7, model__max_features=sqrt, model__min_samples_leaf=10, model__n_estimators=100, total=10.5min\n",
      "[CV] model__learning_rate=0.4, model__loss=exponential, model__max_depth=10, model__max_features=sqrt, model__min_samples_leaf=5, model__n_estimators=100 \n",
      "[CV]  model__learning_rate=0.4, model__loss=exponential, model__max_depth=7, model__max_features=sqrt, model__min_samples_leaf=10, model__n_estimators=100, total=10.5min\n",
      "[CV] model__learning_rate=0.4, model__loss=exponential, model__max_depth=10, model__max_features=sqrt, model__min_samples_leaf=5, model__n_estimators=100 \n",
      "[CV]  model__learning_rate=0.4, model__loss=exponential, model__max_depth=7, model__max_features=sqrt, model__min_samples_leaf=10, model__n_estimators=100, total=10.7min\n",
      "[CV] model__learning_rate=0.4, model__loss=exponential, model__max_depth=10, model__max_features=sqrt, model__min_samples_leaf=5, model__n_estimators=100 \n",
      "[CV]  model__learning_rate=0.4, model__loss=exponential, model__max_depth=7, model__max_features=sqrt, model__min_samples_leaf=10, model__n_estimators=100, total=10.5min\n",
      "[CV] model__learning_rate=0.4, model__loss=exponential, model__max_depth=10, model__max_features=sqrt, model__min_samples_leaf=5, model__n_estimators=100 \n",
      "[CV]  model__learning_rate=0.4, model__loss=exponential, model__max_depth=7, model__max_features=sqrt, model__min_samples_leaf=10, model__n_estimators=100, total=10.5min\n",
      "[CV] model__learning_rate=0.4, model__loss=exponential, model__max_depth=10, model__max_features=sqrt, model__min_samples_leaf=5, model__n_estimators=100 \n",
      "[CV]  model__learning_rate=0.4, model__loss=exponential, model__max_depth=10, model__max_features=sqrt, model__min_samples_leaf=5, model__n_estimators=100, total=29.1min\n",
      "[CV] model__learning_rate=0.4, model__loss=exponential, model__max_depth=10, model__max_features=sqrt, model__min_samples_leaf=10, model__n_estimators=100 \n",
      "[CV]  model__learning_rate=0.4, model__loss=exponential, model__max_depth=10, model__max_features=sqrt, model__min_samples_leaf=5, model__n_estimators=100, total=29.9min\n",
      "[CV] model__learning_rate=0.4, model__loss=exponential, model__max_depth=10, model__max_features=sqrt, model__min_samples_leaf=10, model__n_estimators=100 \n",
      "[CV]  model__learning_rate=0.4, model__loss=exponential, model__max_depth=10, model__max_features=sqrt, model__min_samples_leaf=5, model__n_estimators=100, total=29.5min\n",
      "[CV] model__learning_rate=0.4, model__loss=exponential, model__max_depth=10, model__max_features=sqrt, model__min_samples_leaf=10, model__n_estimators=100 \n",
      "[CV]  model__learning_rate=0.4, model__loss=exponential, model__max_depth=10, model__max_features=sqrt, model__min_samples_leaf=5, model__n_estimators=100, total=30.2min\n",
      "[CV] model__learning_rate=0.4, model__loss=exponential, model__max_depth=10, model__max_features=sqrt, model__min_samples_leaf=10, model__n_estimators=100 \n",
      "[CV]  model__learning_rate=0.4, model__loss=exponential, model__max_depth=10, model__max_features=sqrt, model__min_samples_leaf=5, model__n_estimators=100, total=31.3min\n",
      "[CV] model__learning_rate=0.4, model__loss=exponential, model__max_depth=10, model__max_features=sqrt, model__min_samples_leaf=10, model__n_estimators=100 \n",
      "[CV]  model__learning_rate=0.4, model__loss=exponential, model__max_depth=10, model__max_features=sqrt, model__min_samples_leaf=10, model__n_estimators=100, total=25.5min\n",
      "[CV]  model__learning_rate=0.4, model__loss=exponential, model__max_depth=10, model__max_features=sqrt, model__min_samples_leaf=10, model__n_estimators=100, total=26.0min\n"
     ]
    },
    {
     "name": "stdout",
     "output_type": "stream",
     "text": [
      "[CV]  model__learning_rate=0.4, model__loss=exponential, model__max_depth=10, model__max_features=sqrt, model__min_samples_leaf=10, model__n_estimators=100, total=25.7min\n",
      "[CV]  model__learning_rate=0.4, model__loss=exponential, model__max_depth=10, model__max_features=sqrt, model__min_samples_leaf=10, model__n_estimators=100, total=25.3min\n",
      "[CV]  model__learning_rate=0.4, model__loss=exponential, model__max_depth=10, model__max_features=sqrt, model__min_samples_leaf=10, model__n_estimators=100, total=24.3min\n"
     ]
    },
    {
     "name": "stderr",
     "output_type": "stream",
     "text": [
      "[Parallel(n_jobs=5)]: Done  60 out of  60 | elapsed: 233.9min finished\n"
     ]
    },
    {
     "name": "stdout",
     "output_type": "stream",
     "text": [
      "CPU times: user 13min 57s, sys: 1min 34s, total: 15min 31s\n",
      "Wall time: 4h 5min 5s\n"
     ]
    }
   ],
   "source": [
    "%%time\n",
    "from sklearn.ensemble import GradientBoostingClassifier\n",
    "from sklearn.model_selection import GridSearchCV\n",
    "from sklearn.pipeline import Pipeline as ppl\n",
    "# Steps for pipeline\n",
    "steps = [(\"model\", GradientBoostingClassifier(random_state=40))]\n",
    "pipe = ppl(steps)\n",
    "\n",
    "# Parameters\n",
    "param_grid = dict(model__loss = ['exponential'],\n",
    "                  model__learning_rate = [0.2, 0.3, 0.4],\n",
    "                  model__n_estimators = [100],\n",
    "                  model__max_depth = [7, 10],\n",
    "                  model__min_samples_leaf = [5, 10],\n",
    "                  model__max_features = ['sqrt']\n",
    "                  )\n",
    "# For CV in grid search\n",
    "cv = StratifiedShuffleSplit(n_splits = 5, test_size = 0.2, random_state = 20)\n",
    "\n",
    "# Setting up the grid search\n",
    "GBCbal = GridSearchCV(pipe, param_grid = param_grid, \n",
    "                           verbose = 2,\n",
    "                           cv = cv,\n",
    "                          n_jobs=5,\n",
    "                          scoring='average_precision',\n",
    "                          iid=False)\n",
    "# Training using CV\n",
    "GBCbal.fit(X_train, y_train)"
   ]
  },
  {
   "cell_type": "code",
   "execution_count": 74,
   "metadata": {},
   "outputs": [
    {
     "data": {
      "text/plain": [
       "0.30957385774839202"
      ]
     },
     "execution_count": 74,
     "metadata": {},
     "output_type": "execute_result"
    }
   ],
   "source": [
    "GBCbal.best_score_"
   ]
  },
  {
   "cell_type": "code",
   "execution_count": 75,
   "metadata": {},
   "outputs": [
    {
     "data": {
      "text/plain": [
       "{'model__learning_rate': 0.2,\n",
       " 'model__loss': 'exponential',\n",
       " 'model__max_depth': 10,\n",
       " 'model__max_features': 'sqrt',\n",
       " 'model__min_samples_leaf': 10,\n",
       " 'model__n_estimators': 100}"
      ]
     },
     "execution_count": 75,
     "metadata": {},
     "output_type": "execute_result"
    }
   ],
   "source": [
    "GBCbal.best_params_"
   ]
  },
  {
   "cell_type": "code",
   "execution_count": 76,
   "metadata": {},
   "outputs": [
    {
     "name": "stderr",
     "output_type": "stream",
     "text": [
      "//anaconda/lib/python3.6/site-packages/sklearn/model_selection/_search.py:667: DeprecationWarning: The grid_scores_ attribute was deprecated in version 0.18 in favor of the more elaborate cv_results_ attribute. The grid_scores_ attribute will not be available from 0.20\n",
      "  DeprecationWarning)\n"
     ]
    },
    {
     "data": {
      "text/plain": [
       "[mean: 0.28138, std: 0.00930, params: {'model__learning_rate': 0.2, 'model__loss': 'exponential', 'model__max_depth': 7, 'model__max_features': 'sqrt', 'model__min_samples_leaf': 5, 'model__n_estimators': 100},\n",
       " mean: 0.28111, std: 0.00706, params: {'model__learning_rate': 0.2, 'model__loss': 'exponential', 'model__max_depth': 7, 'model__max_features': 'sqrt', 'model__min_samples_leaf': 10, 'model__n_estimators': 100},\n",
       " mean: 0.30557, std: 0.00761, params: {'model__learning_rate': 0.2, 'model__loss': 'exponential', 'model__max_depth': 10, 'model__max_features': 'sqrt', 'model__min_samples_leaf': 5, 'model__n_estimators': 100},\n",
       " mean: 0.30957, std: 0.00554, params: {'model__learning_rate': 0.2, 'model__loss': 'exponential', 'model__max_depth': 10, 'model__max_features': 'sqrt', 'model__min_samples_leaf': 10, 'model__n_estimators': 100},\n",
       " mean: 0.27972, std: 0.00861, params: {'model__learning_rate': 0.3, 'model__loss': 'exponential', 'model__max_depth': 7, 'model__max_features': 'sqrt', 'model__min_samples_leaf': 5, 'model__n_estimators': 100},\n",
       " mean: 0.28313, std: 0.00400, params: {'model__learning_rate': 0.3, 'model__loss': 'exponential', 'model__max_depth': 7, 'model__max_features': 'sqrt', 'model__min_samples_leaf': 10, 'model__n_estimators': 100},\n",
       " mean: 0.29913, std: 0.00388, params: {'model__learning_rate': 0.3, 'model__loss': 'exponential', 'model__max_depth': 10, 'model__max_features': 'sqrt', 'model__min_samples_leaf': 5, 'model__n_estimators': 100},\n",
       " mean: 0.30541, std: 0.00750, params: {'model__learning_rate': 0.3, 'model__loss': 'exponential', 'model__max_depth': 10, 'model__max_features': 'sqrt', 'model__min_samples_leaf': 10, 'model__n_estimators': 100},\n",
       " mean: 0.27583, std: 0.00405, params: {'model__learning_rate': 0.4, 'model__loss': 'exponential', 'model__max_depth': 7, 'model__max_features': 'sqrt', 'model__min_samples_leaf': 5, 'model__n_estimators': 100},\n",
       " mean: 0.27397, std: 0.00548, params: {'model__learning_rate': 0.4, 'model__loss': 'exponential', 'model__max_depth': 7, 'model__max_features': 'sqrt', 'model__min_samples_leaf': 10, 'model__n_estimators': 100},\n",
       " mean: 0.28670, std: 0.00204, params: {'model__learning_rate': 0.4, 'model__loss': 'exponential', 'model__max_depth': 10, 'model__max_features': 'sqrt', 'model__min_samples_leaf': 5, 'model__n_estimators': 100},\n",
       " mean: 0.28620, std: 0.00502, params: {'model__learning_rate': 0.4, 'model__loss': 'exponential', 'model__max_depth': 10, 'model__max_features': 'sqrt', 'model__min_samples_leaf': 10, 'model__n_estimators': 100}]"
      ]
     },
     "execution_count": 76,
     "metadata": {},
     "output_type": "execute_result"
    }
   ],
   "source": [
    "GBCbal.grid_scores_"
   ]
  },
  {
   "cell_type": "code",
   "execution_count": 73,
   "metadata": {
    "collapsed": true
   },
   "outputs": [],
   "source": [
    "import dill\n",
    "dill.dump(GBCbal, open('GBCbal.pkl', 'wb'))"
   ]
  },
  {
   "cell_type": "markdown",
   "metadata": {},
   "source": [
    "# Extremely Randomized Trees (class_weight = \"balanced\")"
   ]
  },
  {
   "cell_type": "code",
   "execution_count": 70,
   "metadata": {},
   "outputs": [
    {
     "name": "stdout",
     "output_type": "stream",
     "text": [
      "Fitting 5 folds for each of 3 candidates, totalling 15 fits\n",
      "[CV] model__class_weight=balanced, model__max_features=sqrt, model__min_samples_leaf=2, model__n_estimators=100 \n",
      "[CV] model__class_weight=balanced, model__max_features=sqrt, model__min_samples_leaf=2, model__n_estimators=100 \n",
      "[CV] model__class_weight=balanced, model__max_features=sqrt, model__min_samples_leaf=2, model__n_estimators=100 \n",
      "[CV] model__class_weight=balanced, model__max_features=sqrt, model__min_samples_leaf=2, model__n_estimators=100 \n",
      "[CV] model__class_weight=balanced, model__max_features=sqrt, model__min_samples_leaf=2, model__n_estimators=100 \n",
      "[CV]  model__class_weight=balanced, model__max_features=sqrt, model__min_samples_leaf=2, model__n_estimators=100, total=15.8min\n",
      "[CV]  model__class_weight=balanced, model__max_features=sqrt, model__min_samples_leaf=2, model__n_estimators=100, total=15.8min\n",
      "[CV] model__class_weight=balanced, model__max_features=sqrt, model__min_samples_leaf=4, model__n_estimators=100 \n",
      "[CV] model__class_weight=balanced, model__max_features=sqrt, model__min_samples_leaf=4, model__n_estimators=100 \n",
      "[CV]  model__class_weight=balanced, model__max_features=sqrt, model__min_samples_leaf=2, model__n_estimators=100, total=16.2min\n",
      "[CV] model__class_weight=balanced, model__max_features=sqrt, model__min_samples_leaf=4, model__n_estimators=100 \n",
      "[CV]  model__class_weight=balanced, model__max_features=sqrt, model__min_samples_leaf=2, model__n_estimators=100, total=16.5min\n",
      "[CV] model__class_weight=balanced, model__max_features=sqrt, model__min_samples_leaf=4, model__n_estimators=100 \n",
      "[CV]  model__class_weight=balanced, model__max_features=sqrt, model__min_samples_leaf=2, model__n_estimators=100, total=17.5min\n",
      "[CV] model__class_weight=balanced, model__max_features=sqrt, model__min_samples_leaf=4, model__n_estimators=100 \n",
      "[CV]  model__class_weight=balanced, model__max_features=sqrt, model__min_samples_leaf=4, model__n_estimators=100, total=16.3min\n",
      "[CV] model__class_weight=balanced, model__max_features=sqrt, model__min_samples_leaf=6, model__n_estimators=100 \n",
      "[CV]  model__class_weight=balanced, model__max_features=sqrt, model__min_samples_leaf=4, model__n_estimators=100, total=16.5min\n",
      "[CV] model__class_weight=balanced, model__max_features=sqrt, model__min_samples_leaf=6, model__n_estimators=100 \n",
      "[CV]  model__class_weight=balanced, model__max_features=sqrt, model__min_samples_leaf=4, model__n_estimators=100, total=16.2min\n",
      "[CV] model__class_weight=balanced, model__max_features=sqrt, model__min_samples_leaf=6, model__n_estimators=100 \n",
      "[CV]  model__class_weight=balanced, model__max_features=sqrt, model__min_samples_leaf=4, model__n_estimators=100, total=16.2min\n",
      "[CV] model__class_weight=balanced, model__max_features=sqrt, model__min_samples_leaf=6, model__n_estimators=100 \n",
      "[CV]  model__class_weight=balanced, model__max_features=sqrt, model__min_samples_leaf=4, model__n_estimators=100, total=15.9min\n",
      "[CV] model__class_weight=balanced, model__max_features=sqrt, model__min_samples_leaf=6, model__n_estimators=100 \n",
      "[CV]  model__class_weight=balanced, model__max_features=sqrt, model__min_samples_leaf=6, model__n_estimators=100, total=15.8min\n",
      "[CV]  model__class_weight=balanced, model__max_features=sqrt, model__min_samples_leaf=6, model__n_estimators=100, total=15.7min\n",
      "[CV]  model__class_weight=balanced, model__max_features=sqrt, model__min_samples_leaf=6, model__n_estimators=100, total=16.0min\n",
      "[CV]  model__class_weight=balanced, model__max_features=sqrt, model__min_samples_leaf=6, model__n_estimators=100, total=15.9min\n",
      "[CV]  model__class_weight=balanced, model__max_features=sqrt, model__min_samples_leaf=6, model__n_estimators=100, total=15.9min\n"
     ]
    },
    {
     "name": "stderr",
     "output_type": "stream",
     "text": [
      "[Parallel(n_jobs=5)]: Done  15 out of  15 | elapsed: 50.8min finished\n"
     ]
    },
    {
     "name": "stdout",
     "output_type": "stream",
     "text": [
      "CPU times: user 8min 57s, sys: 9.96 s, total: 9min 7s\n",
      "Wall time: 59min 6s\n"
     ]
    }
   ],
   "source": [
    "%%time\n",
    "from sklearn.ensemble import ExtraTreesClassifier\n",
    "from sklearn.model_selection import GridSearchCV\n",
    "from sklearn.pipeline import Pipeline as ppl\n",
    "# Steps for pipeline\n",
    "steps = [(\"model\", ExtraTreesClassifier(random_state=40))]\n",
    "pipe = ppl(steps)\n",
    "\n",
    "# Parameters\n",
    "param_grid = dict(model__n_estimators = [100],\n",
    "                  model__max_features = ['sqrt'],\n",
    "                  model__min_samples_leaf = [2, 4, 6],\n",
    "                 model__class_weight = ['balanced'])\n",
    "# For CV in grid search\n",
    "cv = StratifiedShuffleSplit(n_splits = 5, test_size = 0.2, random_state = 20)\n",
    "\n",
    "# Setting up the grid search\n",
    "ETbal = GridSearchCV(pipe, param_grid = param_grid, \n",
    "                           verbose = 2,\n",
    "                           cv = cv,\n",
    "                          n_jobs=5,\n",
    "                          scoring='average_precision',\n",
    "                          iid=False)\n",
    "# Training using CV\n",
    "ETbal.fit(X_train, y_train)"
   ]
  },
  {
   "cell_type": "code",
   "execution_count": 78,
   "metadata": {},
   "outputs": [
    {
     "data": {
      "text/plain": [
       "0.35594086315875367"
      ]
     },
     "execution_count": 78,
     "metadata": {},
     "output_type": "execute_result"
    }
   ],
   "source": [
    "ETbal.best_score_"
   ]
  },
  {
   "cell_type": "code",
   "execution_count": 79,
   "metadata": {},
   "outputs": [
    {
     "data": {
      "text/plain": [
       "{'model__class_weight': 'balanced',\n",
       " 'model__max_features': 'sqrt',\n",
       " 'model__min_samples_leaf': 2,\n",
       " 'model__n_estimators': 100}"
      ]
     },
     "execution_count": 79,
     "metadata": {},
     "output_type": "execute_result"
    }
   ],
   "source": [
    "ETbal.best_params_"
   ]
  },
  {
   "cell_type": "code",
   "execution_count": 80,
   "metadata": {},
   "outputs": [
    {
     "name": "stderr",
     "output_type": "stream",
     "text": [
      "//anaconda/lib/python3.6/site-packages/sklearn/model_selection/_search.py:667: DeprecationWarning: The grid_scores_ attribute was deprecated in version 0.18 in favor of the more elaborate cv_results_ attribute. The grid_scores_ attribute will not be available from 0.20\n",
      "  DeprecationWarning)\n"
     ]
    },
    {
     "data": {
      "text/plain": [
       "[mean: 0.35594, std: 0.01148, params: {'model__class_weight': 'balanced', 'model__max_features': 'sqrt', 'model__min_samples_leaf': 2, 'model__n_estimators': 100},\n",
       " mean: 0.35178, std: 0.01083, params: {'model__class_weight': 'balanced', 'model__max_features': 'sqrt', 'model__min_samples_leaf': 4, 'model__n_estimators': 100},\n",
       " mean: 0.34658, std: 0.00947, params: {'model__class_weight': 'balanced', 'model__max_features': 'sqrt', 'model__min_samples_leaf': 6, 'model__n_estimators': 100}]"
      ]
     },
     "execution_count": 80,
     "metadata": {},
     "output_type": "execute_result"
    }
   ],
   "source": [
    "ETbal.grid_scores_"
   ]
  },
  {
   "cell_type": "code",
   "execution_count": 81,
   "metadata": {
    "collapsed": true
   },
   "outputs": [],
   "source": [
    "import dill\n",
    "dill.dump(ETbal, open('ETbal.pkl', 'wb'))"
   ]
  },
  {
   "cell_type": "markdown",
   "metadata": {},
   "source": [
    "# Extremely Randomized Trees (SMOTE)"
   ]
  },
  {
   "cell_type": "code",
   "execution_count": 84,
   "metadata": {},
   "outputs": [
    {
     "name": "stdout",
     "output_type": "stream",
     "text": [
      "Fitting 5 folds for each of 3 candidates, totalling 15 fits\n",
      "[CV] model__max_features=sqrt, model__min_samples_leaf=2, model__n_estimators=100 \n",
      "[CV] model__max_features=sqrt, model__min_samples_leaf=2, model__n_estimators=100 \n",
      "[CV] model__max_features=sqrt, model__min_samples_leaf=2, model__n_estimators=100 \n",
      "[CV] model__max_features=sqrt, model__min_samples_leaf=2, model__n_estimators=100 \n",
      "[CV] model__max_features=sqrt, model__min_samples_leaf=2, model__n_estimators=100 \n",
      "[CV] model__max_features=sqrt, model__min_samples_leaf=4, model__n_estimators=100 \n",
      "[CV] model__max_features=sqrt, model__min_samples_leaf=4, model__n_estimators=100 \n",
      "[CV] model__max_features=sqrt, model__min_samples_leaf=4, model__n_estimators=100 \n",
      "[CV]  model__max_features=sqrt, model__min_samples_leaf=4, model__n_estimators=100, total=78.9min\n",
      "[CV] model__max_features=sqrt, model__min_samples_leaf=4, model__n_estimators=100 \n",
      "[CV]  model__max_features=sqrt, model__min_samples_leaf=4, model__n_estimators=100, total=80.7min\n",
      "[CV]  model__max_features=sqrt, model__min_samples_leaf=4, model__n_estimators=100, total=80.6min\n",
      "[CV] model__max_features=sqrt, model__min_samples_leaf=4, model__n_estimators=100 \n",
      "[CV] model__max_features=sqrt, model__min_samples_leaf=6, model__n_estimators=100 \n",
      "[CV]  model__max_features=sqrt, model__min_samples_leaf=2, model__n_estimators=100, total=82.0min\n",
      "[CV] model__max_features=sqrt, model__min_samples_leaf=6, model__n_estimators=100 \n",
      "[CV]  model__max_features=sqrt, model__min_samples_leaf=2, model__n_estimators=100, total=82.8min\n",
      "[CV] model__max_features=sqrt, model__min_samples_leaf=6, model__n_estimators=100 \n",
      "[CV]  model__max_features=sqrt, model__min_samples_leaf=2, model__n_estimators=100, total=83.6min\n",
      "[CV] model__max_features=sqrt, model__min_samples_leaf=6, model__n_estimators=100 \n",
      "[CV]  model__max_features=sqrt, model__min_samples_leaf=2, model__n_estimators=100, total=84.5min\n",
      "[CV] model__max_features=sqrt, model__min_samples_leaf=6, model__n_estimators=100 \n",
      "[CV]  model__max_features=sqrt, model__min_samples_leaf=2, model__n_estimators=100, total=86.3min\n"
     ]
    },
    {
     "name": "stderr",
     "output_type": "stream",
     "text": [
      "[Parallel(n_jobs=-1)]: Done   8 out of  15 | elapsed: 87.6min remaining: 76.6min\n"
     ]
    },
    {
     "name": "stdout",
     "output_type": "stream",
     "text": [
      "[CV]  model__max_features=sqrt, model__min_samples_leaf=6, model__n_estimators=100, total=57.3min\n",
      "[CV]  model__max_features=sqrt, model__min_samples_leaf=6, model__n_estimators=100, total=58.8min\n",
      "[CV]  model__max_features=sqrt, model__min_samples_leaf=4, model__n_estimators=100, total=60.8min\n",
      "[CV]  model__max_features=sqrt, model__min_samples_leaf=6, model__n_estimators=100, total=56.9min\n",
      "[CV]  model__max_features=sqrt, model__min_samples_leaf=4, model__n_estimators=100, total=59.8min\n",
      "[CV]  model__max_features=sqrt, model__min_samples_leaf=6, model__n_estimators=100, total=57.0min\n",
      "[CV]  model__max_features=sqrt, model__min_samples_leaf=6, model__n_estimators=100, total=56.2min\n"
     ]
    },
    {
     "name": "stderr",
     "output_type": "stream",
     "text": [
      "[Parallel(n_jobs=-1)]: Done  15 out of  15 | elapsed: 142.5min finished\n"
     ]
    },
    {
     "name": "stdout",
     "output_type": "stream",
     "text": [
      "CPU times: user 20min 22s, sys: 40.6 s, total: 21min 3s\n",
      "Wall time: 2h 42min 18s\n"
     ]
    }
   ],
   "source": [
    "%%time\n",
    "from sklearn.ensemble import ExtraTreesClassifier\n",
    "from sklearn.model_selection import GridSearchCV\n",
    "from imblearn.pipeline import Pipeline as pl\n",
    "from imblearn.over_sampling import SMOTE\n",
    "\n",
    "# Steps for pipeline\n",
    "steps = [(\"smote\", SMOTE(random_state=30, kind='regular')),\n",
    "         (\"model\", ExtraTreesClassifier(random_state=40))]\n",
    "pipe = pl(steps)\n",
    "\n",
    "# Parameters\n",
    "param_grid = dict(model__n_estimators = [100],\n",
    "                  model__max_features = ['sqrt'],\n",
    "                  model__min_samples_leaf = [2, 4, 6])\n",
    "# For CV in grid search\n",
    "cv = StratifiedShuffleSplit(n_splits = 5, test_size = 0.2, random_state = 20)\n",
    "\n",
    "# Setting up the grid search\n",
    "ETsmote = GridSearchCV(pipe, param_grid = param_grid, \n",
    "                           verbose = 2,\n",
    "                           cv = cv,\n",
    "                          n_jobs=-1,\n",
    "                          scoring='average_precision',\n",
    "                          iid=False)\n",
    "# Training using CV\n",
    "ETsmote.fit(X_train, y_train)"
   ]
  },
  {
   "cell_type": "code",
   "execution_count": 85,
   "metadata": {},
   "outputs": [
    {
     "data": {
      "text/plain": [
       "0.35885632640998577"
      ]
     },
     "execution_count": 85,
     "metadata": {},
     "output_type": "execute_result"
    }
   ],
   "source": [
    "ETsmote.best_score_"
   ]
  },
  {
   "cell_type": "code",
   "execution_count": 86,
   "metadata": {},
   "outputs": [
    {
     "data": {
      "text/plain": [
       "{'model__max_features': 'sqrt',\n",
       " 'model__min_samples_leaf': 2,\n",
       " 'model__n_estimators': 100}"
      ]
     },
     "execution_count": 86,
     "metadata": {},
     "output_type": "execute_result"
    }
   ],
   "source": [
    "ETsmote.best_params_"
   ]
  },
  {
   "cell_type": "code",
   "execution_count": 87,
   "metadata": {},
   "outputs": [
    {
     "name": "stderr",
     "output_type": "stream",
     "text": [
      "//anaconda/lib/python3.6/site-packages/sklearn/model_selection/_search.py:667: DeprecationWarning: The grid_scores_ attribute was deprecated in version 0.18 in favor of the more elaborate cv_results_ attribute. The grid_scores_ attribute will not be available from 0.20\n",
      "  DeprecationWarning)\n"
     ]
    },
    {
     "data": {
      "text/plain": [
       "[mean: 0.35886, std: 0.01105, params: {'model__max_features': 'sqrt', 'model__min_samples_leaf': 2, 'model__n_estimators': 100},\n",
       " mean: 0.35745, std: 0.01138, params: {'model__max_features': 'sqrt', 'model__min_samples_leaf': 4, 'model__n_estimators': 100},\n",
       " mean: 0.35142, std: 0.01022, params: {'model__max_features': 'sqrt', 'model__min_samples_leaf': 6, 'model__n_estimators': 100}]"
      ]
     },
     "execution_count": 87,
     "metadata": {},
     "output_type": "execute_result"
    }
   ],
   "source": [
    "ETsmote.grid_scores_"
   ]
  },
  {
   "cell_type": "code",
   "execution_count": 89,
   "metadata": {
    "collapsed": true
   },
   "outputs": [],
   "source": [
    "import dill\n",
    "dill.dump(ETsmote, open('ETsmote.pkl', 'wb'))"
   ]
  },
  {
   "cell_type": "markdown",
   "metadata": {},
   "source": [
    "# Extremely Randomized Trees (RUS)"
   ]
  },
  {
   "cell_type": "code",
   "execution_count": 91,
   "metadata": {},
   "outputs": [
    {
     "name": "stdout",
     "output_type": "stream",
     "text": [
      "Fitting 5 folds for each of 3 candidates, totalling 15 fits\n",
      "[CV] model__max_features=sqrt, model__min_samples_leaf=2, model__n_estimators=100 \n",
      "[CV] model__max_features=sqrt, model__min_samples_leaf=2, model__n_estimators=100 \n",
      "[CV] model__max_features=sqrt, model__min_samples_leaf=2, model__n_estimators=100 \n",
      "[CV] model__max_features=sqrt, model__min_samples_leaf=2, model__n_estimators=100 \n",
      "[CV] model__max_features=sqrt, model__min_samples_leaf=2, model__n_estimators=100 \n",
      "[CV] model__max_features=sqrt, model__min_samples_leaf=4, model__n_estimators=100 \n",
      "[CV] model__max_features=sqrt, model__min_samples_leaf=4, model__n_estimators=100 \n",
      "[CV]  model__max_features=sqrt, model__min_samples_leaf=2, model__n_estimators=100, total=  23.3s\n",
      "[CV] model__max_features=sqrt, model__min_samples_leaf=4, model__n_estimators=100 \n",
      "[CV]  model__max_features=sqrt, model__min_samples_leaf=2, model__n_estimators=100, total=  29.8s\n",
      "[CV] model__max_features=sqrt, model__min_samples_leaf=4, model__n_estimators=100 \n",
      "[CV]  model__max_features=sqrt, model__min_samples_leaf=2, model__n_estimators=100, total=  39.6s\n",
      "[CV] model__max_features=sqrt, model__min_samples_leaf=4, model__n_estimators=100 \n",
      "[CV]  model__max_features=sqrt, model__min_samples_leaf=2, model__n_estimators=100, total=  38.8s\n",
      "[CV] model__max_features=sqrt, model__min_samples_leaf=6, model__n_estimators=100 \n",
      "[CV]  model__max_features=sqrt, model__min_samples_leaf=2, model__n_estimators=100, total=  41.0s\n",
      "[CV]  model__max_features=sqrt, model__min_samples_leaf=4, model__n_estimators=100, total=  40.4s\n",
      "[CV] model__max_features=sqrt, model__min_samples_leaf=6, model__n_estimators=100 \n",
      "[CV] model__max_features=sqrt, model__min_samples_leaf=6, model__n_estimators=100 \n",
      "[CV]  model__max_features=sqrt, model__min_samples_leaf=4, model__n_estimators=100, total=  39.6s\n",
      "[CV] model__max_features=sqrt, model__min_samples_leaf=6, model__n_estimators=100 \n",
      "[CV]  model__max_features=sqrt, model__min_samples_leaf=4, model__n_estimators=100, total=  35.1s\n",
      "[CV] model__max_features=sqrt, model__min_samples_leaf=6, model__n_estimators=100 \n",
      "[CV]  model__max_features=sqrt, model__min_samples_leaf=4, model__n_estimators=100, total=  39.5s\n",
      "[CV]  model__max_features=sqrt, model__min_samples_leaf=4, model__n_estimators=100, total=  31.3s\n"
     ]
    },
    {
     "name": "stderr",
     "output_type": "stream",
     "text": [
      "[Parallel(n_jobs=7)]: Done  10 out of  15 | elapsed:  2.5min remaining:  1.2min\n"
     ]
    },
    {
     "name": "stdout",
     "output_type": "stream",
     "text": [
      "[CV]  model__max_features=sqrt, model__min_samples_leaf=6, model__n_estimators=100, total=  38.5s\n",
      "[CV]  model__max_features=sqrt, model__min_samples_leaf=6, model__n_estimators=100, total=  32.9s\n",
      "[CV]  model__max_features=sqrt, model__min_samples_leaf=6, model__n_estimators=100, total=  33.3s\n",
      "[CV]  model__max_features=sqrt, model__min_samples_leaf=6, model__n_estimators=100, total=  36.5s\n",
      "[CV]  model__max_features=sqrt, model__min_samples_leaf=6, model__n_estimators=100, total=  21.5s\n"
     ]
    },
    {
     "name": "stderr",
     "output_type": "stream",
     "text": [
      "[Parallel(n_jobs=7)]: Done  15 out of  15 | elapsed:  2.8min finished\n"
     ]
    },
    {
     "name": "stdout",
     "output_type": "stream",
     "text": [
      "CPU times: user 44.4 s, sys: 12.1 s, total: 56.5 s\n",
      "Wall time: 2min 56s\n"
     ]
    }
   ],
   "source": [
    "%%time\n",
    "from sklearn.ensemble import ExtraTreesClassifier\n",
    "from sklearn.model_selection import GridSearchCV\n",
    "from imblearn.pipeline import Pipeline as pl\n",
    "from imblearn.under_sampling import RandomUnderSampler\n",
    "\n",
    "# Steps for pipeline\n",
    "steps = [(\"rus\", RandomUnderSampler(random_state=30)),\n",
    "         (\"model\", ExtraTreesClassifier(random_state=40))]\n",
    "pipe = pl(steps)\n",
    "\n",
    "# Parameters\n",
    "param_grid = dict(model__n_estimators = [100],\n",
    "                  model__max_features = ['sqrt'],\n",
    "                  model__min_samples_leaf = [2, 4, 6])\n",
    "# For CV in grid search\n",
    "cv = StratifiedShuffleSplit(n_splits = 5, test_size = 0.2, random_state = 20)\n",
    "\n",
    "# Setting up the grid search\n",
    "ETrus = GridSearchCV(pipe, param_grid = param_grid, \n",
    "                           verbose = 2,\n",
    "                           cv = cv,\n",
    "                          n_jobs=7,\n",
    "                          scoring='average_precision',\n",
    "                          iid=False)\n",
    "# Training using CV\n",
    "ETrus.fit(X_train, y_train)"
   ]
  },
  {
   "cell_type": "code",
   "execution_count": 92,
   "metadata": {},
   "outputs": [
    {
     "data": {
      "text/plain": [
       "0.27685628279743218"
      ]
     },
     "execution_count": 92,
     "metadata": {},
     "output_type": "execute_result"
    }
   ],
   "source": [
    "ETrus.best_score_"
   ]
  },
  {
   "cell_type": "code",
   "execution_count": 93,
   "metadata": {},
   "outputs": [
    {
     "data": {
      "text/plain": [
       "{'model__max_features': 'sqrt',\n",
       " 'model__min_samples_leaf': 2,\n",
       " 'model__n_estimators': 100}"
      ]
     },
     "execution_count": 93,
     "metadata": {},
     "output_type": "execute_result"
    }
   ],
   "source": [
    "ETrus.best_params_"
   ]
  },
  {
   "cell_type": "code",
   "execution_count": 94,
   "metadata": {},
   "outputs": [
    {
     "name": "stderr",
     "output_type": "stream",
     "text": [
      "//anaconda/lib/python3.6/site-packages/sklearn/model_selection/_search.py:667: DeprecationWarning: The grid_scores_ attribute was deprecated in version 0.18 in favor of the more elaborate cv_results_ attribute. The grid_scores_ attribute will not be available from 0.20\n",
      "  DeprecationWarning)\n"
     ]
    },
    {
     "data": {
      "text/plain": [
       "[mean: 0.27686, std: 0.00956, params: {'model__max_features': 'sqrt', 'model__min_samples_leaf': 2, 'model__n_estimators': 100},\n",
       " mean: 0.26809, std: 0.00886, params: {'model__max_features': 'sqrt', 'model__min_samples_leaf': 4, 'model__n_estimators': 100},\n",
       " mean: 0.25535, std: 0.01176, params: {'model__max_features': 'sqrt', 'model__min_samples_leaf': 6, 'model__n_estimators': 100}]"
      ]
     },
     "execution_count": 94,
     "metadata": {},
     "output_type": "execute_result"
    }
   ],
   "source": [
    "ETrus.grid_scores_"
   ]
  },
  {
   "cell_type": "code",
   "execution_count": 95,
   "metadata": {
    "collapsed": true
   },
   "outputs": [],
   "source": [
    "import dill\n",
    "dill.dump(ETrus, open('ETrus.pkl', 'wb'))"
   ]
  },
  {
   "cell_type": "code",
   "execution_count": null,
   "metadata": {
    "collapsed": true
   },
   "outputs": [],
   "source": []
  },
  {
   "cell_type": "code",
   "execution_count": 42,
   "metadata": {
    "collapsed": true
   },
   "outputs": [],
   "source": [
    "ET = pickle.load( open( \"ExtraTree.pkl\", \"rb\" ) )"
   ]
  },
  {
   "cell_type": "code",
   "execution_count": 43,
   "metadata": {
    "collapsed": true
   },
   "outputs": [],
   "source": [
    "df4 = df.drop([\"ArrDelayMax_10\", \"DepDelayMax_10\", \"TaxiOutMedian_30\", \"TaxiOutMedian_20\", \"ArrDelayMax_20\", \n",
    "             \"ArrDelayMedian_10\", \"TaxiInMedian_30\", \"ArrDelayMedian_30\", \"DepDelayMax_20\", \"TaxiOutMedian_10\",\n",
    "             \"TaxiInMedian_20\", \"ArrDelayMax_30\", \"ArrDelayMedian_20\", \"Nflights_30\", \"DepDelayMax_30\", \n",
    "             \"TaxiInMedian_10\", \"Nflights_20\", \"DepDelayMedian_30\", \"Nflights_10\", \"DepDelayMedian_20\", \n",
    "             \"DepDelayMedian_10\", \"Ndiv_30\", \"Ndiv_20\", \"Ndiv_10\", \"AllCanceled_10\", \"AllCanceled_20\", \n",
    "             \"AllCanceled_30\", \"TempFlight_10\", \"TempFlight_20\", \"TempFlight_30\", \"AllCanDiv_10\", \"AllCanDiv_30\",\n",
    "             \"AllDiverted_30\", \"AllDiverted_20\", \"AllCanDiv_20\", \"AllDiverted_10\"], axis=1, inplace=False)\n",
    "catvar = [\"Month\", \"DayofMonth\", \"DayOfWeek\", \"Carrier\", \"Origin\", \"Dest\", \"CRSDepHr\", \"CRSArrHr\", \n",
    "          \"Condition_Origin\", \"Condition_Dest\", \"Month_Dest\", \"DayOfMonth_Dest\", \"DayOfWeek_Dest\"]\n",
    "#OHE\n",
    "for cvar in catvar:\n",
    "    df4 = pd.concat([df4, pd.get_dummies(df4[cvar], prefix=cvar, dummy_na=False)], axis=1)\n",
    "    df4.drop([cvar], axis=1, inplace=True)\n",
    "X4 = df4.drop([\"Cancelled\"], axis=1).values\n",
    "y4 = df4.Cancelled.astype(int).values\n",
    "sss4 = StratifiedShuffleSplit(n_splits=1, test_size=0.5, random_state=10)\n",
    "for train_index4, test_index4 in sss4.split(X4, y4):\n",
    "    X_train4, X_test4 = X4[train_index4], X4[test_index4]\n",
    "    y_train4, y_test4 = y4[train_index4], y4[test_index4]"
   ]
  },
  {
   "cell_type": "code",
   "execution_count": 44,
   "metadata": {},
   "outputs": [
    {
     "data": {
      "image/png": "[encoded data removed]",
      "text/plain": [
       "<matplotlib.figure.Figure at 0x153d74518>"
      ]
     },
     "metadata": {},
     "output_type": "display_data"
    }
   ],
   "source": [
    "plots(ET, X_test4, y_test4, outputfile='../Report/ET_ROC_PR_plots.pdf')"
   ]
  },
  {
   "cell_type": "code",
   "execution_count": 45,
   "metadata": {
    "collapsed": true
   },
   "outputs": [],
   "source": [
    "y_pred_test_prob4 = ET.predict_proba(X_test4)"
   ]
  },
  {
   "cell_type": "code",
   "execution_count": 46,
   "metadata": {
    "collapsed": true
   },
   "outputs": [],
   "source": [
    "del df4\n",
    "del X4\n",
    "del X_train4\n",
    "del X_test4"
   ]
  },
  {
   "cell_type": "markdown",
   "metadata": {
    "collapsed": true
   },
   "source": [
    "# Plotting ROC and PR curves for all models together"
   ]
  },
  {
   "cell_type": "code",
   "execution_count": 52,
   "metadata": {},
   "outputs": [
    {
     "data": {
      "image/png": "[encoded data removed]",
      "text/plain": [
       "<matplotlib.figure.Figure at 0x14229a710>"
      ]
     },
     "metadata": {},
     "output_type": "display_data"
    }
   ],
   "source": [
    "fs = 26\n",
    "fig, (ax1,ax2) = plt.subplots(1,2,figsize=(15,6))\n",
    "# ROC\n",
    "ax1 = plt.subplot(1, 2, 1)\n",
    "fpr, tpr, thresholds = roc_curve(y_test, y_pred_test_prob[:, 1])\n",
    "ax1.plot(fpr, tpr, lw=1, label='LR', color=tableau20[2], linewidth=3)\n",
    "fpr1, tpr1, thresholds1 = roc_curve(y_test1, y_pred_test_prob1[:, 1])\n",
    "ax1.plot(fpr1, tpr1, lw=1, label='GNB', color=tableau20[16], linewidth=3)\n",
    "fpr2, tpr2, thresholds2 = roc_curve(y_test2, y_pred_test_prob2[:, 1])\n",
    "ax1.plot(fpr2, tpr2, lw=1, label='RF', color=tableau20[6], linewidth=3)\n",
    "fpr3, tpr3, thresholds3 = roc_curve(y_test3, y_pred_test_prob3[:, 1])\n",
    "ax1.plot(fpr3, tpr3, lw=1, label='GB', color=tableau20[8], linewidth=3)\n",
    "fpr4, tpr4, thresholds4 = roc_curve(y_test4, y_pred_test_prob4[:, 1])\n",
    "ax1.plot(fpr4, tpr4, lw=1, label='ET', color=tableau20[4], linewidth=3)\n",
    "ax1.set_xlim([-0.02, 1.02])\n",
    "ax1.set_ylim([-0.02, 1.02])\n",
    "ax1.set_xlabel('False Positive Rate', size=fs)\n",
    "ax1.set_ylabel('True Positive Rate', size=fs)\n",
    "ax1.set_title('Receiver Operating Characteristic Curve', size=fs)\n",
    "ax1.tick_params(direction='out', length=6, width=2, colors='k', labelsize=fs)\n",
    "ax1.legend(loc=\"lower right\", fontsize=fs)\n",
    "    \n",
    "#PR\n",
    "ax2 = plt.subplot(1, 2, 2)\n",
    "prec, recall, thresholds = precision_recall_curve(y_test, y_pred_test_prob[:, 1])\n",
    "ax2.plot(recall, prec, lw=1, label='LR', color=tableau20[2], linewidth=3)    \n",
    "prec1, recall1, thresholds1 = precision_recall_curve(y_test1, y_pred_test_prob1[:, 1])\n",
    "ax2.plot(recall1, prec1, lw=1, label='GNB', color=tableau20[16], linewidth=3)\n",
    "prec2, recall2, thresholds2 = precision_recall_curve(y_test2, y_pred_test_prob2[:, 1])\n",
    "ax2.plot(recall2, prec2, lw=1, label='RF', color=tableau20[6], linewidth=3)\n",
    "prec3, recall3, thresholds3 = precision_recall_curve(y_test3, y_pred_test_prob3[:, 1])\n",
    "ax2.plot(recall3, prec3, lw=1, label='GB', color=tableau20[8], linewidth=3)\n",
    "prec4, recall4, thresholds4 = precision_recall_curve(y_test4, y_pred_test_prob4[:, 1])\n",
    "ax2.plot(recall4, prec4, lw=1, label='ET', color=tableau20[4], linewidth=3)    \n",
    "ax2.set_xlim([-0.02, 1.02])\n",
    "ax2.set_ylim([-0.02, 1.02])\n",
    "ax2.set_xlabel('Recall', size=fs)\n",
    "ax2.set_ylabel('Precision', size=fs)\n",
    "ax2.set_title('Precision Recall Curve', size=fs)\n",
    "ax2.tick_params(direction='out', length=6, width=2, colors='k', labelsize=fs)\n",
    "ax2.legend(loc=\"top right\", fontsize=fs)\n",
    "    \n",
    "plt.tight_layout()\n",
    "savefig('../Report/AllModels_ROC_PR_plots.pdf')"
   ]
  },
  {
   "cell_type": "code",
   "execution_count": null,
   "metadata": {
    "collapsed": true
   },
   "outputs": [],
   "source": []
  },
  {
   "cell_type": "code",
   "execution_count": null,
   "metadata": {
    "collapsed": true
   },
   "outputs": [],
   "source": []
  },
  {
   "cell_type": "code",
   "execution_count": null,
   "metadata": {
    "collapsed": true
   },
   "outputs": [],
   "source": []
  },
  {
   "cell_type": "code",
   "execution_count": null,
   "metadata": {
    "collapsed": true
   },
   "outputs": [],
   "source": []
  },
  {
   "cell_type": "code",
   "execution_count": null,
   "metadata": {
    "collapsed": true
   },
   "outputs": [],
   "source": []
  },
  {
   "cell_type": "code",
   "execution_count": null,
   "metadata": {
    "collapsed": true
   },
   "outputs": [],
   "source": []
  },
  {
   "cell_type": "code",
   "execution_count": null,
   "metadata": {
    "collapsed": true
   },
   "outputs": [],
   "source": []
  },
  {
   "cell_type": "code",
   "execution_count": null,
   "metadata": {
    "collapsed": true
   },
   "outputs": [],
   "source": []
  },
  {
   "cell_type": "code",
   "execution_count": null,
   "metadata": {
    "collapsed": true
   },
   "outputs": [],
   "source": []
  },
  {
   "cell_type": "code",
   "execution_count": null,
   "metadata": {
    "collapsed": true
   },
   "outputs": [],
   "source": []
  },
  {
   "cell_type": "code",
   "execution_count": null,
   "metadata": {
    "collapsed": true
   },
   "outputs": [],
   "source": []
  },
  {
   "cell_type": "code",
   "execution_count": null,
   "metadata": {
    "collapsed": true
   },
   "outputs": [],
   "source": []
  },
  {
   "cell_type": "markdown",
   "metadata": {},
   "source": [
    "## Function to plot ROC and PR curves"
   ]
  },
  {
   "cell_type": "code",
   "execution_count": 45,
   "metadata": {
    "collapsed": true
   },
   "outputs": [],
   "source": [
    "from sklearn import metrics\n",
    "from sklearn.metrics import roc_curve, auc, precision_recall_curve, cohen_kappa_score\n",
    "def plots(model, X_test, y_test, outputfile):\n",
    "    \"\"\" This function plots the ROC and PR curves for a given classifier and test data.\n",
    "    \n",
    "    Parameters\n",
    "    ----------\n",
    "    model (dtype: sklearn.model_selection._search.GridSearchCV) : The classifier model\n",
    "    \"\"\"\n",
    "    y_pred_test_prob = model.predict_proba(X_test)\n",
    "    fs = 26\n",
    "    fig, (ax1,ax2) = plt.subplots(1,2,figsize=(15,6))\n",
    "    \n",
    "    # ROC\n",
    "    ax1 = plt.subplot(1, 2, 1)\n",
    "    fpr, tpr, thresholds = roc_curve(y_test, y_pred_test_prob[:, 1])\n",
    "    roc_auc = auc(fpr, tpr)\n",
    "    ax1.plot(fpr, tpr, lw=1, label='ROC AUC = %0.2f' % (roc_auc), color=tableau20[4], linewidth=3)    \n",
    "    ax1.set_xlim([-0.02, 1.02])\n",
    "    ax1.set_ylim([-0.02, 1.02])\n",
    "    ax1.set_xlabel('False Positive Rate', size=fs)\n",
    "    ax1.set_ylabel('True Positive Rate', size=fs)\n",
    "    ax1.set_title('Receiver Operating Characteristic Curve', size=fs)\n",
    "    ax1.tick_params(direction='out', length=6, width=2, colors='k', labelsize=fs)\n",
    "    ax1.legend(loc=\"lower right\", fontsize=fs)\n",
    "    \n",
    "    #PR\n",
    "    ax2 = plt.subplot(1, 2, 2)\n",
    "    prec, recall, thresholds = precision_recall_curve(y_test, y_pred_test_prob[:, 1])\n",
    "    ax2.plot(recall, prec, lw=1, label='PR AUC = %0.2f' % \n",
    "             (metrics.average_precision_score(y_test, y_pred_test_prob[:, 1])), color=tableau20[8], linewidth=3)    \n",
    "    ax2.set_xlim([-0.02, 1.02])\n",
    "    ax2.set_ylim([-0.02, 1.02])\n",
    "    ax2.set_xlabel('Recall', size=fs)\n",
    "    ax2.set_ylabel('Precision', size=fs)\n",
    "    ax2.set_title('Precision Recall Curve', size=fs)\n",
    "    ax2.tick_params(direction='out', length=6, width=2, colors='k', labelsize=fs)\n",
    "    ax2.legend(loc=\"top right\", fontsize=fs)\n",
    "    \n",
    "    plt.tight_layout()\n",
    "    savefig(outputfile)"
   ]
  },
  {
   "cell_type": "code",
   "execution_count": null,
   "metadata": {
    "collapsed": true
   },
   "outputs": [],
   "source": []
  }
 ],
 "metadata": {
  "kernelspec": {
   "display_name": "Python 3",
   "language": "python",
   "name": "python3"
  },
  "language_info": {
   "codemirror_mode": {
    "name": "ipython",
    "version": 3
   },
   "file_extension": ".py",
   "mimetype": "text/x-python",
   "name": "python",
   "nbconvert_exporter": "python",
   "pygments_lexer": "ipython3",
   "version": "3.6.1"
  }
 },
 "nbformat": 4,
 "nbformat_minor": 2
}
