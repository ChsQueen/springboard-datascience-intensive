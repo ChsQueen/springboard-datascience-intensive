{
 "cells": [
  {
   "cell_type": "markdown",
   "metadata": {},
   "source": [
    "# XML example and exercise\n",
    "****\n",
    "+ study examples of accessing nodes in XML tree structure  \n",
    "+ work on exercise to be completed and submitted\n",
    "****\n",
    "+ reference: https://docs.python.org/2.7/library/xml.etree.elementtree.html\n",
    "+ data source: http://www.dbis.informatik.uni-goettingen.de/Mondial\n",
    "****"
   ]
  },
  {
   "cell_type": "code",
   "execution_count": 1,
   "metadata": {
    "collapsed": true
   },
   "outputs": [],
   "source": [
    "from xml.etree import ElementTree as ET\n",
    "from lxml import etree\n",
    "import pandas as pd\n",
    "import numpy as np"
   ]
  },
  {
   "cell_type": "markdown",
   "metadata": {},
   "source": [
    "## XML example\n",
    "\n",
    "+ for details about tree traversal and iterators, see https://docs.python.org/2.7/library/xml.etree.elementtree.html"
   ]
  },
  {
   "cell_type": "code",
   "execution_count": 2,
   "metadata": {
    "collapsed": true
   },
   "outputs": [],
   "source": [
    "document_tree = ET.parse( './data/mondial_database_less.xml' )"
   ]
  },
  {
   "cell_type": "code",
   "execution_count": 3,
   "metadata": {
    "collapsed": false
   },
   "outputs": [
    {
     "name": "stdout",
     "output_type": "stream",
     "text": [
      "Albania\n",
      "Greece\n",
      "Macedonia\n",
      "Serbia\n",
      "Montenegro\n",
      "Kosovo\n",
      "Andorra\n"
     ]
    }
   ],
   "source": [
    "# print names of all countries\n",
    "for child in document_tree.getroot():\n",
    "    print(child.find('name').text)"
   ]
  },
  {
   "cell_type": "code",
   "execution_count": 4,
   "metadata": {
    "collapsed": false
   },
   "outputs": [
    {
     "name": "stdout",
     "output_type": "stream",
     "text": [
      "* Albania:\n",
      "Tirana, Shkodër, Durrës, Vlorë, Elbasan, Korçë\n",
      "* Greece:\n",
      "Komotini, Kavala, Athina, Peiraias, Peristeri, Acharnes, Patra, Kozani, Kerkyra, Ioannina, Thessaloniki, Iraklio, Chania, Ermoupoli, Rhodes, Tripoli, Lamia, Chalkida, Larissa, Volos, Mytilini, Karyes\n",
      "* Macedonia:\n",
      "Skopje, Kumanovo\n",
      "* Serbia:\n",
      "Beograd, Novi Sad, Niš\n",
      "* Montenegro:\n",
      "Podgorica\n",
      "* Kosovo:\n",
      "Prishtine\n",
      "* Andorra:\n",
      "Andorra la Vella\n"
     ]
    }
   ],
   "source": [
    "# print names of all countries and their cities\n",
    "for element in document_tree.iterfind('country'):\n",
    "    print('* ' + element.find('name').text + ':')\n",
    "    capitals_string = ''\n",
    "    for subelement in element.getiterator('city'):\n",
    "        capitals_string += subelement.find('name').text + ', '\n",
    "    print(capitals_string[:-2])"
   ]
  },
  {
   "cell_type": "markdown",
   "metadata": {},
   "source": [
    "****\n",
    "## XML exercise\n",
    "\n",
    "Using data in 'data/mondial_database.xml', the examples above, and refering to https://docs.python.org/2.7/library/xml.etree.elementtree.html, find\n",
    "\n",
    "1. 10 countries with the lowest infant mortality rates\n",
    "2. 10 cities with the largest population\n",
    "3. 10 ethnic groups with the largest overall populations (sum of best/latest estimates over all countries)\n",
    "4. name and country of a) longest river, b) largest lake and c) airport at highest elevation"
   ]
  },
  {
   "cell_type": "markdown",
   "metadata": {},
   "source": [
    "Lets first try to understand the structure of the tree, at least in terms of what we have to find (above 4 questions), i.e. country name, infant mortality rate, population, ethnic group, river, lake and airport."
   ]
  },
  {
   "cell_type": "code",
   "execution_count": 45,
   "metadata": {
    "collapsed": false
   },
   "outputs": [
    {
     "name": "stdout",
     "output_type": "stream",
     "text": [
      "Root is:  mondial\n",
      "Children are:  {'organization', 'continent', 'island', 'airport', 'country', 'lake', 'desert', 'river', 'mountain', 'sea'}\n"
     ]
    }
   ],
   "source": [
    "document = ET.parse('./data/mondial_database.xml')\n",
    "print(\"Root is: \", document.getroot().tag)\n",
    "print(\"Children are: \", set([document.getroot()[x].tag for x in np.arange(len(document.getroot()))]))"
   ]
  },
  {
   "cell_type": "markdown",
   "metadata": {},
   "source": [
    "It looks like the country information is stored in the \"country\" element. Lets explore that in detail."
   ]
  },
  {
   "cell_type": "code",
   "execution_count": 67,
   "metadata": {
    "collapsed": false,
    "scrolled": false
   },
   "outputs": [
    {
     "data": {
      "text/plain": [
       "'<?xml version=\"1.0\" ?>\\n<country area=\"28750\" capital=\"cty-Albania-Tirane\" car_code=\"AL\" memberships=\"org-BSEC org-CEI org-CD org-SELEC org-CE org-EAPC org-EBRD org-EITI org-FAO org-IPU org-IAEA org-IBRD org-ICC org-ICAO org-ICCt org-Interpol org-IDA org-IFRCS org-IFC org-IFAD org-ILO org-IMO org-IMF org-IOC org-IOM org-ISO org-OIF org-ITU org-ITUC org-IDB org-MIGA org-NATO org-OSCE org-OPCW org-OAS org-OIC org-PCA org-UN org-UNCTAD org-UNESCO org-UNIDO org-UPU org-WCO org-WFTU org-WHO org-WIPO org-WMO org-UNWTO org-WTO\">\\n\\t\\n      \\n\\t<name>Albania</name>\\n\\t\\n      \\n\\t<population measured=\"est.\" year=\"1950\">1214489</population>\\n\\t\\n      \\n\\t<population measured=\"est.\" year=\"1960\">1618829</population>\\n\\t\\n      \\n\\t<population measured=\"est.\" year=\"1970\">2138966</population>\\n\\t\\n      \\n\\t<population measured=\"est.\" year=\"1980\">2734776</population>\\n\\t\\n      \\n\\t<population measured=\"est.\" year=\"1990\">3446882</population>\\n\\t\\n      \\n\\t<population year=\"1997\">3249136</population>\\n\\t\\n      \\n\\t<population measured=\"est.\" year=\"2000\">3304948</population>\\n\\t\\n      \\n\\t<population measured=\"census\" year=\"2001\">3069275</population>\\n\\t\\n      \\n\\t<population measured=\"census\" year=\"2011\">2800138</population>\\n\\t\\n      \\n\\t<population_growth>0.3</population_growth>\\n\\t\\n      \\n\\t<infant_mortality>13.19</infant_mortality>\\n\\t\\n      \\n\\t<gdp_total>12800</gdp_total>\\n\\t\\n      \\n\\t<gdp_agri>19.5</gdp_agri>\\n\\t\\n      \\n\\t<gdp_ind>12</gdp_ind>\\n\\t\\n      \\n\\t<gdp_serv>68.5</gdp_serv>\\n\\t\\n      \\n\\t<inflation>1.7</inflation>\\n\\t\\n      \\n\\t<unemployment>16.9</unemployment>\\n\\t\\n      \\n\\t<indep_date from=\"Ottoman Empire\">1912-11-28</indep_date>\\n\\t\\n      \\n\\t<government>parliamentary democracy</government>\\n\\t\\n      \\n\\t<encompassed continent=\"europe\" percentage=\"100\"/>\\n\\t\\n      \\n\\t<ethnicgroup percentage=\"95\">Albanian</ethnicgroup>\\n\\t\\n      \\n\\t<ethnicgroup percentage=\"3\">Greek</ethnicgroup>\\n\\t\\n      \\n\\t<religion percentage=\"70\">Muslim</religion>\\n\\t\\n      \\n\\t<religion percentage=\"10\">Roman Catholic</religion>\\n\\t\\n      \\n\\t<religion percentage=\"20\">Christian Orthodox</religion>\\n\\t\\n      \\n\\t<language percentage=\"98.8\">Albanian</language>\\n\\t\\n      \\n\\t<language percentage=\"0.5\">Greek</language>\\n\\t\\n      \\n\\t<border country=\"GR\" length=\"282\"/>\\n\\t\\n      \\n\\t<border country=\"MK\" length=\"151\"/>\\n\\t\\n      \\n\\t<border country=\"MNE\" length=\"172\"/>\\n\\t\\n      \\n\\t<border country=\"KOS\" length=\"112\"/>\\n\\t\\n      \\n\\t<city country=\"AL\" id=\"cty-Albania-Tirane\">\\n\\t\\t\\n         \\n\\t\\t<name>Tirana</name>\\n\\t\\t\\n         \\n\\t\\t<name>Tirane</name>\\n\\t\\t\\n         \\n\\t\\t<latitude>41.3</latitude>\\n\\t\\t\\n         \\n\\t\\t<longitude>19.8</longitude>\\n\\t\\t\\n         \\n\\t\\t<population year=\"1987\">192000</population>\\n\\t\\t\\n         \\n\\t\\t<population measured=\"estimate\" year=\"1990\">244153</population>\\n\\t\\t\\n         \\n\\t\\t<population measured=\"census\" year=\"2011\">418495</population>\\n\\t\\t\\n      \\n\\t</city>\\n\\t\\n      \\n\\t<city country=\"AL\" id=\"stadt-Shkoder-AL-AL\">\\n\\t\\t\\n         \\n\\t\\t<name>Shkodër</name>\\n\\t\\t\\n         \\n\\t\\t<latitude>42.2</latitude>\\n\\t\\t\\n         \\n\\t\\t<longitude>19.2</longitude>\\n\\t\\t\\n         \\n\\t\\t<population year=\"1987\">62000</population>\\n\\t\\t\\n         \\n\\t\\t<population measured=\"census\" year=\"2011\">77075</population>\\n\\t\\t\\n         \\n\\t\\t<located_at lake=\"lake-Skutarisee\" watertype=\"lake\"/>\\n\\t\\t\\n      \\n\\t</city>\\n\\t\\n      \\n\\t<city country=\"AL\" id=\"stadt-Durres-AL-AL\">\\n\\t\\t\\n         \\n\\t\\t<name>Durrës</name>\\n\\t\\t\\n         \\n\\t\\t<latitude>41.3</latitude>\\n\\t\\t\\n         \\n\\t\\t<longitude>19.3</longitude>\\n\\t\\t\\n         \\n\\t\\t<population year=\"1987\">60000</population>\\n\\t\\t\\n         \\n\\t\\t<population measured=\"census\" year=\"2011\">113249</population>\\n\\t\\t\\n         \\n\\t\\t<located_at sea=\"sea-Mittelmeer\" watertype=\"sea\"/>\\n\\t\\t\\n      \\n\\t</city>\\n\\t\\n      \\n\\t<city country=\"AL\" id=\"stadt-Vlore-AL-AL\">\\n\\t\\t\\n         \\n\\t\\t<name>Vlorë</name>\\n\\t\\t\\n         \\n\\t\\t<latitude>40.3</latitude>\\n\\t\\t\\n         \\n\\t\\t<longitude>19.3</longitude>\\n\\t\\t\\n         \\n\\t\\t<population year=\"1987\">56000</population>\\n\\t\\t\\n         \\n\\t\\t<population measured=\"census\" year=\"2011\">79513</population>\\n\\t\\t\\n         \\n\\t\\t<located_at sea=\"sea-Mittelmeer\" watertype=\"sea\"/>\\n\\t\\t\\n      \\n\\t</city>\\n\\t\\n      \\n\\t<city country=\"AL\" id=\"stadt-Elbasan-AL-AL\">\\n\\t\\t\\n         \\n\\t\\t<name>Elbasan</name>\\n\\t\\t\\n         \\n\\t\\t<latitude>41.1</latitude>\\n\\t\\t\\n         \\n\\t\\t<longitude>20.1</longitude>\\n\\t\\t\\n         \\n\\t\\t<population year=\"1987\">53000</population>\\n\\t\\t\\n         \\n\\t\\t<population measured=\"census\" year=\"2011\">78703</population>\\n\\t\\t\\n      \\n\\t</city>\\n\\t\\n      \\n\\t<city country=\"AL\" id=\"stadt-Korce-AL-AL\">\\n\\t\\t\\n         \\n\\t\\t<name>Korçë</name>\\n\\t\\t\\n         \\n\\t\\t<latitude>40.4</latitude>\\n\\t\\t\\n         \\n\\t\\t<longitude>20.5</longitude>\\n\\t\\t\\n         \\n\\t\\t<population year=\"1987\">52000</population>\\n\\t\\t\\n         \\n\\t\\t<population measured=\"census\" year=\"2011\">51152</population>\\n\\t\\t\\n      \\n\\t</city>\\n\\t\\n   \\n</country>\\n'"
      ]
     },
     "execution_count": 67,
     "metadata": {},
     "output_type": "execute_result"
    }
   ],
   "source": [
    "from xml.dom import minidom\n",
    "minidom.parseString(ET.tostring(document.getiterator(\"country\")[0], 'utf-8')).toprettyxml(indent=\"\\t\")"
   ]
  },
  {
   "cell_type": "markdown",
   "metadata": {},
   "source": [
    "Above is an example of the contents in the first country element. It has information about the name of the country, population in several years, infant mortality, ethnic group percentages, city names and populations (again at multiple years) etc. These sub-elements are required to answer questions 1 through 3. Let us address these three questions first."
   ]
  },
  {
   "cell_type": "markdown",
   "metadata": {},
   "source": [
    "## 10 countries with the lowest infant mortality rates"
   ]
  },
  {
   "cell_type": "code",
   "execution_count": 68,
   "metadata": {
    "collapsed": false
   },
   "outputs": [
    {
     "data": {
      "text/html": [
       "<div>\n",
       "<table border=\"1\" class=\"dataframe\">\n",
       "  <thead>\n",
       "    <tr style=\"text-align: right;\">\n",
       "      <th></th>\n",
       "      <th>Rank</th>\n",
       "      <th>Country</th>\n",
       "      <th>Infant Mortality</th>\n",
       "    </tr>\n",
       "  </thead>\n",
       "  <tbody>\n",
       "    <tr>\n",
       "      <th>0</th>\n",
       "      <td>1</td>\n",
       "      <td>Monaco</td>\n",
       "      <td>1.81</td>\n",
       "    </tr>\n",
       "    <tr>\n",
       "      <th>1</th>\n",
       "      <td>2</td>\n",
       "      <td>Japan</td>\n",
       "      <td>2.13</td>\n",
       "    </tr>\n",
       "    <tr>\n",
       "      <th>2</th>\n",
       "      <td>3</td>\n",
       "      <td>Bermuda</td>\n",
       "      <td>2.48</td>\n",
       "    </tr>\n",
       "    <tr>\n",
       "      <th>3</th>\n",
       "      <td>4</td>\n",
       "      <td>Norway</td>\n",
       "      <td>2.48</td>\n",
       "    </tr>\n",
       "    <tr>\n",
       "      <th>4</th>\n",
       "      <td>5</td>\n",
       "      <td>Singapore</td>\n",
       "      <td>2.53</td>\n",
       "    </tr>\n",
       "    <tr>\n",
       "      <th>5</th>\n",
       "      <td>6</td>\n",
       "      <td>Sweden</td>\n",
       "      <td>2.60</td>\n",
       "    </tr>\n",
       "    <tr>\n",
       "      <th>6</th>\n",
       "      <td>7</td>\n",
       "      <td>Czech Republic</td>\n",
       "      <td>2.63</td>\n",
       "    </tr>\n",
       "    <tr>\n",
       "      <th>7</th>\n",
       "      <td>8</td>\n",
       "      <td>Hong Kong</td>\n",
       "      <td>2.73</td>\n",
       "    </tr>\n",
       "    <tr>\n",
       "      <th>8</th>\n",
       "      <td>9</td>\n",
       "      <td>Macao</td>\n",
       "      <td>3.13</td>\n",
       "    </tr>\n",
       "    <tr>\n",
       "      <th>9</th>\n",
       "      <td>10</td>\n",
       "      <td>Iceland</td>\n",
       "      <td>3.15</td>\n",
       "    </tr>\n",
       "  </tbody>\n",
       "</table>\n",
       "</div>"
      ],
      "text/plain": [
       "   Rank         Country  Infant Mortality\n",
       "0     1          Monaco              1.81\n",
       "1     2           Japan              2.13\n",
       "2     3         Bermuda              2.48\n",
       "3     4          Norway              2.48\n",
       "4     5       Singapore              2.53\n",
       "5     6          Sweden              2.60\n",
       "6     7  Czech Republic              2.63\n",
       "7     8       Hong Kong              2.73\n",
       "8     9           Macao              3.13\n",
       "9    10         Iceland              3.15"
      ]
     },
     "execution_count": 68,
     "metadata": {},
     "output_type": "execute_result"
    }
   ],
   "source": [
    "#1\n",
    "contlist = []\n",
    "imlist = []\n",
    "for ce in document.iterfind('country'): # Loop through all \"country\" elements\n",
    "    contlist.append(ce.find(\"name\").text) # store country name\n",
    "    ime = ce.find(\"infant_mortality\") # find \"infant_mortality\" sub-elements\n",
    "    if ime is None: # some countries do not have the record\n",
    "        imlist.append(np.nan)\n",
    "    else:\n",
    "        imlist.append(ime.text)\n",
    "# create a data frame\n",
    "df1 =  pd.DataFrame({\"Country\": contlist, \"Infant Mortality\":  imlist})\n",
    "df1[\"Infant Mortality\"] = df1[\"Infant Mortality\"].astype(float)\n",
    "df1 = df1.sort_values(\"Infant Mortality\").reset_index(drop=True)\n",
    "df1[\"Rank\"] = np.arange(1, len(df1)+1)\n",
    "df1[[\"Rank\", \"Country\", \"Infant Mortality\"]].head(10)"
   ]
  },
  {
   "cell_type": "markdown",
   "metadata": {},
   "source": [
    "## 10 cities with the largest population"
   ]
  },
  {
   "cell_type": "markdown",
   "metadata": {},
   "source": [
    "Since populations are recorded for multiple years for cities, we will first store city names and their population at all given years."
   ]
  },
  {
   "cell_type": "code",
   "execution_count": 95,
   "metadata": {
    "collapsed": false
   },
   "outputs": [
    {
     "data": {
      "text/html": [
       "<div>\n",
       "<table border=\"1\" class=\"dataframe\">\n",
       "  <thead>\n",
       "    <tr style=\"text-align: right;\">\n",
       "      <th></th>\n",
       "      <th>City</th>\n",
       "      <th>Population</th>\n",
       "      <th>Year</th>\n",
       "    </tr>\n",
       "  </thead>\n",
       "  <tbody>\n",
       "    <tr>\n",
       "      <th>0</th>\n",
       "      <td>Tirana</td>\n",
       "      <td>192000</td>\n",
       "      <td>1987</td>\n",
       "    </tr>\n",
       "    <tr>\n",
       "      <th>1</th>\n",
       "      <td>Tirana</td>\n",
       "      <td>244153</td>\n",
       "      <td>1990</td>\n",
       "    </tr>\n",
       "    <tr>\n",
       "      <th>2</th>\n",
       "      <td>Tirana</td>\n",
       "      <td>418495</td>\n",
       "      <td>2011</td>\n",
       "    </tr>\n",
       "    <tr>\n",
       "      <th>3</th>\n",
       "      <td>Shkodër</td>\n",
       "      <td>62000</td>\n",
       "      <td>1987</td>\n",
       "    </tr>\n",
       "    <tr>\n",
       "      <th>4</th>\n",
       "      <td>Shkodër</td>\n",
       "      <td>77075</td>\n",
       "      <td>2011</td>\n",
       "    </tr>\n",
       "  </tbody>\n",
       "</table>\n",
       "</div>"
      ],
      "text/plain": [
       "      City Population  Year\n",
       "0   Tirana     192000  1987\n",
       "1   Tirana     244153  1990\n",
       "2   Tirana     418495  2011\n",
       "3  Shkodër      62000  1987\n",
       "4  Shkodër      77075  2011"
      ]
     },
     "execution_count": 95,
     "metadata": {},
     "output_type": "execute_result"
    }
   ],
   "source": [
    "#2\n",
    "citlist = []\n",
    "poplist = []\n",
    "yrlist = []\n",
    "for ce in document.iter(\"city\"):\n",
    "    for pe in ce.iter(\"population\"):\n",
    "        citlist.append(ce.find(\"name\").text)\n",
    "        if pe is None:\n",
    "            poplist.append(np.nan)\n",
    "            yrlist.append(np.nan)\n",
    "        else:\n",
    "            poplist.append(pe.text)\n",
    "            yrlist.append(pe.get(\"year\"))\n",
    "\n",
    "df2 =  pd.DataFrame({\"City\": citlist, \"Population\":  poplist, \"Year\": yrlist})\n",
    "df2.head()"
   ]
  },
  {
   "cell_type": "markdown",
   "metadata": {},
   "source": [
    "We can create two ranking tables: one with the latest year population data for all cities, and another where we consider the maximum population record for all cities.\n",
    "\n",
    "The table where only the latest year's population data is considered for all cities, and then ranked:"
   ]
  },
  {
   "cell_type": "code",
   "execution_count": 96,
   "metadata": {
    "collapsed": false
   },
   "outputs": [
    {
     "data": {
      "text/html": [
       "<div>\n",
       "<table border=\"1\" class=\"dataframe\">\n",
       "  <thead>\n",
       "    <tr style=\"text-align: right;\">\n",
       "      <th></th>\n",
       "      <th>Rank</th>\n",
       "      <th>City</th>\n",
       "      <th>Population</th>\n",
       "      <th>Latest Year</th>\n",
       "    </tr>\n",
       "  </thead>\n",
       "  <tbody>\n",
       "    <tr>\n",
       "      <th>0</th>\n",
       "      <td>1</td>\n",
       "      <td>Shanghai</td>\n",
       "      <td>22315474</td>\n",
       "      <td>2010</td>\n",
       "    </tr>\n",
       "    <tr>\n",
       "      <th>1</th>\n",
       "      <td>2</td>\n",
       "      <td>Istanbul</td>\n",
       "      <td>13710512</td>\n",
       "      <td>2012</td>\n",
       "    </tr>\n",
       "    <tr>\n",
       "      <th>2</th>\n",
       "      <td>3</td>\n",
       "      <td>Mumbai</td>\n",
       "      <td>12442373</td>\n",
       "      <td>2011</td>\n",
       "    </tr>\n",
       "    <tr>\n",
       "      <th>3</th>\n",
       "      <td>4</td>\n",
       "      <td>Moskva</td>\n",
       "      <td>11979529</td>\n",
       "      <td>2013</td>\n",
       "    </tr>\n",
       "    <tr>\n",
       "      <th>4</th>\n",
       "      <td>5</td>\n",
       "      <td>Beijing</td>\n",
       "      <td>11716620</td>\n",
       "      <td>2010</td>\n",
       "    </tr>\n",
       "    <tr>\n",
       "      <th>5</th>\n",
       "      <td>6</td>\n",
       "      <td>São Paulo</td>\n",
       "      <td>11152344</td>\n",
       "      <td>2010</td>\n",
       "    </tr>\n",
       "    <tr>\n",
       "      <th>6</th>\n",
       "      <td>7</td>\n",
       "      <td>Tianjin</td>\n",
       "      <td>11090314</td>\n",
       "      <td>2010</td>\n",
       "    </tr>\n",
       "    <tr>\n",
       "      <th>7</th>\n",
       "      <td>8</td>\n",
       "      <td>Guangzhou</td>\n",
       "      <td>11071424</td>\n",
       "      <td>2010</td>\n",
       "    </tr>\n",
       "    <tr>\n",
       "      <th>8</th>\n",
       "      <td>9</td>\n",
       "      <td>Delhi</td>\n",
       "      <td>11034555</td>\n",
       "      <td>2011</td>\n",
       "    </tr>\n",
       "    <tr>\n",
       "      <th>9</th>\n",
       "      <td>10</td>\n",
       "      <td>Shenzhen</td>\n",
       "      <td>10358381</td>\n",
       "      <td>2010</td>\n",
       "    </tr>\n",
       "  </tbody>\n",
       "</table>\n",
       "</div>"
      ],
      "text/plain": [
       "   Rank       City  Population  Latest Year\n",
       "0     1   Shanghai    22315474         2010\n",
       "1     2   Istanbul    13710512         2012\n",
       "2     3     Mumbai    12442373         2011\n",
       "3     4     Moskva    11979529         2013\n",
       "4     5    Beijing    11716620         2010\n",
       "5     6  São Paulo    11152344         2010\n",
       "6     7    Tianjin    11090314         2010\n",
       "7     8  Guangzhou    11071424         2010\n",
       "8     9      Delhi    11034555         2011\n",
       "9    10   Shenzhen    10358381         2010"
      ]
     },
     "execution_count": 96,
     "metadata": {},
     "output_type": "execute_result"
    }
   ],
   "source": [
    "df2[\"Population\"] = df2[\"Population\"].fillna(0).astype(int)\n",
    "df2[\"Year\"] = df2[\"Year\"].fillna(0).astype(int)\n",
    "df21 = df2.sort_values([\"City\", \"Year\"], ascending=False).groupby(\"City\").head(1)\n",
    "df21 = df21.rename(columns = {'Year':'Latest Year'})\n",
    "df21 = df21.sort_values(\"Population\", ascending=False).reset_index(drop=True)\n",
    "df21[\"Rank\"] = np.arange(1, len(df21)+1)\n",
    "df21[[\"Rank\", \"City\", \"Population\", \"Latest Year\"]].head(10)"
   ]
  },
  {
   "cell_type": "markdown",
   "metadata": {},
   "source": [
    "Lets get the other table now, that is with the maximum population in all given years for cities. "
   ]
  },
  {
   "cell_type": "code",
   "execution_count": 100,
   "metadata": {
    "collapsed": false
   },
   "outputs": [
    {
     "data": {
      "text/html": [
       "<div>\n",
       "<table border=\"1\" class=\"dataframe\">\n",
       "  <thead>\n",
       "    <tr style=\"text-align: right;\">\n",
       "      <th></th>\n",
       "      <th>Rank</th>\n",
       "      <th>City</th>\n",
       "      <th>Maximum Population</th>\n",
       "      <th>Year of Maximum Population</th>\n",
       "    </tr>\n",
       "  </thead>\n",
       "  <tbody>\n",
       "    <tr>\n",
       "      <th>0</th>\n",
       "      <td>1</td>\n",
       "      <td>Shanghai</td>\n",
       "      <td>22315474</td>\n",
       "      <td>2010</td>\n",
       "    </tr>\n",
       "    <tr>\n",
       "      <th>1</th>\n",
       "      <td>2</td>\n",
       "      <td>Istanbul</td>\n",
       "      <td>13710512</td>\n",
       "      <td>2012</td>\n",
       "    </tr>\n",
       "    <tr>\n",
       "      <th>2</th>\n",
       "      <td>3</td>\n",
       "      <td>Delhi</td>\n",
       "      <td>12877470</td>\n",
       "      <td>2001</td>\n",
       "    </tr>\n",
       "    <tr>\n",
       "      <th>3</th>\n",
       "      <td>4</td>\n",
       "      <td>Mumbai</td>\n",
       "      <td>12442373</td>\n",
       "      <td>2011</td>\n",
       "    </tr>\n",
       "    <tr>\n",
       "      <th>4</th>\n",
       "      <td>5</td>\n",
       "      <td>Moskva</td>\n",
       "      <td>11979529</td>\n",
       "      <td>2013</td>\n",
       "    </tr>\n",
       "    <tr>\n",
       "      <th>5</th>\n",
       "      <td>6</td>\n",
       "      <td>Beijing</td>\n",
       "      <td>11716620</td>\n",
       "      <td>2010</td>\n",
       "    </tr>\n",
       "    <tr>\n",
       "      <th>6</th>\n",
       "      <td>7</td>\n",
       "      <td>São Paulo</td>\n",
       "      <td>11152344</td>\n",
       "      <td>2010</td>\n",
       "    </tr>\n",
       "    <tr>\n",
       "      <th>7</th>\n",
       "      <td>8</td>\n",
       "      <td>Tianjin</td>\n",
       "      <td>11090314</td>\n",
       "      <td>2010</td>\n",
       "    </tr>\n",
       "    <tr>\n",
       "      <th>8</th>\n",
       "      <td>9</td>\n",
       "      <td>Guangzhou</td>\n",
       "      <td>11071424</td>\n",
       "      <td>2010</td>\n",
       "    </tr>\n",
       "    <tr>\n",
       "      <th>9</th>\n",
       "      <td>10</td>\n",
       "      <td>Shenzhen</td>\n",
       "      <td>10358381</td>\n",
       "      <td>2010</td>\n",
       "    </tr>\n",
       "  </tbody>\n",
       "</table>\n",
       "</div>"
      ],
      "text/plain": [
       "   Rank       City  Maximum Population  Year of Maximum Population\n",
       "0     1   Shanghai            22315474                        2010\n",
       "1     2   Istanbul            13710512                        2012\n",
       "2     3      Delhi            12877470                        2001\n",
       "3     4     Mumbai            12442373                        2011\n",
       "4     5     Moskva            11979529                        2013\n",
       "5     6    Beijing            11716620                        2010\n",
       "6     7  São Paulo            11152344                        2010\n",
       "7     8    Tianjin            11090314                        2010\n",
       "8     9  Guangzhou            11071424                        2010\n",
       "9    10   Shenzhen            10358381                        2010"
      ]
     },
     "execution_count": 100,
     "metadata": {},
     "output_type": "execute_result"
    }
   ],
   "source": [
    "df22 = df2.sort_values([\"City\", \"Population\"], ascending=False).groupby(\"City\").head(1)\n",
    "df22 = df22.rename(columns = {'Population':'Maximum Population', 'Year': 'Year of Maximum Population'})\n",
    "df22 = df22.sort_values(\"Maximum Population\", ascending=False).reset_index(drop=True)\n",
    "df22[\"Rank\"] = np.arange(1, len(df22)+1)\n",
    "df22[[\"Rank\", \"City\", \"Maximum Population\", \"Year of Maximum Population\"]].head(10)"
   ]
  },
  {
   "cell_type": "markdown",
   "metadata": {},
   "source": [
    "The two tables are very much similar, except for shift in position for Delhi. Delhi's population decreased from 2001 to 2011 while all other top cities population are maximum at latest years. "
   ]
  },
  {
   "cell_type": "markdown",
   "metadata": {},
   "source": [
    "## 10 ethnic groups with the largest overall populations"
   ]
  },
  {
   "cell_type": "markdown",
   "metadata": {},
   "source": [
    "We know the percentages of various ethnic groups in all countries. We also know the \"latest\" population of all countries. Knowing these two information, we can canculate the population of all ethnic groups in all countries. We can then sum the population for each ethnic group over all countries. "
   ]
  },
  {
   "cell_type": "code",
   "execution_count": 109,
   "metadata": {
    "collapsed": false
   },
   "outputs": [
    {
     "data": {
      "text/html": [
       "<div>\n",
       "<table border=\"1\" class=\"dataframe\">\n",
       "  <thead>\n",
       "    <tr style=\"text-align: right;\">\n",
       "      <th></th>\n",
       "      <th>Rank</th>\n",
       "      <th>Ethnic Group</th>\n",
       "      <th>Population</th>\n",
       "    </tr>\n",
       "  </thead>\n",
       "  <tbody>\n",
       "    <tr>\n",
       "      <th>0</th>\n",
       "      <td>1</td>\n",
       "      <td>Han Chinese</td>\n",
       "      <td>1245058800</td>\n",
       "    </tr>\n",
       "    <tr>\n",
       "      <th>1</th>\n",
       "      <td>2</td>\n",
       "      <td>Indo-Aryan</td>\n",
       "      <td>871815583</td>\n",
       "    </tr>\n",
       "    <tr>\n",
       "      <th>2</th>\n",
       "      <td>3</td>\n",
       "      <td>European</td>\n",
       "      <td>494872201</td>\n",
       "    </tr>\n",
       "    <tr>\n",
       "      <th>3</th>\n",
       "      <td>4</td>\n",
       "      <td>African</td>\n",
       "      <td>318325104</td>\n",
       "    </tr>\n",
       "    <tr>\n",
       "      <th>4</th>\n",
       "      <td>5</td>\n",
       "      <td>Dravidian</td>\n",
       "      <td>302713744</td>\n",
       "    </tr>\n",
       "    <tr>\n",
       "      <th>5</th>\n",
       "      <td>6</td>\n",
       "      <td>Mestizo</td>\n",
       "      <td>157734349</td>\n",
       "    </tr>\n",
       "    <tr>\n",
       "      <th>6</th>\n",
       "      <td>7</td>\n",
       "      <td>Bengali</td>\n",
       "      <td>146776916</td>\n",
       "    </tr>\n",
       "    <tr>\n",
       "      <th>7</th>\n",
       "      <td>8</td>\n",
       "      <td>Russian</td>\n",
       "      <td>131856989</td>\n",
       "    </tr>\n",
       "    <tr>\n",
       "      <th>8</th>\n",
       "      <td>9</td>\n",
       "      <td>Japanese</td>\n",
       "      <td>126534212</td>\n",
       "    </tr>\n",
       "    <tr>\n",
       "      <th>9</th>\n",
       "      <td>10</td>\n",
       "      <td>Malay</td>\n",
       "      <td>121993548</td>\n",
       "    </tr>\n",
       "  </tbody>\n",
       "</table>\n",
       "</div>"
      ],
      "text/plain": [
       "   Rank Ethnic Group  Population\n",
       "0     1  Han Chinese  1245058800\n",
       "1     2   Indo-Aryan   871815583\n",
       "2     3     European   494872201\n",
       "3     4      African   318325104\n",
       "4     5    Dravidian   302713744\n",
       "5     6      Mestizo   157734349\n",
       "6     7      Bengali   146776916\n",
       "7     8      Russian   131856989\n",
       "8     9     Japanese   126534212\n",
       "9    10        Malay   121993548"
      ]
     },
     "execution_count": 109,
     "metadata": {},
     "output_type": "execute_result"
    }
   ],
   "source": [
    "ethname = []\n",
    "ethpop = []\n",
    "for x in document.findall(\"country\"):\n",
    "    pl = []\n",
    "    yr = []\n",
    "    for pr in x.findall(\"population\"):\n",
    "        pl.append(float(pr.text))\n",
    "        yr.append(int(pr.get(\"year\")))\n",
    "    pop = pl[yr.index(max(yr))] # Population at latest year\n",
    "    for eth in x.findall(\"ethnicgroup\"):\n",
    "        ethname.append(eth.text)\n",
    "        ethpop.append(float(eth.get(\"percentage\"))*pop/100)\n",
    "df3 = pd.DataFrame({\"Ethnic Group\": ethname, \"Population\": ethpop})\n",
    "df3[\"Population\"] = df3[\"Population\"].astype(int)\n",
    "df3 = df3.groupby(\"Ethnic Group\")[\"Population\"].sum().reset_index()\n",
    "df3 = df3.sort_values(\"Population\", ascending=False).reset_index(drop=True)\n",
    "df3[\"Rank\"] = np.arange(1, len(df3)+1)\n",
    "df3[[\"Rank\", \"Ethnic Group\", \"Population\"]].head(10)"
   ]
  },
  {
   "cell_type": "markdown",
   "metadata": {},
   "source": [
    "## Name and country of the longest river"
   ]
  },
  {
   "cell_type": "markdown",
   "metadata": {},
   "source": [
    "For the final question, let us explore river, lake and airport!"
   ]
  },
  {
   "cell_type": "code",
   "execution_count": 110,
   "metadata": {
    "collapsed": false
   },
   "outputs": [
    {
     "data": {
      "text/plain": [
       "'<?xml version=\"1.0\" ?>\\n<river country=\"IS\" id=\"river-Thjorsa\">\\n\\t\\n      \\n\\t<name>Thjorsa</name>\\n\\t\\n      \\n\\t<to water=\"sea-Atlantic\" watertype=\"sea\"/>\\n\\t\\n      \\n\\t<area>7530</area>\\n\\t\\n      \\n\\t<length>230</length>\\n\\t\\n      \\n\\t<source country=\"IS\">\\n\\t\\t\\n         \\n\\t\\t<latitude>65</latitude>\\n\\t\\t\\n         \\n\\t\\t<longitude>-18</longitude>\\n\\t\\t\\n      \\n\\t</source>\\n\\t\\n      \\n\\t<estuary country=\"IS\">\\n\\t\\t\\n         \\n\\t\\t<latitude>63.9</latitude>\\n\\t\\t\\n         \\n\\t\\t<longitude>-20.8</longitude>\\n\\t\\t\\n      \\n\\t</estuary>\\n\\t\\n   \\n</river>\\n'"
      ]
     },
     "execution_count": 110,
     "metadata": {},
     "output_type": "execute_result"
    }
   ],
   "source": [
    "minidom.parseString(ET.tostring(document.getiterator(\"river\")[0], 'utf-8')).toprettyxml(indent=\"\\t\")"
   ]
  },
  {
   "cell_type": "markdown",
   "metadata": {},
   "source": [
    "This is an example of the first river mentioned in the tree. It has information on river name, its length and country (this possibly has the names of countries through which this river flows)."
   ]
  },
  {
   "cell_type": "code",
   "execution_count": 111,
   "metadata": {
    "collapsed": false
   },
   "outputs": [
    {
     "name": "stdout",
     "output_type": "stream",
     "text": [
      "Longest river (based on available data) is Amazonas with length =  6448.0 located in CO BR PE\n"
     ]
    }
   ],
   "source": [
    "#4a\n",
    "rivername = []\n",
    "riverlength = []\n",
    "country = []\n",
    "for rie in document.findall(\"river\"):\n",
    "    rivername.append(rie.find(\"name\").text)\n",
    "    country.append(rie.get(\"country\"))\n",
    "    rle = rie.find(\"length\")\n",
    "    if rle is None:\n",
    "        riverlength.append(np.nan)\n",
    "    else:\n",
    "        riverlength.append(rle.text)\n",
    "df_river = pd.DataFrame({\"River\": rivername, \"Country\": country, \"Length\": riverlength})\n",
    "df_river[\"Length\"] = df_river[\"Length\"].fillna(0).astype(float)\n",
    "df_river = df_river.sort_values(\"Length\", ascending=False).reset_index(drop=True)\n",
    "print(\"Longest river (based on available data) is\", df_river.River[0], \"with length = \", \n",
    "      df_river.Length[0], \"located in\", df_river[\"Country\"][0])"
   ]
  },
  {
   "cell_type": "markdown",
   "metadata": {},
   "source": [
    "There is an issue here with the country name, they are coming out as codes. We need to first map these codes to their actual names. Lets first do that using the \"car_code\" attribute in all country elements. "
   ]
  },
  {
   "cell_type": "code",
   "execution_count": 136,
   "metadata": {
    "collapsed": false
   },
   "outputs": [],
   "source": [
    "contlist = []\n",
    "codelist = []\n",
    "for ce in document.iterfind('country'): # Loop through all \"country\" elements\n",
    "    contlist.append(ce.find(\"name\").text) # store country name\n",
    "    codelist.append(ce.get(\"car_code\")) # store country code\n",
    "    #country_map.append(dict(\"Code\": ce.get(\"car_code\"), \"Country\": ce.find(\"name\").text))\n",
    "country_map = pd.DataFrame({\"Code\": codelist, \"Country\": contlist}) \n",
    "country_map = country_map.set_index(\"Code\")"
   ]
  },
  {
   "cell_type": "code",
   "execution_count": 144,
   "metadata": {
    "collapsed": false
   },
   "outputs": [
    {
     "data": {
      "text/plain": [
       "['Colombia', 'Brazil', 'Peru']"
      ]
     },
     "execution_count": 144,
     "metadata": {},
     "output_type": "execute_result"
    }
   ],
   "source": [
    "list(country_map.loc[df_river[\"Country\"][0].split(sep=\" \")].Country)"
   ]
  },
  {
   "cell_type": "code",
   "execution_count": 145,
   "metadata": {
    "collapsed": false
   },
   "outputs": [
    {
     "name": "stdout",
     "output_type": "stream",
     "text": [
      "Longest river (based on available data) is Amazonas with length =  6448.0 located in ['Colombia', 'Brazil', 'Peru']\n"
     ]
    }
   ],
   "source": [
    "print(\"Longest river (based on available data) is\", df_river.River[0], \"with length = \", \n",
    "      df_river.Length[0], \"located in\", list(country_map.loc[df_river[\"Country\"][0].split(sep=\" \")].Country))"
   ]
  },
  {
   "cell_type": "markdown",
   "metadata": {},
   "source": [
    "## Name and country of the largest lake"
   ]
  },
  {
   "cell_type": "markdown",
   "metadata": {},
   "source": [
    "Similarly, we can find information about lakes."
   ]
  },
  {
   "cell_type": "code",
   "execution_count": 146,
   "metadata": {
    "collapsed": false
   },
   "outputs": [
    {
     "data": {
      "text/plain": [
       "'<?xml version=\"1.0\" ?>\\n<lake country=\"SF\" id=\"lake-Inarisee\">\\n\\t\\n      \\n\\t<name>Inari</name>\\n\\t\\n      \\n\\t<located country=\"SF\" province=\"lteil-LAP-SF\"/>\\n\\t\\n      \\n\\t<to water=\"river-Paatsjoki\" watertype=\"river\"/>\\n\\t\\n      \\n\\t<area>1040</area>\\n\\t\\n      \\n\\t<latitude>68.95</latitude>\\n\\t\\n      \\n\\t<longitude>27.7</longitude>\\n\\t\\n      \\n\\t<elevation>119</elevation>\\n\\t\\n      \\n\\t<depth>92</depth>\\n\\t\\n   \\n</lake>\\n'"
      ]
     },
     "execution_count": 146,
     "metadata": {},
     "output_type": "execute_result"
    }
   ],
   "source": [
    "minidom.parseString(ET.tostring(document.getiterator(\"lake\")[0], 'utf-8')).toprettyxml(indent=\"\\t\")"
   ]
  },
  {
   "cell_type": "markdown",
   "metadata": {},
   "source": [
    "Knowing the area of all lakes, we can rank them based on largest area."
   ]
  },
  {
   "cell_type": "code",
   "execution_count": 147,
   "metadata": {
    "collapsed": false
   },
   "outputs": [
    {
     "name": "stdout",
     "output_type": "stream",
     "text": [
      "Largest lake (based on available data) is Caspian Sea with area =  386400.0 located in ['Russia', 'Azerbaijan', 'Kazakhstan', 'Iran', 'Turkmenistan']\n"
     ]
    }
   ],
   "source": [
    "#4b\n",
    "lakename = []\n",
    "lakearea = []\n",
    "country = []\n",
    "for le in document.findall(\"lake\"):\n",
    "    lakename.append(le.find(\"name\").text)\n",
    "    country.append(le.get(\"country\"))\n",
    "    lae = le.find(\"area\")\n",
    "    if lae is None:\n",
    "        lakearea.append(np.nan)\n",
    "    else:\n",
    "        lakearea.append(lae.text)\n",
    "df_lake = pd.DataFrame({\"Lake\": lakename, \"Country\": country, \"Area\": lakearea})\n",
    "df_lake[\"Area\"] = df_lake[\"Area\"].fillna(0).astype(float)\n",
    "df_lake = df_lake.sort_values(\"Area\", ascending=False).reset_index(drop=True)\n",
    "print(\"Largest lake (based on available data) is\", df_lake.Lake[0], \"with area = \", \n",
    "      df_lake.Area[0], \"located in\", list(country_map.loc[df_lake[\"Country\"][0].split(sep=\" \")].Country))"
   ]
  },
  {
   "cell_type": "markdown",
   "metadata": {},
   "source": [
    "This is interesting because the name suggests that it is sea but actually its a lake! For more information (and fun), read [this](http://www.thenational.ae/business/industry-insights/energy/lake-or-sea-a-tricky-question-for-the-caspian)."
   ]
  },
  {
   "cell_type": "markdown",
   "metadata": {},
   "source": [
    "## Name and country of the highest airport"
   ]
  },
  {
   "cell_type": "markdown",
   "metadata": {},
   "source": [
    "Finally, lets find out the highest airport in the world. Lets first quickly check the structure for airport element."
   ]
  },
  {
   "cell_type": "code",
   "execution_count": 148,
   "metadata": {
    "collapsed": false
   },
   "outputs": [
    {
     "data": {
      "text/plain": [
       "'<?xml version=\"1.0\" ?>\\n<airport city=\"cty-Afghanistan-2\" country=\"AFG\" iatacode=\"HEA\">\\n\\t\\n      \\n\\t<name>Herat</name>\\n\\t\\n      \\n\\t<latitude>34.210017</latitude>\\n\\t\\n      \\n\\t<longitude>62.2283</longitude>\\n\\t\\n      \\n\\t<elevation>977</elevation>\\n\\t\\n      \\n\\t<gmtOffset>5</gmtOffset>\\n\\t\\n   \\n</airport>\\n'"
      ]
     },
     "execution_count": 148,
     "metadata": {},
     "output_type": "execute_result"
    }
   ],
   "source": [
    "minidom.parseString(ET.tostring(document.getiterator(\"airport\")[0], 'utf-8')).toprettyxml(indent=\"\\t\")"
   ]
  },
  {
   "cell_type": "markdown",
   "metadata": {},
   "source": [
    "We can focus on airport name and elevation here."
   ]
  },
  {
   "cell_type": "code",
   "execution_count": 149,
   "metadata": {
    "collapsed": false
   },
   "outputs": [
    {
     "name": "stdout",
     "output_type": "stream",
     "text": [
      "Highest elevated airport (based on avaialble data) is El Alto Intl with elevation =  4063.0 located in Country    Bolivia\n",
      "Name: BOL, dtype: object\n"
     ]
    }
   ],
   "source": [
    "#4c\n",
    "airportname = []\n",
    "airportelev = []\n",
    "country = []\n",
    "for ae in document.findall(\"airport\"):\n",
    "    airportname.append(ae.find(\"name\").text)\n",
    "    country.append(ae.get(\"country\"))\n",
    "    aee = ae.find(\"elevation\")\n",
    "    if aee is None:\n",
    "        airportelev.append(np.nan)\n",
    "    else:\n",
    "        airportelev.append(aee.text)\n",
    "df_airport = pd.DataFrame({\"Airport\": airportname, \"Country\": country, \"Elevation\": airportelev})\n",
    "df_airport[\"Elevation\"] = df_airport[\"Elevation\"].fillna(0).astype(float)\n",
    "df_airport = df_airport.sort_values(\"Elevation\", ascending=False).reset_index(drop=True)\n",
    "print(\"Highest elevated airport (based on avaialble data) is\", df_airport.Airport[0], \"with elevation = \", \n",
    "      df_airport.Elevation[0], \"located in\", country_map.loc[df_airport.Country[0]])"
   ]
  }
 ],
 "metadata": {
  "kernelspec": {
   "display_name": "Python 3",
   "language": "python",
   "name": "python3"
  },
  "language_info": {
   "codemirror_mode": {
    "name": "ipython",
    "version": 3
   },
   "file_extension": ".py",
   "mimetype": "text/x-python",
   "name": "python",
   "nbconvert_exporter": "python",
   "pygments_lexer": "ipython3",
   "version": "3.6.0"
  }
 },
 "nbformat": 4,
 "nbformat_minor": 0
}
